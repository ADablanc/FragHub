{
 "cells": [
  {
   "cell_type": "code",
   "execution_count": 1,
   "id": "initial_id",
   "metadata": {
    "collapsed": true,
    "ExecuteTime": {
     "end_time": "2023-12-13T08:27:19.394270200Z",
     "start_time": "2023-12-13T08:27:19.010555400Z"
    }
   },
   "outputs": [],
   "source": [
    "from FragHub.scripts.parsers import msp_parser"
   ]
  },
  {
   "cell_type": "code",
   "execution_count": 2,
   "outputs": [],
   "source": [
    "msp_path = r\"C:\\Users\\Axel\\Documents\\PYTHON\\MSP_V3\\FragHub\\INPUT\\MSP\\TEST.msp\""
   ],
   "metadata": {
    "collapsed": false,
    "ExecuteTime": {
     "end_time": "2023-12-13T08:27:19.409631400Z",
     "start_time": "2023-12-13T08:27:19.396927500Z"
    }
   },
   "id": "c657e82f51e78395"
  },
  {
   "cell_type": "code",
   "execution_count": 3,
   "outputs": [],
   "source": [
    "spectrum_list = msp_parser(msp_path)"
   ],
   "metadata": {
    "collapsed": false,
    "ExecuteTime": {
     "end_time": "2023-12-13T08:27:19.441109700Z",
     "start_time": "2023-12-13T08:27:19.410633400Z"
    }
   },
   "id": "471a5f6902cc2fee"
  },
  {
   "cell_type": "code",
   "execution_count": 4,
   "outputs": [
    {
     "name": "stdout",
     "output_type": "stream",
     "text": [
      "[                               FRAGHUBID        Name           Synon  \\\n",
      "0   8a22c04a-a27f-415d-a912-30c4a61aa129   1-Kestose   $:00in-source   \n",
      "\n",
      "            DB                      InChIKey Spectrum_type Ion_mode  \\\n",
      "0   MoNA001675   VAWYEUIPHLMNNF-OESPXIITSA-N           MS2        P   \n",
      "\n",
      "      Formula    MW       ExactMass  ...   sample introduction  \\\n",
      "0   C18H32O16   504   504.169034944  ...  Direct Infusion (DI)   \n",
      "\n",
      "                      ionization               author  \\\n",
      "0  Electrospray Ionization (ESI)  Biswapriya B. Misra   \n",
      "\n",
      "  computed spectral entropy computed normalized entropy  \\\n",
      "0        1.0397207708399179           0.946394630357186   \n",
      "\n",
      "                                          SPLASH  \\\n",
      "0  splash10-0a4i-0003090000-d95999e0141df8aa4d9e   \n",
      "\n",
      "                                           submitter MoNA Rating Num Peaks  \\\n",
      "0  submitter = Biswapriya Misra (Wake Forest Scho...         2.5         5   \n",
      "\n",
      "                                           peak_list  \n",
      "0        mz   intensity\n",
      "0  387.3   50.000000\n",
      "1  3...  \n",
      "\n",
      "[1 rows x 41 columns],                                FRAGHUBID             NAME PRECURSORMZ  \\\n",
      "0   d73ea3b8-d924-441c-92bc-9eeed3c83032   Deoxynivalenol    297.1327   \n",
      "\n",
      "  PRECURSORTYPE    FORMULA                      INCHIKEY  \\\n",
      "0        [M+H]+   C15H20O6   LINOMUASTDIRTM-QGRHZQQGSA-N   \n",
      "\n",
      "                                               INCHI  \\\n",
      "0   InChI=1S/C15H20O6/c1-7-3-9-14(5-16,11(19)10(7...   \n",
      "\n",
      "                                              SMILES RETENTIONTIME  \\\n",
      "0   CC1=C[C@@H]2[C@]([C@@H](C1=O)O)([C@]3(C[C@H](...           2.3   \n",
      "\n",
      "  INSTRUMENTTYPE                              INSTRUMENT    IONMODE  \\\n",
      "0    LC-ESI-ITFT   Q-Exactive Orbitrap Thermo Scientific   Positive   \n",
      "\n",
      "                                               LINKS                   DB  \\\n",
      "0   INCHIKEY:LINOMUASTDIRTM-QGRHZQQGSA-N; CAS:514...  MSBNK-AAFC-AC000114   \n",
      "\n",
      "     origin                                          Splash Num Peaks  \\\n",
      "0  MassBank   splash10-004i-3900000000-5707a3b21fa2abb0a031       112   \n",
      "\n",
      "                                           peak_list  \n",
      "0           mz          intensity\n",
      "0   55.0186   1...  ]\n"
     ]
    }
   ],
   "source": [
    "print(spectrum_list)"
   ],
   "metadata": {
    "collapsed": false,
    "ExecuteTime": {
     "end_time": "2023-12-13T08:27:19.454723300Z",
     "start_time": "2023-12-13T08:27:19.442133500Z"
    }
   },
   "id": "33abdde9d9c61a93"
  },
  {
   "cell_type": "code",
   "execution_count": 5,
   "outputs": [],
   "source": [
    "compteur = 1\n",
    "for spectrum in spectrum_list:\n",
    "    spectrum.to_excel(rf\"C:\\Users\\Axel\\Documents\\PYTHON\\MSP_V3\\FragHub\\OUTPUT\\MSP\\test_{compteur}.xlsx\",index=False)\n",
    "    compteur += 1"
   ],
   "metadata": {
    "collapsed": false,
    "ExecuteTime": {
     "end_time": "2023-12-13T08:27:19.579917500Z",
     "start_time": "2023-12-13T08:27:19.454723300Z"
    }
   },
   "id": "38165b6f701326ad"
  }
 ],
 "metadata": {
  "kernelspec": {
   "display_name": "Python 3",
   "language": "python",
   "name": "python3"
  },
  "language_info": {
   "codemirror_mode": {
    "name": "ipython",
    "version": 2
   },
   "file_extension": ".py",
   "mimetype": "text/x-python",
   "name": "python",
   "nbconvert_exporter": "python",
   "pygments_lexer": "ipython2",
   "version": "2.7.6"
  }
 },
 "nbformat": 4,
 "nbformat_minor": 5
}
