{
 "cells": [
  {
   "cell_type": "code",
   "execution_count": 6,
   "id": "initial_id",
   "metadata": {
    "collapsed": true,
    "ExecuteTime": {
     "end_time": "2023-12-13T08:17:11.674389300Z",
     "start_time": "2023-12-13T08:17:11.659608300Z"
    }
   },
   "outputs": [],
   "source": [
    "from FragHub.scripts.parsers import msp_parser"
   ]
  },
  {
   "cell_type": "code",
   "execution_count": 7,
   "outputs": [],
   "source": [
    "msp_path = r\"C:\\Users\\Axel\\Documents\\PYTHON\\MSP_V3\\FragHub\\INPUT\\MSP\\TEST.msp\""
   ],
   "metadata": {
    "collapsed": false,
    "ExecuteTime": {
     "end_time": "2023-12-13T08:17:11.691697700Z",
     "start_time": "2023-12-13T08:17:11.674389300Z"
    }
   },
   "id": "c657e82f51e78395"
  },
  {
   "cell_type": "code",
   "execution_count": 8,
   "outputs": [
    {
     "name": "stdout",
     "output_type": "stream",
     "text": [
      "[('FRAGHUBID', ' 8a22c04a-a27f-415d-a912-30c4a61aa129', '\\n'), ('Name', ' 1-Kestose', '\\n'), ('Synon', ' $:00in-source', '\\n'), ('DB#', ' MoNA001675', '\\n'), ('InChIKey', ' VAWYEUIPHLMNNF-OESPXIITSA-N', '\\n'), ('Spectrum_type', ' MS2', '\\n'), ('Ion_mode', ' P', '\\n'), ('Formula', ' C18H32O16', '\\n'), ('MW', ' 504', '\\n'), ('ExactMass', ' 504.169034944', '\\n'), ('computed [M+Cl]-', '539.622034944'), ('InChI', 'InChI=1S/C18H32O16/c19-1-6-9(23)12(26)13(27)16(31-6)34-18(15(29)11(25)8(3-21)33-18)5-30-17(4-22)14(28)10(24)7(2-20)32-17/h6-16,19-29H,1-5H2/t6-,7-,8-,9-,10-,11-,12+,13-,14+,15+,16-,17-,18+/m1/s1'), ('computed SMILES', 'OCC1OC(OC2(OC(CO)C(O)C2O)COC3(OC(CO)C(O)C3O)CO)C(O)C(O)C1O'), ('computed [2M+H-H2O]+', '991.3306998879999'), ('computed [2M+K]+', '1047.436369888'), ('computed [M+H]+', '505.177004944'), ('computed [2M+Na]+', '1031.327839888'), ('computed [2M+Cl]-', '1043.791069888'), ('computed [2M+HAc-H]-', '1067.3820998879999'), ('computed [M-H20-H]-', '485.15064494399996'), ('computed [M-H]-', '503.161758944'), ('computed [2M-H]-', '1007.3307938879999'), ('computed [M+Na]+', '527.1588049439999'), ('computed [M+H-H2O]+', '487.161664944'), ('computed [2M+NH4]+', '1026.376649888'), ('computed [M+NH4]+', '522.2076149439999'), ('computed [M+K]+', '543.267334944'), ('computed [2M+H]+', '1009.346039888'), ('computed [M+HAc-H]-', '563.2130649439999'), ('rtinseconds', '0.005'), ('pepmass', '505.0'), ('sample introduction', 'Direct Infusion (DI)'), ('ionization', 'Electrospray Ionization (ESI)'), ('author', 'Biswapriya B. Misra'), ('computed spectral entropy', '1.0397207708399179'), ('computed normalized entropy', '0.946394630357186'), ('SPLASH', 'splash10-0a4i-0003090000-d95999e0141df8aa4d9e'), ('submitter', 'submitter = Biswapriya Misra (Wake Forest School of Medicine)'), ('MoNA Rating', '2.5'), ('Num Peaks', ' 5', '\\n')]\n",
      "[('\\nFRAGHUBID', ' d73ea3b8-d924-441c-92bc-9eeed3c83032', '\\n'), ('NAME ', ' Deoxynivalenol', '\\n'), ('PRECURSORMZ', ' 297.1327', '\\n'), ('PRECURSORTYPE', ' [M+H]+', '\\n'), ('FORMULA', ' C15H20O6', '\\n'), ('INCHIKEY', ' LINOMUASTDIRTM-QGRHZQQGSA-N', '\\n'), ('INCHI', ' InChI=1S/C15H20O6/c1-7-3-9-14(5-16,11(19)10(7)18)13(2)4-8(17)12(21-9)15(13)6-20-15/h3,8-9,11-12,16-17,19H,4-6H2,1-2H3/t8-,9-,11-,12-,13-,14-,15+/m1/s1', '\\n'), ('SMILES', ' CC1=C[C@@H]2[C@]([C@@H](C1=O)O)([C@]3(C[C@H]([C@H]([C@@]34CO4)O2)O)C)CO', '\\n'), ('RETENTIONTIME', ' 2.3', '\\n'), ('INSTRUMENTTYPE', ' LC-ESI-ITFT', '\\n'), ('INSTRUMENT', ' Q-Exactive Orbitrap Thermo Scientific', '\\n'), ('IONMODE', ' Positive', '\\n'), ('LINKS', ' INCHIKEY:LINOMUASTDIRTM-QGRHZQQGSA-N; CAS:51481-10-8; PUBCHEM:CID:40024; CHEMSPIDER:36584; KNAPSACK:C00003201; COMPTOX:DTXSID3020382', '\\n'), ('DB#', 'MSBNK-AAFC-AC000114', ';'), ('origin', 'MassBank', ';'), ('Splash', ' splash10-004i-3900000000-5707a3b21fa2abb0a031', '\\n'), ('Num Peaks', ' 112', '\\n')]\n"
     ]
    }
   ],
   "source": [
    "spectrum_list = msp_parser(msp_path)"
   ],
   "metadata": {
    "collapsed": false,
    "ExecuteTime": {
     "end_time": "2023-12-13T08:17:11.705448500Z",
     "start_time": "2023-12-13T08:17:11.690590100Z"
    }
   },
   "id": "471a5f6902cc2fee"
  },
  {
   "cell_type": "code",
   "execution_count": 9,
   "outputs": [
    {
     "name": "stdout",
     "output_type": "stream",
     "text": [
      "[                               FRAGHUBID        Name           Synon  \\\n",
      "0   8a22c04a-a27f-415d-a912-30c4a61aa129   1-Kestose   $:00in-source   \n",
      "\n",
      "            DB                      InChIKey Spectrum_type Ion_mode  \\\n",
      "0   MoNA001675   VAWYEUIPHLMNNF-OESPXIITSA-N           MS2        P   \n",
      "\n",
      "      Formula    MW       ExactMass  ...   sample introduction  \\\n",
      "0   C18H32O16   504   504.169034944  ...  Direct Infusion (DI)   \n",
      "\n",
      "                      ionization               author  \\\n",
      "0  Electrospray Ionization (ESI)  Biswapriya B. Misra   \n",
      "\n",
      "  computed spectral entropy computed normalized entropy  \\\n",
      "0        1.0397207708399179           0.946394630357186   \n",
      "\n",
      "                                          SPLASH  \\\n",
      "0  splash10-0a4i-0003090000-d95999e0141df8aa4d9e   \n",
      "\n",
      "                                           submitter MoNA Rating Num Peaks  \\\n",
      "0  submitter = Biswapriya Misra (Wake Forest Scho...         2.5         5   \n",
      "\n",
      "                                           peak_list  \n",
      "0        mz   intensity\n",
      "0  387.3   50.000000\n",
      "1  3...  \n",
      "\n",
      "[1 rows x 41 columns],                                FRAGHUBID             NAME PRECURSORMZ  \\\n",
      "0   d73ea3b8-d924-441c-92bc-9eeed3c83032   Deoxynivalenol    297.1327   \n",
      "\n",
      "  PRECURSORTYPE    FORMULA                      INCHIKEY  \\\n",
      "0        [M+H]+   C15H20O6   LINOMUASTDIRTM-QGRHZQQGSA-N   \n",
      "\n",
      "                                               INCHI  \\\n",
      "0   InChI=1S/C15H20O6/c1-7-3-9-14(5-16,11(19)10(7...   \n",
      "\n",
      "                                              SMILES RETENTIONTIME  \\\n",
      "0   CC1=C[C@@H]2[C@]([C@@H](C1=O)O)([C@]3(C[C@H](...           2.3   \n",
      "\n",
      "  INSTRUMENTTYPE                              INSTRUMENT    IONMODE  \\\n",
      "0    LC-ESI-ITFT   Q-Exactive Orbitrap Thermo Scientific   Positive   \n",
      "\n",
      "                                               LINKS                   DB  \\\n",
      "0   INCHIKEY:LINOMUASTDIRTM-QGRHZQQGSA-N; CAS:514...  MSBNK-AAFC-AC000114   \n",
      "\n",
      "     origin                                          Splash Num Peaks  \\\n",
      "0  MassBank   splash10-004i-3900000000-5707a3b21fa2abb0a031       112   \n",
      "\n",
      "                                           peak_list  \n",
      "0           mz          intensity\n",
      "0   55.0186   1...  ]\n"
     ]
    }
   ],
   "source": [
    "print(spectrum_list)"
   ],
   "metadata": {
    "collapsed": false,
    "ExecuteTime": {
     "end_time": "2023-12-13T08:17:11.757795300Z",
     "start_time": "2023-12-13T08:17:11.705448500Z"
    }
   },
   "id": "33abdde9d9c61a93"
  },
  {
   "cell_type": "code",
   "execution_count": 10,
   "outputs": [],
   "source": [
    "compteur = 1\n",
    "for spectrum in spectrum_list:\n",
    "    spectrum.to_excel(rf\"C:\\Users\\Axel\\Documents\\PYTHON\\MSP_V3\\FragHub\\OUTPUT\\MSP\\test_{compteur}.xlsx\",index=False)\n",
    "    compteur += 1"
   ],
   "metadata": {
    "collapsed": false,
    "ExecuteTime": {
     "end_time": "2023-12-13T08:17:11.783466700Z",
     "start_time": "2023-12-13T08:17:11.724431200Z"
    }
   },
   "id": "38165b6f701326ad"
  }
 ],
 "metadata": {
  "kernelspec": {
   "display_name": "Python 3",
   "language": "python",
   "name": "python3"
  },
  "language_info": {
   "codemirror_mode": {
    "name": "ipython",
    "version": 2
   },
   "file_extension": ".py",
   "mimetype": "text/x-python",
   "name": "python",
   "nbconvert_exporter": "python",
   "pygments_lexer": "ipython2",
   "version": "2.7.6"
  }
 },
 "nbformat": 4,
 "nbformat_minor": 5
}
