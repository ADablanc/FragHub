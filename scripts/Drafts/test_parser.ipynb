{
 "cells": [
  {
   "cell_type": "code",
   "execution_count": null,
   "id": "initial_id",
   "metadata": {
    "collapsed": true
   },
   "outputs": [],
   "source": [
    "from FragHub.scripts.msp_parsers import *\n",
    "import time"
   ]
  },
  {
   "cell_type": "code",
   "execution_count": null,
   "outputs": [],
   "source": [
    "start_time = time.time()"
   ],
   "metadata": {
    "collapsed": false
   },
   "id": "a27521b786a78998"
  },
  {
   "cell_type": "code",
   "execution_count": null,
   "outputs": [],
   "source": [
    "# generating filepath list\n",
    "spectrum_path_list = []\n",
    "MSP_path = os.path.abspath(r\"../../INPUT/MSP\")\n",
    "for files in os.listdir(MSP_path):\n",
    "    if files.endswith(\".msp\"):\n",
    "        spectrum_path_list.append(os.path.join(MSP_path,files))"
   ],
   "metadata": {
    "collapsed": false
   },
   "id": "c8c303ed95cb68bd"
  },
  {
   "cell_type": "code",
   "execution_count": null,
   "outputs": [],
   "source": [
    "spectrum_path_list = [spectrums for spectrums in spectrum_path_list if spectrums != None]"
   ],
   "metadata": {
    "collapsed": false
   },
   "id": "f2c983be63948dac"
  },
  {
   "cell_type": "code",
   "execution_count": null,
   "outputs": [],
   "source": [
    "for path in spectrum_path_list:\n",
    "    spectrum_list = load_spectrum_list(path)\n",
    "    print(\"spectrums loaded\")\n",
    "    spectrum_list = [spectrums for spectrums in spectrum_list if spectrums != None]\n",
    "    spectrum_list = msp_parsing_processing(spectrum_list)"
   ],
   "metadata": {
    "collapsed": false
   },
   "id": "a893945b3a76e65e"
  },
  {
   "cell_type": "code",
   "execution_count": null,
   "outputs": [],
   "source": [
    "print(spectrum_list)"
   ],
   "metadata": {
    "collapsed": false
   },
   "id": "33abdde9d9c61a93"
  },
  {
   "cell_type": "code",
   "execution_count": null,
   "outputs": [],
   "source": [
    "compteur = 1\n",
    "for spectrum in spectrum_list:\n",
    "    spectrum.to_excel(rf\"C:\\Users\\Axel\\Documents\\PYTHON\\MSP_V3\\FragHub\\OUTPUT\\MSP\\TEST\\test_{compteur}.xlsx\",index=False)\n",
    "    compteur += 1\n",
    "    break"
   ],
   "metadata": {
    "collapsed": false
   },
   "id": "38165b6f701326ad"
  },
  {
   "cell_type": "code",
   "execution_count": null,
   "outputs": [],
   "source": [
    "print(\"--- TOTAL TIME: %s ---\" % time.strftime(\"%H:%M:%S\", time.gmtime(time.time() - start_time)))"
   ],
   "metadata": {
    "collapsed": false
   },
   "id": "25c206e69db71336"
  }
 ],
 "metadata": {
  "kernelspec": {
   "display_name": "Python 3",
   "language": "python",
   "name": "python3"
  },
  "language_info": {
   "codemirror_mode": {
    "name": "ipython",
    "version": 2
   },
   "file_extension": ".py",
   "mimetype": "text/x-python",
   "name": "python",
   "nbconvert_exporter": "python",
   "pygments_lexer": "ipython2",
   "version": "2.7.6"
  }
 },
 "nbformat": 4,
 "nbformat_minor": 5
}
