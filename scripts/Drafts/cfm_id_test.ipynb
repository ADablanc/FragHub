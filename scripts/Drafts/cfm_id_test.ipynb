{
 "cells": [
  {
   "cell_type": "code",
   "execution_count": 14,
   "id": "initial_id",
   "metadata": {
    "collapsed": true,
    "ExecuteTime": {
     "end_time": "2023-11-20T11:05:52.788916700Z",
     "start_time": "2023-11-20T11:05:52.782164800Z"
    }
   },
   "outputs": [],
   "source": [
    "import pandas as pd"
   ]
  },
  {
   "cell_type": "code",
   "execution_count": 15,
   "outputs": [],
   "source": [
    "dataframe = pd.read_csv(r\"C:\\Users\\Axel\\Documents\\PYTHON\\MSP_V3\\FragHub\\cmf_id_test\\report.csv\",sep=',', quotechar=\"\\\"\", encoding=\"UTF-8\")"
   ],
   "metadata": {
    "collapsed": false,
    "ExecuteTime": {
     "end_time": "2023-11-20T11:05:53.630399400Z",
     "start_time": "2023-11-20T11:05:52.788916700Z"
    }
   },
   "id": "775fcb452137f4f2"
  },
  {
   "cell_type": "code",
   "execution_count": 16,
   "outputs": [
    {
     "name": "stdout",
     "output_type": "stream",
     "text": [
      "                                                    SMILES\n",
      "0        C=C1C[C@](OC)([C@H](O)C(O)=N[C@H]2OCO[C@H]3[C@...\n",
      "1              COc1cc2oc3c(O)ccc(O)c3c(=O)c2c(O)c1CC=C(C)C\n",
      "2        CC(=O)O[C@@H]([C@H]1C[C@@H]([C@@H]2CC=C3[C@@]2...\n",
      "3                                       CC1=CCC[C@@H](C)O1\n",
      "4        CC=C(C)C(=O)OC1CC[N+]2([O-])CC=C(COC(=O)C(O)(C...\n",
      "...                                                    ...\n",
      "1001730  COC(=CC(=O)O)C1C2=C3C(=C4C(=C2)C=CC(C)=C4O)O[H...\n",
      "1001731  CC1C(O)CC(N2C=CN=C2)C2C3CCC4CCC5CC#CC6=C(C=CC=...\n",
      "1001732  CC=C1CCC(C)(OC(C)=O)C(=O)OCC2(O)CC[NH]3(O)CCC(...\n",
      "1001733  COC1=C(OC)C=C2C(=C1)CC1C3=CC4=C(C=C3CC2[NH]1(C...\n",
      "1001734  COC1=C(O)C2=C(C=C1)CC1C3=C2C(OC)=C(OC)C=C3CC[N...\n",
      "\n",
      "[1001735 rows x 1 columns]\n"
     ]
    }
   ],
   "source": [
    "print(dataframe)"
   ],
   "metadata": {
    "collapsed": false,
    "ExecuteTime": {
     "end_time": "2023-11-20T11:05:53.647424400Z",
     "start_time": "2023-11-20T11:05:53.630399400Z"
    }
   },
   "id": "5b5d79a92e43dd80"
  },
  {
   "cell_type": "code",
   "execution_count": 17,
   "outputs": [],
   "source": [
    "liste_smiles = dataframe['SMILES'].tolist()"
   ],
   "metadata": {
    "collapsed": false,
    "ExecuteTime": {
     "end_time": "2023-11-20T11:05:53.687544300Z",
     "start_time": "2023-11-20T11:05:53.647424400Z"
    }
   },
   "id": "8deadb550499b3b"
  },
  {
   "cell_type": "code",
   "execution_count": 18,
   "outputs": [
    {
     "name": "stdout",
     "output_type": "stream",
     "text": [
      "['C=C1C[C@](OC)([C@H](O)C(O)=N[C@H]2OCO[C@H]3[C@@H]2O[C@H](C[C@@H](CO)OC)C(C)(C)[C@@H]3OC)O[C@H](C)[C@@H]1C', 'COc1cc2oc3c(O)ccc(O)c3c(=O)c2c(O)c1CC=C(C)C', 'CC(=O)O[C@@H]([C@H]1C[C@@H]([C@@H]2CC=C3[C@@]2(C)C[C@@H](O)[C@H]2[C@@]3(C)[C@H](O)[C@H](O)[C@H]3C(C)(C)C(=O)C=C[C@@]32C)[C@@H](OC(C)=O)O1)C(C)(C)OC(C)=O', 'CC1=CCC[C@@H](C)O1', 'CC=C(C)C(=O)OC1CC[N+]2([O-])CC=C(COC(=O)C(O)(C(C)OC)C(C)(C)O)C12', 'C[C@H]1C/C=C/[C@H]2[C@@H](O)[C@@H](C)[C@@H](C)[C@H]3[C@H](Cc4ccccc4)N=C(O)[C@@]23OC(=O)O/C=C/[C@@](C)(O)C1=O', 'CNC1CNC2(O)C(O)C(CO)(Oc3cc4c(c(-c5cccc(O)c5)c3)C3Oc5c(OC)c(OC)cc(C[NH2+]C)c5C3CO4)OC1(C(=O)O)C2O', 'O=C(O)[C@H]1[C@@H](O)CC[C@H]2CN3CCc4c([nH]c5ccccc45)[C@@H]3C[C@@H]21', 'CCCCCCCCCCCCCCCCCCCCC(=O)O[C@H](COC(=O)CCCCCCCCCCCCCCCCC)COC(=O)CCCCCCCCC(C)C', 'CSc1nc(=NC(C)C)[nH]c(=NC(C)C)[nH]1']\n"
     ]
    }
   ],
   "source": [
    "print(liste_smiles[0:10])"
   ],
   "metadata": {
    "collapsed": false,
    "ExecuteTime": {
     "end_time": "2023-11-20T11:05:53.697362Z",
     "start_time": "2023-11-20T11:05:53.687544300Z"
    }
   },
   "id": "98fbe4e48d5082bc"
  }
 ],
 "metadata": {
  "kernelspec": {
   "display_name": "Python 3",
   "language": "python",
   "name": "python3"
  },
  "language_info": {
   "codemirror_mode": {
    "name": "ipython",
    "version": 2
   },
   "file_extension": ".py",
   "mimetype": "text/x-python",
   "name": "python",
   "nbconvert_exporter": "python",
   "pygments_lexer": "ipython2",
   "version": "2.7.6"
  }
 },
 "nbformat": 4,
 "nbformat_minor": 5
}
