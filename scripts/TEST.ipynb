{
 "cells": [
  {
   "cell_type": "code",
   "execution_count": null,
   "outputs": [],
   "source": [
    "from msp_parsers import *\n",
    "from data_preparer import *\n",
    "from set_parameters import *\n",
    "import numpy as np\n",
    "import time\n",
    "import os"
   ],
   "metadata": {
    "collapsed": false
   },
   "id": "5c67debc548b6d3d"
  },
  {
   "cell_type": "code",
   "execution_count": null,
   "outputs": [],
   "source": [
    "# Execution de la fonction\n",
    "build_window()"
   ],
   "metadata": {
    "collapsed": false
   },
   "id": "60ecea49015a47df"
  },
  {
   "cell_type": "code",
   "execution_count": null,
   "outputs": [],
   "source": [
    "start_time = time.time()"
   ],
   "metadata": {
    "collapsed": false
   },
   "id": "ef85559c0003396c"
  },
  {
   "cell_type": "code",
   "execution_count": null,
   "outputs": [],
   "source": [
    "# generating filepath list\n",
    "spectrum_path_list = []\n",
    "MSP_path = os.path.abspath(r\"../INPUT/MSP\")\n",
    "for files in os.listdir(MSP_path):\n",
    "    if files.endswith(\".msp\"):\n",
    "        spectrum_path_list.append(os.path.join(MSP_path,files))"
   ],
   "metadata": {
    "collapsed": false
   },
   "id": "12bc3971cdc6cc9e"
  },
  {
   "cell_type": "code",
   "execution_count": null,
   "outputs": [],
   "source": [
    "spectrum_path_list = [spectrums for spectrums in spectrum_path_list if spectrums != None]"
   ],
   "metadata": {
    "collapsed": false
   },
   "id": "44a33dd9e14e26df"
  },
  {
   "cell_type": "code",
   "execution_count": null,
   "outputs": [],
   "source": [
    "for path in spectrum_path_list:\n",
    "    spectrum_list = load_spectrum_list(path)\n",
    "    break"
   ],
   "metadata": {
    "collapsed": false
   },
   "id": "6392f1d5d07b6ec5"
  },
  {
   "cell_type": "code",
   "execution_count": null,
   "outputs": [],
   "source": [
    "spectrum_list = msp_parsing_processing(spectrum_list)"
   ],
   "metadata": {
    "collapsed": false
   },
   "id": "d893660d74924e4f"
  },
  {
   "cell_type": "code",
   "execution_count": null,
   "outputs": [],
   "source": [
    "print(len(spectrum_list))"
   ],
   "metadata": {
    "collapsed": false
   },
   "id": "3cbb4d69912c21cd"
  },
  {
   "cell_type": "code",
   "execution_count": null,
   "outputs": [],
   "source": [
    "print(\"concat\")"
   ],
   "metadata": {
    "collapsed": false
   },
   "id": "eecec41da4f26691"
  },
  {
   "cell_type": "code",
   "execution_count": null,
   "outputs": [],
   "source": [
    "df = pd.concat(spectrum_list, ignore_index=True, copy=False)"
   ],
   "metadata": {
    "collapsed": false
   },
   "id": "7794b283a1f602c1"
  },
  {
   "cell_type": "code",
   "execution_count": null,
   "outputs": [],
   "source": [
    "print(\"writting soon\")"
   ],
   "metadata": {
    "collapsed": false
   },
   "id": "c24c316ac533a940"
  },
  {
   "cell_type": "code",
   "execution_count": null,
   "outputs": [],
   "source": [
    "chunk_size = 5000  # Taille de chaque fraction\n",
    "num_chunks = int(np.ceil(df.shape[0] / chunk_size))  # Calculer le nombre de fractions"
   ],
   "metadata": {
    "collapsed": false
   },
   "id": "8a6c4c00107097b6"
  },
  {
   "cell_type": "code",
   "execution_count": null,
   "outputs": [],
   "source": [
    "with tqdm(total=num_chunks, unit=\" row\", colour=\"green\", desc=\"\\t    writting\") as pbar:\n",
    "    for start in range(0, df.shape[0], chunk_size):\n",
    "        df_slice = df[start:start + chunk_size]\n",
    "        if start == 0:\n",
    "            # Écrire les en-têtes pour la première fraction\n",
    "            df_slice.to_csv(rf\"C:\\Users\\Axel\\PycharmProjects\\msp_v3\\OUTPUT\\MSP\\TEST\\test_mona_exp.csv\", mode='w', sep=\";\", quotechar='\"', encoding=\"UTF-8\", index=False)\n",
    "        else:\n",
    "            # Append dans le fichier sans écrire les en-têtes pour les autres fractions\n",
    "            df_slice.to_csv(rf\"C:\\Users\\Axel\\PycharmProjects\\msp_v3\\OUTPUT\\MSP\\TEST\\test_mona_exp.csv\", mode='a', sep=\";\", quotechar='\"', encoding=\"UTF-8\", index=False, header=False)\n",
    "\n",
    "        # Mettre à jour la barre de progression\n",
    "        pbar.update()"
   ],
   "metadata": {
    "collapsed": false
   },
   "id": "b4e0221fc05ad892"
  },
  {
   "cell_type": "code",
   "execution_count": null,
   "outputs": [],
   "source": [
    "print(\"--- TOTAL TIME: %s ---\" % time.strftime(\"%H:%M:%S\", time.gmtime(time.time() - start_time)))"
   ],
   "metadata": {
    "collapsed": false
   },
   "id": "14e080b1f93cdfb0"
  }
 ],
 "metadata": {
  "kernelspec": {
   "display_name": "Python 3",
   "language": "python",
   "name": "python3"
  },
  "language_info": {
   "codemirror_mode": {
    "name": "ipython",
    "version": 2
   },
   "file_extension": ".py",
   "mimetype": "text/x-python",
   "name": "python",
   "nbconvert_exporter": "python",
   "pygments_lexer": "ipython2",
   "version": "2.7.6"
  }
 },
 "nbformat": 4,
 "nbformat_minor": 5
}
