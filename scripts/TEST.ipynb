{
 "cells": [
  {
   "cell_type": "code",
   "execution_count": 1,
   "outputs": [],
   "source": [
    "from msp_parsers import *\n",
    "from data_preparer import *\n",
    "from set_parameters import *\n",
    "import numpy as np\n",
    "import time\n",
    "import os"
   ],
   "metadata": {
    "collapsed": false,
    "ExecuteTime": {
     "end_time": "2023-12-17T17:01:34.656703200Z",
     "start_time": "2023-12-17T17:01:34.469891800Z"
    }
   },
   "id": "5c67debc548b6d3d"
  },
  {
   "cell_type": "code",
   "execution_count": 2,
   "outputs": [],
   "source": [
    "ordered_columns = [\"FILENAME\",\n",
    "                   \"PREDICTED\",\n",
    "                   \"FRAGHUBID\",\n",
    "                   \"SPECTRUMID\",\n",
    "                   \"RESOLUTION\",\n",
    "                   \"SYNON\",\n",
    "                   \"CHARGE\",\n",
    "                   \"IONIZATION\",\n",
    "                   \"MSLEVEL\",\n",
    "                   \"FRAGMENTATIONMODE\",\n",
    "                   \"NAME\",\n",
    "                   \"PRECURSORMZ\",\n",
    "                   \"EXACTMASS\",\n",
    "                   \"AVERAGEMASS\",\n",
    "                   \"PRECURSORTYPE\",\n",
    "                   \"INSTRUMENTTYPE\",\n",
    "                   \"INSTRUMENT\",\n",
    "                   \"SMILES\",\n",
    "                   \"INCHI\",\n",
    "                   \"INCHIKEY\",\n",
    "                   \"COLLISIONENERGY\",\n",
    "                   \"FORMULA\",\n",
    "                   \"RETENTIONTIME\",\n",
    "                   \"IONMODE\",\n",
    "                   \"COMMENT\",\n",
    "                   \"NUM PEAKS\",\n",
    "                   \"peak_list\"]"
   ],
   "metadata": {
    "collapsed": false,
    "ExecuteTime": {
     "end_time": "2023-12-17T17:01:34.671188700Z",
     "start_time": "2023-12-17T17:01:34.656703200Z"
    }
   },
   "id": "222ed52ace04071d"
  },
  {
   "cell_type": "code",
   "execution_count": 3,
   "outputs": [],
   "source": [
    "# Execution de la fonction\n",
    "build_window()"
   ],
   "metadata": {
    "collapsed": false,
    "ExecuteTime": {
     "end_time": "2023-12-17T17:01:37.282960800Z",
     "start_time": "2023-12-17T17:01:34.658210200Z"
    }
   },
   "id": "60ecea49015a47df"
  },
  {
   "cell_type": "code",
   "execution_count": 4,
   "outputs": [],
   "source": [
    "start_time = time.time()"
   ],
   "metadata": {
    "collapsed": false,
    "ExecuteTime": {
     "end_time": "2023-12-17T17:01:37.289134Z",
     "start_time": "2023-12-17T17:01:37.283990300Z"
    }
   },
   "id": "ef85559c0003396c"
  },
  {
   "cell_type": "code",
   "execution_count": 5,
   "outputs": [],
   "source": [
    "# generating filepath list\n",
    "spectrum_path_list = []\n",
    "MSP_path = os.path.abspath(r\"../INPUT/MSP\")\n",
    "for files in os.listdir(MSP_path):\n",
    "    if files.endswith(\".msp\"):\n",
    "        spectrum_path_list.append(os.path.join(MSP_path,files))"
   ],
   "metadata": {
    "collapsed": false,
    "ExecuteTime": {
     "end_time": "2023-12-17T17:01:37.301205400Z",
     "start_time": "2023-12-17T17:01:37.287089700Z"
    }
   },
   "id": "12bc3971cdc6cc9e"
  },
  {
   "cell_type": "code",
   "execution_count": 6,
   "outputs": [],
   "source": [
    "spectrum_path_list = [spectrums for spectrums in spectrum_path_list if spectrums != None]"
   ],
   "metadata": {
    "collapsed": false,
    "ExecuteTime": {
     "end_time": "2023-12-17T17:01:37.307309500Z",
     "start_time": "2023-12-17T17:01:37.296567800Z"
    }
   },
   "id": "44a33dd9e14e26df"
  },
  {
   "cell_type": "code",
   "execution_count": 7,
   "outputs": [
    {
     "name": "stderr",
     "output_type": "stream",
     "text": [
      "\t     reading: 100%|\u001B[32m██████████\u001B[0m| 48526241/48526241 [00:08<00:00, 5447571.52 rows/s]\n"
     ]
    }
   ],
   "source": [
    "for path in spectrum_path_list:\n",
    "    spectrum_list = load_spectrum_list(path)\n",
    "    break"
   ],
   "metadata": {
    "collapsed": false,
    "ExecuteTime": {
     "end_time": "2023-12-17T17:01:49.364950500Z",
     "start_time": "2023-12-17T17:01:37.302731500Z"
    }
   },
   "id": "6392f1d5d07b6ec5"
  },
  {
   "cell_type": "code",
   "execution_count": 8,
   "outputs": [
    {
     "name": "stderr",
     "output_type": "stream",
     "text": [
      "\t  processing:   0%|\u001B[32m          \u001B[0m| 0/208830 [00:00<?, ? spectrums/s]\n"
     ]
    },
    {
     "ename": "ValueError",
     "evalue": "could not convert string to float: 'N'",
     "output_type": "error",
     "traceback": [
      "\u001B[1;31m---------------------------------------------------------------------------\u001B[0m",
      "\u001B[1;31mValueError\u001B[0m                                Traceback (most recent call last)",
      "Cell \u001B[1;32mIn[8], line 1\u001B[0m\n\u001B[1;32m----> 1\u001B[0m spectrum_list \u001B[38;5;241m=\u001B[39m \u001B[43mmsp_parsing_processing\u001B[49m\u001B[43m(\u001B[49m\u001B[43mspectrum_list\u001B[49m\u001B[43m)\u001B[49m\n",
      "File \u001B[1;32m~\\PycharmProjects\\msp_v3\\scripts\\msp_parsers.py:285\u001B[0m, in \u001B[0;36mmsp_parsing_processing\u001B[1;34m(spectrum_list)\u001B[0m\n\u001B[0;32m    274\u001B[0m \u001B[38;5;250m\u001B[39m\u001B[38;5;124;03m\"\"\"\u001B[39;00m\n\u001B[0;32m    275\u001B[0m \u001B[38;5;124;03m:param spectrum_list: A list of spectrum data to be processed.\u001B[39;00m\n\u001B[0;32m    276\u001B[0m \u001B[38;5;124;03m:return: A list containing the results of processing the spectrum data.\u001B[39;00m\n\u001B[1;32m   (...)\u001B[0m\n\u001B[0;32m    282\u001B[0m \u001B[38;5;124;03mThe function returns a list containing the results of processing the spectrum data. Any `None` results are filtered out before returning the final list.\u001B[39;00m\n\u001B[0;32m    283\u001B[0m \u001B[38;5;124;03m\"\"\"\u001B[39;00m\n\u001B[0;32m    284\u001B[0m \u001B[38;5;28;01mwith\u001B[39;00m concurrent\u001B[38;5;241m.\u001B[39mfutures\u001B[38;5;241m.\u001B[39mThreadPoolExecutor() \u001B[38;5;28;01mas\u001B[39;00m executor:\n\u001B[1;32m--> 285\u001B[0m     results \u001B[38;5;241m=\u001B[39m \u001B[38;5;28;43mlist\u001B[39;49m\u001B[43m(\u001B[49m\u001B[43mtqdm\u001B[49m\u001B[43m(\u001B[49m\u001B[43mexecutor\u001B[49m\u001B[38;5;241;43m.\u001B[39;49m\u001B[43mmap\u001B[49m\u001B[43m(\u001B[49m\u001B[43mmsp_parser\u001B[49m\u001B[43m,\u001B[49m\u001B[43m \u001B[49m\u001B[43mspectrum_list\u001B[49m\u001B[43m)\u001B[49m\u001B[43m,\u001B[49m\u001B[43m \u001B[49m\u001B[43mtotal\u001B[49m\u001B[38;5;241;43m=\u001B[39;49m\u001B[38;5;28;43mlen\u001B[39;49m\u001B[43m(\u001B[49m\u001B[43mspectrum_list\u001B[49m\u001B[43m)\u001B[49m\u001B[43m,\u001B[49m\u001B[43m \u001B[49m\u001B[43munit\u001B[49m\u001B[38;5;241;43m=\u001B[39;49m\u001B[38;5;124;43m\"\u001B[39;49m\u001B[38;5;124;43m spectrums\u001B[39;49m\u001B[38;5;124;43m\"\u001B[39;49m\u001B[43m,\u001B[49m\u001B[43m \u001B[49m\u001B[43mcolour\u001B[49m\u001B[38;5;241;43m=\u001B[39;49m\u001B[38;5;124;43m\"\u001B[39;49m\u001B[38;5;124;43mgreen\u001B[39;49m\u001B[38;5;124;43m\"\u001B[39;49m\u001B[43m,\u001B[49m\u001B[43m \u001B[49m\u001B[43mdesc\u001B[49m\u001B[38;5;241;43m=\u001B[39;49m\u001B[38;5;124;43m\"\u001B[39;49m\u001B[38;5;130;43;01m\\t\u001B[39;49;00m\u001B[38;5;124;43m  processing\u001B[39;49m\u001B[38;5;124;43m\"\u001B[39;49m\u001B[43m)\u001B[49m\u001B[43m)\u001B[49m\n\u001B[0;32m    287\u001B[0m final \u001B[38;5;241m=\u001B[39m [res \u001B[38;5;28;01mfor\u001B[39;00m res \u001B[38;5;129;01min\u001B[39;00m results \u001B[38;5;28;01mif\u001B[39;00m res \u001B[38;5;129;01mis\u001B[39;00m \u001B[38;5;129;01mnot\u001B[39;00m \u001B[38;5;28;01mNone\u001B[39;00m]\n\u001B[0;32m    289\u001B[0m \u001B[38;5;28;01mreturn\u001B[39;00m final\n",
      "File \u001B[1;32m~\\PycharmProjects\\msp_v3\\venv\\Lib\\site-packages\\tqdm\\std.py:1178\u001B[0m, in \u001B[0;36mtqdm.__iter__\u001B[1;34m(self)\u001B[0m\n\u001B[0;32m   1175\u001B[0m time \u001B[38;5;241m=\u001B[39m \u001B[38;5;28mself\u001B[39m\u001B[38;5;241m.\u001B[39m_time\n\u001B[0;32m   1177\u001B[0m \u001B[38;5;28;01mtry\u001B[39;00m:\n\u001B[1;32m-> 1178\u001B[0m     \u001B[38;5;28;01mfor\u001B[39;00m obj \u001B[38;5;129;01min\u001B[39;00m iterable:\n\u001B[0;32m   1179\u001B[0m         \u001B[38;5;28;01myield\u001B[39;00m obj\n\u001B[0;32m   1180\u001B[0m         \u001B[38;5;66;03m# Update and possibly print the progressbar.\u001B[39;00m\n\u001B[0;32m   1181\u001B[0m         \u001B[38;5;66;03m# Note: does not call self.update(1) for speed optimisation.\u001B[39;00m\n",
      "File \u001B[1;32m~\\AppData\\Local\\Programs\\Python\\Python311\\Lib\\concurrent\\futures\\_base.py:619\u001B[0m, in \u001B[0;36mExecutor.map.<locals>.result_iterator\u001B[1;34m()\u001B[0m\n\u001B[0;32m    616\u001B[0m \u001B[38;5;28;01mwhile\u001B[39;00m fs:\n\u001B[0;32m    617\u001B[0m     \u001B[38;5;66;03m# Careful not to keep a reference to the popped future\u001B[39;00m\n\u001B[0;32m    618\u001B[0m     \u001B[38;5;28;01mif\u001B[39;00m timeout \u001B[38;5;129;01mis\u001B[39;00m \u001B[38;5;28;01mNone\u001B[39;00m:\n\u001B[1;32m--> 619\u001B[0m         \u001B[38;5;28;01myield\u001B[39;00m \u001B[43m_result_or_cancel\u001B[49m\u001B[43m(\u001B[49m\u001B[43mfs\u001B[49m\u001B[38;5;241;43m.\u001B[39;49m\u001B[43mpop\u001B[49m\u001B[43m(\u001B[49m\u001B[43m)\u001B[49m\u001B[43m)\u001B[49m\n\u001B[0;32m    620\u001B[0m     \u001B[38;5;28;01melse\u001B[39;00m:\n\u001B[0;32m    621\u001B[0m         \u001B[38;5;28;01myield\u001B[39;00m _result_or_cancel(fs\u001B[38;5;241m.\u001B[39mpop(), end_time \u001B[38;5;241m-\u001B[39m time\u001B[38;5;241m.\u001B[39mmonotonic())\n",
      "File \u001B[1;32m~\\AppData\\Local\\Programs\\Python\\Python311\\Lib\\concurrent\\futures\\_base.py:317\u001B[0m, in \u001B[0;36m_result_or_cancel\u001B[1;34m(***failed resolving arguments***)\u001B[0m\n\u001B[0;32m    315\u001B[0m \u001B[38;5;28;01mtry\u001B[39;00m:\n\u001B[0;32m    316\u001B[0m     \u001B[38;5;28;01mtry\u001B[39;00m:\n\u001B[1;32m--> 317\u001B[0m         \u001B[38;5;28;01mreturn\u001B[39;00m \u001B[43mfut\u001B[49m\u001B[38;5;241;43m.\u001B[39;49m\u001B[43mresult\u001B[49m\u001B[43m(\u001B[49m\u001B[43mtimeout\u001B[49m\u001B[43m)\u001B[49m\n\u001B[0;32m    318\u001B[0m     \u001B[38;5;28;01mfinally\u001B[39;00m:\n\u001B[0;32m    319\u001B[0m         fut\u001B[38;5;241m.\u001B[39mcancel()\n",
      "File \u001B[1;32m~\\AppData\\Local\\Programs\\Python\\Python311\\Lib\\concurrent\\futures\\_base.py:449\u001B[0m, in \u001B[0;36mFuture.result\u001B[1;34m(self, timeout)\u001B[0m\n\u001B[0;32m    447\u001B[0m     \u001B[38;5;28;01mraise\u001B[39;00m CancelledError()\n\u001B[0;32m    448\u001B[0m \u001B[38;5;28;01melif\u001B[39;00m \u001B[38;5;28mself\u001B[39m\u001B[38;5;241m.\u001B[39m_state \u001B[38;5;241m==\u001B[39m FINISHED:\n\u001B[1;32m--> 449\u001B[0m     \u001B[38;5;28;01mreturn\u001B[39;00m \u001B[38;5;28;43mself\u001B[39;49m\u001B[38;5;241;43m.\u001B[39;49m\u001B[43m__get_result\u001B[49m\u001B[43m(\u001B[49m\u001B[43m)\u001B[49m\n\u001B[0;32m    451\u001B[0m \u001B[38;5;28mself\u001B[39m\u001B[38;5;241m.\u001B[39m_condition\u001B[38;5;241m.\u001B[39mwait(timeout)\n\u001B[0;32m    453\u001B[0m \u001B[38;5;28;01mif\u001B[39;00m \u001B[38;5;28mself\u001B[39m\u001B[38;5;241m.\u001B[39m_state \u001B[38;5;129;01min\u001B[39;00m [CANCELLED, CANCELLED_AND_NOTIFIED]:\n",
      "File \u001B[1;32m~\\AppData\\Local\\Programs\\Python\\Python311\\Lib\\concurrent\\futures\\_base.py:401\u001B[0m, in \u001B[0;36mFuture.__get_result\u001B[1;34m(self)\u001B[0m\n\u001B[0;32m    399\u001B[0m \u001B[38;5;28;01mif\u001B[39;00m \u001B[38;5;28mself\u001B[39m\u001B[38;5;241m.\u001B[39m_exception:\n\u001B[0;32m    400\u001B[0m     \u001B[38;5;28;01mtry\u001B[39;00m:\n\u001B[1;32m--> 401\u001B[0m         \u001B[38;5;28;01mraise\u001B[39;00m \u001B[38;5;28mself\u001B[39m\u001B[38;5;241m.\u001B[39m_exception\n\u001B[0;32m    402\u001B[0m     \u001B[38;5;28;01mfinally\u001B[39;00m:\n\u001B[0;32m    403\u001B[0m         \u001B[38;5;66;03m# Break a reference cycle with the exception in self._exception\u001B[39;00m\n\u001B[0;32m    404\u001B[0m         \u001B[38;5;28mself\u001B[39m \u001B[38;5;241m=\u001B[39m \u001B[38;5;28;01mNone\u001B[39;00m\n",
      "File \u001B[1;32m~\\AppData\\Local\\Programs\\Python\\Python311\\Lib\\concurrent\\futures\\thread.py:58\u001B[0m, in \u001B[0;36m_WorkItem.run\u001B[1;34m(self)\u001B[0m\n\u001B[0;32m     55\u001B[0m     \u001B[38;5;28;01mreturn\u001B[39;00m\n\u001B[0;32m     57\u001B[0m \u001B[38;5;28;01mtry\u001B[39;00m:\n\u001B[1;32m---> 58\u001B[0m     result \u001B[38;5;241m=\u001B[39m \u001B[38;5;28;43mself\u001B[39;49m\u001B[38;5;241;43m.\u001B[39;49m\u001B[43mfn\u001B[49m\u001B[43m(\u001B[49m\u001B[38;5;241;43m*\u001B[39;49m\u001B[38;5;28;43mself\u001B[39;49m\u001B[38;5;241;43m.\u001B[39;49m\u001B[43margs\u001B[49m\u001B[43m,\u001B[49m\u001B[43m \u001B[49m\u001B[38;5;241;43m*\u001B[39;49m\u001B[38;5;241;43m*\u001B[39;49m\u001B[38;5;28;43mself\u001B[39;49m\u001B[38;5;241;43m.\u001B[39;49m\u001B[43mkwargs\u001B[49m\u001B[43m)\u001B[49m\n\u001B[0;32m     59\u001B[0m \u001B[38;5;28;01mexcept\u001B[39;00m \u001B[38;5;167;01mBaseException\u001B[39;00m \u001B[38;5;28;01mas\u001B[39;00m exc:\n\u001B[0;32m     60\u001B[0m     \u001B[38;5;28mself\u001B[39m\u001B[38;5;241m.\u001B[39mfuture\u001B[38;5;241m.\u001B[39mset_exception(exc)\n",
      "File \u001B[1;32m~\\PycharmProjects\\msp_v3\\scripts\\msp_parsers.py:265\u001B[0m, in \u001B[0;36mmsp_parser\u001B[1;34m(spectrum)\u001B[0m\n\u001B[0;32m    257\u001B[0m \u001B[38;5;250m\u001B[39m\u001B[38;5;124;03m\"\"\"\u001B[39;00m\n\u001B[0;32m    258\u001B[0m \u001B[38;5;124;03mParse the given spectrum to extract metadata and peak list.\u001B[39;00m\n\u001B[0;32m    259\u001B[0m \n\u001B[0;32m    260\u001B[0m \u001B[38;5;124;03m:param spectrum: The spectrum data to be parsed.\u001B[39;00m\n\u001B[0;32m    261\u001B[0m \u001B[38;5;124;03m:return: The parsed metadata with peak list.\u001B[39;00m\n\u001B[0;32m    262\u001B[0m \u001B[38;5;124;03m\"\"\"\u001B[39;00m\n\u001B[0;32m    263\u001B[0m time\u001B[38;5;241m.\u001B[39msleep(\u001B[38;5;241m0.000000001\u001B[39m) \u001B[38;5;66;03m# Needed to ensure progress bar display update (1ns)\u001B[39;00m\n\u001B[1;32m--> 265\u001B[0m metadata,peak_list \u001B[38;5;241m=\u001B[39m \u001B[43mparse_metadata_and_peak_list\u001B[49m\u001B[43m(\u001B[49m\u001B[43mspectrum\u001B[49m\u001B[43m)\u001B[49m\n\u001B[0;32m    267\u001B[0m \u001B[38;5;28;01mif\u001B[39;00m metadata \u001B[38;5;241m==\u001B[39m {} \u001B[38;5;129;01mor\u001B[39;00m \u001B[38;5;28mlen\u001B[39m(peak_list) \u001B[38;5;241m==\u001B[39m \u001B[38;5;241m0\u001B[39m:\n\u001B[0;32m    268\u001B[0m     \u001B[38;5;28;01mreturn\u001B[39;00m \u001B[38;5;28;01mNone\u001B[39;00m\n",
      "File \u001B[1;32m~\\PycharmProjects\\msp_v3\\scripts\\msp_parsers.py:252\u001B[0m, in \u001B[0;36mparse_metadata_and_peak_list\u001B[1;34m(spectrum)\u001B[0m\n\u001B[0;32m    245\u001B[0m \u001B[38;5;250m\u001B[39m\u001B[38;5;124;03m\"\"\"\u001B[39;00m\n\u001B[0;32m    246\u001B[0m \u001B[38;5;124;03mParse metadata and peak list from a given spectrum.\u001B[39;00m\n\u001B[0;32m    247\u001B[0m \n\u001B[0;32m    248\u001B[0m \u001B[38;5;124;03m:param spectrum: A spectrum object or data structure that contains both metadata and peak list.\u001B[39;00m\n\u001B[0;32m    249\u001B[0m \u001B[38;5;124;03m:return: A tuple containing dataframes for the parsed metadata and peak list.\u001B[39;00m\n\u001B[0;32m    250\u001B[0m \u001B[38;5;124;03m\"\"\"\u001B[39;00m\n\u001B[0;32m    251\u001B[0m metadata, peak_list \u001B[38;5;241m=\u001B[39m extract_metadata_and_peak_list(spectrum)\n\u001B[1;32m--> 252\u001B[0m metadata_DF, peak_list_DF \u001B[38;5;241m=\u001B[39m \u001B[43mstructure_metadata_and_peak_list\u001B[49m\u001B[43m(\u001B[49m\u001B[43mmetadata\u001B[49m\u001B[43m,\u001B[49m\u001B[43m \u001B[49m\u001B[43mpeak_list\u001B[49m\u001B[43m)\u001B[49m\n\u001B[0;32m    254\u001B[0m \u001B[38;5;28;01mreturn\u001B[39;00m metadata_DF, peak_list_DF\n",
      "File \u001B[1;32m~\\PycharmProjects\\msp_v3\\scripts\\msp_parsers.py:239\u001B[0m, in \u001B[0;36mstructure_metadata_and_peak_list\u001B[1;34m(metadata, peak_list)\u001B[0m\n\u001B[0;32m    237\u001B[0m \u001B[38;5;28;01mif\u001B[39;00m \u001B[38;5;124m\"\u001B[39m\u001B[38;5;124mPRECURSORMZ\u001B[39m\u001B[38;5;124m\"\u001B[39m \u001B[38;5;129;01min\u001B[39;00m metadata_dict:\n\u001B[0;32m    238\u001B[0m     \u001B[38;5;28;01mif\u001B[39;00m metadata_dict[\u001B[38;5;124m\"\u001B[39m\u001B[38;5;124mPRECURSORMZ\u001B[39m\u001B[38;5;124m\"\u001B[39m][\u001B[38;5;241m0\u001B[39m]:\n\u001B[1;32m--> 239\u001B[0m         peak_list_DF \u001B[38;5;241m=\u001B[39m peak_list_to_df(peak_list,\u001B[38;5;28;43mfloat\u001B[39;49m\u001B[43m(\u001B[49m\u001B[43mmetadata_dict\u001B[49m\u001B[43m[\u001B[49m\u001B[38;5;124;43m\"\u001B[39;49m\u001B[38;5;124;43mPRECURSORMZ\u001B[39;49m\u001B[38;5;124;43m\"\u001B[39;49m\u001B[43m]\u001B[49m\u001B[43m[\u001B[49m\u001B[38;5;241;43m0\u001B[39;49m\u001B[43m]\u001B[49m\u001B[38;5;241;43m.\u001B[39;49m\u001B[43mreplace\u001B[49m\u001B[43m(\u001B[49m\u001B[38;5;124;43m\"\u001B[39;49m\u001B[38;5;124;43m,\u001B[39;49m\u001B[38;5;124;43m\"\u001B[39;49m\u001B[43m,\u001B[49m\u001B[38;5;124;43m\"\u001B[39;49m\u001B[38;5;124;43m.\u001B[39;49m\u001B[38;5;124;43m\"\u001B[39;49m\u001B[43m)\u001B[49m\u001B[43m)\u001B[49m)\n\u001B[0;32m    240\u001B[0m     \u001B[38;5;28;01mreturn\u001B[39;00m metadata_dict, peak_list_DF\n\u001B[0;32m    241\u001B[0m \u001B[38;5;28;01melse\u001B[39;00m:\n",
      "\u001B[1;31mValueError\u001B[0m: could not convert string to float: 'N'"
     ]
    }
   ],
   "source": [
    "spectrum_list = msp_parsing_processing(spectrum_list)"
   ],
   "metadata": {
    "collapsed": false,
    "ExecuteTime": {
     "end_time": "2023-12-17T17:01:57.078765400Z",
     "start_time": "2023-12-17T17:01:49.359959600Z"
    }
   },
   "id": "d893660d74924e4f"
  },
  {
   "cell_type": "code",
   "execution_count": null,
   "outputs": [],
   "source": [
    "time.sleep(0.1)"
   ],
   "metadata": {
    "collapsed": false,
    "ExecuteTime": {
     "start_time": "2023-12-17T17:01:57.076590100Z"
    }
   },
   "id": "ef5137da6f665117"
  },
  {
   "cell_type": "code",
   "execution_count": null,
   "outputs": [],
   "source": [
    "print(spectrum_list[0])"
   ],
   "metadata": {
    "collapsed": false,
    "ExecuteTime": {
     "start_time": "2023-12-17T17:01:57.076590100Z"
    }
   },
   "id": "a197341cf5b9371f"
  },
  {
   "cell_type": "code",
   "execution_count": null,
   "outputs": [],
   "source": [
    "print(len(spectrum_list))"
   ],
   "metadata": {
    "collapsed": false,
    "ExecuteTime": {
     "start_time": "2023-12-17T17:01:57.077624900Z"
    }
   },
   "id": "3cbb4d69912c21cd"
  },
  {
   "cell_type": "code",
   "execution_count": null,
   "outputs": [],
   "source": [
    "print(\"concat\")"
   ],
   "metadata": {
    "collapsed": false,
    "ExecuteTime": {
     "start_time": "2023-12-17T17:01:57.078765400Z"
    }
   },
   "id": "eecec41da4f26691"
  },
  {
   "cell_type": "code",
   "execution_count": null,
   "outputs": [],
   "source": [
    "df = pd.DataFrame(spectrum_list)"
   ],
   "metadata": {
    "collapsed": false,
    "ExecuteTime": {
     "end_time": "2023-12-17T17:01:57.079779700Z",
     "start_time": "2023-12-17T17:01:57.079779700Z"
    }
   },
   "id": "a6de0d56ad4020e6"
  },
  {
   "cell_type": "code",
   "execution_count": null,
   "outputs": [],
   "source": [
    "df = df[ordered_columns]"
   ],
   "metadata": {
    "collapsed": false,
    "ExecuteTime": {
     "start_time": "2023-12-17T17:01:57.079779700Z"
    }
   },
   "id": "369bba8238d7f021"
  },
  {
   "cell_type": "code",
   "execution_count": null,
   "outputs": [],
   "source": [
    "# df = pd.concat(spectrum_list, ignore_index=True, copy=False)"
   ],
   "metadata": {
    "collapsed": false,
    "ExecuteTime": {
     "start_time": "2023-12-17T17:01:57.080890800Z"
    }
   },
   "id": "7794b283a1f602c1"
  },
  {
   "cell_type": "code",
   "execution_count": null,
   "outputs": [],
   "source": [
    "print(\"writting soon\")"
   ],
   "metadata": {
    "collapsed": false,
    "ExecuteTime": {
     "start_time": "2023-12-17T17:01:57.081892100Z"
    }
   },
   "id": "c24c316ac533a940"
  },
  {
   "cell_type": "code",
   "execution_count": null,
   "outputs": [],
   "source": [
    "chunk_size = 5000  # Taille de chaque fraction\n",
    "num_chunks = int(np.ceil(df.shape[0] / chunk_size))  # Calculer le nombre de fractions"
   ],
   "metadata": {
    "collapsed": false,
    "ExecuteTime": {
     "start_time": "2023-12-17T17:01:57.081892100Z"
    }
   },
   "id": "8a6c4c00107097b6"
  },
  {
   "cell_type": "code",
   "execution_count": null,
   "outputs": [],
   "source": [
    "with tqdm(total=num_chunks, unit=\" row\", colour=\"green\", desc=\"\\t    writting\") as pbar:\n",
    "    for start in range(0, df.shape[0], chunk_size):\n",
    "        df_slice = df[start:start + chunk_size]\n",
    "        if start == 0:\n",
    "            # Écrire les en-têtes pour la première fraction\n",
    "            df_slice.to_csv(rf\"C:\\Users\\Axel\\PycharmProjects\\msp_v3\\OUTPUT\\MSP\\TEST\\test_mona_exp.csv\", mode='w', sep=\";\", quotechar='\"', encoding=\"UTF-8\", index=False)\n",
    "        else:\n",
    "            # Append dans le fichier sans écrire les en-têtes pour les autres fractions\n",
    "            df_slice.to_csv(rf\"C:\\Users\\Axel\\PycharmProjects\\msp_v3\\OUTPUT\\MSP\\TEST\\test_mona_exp.csv\", mode='a', sep=\";\", quotechar='\"', encoding=\"UTF-8\", index=False, header=False)\n",
    "\n",
    "        # Mettre à jour la barre de progression\n",
    "        pbar.update()"
   ],
   "metadata": {
    "collapsed": false,
    "ExecuteTime": {
     "start_time": "2023-12-17T17:01:57.082923400Z"
    }
   },
   "id": "b4e0221fc05ad892"
  },
  {
   "cell_type": "code",
   "execution_count": null,
   "outputs": [],
   "source": [
    "print(\"--- TOTAL TIME: %s ---\" % time.strftime(\"%H:%M:%S\", time.gmtime(time.time() - start_time)))"
   ],
   "metadata": {
    "collapsed": false,
    "ExecuteTime": {
     "start_time": "2023-12-17T17:01:57.082923400Z"
    }
   },
   "id": "14e080b1f93cdfb0"
  }
 ],
 "metadata": {
  "kernelspec": {
   "display_name": "Python 3",
   "language": "python",
   "name": "python3"
  },
  "language_info": {
   "codemirror_mode": {
    "name": "ipython",
    "version": 2
   },
   "file_extension": ".py",
   "mimetype": "text/x-python",
   "name": "python",
   "nbconvert_exporter": "python",
   "pygments_lexer": "ipython2",
   "version": "2.7.6"
  }
 },
 "nbformat": 4,
 "nbformat_minor": 5
}
