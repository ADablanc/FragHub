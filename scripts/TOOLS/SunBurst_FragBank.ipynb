{
 "cells": [
  {
   "cell_type": "code",
   "execution_count": 1,
   "outputs": [],
   "source": [
    "import plotly.express as px\n",
    "import pandas as pd"
   ],
   "metadata": {
    "collapsed": false,
    "ExecuteTime": {
     "end_time": "2023-11-29T14:51:29.502605600Z",
     "start_time": "2023-11-29T14:51:28.711923300Z"
    }
   },
   "id": "fbf1d0ec6cc29aa"
  },
  {
   "cell_type": "code",
   "execution_count": 2,
   "outputs": [],
   "source": [
    "PKON_file = r\"C:\\Users\\Axel\\Documents\\Présentations\\MSP\\datas diagram\\pkon23all-Chmochampv14nov.xlsx\""
   ],
   "metadata": {
    "collapsed": false,
    "ExecuteTime": {
     "end_time": "2023-11-29T14:51:29.517851900Z",
     "start_time": "2023-11-29T14:51:29.501598900Z"
    }
   },
   "id": "150cc695bf884024"
  },
  {
   "cell_type": "code",
   "execution_count": 3,
   "outputs": [],
   "source": [
    "pkon_df = pd.read_excel(PKON_file)"
   ],
   "metadata": {
    "collapsed": false,
    "ExecuteTime": {
     "end_time": "2023-11-29T14:54:12.097368700Z",
     "start_time": "2023-11-29T14:51:29.519864600Z"
    }
   },
   "id": "933cbbf039f045"
  },
  {
   "cell_type": "code",
   "execution_count": 4,
   "outputs": [],
   "source": [
    "nouveau_df = pkon_df[['INCHIKEY', 'CLASSYFIRE_CLASS']]"
   ],
   "metadata": {
    "collapsed": false,
    "ExecuteTime": {
     "end_time": "2023-11-29T14:54:12.146893500Z",
     "start_time": "2023-11-29T14:54:12.102045800Z"
    }
   },
   "id": "641acd10662f0309"
  },
  {
   "cell_type": "code",
   "execution_count": 5,
   "outputs": [
    {
     "data": {
      "text/plain": "                      INCHIKEY        CLASSYFIRE_CLASS\n0  AAABMNXUOFPYQK-ZRKJZUIBSA-N           Pyranodioxins\n1  AAAFZMYJJHWUPN-TXICZTDVSA-N  Organooxygen compounds\n2  AAAHTAUQXADPPM-VVZKYGDFSA-N    Glycerophospholipids\n3  AAAIKXYZKHSEGN-NUEDVNQUSA-N    Glycerophospholipids\n4  AAANZTDKTFGJLZ-UHFFFAOYSA-N             Benzopyrans",
      "text/html": "<div>\n<style scoped>\n    .dataframe tbody tr th:only-of-type {\n        vertical-align: middle;\n    }\n\n    .dataframe tbody tr th {\n        vertical-align: top;\n    }\n\n    .dataframe thead th {\n        text-align: right;\n    }\n</style>\n<table border=\"1\" class=\"dataframe\">\n  <thead>\n    <tr style=\"text-align: right;\">\n      <th></th>\n      <th>INCHIKEY</th>\n      <th>CLASSYFIRE_CLASS</th>\n    </tr>\n  </thead>\n  <tbody>\n    <tr>\n      <th>0</th>\n      <td>AAABMNXUOFPYQK-ZRKJZUIBSA-N</td>\n      <td>Pyranodioxins</td>\n    </tr>\n    <tr>\n      <th>1</th>\n      <td>AAAFZMYJJHWUPN-TXICZTDVSA-N</td>\n      <td>Organooxygen compounds</td>\n    </tr>\n    <tr>\n      <th>2</th>\n      <td>AAAHTAUQXADPPM-VVZKYGDFSA-N</td>\n      <td>Glycerophospholipids</td>\n    </tr>\n    <tr>\n      <th>3</th>\n      <td>AAAIKXYZKHSEGN-NUEDVNQUSA-N</td>\n      <td>Glycerophospholipids</td>\n    </tr>\n    <tr>\n      <th>4</th>\n      <td>AAANZTDKTFGJLZ-UHFFFAOYSA-N</td>\n      <td>Benzopyrans</td>\n    </tr>\n  </tbody>\n</table>\n</div>"
     },
     "execution_count": 5,
     "metadata": {},
     "output_type": "execute_result"
    }
   ],
   "source": [
    "nouveau_df.head()"
   ],
   "metadata": {
    "collapsed": false,
    "ExecuteTime": {
     "end_time": "2023-11-29T14:54:12.383709500Z",
     "start_time": "2023-11-29T14:54:12.135062400Z"
    }
   },
   "id": "b72f3279d8d15af8"
  },
  {
   "cell_type": "code",
   "execution_count": null,
   "outputs": [],
   "source": [],
   "metadata": {
    "collapsed": false
   },
   "id": "6213db1542815ba8"
  },
  {
   "cell_type": "code",
   "execution_count": null,
   "outputs": [],
   "source": [
    "color_dict = {\n",
    "'Terpenoides':'green',\n",
    "'Fatty Acides' : 'red'\n",
    "}"
   ],
   "metadata": {
    "collapsed": false,
    "ExecuteTime": {
     "start_time": "2023-11-29T14:40:57.203095900Z"
    }
   },
   "id": "95711d268f647a4"
  },
  {
   "cell_type": "code",
   "execution_count": null,
   "outputs": [],
   "source": [
    "fig = px.sunburst(df,path=['PathwayNP','SuperClassNP','ClassNP'],values = \"Count(InChIKey)\",width=750, height=750,color='PathwayNP',color_discrete_map=color_dict)"
   ],
   "metadata": {
    "collapsed": false,
    "ExecuteTime": {
     "start_time": "2023-11-29T14:40:57.203095900Z"
    }
   },
   "id": "f71460ac9fdb7c99"
  }
 ],
 "metadata": {
  "kernelspec": {
   "display_name": "Python 3",
   "language": "python",
   "name": "python3"
  },
  "language_info": {
   "codemirror_mode": {
    "name": "ipython",
    "version": 2
   },
   "file_extension": ".py",
   "mimetype": "text/x-python",
   "name": "python",
   "nbconvert_exporter": "python",
   "pygments_lexer": "ipython2",
   "version": "2.7.6"
  }
 },
 "nbformat": 4,
 "nbformat_minor": 5
}
