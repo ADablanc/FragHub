{
 "cells": [
  {
   "cell_type": "code",
   "execution_count": 11,
   "id": "initial_id",
   "metadata": {
    "collapsed": true,
    "ExecuteTime": {
     "end_time": "2023-09-29T14:01:05.853552900Z",
     "start_time": "2023-09-29T14:01:05.841998Z"
    }
   },
   "outputs": [],
   "source": [
    "import matchms.Metadata\n",
    "from matchms.importing import load_from_msp\n",
    "import matchms.filtering as msfilters\n",
    "import matchms.similarity as mssim\n",
    "from rdkit import RDLogger\n",
    "import logging\n",
    "\n",
    "import matplotlib.pyplot as plt\n",
    "import numpy as np"
   ]
  },
  {
   "cell_type": "code",
   "execution_count": 12,
   "outputs": [],
   "source": [
    "RDLogger.DisableLog('rdApp.*') # Disable rdkit log (warning) messages\n",
    "logger = logging.getLogger(\"matchms\") # Disable matchms log messages\n",
    "logger.disabled = True"
   ],
   "metadata": {
    "collapsed": false,
    "ExecuteTime": {
     "end_time": "2023-09-29T14:01:05.879687400Z",
     "start_time": "2023-09-29T14:01:05.853552900Z"
    }
   },
   "id": "1ca9d0f1fb3a4477"
  },
  {
   "cell_type": "code",
   "execution_count": 13,
   "outputs": [],
   "source": [
    "msp_path = r\"C:\\Users\\Axel\\Documents\\Présentations\\MSP\\datas diagram\\COSIN\\TEST.msp\"\n",
    "spectrum_list = list(load_from_msp(msp_path))"
   ],
   "metadata": {
    "collapsed": false,
    "ExecuteTime": {
     "end_time": "2023-09-29T14:01:05.929148600Z",
     "start_time": "2023-09-29T14:01:05.868078600Z"
    }
   },
   "id": "c75941e75373edea"
  },
  {
   "cell_type": "code",
   "execution_count": 14,
   "outputs": [],
   "source": [
    "mz_tolerance = 0.1\n",
    "\n",
    "sub_spectrum_list = spectrum_list"
   ],
   "metadata": {
    "collapsed": false,
    "ExecuteTime": {
     "end_time": "2023-09-29T14:01:05.945268600Z",
     "start_time": "2023-09-29T14:01:05.929148600Z"
    }
   },
   "id": "24d17cc9cbae513"
  },
  {
   "cell_type": "code",
   "execution_count": 15,
   "outputs": [
    {
     "ename": "IndexError",
     "evalue": "arrays used as indices must be of integer (or boolean) type",
     "output_type": "error",
     "traceback": [
      "\u001B[1;31m---------------------------------------------------------------------------\u001B[0m",
      "\u001B[1;31mIndexError\u001B[0m                                Traceback (most recent call last)",
      "Cell \u001B[1;32mIn[15], line 21\u001B[0m\n\u001B[0;32m     18\u001B[0m         query_list\u001B[38;5;241m.\u001B[39mappend(spectrum2)\n\u001B[0;32m     20\u001B[0m \u001B[38;5;66;03m# Compute scores:\u001B[39;00m\n\u001B[1;32m---> 21\u001B[0m similarity_cosine \u001B[38;5;241m=\u001B[39m \u001B[43mmssim\u001B[49m\u001B[38;5;241;43m.\u001B[39;49m\u001B[43mCosineGreedy\u001B[49m\u001B[43m(\u001B[49m\u001B[43mtolerance\u001B[49m\u001B[38;5;241;43m=\u001B[39;49m\u001B[43mmz_tolerance\u001B[49m\u001B[43m)\u001B[49m\u001B[38;5;241;43m.\u001B[39;49m\u001B[43mmatrix\u001B[49m\u001B[43m(\u001B[49m\u001B[43m[\u001B[49m\u001B[43mspectrum1\u001B[49m\u001B[43m]\u001B[49m\u001B[43m,\u001B[49m\u001B[43m \u001B[49m\u001B[43mquery_list\u001B[49m\u001B[43m,\u001B[49m\u001B[43m \u001B[49m\u001B[43marray_type\u001B[49m\u001B[38;5;241;43m=\u001B[39;49m\u001B[38;5;124;43m'\u001B[39;49m\u001B[38;5;124;43mnumpy\u001B[39;49m\u001B[38;5;124;43m'\u001B[39;49m\u001B[43m)\u001B[49m\n",
      "File \u001B[1;32m~\\Documents\\PYTHON\\MSP_V3\\venv\\lib\\site-packages\\matchms\\similarity\\BaseSimilarity.py:91\u001B[0m, in \u001B[0;36mBaseSimilarity.matrix\u001B[1;34m(self, references, queries, array_type, is_symmetric)\u001B[0m\n\u001B[0;32m     89\u001B[0m \u001B[38;5;28;01mif\u001B[39;00m array_type \u001B[38;5;241m==\u001B[39m \u001B[38;5;124m\"\u001B[39m\u001B[38;5;124mnumpy\u001B[39m\u001B[38;5;124m\"\u001B[39m:\n\u001B[0;32m     90\u001B[0m     scores_array \u001B[38;5;241m=\u001B[39m np\u001B[38;5;241m.\u001B[39mzeros(shape\u001B[38;5;241m=\u001B[39m(n_rows, n_cols), dtype\u001B[38;5;241m=\u001B[39m\u001B[38;5;28mself\u001B[39m\u001B[38;5;241m.\u001B[39mscore_datatype)\n\u001B[1;32m---> 91\u001B[0m     \u001B[43mscores_array\u001B[49m\u001B[43m[\u001B[49m\u001B[43midx_row\u001B[49m\u001B[43m,\u001B[49m\u001B[43m \u001B[49m\u001B[43midx_col\u001B[49m\u001B[43m]\u001B[49m \u001B[38;5;241m=\u001B[39m scores_data\u001B[38;5;241m.\u001B[39mreshape(\u001B[38;5;241m-\u001B[39m\u001B[38;5;241m1\u001B[39m)\n\u001B[0;32m     92\u001B[0m     \u001B[38;5;28;01mreturn\u001B[39;00m scores_array\n\u001B[0;32m     93\u001B[0m \u001B[38;5;28;01mif\u001B[39;00m array_type \u001B[38;5;241m==\u001B[39m \u001B[38;5;124m\"\u001B[39m\u001B[38;5;124msparse\u001B[39m\u001B[38;5;124m\"\u001B[39m:\n",
      "\u001B[1;31mIndexError\u001B[0m: arrays used as indices must be of integer (or boolean) type"
     ]
    }
   ],
   "source": [
    "mesures = []\n",
    "\n",
    "for spectrum1 in spectrum_list:\n",
    "    # try:\n",
    "    inchikey1 = spectrum1.get(\"inchikey\")\n",
    "    sub_spectrum_list = sub_spectrum_list[1:]\n",
    "    # spectrum1 = msfilters.select_by_mz(spectrum1, 0, spectrum1.get(\"precursor_mz\"))\n",
    "    # spectrum1 = msfilters.remove_peaks_around_precursor_mz(spectrum1, mz_tolerance=0.1)\n",
    "    query_list = []\n",
    "\n",
    "    for spectrum2 in sub_spectrum_list:\n",
    "        inchikey2 = spectrum2.get(\"inchikey\")\n",
    "\n",
    "        if inchikey1 == inchikey2:\n",
    "            # spectrum2 = msfilters.select_by_mz(spectrum2, 0, spectrum2.get(\"precursor_mz\"))\n",
    "            # spectrum2 = msfilters.remove_peaks_around_precursor_mz(spectrum2, mz_tolerance=0.1)\n",
    "\n",
    "            query_list.append(spectrum2)\n",
    "\n",
    "    # Compute scores:\n",
    "    similarity_cosine = mssim.CosineGreedy(tolerance=mz_tolerance).matrix([spectrum1], query_list, array_type='numpy')\n"
   ],
   "metadata": {
    "collapsed": false,
    "ExecuteTime": {
     "end_time": "2023-09-29T14:01:05.976946900Z",
     "start_time": "2023-09-29T14:01:05.948245700Z"
    }
   },
   "id": "3611f92125097c2b"
  },
  {
   "cell_type": "code",
   "execution_count": null,
   "outputs": [],
   "source": [
    "    scores = similarity_cosine['score']\n",
    "    mesures.append(scores[0])\n",
    "\n",
    "    mesures_2 = np.array(mesures)\n",
    "\n",
    "    # Tracer la heatmap\n",
    "    plt.figure(figsize=(10, 6))  # Ajustez la taille de la figure selon vos besoins\n",
    "    plt.imshow(mesures_2, cmap='viridis', interpolation='nearest')\n",
    "    plt.colorbar()  # Ajouter une barre de couleur pour la légende\n",
    "    plt.title('Heatmap des Mesures')\n",
    "    plt.xlabel('Queries')\n",
    "    plt.ylabel('References')\n",
    "    plt.show()"
   ],
   "metadata": {
    "collapsed": false,
    "ExecuteTime": {
     "start_time": "2023-09-29T14:01:05.975942Z"
    }
   },
   "id": "e8a7feab147b600c"
  }
 ],
 "metadata": {
  "kernelspec": {
   "display_name": "Python 3",
   "language": "python",
   "name": "python3"
  },
  "language_info": {
   "codemirror_mode": {
    "name": "ipython",
    "version": 2
   },
   "file_extension": ".py",
   "mimetype": "text/x-python",
   "name": "python",
   "nbconvert_exporter": "python",
   "pygments_lexer": "ipython2",
   "version": "2.7.6"
  }
 },
 "nbformat": 4,
 "nbformat_minor": 5
}
