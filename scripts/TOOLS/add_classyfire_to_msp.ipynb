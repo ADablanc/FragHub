{
 "cells": [
  {
   "cell_type": "code",
   "execution_count": 1,
   "id": "initial_id",
   "metadata": {
    "collapsed": true,
    "ExecuteTime": {
     "end_time": "2023-11-29T15:37:55.368052300Z",
     "start_time": "2023-11-29T15:37:54.975948600Z"
    }
   },
   "outputs": [],
   "source": [
    "import pandas as pd"
   ]
  },
  {
   "cell_type": "code",
   "execution_count": 2,
   "outputs": [],
   "source": [
    "PKON_file = r\"C:\\Users\\Axel\\Documents\\Présentations\\MSP\\datas diagram\\pkon23all-Chmochampv14nov.xlsx\""
   ],
   "metadata": {
    "collapsed": false,
    "ExecuteTime": {
     "end_time": "2023-11-29T15:37:55.385892100Z",
     "start_time": "2023-11-29T15:37:55.368052300Z"
    }
   },
   "id": "28f84afa21cc357e"
  },
  {
   "cell_type": "code",
   "execution_count": 3,
   "outputs": [],
   "source": [
    "pkon_df = pd.read_excel(PKON_file)"
   ],
   "metadata": {
    "collapsed": false,
    "ExecuteTime": {
     "end_time": "2023-11-29T15:40:42.693648700Z",
     "start_time": "2023-11-29T15:37:55.385892100Z"
    }
   },
   "id": "3628865ec2c03f88"
  },
  {
   "cell_type": "code",
   "execution_count": 4,
   "outputs": [],
   "source": [
    "nouveau_df = pkon_df[['INCHIKEY', 'CLASSYFIRE_CLASS']]"
   ],
   "metadata": {
    "collapsed": false,
    "ExecuteTime": {
     "end_time": "2023-11-29T15:40:42.716043800Z",
     "start_time": "2023-11-29T15:40:42.693648700Z"
    }
   },
   "id": "a0c46d3e0d9c5623"
  },
  {
   "cell_type": "code",
   "execution_count": 5,
   "outputs": [
    {
     "data": {
      "text/plain": "                      INCHIKEY        CLASSYFIRE_CLASS\n0  AAABMNXUOFPYQK-ZRKJZUIBSA-N           Pyranodioxins\n1  AAAFZMYJJHWUPN-TXICZTDVSA-N  Organooxygen compounds\n2  AAAHTAUQXADPPM-VVZKYGDFSA-N    Glycerophospholipids\n3  AAAIKXYZKHSEGN-NUEDVNQUSA-N    Glycerophospholipids\n4  AAANZTDKTFGJLZ-UHFFFAOYSA-N             Benzopyrans",
      "text/html": "<div>\n<style scoped>\n    .dataframe tbody tr th:only-of-type {\n        vertical-align: middle;\n    }\n\n    .dataframe tbody tr th {\n        vertical-align: top;\n    }\n\n    .dataframe thead th {\n        text-align: right;\n    }\n</style>\n<table border=\"1\" class=\"dataframe\">\n  <thead>\n    <tr style=\"text-align: right;\">\n      <th></th>\n      <th>INCHIKEY</th>\n      <th>CLASSYFIRE_CLASS</th>\n    </tr>\n  </thead>\n  <tbody>\n    <tr>\n      <th>0</th>\n      <td>AAABMNXUOFPYQK-ZRKJZUIBSA-N</td>\n      <td>Pyranodioxins</td>\n    </tr>\n    <tr>\n      <th>1</th>\n      <td>AAAFZMYJJHWUPN-TXICZTDVSA-N</td>\n      <td>Organooxygen compounds</td>\n    </tr>\n    <tr>\n      <th>2</th>\n      <td>AAAHTAUQXADPPM-VVZKYGDFSA-N</td>\n      <td>Glycerophospholipids</td>\n    </tr>\n    <tr>\n      <th>3</th>\n      <td>AAAIKXYZKHSEGN-NUEDVNQUSA-N</td>\n      <td>Glycerophospholipids</td>\n    </tr>\n    <tr>\n      <th>4</th>\n      <td>AAANZTDKTFGJLZ-UHFFFAOYSA-N</td>\n      <td>Benzopyrans</td>\n    </tr>\n  </tbody>\n</table>\n</div>"
     },
     "execution_count": 5,
     "metadata": {},
     "output_type": "execute_result"
    }
   ],
   "source": [
    "nouveau_df.head()"
   ],
   "metadata": {
    "collapsed": false,
    "ExecuteTime": {
     "end_time": "2023-11-29T15:40:42.917762400Z",
     "start_time": "2023-11-29T15:40:42.716043800Z"
    }
   },
   "id": "4276c30d18b64fe4"
  },
  {
   "cell_type": "code",
   "execution_count": 6,
   "outputs": [],
   "source": [
    "MSP_file = r\"C:\\Users\\Axel\\Documents\\Présentations\\MSP\\datas diagram\\clean\\Nov2023\\CSV\\ALL_DB_INCHIKEY.xlsx\""
   ],
   "metadata": {
    "collapsed": false,
    "ExecuteTime": {
     "end_time": "2023-11-29T15:40:42.932870800Z",
     "start_time": "2023-11-29T15:40:42.917762400Z"
    }
   },
   "id": "ed7de222e258f230"
  },
  {
   "cell_type": "code",
   "execution_count": 7,
   "outputs": [],
   "source": [
    "MSP_df = pd.read_excel(MSP_file)"
   ],
   "metadata": {
    "collapsed": false,
    "ExecuteTime": {
     "end_time": "2023-11-29T15:41:03.912142700Z",
     "start_time": "2023-11-29T15:40:42.932870800Z"
    }
   },
   "id": "d5da999a9e793da0"
  },
  {
   "cell_type": "code",
   "execution_count": 8,
   "outputs": [
    {
     "data": {
      "text/plain": "  FILENAME                     INCHIKEY\n0     MoNA  ZFLXCZJBYSPSKU-MUXTWOMHSA-N\n1     GNPS  IPJCJXBAPHPSRU-UHFFFAOYNA-N\n2     GNPS  NRTMSHOVWJHXSI-UHFFFAOYNA-N\n3     GNPS  GANCTHYOYGVYND-UHFFFAOYNA-N\n4     GNPS  RKSQYDBORLFRPF-UHFFFAOYNA-N",
      "text/html": "<div>\n<style scoped>\n    .dataframe tbody tr th:only-of-type {\n        vertical-align: middle;\n    }\n\n    .dataframe tbody tr th {\n        vertical-align: top;\n    }\n\n    .dataframe thead th {\n        text-align: right;\n    }\n</style>\n<table border=\"1\" class=\"dataframe\">\n  <thead>\n    <tr style=\"text-align: right;\">\n      <th></th>\n      <th>FILENAME</th>\n      <th>INCHIKEY</th>\n    </tr>\n  </thead>\n  <tbody>\n    <tr>\n      <th>0</th>\n      <td>MoNA</td>\n      <td>ZFLXCZJBYSPSKU-MUXTWOMHSA-N</td>\n    </tr>\n    <tr>\n      <th>1</th>\n      <td>GNPS</td>\n      <td>IPJCJXBAPHPSRU-UHFFFAOYNA-N</td>\n    </tr>\n    <tr>\n      <th>2</th>\n      <td>GNPS</td>\n      <td>NRTMSHOVWJHXSI-UHFFFAOYNA-N</td>\n    </tr>\n    <tr>\n      <th>3</th>\n      <td>GNPS</td>\n      <td>GANCTHYOYGVYND-UHFFFAOYNA-N</td>\n    </tr>\n    <tr>\n      <th>4</th>\n      <td>GNPS</td>\n      <td>RKSQYDBORLFRPF-UHFFFAOYNA-N</td>\n    </tr>\n  </tbody>\n</table>\n</div>"
     },
     "execution_count": 8,
     "metadata": {},
     "output_type": "execute_result"
    }
   ],
   "source": [
    "MSP_df.head()"
   ],
   "metadata": {
    "collapsed": false,
    "ExecuteTime": {
     "end_time": "2023-11-29T15:41:03.923114600Z",
     "start_time": "2023-11-29T15:41:03.909882400Z"
    }
   },
   "id": "9ee2dfb41892f905"
  },
  {
   "cell_type": "code",
   "execution_count": 9,
   "outputs": [],
   "source": [
    "MSP_df = MSP_df.merge(nouveau_df[['INCHIKEY', 'CLASSYFIRE_CLASS']], on='INCHIKEY', how='left')"
   ],
   "metadata": {
    "collapsed": false,
    "ExecuteTime": {
     "end_time": "2023-11-29T15:42:52.060931100Z",
     "start_time": "2023-11-29T15:42:51.153288100Z"
    }
   },
   "id": "904a71981a62aa77"
  },
  {
   "cell_type": "code",
   "execution_count": 10,
   "outputs": [
    {
     "data": {
      "text/plain": "  FILENAME                     INCHIKEY CLASSYFIRE_CLASS\n0     MoNA  ZFLXCZJBYSPSKU-MUXTWOMHSA-N              NaN\n1     GNPS  IPJCJXBAPHPSRU-UHFFFAOYNA-N              NaN\n2     GNPS  NRTMSHOVWJHXSI-UHFFFAOYNA-N              NaN\n3     GNPS  GANCTHYOYGVYND-UHFFFAOYNA-N              NaN\n4     GNPS  RKSQYDBORLFRPF-UHFFFAOYNA-N              NaN",
      "text/html": "<div>\n<style scoped>\n    .dataframe tbody tr th:only-of-type {\n        vertical-align: middle;\n    }\n\n    .dataframe tbody tr th {\n        vertical-align: top;\n    }\n\n    .dataframe thead th {\n        text-align: right;\n    }\n</style>\n<table border=\"1\" class=\"dataframe\">\n  <thead>\n    <tr style=\"text-align: right;\">\n      <th></th>\n      <th>FILENAME</th>\n      <th>INCHIKEY</th>\n      <th>CLASSYFIRE_CLASS</th>\n    </tr>\n  </thead>\n  <tbody>\n    <tr>\n      <th>0</th>\n      <td>MoNA</td>\n      <td>ZFLXCZJBYSPSKU-MUXTWOMHSA-N</td>\n      <td>NaN</td>\n    </tr>\n    <tr>\n      <th>1</th>\n      <td>GNPS</td>\n      <td>IPJCJXBAPHPSRU-UHFFFAOYNA-N</td>\n      <td>NaN</td>\n    </tr>\n    <tr>\n      <th>2</th>\n      <td>GNPS</td>\n      <td>NRTMSHOVWJHXSI-UHFFFAOYNA-N</td>\n      <td>NaN</td>\n    </tr>\n    <tr>\n      <th>3</th>\n      <td>GNPS</td>\n      <td>GANCTHYOYGVYND-UHFFFAOYNA-N</td>\n      <td>NaN</td>\n    </tr>\n    <tr>\n      <th>4</th>\n      <td>GNPS</td>\n      <td>RKSQYDBORLFRPF-UHFFFAOYNA-N</td>\n      <td>NaN</td>\n    </tr>\n  </tbody>\n</table>\n</div>"
     },
     "execution_count": 10,
     "metadata": {},
     "output_type": "execute_result"
    }
   ],
   "source": [
    "MSP_df.head()"
   ],
   "metadata": {
    "collapsed": false,
    "ExecuteTime": {
     "end_time": "2023-11-29T15:42:52.716759500Z",
     "start_time": "2023-11-29T15:42:52.700217400Z"
    }
   },
   "id": "5a972ca93eeb0a6d"
  },
  {
   "cell_type": "code",
   "execution_count": 11,
   "outputs": [],
   "source": [
    "MSP_df.to_excel(r\"C:\\Users\\Axel\\Documents\\Présentations\\MSP\\datas diagram\\MSP_inchikeys_classyfire.xlsx\", index=False)"
   ],
   "metadata": {
    "collapsed": false,
    "ExecuteTime": {
     "end_time": "2023-11-29T15:44:27.283275500Z",
     "start_time": "2023-11-29T15:44:04.426562Z"
    }
   },
   "id": "4ff0b5944f4129bc"
  },
  {
   "cell_type": "code",
   "execution_count": null,
   "outputs": [],
   "source": [],
   "metadata": {
    "collapsed": false
   },
   "id": "2a72f1807e38875c"
  }
 ],
 "metadata": {
  "kernelspec": {
   "display_name": "Python 3",
   "language": "python",
   "name": "python3"
  },
  "language_info": {
   "codemirror_mode": {
    "name": "ipython",
    "version": 2
   },
   "file_extension": ".py",
   "mimetype": "text/x-python",
   "name": "python",
   "nbconvert_exporter": "python",
   "pygments_lexer": "ipython2",
   "version": "2.7.6"
  }
 },
 "nbformat": 4,
 "nbformat_minor": 5
}
