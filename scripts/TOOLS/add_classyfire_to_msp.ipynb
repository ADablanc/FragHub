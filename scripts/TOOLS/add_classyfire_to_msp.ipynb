{
 "cells": [
  {
   "cell_type": "code",
   "execution_count": null,
   "id": "initial_id",
   "metadata": {
    "collapsed": true
   },
   "outputs": [],
   "source": [
    "import pandas as pd"
   ]
  },
  {
   "cell_type": "code",
   "execution_count": null,
   "outputs": [],
   "source": [
    "PKON_file = r\"C:\\Users\\Axel\\Documents\\Présentations\\FragBank\\Publication\\Diagrammes\\Sunburst\\pkon23all-Chmochampv14nov.xlsx\""
   ],
   "metadata": {
    "collapsed": false
   },
   "id": "28f84afa21cc357e"
  },
  {
   "cell_type": "code",
   "execution_count": null,
   "outputs": [],
   "source": [
    "pkon_df = pd.read_excel(PKON_file)"
   ],
   "metadata": {
    "collapsed": false
   },
   "id": "3628865ec2c03f88"
  },
  {
   "cell_type": "code",
   "execution_count": null,
   "outputs": [],
   "source": [
    "nouveau_df = pkon_df[['INCHIKEY', 'CLASSYFIRE_CLASS', 'CLASSYFIRE_SUBCLASS']]"
   ],
   "metadata": {
    "collapsed": false
   },
   "id": "a0c46d3e0d9c5623"
  },
  {
   "cell_type": "code",
   "execution_count": null,
   "outputs": [],
   "source": [
    "nouveau_df['INCHIKEY'] = nouveau_df['INCHIKEY'].astype(str)"
   ],
   "metadata": {
    "collapsed": false
   },
   "id": "a52c673c9cf06bfb"
  },
  {
   "cell_type": "code",
   "execution_count": null,
   "outputs": [],
   "source": [
    "nouveau_df['INCHIKEY'] = nouveau_df['INCHIKEY'].apply(lambda x: x.split('-')[0] if x is not None else None)"
   ],
   "metadata": {
    "collapsed": false
   },
   "id": "e0a59dd17a7fbd9e"
  },
  {
   "cell_type": "code",
   "execution_count": null,
   "outputs": [],
   "source": [
    "nouveau_df.head()"
   ],
   "metadata": {
    "collapsed": false
   },
   "id": "4276c30d18b64fe4"
  },
  {
   "cell_type": "code",
   "execution_count": null,
   "outputs": [],
   "source": [
    "MSP_file = r\"C:\\Users\\Axel\\Documents\\Présentations\\FragBank\\Publication\\Diagrammes\\FragBank_CLEAN\\Nov2023\\CSV\\ALL_DB_INCHIKEY.xlsx\""
   ],
   "metadata": {
    "collapsed": false
   },
   "id": "ed7de222e258f230"
  },
  {
   "cell_type": "code",
   "execution_count": null,
   "outputs": [],
   "source": [
    "MSP_df = pd.read_excel(MSP_file)"
   ],
   "metadata": {
    "collapsed": false
   },
   "id": "d5da999a9e793da0"
  },
  {
   "cell_type": "code",
   "execution_count": null,
   "outputs": [],
   "source": [
    "MSP_df['INCHIKEY'] = MSP_df['INCHIKEY'].astype(str)"
   ],
   "metadata": {
    "collapsed": false
   },
   "id": "f42d84cee383022"
  },
  {
   "cell_type": "code",
   "execution_count": null,
   "outputs": [],
   "source": [
    "MSP_df['INCHIKEY'] = MSP_df['INCHIKEY'].apply(lambda x: x.split('-')[0] if x is not None else None)"
   ],
   "metadata": {
    "collapsed": false
   },
   "id": "1934af0e844913b1"
  },
  {
   "cell_type": "code",
   "execution_count": null,
   "outputs": [],
   "source": [
    "MSP_df.head()"
   ],
   "metadata": {
    "collapsed": false
   },
   "id": "9ee2dfb41892f905"
  },
  {
   "cell_type": "code",
   "execution_count": null,
   "outputs": [],
   "source": [
    "MSP_df = MSP_df.merge(nouveau_df[['INCHIKEY', 'CLASSYFIRE_CLASS', 'CLASSYFIRE_SUBCLASS']], on='INCHIKEY', how='left')"
   ],
   "metadata": {
    "collapsed": false
   },
   "id": "904a71981a62aa77"
  },
  {
   "cell_type": "code",
   "execution_count": null,
   "outputs": [],
   "source": [
    "MSP_df = MSP_df.drop_duplicates(subset='INCHIKEY', keep='first')"
   ],
   "metadata": {
    "collapsed": false
   },
   "id": "ff9c2356a9115647"
  },
  {
   "cell_type": "code",
   "execution_count": null,
   "outputs": [],
   "source": [
    "MSP_df.head()"
   ],
   "metadata": {
    "collapsed": false
   },
   "id": "5a972ca93eeb0a6d"
  },
  {
   "cell_type": "code",
   "execution_count": null,
   "outputs": [],
   "source": [
    "MSP_df.to_excel(r\"C:\\Users\\Axel\\Documents\\Présentations\\FragBank\\Publication\\Diagrammes\\Sunburst\\MSP_inchikeys_classyfire.xlsx\", index=False)"
   ],
   "metadata": {
    "collapsed": false
   },
   "id": "4ff0b5944f4129bc"
  },
  {
   "cell_type": "code",
   "execution_count": null,
   "outputs": [],
   "source": [
    "null_df = MSP_df[MSP_df['CLASSYFIRE_CLASS'].isnull()] # NULL"
   ],
   "metadata": {
    "collapsed": false
   },
   "id": "2a72f1807e38875c"
  },
  {
   "cell_type": "code",
   "execution_count": null,
   "outputs": [],
   "source": [
    "null_df = null_df.drop_duplicates(subset='INCHIKEY', keep='first')"
   ],
   "metadata": {
    "collapsed": false
   },
   "id": "fe17b4db7621da1b"
  },
  {
   "cell_type": "code",
   "execution_count": null,
   "outputs": [],
   "source": [
    "null_df.to_excel(r\"C:\\Users\\Axel\\Documents\\Présentations\\FragBank\\Publication\\Diagrammes\\Sunburst\\MSP_inchikeys_classyfire_null.xlsx\", index=False)"
   ],
   "metadata": {
    "collapsed": false
   },
   "id": "6da49bfd53f789e6"
  },
  {
   "cell_type": "code",
   "execution_count": null,
   "outputs": [],
   "source": [
    "not_null_df = MSP_df[~MSP_df['CLASSYFIRE_CLASS'].isnull()] # NOT NULL"
   ],
   "metadata": {
    "collapsed": false
   },
   "id": "fad1daab9dcdfbcb"
  },
  {
   "cell_type": "code",
   "execution_count": null,
   "outputs": [],
   "source": [
    "not_null_df.to_excel(r\"C:\\Users\\Axel\\Documents\\Présentations\\FragBank\\Publication\\Diagrammes\\Sunburst\\MSP_inchikeys_classyfire_not_null.xlsx\", index=False)"
   ],
   "metadata": {
    "collapsed": false
   },
   "id": "853e79478adffb3d"
  },
  {
   "cell_type": "code",
   "execution_count": null,
   "outputs": [],
   "source": [],
   "metadata": {
    "collapsed": false
   },
   "id": "186cd1c491582a2c"
  }
 ],
 "metadata": {
  "kernelspec": {
   "display_name": "Python 3",
   "language": "python",
   "name": "python3"
  },
  "language_info": {
   "codemirror_mode": {
    "name": "ipython",
    "version": 2
   },
   "file_extension": ".py",
   "mimetype": "text/x-python",
   "name": "python",
   "nbconvert_exporter": "python",
   "pygments_lexer": "ipython2",
   "version": "2.7.6"
  }
 },
 "nbformat": 4,
 "nbformat_minor": 5
}
