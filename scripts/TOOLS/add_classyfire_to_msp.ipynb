{
 "cells": [
  {
   "cell_type": "code",
   "execution_count": 43,
   "id": "initial_id",
   "metadata": {
    "collapsed": true,
    "ExecuteTime": {
     "end_time": "2023-12-06T10:01:54.167604900Z",
     "start_time": "2023-12-06T10:01:54.157680600Z"
    }
   },
   "outputs": [],
   "source": [
    "import pandas as pd"
   ]
  },
  {
   "cell_type": "code",
   "execution_count": 44,
   "outputs": [],
   "source": [
    "PKON_file = r\"C:\\Users\\Axel\\Documents\\Présentations\\FragBank\\Publication\\Diagrammes\\Sunburst\\pkon23all-Chmochampv14nov.xlsx\""
   ],
   "metadata": {
    "collapsed": false,
    "ExecuteTime": {
     "end_time": "2023-12-06T10:01:54.206690300Z",
     "start_time": "2023-12-06T10:01:54.167604900Z"
    }
   },
   "id": "28f84afa21cc357e"
  },
  {
   "cell_type": "code",
   "execution_count": 45,
   "outputs": [],
   "source": [
    "pkon_df = pd.read_excel(PKON_file)"
   ],
   "metadata": {
    "collapsed": false,
    "ExecuteTime": {
     "end_time": "2023-12-06T10:04:40.096461400Z",
     "start_time": "2023-12-06T10:01:54.196680800Z"
    }
   },
   "id": "3628865ec2c03f88"
  },
  {
   "cell_type": "code",
   "execution_count": 46,
   "outputs": [],
   "source": [
    "nouveau_df = pkon_df[['INCHIKEY', 'CLASSYFIRE_CLASS', 'CLASSYFIRE_SUBCLASS']]"
   ],
   "metadata": {
    "collapsed": false,
    "ExecuteTime": {
     "end_time": "2023-12-06T10:04:40.126630400Z",
     "start_time": "2023-12-06T10:04:40.096461400Z"
    }
   },
   "id": "a0c46d3e0d9c5623"
  },
  {
   "cell_type": "code",
   "execution_count": 47,
   "outputs": [
    {
     "name": "stderr",
     "output_type": "stream",
     "text": [
      "C:\\Users\\Axel\\AppData\\Local\\Temp\\ipykernel_27404\\662538400.py:1: SettingWithCopyWarning: \n",
      "A value is trying to be set on a copy of a slice from a DataFrame.\n",
      "Try using .loc[row_indexer,col_indexer] = value instead\n",
      "\n",
      "See the caveats in the documentation: https://pandas.pydata.org/pandas-docs/stable/user_guide/indexing.html#returning-a-view-versus-a-copy\n",
      "  nouveau_df['INCHIKEY'] = nouveau_df['INCHIKEY'].astype(str)\n"
     ]
    }
   ],
   "source": [
    "nouveau_df['INCHIKEY'] = nouveau_df['INCHIKEY'].astype(str)"
   ],
   "metadata": {
    "collapsed": false,
    "ExecuteTime": {
     "end_time": "2023-12-06T10:04:40.214936700Z",
     "start_time": "2023-12-06T10:04:40.126630400Z"
    }
   },
   "id": "a52c673c9cf06bfb"
  },
  {
   "cell_type": "code",
   "execution_count": 48,
   "outputs": [
    {
     "name": "stderr",
     "output_type": "stream",
     "text": [
      "C:\\Users\\Axel\\AppData\\Local\\Temp\\ipykernel_27404\\1272673200.py:1: SettingWithCopyWarning: \n",
      "A value is trying to be set on a copy of a slice from a DataFrame.\n",
      "Try using .loc[row_indexer,col_indexer] = value instead\n",
      "\n",
      "See the caveats in the documentation: https://pandas.pydata.org/pandas-docs/stable/user_guide/indexing.html#returning-a-view-versus-a-copy\n",
      "  nouveau_df['INCHIKEY'] = nouveau_df['INCHIKEY'].apply(lambda x: x.split('-')[0] if x is not None else None)\n"
     ]
    }
   ],
   "source": [
    "nouveau_df['INCHIKEY'] = nouveau_df['INCHIKEY'].apply(lambda x: x.split('-')[0] if x is not None else None)"
   ],
   "metadata": {
    "collapsed": false,
    "ExecuteTime": {
     "end_time": "2023-12-06T10:04:40.461788Z",
     "start_time": "2023-12-06T10:04:40.209199200Z"
    }
   },
   "id": "e0a59dd17a7fbd9e"
  },
  {
   "cell_type": "code",
   "execution_count": 49,
   "outputs": [
    {
     "data": {
      "text/plain": "         INCHIKEY        CLASSYFIRE_CLASS   \n0  AAABMNXUOFPYQK           Pyranodioxins  \\\n1  AAAFZMYJJHWUPN  Organooxygen compounds   \n2  AAAHTAUQXADPPM    Glycerophospholipids   \n3  AAAIKXYZKHSEGN    Glycerophospholipids   \n4  AAANZTDKTFGJLZ             Benzopyrans   \n\n                         CLASSYFIRE_SUBCLASS  \n0                                        NaN  \n1  Carbohydrates and carbohydrate conjugates  \n2      Glycerophosphoglycerophosphoglycerols  \n3      Glycerophosphoglycerophosphoglycerols  \n4                              1-benzopyrans  ",
      "text/html": "<div>\n<style scoped>\n    .dataframe tbody tr th:only-of-type {\n        vertical-align: middle;\n    }\n\n    .dataframe tbody tr th {\n        vertical-align: top;\n    }\n\n    .dataframe thead th {\n        text-align: right;\n    }\n</style>\n<table border=\"1\" class=\"dataframe\">\n  <thead>\n    <tr style=\"text-align: right;\">\n      <th></th>\n      <th>INCHIKEY</th>\n      <th>CLASSYFIRE_CLASS</th>\n      <th>CLASSYFIRE_SUBCLASS</th>\n    </tr>\n  </thead>\n  <tbody>\n    <tr>\n      <th>0</th>\n      <td>AAABMNXUOFPYQK</td>\n      <td>Pyranodioxins</td>\n      <td>NaN</td>\n    </tr>\n    <tr>\n      <th>1</th>\n      <td>AAAFZMYJJHWUPN</td>\n      <td>Organooxygen compounds</td>\n      <td>Carbohydrates and carbohydrate conjugates</td>\n    </tr>\n    <tr>\n      <th>2</th>\n      <td>AAAHTAUQXADPPM</td>\n      <td>Glycerophospholipids</td>\n      <td>Glycerophosphoglycerophosphoglycerols</td>\n    </tr>\n    <tr>\n      <th>3</th>\n      <td>AAAIKXYZKHSEGN</td>\n      <td>Glycerophospholipids</td>\n      <td>Glycerophosphoglycerophosphoglycerols</td>\n    </tr>\n    <tr>\n      <th>4</th>\n      <td>AAANZTDKTFGJLZ</td>\n      <td>Benzopyrans</td>\n      <td>1-benzopyrans</td>\n    </tr>\n  </tbody>\n</table>\n</div>"
     },
     "execution_count": 49,
     "metadata": {},
     "output_type": "execute_result"
    }
   ],
   "source": [
    "nouveau_df.head()"
   ],
   "metadata": {
    "collapsed": false,
    "ExecuteTime": {
     "end_time": "2023-12-06T10:04:40.478180900Z",
     "start_time": "2023-12-06T10:04:40.461788Z"
    }
   },
   "id": "4276c30d18b64fe4"
  },
  {
   "cell_type": "code",
   "execution_count": 50,
   "outputs": [],
   "source": [
    "MSP_file = r\"C:\\Users\\Axel\\Documents\\Présentations\\FragBank\\Publication\\Diagrammes\\FragBank_CLEAN\\Nov2023\\CSV\\ALL_DB_INCHIKEY.xlsx\""
   ],
   "metadata": {
    "collapsed": false,
    "ExecuteTime": {
     "end_time": "2023-12-06T10:04:40.520131600Z",
     "start_time": "2023-12-06T10:04:40.478180900Z"
    }
   },
   "id": "ed7de222e258f230"
  },
  {
   "cell_type": "code",
   "execution_count": 51,
   "outputs": [],
   "source": [
    "MSP_df = pd.read_excel(MSP_file)"
   ],
   "metadata": {
    "collapsed": false,
    "ExecuteTime": {
     "end_time": "2023-12-06T10:04:42.273324100Z",
     "start_time": "2023-12-06T10:04:40.496955Z"
    }
   },
   "id": "d5da999a9e793da0"
  },
  {
   "cell_type": "code",
   "execution_count": 52,
   "outputs": [],
   "source": [
    "MSP_df['INCHIKEY'] = MSP_df['INCHIKEY'].astype(str)"
   ],
   "metadata": {
    "collapsed": false,
    "ExecuteTime": {
     "end_time": "2023-12-06T10:04:42.284161200Z",
     "start_time": "2023-12-06T10:04:42.273324100Z"
    }
   },
   "id": "f42d84cee383022"
  },
  {
   "cell_type": "code",
   "execution_count": 53,
   "outputs": [],
   "source": [
    "MSP_df = MSP_df.drop_duplicates(subset='INCHIKEY', keep='first')"
   ],
   "metadata": {
    "collapsed": false,
    "ExecuteTime": {
     "end_time": "2023-12-06T10:04:42.317041900Z",
     "start_time": "2023-12-06T10:04:42.284161200Z"
    }
   },
   "id": "e75f14b95bcd5359"
  },
  {
   "cell_type": "code",
   "execution_count": 54,
   "outputs": [],
   "source": [
    "MSP_df['INCHIKEY'] = MSP_df['INCHIKEY'].apply(lambda x: x.split('-')[0] if x is not None else None)"
   ],
   "metadata": {
    "collapsed": false,
    "ExecuteTime": {
     "end_time": "2023-12-06T10:04:42.340070200Z",
     "start_time": "2023-12-06T10:04:42.317041900Z"
    }
   },
   "id": "1934af0e844913b1"
  },
  {
   "cell_type": "code",
   "execution_count": 55,
   "outputs": [
    {
     "data": {
      "text/plain": "  FILENAME        INCHIKEY\n0     MoNA  ZFLXCZJBYSPSKU\n1     GNPS  IPJCJXBAPHPSRU\n2     GNPS  NRTMSHOVWJHXSI\n3     GNPS  GANCTHYOYGVYND\n4     GNPS  RKSQYDBORLFRPF",
      "text/html": "<div>\n<style scoped>\n    .dataframe tbody tr th:only-of-type {\n        vertical-align: middle;\n    }\n\n    .dataframe tbody tr th {\n        vertical-align: top;\n    }\n\n    .dataframe thead th {\n        text-align: right;\n    }\n</style>\n<table border=\"1\" class=\"dataframe\">\n  <thead>\n    <tr style=\"text-align: right;\">\n      <th></th>\n      <th>FILENAME</th>\n      <th>INCHIKEY</th>\n    </tr>\n  </thead>\n  <tbody>\n    <tr>\n      <th>0</th>\n      <td>MoNA</td>\n      <td>ZFLXCZJBYSPSKU</td>\n    </tr>\n    <tr>\n      <th>1</th>\n      <td>GNPS</td>\n      <td>IPJCJXBAPHPSRU</td>\n    </tr>\n    <tr>\n      <th>2</th>\n      <td>GNPS</td>\n      <td>NRTMSHOVWJHXSI</td>\n    </tr>\n    <tr>\n      <th>3</th>\n      <td>GNPS</td>\n      <td>GANCTHYOYGVYND</td>\n    </tr>\n    <tr>\n      <th>4</th>\n      <td>GNPS</td>\n      <td>RKSQYDBORLFRPF</td>\n    </tr>\n  </tbody>\n</table>\n</div>"
     },
     "execution_count": 55,
     "metadata": {},
     "output_type": "execute_result"
    }
   ],
   "source": [
    "MSP_df.head()"
   ],
   "metadata": {
    "collapsed": false,
    "ExecuteTime": {
     "end_time": "2023-12-06T10:04:42.353095700Z",
     "start_time": "2023-12-06T10:04:42.344689500Z"
    }
   },
   "id": "9ee2dfb41892f905"
  },
  {
   "cell_type": "code",
   "execution_count": 56,
   "outputs": [],
   "source": [
    "MSP_df = MSP_df.merge(nouveau_df[['INCHIKEY', 'CLASSYFIRE_CLASS', 'CLASSYFIRE_SUBCLASS']], on='INCHIKEY', how='left')"
   ],
   "metadata": {
    "collapsed": false,
    "ExecuteTime": {
     "end_time": "2023-12-06T10:04:42.726812100Z",
     "start_time": "2023-12-06T10:04:42.356739300Z"
    }
   },
   "id": "904a71981a62aa77"
  },
  {
   "cell_type": "code",
   "execution_count": 57,
   "outputs": [
    {
     "data": {
      "text/plain": "  FILENAME        INCHIKEY        CLASSYFIRE_CLASS   \n0     MoNA  ZFLXCZJBYSPSKU  Organooxygen compounds  \\\n1     MoNA  ZFLXCZJBYSPSKU  Organooxygen compounds   \n2     MoNA  ZFLXCZJBYSPSKU  Organooxygen compounds   \n3     MoNA  ZFLXCZJBYSPSKU  Organooxygen compounds   \n4     MoNA  ZFLXCZJBYSPSKU  Organooxygen compounds   \n\n                         CLASSYFIRE_SUBCLASS  \n0  Carbohydrates and carbohydrate conjugates  \n1  Carbohydrates and carbohydrate conjugates  \n2  Carbohydrates and carbohydrate conjugates  \n3  Carbohydrates and carbohydrate conjugates  \n4  Carbohydrates and carbohydrate conjugates  ",
      "text/html": "<div>\n<style scoped>\n    .dataframe tbody tr th:only-of-type {\n        vertical-align: middle;\n    }\n\n    .dataframe tbody tr th {\n        vertical-align: top;\n    }\n\n    .dataframe thead th {\n        text-align: right;\n    }\n</style>\n<table border=\"1\" class=\"dataframe\">\n  <thead>\n    <tr style=\"text-align: right;\">\n      <th></th>\n      <th>FILENAME</th>\n      <th>INCHIKEY</th>\n      <th>CLASSYFIRE_CLASS</th>\n      <th>CLASSYFIRE_SUBCLASS</th>\n    </tr>\n  </thead>\n  <tbody>\n    <tr>\n      <th>0</th>\n      <td>MoNA</td>\n      <td>ZFLXCZJBYSPSKU</td>\n      <td>Organooxygen compounds</td>\n      <td>Carbohydrates and carbohydrate conjugates</td>\n    </tr>\n    <tr>\n      <th>1</th>\n      <td>MoNA</td>\n      <td>ZFLXCZJBYSPSKU</td>\n      <td>Organooxygen compounds</td>\n      <td>Carbohydrates and carbohydrate conjugates</td>\n    </tr>\n    <tr>\n      <th>2</th>\n      <td>MoNA</td>\n      <td>ZFLXCZJBYSPSKU</td>\n      <td>Organooxygen compounds</td>\n      <td>Carbohydrates and carbohydrate conjugates</td>\n    </tr>\n    <tr>\n      <th>3</th>\n      <td>MoNA</td>\n      <td>ZFLXCZJBYSPSKU</td>\n      <td>Organooxygen compounds</td>\n      <td>Carbohydrates and carbohydrate conjugates</td>\n    </tr>\n    <tr>\n      <th>4</th>\n      <td>MoNA</td>\n      <td>ZFLXCZJBYSPSKU</td>\n      <td>Organooxygen compounds</td>\n      <td>Carbohydrates and carbohydrate conjugates</td>\n    </tr>\n  </tbody>\n</table>\n</div>"
     },
     "execution_count": 57,
     "metadata": {},
     "output_type": "execute_result"
    }
   ],
   "source": [
    "MSP_df.head()"
   ],
   "metadata": {
    "collapsed": false,
    "ExecuteTime": {
     "end_time": "2023-12-06T10:04:42.745498700Z",
     "start_time": "2023-12-06T10:04:42.726812100Z"
    }
   },
   "id": "5a972ca93eeb0a6d"
  },
  {
   "cell_type": "code",
   "execution_count": 58,
   "outputs": [],
   "source": [
    "nouveau_df.to_excel(r\"C:\\Users\\Axel\\Documents\\Présentations\\FragBank\\Publication\\Diagrammes\\Sunburst\\MSP_inchikeys_classyfire.xlsx\", index=False)"
   ],
   "metadata": {
    "collapsed": false,
    "ExecuteTime": {
     "end_time": "2023-12-06T10:05:24.317147100Z",
     "start_time": "2023-12-06T10:04:42.740330700Z"
    }
   },
   "id": "4ff0b5944f4129bc"
  },
  {
   "cell_type": "code",
   "execution_count": 59,
   "outputs": [],
   "source": [
    "null_df = MSP_df[MSP_df['CLASSYFIRE_CLASS'].isnull()] # NULL"
   ],
   "metadata": {
    "collapsed": false,
    "ExecuteTime": {
     "end_time": "2023-12-06T10:05:24.327881300Z",
     "start_time": "2023-12-06T10:05:24.317147100Z"
    }
   },
   "id": "2a72f1807e38875c"
  },
  {
   "cell_type": "code",
   "execution_count": 60,
   "outputs": [],
   "source": [
    "null_df.to_excel(r\"C:\\Users\\Axel\\Documents\\Présentations\\FragBank\\Publication\\Diagrammes\\Sunburst\\MSP_inchikeys_classyfire_null.xlsx\", index=False)"
   ],
   "metadata": {
    "collapsed": false,
    "ExecuteTime": {
     "end_time": "2023-12-06T10:05:25.442712700Z",
     "start_time": "2023-12-06T10:05:24.328928300Z"
    }
   },
   "id": "6da49bfd53f789e6"
  },
  {
   "cell_type": "code",
   "execution_count": 61,
   "outputs": [],
   "source": [
    "not_null_df = MSP_df[~MSP_df['CLASSYFIRE_CLASS'].isnull()] # NOT NULL"
   ],
   "metadata": {
    "collapsed": false,
    "ExecuteTime": {
     "end_time": "2023-12-06T10:05:25.467003400Z",
     "start_time": "2023-12-06T10:05:25.442712700Z"
    }
   },
   "id": "fad1daab9dcdfbcb"
  },
  {
   "cell_type": "code",
   "execution_count": 62,
   "outputs": [],
   "source": [
    "not_null_df.to_excel(r\"C:\\Users\\Axel\\Documents\\Présentations\\FragBank\\Publication\\Diagrammes\\Sunburst\\MSP_inchikeys_classyfire_not_null.xlsx\", index=False)"
   ],
   "metadata": {
    "collapsed": false,
    "ExecuteTime": {
     "end_time": "2023-12-06T10:05:29.836874Z",
     "start_time": "2023-12-06T10:05:25.467003400Z"
    }
   },
   "id": "853e79478adffb3d"
  },
  {
   "cell_type": "code",
   "execution_count": 62,
   "outputs": [],
   "source": [],
   "metadata": {
    "collapsed": false,
    "ExecuteTime": {
     "end_time": "2023-12-06T10:05:29.846615Z",
     "start_time": "2023-12-06T10:05:29.836874Z"
    }
   },
   "id": "186cd1c491582a2c"
  }
 ],
 "metadata": {
  "kernelspec": {
   "display_name": "Python 3",
   "language": "python",
   "name": "python3"
  },
  "language_info": {
   "codemirror_mode": {
    "name": "ipython",
    "version": 2
   },
   "file_extension": ".py",
   "mimetype": "text/x-python",
   "name": "python",
   "nbconvert_exporter": "python",
   "pygments_lexer": "ipython2",
   "version": "2.7.6"
  }
 },
 "nbformat": 4,
 "nbformat_minor": 5
}
