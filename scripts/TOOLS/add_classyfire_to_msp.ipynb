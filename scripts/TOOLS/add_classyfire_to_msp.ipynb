{
 "cells": [
  {
   "cell_type": "code",
   "execution_count": 1,
   "id": "initial_id",
   "metadata": {
    "collapsed": true,
    "ExecuteTime": {
     "end_time": "2023-12-06T10:08:59.261952300Z",
     "start_time": "2023-12-06T10:08:58.406801700Z"
    }
   },
   "outputs": [],
   "source": [
    "import pandas as pd"
   ]
  },
  {
   "cell_type": "code",
   "execution_count": 2,
   "outputs": [],
   "source": [
    "PKON_file = r\"C:\\Users\\Axel\\Documents\\Présentations\\FragBank\\Publication\\Diagrammes\\Sunburst\\pkon23all-Chmochampv14nov.xlsx\""
   ],
   "metadata": {
    "collapsed": false,
    "ExecuteTime": {
     "end_time": "2023-12-06T10:08:59.272071Z",
     "start_time": "2023-12-06T10:08:59.258821900Z"
    }
   },
   "id": "28f84afa21cc357e"
  },
  {
   "cell_type": "code",
   "execution_count": 3,
   "outputs": [],
   "source": [
    "pkon_df = pd.read_excel(PKON_file)"
   ],
   "metadata": {
    "collapsed": false,
    "ExecuteTime": {
     "end_time": "2023-12-06T10:11:42.489359Z",
     "start_time": "2023-12-06T10:08:59.272071Z"
    }
   },
   "id": "3628865ec2c03f88"
  },
  {
   "cell_type": "code",
   "execution_count": 4,
   "outputs": [],
   "source": [
    "nouveau_df = pkon_df[['INCHIKEY', 'CLASSYFIRE_CLASS', 'CLASSYFIRE_SUBCLASS']]"
   ],
   "metadata": {
    "collapsed": false,
    "ExecuteTime": {
     "end_time": "2023-12-06T10:11:42.522094800Z",
     "start_time": "2023-12-06T10:11:42.490364Z"
    }
   },
   "id": "a0c46d3e0d9c5623"
  },
  {
   "cell_type": "code",
   "execution_count": 5,
   "outputs": [
    {
     "name": "stderr",
     "output_type": "stream",
     "text": [
      "C:\\Users\\Axel\\AppData\\Local\\Temp\\ipykernel_13132\\662538400.py:1: SettingWithCopyWarning: \n",
      "A value is trying to be set on a copy of a slice from a DataFrame.\n",
      "Try using .loc[row_indexer,col_indexer] = value instead\n",
      "\n",
      "See the caveats in the documentation: https://pandas.pydata.org/pandas-docs/stable/user_guide/indexing.html#returning-a-view-versus-a-copy\n",
      "  nouveau_df['INCHIKEY'] = nouveau_df['INCHIKEY'].astype(str)\n"
     ]
    }
   ],
   "source": [
    "nouveau_df['INCHIKEY'] = nouveau_df['INCHIKEY'].astype(str)"
   ],
   "metadata": {
    "collapsed": false,
    "ExecuteTime": {
     "end_time": "2023-12-06T10:11:42.770752300Z",
     "start_time": "2023-12-06T10:11:42.523094500Z"
    }
   },
   "id": "a52c673c9cf06bfb"
  },
  {
   "cell_type": "code",
   "execution_count": 6,
   "outputs": [
    {
     "name": "stderr",
     "output_type": "stream",
     "text": [
      "C:\\Users\\Axel\\AppData\\Local\\Temp\\ipykernel_13132\\1272673200.py:1: SettingWithCopyWarning: \n",
      "A value is trying to be set on a copy of a slice from a DataFrame.\n",
      "Try using .loc[row_indexer,col_indexer] = value instead\n",
      "\n",
      "See the caveats in the documentation: https://pandas.pydata.org/pandas-docs/stable/user_guide/indexing.html#returning-a-view-versus-a-copy\n",
      "  nouveau_df['INCHIKEY'] = nouveau_df['INCHIKEY'].apply(lambda x: x.split('-')[0] if x is not None else None)\n"
     ]
    }
   ],
   "source": [
    "nouveau_df['INCHIKEY'] = nouveau_df['INCHIKEY'].apply(lambda x: x.split('-')[0] if x is not None else None)"
   ],
   "metadata": {
    "collapsed": false,
    "ExecuteTime": {
     "end_time": "2023-12-06T10:11:42.999181Z",
     "start_time": "2023-12-06T10:11:42.770752300Z"
    }
   },
   "id": "e0a59dd17a7fbd9e"
  },
  {
   "cell_type": "code",
   "execution_count": 7,
   "outputs": [
    {
     "data": {
      "text/plain": "         INCHIKEY        CLASSYFIRE_CLASS   \n0  AAABMNXUOFPYQK           Pyranodioxins  \\\n1  AAAFZMYJJHWUPN  Organooxygen compounds   \n2  AAAHTAUQXADPPM    Glycerophospholipids   \n3  AAAIKXYZKHSEGN    Glycerophospholipids   \n4  AAANZTDKTFGJLZ             Benzopyrans   \n\n                         CLASSYFIRE_SUBCLASS  \n0                                        NaN  \n1  Carbohydrates and carbohydrate conjugates  \n2      Glycerophosphoglycerophosphoglycerols  \n3      Glycerophosphoglycerophosphoglycerols  \n4                              1-benzopyrans  ",
      "text/html": "<div>\n<style scoped>\n    .dataframe tbody tr th:only-of-type {\n        vertical-align: middle;\n    }\n\n    .dataframe tbody tr th {\n        vertical-align: top;\n    }\n\n    .dataframe thead th {\n        text-align: right;\n    }\n</style>\n<table border=\"1\" class=\"dataframe\">\n  <thead>\n    <tr style=\"text-align: right;\">\n      <th></th>\n      <th>INCHIKEY</th>\n      <th>CLASSYFIRE_CLASS</th>\n      <th>CLASSYFIRE_SUBCLASS</th>\n    </tr>\n  </thead>\n  <tbody>\n    <tr>\n      <th>0</th>\n      <td>AAABMNXUOFPYQK</td>\n      <td>Pyranodioxins</td>\n      <td>NaN</td>\n    </tr>\n    <tr>\n      <th>1</th>\n      <td>AAAFZMYJJHWUPN</td>\n      <td>Organooxygen compounds</td>\n      <td>Carbohydrates and carbohydrate conjugates</td>\n    </tr>\n    <tr>\n      <th>2</th>\n      <td>AAAHTAUQXADPPM</td>\n      <td>Glycerophospholipids</td>\n      <td>Glycerophosphoglycerophosphoglycerols</td>\n    </tr>\n    <tr>\n      <th>3</th>\n      <td>AAAIKXYZKHSEGN</td>\n      <td>Glycerophospholipids</td>\n      <td>Glycerophosphoglycerophosphoglycerols</td>\n    </tr>\n    <tr>\n      <th>4</th>\n      <td>AAANZTDKTFGJLZ</td>\n      <td>Benzopyrans</td>\n      <td>1-benzopyrans</td>\n    </tr>\n  </tbody>\n</table>\n</div>"
     },
     "execution_count": 7,
     "metadata": {},
     "output_type": "execute_result"
    }
   ],
   "source": [
    "nouveau_df.head()"
   ],
   "metadata": {
    "collapsed": false,
    "ExecuteTime": {
     "end_time": "2023-12-06T10:11:43.016352800Z",
     "start_time": "2023-12-06T10:11:43.001137500Z"
    }
   },
   "id": "4276c30d18b64fe4"
  },
  {
   "cell_type": "code",
   "execution_count": 8,
   "outputs": [],
   "source": [
    "MSP_file = r\"C:\\Users\\Axel\\Documents\\Présentations\\FragBank\\Publication\\Diagrammes\\FragBank_CLEAN\\Nov2023\\CSV\\ALL_DB_INCHIKEY.xlsx\""
   ],
   "metadata": {
    "collapsed": false,
    "ExecuteTime": {
     "end_time": "2023-12-06T10:11:43.060237700Z",
     "start_time": "2023-12-06T10:11:43.017373700Z"
    }
   },
   "id": "ed7de222e258f230"
  },
  {
   "cell_type": "code",
   "execution_count": 9,
   "outputs": [],
   "source": [
    "MSP_df = pd.read_excel(MSP_file)"
   ],
   "metadata": {
    "collapsed": false,
    "ExecuteTime": {
     "end_time": "2023-12-06T10:11:44.695198800Z",
     "start_time": "2023-12-06T10:11:43.032559300Z"
    }
   },
   "id": "d5da999a9e793da0"
  },
  {
   "cell_type": "code",
   "execution_count": 10,
   "outputs": [],
   "source": [
    "MSP_df['INCHIKEY'] = MSP_df['INCHIKEY'].astype(str)"
   ],
   "metadata": {
    "collapsed": false,
    "ExecuteTime": {
     "end_time": "2023-12-06T10:11:44.709341400Z",
     "start_time": "2023-12-06T10:11:44.696445900Z"
    }
   },
   "id": "f42d84cee383022"
  },
  {
   "cell_type": "code",
   "execution_count": 11,
   "outputs": [],
   "source": [
    "MSP_df['INCHIKEY'] = MSP_df['INCHIKEY'].apply(lambda x: x.split('-')[0] if x is not None else None)"
   ],
   "metadata": {
    "collapsed": false,
    "ExecuteTime": {
     "end_time": "2023-12-06T10:11:44.741930100Z",
     "start_time": "2023-12-06T10:11:44.710339500Z"
    }
   },
   "id": "1934af0e844913b1"
  },
  {
   "cell_type": "code",
   "execution_count": 12,
   "outputs": [
    {
     "data": {
      "text/plain": "  FILENAME        INCHIKEY\n0     MoNA  ZFLXCZJBYSPSKU\n1     GNPS  IPJCJXBAPHPSRU\n2     GNPS  NRTMSHOVWJHXSI\n3     GNPS  GANCTHYOYGVYND\n4     GNPS  RKSQYDBORLFRPF",
      "text/html": "<div>\n<style scoped>\n    .dataframe tbody tr th:only-of-type {\n        vertical-align: middle;\n    }\n\n    .dataframe tbody tr th {\n        vertical-align: top;\n    }\n\n    .dataframe thead th {\n        text-align: right;\n    }\n</style>\n<table border=\"1\" class=\"dataframe\">\n  <thead>\n    <tr style=\"text-align: right;\">\n      <th></th>\n      <th>FILENAME</th>\n      <th>INCHIKEY</th>\n    </tr>\n  </thead>\n  <tbody>\n    <tr>\n      <th>0</th>\n      <td>MoNA</td>\n      <td>ZFLXCZJBYSPSKU</td>\n    </tr>\n    <tr>\n      <th>1</th>\n      <td>GNPS</td>\n      <td>IPJCJXBAPHPSRU</td>\n    </tr>\n    <tr>\n      <th>2</th>\n      <td>GNPS</td>\n      <td>NRTMSHOVWJHXSI</td>\n    </tr>\n    <tr>\n      <th>3</th>\n      <td>GNPS</td>\n      <td>GANCTHYOYGVYND</td>\n    </tr>\n    <tr>\n      <th>4</th>\n      <td>GNPS</td>\n      <td>RKSQYDBORLFRPF</td>\n    </tr>\n  </tbody>\n</table>\n</div>"
     },
     "execution_count": 12,
     "metadata": {},
     "output_type": "execute_result"
    }
   ],
   "source": [
    "MSP_df.head()"
   ],
   "metadata": {
    "collapsed": false,
    "ExecuteTime": {
     "end_time": "2023-12-06T10:11:44.761230900Z",
     "start_time": "2023-12-06T10:11:44.742932Z"
    }
   },
   "id": "9ee2dfb41892f905"
  },
  {
   "cell_type": "code",
   "execution_count": 13,
   "outputs": [],
   "source": [
    "MSP_df = MSP_df.merge(nouveau_df[['INCHIKEY', 'CLASSYFIRE_CLASS', 'CLASSYFIRE_SUBCLASS']], on='INCHIKEY', how='left')"
   ],
   "metadata": {
    "collapsed": false,
    "ExecuteTime": {
     "end_time": "2023-12-06T10:11:45.099807700Z",
     "start_time": "2023-12-06T10:11:44.757237400Z"
    }
   },
   "id": "904a71981a62aa77"
  },
  {
   "cell_type": "code",
   "execution_count": 14,
   "outputs": [],
   "source": [
    "MSP_df = MSP_df.drop_duplicates(subset='INCHIKEY', keep='first')"
   ],
   "metadata": {
    "collapsed": false,
    "ExecuteTime": {
     "end_time": "2023-12-06T10:11:45.113570400Z",
     "start_time": "2023-12-06T10:11:45.101699500Z"
    }
   },
   "id": "ff9c2356a9115647"
  },
  {
   "cell_type": "code",
   "execution_count": 15,
   "outputs": [
    {
     "data": {
      "text/plain": "   FILENAME        INCHIKEY                  CLASSYFIRE_CLASS   \n0      MoNA  ZFLXCZJBYSPSKU            Organooxygen compounds  \\\n7      GNPS  IPJCJXBAPHPSRU                               NaN   \n8      GNPS  NRTMSHOVWJHXSI                               NaN   \n9      GNPS  GANCTHYOYGVYND                               NaN   \n10     GNPS  RKSQYDBORLFRPF  Carboxylic acids and derivatives   \n\n                          CLASSYFIRE_SUBCLASS  \n0   Carbohydrates and carbohydrate conjugates  \n7                                         NaN  \n8                                         NaN  \n9                                         NaN  \n10       Amino acids, peptides, and analogues  ",
      "text/html": "<div>\n<style scoped>\n    .dataframe tbody tr th:only-of-type {\n        vertical-align: middle;\n    }\n\n    .dataframe tbody tr th {\n        vertical-align: top;\n    }\n\n    .dataframe thead th {\n        text-align: right;\n    }\n</style>\n<table border=\"1\" class=\"dataframe\">\n  <thead>\n    <tr style=\"text-align: right;\">\n      <th></th>\n      <th>FILENAME</th>\n      <th>INCHIKEY</th>\n      <th>CLASSYFIRE_CLASS</th>\n      <th>CLASSYFIRE_SUBCLASS</th>\n    </tr>\n  </thead>\n  <tbody>\n    <tr>\n      <th>0</th>\n      <td>MoNA</td>\n      <td>ZFLXCZJBYSPSKU</td>\n      <td>Organooxygen compounds</td>\n      <td>Carbohydrates and carbohydrate conjugates</td>\n    </tr>\n    <tr>\n      <th>7</th>\n      <td>GNPS</td>\n      <td>IPJCJXBAPHPSRU</td>\n      <td>NaN</td>\n      <td>NaN</td>\n    </tr>\n    <tr>\n      <th>8</th>\n      <td>GNPS</td>\n      <td>NRTMSHOVWJHXSI</td>\n      <td>NaN</td>\n      <td>NaN</td>\n    </tr>\n    <tr>\n      <th>9</th>\n      <td>GNPS</td>\n      <td>GANCTHYOYGVYND</td>\n      <td>NaN</td>\n      <td>NaN</td>\n    </tr>\n    <tr>\n      <th>10</th>\n      <td>GNPS</td>\n      <td>RKSQYDBORLFRPF</td>\n      <td>Carboxylic acids and derivatives</td>\n      <td>Amino acids, peptides, and analogues</td>\n    </tr>\n  </tbody>\n</table>\n</div>"
     },
     "execution_count": 15,
     "metadata": {},
     "output_type": "execute_result"
    }
   ],
   "source": [
    "MSP_df.head()"
   ],
   "metadata": {
    "collapsed": false,
    "ExecuteTime": {
     "end_time": "2023-12-06T10:11:45.158311600Z",
     "start_time": "2023-12-06T10:11:45.115489300Z"
    }
   },
   "id": "5a972ca93eeb0a6d"
  },
  {
   "cell_type": "code",
   "execution_count": 16,
   "outputs": [],
   "source": [
    "MSP_df.to_excel(r\"C:\\Users\\Axel\\Documents\\Présentations\\FragBank\\Publication\\Diagrammes\\Sunburst\\MSP_inchikeys_classyfire.xlsx\", index=False)"
   ],
   "metadata": {
    "collapsed": false,
    "ExecuteTime": {
     "end_time": "2023-12-06T10:11:47.540703100Z",
     "start_time": "2023-12-06T10:11:45.131026Z"
    }
   },
   "id": "4ff0b5944f4129bc"
  },
  {
   "cell_type": "code",
   "execution_count": 17,
   "outputs": [],
   "source": [
    "null_df = MSP_df[MSP_df['CLASSYFIRE_CLASS'].isnull()] # NULL"
   ],
   "metadata": {
    "collapsed": false,
    "ExecuteTime": {
     "end_time": "2023-12-06T10:11:47.557450100Z",
     "start_time": "2023-12-06T10:11:47.543788100Z"
    }
   },
   "id": "2a72f1807e38875c"
  },
  {
   "cell_type": "code",
   "execution_count": 18,
   "outputs": [],
   "source": [
    "null_df = null_df.drop_duplicates(subset='INCHIKEY', keep='first')"
   ],
   "metadata": {
    "collapsed": false,
    "ExecuteTime": {
     "end_time": "2023-12-06T10:11:47.575496200Z",
     "start_time": "2023-12-06T10:11:47.558496Z"
    }
   },
   "id": "fe17b4db7621da1b"
  },
  {
   "cell_type": "code",
   "execution_count": 19,
   "outputs": [],
   "source": [
    "null_df.to_excel(r\"C:\\Users\\Axel\\Documents\\Présentations\\FragBank\\Publication\\Diagrammes\\Sunburst\\MSP_inchikeys_classyfire_null.xlsx\", index=False)"
   ],
   "metadata": {
    "collapsed": false,
    "ExecuteTime": {
     "end_time": "2023-12-06T10:11:48.677723400Z",
     "start_time": "2023-12-06T10:11:47.572607500Z"
    }
   },
   "id": "6da49bfd53f789e6"
  },
  {
   "cell_type": "code",
   "execution_count": 20,
   "outputs": [],
   "source": [
    "not_null_df = MSP_df[~MSP_df['CLASSYFIRE_CLASS'].isnull()] # NOT NULL"
   ],
   "metadata": {
    "collapsed": false,
    "ExecuteTime": {
     "end_time": "2023-12-06T10:11:48.692967Z",
     "start_time": "2023-12-06T10:11:48.679054800Z"
    }
   },
   "id": "fad1daab9dcdfbcb"
  },
  {
   "cell_type": "code",
   "execution_count": 21,
   "outputs": [],
   "source": [
    "not_null_df.to_excel(r\"C:\\Users\\Axel\\Documents\\Présentations\\FragBank\\Publication\\Diagrammes\\Sunburst\\MSP_inchikeys_classyfire_not_null.xlsx\", index=False)"
   ],
   "metadata": {
    "collapsed": false,
    "ExecuteTime": {
     "end_time": "2023-12-06T10:11:50.195051400Z",
     "start_time": "2023-12-06T10:11:48.693966700Z"
    }
   },
   "id": "853e79478adffb3d"
  },
  {
   "cell_type": "code",
   "execution_count": 21,
   "outputs": [],
   "source": [],
   "metadata": {
    "collapsed": false,
    "ExecuteTime": {
     "end_time": "2023-12-06T10:11:50.210572900Z",
     "start_time": "2023-12-06T10:11:50.195051400Z"
    }
   },
   "id": "186cd1c491582a2c"
  }
 ],
 "metadata": {
  "kernelspec": {
   "display_name": "Python 3",
   "language": "python",
   "name": "python3"
  },
  "language_info": {
   "codemirror_mode": {
    "name": "ipython",
    "version": 2
   },
   "file_extension": ".py",
   "mimetype": "text/x-python",
   "name": "python",
   "nbconvert_exporter": "python",
   "pygments_lexer": "ipython2",
   "version": "2.7.6"
  }
 },
 "nbformat": 4,
 "nbformat_minor": 5
}
