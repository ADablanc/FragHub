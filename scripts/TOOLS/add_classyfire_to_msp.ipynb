{
 "cells": [
  {
   "cell_type": "code",
   "execution_count": 14,
   "id": "initial_id",
   "metadata": {
    "collapsed": true,
    "ExecuteTime": {
     "end_time": "2023-12-04T10:04:55.432940100Z",
     "start_time": "2023-12-04T10:04:55.401430200Z"
    }
   },
   "outputs": [],
   "source": [
    "import pandas as pd"
   ]
  },
  {
   "cell_type": "code",
   "execution_count": 15,
   "outputs": [],
   "source": [
    "PKON_file = r\"C:\\Users\\Axel\\Documents\\Présentations\\MSP\\datas diagram\\pkon23all-Chmochampv14nov.xlsx\""
   ],
   "metadata": {
    "collapsed": false,
    "ExecuteTime": {
     "end_time": "2023-12-04T10:04:55.455818500Z",
     "start_time": "2023-12-04T10:04:55.415735800Z"
    }
   },
   "id": "28f84afa21cc357e"
  },
  {
   "cell_type": "code",
   "execution_count": 16,
   "outputs": [],
   "source": [
    "pkon_df = pd.read_excel(PKON_file)"
   ],
   "metadata": {
    "collapsed": false,
    "ExecuteTime": {
     "end_time": "2023-12-04T10:07:35.529844800Z",
     "start_time": "2023-12-04T10:04:55.432940100Z"
    }
   },
   "id": "3628865ec2c03f88"
  },
  {
   "cell_type": "code",
   "execution_count": 17,
   "outputs": [],
   "source": [
    "nouveau_df = pkon_df[['INCHIKEY', 'CLASSYFIRE_CLASS', 'CLASSYFIRE_SUBCLASS']]"
   ],
   "metadata": {
    "collapsed": false,
    "ExecuteTime": {
     "end_time": "2023-12-04T10:07:35.565525Z",
     "start_time": "2023-12-04T10:07:35.529844800Z"
    }
   },
   "id": "a0c46d3e0d9c5623"
  },
  {
   "cell_type": "code",
   "execution_count": 18,
   "outputs": [
    {
     "data": {
      "text/plain": "                      INCHIKEY        CLASSYFIRE_CLASS   \n0  AAABMNXUOFPYQK-ZRKJZUIBSA-N           Pyranodioxins  \\\n1  AAAFZMYJJHWUPN-TXICZTDVSA-N  Organooxygen compounds   \n2  AAAHTAUQXADPPM-VVZKYGDFSA-N    Glycerophospholipids   \n3  AAAIKXYZKHSEGN-NUEDVNQUSA-N    Glycerophospholipids   \n4  AAANZTDKTFGJLZ-UHFFFAOYSA-N             Benzopyrans   \n\n                         CLASSYFIRE_SUBCLASS  \n0                                        NaN  \n1  Carbohydrates and carbohydrate conjugates  \n2      Glycerophosphoglycerophosphoglycerols  \n3      Glycerophosphoglycerophosphoglycerols  \n4                              1-benzopyrans  ",
      "text/html": "<div>\n<style scoped>\n    .dataframe tbody tr th:only-of-type {\n        vertical-align: middle;\n    }\n\n    .dataframe tbody tr th {\n        vertical-align: top;\n    }\n\n    .dataframe thead th {\n        text-align: right;\n    }\n</style>\n<table border=\"1\" class=\"dataframe\">\n  <thead>\n    <tr style=\"text-align: right;\">\n      <th></th>\n      <th>INCHIKEY</th>\n      <th>CLASSYFIRE_CLASS</th>\n      <th>CLASSYFIRE_SUBCLASS</th>\n    </tr>\n  </thead>\n  <tbody>\n    <tr>\n      <th>0</th>\n      <td>AAABMNXUOFPYQK-ZRKJZUIBSA-N</td>\n      <td>Pyranodioxins</td>\n      <td>NaN</td>\n    </tr>\n    <tr>\n      <th>1</th>\n      <td>AAAFZMYJJHWUPN-TXICZTDVSA-N</td>\n      <td>Organooxygen compounds</td>\n      <td>Carbohydrates and carbohydrate conjugates</td>\n    </tr>\n    <tr>\n      <th>2</th>\n      <td>AAAHTAUQXADPPM-VVZKYGDFSA-N</td>\n      <td>Glycerophospholipids</td>\n      <td>Glycerophosphoglycerophosphoglycerols</td>\n    </tr>\n    <tr>\n      <th>3</th>\n      <td>AAAIKXYZKHSEGN-NUEDVNQUSA-N</td>\n      <td>Glycerophospholipids</td>\n      <td>Glycerophosphoglycerophosphoglycerols</td>\n    </tr>\n    <tr>\n      <th>4</th>\n      <td>AAANZTDKTFGJLZ-UHFFFAOYSA-N</td>\n      <td>Benzopyrans</td>\n      <td>1-benzopyrans</td>\n    </tr>\n  </tbody>\n</table>\n</div>"
     },
     "execution_count": 18,
     "metadata": {},
     "output_type": "execute_result"
    }
   ],
   "source": [
    "nouveau_df.head()"
   ],
   "metadata": {
    "collapsed": false,
    "ExecuteTime": {
     "end_time": "2023-12-04T10:07:35.575943700Z",
     "start_time": "2023-12-04T10:07:35.565525Z"
    }
   },
   "id": "4276c30d18b64fe4"
  },
  {
   "cell_type": "code",
   "execution_count": 19,
   "outputs": [],
   "source": [
    "MSP_file = r\"C:\\Users\\Axel\\Documents\\Présentations\\MSP\\datas diagram\\clean\\Nov2023\\CSV\\ALL_DB_INCHIKEY.xlsx\""
   ],
   "metadata": {
    "collapsed": false,
    "ExecuteTime": {
     "end_time": "2023-12-04T10:07:35.603889500Z",
     "start_time": "2023-12-04T10:07:35.571678200Z"
    }
   },
   "id": "ed7de222e258f230"
  },
  {
   "cell_type": "code",
   "execution_count": 20,
   "outputs": [],
   "source": [
    "MSP_df = pd.read_excel(MSP_file)"
   ],
   "metadata": {
    "collapsed": false,
    "ExecuteTime": {
     "end_time": "2023-12-04T10:07:37.162748800Z",
     "start_time": "2023-12-04T10:07:35.597196100Z"
    }
   },
   "id": "d5da999a9e793da0"
  },
  {
   "cell_type": "code",
   "execution_count": 21,
   "outputs": [
    {
     "data": {
      "text/plain": "  FILENAME                     INCHIKEY\n0     MoNA  ZFLXCZJBYSPSKU-MUXTWOMHSA-N\n1     GNPS  IPJCJXBAPHPSRU-UHFFFAOYNA-N\n2     GNPS  NRTMSHOVWJHXSI-UHFFFAOYNA-N\n3     GNPS  GANCTHYOYGVYND-UHFFFAOYNA-N\n4     GNPS  RKSQYDBORLFRPF-UHFFFAOYNA-N",
      "text/html": "<div>\n<style scoped>\n    .dataframe tbody tr th:only-of-type {\n        vertical-align: middle;\n    }\n\n    .dataframe tbody tr th {\n        vertical-align: top;\n    }\n\n    .dataframe thead th {\n        text-align: right;\n    }\n</style>\n<table border=\"1\" class=\"dataframe\">\n  <thead>\n    <tr style=\"text-align: right;\">\n      <th></th>\n      <th>FILENAME</th>\n      <th>INCHIKEY</th>\n    </tr>\n  </thead>\n  <tbody>\n    <tr>\n      <th>0</th>\n      <td>MoNA</td>\n      <td>ZFLXCZJBYSPSKU-MUXTWOMHSA-N</td>\n    </tr>\n    <tr>\n      <th>1</th>\n      <td>GNPS</td>\n      <td>IPJCJXBAPHPSRU-UHFFFAOYNA-N</td>\n    </tr>\n    <tr>\n      <th>2</th>\n      <td>GNPS</td>\n      <td>NRTMSHOVWJHXSI-UHFFFAOYNA-N</td>\n    </tr>\n    <tr>\n      <th>3</th>\n      <td>GNPS</td>\n      <td>GANCTHYOYGVYND-UHFFFAOYNA-N</td>\n    </tr>\n    <tr>\n      <th>4</th>\n      <td>GNPS</td>\n      <td>RKSQYDBORLFRPF-UHFFFAOYNA-N</td>\n    </tr>\n  </tbody>\n</table>\n</div>"
     },
     "execution_count": 21,
     "metadata": {},
     "output_type": "execute_result"
    }
   ],
   "source": [
    "MSP_df.head()"
   ],
   "metadata": {
    "collapsed": false,
    "ExecuteTime": {
     "end_time": "2023-12-04T10:07:37.179743500Z",
     "start_time": "2023-12-04T10:07:37.165318700Z"
    }
   },
   "id": "9ee2dfb41892f905"
  },
  {
   "cell_type": "code",
   "execution_count": 22,
   "outputs": [],
   "source": [
    "MSP_df = MSP_df.merge(nouveau_df[['INCHIKEY', 'CLASSYFIRE_CLASS', 'CLASSYFIRE_SUBCLASS']], on='INCHIKEY', how='left')"
   ],
   "metadata": {
    "collapsed": false,
    "ExecuteTime": {
     "end_time": "2023-12-04T10:07:37.515747300Z",
     "start_time": "2023-12-04T10:07:37.179743500Z"
    }
   },
   "id": "904a71981a62aa77"
  },
  {
   "cell_type": "code",
   "execution_count": 23,
   "outputs": [
    {
     "data": {
      "text/plain": "  FILENAME                     INCHIKEY CLASSYFIRE_CLASS CLASSYFIRE_SUBCLASS\n0     MoNA  ZFLXCZJBYSPSKU-MUXTWOMHSA-N              NaN                 NaN\n1     GNPS  IPJCJXBAPHPSRU-UHFFFAOYNA-N              NaN                 NaN\n2     GNPS  NRTMSHOVWJHXSI-UHFFFAOYNA-N              NaN                 NaN\n3     GNPS  GANCTHYOYGVYND-UHFFFAOYNA-N              NaN                 NaN\n4     GNPS  RKSQYDBORLFRPF-UHFFFAOYNA-N              NaN                 NaN",
      "text/html": "<div>\n<style scoped>\n    .dataframe tbody tr th:only-of-type {\n        vertical-align: middle;\n    }\n\n    .dataframe tbody tr th {\n        vertical-align: top;\n    }\n\n    .dataframe thead th {\n        text-align: right;\n    }\n</style>\n<table border=\"1\" class=\"dataframe\">\n  <thead>\n    <tr style=\"text-align: right;\">\n      <th></th>\n      <th>FILENAME</th>\n      <th>INCHIKEY</th>\n      <th>CLASSYFIRE_CLASS</th>\n      <th>CLASSYFIRE_SUBCLASS</th>\n    </tr>\n  </thead>\n  <tbody>\n    <tr>\n      <th>0</th>\n      <td>MoNA</td>\n      <td>ZFLXCZJBYSPSKU-MUXTWOMHSA-N</td>\n      <td>NaN</td>\n      <td>NaN</td>\n    </tr>\n    <tr>\n      <th>1</th>\n      <td>GNPS</td>\n      <td>IPJCJXBAPHPSRU-UHFFFAOYNA-N</td>\n      <td>NaN</td>\n      <td>NaN</td>\n    </tr>\n    <tr>\n      <th>2</th>\n      <td>GNPS</td>\n      <td>NRTMSHOVWJHXSI-UHFFFAOYNA-N</td>\n      <td>NaN</td>\n      <td>NaN</td>\n    </tr>\n    <tr>\n      <th>3</th>\n      <td>GNPS</td>\n      <td>GANCTHYOYGVYND-UHFFFAOYNA-N</td>\n      <td>NaN</td>\n      <td>NaN</td>\n    </tr>\n    <tr>\n      <th>4</th>\n      <td>GNPS</td>\n      <td>RKSQYDBORLFRPF-UHFFFAOYNA-N</td>\n      <td>NaN</td>\n      <td>NaN</td>\n    </tr>\n  </tbody>\n</table>\n</div>"
     },
     "execution_count": 23,
     "metadata": {},
     "output_type": "execute_result"
    }
   ],
   "source": [
    "MSP_df.head()"
   ],
   "metadata": {
    "collapsed": false,
    "ExecuteTime": {
     "end_time": "2023-12-04T10:07:37.530639200Z",
     "start_time": "2023-12-04T10:07:37.518855Z"
    }
   },
   "id": "5a972ca93eeb0a6d"
  },
  {
   "cell_type": "code",
   "execution_count": 24,
   "outputs": [],
   "source": [
    "# nouveau_df = MSP_df[MSP_df['CLASSYFIRE_CLASS'].isnull()] # NULL"
   ],
   "metadata": {
    "collapsed": false,
    "ExecuteTime": {
     "end_time": "2023-12-04T10:07:37.566191900Z",
     "start_time": "2023-12-04T10:07:37.527063300Z"
    }
   },
   "id": "c9e584483af8436d"
  },
  {
   "cell_type": "code",
   "execution_count": 25,
   "outputs": [],
   "source": [
    "nouveau_df = MSP_df[~MSP_df['CLASSYFIRE_CLASS'].isnull()] # NOT NULL\n"
   ],
   "metadata": {
    "collapsed": false,
    "ExecuteTime": {
     "end_time": "2023-12-04T10:07:37.590476900Z",
     "start_time": "2023-12-04T10:07:37.553123700Z"
    }
   },
   "id": "fc4862282fd564b5"
  },
  {
   "cell_type": "code",
   "execution_count": 26,
   "outputs": [],
   "source": [
    "nouveau_df.to_excel(r\"C:\\Users\\Axel\\Documents\\Présentations\\MSP\\datas diagram\\MSP_inchikeys_classyfire.xlsx\", index=False)"
   ],
   "metadata": {
    "collapsed": false,
    "ExecuteTime": {
     "end_time": "2023-12-04T10:07:39.069582300Z",
     "start_time": "2023-12-04T10:07:37.560403900Z"
    }
   },
   "id": "4ff0b5944f4129bc"
  },
  {
   "cell_type": "code",
   "execution_count": 26,
   "outputs": [],
   "source": [],
   "metadata": {
    "collapsed": false,
    "ExecuteTime": {
     "end_time": "2023-12-04T10:07:39.085454600Z",
     "start_time": "2023-12-04T10:07:39.069582300Z"
    }
   },
   "id": "2a72f1807e38875c"
  }
 ],
 "metadata": {
  "kernelspec": {
   "display_name": "Python 3",
   "language": "python",
   "name": "python3"
  },
  "language_info": {
   "codemirror_mode": {
    "name": "ipython",
    "version": 2
   },
   "file_extension": ".py",
   "mimetype": "text/x-python",
   "name": "python",
   "nbconvert_exporter": "python",
   "pygments_lexer": "ipython2",
   "version": "2.7.6"
  }
 },
 "nbformat": 4,
 "nbformat_minor": 5
}
