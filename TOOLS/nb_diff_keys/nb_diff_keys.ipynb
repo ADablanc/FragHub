{
 "cells": [
  {
   "cell_type": "code",
   "execution_count": 1,
   "id": "initial_id",
   "metadata": {
    "collapsed": true,
    "ExecuteTime": {
     "end_time": "2024-03-04T14:09:20.595956Z",
     "start_time": "2024-03-04T14:09:19.052031Z"
    }
   },
   "outputs": [],
   "source": [
    "from convertors.convert_to_json import *"
   ]
  },
  {
   "cell_type": "code",
   "outputs": [],
   "source": [
    "global In_Silico_pattern\n",
    "In_Silico_pattern = re.compile(r\"in.silico|insilico|predicted|theoretical|Annotation.level.3\", flags=re.IGNORECASE)"
   ],
   "metadata": {
    "collapsed": false,
    "ExecuteTime": {
     "end_time": "2024-03-04T14:09:20.599959Z",
     "start_time": "2024-03-04T14:09:20.596972Z"
    }
   },
   "id": "6d816502dd0f85c9",
   "execution_count": 2
  },
  {
   "cell_type": "code",
   "outputs": [],
   "source": [
    "def in_filename(filename):\n",
    "    \"\"\"\n",
    "    :param filename: The name of the file to be checked for the presence of the string \"MSMS_Public\" and matching a specific pattern.\n",
    "    :return: Returns True if the filename does not contain \"MSMS_Public\" and matches a specific pattern defined by the In_Silico_pattern. Returns False otherwise.\n",
    "\n",
    "    \"\"\"\n",
    "    if \"MSMS_Public\" not in filename:\n",
    "        if re.search(In_Silico_pattern, filename):\n",
    "            return True\n",
    "\n",
    "    return False"
   ],
   "metadata": {
    "collapsed": false,
    "ExecuteTime": {
     "end_time": "2024-03-04T14:09:20.613652Z",
     "start_time": "2024-03-04T14:09:20.600964Z"
    }
   },
   "id": "ab2b584b3f39ca0",
   "execution_count": 3
  },
  {
   "cell_type": "code",
   "outputs": [],
   "source": [
    "def normalize_predicted(metadata_dict):\n",
    "    \"\"\"\n",
    "    Normalize the predicted field in the given metadata dictionary.\n",
    "\n",
    "    :param metadata_dict: A dictionary containing metadata information.\n",
    "    :return: The updated metadata dictionary with the normalized predicted field.\n",
    "    \"\"\"\n",
    "    comment_field = metadata_dict[\"COMMENT\"]\n",
    "    predicted = metadata_dict[\"PREDICTED\"]\n",
    "    filename = metadata_dict[\"FILENAME\"]\n",
    "\n",
    "    if re.search(In_Silico_pattern, comment_field) or predicted == \"true\" or in_filename(filename):\n",
    "        metadata_dict[\"PREDICTED\"] = \"true\"\n",
    "        return metadata_dict\n",
    "    else:\n",
    "        metadata_dict[\"PREDICTED\"] = \"false\"\n",
    "        return metadata_dict"
   ],
   "metadata": {
    "collapsed": false,
    "ExecuteTime": {
     "end_time": "2024-03-04T14:09:20.627623Z",
     "start_time": "2024-03-04T14:09:20.614656Z"
    }
   },
   "id": "cb9a9227bfbea461",
   "execution_count": 4
  },
  {
   "cell_type": "code",
   "outputs": [],
   "source": [
    "def convert_keys(dict_list):\n",
    "    \"\"\"\n",
    "    Convert keys in metadata_dict based on the provided keys_dict and keys_list.\n",
    "\n",
    "    :param metadata_dict: A dictionary containing metadata information.\n",
    "    :return: A dictionary with converted keys based on the provided keys_dict and keys_list.\n",
    "    \"\"\"\n",
    "    output = []\n",
    "    for metadata_dict in dict_list:\n",
    "        converted = {keys_dict[key.lower()]: val for key, val in metadata_dict.items() if key.lower() in keys_dict and keys_dict[key.lower()] in keys_list}\n",
    "    \n",
    "        converted.update({key: \"\" for key in keys_list if key not in converted})\n",
    "        output.append(converted)\n",
    "\n",
    "    return output"
   ],
   "metadata": {
    "collapsed": false,
    "ExecuteTime": {
     "end_time": "2024-03-04T14:09:20.638607Z",
     "start_time": "2024-03-04T14:09:20.628627Z"
    }
   },
   "id": "1d8d7a9eb8b8fb41",
   "execution_count": 5
  },
  {
   "cell_type": "code",
   "outputs": [],
   "source": [
    "original_db_path = r\"C:\\Users\\Axel\\Documents\\MSP_DB\\ORIGINALS_msp_DB\\DB Janvier 2024\\DB_publi\""
   ],
   "metadata": {
    "collapsed": false,
    "ExecuteTime": {
     "end_time": "2024-03-04T14:09:20.652309Z",
     "start_time": "2024-03-04T14:09:20.638607Z"
    }
   },
   "id": "edb060bd59126119",
   "execution_count": 6
  },
  {
   "cell_type": "code",
   "outputs": [
    {
     "name": "stdout",
     "output_type": "stream",
     "text": [
      "                                         -- CONVERTING JSON TO JSON --\n"
     ]
    },
    {
     "name": "stderr",
     "output_type": "stream",
     "text": [
      "                                                          Loading file: 3.47GB [00:42, 81.1MB/s]                            215MB/s] \n",
      "                                             converting JSON spectrums: 100%|\u001B[32m██████████\u001B[0m| 217259/217259 [00:59<00:00, 3628.05 spectrums/s] \n"
     ]
    },
    {
     "name": "stdout",
     "output_type": "stream",
     "text": [
      "                                          -- CONVERTING MSP TO JSON --\n"
     ]
    },
    {
     "name": "stderr",
     "output_type": "stream",
     "text": [
      "                                           loading [MassBank_NIST.msp]:   6%|\u001B[32m▌         \u001B[0m| 5.50M/99.8M [00:02<00:37, 2.53MB/s]\n",
      "                                          loading [MassBank_RIKEN.msp]:   4%|\u001B[32m▍         \u001B[0m| 5.19M/120M [00:02<00:49, 2.32MB/s]\n",
      "                     loading [MSMS_Public_ExpBioInsilico_NEG_VS17.msp]:   6%|\u001B[32m▌         \u001B[0m| 3.20M/53.9M [00:01<00:19, 2.59MB/s]\n",
      "                     loading [MSMS_Public_ExpBioInsilico_Pos_VS17.msp]:   6%|\u001B[32m▌         \u001B[0m| 15.3M/272M [00:06<01:48, 2.36MB/s]\n",
      "                                              converting MSP spectrums:  25%|\u001B[32m██▌       \u001B[0m| 145000/572810 [00:24<01:16, 5593.45 spectrums/s]"
     ]
    }
   ],
   "source": [
    "FINAL_MSP, FINAL_XML, FINAL_CSV, FINAL_JSON, FINAL_MGF = convert_to_json(original_db_path)"
   ],
   "metadata": {
    "collapsed": false,
    "is_executing": true,
    "ExecuteTime": {
     "start_time": "2024-03-04T14:09:20.653314Z"
    }
   },
   "id": "224321eeee1be677",
   "execution_count": null
  },
  {
   "cell_type": "code",
   "outputs": [],
   "source": [
    "print(FINAL_MSP)\n",
    "print(FINAL_XML)\n",
    "print(FINAL_CSV)\n",
    "print(FINAL_JSON)\n",
    "print(FINAL_MGF)"
   ],
   "metadata": {
    "collapsed": false,
    "is_executing": true
   },
   "id": "eb9a7fdae811b247",
   "execution_count": null
  },
  {
   "cell_type": "code",
   "outputs": [],
   "source": [],
   "metadata": {
    "collapsed": false
   },
   "id": "a22cef80d6659910"
  }
 ],
 "metadata": {
  "kernelspec": {
   "display_name": "Python 3",
   "language": "python",
   "name": "python3"
  },
  "language_info": {
   "codemirror_mode": {
    "name": "ipython",
    "version": 2
   },
   "file_extension": ".py",
   "mimetype": "text/x-python",
   "name": "python",
   "nbconvert_exporter": "python",
   "pygments_lexer": "ipython2",
   "version": "2.7.6"
  }
 },
 "nbformat": 4,
 "nbformat_minor": 5
}
