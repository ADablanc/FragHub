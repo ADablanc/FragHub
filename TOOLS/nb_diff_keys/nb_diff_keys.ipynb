{
 "cells": [
  {
   "cell_type": "code",
   "execution_count": null,
   "id": "initial_id",
   "metadata": {
    "collapsed": true
   },
   "outputs": [],
   "source": [
    "from convertors.convert_to_json import *"
   ]
  },
  {
   "cell_type": "code",
   "outputs": [],
   "source": [
    "global In_Silico_pattern\n",
    "In_Silico_pattern = re.compile(r\"in.silico|insilico|predicted|theoretical|Annotation.level.3\", flags=re.IGNORECASE)"
   ],
   "metadata": {
    "collapsed": false
   },
   "id": "6d816502dd0f85c9",
   "execution_count": null
  },
  {
   "cell_type": "code",
   "outputs": [],
   "source": [
    "def in_filename(filename):\n",
    "    \"\"\"\n",
    "    :param filename: The name of the file to be checked for the presence of the string \"MSMS_Public\" and matching a specific pattern.\n",
    "    :return: Returns True if the filename does not contain \"MSMS_Public\" and matches a specific pattern defined by the In_Silico_pattern. Returns False otherwise.\n",
    "\n",
    "    \"\"\"\n",
    "    if \"MSMS_Public\" not in filename:\n",
    "        if re.search(In_Silico_pattern, filename):\n",
    "            return True\n",
    "\n",
    "    return False"
   ],
   "metadata": {
    "collapsed": false
   },
   "id": "ab2b584b3f39ca0",
   "execution_count": null
  },
  {
   "cell_type": "code",
   "outputs": [],
   "source": [
    "def normalize_predicted(metadata_dict):\n",
    "    \"\"\"\n",
    "    Normalize the predicted field in the given metadata dictionary.\n",
    "\n",
    "    :param metadata_dict: A dictionary containing metadata information.\n",
    "    :return: The updated metadata dictionary with the normalized predicted field.\n",
    "    \"\"\"\n",
    "    comment_field = metadata_dict[\"COMMENT\"]\n",
    "    predicted = metadata_dict[\"PREDICTED\"]\n",
    "    filename = metadata_dict[\"FILENAME\"]\n",
    "\n",
    "    if re.search(In_Silico_pattern, comment_field) or predicted == \"true\" or in_filename(filename):\n",
    "        metadata_dict[\"PREDICTED\"] = \"true\"\n",
    "        return metadata_dict\n",
    "    else:\n",
    "        metadata_dict[\"PREDICTED\"] = \"false\"\n",
    "        return metadata_dict"
   ],
   "metadata": {
    "collapsed": false
   },
   "id": "cb9a9227bfbea461",
   "execution_count": null
  },
  {
   "cell_type": "code",
   "outputs": [],
   "source": [
    "def convert_keys(dict_list):\n",
    "    \"\"\"\n",
    "    Convert keys in metadata_dict based on the provided keys_dict and keys_list.\n",
    "\n",
    "    :param metadata_dict: A dictionary containing metadata information.\n",
    "    :return: A dictionary with converted keys based on the provided keys_dict and keys_list.\n",
    "    \"\"\"\n",
    "    output = []\n",
    "    for metadata_dict in dict_list:\n",
    "        converted = {keys_dict[key.lower()]: val for key, val in metadata_dict.items() if key.lower() in keys_dict and keys_dict[key.lower()] in keys_list}\n",
    "    \n",
    "        converted.update({key: \"\" for key in keys_list if key not in converted})\n",
    "        output.append(converted)\n",
    "\n",
    "    return output"
   ],
   "metadata": {
    "collapsed": false
   },
   "id": "1d8d7a9eb8b8fb41",
   "execution_count": null
  },
  {
   "cell_type": "code",
   "outputs": [],
   "source": [
    "original_db_path = r\"C:\\Users\\Axel\\Documents\\MSP_DB\\ORIGINALS_msp_DB\\DB Janvier 2024\\DB_publi\""
   ],
   "metadata": {
    "collapsed": false
   },
   "id": "edb060bd59126119",
   "execution_count": null
  },
  {
   "cell_type": "code",
   "outputs": [],
   "source": [
    "FINAL_MSP, FINAL_XML, FINAL_CSV, FINAL_JSON, FINAL_MGF = convert_to_json(original_db_path)"
   ],
   "metadata": {
    "collapsed": false
   },
   "id": "224321eeee1be677",
   "execution_count": null
  },
  {
   "cell_type": "code",
   "outputs": [],
   "source": [
    "MSP_unique_keys = []\n",
    "for sub_list in FINAL_MSP:\n",
    "    MSP_unique_keys.extend(list(sub_list))\n",
    "\n",
    "MSP_unique_keys = set(MSP_unique_keys)"
   ],
   "metadata": {
    "collapsed": false
   },
   "id": "f3e52b3da9c10a47",
   "execution_count": null
  },
  {
   "cell_type": "code",
   "outputs": [],
   "source": [
    "print(MSP_unique_keys)"
   ],
   "metadata": {
    "collapsed": false
   },
   "id": "79c3cc2410037bc9",
   "execution_count": null
  },
  {
   "cell_type": "code",
   "outputs": [],
   "source": [
    "XML_unique_keys = []\n",
    "for sub_list in FINAL_XML:\n",
    "    XML_unique_keys.extend(list(sub_list))\n",
    "\n",
    "XML_unique_keys = set(XML_unique_keys)"
   ],
   "metadata": {
    "collapsed": false
   },
   "id": "5c6b9b4fddf14bad",
   "execution_count": null
  },
  {
   "cell_type": "code",
   "outputs": [],
   "source": [
    "print(XML_unique_keys)"
   ],
   "metadata": {
    "collapsed": false
   },
   "id": "a17aaac243a322af",
   "execution_count": null
  },
  {
   "cell_type": "code",
   "outputs": [],
   "source": [
    "CSV_unique_keys = []\n",
    "for sub_list in FINAL_CSV:\n",
    "    CSV_unique_keys.extend(list(sub_list))\n",
    "\n",
    "CSV_unique_keys = set(CSV_unique_keys)"
   ],
   "metadata": {
    "collapsed": false
   },
   "id": "caecc121baefbb2a",
   "execution_count": null
  },
  {
   "cell_type": "code",
   "outputs": [],
   "source": [
    "print(CSV_unique_keys)"
   ],
   "metadata": {
    "collapsed": false
   },
   "id": "b431800a7b6b1765",
   "execution_count": null
  },
  {
   "cell_type": "code",
   "outputs": [],
   "source": [
    "JSON_unique_keys = []\n",
    "for sub_list in FINAL_JSON:\n",
    "    JSON_unique_keys.extend(list(sub_list))\n",
    "\n",
    "JSON_unique_keys = set(JSON_unique_keys)"
   ],
   "metadata": {
    "collapsed": false
   },
   "id": "f85607a60a0ba8c8",
   "execution_count": null
  },
  {
   "cell_type": "code",
   "outputs": [],
   "source": [
    "print(JSON_unique_keys)"
   ],
   "metadata": {
    "collapsed": false
   },
   "id": "917550b3946b177",
   "execution_count": null
  },
  {
   "cell_type": "code",
   "outputs": [],
   "source": [
    "MGF_unique_keys = []\n",
    "for sub_list in FINAL_MGF:\n",
    "    MGF_unique_keys.extend(list(sub_list))\n",
    "\n",
    "MGF_unique_keys = set(MGF_unique_keys)"
   ],
   "metadata": {
    "collapsed": false
   },
   "id": "9435acb182370c7d",
   "execution_count": null
  },
  {
   "cell_type": "code",
   "outputs": [],
   "source": [
    "print(MGF_unique_keys)"
   ],
   "metadata": {
    "collapsed": false
   },
   "id": "bc6b64a2c5d64b7d",
   "execution_count": null
  }
 ],
 "metadata": {
  "kernelspec": {
   "display_name": "Python 3",
   "language": "python",
   "name": "python3"
  },
  "language_info": {
   "codemirror_mode": {
    "name": "ipython",
    "version": 2
   },
   "file_extension": ".py",
   "mimetype": "text/x-python",
   "name": "python",
   "nbconvert_exporter": "python",
   "pygments_lexer": "ipython2",
   "version": "2.7.6"
  }
 },
 "nbformat": 4,
 "nbformat_minor": 5
}
