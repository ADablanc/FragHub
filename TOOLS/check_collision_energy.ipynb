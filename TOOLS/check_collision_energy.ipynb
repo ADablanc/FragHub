{
 "cells": [
  {
   "cell_type": "code",
   "execution_count": null,
   "id": "initial_id",
   "metadata": {
    "collapsed": true
   },
   "outputs": [],
   "source": [
    "import pandas as pd\n",
    "import os"
   ]
  },
  {
   "cell_type": "code",
   "outputs": [],
   "source": [
    "csv_files = []\n",
    "for root, dirs, files in os.walk(r'C:\\Users\\Axel\\PycharmProjects\\msp_v3\\OUTPUT\\ALL_DB\\CSV'):\n",
    "    for file in files:\n",
    "        if file.endswith('.csv'):\n",
    "            csv_files.append(os.path.join(root, file))"
   ],
   "metadata": {
    "collapsed": false
   },
   "id": "d731ebd33fcaa42d",
   "execution_count": null
  },
  {
   "cell_type": "code",
   "outputs": [],
   "source": [
    "print('\\n'.join(csv_files))"
   ],
   "metadata": {
    "collapsed": false
   },
   "id": "73a1a067c3e83763",
   "execution_count": null
  },
  {
   "cell_type": "code",
   "outputs": [],
   "source": [
    "# Initiate an empty DataFrame\n",
    "all_data = pd.DataFrame()\n",
    "\n",
    "# Read each CSV file and concatenate the 'COLLISIONENERGY' column\n",
    "for csv_file in csv_files:\n",
    "    data = pd.read_csv(csv_file, sep=\";\", encoding=\"UTF-8\", dtype=str)\n",
    "    all_data = pd.concat([all_data, data['COLLISIONENERGY']])"
   ],
   "metadata": {
    "collapsed": false
   },
   "id": "f8ac2554c45f89e5",
   "execution_count": null
  },
  {
   "cell_type": "code",
   "outputs": [],
   "source": [
    "all_data.rename(columns={ all_data.columns[0]: \"COLLISIONENERGY\" }, inplace = True)"
   ],
   "metadata": {
    "collapsed": false
   },
   "id": "494c59cd9c424011",
   "execution_count": null
  },
  {
   "cell_type": "code",
   "outputs": [],
   "source": [
    "print(len(all_data))"
   ],
   "metadata": {
    "collapsed": false
   },
   "id": "8adcff771693856a",
   "execution_count": null
  },
  {
   "cell_type": "code",
   "outputs": [],
   "source": [
    "all_data = all_data.drop_duplicates()"
   ],
   "metadata": {
    "collapsed": false
   },
   "id": "88e84150c14b6654",
   "execution_count": null
  },
  {
   "cell_type": "code",
   "outputs": [],
   "source": [
    "all_data.head()"
   ],
   "metadata": {
    "collapsed": false
   },
   "id": "ffe209615361aacf",
   "execution_count": null
  },
  {
   "cell_type": "code",
   "outputs": [],
   "source": [
    "matches = all_data[all_data['COLLISIONENERGY'].astype(str).str.contains(r'\\d*\\s*\\(NCE\\)', na=False, regex=True)]\n",
    "\n",
    "if len(matches.index) > 1:\n",
    "    all_data.drop(matches.index[1:], inplace=True)"
   ],
   "metadata": {
    "collapsed": false
   },
   "id": "5e7df77bbc6a13ff",
   "execution_count": null
  },
  {
   "cell_type": "code",
   "outputs": [],
   "source": [
    "matches = all_data[all_data['COLLISIONENERGY'].astype(str).str.contains(r'^\\d*$', na=False, regex=True)]\n",
    "\n",
    "if len(matches.index) > 1:\n",
    "    all_data.drop(matches.index[1:], inplace=True)"
   ],
   "metadata": {
    "collapsed": false
   },
   "id": "45490ca5ad3494c8",
   "execution_count": null
  },
  {
   "cell_type": "code",
   "outputs": [],
   "source": [
    "matches = all_data[all_data['COLLISIONENERGY'].astype(str).str.contains(r'^\\d*(\\s+)?eV$', na=False, regex=True)]\n",
    "\n",
    "if len(matches.index) > 1:\n",
    "    all_data.drop(matches.index[1:], inplace=True)"
   ],
   "metadata": {
    "collapsed": false
   },
   "id": "b667032ecea7f666",
   "execution_count": null
  },
  {
   "cell_type": "code",
   "outputs": [],
   "source": [
    "matches = all_data[all_data['COLLISIONENERGY'].astype(str).str.contains(r'^\\d*(\\s+)?V$', na=False, regex=True)]\n",
    "\n",
    "if len(matches.index) > 1:\n",
    "    all_data.drop(matches.index[1:], inplace=True)"
   ],
   "metadata": {
    "collapsed": false
   },
   "id": "d2ba2cd115785e22",
   "execution_count": null
  },
  {
   "cell_type": "code",
   "outputs": [],
   "source": [
    "matches = all_data[all_data['COLLISIONENERGY'].astype(str).str.contains(r'^Ramp [-+]?[0-9]*\\.?[0-9]+([eE][-+]?[0-9]+)?-[-+]?[0-9]*\\.?[0-9]+([eE][-+]?[0-9]+)? eV$', na=False, regex=True)]\n",
    "\n",
    "if len(matches.index) > 1:\n",
    "    all_data.drop(matches.index[1:], inplace=True)"
   ],
   "metadata": {
    "collapsed": false
   },
   "id": "160d27a51aa7d2a6",
   "execution_count": null
  },
  {
   "cell_type": "code",
   "outputs": [],
   "source": [
    "matches = all_data[all_data['COLLISIONENERGY'].astype(str).str.contains(r'^[-+]?[0-9]*\\.?[0-9]+([eE][-+]?[0-9]+)?eV$', na=False, regex=True)]\n",
    "\n",
    "if len(matches.index) > 1:\n",
    "    all_data.drop(matches.index[1:], inplace=True)"
   ],
   "metadata": {
    "collapsed": false
   },
   "id": "404ca8770938ba84",
   "execution_count": null
  },
  {
   "cell_type": "code",
   "outputs": [],
   "source": [
    "matches = all_data[all_data['COLLISIONENERGY'].astype(str).str.contains(r'^[-+]?[0-9]*\\.?[0-9]+([eE][-+]?[0-9]+)?$', na=False, regex=True)]\n",
    "\n",
    "if len(matches.index) > 1:\n",
    "    all_data.drop(matches.index[1:], inplace=True)"
   ],
   "metadata": {
    "collapsed": false
   },
   "id": "f134388ad0b8ec8d",
   "execution_count": null
  },
  {
   "cell_type": "code",
   "outputs": [],
   "source": [
    "matches = all_data[all_data['COLLISIONENERGY'].astype(str).str.contains(r'^\\d+(\\s+)?\\(nominal\\)$', na=False, regex=True)]\n",
    "\n",
    "if len(matches.index) > 1:\n",
    "    all_data.drop(matches.index[1:], inplace=True)"
   ],
   "metadata": {
    "collapsed": false
   },
   "id": "87050895ea0a6d7b",
   "execution_count": null
  },
  {
   "cell_type": "code",
   "outputs": [],
   "source": [
    "matches = all_data[all_data['COLLISIONENERGY'].astype(str).str.contains(r'^\\d+(\\s+)?\\%(\\s+)?\\(nominal\\)$', na=False, regex=True)]\n",
    "\n",
    "if len(matches.index) > 1:\n",
    "    all_data.drop(matches.index[1:], inplace=True)"
   ],
   "metadata": {
    "collapsed": false
   },
   "id": "11f096625a37289d",
   "execution_count": null
  },
  {
   "cell_type": "code",
   "outputs": [],
   "source": [
    "matches = all_data[all_data['COLLISIONENERGY'].astype(str).str.contains(r'^\\d* NCE$', na=False, regex=True)]\n",
    "\n",
    "if len(matches.index) > 1:\n",
    "    all_data.drop(matches.index[1:], inplace=True)"
   ],
   "metadata": {
    "collapsed": false
   },
   "id": "81127a7137905832",
   "execution_count": null
  },
  {
   "cell_type": "code",
   "outputs": [],
   "source": [
    "matches = all_data[all_data['COLLISIONENERGY'].astype(str).str.contains(r'^\\d*HCD$', na=False, regex=True)]\n",
    "\n",
    "if len(matches.index) > 1:\n",
    "    all_data.drop(matches.index[1:], inplace=True)"
   ],
   "metadata": {
    "collapsed": false
   },
   "id": "1703d059c85dc2f",
   "execution_count": null
  },
  {
   "cell_type": "code",
   "outputs": [],
   "source": [
    "matches = all_data[all_data['COLLISIONENERGY'].astype(str).str.contains(r'^RAMP [-+]?[0-9]*\\.?[0-9]+([eE][-+]?[0-9]+)?-[-+]?[0-9]*\\.?[0-9]+([eE][-+]?[0-9]+)? eV$', na=False, regex=True)]\n",
    "\n",
    "if len(matches.index) > 1:\n",
    "    all_data.drop(matches.index[1:], inplace=True)"
   ],
   "metadata": {
    "collapsed": false
   },
   "id": "1f9f484c472c517a",
   "execution_count": null
  },
  {
   "cell_type": "code",
   "outputs": [],
   "source": [
    "matches = all_data[all_data['COLLISIONENERGY'].astype(str).str.contains(r'^[-+]?[0-9]*\\.?[0-9]+([eE][-+]?[0-9]+)?(\\s+)?V$', na=False, regex=True)]\n",
    "\n",
    "if len(matches.index) > 1:\n",
    "    all_data.drop(matches.index[1:], inplace=True)"
   ],
   "metadata": {
    "collapsed": false
   },
   "id": "7778d40f9166af2d",
   "execution_count": null
  },
  {
   "cell_type": "code",
   "outputs": [],
   "source": [
    "matches = all_data[all_data['COLLISIONENERGY'].astype(str).str.contains(r'^\\d*(\\s+)?(HCD|CID)$', na=False, regex=True)]\n",
    "\n",
    "if len(matches.index) > 1:\n",
    "    all_data.drop(matches.index[1:], inplace=True)"
   ],
   "metadata": {
    "collapsed": false
   },
   "id": "e33a9fde8ed82717",
   "execution_count": null
  },
  {
   "cell_type": "code",
   "outputs": [],
   "source": [
    "matches = all_data[all_data['COLLISIONENERGY'].astype(str).str.contains(r'^[-+]?[0-9]*\\.?[0-9]+([eE][-+]?[0-9]+)?(\\s+)?(NCE|eV)$', na=False, regex=True)]\n",
    "\n",
    "if len(matches.index) > 1:\n",
    "    all_data.drop(matches.index[1:], inplace=True)"
   ],
   "metadata": {
    "collapsed": false
   },
   "id": "aca2147e2dc329f",
   "execution_count": null
  },
  {
   "cell_type": "code",
   "outputs": [],
   "source": [
    "matches = all_data[all_data['COLLISIONENERGY'].astype(str).str.contains(r'^\\d*(\\s+)?%$', na=False, regex=True)]\n",
    "\n",
    "if len(matches.index) > 1:\n",
    "    all_data.drop(matches.index[1:], inplace=True)"
   ],
   "metadata": {
    "collapsed": false
   },
   "id": "ea198f250b48684c",
   "execution_count": null
  },
  {
   "cell_type": "code",
   "outputs": [],
   "source": [
    "matches = all_data[all_data['COLLISIONENERGY'].astype(str).str.contains(r'^[-+]?[0-9]*\\.?[0-9]+([eE][-+]?[0-9]+)?/[-+]?[0-9]*\\.?[0-9]+([eE][-+]?[0-9]+)?(/[-+]?[0-9]*\\.?[0-9]+([eE][-+]?[0-9]+)?)?', na=False, regex=True)]\n",
    "\n",
    "if len(matches.index) > 1:\n",
    "    all_data.drop(matches.index[1:], inplace=True)"
   ],
   "metadata": {
    "collapsed": false
   },
   "id": "9cb1383ae8806413",
   "execution_count": null
  },
  {
   "cell_type": "code",
   "outputs": [],
   "source": [
    "matches = all_data[all_data['COLLISIONENERGY'].astype(str).str.contains(r'^[-+]?[0-9]*\\.?[0-9]+([eE][-+]?[0-9]+)?->[-+]?[0-9]*\\.?[0-9]+([eE][-+]?[0-9]+)?(\\s+)?(V|eV|%)', na=False, regex=True)]\n",
    "\n",
    "if len(matches.index) > 1:\n",
    "    all_data.drop(matches.index[1:], inplace=True)"
   ],
   "metadata": {
    "collapsed": false
   },
   "id": "adf94556fcfdcb08",
   "execution_count": null
  },
  {
   "cell_type": "code",
   "outputs": [],
   "source": [
    "all_data"
   ],
   "metadata": {
    "collapsed": false
   },
   "id": "63e8d535eaca35e6",
   "execution_count": null
  },
  {
   "cell_type": "code",
   "outputs": [],
   "source": [],
   "metadata": {
    "collapsed": false
   },
   "id": "8d7b86f065321d6d",
   "execution_count": null
  }
 ],
 "metadata": {
  "kernelspec": {
   "display_name": "Python 3",
   "language": "python",
   "name": "python3"
  },
  "language_info": {
   "codemirror_mode": {
    "name": "ipython",
    "version": 2
   },
   "file_extension": ".py",
   "mimetype": "text/x-python",
   "name": "python",
   "nbconvert_exporter": "python",
   "pygments_lexer": "ipython2",
   "version": "2.7.6"
  }
 },
 "nbformat": 4,
 "nbformat_minor": 5
}
