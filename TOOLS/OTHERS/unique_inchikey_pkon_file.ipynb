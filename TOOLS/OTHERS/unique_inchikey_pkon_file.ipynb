{
 "cells": [
  {
   "cell_type": "code",
   "id": "initial_id",
   "metadata": {
    "collapsed": true,
    "ExecuteTime": {
     "end_time": "2024-11-13T13:55:38.156413Z",
     "start_time": "2024-11-13T13:55:36.726888Z"
    }
   },
   "source": [
    "import pandas as pd\n",
    "\n",
    "# Chemin d'entrée du fichier CSV\n",
    "input_file_path = r'D:\\Axel\\DATAS\\pharmakon\\PKON_FragHub_ontology.csv'\n",
    "# Chemin de sortie du fichier CSV\n",
    "output_file_path = r'D:\\Axel\\DATAS\\pharmakon\\PKON_FragHub_ontology_unique_inchikey.csv'\n",
    "\n",
    "# Lecture du fichier CSV avec séparateur \";\"\n",
    "df = pd.read_csv(input_file_path, sep=';')\n",
    "\n",
    "# Suppression des doublons en gardant le premier INCHIKEY unique\n",
    "df_unique = df.drop_duplicates(subset=['INCHIKEY'], keep='first')\n",
    "\n",
    "# Écriture du nouveau fichier CSV avec les INCHIKEY uniques\n",
    "df_unique.to_csv(output_file_path, sep=';', index=False)\n",
    "\n",
    "print(f\"Fichier avec INCHIKEY uniques sauvegardé à : {output_file_path}\")\n"
   ],
   "outputs": [
    {
     "name": "stdout",
     "output_type": "stream",
     "text": [
      "Fichier avec INCHIKEY uniques sauvegardé à : D:\\Axel\\DATAS\\pharmakon\\PKON_FragHub_ontology_unique_inchikey.csv\n"
     ]
    }
   ],
   "execution_count": 1
  }
 ],
 "metadata": {
  "kernelspec": {
   "display_name": "Python 3",
   "language": "python",
   "name": "python3"
  },
  "language_info": {
   "codemirror_mode": {
    "name": "ipython",
    "version": 2
   },
   "file_extension": ".py",
   "mimetype": "text/x-python",
   "name": "python",
   "nbconvert_exporter": "python",
   "pygments_lexer": "ipython2",
   "version": "2.7.6"
  }
 },
 "nbformat": 4,
 "nbformat_minor": 5
}
