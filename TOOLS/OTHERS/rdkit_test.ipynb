{
 "cells": [
  {
   "cell_type": "code",
   "id": "initial_id",
   "metadata": {
    "collapsed": true,
    "ExecuteTime": {
     "end_time": "2024-04-17T08:25:29.954584Z",
     "start_time": "2024-04-17T08:25:29.939085Z"
    }
   },
   "source": [
    "from rdkit.Chem.rdMolDescriptors import CalcMolFormula\n",
    "from rdkit.Chem.Descriptors import ExactMolWt, MolWt\n",
    "from rdkit import RDLogger, Chem\n",
    "import re"
   ],
   "outputs": [],
   "execution_count": 36
  },
  {
   "cell_type": "code",
   "source": [
    "# RDLogger.DisableLog('rdApp.*') # Disable rdkit log (warning) messages\n",
    "\n",
    "inchikey_pattern = re.compile(r\"([A-Z]{14}-[A-Z]{10}-[NO])|([A-Z]{14})\", flags=re.IGNORECASE) # Match inchikey or short inchikey\n",
    "indigo_smiles_correction_pattern = re.compile(r\"\\|[\\s\\S]*\")"
   ],
   "metadata": {
    "collapsed": false,
    "ExecuteTime": {
     "end_time": "2024-04-17T08:25:29.970472Z",
     "start_time": "2024-04-17T08:25:29.954584Z"
    }
   },
   "id": "a16b6b12ad83963f",
   "outputs": [],
   "execution_count": 37
  },
  {
   "cell_type": "code",
   "source": [
    "def apply_transformations(inchi_smiles):\n",
    "    \"\"\"\n",
    "    Apply transformations to a given InChI or SMILES string.\n",
    "\n",
    "    :param inchi_smiles: The InChI or SMILES string.\n",
    "    :return: A dictionary containing the transformed values of the input string.\n",
    "    \"\"\"\n",
    "    transforms = {}\n",
    "\n",
    "    if 'InChI=' not in inchi_smiles:\n",
    "        inchi_smiles = re.sub(indigo_smiles_correction_pattern, \"\", inchi_smiles)\n",
    "    print(inchi_smiles)\n",
    "    if isinstance(inchi_smiles, str):\n",
    "        mol = Chem.MolFromInchi(inchi_smiles) if 'InChI=' in inchi_smiles else Chem.MolFromSmiles(inchi_smiles, sanitize=True)\n",
    "        print(mol)\n",
    "        # Mol harmonization\n",
    "        if mol is not None:\n",
    "            transforms = {\n",
    "                'INCHI': Chem.MolToInchi(mol),\n",
    "                'INCHIKEY': Chem.MolToInchiKey(mol),\n",
    "                'SMILES': Chem.MolToSmiles(mol, kekuleSmiles=True),\n",
    "                'FORMULA': CalcMolFormula(mol),\n",
    "            }\n",
    "        # Mass calculation\n",
    "        if transforms:\n",
    "            mol = Chem.MolFromInchi(transforms['INCHI']) if 'InChI=' in inchi_smiles else Chem.MolFromSmiles(transforms['SMILES'])\n",
    "            if mol is not None:\n",
    "                try:\n",
    "                    transforms['EXACTMASS'] = ExactMolWt(mol)\n",
    "                    transforms['AVERAGEMASS'] = MolWt(mol)\n",
    "                except:\n",
    "                    return transforms\n",
    "\n",
    "    return transforms"
   ],
   "metadata": {
    "collapsed": false,
    "ExecuteTime": {
     "end_time": "2024-04-17T08:25:29.986386Z",
     "start_time": "2024-04-17T08:25:29.970472Z"
    }
   },
   "id": "2ba2361ee869a80e",
   "outputs": [],
   "execution_count": 38
  },
  {
   "cell_type": "code",
   "source": "inchi_smiles = \"CCC=CCC=CCC=CCC=CCC=CCCCCCCCC(=O)OC(COC(=O)CCCCCCCC)COP(=O)([O-])OCC[N+](C)(C)C\"",
   "metadata": {
    "collapsed": false,
    "ExecuteTime": {
     "end_time": "2024-04-17T08:25:29.999994Z",
     "start_time": "2024-04-17T08:25:29.986386Z"
    }
   },
   "id": "d8184cf8b706c406",
   "outputs": [],
   "execution_count": 39
  },
  {
   "cell_type": "code",
   "source": [
    "print(apply_transformations(inchi_smiles))"
   ],
   "metadata": {
    "collapsed": false,
    "ExecuteTime": {
     "end_time": "2024-04-17T08:25:30.015847Z",
     "start_time": "2024-04-17T08:25:30.001064Z"
    }
   },
   "id": "cc4a8aab4378b88d",
   "outputs": [
    {
     "name": "stdout",
     "output_type": "stream",
     "text": [
      "CCC=CCC=CCC=CCC=CCC=CCCCCCCCC(=O)OC(COC(=O)CCCCCCCC)COP(=O)([O-])OCC[N+](C)(C)C\n",
      "<rdkit.Chem.rdchem.Mol object at 0x00000260F768AFF0>\n",
      "{'INCHI': 'InChI=1S/C41H72NO8P/c1-6-8-10-12-14-15-16-17-18-19-20-21-22-23-24-25-26-27-28-30-32-34-41(44)50-39(37-47-40(43)33-31-29-13-11-9-7-2)38-49-51(45,46)48-36-35-42(3,4)5/h8,10,14-15,17-18,20-21,23-24,39H,6-7,9,11-13,16,19,22,25-38H2,1-5H3', 'INCHIKEY': 'AALQMHQUDHIRSD-UHFFFAOYSA-N', 'SMILES': 'CCC=CCC=CCC=CCC=CCC=CCCCCCCCC(=O)OC(COC(=O)CCCCCCCC)COP(=O)([O-])OCC[N+](C)(C)C', 'FORMULA': 'C41H72NO8P', 'EXACTMASS': 737.4995548939999, 'AVERAGEMASS': 738.0000000000002}\n"
     ]
    },
    {
     "name": "stderr",
     "output_type": "stream",
     "text": [
      "[10:25:30] WARNING: Omitted undefined stereo\n",
      "\n"
     ]
    }
   ],
   "execution_count": 40
  }
 ],
 "metadata": {
  "kernelspec": {
   "display_name": "Python 3",
   "language": "python",
   "name": "python3"
  },
  "language_info": {
   "codemirror_mode": {
    "name": "ipython",
    "version": 2
   },
   "file_extension": ".py",
   "mimetype": "text/x-python",
   "name": "python",
   "nbconvert_exporter": "python",
   "pygments_lexer": "ipython2",
   "version": "2.7.6"
  }
 },
 "nbformat": 4,
 "nbformat_minor": 5
}
