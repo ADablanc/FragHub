{
 "cells": [
  {
   "cell_type": "code",
   "id": "initial_id",
   "metadata": {
    "collapsed": true,
    "ExecuteTime": {
     "end_time": "2024-04-17T09:37:31.845416Z",
     "start_time": "2024-04-17T09:37:31.830119Z"
    }
   },
   "source": [
    "from rdkit import Chem\n",
    "from rdkit.Chem import rdMolDescriptors\n",
    "from rdkit.Chem.Scaffolds import MurckoScaffold\n",
    "\n",
    "# Supprimer les atomes d'hydrogène explicites des molécules\n",
    "def remove_explicit_hydrogens(mol):\n",
    "    return Chem.RemoveHs(mol)\n",
    "\n",
    "# Générer les scaffolds Murcko\n",
    "def generate_murcko_scaffold(mol):\n",
    "    scaffold = MurckoScaffold.GetScaffoldForMol(mol)\n",
    "    return scaffold\n",
    "\n",
    "# Charger vos molécules (remplacez smiles_string par vos SMILES)\n",
    "smiles_string = \"CCC=CCC=CCC=CCC=CCC=CCCCCCCCC(=O)OC(COC(=O)CCCCCCCC)COP(=O)([O-])OCC[N+](C)(C)C\"\n",
    "mol = Chem.MolFromSmiles(smiles_string)\n",
    "\n",
    "# Supprimer les hydrogènes explicites\n",
    "mol = remove_explicit_hydrogens(mol)\n",
    "\n",
    "# Générer le scaffold Murcko\n",
    "murcko_scaffold = generate_murcko_scaffold(mol)\n",
    "\n",
    "# Convertir le scaffold en SMILES\n",
    "murcko_smiles = Chem.MolToSmiles(murcko_scaffold)\n",
    "\n",
    "print(\"Scaffold Murcko:\", murcko_smiles)"
   ],
   "outputs": [
    {
     "name": "stdout",
     "output_type": "stream",
     "text": [
      "Scaffold Murcko: \n"
     ]
    }
   ],
   "execution_count": 27
  },
  {
   "metadata": {
    "ExecuteTime": {
     "end_time": "2024-04-17T09:37:31.860215Z",
     "start_time": "2024-04-17T09:37:31.845416Z"
    }
   },
   "cell_type": "code",
   "source": [
    "mol = Chem.MolFromSmiles('CC(CCC(N)C(=O)O)NC(=N)N')\n",
    "print(Chem.MolToSmiles(MurckoScaffold.MakeScaffoldGeneric(mol)))"
   ],
   "id": "4bd6fb0192ff67a",
   "outputs": [
    {
     "name": "stdout",
     "output_type": "stream",
     "text": [
      "CC(C)CC(C)CCC(C)C(C)C\n"
     ]
    }
   ],
   "execution_count": 28
  },
  {
   "metadata": {
    "ExecuteTime": {
     "end_time": "2024-04-17T09:37:31.874685Z",
     "start_time": "2024-04-17T09:37:31.860215Z"
    }
   },
   "cell_type": "code",
   "source": "print(MurckoScaffold.MurckoScaffoldSmilesFromSmiles(('CC(CCC(N)C(=O)O)NC(=N)N')))",
   "id": "db4ed824c05cfecc",
   "outputs": [
    {
     "name": "stdout",
     "output_type": "stream",
     "text": [
      "\n"
     ]
    }
   ],
   "execution_count": 29
  },
  {
   "metadata": {
    "ExecuteTime": {
     "end_time": "2024-04-17T09:37:31.878037Z",
     "start_time": "2024-04-17T09:37:31.874685Z"
    }
   },
   "cell_type": "code",
   "source": "",
   "id": "5416ef5b96968e45",
   "outputs": [],
   "execution_count": 29
  }
 ],
 "metadata": {
  "kernelspec": {
   "display_name": "Python 3",
   "language": "python",
   "name": "python3"
  },
  "language_info": {
   "codemirror_mode": {
    "name": "ipython",
    "version": 2
   },
   "file_extension": ".py",
   "mimetype": "text/x-python",
   "name": "python",
   "nbconvert_exporter": "python",
   "pygments_lexer": "ipython2",
   "version": "2.7.6"
  }
 },
 "nbformat": 4,
 "nbformat_minor": 5
}
