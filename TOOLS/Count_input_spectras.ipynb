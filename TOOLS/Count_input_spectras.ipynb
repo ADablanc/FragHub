{
 "cells": [
  {
   "cell_type": "code",
   "execution_count": 1,
   "id": "initial_id",
   "metadata": {
    "collapsed": true,
    "ExecuteTime": {
     "end_time": "2023-12-04T14:54:32.277934800Z",
     "start_time": "2023-12-04T14:54:32.269097200Z"
    }
   },
   "outputs": [],
   "source": [
    "import os"
   ]
  },
  {
   "cell_type": "code",
   "execution_count": 2,
   "outputs": [],
   "source": [
    "path = r\"C:\\Users\\Axel\\Documents\\Présentations\\FragBank\\Publication\\DATAs\\NOT_CLEAN\""
   ],
   "metadata": {
    "collapsed": false,
    "ExecuteTime": {
     "end_time": "2023-12-04T14:54:32.314366900Z",
     "start_time": "2023-12-04T14:54:32.278999200Z"
    }
   },
   "id": "89e2be4479177f80"
  },
  {
   "cell_type": "code",
   "execution_count": 3,
   "outputs": [],
   "source": [
    "TOTAL_INPUT_SPECTRUM = 0"
   ],
   "metadata": {
    "collapsed": false,
    "ExecuteTime": {
     "end_time": "2023-12-04T14:54:32.319947500Z",
     "start_time": "2023-12-04T14:54:32.312499800Z"
    }
   },
   "id": "18abf7b25ada5f88"
  },
  {
   "cell_type": "code",
   "execution_count": 4,
   "outputs": [],
   "source": [
    "for files in os.listdir(path):\n",
    "    file_path = os.path.join(path,files)\n",
    "    if file_path.endswith(\".msp\"):\n",
    "        with open(file_path,\"r\",encoding=\"UTF-8\") as buffer:\n",
    "            content = buffer.read()\n",
    "        \n",
    "        spectrum_list = content.split(\"\\n\\n\\n\")\n",
    "        TOTAL_INPUT_SPECTRUM += len(spectrum_list)"
   ],
   "metadata": {
    "collapsed": false,
    "ExecuteTime": {
     "end_time": "2023-12-04T14:54:54.143668Z",
     "start_time": "2023-12-04T14:54:32.319947500Z"
    }
   },
   "id": "94a5d7d7965b5f6f"
  },
  {
   "cell_type": "code",
   "execution_count": 5,
   "outputs": [
    {
     "name": "stdout",
     "output_type": "stream",
     "text": [
      "2669167\n"
     ]
    }
   ],
   "source": [
    "print(TOTAL_INPUT_SPECTRUM)"
   ],
   "metadata": {
    "collapsed": false,
    "ExecuteTime": {
     "end_time": "2023-12-04T14:54:54.199016300Z",
     "start_time": "2023-12-04T14:54:54.151867200Z"
    }
   },
   "id": "f8e53406b3483d97"
  }
 ],
 "metadata": {
  "kernelspec": {
   "display_name": "Python 3",
   "language": "python",
   "name": "python3"
  },
  "language_info": {
   "codemirror_mode": {
    "name": "ipython",
    "version": 2
   },
   "file_extension": ".py",
   "mimetype": "text/x-python",
   "name": "python",
   "nbconvert_exporter": "python",
   "pygments_lexer": "ipython2",
   "version": "2.7.6"
  }
 },
 "nbformat": 4,
 "nbformat_minor": 5
}
