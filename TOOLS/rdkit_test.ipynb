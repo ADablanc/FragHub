{
 "cells": [
  {
   "cell_type": "code",
   "execution_count": null,
   "id": "initial_id",
   "metadata": {
    "collapsed": true
   },
   "outputs": [],
   "source": [
    "from rdkit.Chem.rdMolDescriptors import CalcMolFormula\n",
    "from rdkit.Chem.Descriptors import ExactMolWt, MolWt\n",
    "from rdkit import RDLogger, Chem\n",
    "import re"
   ]
  },
  {
   "cell_type": "code",
   "outputs": [],
   "source": [
    "def apply_transformations(inchi_smiles):\n",
    "    \"\"\"\n",
    "    Apply transformations to a given InChI or SMILES string.\n",
    "\n",
    "    :param inchi_smiles: The InChI or SMILES string.\n",
    "    :return: A dictionary containing the transformed values of the input string.\n",
    "    \"\"\"\n",
    "    transforms = {}\n",
    "\n",
    "    if 'InChI=' not in inchi_smiles:\n",
    "        inchi_smiles = re.sub(indigo_smiles_correction_pattern, \"\", inchi_smiles)\n",
    "\n",
    "    if isinstance(inchi_smiles, str):\n",
    "        mol = Chem.MolFromInchi(inchi_smiles) if 'InChI=' in inchi_smiles else Chem.MolFromSmiles(inchi_smiles)\n",
    "        # Mol harmonization\n",
    "        if mol is not None:\n",
    "            transforms = {\n",
    "                'INCHI': Chem.MolToInchi(mol),\n",
    "                'INCHIKEY': Chem.MolToInchiKey(mol),\n",
    "                'SMILES': Chem.MolToSmiles(mol),\n",
    "                'FORMULA': CalcMolFormula(mol),\n",
    "            }\n",
    "        # Mass calculation\n",
    "        if transforms:\n",
    "            mol = Chem.MolFromInchi(transforms['INCHI']) if 'InChI=' in inchi_smiles else Chem.MolFromSmiles(transforms['SMILES'])\n",
    "            if mol is not None:\n",
    "                try:\n",
    "                    transforms['EXACTMASS'] = ExactMolWt(mol)\n",
    "                    transforms['AVERAGEMASS'] = MolWt(mol)\n",
    "                except:\n",
    "                    return transforms\n",
    "\n",
    "    return transforms"
   ],
   "metadata": {
    "collapsed": false
   },
   "id": "2ba2361ee869a80e"
  },
  {
   "cell_type": "code",
   "outputs": [],
   "source": [
    "inchi_smiles = \"\""
   ],
   "metadata": {
    "collapsed": false
   },
   "id": "d8184cf8b706c406"
  },
  {
   "cell_type": "code",
   "outputs": [],
   "source": [
    "print(apply_transformations(inchi_smiles))"
   ],
   "metadata": {
    "collapsed": false
   },
   "id": "cc4a8aab4378b88d"
  }
 ],
 "metadata": {
  "kernelspec": {
   "display_name": "Python 3",
   "language": "python",
   "name": "python3"
  },
  "language_info": {
   "codemirror_mode": {
    "name": "ipython",
    "version": 2
   },
   "file_extension": ".py",
   "mimetype": "text/x-python",
   "name": "python",
   "nbconvert_exporter": "python",
   "pygments_lexer": "ipython2",
   "version": "2.7.6"
  }
 },
 "nbformat": 4,
 "nbformat_minor": 5
}
