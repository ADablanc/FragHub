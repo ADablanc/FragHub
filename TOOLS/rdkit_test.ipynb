{
 "cells": [
  {
   "cell_type": "code",
   "id": "initial_id",
   "metadata": {
    "collapsed": true,
    "ExecuteTime": {
     "end_time": "2024-04-08T09:19:55.976011Z",
     "start_time": "2024-04-08T09:19:55.965299Z"
    }
   },
   "source": [
    "from rdkit.Chem.rdMolDescriptors import CalcMolFormula\n",
    "from rdkit.Chem.Descriptors import ExactMolWt, MolWt\n",
    "from rdkit import RDLogger, Chem\n",
    "import re"
   ],
   "outputs": [],
   "execution_count": 6
  },
  {
   "cell_type": "code",
   "source": [
    "# RDLogger.DisableLog('rdApp.*') # Disable rdkit log (warning) messages\n",
    "\n",
    "inchikey_pattern = re.compile(r\"([A-Z]{14}-[A-Z]{10}-[NO])|([A-Z]{14})\", flags=re.IGNORECASE) # Match inchikey or short inchikey\n",
    "indigo_smiles_correction_pattern = re.compile(r\"\\|[\\s\\S]*\")"
   ],
   "metadata": {
    "collapsed": false,
    "ExecuteTime": {
     "end_time": "2024-04-08T09:19:55.990257Z",
     "start_time": "2024-04-08T09:19:55.977037Z"
    }
   },
   "id": "a16b6b12ad83963f",
   "outputs": [],
   "execution_count": 7
  },
  {
   "cell_type": "code",
   "source": [
    "def apply_transformations(inchi_smiles):\n",
    "    \"\"\"\n",
    "    Apply transformations to a given InChI or SMILES string.\n",
    "\n",
    "    :param inchi_smiles: The InChI or SMILES string.\n",
    "    :return: A dictionary containing the transformed values of the input string.\n",
    "    \"\"\"\n",
    "    transforms = {}\n",
    "\n",
    "    if 'InChI=' not in inchi_smiles:\n",
    "        inchi_smiles = re.sub(indigo_smiles_correction_pattern, \"\", inchi_smiles)\n",
    "    print(inchi_smiles)\n",
    "    if isinstance(inchi_smiles, str):\n",
    "        mol = Chem.MolFromInchi(inchi_smiles) if 'InChI=' in inchi_smiles else Chem.MolFromSmiles(inchi_smiles)\n",
    "        print(mol)\n",
    "        # Mol harmonization\n",
    "        if mol is not None:\n",
    "            transforms = {\n",
    "                'INCHI': Chem.MolToInchi(mol),\n",
    "                'INCHIKEY': Chem.MolToInchiKey(mol),\n",
    "                'SMILES': Chem.MolToSmiles(mol),\n",
    "                'FORMULA': CalcMolFormula(mol),\n",
    "            }\n",
    "        # Mass calculation\n",
    "        if transforms:\n",
    "            mol = Chem.MolFromInchi(transforms['INCHI']) if 'InChI=' in inchi_smiles else Chem.MolFromSmiles(transforms['SMILES'])\n",
    "            if mol is not None:\n",
    "                try:\n",
    "                    transforms['EXACTMASS'] = ExactMolWt(mol)\n",
    "                    transforms['AVERAGEMASS'] = MolWt(mol)\n",
    "                except:\n",
    "                    return transforms\n",
    "\n",
    "    return transforms"
   ],
   "metadata": {
    "collapsed": false,
    "ExecuteTime": {
     "end_time": "2024-04-08T09:19:56.005606Z",
     "start_time": "2024-04-08T09:19:55.990257Z"
    }
   },
   "id": "2ba2361ee869a80e",
   "outputs": [],
   "execution_count": 8
  },
  {
   "cell_type": "code",
   "source": "inchi_smiles = \"O=C1N=C(O)C(=CN1C2OC(CO)C(OP(=O)(O)O)C2)C\"",
   "metadata": {
    "collapsed": false,
    "ExecuteTime": {
     "end_time": "2024-04-08T09:19:56.020097Z",
     "start_time": "2024-04-08T09:19:56.005606Z"
    }
   },
   "id": "d8184cf8b706c406",
   "outputs": [],
   "execution_count": 9
  },
  {
   "cell_type": "code",
   "source": [
    "print(apply_transformations(inchi_smiles))"
   ],
   "metadata": {
    "collapsed": false,
    "ExecuteTime": {
     "end_time": "2024-04-08T09:19:56.038057Z",
     "start_time": "2024-04-08T09:19:56.020097Z"
    }
   },
   "id": "cc4a8aab4378b88d",
   "outputs": [
    {
     "name": "stdout",
     "output_type": "stream",
     "text": [
      "O=C1N=C(O)C(=CN1C2OC(CO)C(OP(=O)(O)O)C2)C\n",
      "<rdkit.Chem.rdchem.Mol object at 0x000001B8DDB62030>\n",
      "{'INCHI': 'InChI=1S/C10H15N2O8P/c1-5-3-12(10(15)11-9(5)14)8-2-6(7(4-13)19-8)20-21(16,17)18/h3,6-8,13H,2,4H2,1H3,(H,11,14,15)(H2,16,17,18)', 'INCHIKEY': 'XXYIANZGUOSQHY-UHFFFAOYSA-N', 'SMILES': 'Cc1cn(C2CC(OP(=O)(O)O)C(CO)O2)c(=O)nc1O', 'FORMULA': 'C10H15N2O8P', 'EXACTMASS': 322.05660207000005, 'AVERAGEMASS': 322.21000000000004}\n"
     ]
    },
    {
     "name": "stderr",
     "output_type": "stream",
     "text": [
      "[11:19:56] WARNING: Omitted undefined stereo\n",
      "\n"
     ]
    }
   ],
   "execution_count": 10
  }
 ],
 "metadata": {
  "kernelspec": {
   "display_name": "Python 3",
   "language": "python",
   "name": "python3"
  },
  "language_info": {
   "codemirror_mode": {
    "name": "ipython",
    "version": 2
   },
   "file_extension": ".py",
   "mimetype": "text/x-python",
   "name": "python",
   "nbconvert_exporter": "python",
   "pygments_lexer": "ipython2",
   "version": "2.7.6"
  }
 },
 "nbformat": 4,
 "nbformat_minor": 5
}
