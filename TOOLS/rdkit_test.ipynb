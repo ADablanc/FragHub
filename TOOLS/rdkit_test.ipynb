{
 "cells": [
  {
   "cell_type": "code",
   "id": "initial_id",
   "metadata": {
    "collapsed": true
   },
   "source": [
    "from rdkit.Chem.rdMolDescriptors import CalcMolFormula\n",
    "from rdkit.Chem.Descriptors import ExactMolWt, MolWt\n",
    "from rdkit import RDLogger, Chem\n",
    "import re"
   ],
   "outputs": [],
   "execution_count": null
  },
  {
   "cell_type": "code",
   "source": [
    "# RDLogger.DisableLog('rdApp.*') # Disable rdkit log (warning) messages\n",
    "\n",
    "inchikey_pattern = re.compile(r\"([A-Z]{14}-[A-Z]{10}-[NO])|([A-Z]{14})\", flags=re.IGNORECASE) # Match inchikey or short inchikey\n",
    "indigo_smiles_correction_pattern = re.compile(r\"\\|[\\s\\S]*\")"
   ],
   "metadata": {
    "collapsed": false
   },
   "id": "a16b6b12ad83963f",
   "outputs": [],
   "execution_count": null
  },
  {
   "cell_type": "code",
   "source": [
    "def apply_transformations(inchi_smiles):\n",
    "    \"\"\"\n",
    "    Apply transformations to a given InChI or SMILES string.\n",
    "\n",
    "    :param inchi_smiles: The InChI or SMILES string.\n",
    "    :return: A dictionary containing the transformed values of the input string.\n",
    "    \"\"\"\n",
    "    transforms = {}\n",
    "\n",
    "    if 'InChI=' not in inchi_smiles:\n",
    "        inchi_smiles = re.sub(indigo_smiles_correction_pattern, \"\", inchi_smiles)\n",
    "    print(inchi_smiles)\n",
    "    if isinstance(inchi_smiles, str):\n",
    "        mol = Chem.MolFromInchi(inchi_smiles) if 'InChI=' in inchi_smiles else Chem.MolFromSmiles(inchi_smiles, sanitize=True)\n",
    "        print(mol)\n",
    "        # Mol harmonization\n",
    "        if mol is not None:\n",
    "            transforms = {\n",
    "                'INCHI': Chem.MolToInchi(mol),\n",
    "                'INCHIKEY': Chem.MolToInchiKey(mol),\n",
    "                'SMILES': Chem.MolToSmiles(mol, canonical=True),\n",
    "                'FORMULA': CalcMolFormula(mol),\n",
    "            }\n",
    "        # Mass calculation\n",
    "        if transforms:\n",
    "            mol = Chem.MolFromInchi(transforms['INCHI']) if 'InChI=' in inchi_smiles else Chem.MolFromSmiles(transforms['SMILES'])\n",
    "            if mol is not None:\n",
    "                try:\n",
    "                    transforms['EXACTMASS'] = ExactMolWt(mol)\n",
    "                    transforms['AVERAGEMASS'] = MolWt(mol)\n",
    "                except:\n",
    "                    return transforms\n",
    "\n",
    "    return transforms"
   ],
   "metadata": {
    "collapsed": false
   },
   "id": "2ba2361ee869a80e",
   "outputs": [],
   "execution_count": null
  },
  {
   "cell_type": "code",
   "source": "inchi_smiles = \"COc1ccc2cc(C3CC(=O)Oc4cc(C)[nH]c(=O)c43)c(=O)[nH]c2c1\"",
   "metadata": {
    "collapsed": false
   },
   "id": "d8184cf8b706c406",
   "outputs": [],
   "execution_count": null
  },
  {
   "cell_type": "code",
   "source": [
    "print(apply_transformations(inchi_smiles))"
   ],
   "metadata": {
    "collapsed": false
   },
   "id": "cc4a8aab4378b88d",
   "outputs": [],
   "execution_count": null
  }
 ],
 "metadata": {
  "kernelspec": {
   "display_name": "Python 3",
   "language": "python",
   "name": "python3"
  },
  "language_info": {
   "codemirror_mode": {
    "name": "ipython",
    "version": 2
   },
   "file_extension": ".py",
   "mimetype": "text/x-python",
   "name": "python",
   "nbconvert_exporter": "python",
   "pygments_lexer": "ipython2",
   "version": "2.7.6"
  }
 },
 "nbformat": 4,
 "nbformat_minor": 5
}
