{
 "cells": [
  {
   "cell_type": "code",
   "execution_count": 224,
   "outputs": [],
   "source": [
    "import plotly.express as px\n",
    "from tkinter import ttk\n",
    "import tkinter as tk\n",
    "import pandas as pd"
   ],
   "metadata": {
    "collapsed": false,
    "ExecuteTime": {
     "end_time": "2023-12-04T11:23:00.522530200Z",
     "start_time": "2023-12-04T11:23:00.482906700Z"
    }
   },
   "id": "fbf1d0ec6cc29aa"
  },
  {
   "cell_type": "code",
   "execution_count": 225,
   "outputs": [],
   "source": [
    "class MaFenetre:\n",
    "\n",
    "    def __init__(self, root, colonnes_df):\n",
    "        self.root = root\n",
    "        self.colonnes_df = colonnes_df\n",
    "        self.resultat = None\n",
    "        self.colonne_counts = None\n",
    "        self.colonnes_selectionnees = []  # Ajout d'une liste pour stocker les colonnes sélectionnées\n",
    "        self.current_frame = 1\n",
    "        self.build_frame1()\n",
    "        self.colonne_counts_selectionnee = None  # Nouvelle variable membre\n",
    "        self.colonne_couleur_selectionnee = None  # Nouvelle variable membre\n",
    "\n",
    "    def build_frame1(self):\n",
    "        self.frame1 = ttk.Frame(self.root, padding=\"10\")\n",
    "        self.frame1.grid(row=0, column=0, sticky=(tk.W, tk.E, tk.N, tk.S))\n",
    "    \n",
    "        if self.current_frame == 1:\n",
    "            self.label_question = ttk.Label(self.frame1, text=\"Quelle est la colonne des counts ?\")\n",
    "            self.label_question.grid(row=0, column=0, columnspan=2, pady=10)\n",
    "    \n",
    "            self.var_colonne_counts = tk.StringVar()\n",
    "            colonnes_disponibles = self.colonnes_df.columns.tolist()\n",
    "            self.menu_colonne_counts = ttk.Combobox(self.frame1, textvariable=self.var_colonne_counts, values=colonnes_disponibles)\n",
    "            self.menu_colonne_counts.grid(row=1, column=0, columnspan=2, pady=10)\n",
    "    \n",
    "            self.label_question_couleurs = ttk.Label(self.frame1, text=\"Quelle est la colonne du noeud de la racine de la hiérarchie ?\")\n",
    "            self.label_question_couleurs.grid(row=2, column=0, columnspan=2, pady=10)\n",
    "    \n",
    "            self.var_colonne_couleurs = tk.StringVar()\n",
    "            colonnes_disponibles_couleurs = self.colonnes_df.columns.tolist()\n",
    "            self.menu_colonne_couleurs = ttk.Combobox(self.frame1, textvariable=self.var_colonne_couleurs, values=colonnes_disponibles_couleurs)\n",
    "            self.menu_colonne_couleurs.grid(row=3, column=0, columnspan=2, pady=10)\n",
    "    \n",
    "            self.bouton_next1 = ttk.Button(self.frame1, text=\"Next\", command=self.afficher_fenetre_colonnes)\n",
    "            self.bouton_next1.grid(row=4, column=0, columnspan=2, pady=10)\n",
    "        elif self.current_frame == 2:\n",
    "            self.label_frame2 = ttk.Label(self.frame1, text=\"Combien de colonnes ?\")\n",
    "            self.label_frame2.grid(row=0, column=0, columnspan=2, pady=10)\n",
    "    \n",
    "            self.var_nombre_colonnes = tk.StringVar()\n",
    "            self.menu_nombre_colonnes = ttk.Combobox(self.frame1, textvariable=self.var_nombre_colonnes, values=list(range(1, 11)))\n",
    "            self.menu_nombre_colonnes.grid(row=1, column=0, columnspan=2, pady=10)\n",
    "    \n",
    "            self.bouton_precedent = ttk.Button(self.frame1, text=\"Précédent\", command=self.retour_fenetre_principale)\n",
    "            self.bouton_precedent.grid(row=2, column=0, pady=10)\n",
    "            self.bouton_next2 = ttk.Button(self.frame1, text=\"Next\", command=self.afficher_fenetre_colonnes)\n",
    "            self.bouton_next2.grid(row=2, column=1, pady=10)\n",
    "    \n",
    "\n",
    "    def afficher_fenetre_colonnes(self):\n",
    "        if self.current_frame == 1:\n",
    "            self.colonne_counts_selectionnee = self.var_colonne_counts.get()  # Enregistrez le nom de la colonne sélectionnée\n",
    "            self.colonne_couleur_selectionnee = self.var_colonne_couleurs.get()  # Enregistrez le nom de la colonne sélectionnée\n",
    "            self.build_frame2()\n",
    "        elif self.current_frame == 2:\n",
    "            # Code pour traiter les résultats de la deuxième fenêtre si nécessaire\n",
    "            self.build_frame3()\n",
    "\n",
    "    def build_frame2(self):\n",
    "        self.current_frame = 2\n",
    "        self.colonnes_selectionnees.append(self.colonne_counts)  # Stocker la colonne des counts\n",
    "        self.frame1.grid_forget()\n",
    "        self.build_frame1()\n",
    "\n",
    "    def build_frame3(self):\n",
    "        self.current_frame = 3\n",
    "        self.frame1.grid_forget()\n",
    "    \n",
    "        self.frame3 = ttk.Frame(self.root, padding=\"10\")\n",
    "        self.frame3.grid(row=0, column=0, sticky=(tk.W, tk.E, tk.N, tk.S))\n",
    "    \n",
    "        self.var_colonnes = [tk.StringVar() for _ in range(10)]\n",
    "        self.menu_colonnes = [ttk.Combobox(self.frame3, textvariable=self.var_colonnes[i], values=[]) for i in range(10)]\n",
    "    \n",
    "        for i in range(int(self.var_nombre_colonnes.get())):\n",
    "            colonnes_disponibles = self.colonnes_df.columns.tolist()\n",
    "            self.menu_colonnes[i][\"values\"] = colonnes_disponibles\n",
    "            self.menu_colonnes[i].grid(row=i, column=0, pady=10)\n",
    "    \n",
    "        bouton_precedent = ttk.Button(self.frame3, text=\"Précédent\", command=self.retour_fenetre_colonnes)\n",
    "        bouton_precedent.grid(row=int(self.var_nombre_colonnes.get()), column=0, pady=10)\n",
    "\n",
    "        bouton_next3 = ttk.Button(self.frame3, text=\"Terminé\", command=self.enregistrer_et_quitter)\n",
    "        bouton_next3.grid(row=int(self.var_nombre_colonnes.get()), column=1, pady=10)\n",
    "\n",
    "\n",
    "\n",
    "    def retour_fenetre_principale(self):\n",
    "        self.current_frame = 1\n",
    "        self.frame1.grid_forget()\n",
    "        self.build_frame1()\n",
    "    \n",
    "    def enregistrer_et_quitter(self):\n",
    "        # Vous pouvez ajouter le code pour enregistrer les résultats ici\n",
    "        self.resultat = [self.var_colonnes[i].get() for i in range(10) if i < int(self.var_nombre_colonnes.get())]\n",
    "        # print(resultat)\n",
    "\n",
    "        # Fermer la fenêtre principale\n",
    "        self.root.destroy()\n",
    "\n",
    "    def retour_fenetre_colonnes(self):\n",
    "        self.current_frame = 2\n",
    "        self.frame3.grid_forget()\n",
    "        self.build_frame2()"
   ],
   "metadata": {
    "collapsed": false,
    "ExecuteTime": {
     "end_time": "2023-12-04T11:23:00.549830200Z",
     "start_time": "2023-12-04T11:23:00.501947500Z"
    }
   },
   "id": "b8cad64575354cdf"
  },
  {
   "cell_type": "code",
   "execution_count": 226,
   "outputs": [],
   "source": [
    "TEST_file = r\"C:\\Users\\Axel\\Documents\\Présentations\\MSP\\datas diagram\\TEST_SunBurst.xlsx\""
   ],
   "metadata": {
    "collapsed": false,
    "ExecuteTime": {
     "end_time": "2023-12-04T11:23:00.549830200Z",
     "start_time": "2023-12-04T11:23:00.508472300Z"
    }
   },
   "id": "150cc695bf884024"
  },
  {
   "cell_type": "code",
   "execution_count": 227,
   "outputs": [
    {
     "name": "stderr",
     "output_type": "stream",
     "text": [
      "C:\\Users\\Axel\\Documents\\PYTHON\\MSP_V3\\venv\\lib\\site-packages\\openpyxl\\styles\\stylesheet.py:226: UserWarning:\n",
      "\n",
      "Workbook contains no default style, apply openpyxl's default\n",
      "\n"
     ]
    }
   ],
   "source": [
    "TEST_df = pd.read_excel(TEST_file)"
   ],
   "metadata": {
    "collapsed": false,
    "ExecuteTime": {
     "end_time": "2023-12-04T11:23:00.558331500Z",
     "start_time": "2023-12-04T11:23:00.525051600Z"
    }
   },
   "id": "933cbbf039f045"
  },
  {
   "cell_type": "code",
   "execution_count": 228,
   "outputs": [
    {
     "data": {
      "text/plain": "                        ClassNP                     SuperClassNP   \n0                   Acetogenins               Linear polyketides  \\\n1           Androstane steroids                         Steroids   \n2  Anthraquinones and anthrones  Polycyclic aromatic polyketides   \n3                   Avermectins                       Macrolides   \n4           Carboline alkaloids             Tryptophan alkaloids   \n\n   Count(InChIKey)    PathwayNP  \n0                8  Polyketides  \n1                1   Terpenoids  \n2                1  Polyketides  \n3                3  Polyketides  \n4                1    Alkaloids  ",
      "text/html": "<div>\n<style scoped>\n    .dataframe tbody tr th:only-of-type {\n        vertical-align: middle;\n    }\n\n    .dataframe tbody tr th {\n        vertical-align: top;\n    }\n\n    .dataframe thead th {\n        text-align: right;\n    }\n</style>\n<table border=\"1\" class=\"dataframe\">\n  <thead>\n    <tr style=\"text-align: right;\">\n      <th></th>\n      <th>ClassNP</th>\n      <th>SuperClassNP</th>\n      <th>Count(InChIKey)</th>\n      <th>PathwayNP</th>\n    </tr>\n  </thead>\n  <tbody>\n    <tr>\n      <th>0</th>\n      <td>Acetogenins</td>\n      <td>Linear polyketides</td>\n      <td>8</td>\n      <td>Polyketides</td>\n    </tr>\n    <tr>\n      <th>1</th>\n      <td>Androstane steroids</td>\n      <td>Steroids</td>\n      <td>1</td>\n      <td>Terpenoids</td>\n    </tr>\n    <tr>\n      <th>2</th>\n      <td>Anthraquinones and anthrones</td>\n      <td>Polycyclic aromatic polyketides</td>\n      <td>1</td>\n      <td>Polyketides</td>\n    </tr>\n    <tr>\n      <th>3</th>\n      <td>Avermectins</td>\n      <td>Macrolides</td>\n      <td>3</td>\n      <td>Polyketides</td>\n    </tr>\n    <tr>\n      <th>4</th>\n      <td>Carboline alkaloids</td>\n      <td>Tryptophan alkaloids</td>\n      <td>1</td>\n      <td>Alkaloids</td>\n    </tr>\n  </tbody>\n</table>\n</div>"
     },
     "execution_count": 228,
     "metadata": {},
     "output_type": "execute_result"
    }
   ],
   "source": [
    "TEST_df.head()"
   ],
   "metadata": {
    "collapsed": false,
    "ExecuteTime": {
     "end_time": "2023-12-04T11:23:00.570973500Z",
     "start_time": "2023-12-04T11:23:00.559330900Z"
    }
   },
   "id": "5b2829d93391d2ce"
  },
  {
   "cell_type": "code",
   "execution_count": 229,
   "outputs": [],
   "source": [
    "root = tk.Tk()\n",
    "app = MaFenetre(root, colonnes_df=TEST_df)\n",
    "root.mainloop()\n",
    "\n",
    "if app.colonne_counts_selectionnee != None:\n",
    "    COLONNES_COUNT = app.colonne_counts_selectionnee\n",
    "if app.colonne_couleur_selectionnee != None:\n",
    "    COLONNES_COLOR = app.colonne_couleur_selectionnee\n",
    "if app.resultat is not None:\n",
    "    COLONNES_LIST = app.resultat"
   ],
   "metadata": {
    "collapsed": false,
    "ExecuteTime": {
     "end_time": "2023-12-04T11:23:12.867370600Z",
     "start_time": "2023-12-04T11:23:00.571978500Z"
    }
   },
   "id": "ea42c201014dd3b3"
  },
  {
   "cell_type": "code",
   "execution_count": 230,
   "outputs": [
    {
     "name": "stdout",
     "output_type": "stream",
     "text": [
      "Count(InChIKey)\n"
     ]
    }
   ],
   "source": [
    "print(COLONNES_COUNT)"
   ],
   "metadata": {
    "collapsed": false,
    "ExecuteTime": {
     "end_time": "2023-12-04T11:23:12.877908500Z",
     "start_time": "2023-12-04T11:23:12.855852Z"
    }
   },
   "id": "ce89d6df2b0bc21b"
  },
  {
   "cell_type": "code",
   "execution_count": 231,
   "outputs": [
    {
     "name": "stdout",
     "output_type": "stream",
     "text": [
      "PathwayNP\n"
     ]
    }
   ],
   "source": [
    "print(COLONNES_COLOR)"
   ],
   "metadata": {
    "collapsed": false,
    "ExecuteTime": {
     "end_time": "2023-12-04T11:23:12.888595800Z",
     "start_time": "2023-12-04T11:23:12.871383300Z"
    }
   },
   "id": "f0073cb1e04935d0"
  },
  {
   "cell_type": "code",
   "execution_count": 232,
   "outputs": [
    {
     "name": "stdout",
     "output_type": "stream",
     "text": [
      "['PathwayNP', 'SuperClassNP', 'ClassNP']\n"
     ]
    }
   ],
   "source": [
    "print(COLONNES_LIST)"
   ],
   "metadata": {
    "collapsed": false,
    "ExecuteTime": {
     "end_time": "2023-12-04T11:23:12.929942100Z",
     "start_time": "2023-12-04T11:23:12.886589100Z"
    }
   },
   "id": "f38d80d52177df43"
  },
  {
   "cell_type": "code",
   "execution_count": 233,
   "outputs": [],
   "source": [
    "couleurs_hex = ['#FF5733', '#33FF57', '#5733FF', '#FF33A1', '#33A1FF', '#A1FF33', '#FF3366', '#3366FF', '#66FF33', '#FFCC33']"
   ],
   "metadata": {
    "collapsed": false,
    "ExecuteTime": {
     "end_time": "2023-12-04T11:23:12.931116900Z",
     "start_time": "2023-12-04T11:23:12.902498400Z"
    }
   },
   "id": "1e1ab5e8b2308cb5"
  },
  {
   "cell_type": "code",
   "execution_count": 234,
   "outputs": [],
   "source": [
    "color_dict = {valeur: couleur for valeur, couleur in zip(pd.Series(TEST_df[COLONNES_COLOR].unique()).sort_values(), couleurs_hex)}"
   ],
   "metadata": {
    "collapsed": false,
    "ExecuteTime": {
     "end_time": "2023-12-04T11:23:12.940330600Z",
     "start_time": "2023-12-04T11:23:12.917423400Z"
    }
   },
   "id": "95711d268f647a4"
  },
  {
   "cell_type": "code",
   "execution_count": 235,
   "outputs": [
    {
     "data": {
      "text/plain": "{'Polyketides': '#FF5733',\n 'Terpenoids': '#33FF57',\n 'Alkaloids': '#5733FF',\n 'Fatty acids': '#FF33A1',\n 'Shikimates and Phenylpropanoids': '#33A1FF',\n 'Amino acids and Peptides': '#A1FF33'}"
     },
     "execution_count": 235,
     "metadata": {},
     "output_type": "execute_result"
    }
   ],
   "source": [
    "color_dict"
   ],
   "metadata": {
    "collapsed": false,
    "ExecuteTime": {
     "end_time": "2023-12-04T11:23:12.948852800Z",
     "start_time": "2023-12-04T11:23:12.933116700Z"
    }
   },
   "id": "35de0f0812e7f26f"
  },
  {
   "cell_type": "code",
   "execution_count": 236,
   "outputs": [],
   "source": [
    "fig = px.sunburst(TEST_df,path=COLONNES_LIST,values = COLONNES_COUNT,width=750, height=750,color=COLONNES_COLOR,color_discrete_map=color_dict)"
   ],
   "metadata": {
    "collapsed": false,
    "ExecuteTime": {
     "end_time": "2023-12-04T11:23:12.995898500Z",
     "start_time": "2023-12-04T11:23:12.949852600Z"
    }
   },
   "id": "f71460ac9fdb7c99"
  },
  {
   "cell_type": "code",
   "execution_count": 237,
   "outputs": [
    {
     "data": {
      "application/vnd.plotly.v1+json": {
       "data": [
        {
         "branchvalues": "total",
         "customdata": [
          [
           "Alkaloids"
          ],
          [
           "Alkaloids"
          ],
          [
           "Alkaloids"
          ],
          [
           "Alkaloids"
          ],
          [
           "Alkaloids"
          ],
          [
           "Alkaloids"
          ],
          [
           "Amino acids and Peptides"
          ],
          [
           "Amino acids and Peptides"
          ],
          [
           "Amino acids and Peptides"
          ],
          [
           "Polyketides"
          ],
          [
           "Fatty acids"
          ],
          [
           "Fatty acids"
          ],
          [
           "Fatty acids"
          ],
          [
           "Fatty acids"
          ],
          [
           "Fatty acids"
          ],
          [
           "Fatty acids"
          ],
          [
           "Fatty acids"
          ],
          [
           "Fatty acids"
          ],
          [
           "Fatty acids"
          ],
          [
           "Fatty acids"
          ],
          [
           "Fatty acids"
          ],
          [
           "Fatty acids"
          ],
          [
           "Fatty acids"
          ],
          [
           "Terpenoids"
          ],
          [
           "Fatty acids"
          ],
          [
           "Fatty acids"
          ],
          [
           "Fatty acids"
          ],
          [
           "Amino acids and Peptides"
          ],
          [
           "Fatty acids"
          ],
          [
           "Polyketides"
          ],
          [
           "Polyketides"
          ],
          [
           "Polyketides"
          ],
          [
           "Polyketides"
          ],
          [
           "Polyketides"
          ],
          [
           "Polyketides"
          ],
          [
           "Terpenoids"
          ],
          [
           "Polyketides"
          ],
          [
           "Polyketides"
          ],
          [
           "Shikimates and Phenylpropanoids"
          ],
          [
           "Shikimates and Phenylpropanoids"
          ],
          [
           "Polyketides"
          ],
          [
           "Shikimates and Phenylpropanoids"
          ],
          [
           "Shikimates and Phenylpropanoids"
          ],
          [
           "Terpenoids"
          ],
          [
           "Terpenoids"
          ],
          [
           "Fatty acids"
          ],
          [
           "Terpenoids"
          ],
          [
           "Terpenoids"
          ],
          [
           "Terpenoids"
          ],
          [
           "Fatty acids"
          ],
          [
           "Terpenoids"
          ],
          [
           "Terpenoids"
          ],
          [
           "Terpenoids"
          ],
          [
           "Terpenoids"
          ],
          [
           "Terpenoids"
          ],
          [
           "Terpenoids"
          ],
          [
           "Terpenoids"
          ],
          [
           "Terpenoids"
          ],
          [
           "Terpenoids"
          ],
          [
           "Terpenoids"
          ],
          [
           "Terpenoids"
          ],
          [
           "Terpenoids"
          ],
          [
           "Terpenoids"
          ],
          [
           "Terpenoids"
          ],
          [
           "Terpenoids"
          ],
          [
           "Terpenoids"
          ],
          [
           "Terpenoids"
          ],
          [
           "Terpenoids"
          ],
          [
           "Terpenoids"
          ],
          [
           "Terpenoids"
          ],
          [
           "Terpenoids"
          ],
          [
           "Shikimates and Phenylpropanoids"
          ],
          [
           "Terpenoids"
          ],
          [
           "Terpenoids"
          ],
          [
           "Terpenoids"
          ],
          [
           "Terpenoids"
          ],
          [
           "Fatty acids"
          ],
          [
           "Fatty acids"
          ],
          [
           "Fatty acids"
          ],
          [
           "Fatty acids"
          ],
          [
           "Fatty acids"
          ],
          [
           "Terpenoids"
          ],
          [
           "Fatty acids"
          ],
          [
           "Fatty acids"
          ],
          [
           "Polyketides"
          ],
          [
           "Alkaloids"
          ],
          [
           "Alkaloids"
          ],
          [
           "Terpenoids"
          ],
          [
           "Polyketides"
          ],
          [
           "Terpenoids"
          ],
          [
           "Terpenoids"
          ],
          [
           "Alkaloids"
          ],
          [
           "Amino acids and Peptides"
          ],
          [
           "Polyketides"
          ],
          [
           "Alkaloids"
          ],
          [
           "Shikimates and Phenylpropanoids"
          ],
          [
           "Shikimates and Phenylpropanoids"
          ],
          [
           "Shikimates and Phenylpropanoids"
          ],
          [
           "Polyketides"
          ],
          [
           "Polyketides"
          ],
          [
           "Terpenoids"
          ],
          [
           "Alkaloids"
          ],
          [
           "Terpenoids"
          ],
          [
           "Terpenoids"
          ],
          [
           "Terpenoids"
          ],
          [
           "Amino acids and Peptides"
          ],
          [
           "Fatty acids"
          ],
          [
           "Terpenoids"
          ],
          [
           "Shikimates and Phenylpropanoids"
          ],
          [
           "Shikimates and Phenylpropanoids"
          ],
          [
           "Terpenoids"
          ],
          [
           "Alkaloids"
          ],
          [
           "Alkaloids"
          ],
          [
           "Amino acids and Peptides"
          ],
          [
           "Fatty acids"
          ],
          [
           "Polyketides"
          ],
          [
           "Shikimates and Phenylpropanoids"
          ],
          [
           "Terpenoids"
          ]
         ],
         "domain": {
          "x": [
           0.0,
           1.0
          ],
          "y": [
           0.0,
           1.0
          ]
         },
         "hovertemplate": "labels=%{label}<br>Count(InChIKey)=%{value}<br>parent=%{parent}<br>id=%{id}<br>PathwayNP=%{customdata[0]}<extra></extra>",
         "ids": [
          "Alkaloids/Lysine alkaloids|Pseudoalkaloids/Piperidine alkaloids|Steroidal alkaloids",
          "Alkaloids/Nicotinic acid alkaloids/Pyridine alkaloids",
          "Alkaloids/Tryptophan alkaloids/Carboline alkaloids",
          "Alkaloids/Lysine alkaloids/Quinolizidine alkaloids",
          "Alkaloids/Peptide alkaloids/Simple amide alkaloids",
          "Alkaloids/Pseudoalkaloids/Steroidal alkaloids",
          "Amino acids and Peptides/Oligopeptides/Cyclic peptides|Depsipeptides|Lipopeptides",
          "Amino acids and Peptides/Oligopeptides/Cyclic peptides|Depsipeptides",
          "Amino acids and Peptides/Oligopeptides/Linear peptides",
          "Polyketides/Macrolides/Tylosins",
          "Fatty acids/Sphingolipids/Ceramides|Neutral glycosphingolipids",
          "Fatty acids/Fatty amides/N-acyl amines",
          "Fatty acids/Fatty amides/N-acyl ethanolamines (endocannabinoids)",
          "Fatty acids/Fatty Acids and Conjugates/Hydroxy fatty acids",
          "Fatty acids/Glycerolipids/Glycosyldiacylglycerols",
          "Fatty acids/Glycerophospholipids/Glycerophosphoserines",
          "Fatty acids/Glycerophospholipids/Glycerophosphoinositols",
          "Fatty acids/Glycerophospholipids/Glycerophosphoglycerols",
          "Fatty acids/Glycerophospholipids/Glycerophosphoethanolamines",
          "Fatty acids/Glycerophospholipids/Glycerophosphocholines",
          "Fatty acids/Glycerophospholipids/Glycerophosphates",
          "Fatty acids/Sphingolipids/Neutral glycosphingolipids",
          "Fatty acids/Sphingolipids/Ceramides",
          "Terpenoids/Fatty esters/Wax monoesters",
          "Fatty acids/Eicosanoids/Prostaglandins",
          "Fatty acids/Eicosanoids/Leukotrienes",
          "Fatty acids/Fatty acyl glycosides/Sophorolipids",
          "Amino acids and Peptides/Small peptides/Tripeptides",
          "Fatty acids/Glycerolipids/Diacylglycerols",
          "Polyketides/Polyethers/Polyether ionophores",
          "Polyketides/Linear polyketides/Open-chain polyketides",
          "Polyketides/Oligopeptides/Cyclic peptides|Depsipeptides|Lipopeptides",
          "Polyketides/Oligopeptides/Cyclic peptides|Depsipeptides",
          "Polyketides/Polycyclic aromatic polyketides/Anthraquinones and anthrones",
          "Polyketides/Macrolides/Avermectins",
          "Terpenoids/Triterpenoids/Ursane and Taraxastane triterpenoids",
          "Polyketides/Aromatic polyketides/Catechols with side chains",
          "Polyketides/Linear polyketides/Acetogenins",
          "Shikimates and Phenylpropanoids/Stilbenoids/Oligomeric stibenes",
          "Shikimates and Phenylpropanoids/Phenolic acids (C6-C1)/Shikimic acids and derivatives|Simple phenolic acids",
          "Polyketides/Aromatic polyketides",
          "Shikimates and Phenylpropanoids/Phenylpropanoids (C6-C3)/Cinnamic acids and derivatives",
          "Shikimates and Phenylpropanoids/Phenylethanoids (C6-C2)|Phenylpropanoids (C6-C3)/Cinnamic acids and derivatives|Phenylethanoids",
          "Terpenoids/Triterpenoids/Lanostane|Tirucallane and Euphane triterpenoids",
          "Terpenoids/Steroids/Androstane steroids",
          "Fatty acids/Fatty esters/Wax monoesters",
          "Terpenoids/Carotenoids (C40)/Carotenoids (C40|?-?)",
          "Terpenoids/Meroterpenoids|Carotenoids (C40)/Carotenoids (C40|?-?)|Prenyl quinone meroterpenoids",
          "Terpenoids/Sesterterpenoids/Cheilanthane sesterterpenoids",
          "Fatty acids/Glycerolipids/Triacylglycerols",
          "Terpenoids/Diterpenoids/Tetracyclic diterpenoids|Tigliane diterpenoids",
          "Terpenoids/Steroids/Stigmastane steroids",
          "Terpenoids/Pseudoalkaloids/Steroidal alkaloids",
          "Terpenoids/Steroids/Cholestane steroids",
          "Terpenoids/Steroids/Spirostane steroids",
          "Terpenoids/Steroids/Cholestane steroids|Ergostane steroids",
          "Terpenoids/Steroids/Cholestane steroids|Stigmastane steroids",
          "Terpenoids/Triterpenoids/Serratane triterpenoids",
          "Terpenoids/Triterpenoids/Cucurbitane triterpenoids",
          "Terpenoids/Triterpenoids/Cycloartane triterpenoids",
          "Terpenoids/Meroterpenoids/Prenyl quinone meroterpenoids",
          "Terpenoids/Polyprenols/Polyprenol derivatives",
          "Terpenoids/Triterpenoids/Dammarane and Protostane triterpenoids",
          "Terpenoids/Lysine alkaloids|Pseudoalkaloids/Piperidine alkaloids|Steroidal alkaloids",
          "Terpenoids/Steroids/Ergostane steroids",
          "Terpenoids/Steroids/Ergostane steroids|Stigmastane steroids",
          "Terpenoids/Triterpenoids/Fere and Arborie triterpenoids",
          "Terpenoids/Triterpenoids/Oleae triterpenoids|Ursane and Taraxastane triterpenoids",
          "Terpenoids/Triterpenoids/Oleae triterpenoids|Serratane triterpenoids",
          "Terpenoids/Triterpenoids/Oleae triterpenoids",
          "Terpenoids/Sesquiterpenoids/Germacrane sesquiterpenoids",
          "Shikimates and Phenylpropanoids/Terphenyls/p-Terphenyls",
          "Terpenoids/Triterpenoids/Lupane triterpenoids",
          "Terpenoids/Diterpenoids/Labdane diterpenoids",
          "Terpenoids/Carotenoids (C40)",
          "Terpenoids/Diterpenoids",
          "Fatty acids/Eicosanoids",
          "Fatty acids/Fatty Acids and Conjugates",
          "Fatty acids/Fatty acyl glycosides",
          "Fatty acids/Fatty amides",
          "Fatty acids/Fatty esters",
          "Terpenoids/Fatty esters",
          "Fatty acids/Glycerolipids",
          "Fatty acids/Glycerophospholipids",
          "Polyketides/Linear polyketides",
          "Alkaloids/Lysine alkaloids",
          "Alkaloids/Lysine alkaloids|Pseudoalkaloids",
          "Terpenoids/Lysine alkaloids|Pseudoalkaloids",
          "Polyketides/Macrolides",
          "Terpenoids/Meroterpenoids",
          "Terpenoids/Meroterpenoids|Carotenoids (C40)",
          "Alkaloids/Nicotinic acid alkaloids",
          "Amino acids and Peptides/Oligopeptides",
          "Polyketides/Oligopeptides",
          "Alkaloids/Peptide alkaloids",
          "Shikimates and Phenylpropanoids/Phenolic acids (C6-C1)",
          "Shikimates and Phenylpropanoids/Phenylethanoids (C6-C2)|Phenylpropanoids (C6-C3)",
          "Shikimates and Phenylpropanoids/Phenylpropanoids (C6-C3)",
          "Polyketides/Polycyclic aromatic polyketides",
          "Polyketides/Polyethers",
          "Terpenoids/Polyprenols",
          "Alkaloids/Pseudoalkaloids",
          "Terpenoids/Pseudoalkaloids",
          "Terpenoids/Sesquiterpenoids",
          "Terpenoids/Sesterterpenoids",
          "Amino acids and Peptides/Small peptides",
          "Fatty acids/Sphingolipids",
          "Terpenoids/Steroids",
          "Shikimates and Phenylpropanoids/Stilbenoids",
          "Shikimates and Phenylpropanoids/Terphenyls",
          "Terpenoids/Triterpenoids",
          "Alkaloids/Tryptophan alkaloids",
          "Alkaloids",
          "Amino acids and Peptides",
          "Fatty acids",
          "Polyketides",
          "Shikimates and Phenylpropanoids",
          "Terpenoids"
         ],
         "labels": [
          "Piperidine alkaloids|Steroidal alkaloids",
          "Pyridine alkaloids",
          "Carboline alkaloids",
          "Quinolizidine alkaloids",
          "Simple amide alkaloids",
          "Steroidal alkaloids",
          "Cyclic peptides|Depsipeptides|Lipopeptides",
          "Cyclic peptides|Depsipeptides",
          "Linear peptides",
          "Tylosins",
          "Ceramides|Neutral glycosphingolipids",
          "N-acyl amines",
          "N-acyl ethanolamines (endocannabinoids)",
          "Hydroxy fatty acids",
          "Glycosyldiacylglycerols",
          "Glycerophosphoserines",
          "Glycerophosphoinositols",
          "Glycerophosphoglycerols",
          "Glycerophosphoethanolamines",
          "Glycerophosphocholines",
          "Glycerophosphates",
          "Neutral glycosphingolipids",
          "Ceramides",
          "Wax monoesters",
          "Prostaglandins",
          "Leukotrienes",
          "Sophorolipids",
          "Tripeptides",
          "Diacylglycerols",
          "Polyether ionophores",
          "Open-chain polyketides",
          "Cyclic peptides|Depsipeptides|Lipopeptides",
          "Cyclic peptides|Depsipeptides",
          "Anthraquinones and anthrones",
          "Avermectins",
          "Ursane and Taraxastane triterpenoids",
          "Catechols with side chains",
          "Acetogenins",
          "Oligomeric stibenes",
          "Shikimic acids and derivatives|Simple phenolic acids",
          "Aromatic polyketides",
          "Cinnamic acids and derivatives",
          "Cinnamic acids and derivatives|Phenylethanoids",
          "Lanostane|Tirucallane and Euphane triterpenoids",
          "Androstane steroids",
          "Wax monoesters",
          "Carotenoids (C40|?-?)",
          "Carotenoids (C40|?-?)|Prenyl quinone meroterpenoids",
          "Cheilanthane sesterterpenoids",
          "Triacylglycerols",
          "Tetracyclic diterpenoids|Tigliane diterpenoids",
          "Stigmastane steroids",
          "Steroidal alkaloids",
          "Cholestane steroids",
          "Spirostane steroids",
          "Cholestane steroids|Ergostane steroids",
          "Cholestane steroids|Stigmastane steroids",
          "Serratane triterpenoids",
          "Cucurbitane triterpenoids",
          "Cycloartane triterpenoids",
          "Prenyl quinone meroterpenoids",
          "Polyprenol derivatives",
          "Dammarane and Protostane triterpenoids",
          "Piperidine alkaloids|Steroidal alkaloids",
          "Ergostane steroids",
          "Ergostane steroids|Stigmastane steroids",
          "Fere and Arborie triterpenoids",
          "Oleae triterpenoids|Ursane and Taraxastane triterpenoids",
          "Oleae triterpenoids|Serratane triterpenoids",
          "Oleae triterpenoids",
          "Germacrane sesquiterpenoids",
          "p-Terphenyls",
          "Lupane triterpenoids",
          "Labdane diterpenoids",
          "Carotenoids (C40)",
          "Diterpenoids",
          "Eicosanoids",
          "Fatty Acids and Conjugates",
          "Fatty acyl glycosides",
          "Fatty amides",
          "Fatty esters",
          "Fatty esters",
          "Glycerolipids",
          "Glycerophospholipids",
          "Linear polyketides",
          "Lysine alkaloids",
          "Lysine alkaloids|Pseudoalkaloids",
          "Lysine alkaloids|Pseudoalkaloids",
          "Macrolides",
          "Meroterpenoids",
          "Meroterpenoids|Carotenoids (C40)",
          "Nicotinic acid alkaloids",
          "Oligopeptides",
          "Oligopeptides",
          "Peptide alkaloids",
          "Phenolic acids (C6-C1)",
          "Phenylethanoids (C6-C2)|Phenylpropanoids (C6-C3)",
          "Phenylpropanoids (C6-C3)",
          "Polycyclic aromatic polyketides",
          "Polyethers",
          "Polyprenols",
          "Pseudoalkaloids",
          "Pseudoalkaloids",
          "Sesquiterpenoids",
          "Sesterterpenoids",
          "Small peptides",
          "Sphingolipids",
          "Steroids",
          "Stilbenoids",
          "Terphenyls",
          "Triterpenoids",
          "Tryptophan alkaloids",
          "Alkaloids",
          "Amino acids and Peptides",
          "Fatty acids",
          "Polyketides",
          "Shikimates and Phenylpropanoids",
          "Terpenoids"
         ],
         "marker": {
          "colors": [
           "#5733FF",
           "#5733FF",
           "#5733FF",
           "#5733FF",
           "#5733FF",
           "#5733FF",
           "#A1FF33",
           "#A1FF33",
           "#A1FF33",
           "#FF5733",
           "#FF33A1",
           "#FF33A1",
           "#FF33A1",
           "#FF33A1",
           "#FF33A1",
           "#FF33A1",
           "#FF33A1",
           "#FF33A1",
           "#FF33A1",
           "#FF33A1",
           "#FF33A1",
           "#FF33A1",
           "#FF33A1",
           "#33FF57",
           "#FF33A1",
           "#FF33A1",
           "#FF33A1",
           "#A1FF33",
           "#FF33A1",
           "#FF5733",
           "#FF5733",
           "#FF5733",
           "#FF5733",
           "#FF5733",
           "#FF5733",
           "#33FF57",
           "#FF5733",
           "#FF5733",
           "#33A1FF",
           "#33A1FF",
           "#FF5733",
           "#33A1FF",
           "#33A1FF",
           "#33FF57",
           "#33FF57",
           "#FF33A1",
           "#33FF57",
           "#33FF57",
           "#33FF57",
           "#FF33A1",
           "#33FF57",
           "#33FF57",
           "#33FF57",
           "#33FF57",
           "#33FF57",
           "#33FF57",
           "#33FF57",
           "#33FF57",
           "#33FF57",
           "#33FF57",
           "#33FF57",
           "#33FF57",
           "#33FF57",
           "#33FF57",
           "#33FF57",
           "#33FF57",
           "#33FF57",
           "#33FF57",
           "#33FF57",
           "#33FF57",
           "#33FF57",
           "#33A1FF",
           "#33FF57",
           "#33FF57",
           "#33FF57",
           "#33FF57",
           "#FF33A1",
           "#FF33A1",
           "#FF33A1",
           "#FF33A1",
           "#FF33A1",
           "#33FF57",
           "#FF33A1",
           "#FF33A1",
           "#FF5733",
           "#5733FF",
           "#5733FF",
           "#33FF57",
           "#FF5733",
           "#33FF57",
           "#33FF57",
           "#5733FF",
           "#A1FF33",
           "#FF5733",
           "#5733FF",
           "#33A1FF",
           "#33A1FF",
           "#33A1FF",
           "#FF5733",
           "#FF5733",
           "#33FF57",
           "#5733FF",
           "#33FF57",
           "#33FF57",
           "#33FF57",
           "#A1FF33",
           "#FF33A1",
           "#33FF57",
           "#33A1FF",
           "#33A1FF",
           "#33FF57",
           "#5733FF",
           "#5733FF",
           "#A1FF33",
           "#FF33A1",
           "#FF5733",
           "#33A1FF",
           "#33FF57"
          ]
         },
         "name": "",
         "parents": [
          "Alkaloids/Lysine alkaloids|Pseudoalkaloids",
          "Alkaloids/Nicotinic acid alkaloids",
          "Alkaloids/Tryptophan alkaloids",
          "Alkaloids/Lysine alkaloids",
          "Alkaloids/Peptide alkaloids",
          "Alkaloids/Pseudoalkaloids",
          "Amino acids and Peptides/Oligopeptides",
          "Amino acids and Peptides/Oligopeptides",
          "Amino acids and Peptides/Oligopeptides",
          "Polyketides/Macrolides",
          "Fatty acids/Sphingolipids",
          "Fatty acids/Fatty amides",
          "Fatty acids/Fatty amides",
          "Fatty acids/Fatty Acids and Conjugates",
          "Fatty acids/Glycerolipids",
          "Fatty acids/Glycerophospholipids",
          "Fatty acids/Glycerophospholipids",
          "Fatty acids/Glycerophospholipids",
          "Fatty acids/Glycerophospholipids",
          "Fatty acids/Glycerophospholipids",
          "Fatty acids/Glycerophospholipids",
          "Fatty acids/Sphingolipids",
          "Fatty acids/Sphingolipids",
          "Terpenoids/Fatty esters",
          "Fatty acids/Eicosanoids",
          "Fatty acids/Eicosanoids",
          "Fatty acids/Fatty acyl glycosides",
          "Amino acids and Peptides/Small peptides",
          "Fatty acids/Glycerolipids",
          "Polyketides/Polyethers",
          "Polyketides/Linear polyketides",
          "Polyketides/Oligopeptides",
          "Polyketides/Oligopeptides",
          "Polyketides/Polycyclic aromatic polyketides",
          "Polyketides/Macrolides",
          "Terpenoids/Triterpenoids",
          "Polyketides/Aromatic polyketides",
          "Polyketides/Linear polyketides",
          "Shikimates and Phenylpropanoids/Stilbenoids",
          "Shikimates and Phenylpropanoids/Phenolic acids (C6-C1)",
          "Polyketides",
          "Shikimates and Phenylpropanoids/Phenylpropanoids (C6-C3)",
          "Shikimates and Phenylpropanoids/Phenylethanoids (C6-C2)|Phenylpropanoids (C6-C3)",
          "Terpenoids/Triterpenoids",
          "Terpenoids/Steroids",
          "Fatty acids/Fatty esters",
          "Terpenoids/Carotenoids (C40)",
          "Terpenoids/Meroterpenoids|Carotenoids (C40)",
          "Terpenoids/Sesterterpenoids",
          "Fatty acids/Glycerolipids",
          "Terpenoids/Diterpenoids",
          "Terpenoids/Steroids",
          "Terpenoids/Pseudoalkaloids",
          "Terpenoids/Steroids",
          "Terpenoids/Steroids",
          "Terpenoids/Steroids",
          "Terpenoids/Steroids",
          "Terpenoids/Triterpenoids",
          "Terpenoids/Triterpenoids",
          "Terpenoids/Triterpenoids",
          "Terpenoids/Meroterpenoids",
          "Terpenoids/Polyprenols",
          "Terpenoids/Triterpenoids",
          "Terpenoids/Lysine alkaloids|Pseudoalkaloids",
          "Terpenoids/Steroids",
          "Terpenoids/Steroids",
          "Terpenoids/Triterpenoids",
          "Terpenoids/Triterpenoids",
          "Terpenoids/Triterpenoids",
          "Terpenoids/Triterpenoids",
          "Terpenoids/Sesquiterpenoids",
          "Shikimates and Phenylpropanoids/Terphenyls",
          "Terpenoids/Triterpenoids",
          "Terpenoids/Diterpenoids",
          "Terpenoids",
          "Terpenoids",
          "Fatty acids",
          "Fatty acids",
          "Fatty acids",
          "Fatty acids",
          "Fatty acids",
          "Terpenoids",
          "Fatty acids",
          "Fatty acids",
          "Polyketides",
          "Alkaloids",
          "Alkaloids",
          "Terpenoids",
          "Polyketides",
          "Terpenoids",
          "Terpenoids",
          "Alkaloids",
          "Amino acids and Peptides",
          "Polyketides",
          "Alkaloids",
          "Shikimates and Phenylpropanoids",
          "Shikimates and Phenylpropanoids",
          "Shikimates and Phenylpropanoids",
          "Polyketides",
          "Polyketides",
          "Terpenoids",
          "Alkaloids",
          "Terpenoids",
          "Terpenoids",
          "Terpenoids",
          "Amino acids and Peptides",
          "Fatty acids",
          "Terpenoids",
          "Shikimates and Phenylpropanoids",
          "Shikimates and Phenylpropanoids",
          "Terpenoids",
          "Alkaloids",
          "",
          "",
          "",
          "",
          "",
          ""
         ],
         "values": [
          1,
          1,
          1,
          1,
          2,
          1,
          1,
          1,
          1,
          2,
          3,
          2,
          1,
          2,
          17,
          21,
          4,
          5,
          47,
          1,
          4,
          19,
          39,
          1,
          2,
          3,
          2,
          1,
          27,
          1,
          3,
          1,
          1,
          1,
          3,
          4,
          2,
          8,
          1,
          1,
          2,
          1,
          1,
          8,
          1,
          1,
          11,
          1,
          1,
          66,
          1,
          27,
          2,
          22,
          3,
          9,
          5,
          3,
          2,
          3,
          22,
          1,
          5,
          1,
          9,
          3,
          4,
          1,
          4,
          10,
          1,
          1,
          1,
          1,
          11,
          2,
          5,
          2,
          2,
          3,
          1,
          1,
          110,
          82,
          11,
          1,
          1,
          1,
          5,
          22,
          1,
          1,
          3,
          2,
          2,
          1,
          1,
          1,
          1,
          1,
          1,
          1,
          2,
          1,
          1,
          1,
          61,
          79,
          1,
          1,
          45,
          1,
          7,
          4,
          266,
          22,
          5,
          167
         ],
         "type": "sunburst"
        }
       ],
       "layout": {
        "template": {
         "data": {
          "histogram2dcontour": [
           {
            "type": "histogram2dcontour",
            "colorbar": {
             "outlinewidth": 0,
             "ticks": ""
            },
            "colorscale": [
             [
              0.0,
              "#0d0887"
             ],
             [
              0.1111111111111111,
              "#46039f"
             ],
             [
              0.2222222222222222,
              "#7201a8"
             ],
             [
              0.3333333333333333,
              "#9c179e"
             ],
             [
              0.4444444444444444,
              "#bd3786"
             ],
             [
              0.5555555555555556,
              "#d8576b"
             ],
             [
              0.6666666666666666,
              "#ed7953"
             ],
             [
              0.7777777777777778,
              "#fb9f3a"
             ],
             [
              0.8888888888888888,
              "#fdca26"
             ],
             [
              1.0,
              "#f0f921"
             ]
            ]
           }
          ],
          "choropleth": [
           {
            "type": "choropleth",
            "colorbar": {
             "outlinewidth": 0,
             "ticks": ""
            }
           }
          ],
          "histogram2d": [
           {
            "type": "histogram2d",
            "colorbar": {
             "outlinewidth": 0,
             "ticks": ""
            },
            "colorscale": [
             [
              0.0,
              "#0d0887"
             ],
             [
              0.1111111111111111,
              "#46039f"
             ],
             [
              0.2222222222222222,
              "#7201a8"
             ],
             [
              0.3333333333333333,
              "#9c179e"
             ],
             [
              0.4444444444444444,
              "#bd3786"
             ],
             [
              0.5555555555555556,
              "#d8576b"
             ],
             [
              0.6666666666666666,
              "#ed7953"
             ],
             [
              0.7777777777777778,
              "#fb9f3a"
             ],
             [
              0.8888888888888888,
              "#fdca26"
             ],
             [
              1.0,
              "#f0f921"
             ]
            ]
           }
          ],
          "heatmap": [
           {
            "type": "heatmap",
            "colorbar": {
             "outlinewidth": 0,
             "ticks": ""
            },
            "colorscale": [
             [
              0.0,
              "#0d0887"
             ],
             [
              0.1111111111111111,
              "#46039f"
             ],
             [
              0.2222222222222222,
              "#7201a8"
             ],
             [
              0.3333333333333333,
              "#9c179e"
             ],
             [
              0.4444444444444444,
              "#bd3786"
             ],
             [
              0.5555555555555556,
              "#d8576b"
             ],
             [
              0.6666666666666666,
              "#ed7953"
             ],
             [
              0.7777777777777778,
              "#fb9f3a"
             ],
             [
              0.8888888888888888,
              "#fdca26"
             ],
             [
              1.0,
              "#f0f921"
             ]
            ]
           }
          ],
          "heatmapgl": [
           {
            "type": "heatmapgl",
            "colorbar": {
             "outlinewidth": 0,
             "ticks": ""
            },
            "colorscale": [
             [
              0.0,
              "#0d0887"
             ],
             [
              0.1111111111111111,
              "#46039f"
             ],
             [
              0.2222222222222222,
              "#7201a8"
             ],
             [
              0.3333333333333333,
              "#9c179e"
             ],
             [
              0.4444444444444444,
              "#bd3786"
             ],
             [
              0.5555555555555556,
              "#d8576b"
             ],
             [
              0.6666666666666666,
              "#ed7953"
             ],
             [
              0.7777777777777778,
              "#fb9f3a"
             ],
             [
              0.8888888888888888,
              "#fdca26"
             ],
             [
              1.0,
              "#f0f921"
             ]
            ]
           }
          ],
          "contourcarpet": [
           {
            "type": "contourcarpet",
            "colorbar": {
             "outlinewidth": 0,
             "ticks": ""
            }
           }
          ],
          "contour": [
           {
            "type": "contour",
            "colorbar": {
             "outlinewidth": 0,
             "ticks": ""
            },
            "colorscale": [
             [
              0.0,
              "#0d0887"
             ],
             [
              0.1111111111111111,
              "#46039f"
             ],
             [
              0.2222222222222222,
              "#7201a8"
             ],
             [
              0.3333333333333333,
              "#9c179e"
             ],
             [
              0.4444444444444444,
              "#bd3786"
             ],
             [
              0.5555555555555556,
              "#d8576b"
             ],
             [
              0.6666666666666666,
              "#ed7953"
             ],
             [
              0.7777777777777778,
              "#fb9f3a"
             ],
             [
              0.8888888888888888,
              "#fdca26"
             ],
             [
              1.0,
              "#f0f921"
             ]
            ]
           }
          ],
          "surface": [
           {
            "type": "surface",
            "colorbar": {
             "outlinewidth": 0,
             "ticks": ""
            },
            "colorscale": [
             [
              0.0,
              "#0d0887"
             ],
             [
              0.1111111111111111,
              "#46039f"
             ],
             [
              0.2222222222222222,
              "#7201a8"
             ],
             [
              0.3333333333333333,
              "#9c179e"
             ],
             [
              0.4444444444444444,
              "#bd3786"
             ],
             [
              0.5555555555555556,
              "#d8576b"
             ],
             [
              0.6666666666666666,
              "#ed7953"
             ],
             [
              0.7777777777777778,
              "#fb9f3a"
             ],
             [
              0.8888888888888888,
              "#fdca26"
             ],
             [
              1.0,
              "#f0f921"
             ]
            ]
           }
          ],
          "mesh3d": [
           {
            "type": "mesh3d",
            "colorbar": {
             "outlinewidth": 0,
             "ticks": ""
            }
           }
          ],
          "scatter": [
           {
            "marker": {
             "line": {
              "color": "#283442"
             }
            },
            "type": "scatter"
           }
          ],
          "parcoords": [
           {
            "type": "parcoords",
            "line": {
             "colorbar": {
              "outlinewidth": 0,
              "ticks": ""
             }
            }
           }
          ],
          "scatterpolargl": [
           {
            "type": "scatterpolargl",
            "marker": {
             "colorbar": {
              "outlinewidth": 0,
              "ticks": ""
             }
            }
           }
          ],
          "bar": [
           {
            "error_x": {
             "color": "#f2f5fa"
            },
            "error_y": {
             "color": "#f2f5fa"
            },
            "marker": {
             "line": {
              "color": "rgb(17,17,17)",
              "width": 0.5
             },
             "pattern": {
              "fillmode": "overlay",
              "size": 10,
              "solidity": 0.2
             }
            },
            "type": "bar"
           }
          ],
          "scattergeo": [
           {
            "type": "scattergeo",
            "marker": {
             "colorbar": {
              "outlinewidth": 0,
              "ticks": ""
             }
            }
           }
          ],
          "scatterpolar": [
           {
            "type": "scatterpolar",
            "marker": {
             "colorbar": {
              "outlinewidth": 0,
              "ticks": ""
             }
            }
           }
          ],
          "histogram": [
           {
            "marker": {
             "pattern": {
              "fillmode": "overlay",
              "size": 10,
              "solidity": 0.2
             }
            },
            "type": "histogram"
           }
          ],
          "scattergl": [
           {
            "marker": {
             "line": {
              "color": "#283442"
             }
            },
            "type": "scattergl"
           }
          ],
          "scatter3d": [
           {
            "type": "scatter3d",
            "line": {
             "colorbar": {
              "outlinewidth": 0,
              "ticks": ""
             }
            },
            "marker": {
             "colorbar": {
              "outlinewidth": 0,
              "ticks": ""
             }
            }
           }
          ],
          "scattermapbox": [
           {
            "type": "scattermapbox",
            "marker": {
             "colorbar": {
              "outlinewidth": 0,
              "ticks": ""
             }
            }
           }
          ],
          "scatterternary": [
           {
            "type": "scatterternary",
            "marker": {
             "colorbar": {
              "outlinewidth": 0,
              "ticks": ""
             }
            }
           }
          ],
          "scattercarpet": [
           {
            "type": "scattercarpet",
            "marker": {
             "colorbar": {
              "outlinewidth": 0,
              "ticks": ""
             }
            }
           }
          ],
          "carpet": [
           {
            "aaxis": {
             "endlinecolor": "#A2B1C6",
             "gridcolor": "#506784",
             "linecolor": "#506784",
             "minorgridcolor": "#506784",
             "startlinecolor": "#A2B1C6"
            },
            "baxis": {
             "endlinecolor": "#A2B1C6",
             "gridcolor": "#506784",
             "linecolor": "#506784",
             "minorgridcolor": "#506784",
             "startlinecolor": "#A2B1C6"
            },
            "type": "carpet"
           }
          ],
          "table": [
           {
            "cells": {
             "fill": {
              "color": "#506784"
             },
             "line": {
              "color": "rgb(17,17,17)"
             }
            },
            "header": {
             "fill": {
              "color": "#2a3f5f"
             },
             "line": {
              "color": "rgb(17,17,17)"
             }
            },
            "type": "table"
           }
          ],
          "barpolar": [
           {
            "marker": {
             "line": {
              "color": "rgb(17,17,17)",
              "width": 0.5
             },
             "pattern": {
              "fillmode": "overlay",
              "size": 10,
              "solidity": 0.2
             }
            },
            "type": "barpolar"
           }
          ],
          "pie": [
           {
            "automargin": true,
            "type": "pie"
           }
          ]
         },
         "layout": {
          "autotypenumbers": "strict",
          "colorway": [
           "#636efa",
           "#EF553B",
           "#00cc96",
           "#ab63fa",
           "#FFA15A",
           "#19d3f3",
           "#FF6692",
           "#B6E880",
           "#FF97FF",
           "#FECB52"
          ],
          "font": {
           "color": "#f2f5fa"
          },
          "hovermode": "closest",
          "hoverlabel": {
           "align": "left"
          },
          "paper_bgcolor": "rgb(17,17,17)",
          "plot_bgcolor": "rgb(17,17,17)",
          "polar": {
           "bgcolor": "rgb(17,17,17)",
           "angularaxis": {
            "gridcolor": "#506784",
            "linecolor": "#506784",
            "ticks": ""
           },
           "radialaxis": {
            "gridcolor": "#506784",
            "linecolor": "#506784",
            "ticks": ""
           }
          },
          "ternary": {
           "bgcolor": "rgb(17,17,17)",
           "aaxis": {
            "gridcolor": "#506784",
            "linecolor": "#506784",
            "ticks": ""
           },
           "baxis": {
            "gridcolor": "#506784",
            "linecolor": "#506784",
            "ticks": ""
           },
           "caxis": {
            "gridcolor": "#506784",
            "linecolor": "#506784",
            "ticks": ""
           }
          },
          "coloraxis": {
           "colorbar": {
            "outlinewidth": 0,
            "ticks": ""
           }
          },
          "colorscale": {
           "sequential": [
            [
             0.0,
             "#0d0887"
            ],
            [
             0.1111111111111111,
             "#46039f"
            ],
            [
             0.2222222222222222,
             "#7201a8"
            ],
            [
             0.3333333333333333,
             "#9c179e"
            ],
            [
             0.4444444444444444,
             "#bd3786"
            ],
            [
             0.5555555555555556,
             "#d8576b"
            ],
            [
             0.6666666666666666,
             "#ed7953"
            ],
            [
             0.7777777777777778,
             "#fb9f3a"
            ],
            [
             0.8888888888888888,
             "#fdca26"
            ],
            [
             1.0,
             "#f0f921"
            ]
           ],
           "sequentialminus": [
            [
             0.0,
             "#0d0887"
            ],
            [
             0.1111111111111111,
             "#46039f"
            ],
            [
             0.2222222222222222,
             "#7201a8"
            ],
            [
             0.3333333333333333,
             "#9c179e"
            ],
            [
             0.4444444444444444,
             "#bd3786"
            ],
            [
             0.5555555555555556,
             "#d8576b"
            ],
            [
             0.6666666666666666,
             "#ed7953"
            ],
            [
             0.7777777777777778,
             "#fb9f3a"
            ],
            [
             0.8888888888888888,
             "#fdca26"
            ],
            [
             1.0,
             "#f0f921"
            ]
           ],
           "diverging": [
            [
             0,
             "#8e0152"
            ],
            [
             0.1,
             "#c51b7d"
            ],
            [
             0.2,
             "#de77ae"
            ],
            [
             0.3,
             "#f1b6da"
            ],
            [
             0.4,
             "#fde0ef"
            ],
            [
             0.5,
             "#f7f7f7"
            ],
            [
             0.6,
             "#e6f5d0"
            ],
            [
             0.7,
             "#b8e186"
            ],
            [
             0.8,
             "#7fbc41"
            ],
            [
             0.9,
             "#4d9221"
            ],
            [
             1,
             "#276419"
            ]
           ]
          },
          "xaxis": {
           "gridcolor": "#283442",
           "linecolor": "#506784",
           "ticks": "",
           "title": {
            "standoff": 15
           },
           "zerolinecolor": "#283442",
           "automargin": true,
           "zerolinewidth": 2
          },
          "yaxis": {
           "gridcolor": "#283442",
           "linecolor": "#506784",
           "ticks": "",
           "title": {
            "standoff": 15
           },
           "zerolinecolor": "#283442",
           "automargin": true,
           "zerolinewidth": 2
          },
          "scene": {
           "xaxis": {
            "backgroundcolor": "rgb(17,17,17)",
            "gridcolor": "#506784",
            "linecolor": "#506784",
            "showbackground": true,
            "ticks": "",
            "zerolinecolor": "#C8D4E3",
            "gridwidth": 2
           },
           "yaxis": {
            "backgroundcolor": "rgb(17,17,17)",
            "gridcolor": "#506784",
            "linecolor": "#506784",
            "showbackground": true,
            "ticks": "",
            "zerolinecolor": "#C8D4E3",
            "gridwidth": 2
           },
           "zaxis": {
            "backgroundcolor": "rgb(17,17,17)",
            "gridcolor": "#506784",
            "linecolor": "#506784",
            "showbackground": true,
            "ticks": "",
            "zerolinecolor": "#C8D4E3",
            "gridwidth": 2
           }
          },
          "shapedefaults": {
           "line": {
            "color": "#f2f5fa"
           }
          },
          "annotationdefaults": {
           "arrowcolor": "#f2f5fa",
           "arrowhead": 0,
           "arrowwidth": 1
          },
          "geo": {
           "bgcolor": "rgb(17,17,17)",
           "landcolor": "rgb(17,17,17)",
           "subunitcolor": "#506784",
           "showland": true,
           "showlakes": true,
           "lakecolor": "rgb(17,17,17)"
          },
          "title": {
           "x": 0.05
          },
          "updatemenudefaults": {
           "bgcolor": "#506784",
           "borderwidth": 0
          },
          "sliderdefaults": {
           "bgcolor": "#C8D4E3",
           "borderwidth": 1,
           "bordercolor": "rgb(17,17,17)",
           "tickwidth": 0
          },
          "mapbox": {
           "style": "dark"
          }
         }
        },
        "legend": {
         "tracegroupgap": 0
        },
        "margin": {
         "t": 60
        },
        "height": 750,
        "width": 750
       },
       "config": {
        "plotlyServerURL": "https://plot.ly"
       }
      },
      "text/html": "<div>                            <div id=\"36f15d34-4364-412b-931b-25adce783247\" class=\"plotly-graph-div\" style=\"height:750px; width:750px;\"></div>            <script type=\"text/javascript\">                require([\"plotly\"], function(Plotly) {                    window.PLOTLYENV=window.PLOTLYENV || {};                                    if (document.getElementById(\"36f15d34-4364-412b-931b-25adce783247\")) {                    Plotly.newPlot(                        \"36f15d34-4364-412b-931b-25adce783247\",                        [{\"branchvalues\":\"total\",\"customdata\":[[\"Alkaloids\"],[\"Alkaloids\"],[\"Alkaloids\"],[\"Alkaloids\"],[\"Alkaloids\"],[\"Alkaloids\"],[\"Amino acids and Peptides\"],[\"Amino acids and Peptides\"],[\"Amino acids and Peptides\"],[\"Polyketides\"],[\"Fatty acids\"],[\"Fatty acids\"],[\"Fatty acids\"],[\"Fatty acids\"],[\"Fatty acids\"],[\"Fatty acids\"],[\"Fatty acids\"],[\"Fatty acids\"],[\"Fatty acids\"],[\"Fatty acids\"],[\"Fatty acids\"],[\"Fatty acids\"],[\"Fatty acids\"],[\"Terpenoids\"],[\"Fatty acids\"],[\"Fatty acids\"],[\"Fatty acids\"],[\"Amino acids and Peptides\"],[\"Fatty acids\"],[\"Polyketides\"],[\"Polyketides\"],[\"Polyketides\"],[\"Polyketides\"],[\"Polyketides\"],[\"Polyketides\"],[\"Terpenoids\"],[\"Polyketides\"],[\"Polyketides\"],[\"Shikimates and Phenylpropanoids\"],[\"Shikimates and Phenylpropanoids\"],[\"Polyketides\"],[\"Shikimates and Phenylpropanoids\"],[\"Shikimates and Phenylpropanoids\"],[\"Terpenoids\"],[\"Terpenoids\"],[\"Fatty acids\"],[\"Terpenoids\"],[\"Terpenoids\"],[\"Terpenoids\"],[\"Fatty acids\"],[\"Terpenoids\"],[\"Terpenoids\"],[\"Terpenoids\"],[\"Terpenoids\"],[\"Terpenoids\"],[\"Terpenoids\"],[\"Terpenoids\"],[\"Terpenoids\"],[\"Terpenoids\"],[\"Terpenoids\"],[\"Terpenoids\"],[\"Terpenoids\"],[\"Terpenoids\"],[\"Terpenoids\"],[\"Terpenoids\"],[\"Terpenoids\"],[\"Terpenoids\"],[\"Terpenoids\"],[\"Terpenoids\"],[\"Terpenoids\"],[\"Terpenoids\"],[\"Shikimates and Phenylpropanoids\"],[\"Terpenoids\"],[\"Terpenoids\"],[\"Terpenoids\"],[\"Terpenoids\"],[\"Fatty acids\"],[\"Fatty acids\"],[\"Fatty acids\"],[\"Fatty acids\"],[\"Fatty acids\"],[\"Terpenoids\"],[\"Fatty acids\"],[\"Fatty acids\"],[\"Polyketides\"],[\"Alkaloids\"],[\"Alkaloids\"],[\"Terpenoids\"],[\"Polyketides\"],[\"Terpenoids\"],[\"Terpenoids\"],[\"Alkaloids\"],[\"Amino acids and Peptides\"],[\"Polyketides\"],[\"Alkaloids\"],[\"Shikimates and Phenylpropanoids\"],[\"Shikimates and Phenylpropanoids\"],[\"Shikimates and Phenylpropanoids\"],[\"Polyketides\"],[\"Polyketides\"],[\"Terpenoids\"],[\"Alkaloids\"],[\"Terpenoids\"],[\"Terpenoids\"],[\"Terpenoids\"],[\"Amino acids and Peptides\"],[\"Fatty acids\"],[\"Terpenoids\"],[\"Shikimates and Phenylpropanoids\"],[\"Shikimates and Phenylpropanoids\"],[\"Terpenoids\"],[\"Alkaloids\"],[\"Alkaloids\"],[\"Amino acids and Peptides\"],[\"Fatty acids\"],[\"Polyketides\"],[\"Shikimates and Phenylpropanoids\"],[\"Terpenoids\"]],\"domain\":{\"x\":[0.0,1.0],\"y\":[0.0,1.0]},\"hovertemplate\":\"labels=%{label}\\u003cbr\\u003eCount(InChIKey)=%{value}\\u003cbr\\u003eparent=%{parent}\\u003cbr\\u003eid=%{id}\\u003cbr\\u003ePathwayNP=%{customdata[0]}\\u003cextra\\u003e\\u003c\\u002fextra\\u003e\",\"ids\":[\"Alkaloids\\u002fLysine alkaloids|Pseudoalkaloids\\u002fPiperidine alkaloids|Steroidal alkaloids\",\"Alkaloids\\u002fNicotinic acid alkaloids\\u002fPyridine alkaloids\",\"Alkaloids\\u002fTryptophan alkaloids\\u002fCarboline alkaloids\",\"Alkaloids\\u002fLysine alkaloids\\u002fQuinolizidine alkaloids\",\"Alkaloids\\u002fPeptide alkaloids\\u002fSimple amide alkaloids\",\"Alkaloids\\u002fPseudoalkaloids\\u002fSteroidal alkaloids\",\"Amino acids and Peptides\\u002fOligopeptides\\u002fCyclic peptides|Depsipeptides|Lipopeptides\",\"Amino acids and Peptides\\u002fOligopeptides\\u002fCyclic peptides|Depsipeptides\",\"Amino acids and Peptides\\u002fOligopeptides\\u002fLinear peptides\",\"Polyketides\\u002fMacrolides\\u002fTylosins\",\"Fatty acids\\u002fSphingolipids\\u002fCeramides|Neutral glycosphingolipids\",\"Fatty acids\\u002fFatty amides\\u002fN-acyl amines\",\"Fatty acids\\u002fFatty amides\\u002fN-acyl ethanolamines (endocannabinoids)\",\"Fatty acids\\u002fFatty Acids and Conjugates\\u002fHydroxy fatty acids\",\"Fatty acids\\u002fGlycerolipids\\u002fGlycosyldiacylglycerols\",\"Fatty acids\\u002fGlycerophospholipids\\u002fGlycerophosphoserines\",\"Fatty acids\\u002fGlycerophospholipids\\u002fGlycerophosphoinositols\",\"Fatty acids\\u002fGlycerophospholipids\\u002fGlycerophosphoglycerols\",\"Fatty acids\\u002fGlycerophospholipids\\u002fGlycerophosphoethanolamines\",\"Fatty acids\\u002fGlycerophospholipids\\u002fGlycerophosphocholines\",\"Fatty acids\\u002fGlycerophospholipids\\u002fGlycerophosphates\",\"Fatty acids\\u002fSphingolipids\\u002fNeutral glycosphingolipids\",\"Fatty acids\\u002fSphingolipids\\u002fCeramides\",\"Terpenoids\\u002fFatty esters\\u002fWax monoesters\",\"Fatty acids\\u002fEicosanoids\\u002fProstaglandins\",\"Fatty acids\\u002fEicosanoids\\u002fLeukotrienes\",\"Fatty acids\\u002fFatty acyl glycosides\\u002fSophorolipids\",\"Amino acids and Peptides\\u002fSmall peptides\\u002fTripeptides\",\"Fatty acids\\u002fGlycerolipids\\u002fDiacylglycerols\",\"Polyketides\\u002fPolyethers\\u002fPolyether ionophores\",\"Polyketides\\u002fLinear polyketides\\u002fOpen-chain polyketides\",\"Polyketides\\u002fOligopeptides\\u002fCyclic peptides|Depsipeptides|Lipopeptides\",\"Polyketides\\u002fOligopeptides\\u002fCyclic peptides|Depsipeptides\",\"Polyketides\\u002fPolycyclic aromatic polyketides\\u002fAnthraquinones and anthrones\",\"Polyketides\\u002fMacrolides\\u002fAvermectins\",\"Terpenoids\\u002fTriterpenoids\\u002fUrsane and Taraxastane triterpenoids\",\"Polyketides\\u002fAromatic polyketides\\u002fCatechols with side chains\",\"Polyketides\\u002fLinear polyketides\\u002fAcetogenins\",\"Shikimates and Phenylpropanoids\\u002fStilbenoids\\u002fOligomeric stibenes\",\"Shikimates and Phenylpropanoids\\u002fPhenolic acids (C6-C1)\\u002fShikimic acids and derivatives|Simple phenolic acids\",\"Polyketides\\u002fAromatic polyketides\",\"Shikimates and Phenylpropanoids\\u002fPhenylpropanoids (C6-C3)\\u002fCinnamic acids and derivatives\",\"Shikimates and Phenylpropanoids\\u002fPhenylethanoids (C6-C2)|Phenylpropanoids (C6-C3)\\u002fCinnamic acids and derivatives|Phenylethanoids\",\"Terpenoids\\u002fTriterpenoids\\u002fLanostane|Tirucallane and Euphane triterpenoids\",\"Terpenoids\\u002fSteroids\\u002fAndrostane steroids\",\"Fatty acids\\u002fFatty esters\\u002fWax monoesters\",\"Terpenoids\\u002fCarotenoids (C40)\\u002fCarotenoids (C40|?-?)\",\"Terpenoids\\u002fMeroterpenoids|Carotenoids (C40)\\u002fCarotenoids (C40|?-?)|Prenyl quinone meroterpenoids\",\"Terpenoids\\u002fSesterterpenoids\\u002fCheilanthane sesterterpenoids\",\"Fatty acids\\u002fGlycerolipids\\u002fTriacylglycerols\",\"Terpenoids\\u002fDiterpenoids\\u002fTetracyclic diterpenoids|Tigliane diterpenoids\",\"Terpenoids\\u002fSteroids\\u002fStigmastane steroids\",\"Terpenoids\\u002fPseudoalkaloids\\u002fSteroidal alkaloids\",\"Terpenoids\\u002fSteroids\\u002fCholestane steroids\",\"Terpenoids\\u002fSteroids\\u002fSpirostane steroids\",\"Terpenoids\\u002fSteroids\\u002fCholestane steroids|Ergostane steroids\",\"Terpenoids\\u002fSteroids\\u002fCholestane steroids|Stigmastane steroids\",\"Terpenoids\\u002fTriterpenoids\\u002fSerratane triterpenoids\",\"Terpenoids\\u002fTriterpenoids\\u002fCucurbitane triterpenoids\",\"Terpenoids\\u002fTriterpenoids\\u002fCycloartane triterpenoids\",\"Terpenoids\\u002fMeroterpenoids\\u002fPrenyl quinone meroterpenoids\",\"Terpenoids\\u002fPolyprenols\\u002fPolyprenol derivatives\",\"Terpenoids\\u002fTriterpenoids\\u002fDammarane and Protostane triterpenoids\",\"Terpenoids\\u002fLysine alkaloids|Pseudoalkaloids\\u002fPiperidine alkaloids|Steroidal alkaloids\",\"Terpenoids\\u002fSteroids\\u002fErgostane steroids\",\"Terpenoids\\u002fSteroids\\u002fErgostane steroids|Stigmastane steroids\",\"Terpenoids\\u002fTriterpenoids\\u002fFere and Arborie triterpenoids\",\"Terpenoids\\u002fTriterpenoids\\u002fOleae triterpenoids|Ursane and Taraxastane triterpenoids\",\"Terpenoids\\u002fTriterpenoids\\u002fOleae triterpenoids|Serratane triterpenoids\",\"Terpenoids\\u002fTriterpenoids\\u002fOleae triterpenoids\",\"Terpenoids\\u002fSesquiterpenoids\\u002fGermacrane sesquiterpenoids\",\"Shikimates and Phenylpropanoids\\u002fTerphenyls\\u002fp-Terphenyls\",\"Terpenoids\\u002fTriterpenoids\\u002fLupane triterpenoids\",\"Terpenoids\\u002fDiterpenoids\\u002fLabdane diterpenoids\",\"Terpenoids\\u002fCarotenoids (C40)\",\"Terpenoids\\u002fDiterpenoids\",\"Fatty acids\\u002fEicosanoids\",\"Fatty acids\\u002fFatty Acids and Conjugates\",\"Fatty acids\\u002fFatty acyl glycosides\",\"Fatty acids\\u002fFatty amides\",\"Fatty acids\\u002fFatty esters\",\"Terpenoids\\u002fFatty esters\",\"Fatty acids\\u002fGlycerolipids\",\"Fatty acids\\u002fGlycerophospholipids\",\"Polyketides\\u002fLinear polyketides\",\"Alkaloids\\u002fLysine alkaloids\",\"Alkaloids\\u002fLysine alkaloids|Pseudoalkaloids\",\"Terpenoids\\u002fLysine alkaloids|Pseudoalkaloids\",\"Polyketides\\u002fMacrolides\",\"Terpenoids\\u002fMeroterpenoids\",\"Terpenoids\\u002fMeroterpenoids|Carotenoids (C40)\",\"Alkaloids\\u002fNicotinic acid alkaloids\",\"Amino acids and Peptides\\u002fOligopeptides\",\"Polyketides\\u002fOligopeptides\",\"Alkaloids\\u002fPeptide alkaloids\",\"Shikimates and Phenylpropanoids\\u002fPhenolic acids (C6-C1)\",\"Shikimates and Phenylpropanoids\\u002fPhenylethanoids (C6-C2)|Phenylpropanoids (C6-C3)\",\"Shikimates and Phenylpropanoids\\u002fPhenylpropanoids (C6-C3)\",\"Polyketides\\u002fPolycyclic aromatic polyketides\",\"Polyketides\\u002fPolyethers\",\"Terpenoids\\u002fPolyprenols\",\"Alkaloids\\u002fPseudoalkaloids\",\"Terpenoids\\u002fPseudoalkaloids\",\"Terpenoids\\u002fSesquiterpenoids\",\"Terpenoids\\u002fSesterterpenoids\",\"Amino acids and Peptides\\u002fSmall peptides\",\"Fatty acids\\u002fSphingolipids\",\"Terpenoids\\u002fSteroids\",\"Shikimates and Phenylpropanoids\\u002fStilbenoids\",\"Shikimates and Phenylpropanoids\\u002fTerphenyls\",\"Terpenoids\\u002fTriterpenoids\",\"Alkaloids\\u002fTryptophan alkaloids\",\"Alkaloids\",\"Amino acids and Peptides\",\"Fatty acids\",\"Polyketides\",\"Shikimates and Phenylpropanoids\",\"Terpenoids\"],\"labels\":[\"Piperidine alkaloids|Steroidal alkaloids\",\"Pyridine alkaloids\",\"Carboline alkaloids\",\"Quinolizidine alkaloids\",\"Simple amide alkaloids\",\"Steroidal alkaloids\",\"Cyclic peptides|Depsipeptides|Lipopeptides\",\"Cyclic peptides|Depsipeptides\",\"Linear peptides\",\"Tylosins\",\"Ceramides|Neutral glycosphingolipids\",\"N-acyl amines\",\"N-acyl ethanolamines (endocannabinoids)\",\"Hydroxy fatty acids\",\"Glycosyldiacylglycerols\",\"Glycerophosphoserines\",\"Glycerophosphoinositols\",\"Glycerophosphoglycerols\",\"Glycerophosphoethanolamines\",\"Glycerophosphocholines\",\"Glycerophosphates\",\"Neutral glycosphingolipids\",\"Ceramides\",\"Wax monoesters\",\"Prostaglandins\",\"Leukotrienes\",\"Sophorolipids\",\"Tripeptides\",\"Diacylglycerols\",\"Polyether ionophores\",\"Open-chain polyketides\",\"Cyclic peptides|Depsipeptides|Lipopeptides\",\"Cyclic peptides|Depsipeptides\",\"Anthraquinones and anthrones\",\"Avermectins\",\"Ursane and Taraxastane triterpenoids\",\"Catechols with side chains\",\"Acetogenins\",\"Oligomeric stibenes\",\"Shikimic acids and derivatives|Simple phenolic acids\",\"Aromatic polyketides\",\"Cinnamic acids and derivatives\",\"Cinnamic acids and derivatives|Phenylethanoids\",\"Lanostane|Tirucallane and Euphane triterpenoids\",\"Androstane steroids\",\"Wax monoesters\",\"Carotenoids (C40|?-?)\",\"Carotenoids (C40|?-?)|Prenyl quinone meroterpenoids\",\"Cheilanthane sesterterpenoids\",\"Triacylglycerols\",\"Tetracyclic diterpenoids|Tigliane diterpenoids\",\"Stigmastane steroids\",\"Steroidal alkaloids\",\"Cholestane steroids\",\"Spirostane steroids\",\"Cholestane steroids|Ergostane steroids\",\"Cholestane steroids|Stigmastane steroids\",\"Serratane triterpenoids\",\"Cucurbitane triterpenoids\",\"Cycloartane triterpenoids\",\"Prenyl quinone meroterpenoids\",\"Polyprenol derivatives\",\"Dammarane and Protostane triterpenoids\",\"Piperidine alkaloids|Steroidal alkaloids\",\"Ergostane steroids\",\"Ergostane steroids|Stigmastane steroids\",\"Fere and Arborie triterpenoids\",\"Oleae triterpenoids|Ursane and Taraxastane triterpenoids\",\"Oleae triterpenoids|Serratane triterpenoids\",\"Oleae triterpenoids\",\"Germacrane sesquiterpenoids\",\"p-Terphenyls\",\"Lupane triterpenoids\",\"Labdane diterpenoids\",\"Carotenoids (C40)\",\"Diterpenoids\",\"Eicosanoids\",\"Fatty Acids and Conjugates\",\"Fatty acyl glycosides\",\"Fatty amides\",\"Fatty esters\",\"Fatty esters\",\"Glycerolipids\",\"Glycerophospholipids\",\"Linear polyketides\",\"Lysine alkaloids\",\"Lysine alkaloids|Pseudoalkaloids\",\"Lysine alkaloids|Pseudoalkaloids\",\"Macrolides\",\"Meroterpenoids\",\"Meroterpenoids|Carotenoids (C40)\",\"Nicotinic acid alkaloids\",\"Oligopeptides\",\"Oligopeptides\",\"Peptide alkaloids\",\"Phenolic acids (C6-C1)\",\"Phenylethanoids (C6-C2)|Phenylpropanoids (C6-C3)\",\"Phenylpropanoids (C6-C3)\",\"Polycyclic aromatic polyketides\",\"Polyethers\",\"Polyprenols\",\"Pseudoalkaloids\",\"Pseudoalkaloids\",\"Sesquiterpenoids\",\"Sesterterpenoids\",\"Small peptides\",\"Sphingolipids\",\"Steroids\",\"Stilbenoids\",\"Terphenyls\",\"Triterpenoids\",\"Tryptophan alkaloids\",\"Alkaloids\",\"Amino acids and Peptides\",\"Fatty acids\",\"Polyketides\",\"Shikimates and Phenylpropanoids\",\"Terpenoids\"],\"marker\":{\"colors\":[\"#5733FF\",\"#5733FF\",\"#5733FF\",\"#5733FF\",\"#5733FF\",\"#5733FF\",\"#A1FF33\",\"#A1FF33\",\"#A1FF33\",\"#FF5733\",\"#FF33A1\",\"#FF33A1\",\"#FF33A1\",\"#FF33A1\",\"#FF33A1\",\"#FF33A1\",\"#FF33A1\",\"#FF33A1\",\"#FF33A1\",\"#FF33A1\",\"#FF33A1\",\"#FF33A1\",\"#FF33A1\",\"#33FF57\",\"#FF33A1\",\"#FF33A1\",\"#FF33A1\",\"#A1FF33\",\"#FF33A1\",\"#FF5733\",\"#FF5733\",\"#FF5733\",\"#FF5733\",\"#FF5733\",\"#FF5733\",\"#33FF57\",\"#FF5733\",\"#FF5733\",\"#33A1FF\",\"#33A1FF\",\"#FF5733\",\"#33A1FF\",\"#33A1FF\",\"#33FF57\",\"#33FF57\",\"#FF33A1\",\"#33FF57\",\"#33FF57\",\"#33FF57\",\"#FF33A1\",\"#33FF57\",\"#33FF57\",\"#33FF57\",\"#33FF57\",\"#33FF57\",\"#33FF57\",\"#33FF57\",\"#33FF57\",\"#33FF57\",\"#33FF57\",\"#33FF57\",\"#33FF57\",\"#33FF57\",\"#33FF57\",\"#33FF57\",\"#33FF57\",\"#33FF57\",\"#33FF57\",\"#33FF57\",\"#33FF57\",\"#33FF57\",\"#33A1FF\",\"#33FF57\",\"#33FF57\",\"#33FF57\",\"#33FF57\",\"#FF33A1\",\"#FF33A1\",\"#FF33A1\",\"#FF33A1\",\"#FF33A1\",\"#33FF57\",\"#FF33A1\",\"#FF33A1\",\"#FF5733\",\"#5733FF\",\"#5733FF\",\"#33FF57\",\"#FF5733\",\"#33FF57\",\"#33FF57\",\"#5733FF\",\"#A1FF33\",\"#FF5733\",\"#5733FF\",\"#33A1FF\",\"#33A1FF\",\"#33A1FF\",\"#FF5733\",\"#FF5733\",\"#33FF57\",\"#5733FF\",\"#33FF57\",\"#33FF57\",\"#33FF57\",\"#A1FF33\",\"#FF33A1\",\"#33FF57\",\"#33A1FF\",\"#33A1FF\",\"#33FF57\",\"#5733FF\",\"#5733FF\",\"#A1FF33\",\"#FF33A1\",\"#FF5733\",\"#33A1FF\",\"#33FF57\"]},\"name\":\"\",\"parents\":[\"Alkaloids\\u002fLysine alkaloids|Pseudoalkaloids\",\"Alkaloids\\u002fNicotinic acid alkaloids\",\"Alkaloids\\u002fTryptophan alkaloids\",\"Alkaloids\\u002fLysine alkaloids\",\"Alkaloids\\u002fPeptide alkaloids\",\"Alkaloids\\u002fPseudoalkaloids\",\"Amino acids and Peptides\\u002fOligopeptides\",\"Amino acids and Peptides\\u002fOligopeptides\",\"Amino acids and Peptides\\u002fOligopeptides\",\"Polyketides\\u002fMacrolides\",\"Fatty acids\\u002fSphingolipids\",\"Fatty acids\\u002fFatty amides\",\"Fatty acids\\u002fFatty amides\",\"Fatty acids\\u002fFatty Acids and Conjugates\",\"Fatty acids\\u002fGlycerolipids\",\"Fatty acids\\u002fGlycerophospholipids\",\"Fatty acids\\u002fGlycerophospholipids\",\"Fatty acids\\u002fGlycerophospholipids\",\"Fatty acids\\u002fGlycerophospholipids\",\"Fatty acids\\u002fGlycerophospholipids\",\"Fatty acids\\u002fGlycerophospholipids\",\"Fatty acids\\u002fSphingolipids\",\"Fatty acids\\u002fSphingolipids\",\"Terpenoids\\u002fFatty esters\",\"Fatty acids\\u002fEicosanoids\",\"Fatty acids\\u002fEicosanoids\",\"Fatty acids\\u002fFatty acyl glycosides\",\"Amino acids and Peptides\\u002fSmall peptides\",\"Fatty acids\\u002fGlycerolipids\",\"Polyketides\\u002fPolyethers\",\"Polyketides\\u002fLinear polyketides\",\"Polyketides\\u002fOligopeptides\",\"Polyketides\\u002fOligopeptides\",\"Polyketides\\u002fPolycyclic aromatic polyketides\",\"Polyketides\\u002fMacrolides\",\"Terpenoids\\u002fTriterpenoids\",\"Polyketides\\u002fAromatic polyketides\",\"Polyketides\\u002fLinear polyketides\",\"Shikimates and Phenylpropanoids\\u002fStilbenoids\",\"Shikimates and Phenylpropanoids\\u002fPhenolic acids (C6-C1)\",\"Polyketides\",\"Shikimates and Phenylpropanoids\\u002fPhenylpropanoids (C6-C3)\",\"Shikimates and Phenylpropanoids\\u002fPhenylethanoids (C6-C2)|Phenylpropanoids (C6-C3)\",\"Terpenoids\\u002fTriterpenoids\",\"Terpenoids\\u002fSteroids\",\"Fatty acids\\u002fFatty esters\",\"Terpenoids\\u002fCarotenoids (C40)\",\"Terpenoids\\u002fMeroterpenoids|Carotenoids (C40)\",\"Terpenoids\\u002fSesterterpenoids\",\"Fatty acids\\u002fGlycerolipids\",\"Terpenoids\\u002fDiterpenoids\",\"Terpenoids\\u002fSteroids\",\"Terpenoids\\u002fPseudoalkaloids\",\"Terpenoids\\u002fSteroids\",\"Terpenoids\\u002fSteroids\",\"Terpenoids\\u002fSteroids\",\"Terpenoids\\u002fSteroids\",\"Terpenoids\\u002fTriterpenoids\",\"Terpenoids\\u002fTriterpenoids\",\"Terpenoids\\u002fTriterpenoids\",\"Terpenoids\\u002fMeroterpenoids\",\"Terpenoids\\u002fPolyprenols\",\"Terpenoids\\u002fTriterpenoids\",\"Terpenoids\\u002fLysine alkaloids|Pseudoalkaloids\",\"Terpenoids\\u002fSteroids\",\"Terpenoids\\u002fSteroids\",\"Terpenoids\\u002fTriterpenoids\",\"Terpenoids\\u002fTriterpenoids\",\"Terpenoids\\u002fTriterpenoids\",\"Terpenoids\\u002fTriterpenoids\",\"Terpenoids\\u002fSesquiterpenoids\",\"Shikimates and Phenylpropanoids\\u002fTerphenyls\",\"Terpenoids\\u002fTriterpenoids\",\"Terpenoids\\u002fDiterpenoids\",\"Terpenoids\",\"Terpenoids\",\"Fatty acids\",\"Fatty acids\",\"Fatty acids\",\"Fatty acids\",\"Fatty acids\",\"Terpenoids\",\"Fatty acids\",\"Fatty acids\",\"Polyketides\",\"Alkaloids\",\"Alkaloids\",\"Terpenoids\",\"Polyketides\",\"Terpenoids\",\"Terpenoids\",\"Alkaloids\",\"Amino acids and Peptides\",\"Polyketides\",\"Alkaloids\",\"Shikimates and Phenylpropanoids\",\"Shikimates and Phenylpropanoids\",\"Shikimates and Phenylpropanoids\",\"Polyketides\",\"Polyketides\",\"Terpenoids\",\"Alkaloids\",\"Terpenoids\",\"Terpenoids\",\"Terpenoids\",\"Amino acids and Peptides\",\"Fatty acids\",\"Terpenoids\",\"Shikimates and Phenylpropanoids\",\"Shikimates and Phenylpropanoids\",\"Terpenoids\",\"Alkaloids\",\"\",\"\",\"\",\"\",\"\",\"\"],\"values\":[1,1,1,1,2,1,1,1,1,2,3,2,1,2,17,21,4,5,47,1,4,19,39,1,2,3,2,1,27,1,3,1,1,1,3,4,2,8,1,1,2,1,1,8,1,1,11,1,1,66,1,27,2,22,3,9,5,3,2,3,22,1,5,1,9,3,4,1,4,10,1,1,1,1,11,2,5,2,2,3,1,1,110,82,11,1,1,1,5,22,1,1,3,2,2,1,1,1,1,1,1,1,2,1,1,1,61,79,1,1,45,1,7,4,266,22,5,167],\"type\":\"sunburst\"}],                        {\"template\":{\"data\":{\"histogram2dcontour\":[{\"type\":\"histogram2dcontour\",\"colorbar\":{\"outlinewidth\":0,\"ticks\":\"\"},\"colorscale\":[[0.0,\"#0d0887\"],[0.1111111111111111,\"#46039f\"],[0.2222222222222222,\"#7201a8\"],[0.3333333333333333,\"#9c179e\"],[0.4444444444444444,\"#bd3786\"],[0.5555555555555556,\"#d8576b\"],[0.6666666666666666,\"#ed7953\"],[0.7777777777777778,\"#fb9f3a\"],[0.8888888888888888,\"#fdca26\"],[1.0,\"#f0f921\"]]}],\"choropleth\":[{\"type\":\"choropleth\",\"colorbar\":{\"outlinewidth\":0,\"ticks\":\"\"}}],\"histogram2d\":[{\"type\":\"histogram2d\",\"colorbar\":{\"outlinewidth\":0,\"ticks\":\"\"},\"colorscale\":[[0.0,\"#0d0887\"],[0.1111111111111111,\"#46039f\"],[0.2222222222222222,\"#7201a8\"],[0.3333333333333333,\"#9c179e\"],[0.4444444444444444,\"#bd3786\"],[0.5555555555555556,\"#d8576b\"],[0.6666666666666666,\"#ed7953\"],[0.7777777777777778,\"#fb9f3a\"],[0.8888888888888888,\"#fdca26\"],[1.0,\"#f0f921\"]]}],\"heatmap\":[{\"type\":\"heatmap\",\"colorbar\":{\"outlinewidth\":0,\"ticks\":\"\"},\"colorscale\":[[0.0,\"#0d0887\"],[0.1111111111111111,\"#46039f\"],[0.2222222222222222,\"#7201a8\"],[0.3333333333333333,\"#9c179e\"],[0.4444444444444444,\"#bd3786\"],[0.5555555555555556,\"#d8576b\"],[0.6666666666666666,\"#ed7953\"],[0.7777777777777778,\"#fb9f3a\"],[0.8888888888888888,\"#fdca26\"],[1.0,\"#f0f921\"]]}],\"heatmapgl\":[{\"type\":\"heatmapgl\",\"colorbar\":{\"outlinewidth\":0,\"ticks\":\"\"},\"colorscale\":[[0.0,\"#0d0887\"],[0.1111111111111111,\"#46039f\"],[0.2222222222222222,\"#7201a8\"],[0.3333333333333333,\"#9c179e\"],[0.4444444444444444,\"#bd3786\"],[0.5555555555555556,\"#d8576b\"],[0.6666666666666666,\"#ed7953\"],[0.7777777777777778,\"#fb9f3a\"],[0.8888888888888888,\"#fdca26\"],[1.0,\"#f0f921\"]]}],\"contourcarpet\":[{\"type\":\"contourcarpet\",\"colorbar\":{\"outlinewidth\":0,\"ticks\":\"\"}}],\"contour\":[{\"type\":\"contour\",\"colorbar\":{\"outlinewidth\":0,\"ticks\":\"\"},\"colorscale\":[[0.0,\"#0d0887\"],[0.1111111111111111,\"#46039f\"],[0.2222222222222222,\"#7201a8\"],[0.3333333333333333,\"#9c179e\"],[0.4444444444444444,\"#bd3786\"],[0.5555555555555556,\"#d8576b\"],[0.6666666666666666,\"#ed7953\"],[0.7777777777777778,\"#fb9f3a\"],[0.8888888888888888,\"#fdca26\"],[1.0,\"#f0f921\"]]}],\"surface\":[{\"type\":\"surface\",\"colorbar\":{\"outlinewidth\":0,\"ticks\":\"\"},\"colorscale\":[[0.0,\"#0d0887\"],[0.1111111111111111,\"#46039f\"],[0.2222222222222222,\"#7201a8\"],[0.3333333333333333,\"#9c179e\"],[0.4444444444444444,\"#bd3786\"],[0.5555555555555556,\"#d8576b\"],[0.6666666666666666,\"#ed7953\"],[0.7777777777777778,\"#fb9f3a\"],[0.8888888888888888,\"#fdca26\"],[1.0,\"#f0f921\"]]}],\"mesh3d\":[{\"type\":\"mesh3d\",\"colorbar\":{\"outlinewidth\":0,\"ticks\":\"\"}}],\"scatter\":[{\"marker\":{\"line\":{\"color\":\"#283442\"}},\"type\":\"scatter\"}],\"parcoords\":[{\"type\":\"parcoords\",\"line\":{\"colorbar\":{\"outlinewidth\":0,\"ticks\":\"\"}}}],\"scatterpolargl\":[{\"type\":\"scatterpolargl\",\"marker\":{\"colorbar\":{\"outlinewidth\":0,\"ticks\":\"\"}}}],\"bar\":[{\"error_x\":{\"color\":\"#f2f5fa\"},\"error_y\":{\"color\":\"#f2f5fa\"},\"marker\":{\"line\":{\"color\":\"rgb(17,17,17)\",\"width\":0.5},\"pattern\":{\"fillmode\":\"overlay\",\"size\":10,\"solidity\":0.2}},\"type\":\"bar\"}],\"scattergeo\":[{\"type\":\"scattergeo\",\"marker\":{\"colorbar\":{\"outlinewidth\":0,\"ticks\":\"\"}}}],\"scatterpolar\":[{\"type\":\"scatterpolar\",\"marker\":{\"colorbar\":{\"outlinewidth\":0,\"ticks\":\"\"}}}],\"histogram\":[{\"marker\":{\"pattern\":{\"fillmode\":\"overlay\",\"size\":10,\"solidity\":0.2}},\"type\":\"histogram\"}],\"scattergl\":[{\"marker\":{\"line\":{\"color\":\"#283442\"}},\"type\":\"scattergl\"}],\"scatter3d\":[{\"type\":\"scatter3d\",\"line\":{\"colorbar\":{\"outlinewidth\":0,\"ticks\":\"\"}},\"marker\":{\"colorbar\":{\"outlinewidth\":0,\"ticks\":\"\"}}}],\"scattermapbox\":[{\"type\":\"scattermapbox\",\"marker\":{\"colorbar\":{\"outlinewidth\":0,\"ticks\":\"\"}}}],\"scatterternary\":[{\"type\":\"scatterternary\",\"marker\":{\"colorbar\":{\"outlinewidth\":0,\"ticks\":\"\"}}}],\"scattercarpet\":[{\"type\":\"scattercarpet\",\"marker\":{\"colorbar\":{\"outlinewidth\":0,\"ticks\":\"\"}}}],\"carpet\":[{\"aaxis\":{\"endlinecolor\":\"#A2B1C6\",\"gridcolor\":\"#506784\",\"linecolor\":\"#506784\",\"minorgridcolor\":\"#506784\",\"startlinecolor\":\"#A2B1C6\"},\"baxis\":{\"endlinecolor\":\"#A2B1C6\",\"gridcolor\":\"#506784\",\"linecolor\":\"#506784\",\"minorgridcolor\":\"#506784\",\"startlinecolor\":\"#A2B1C6\"},\"type\":\"carpet\"}],\"table\":[{\"cells\":{\"fill\":{\"color\":\"#506784\"},\"line\":{\"color\":\"rgb(17,17,17)\"}},\"header\":{\"fill\":{\"color\":\"#2a3f5f\"},\"line\":{\"color\":\"rgb(17,17,17)\"}},\"type\":\"table\"}],\"barpolar\":[{\"marker\":{\"line\":{\"color\":\"rgb(17,17,17)\",\"width\":0.5},\"pattern\":{\"fillmode\":\"overlay\",\"size\":10,\"solidity\":0.2}},\"type\":\"barpolar\"}],\"pie\":[{\"automargin\":true,\"type\":\"pie\"}]},\"layout\":{\"autotypenumbers\":\"strict\",\"colorway\":[\"#636efa\",\"#EF553B\",\"#00cc96\",\"#ab63fa\",\"#FFA15A\",\"#19d3f3\",\"#FF6692\",\"#B6E880\",\"#FF97FF\",\"#FECB52\"],\"font\":{\"color\":\"#f2f5fa\"},\"hovermode\":\"closest\",\"hoverlabel\":{\"align\":\"left\"},\"paper_bgcolor\":\"rgb(17,17,17)\",\"plot_bgcolor\":\"rgb(17,17,17)\",\"polar\":{\"bgcolor\":\"rgb(17,17,17)\",\"angularaxis\":{\"gridcolor\":\"#506784\",\"linecolor\":\"#506784\",\"ticks\":\"\"},\"radialaxis\":{\"gridcolor\":\"#506784\",\"linecolor\":\"#506784\",\"ticks\":\"\"}},\"ternary\":{\"bgcolor\":\"rgb(17,17,17)\",\"aaxis\":{\"gridcolor\":\"#506784\",\"linecolor\":\"#506784\",\"ticks\":\"\"},\"baxis\":{\"gridcolor\":\"#506784\",\"linecolor\":\"#506784\",\"ticks\":\"\"},\"caxis\":{\"gridcolor\":\"#506784\",\"linecolor\":\"#506784\",\"ticks\":\"\"}},\"coloraxis\":{\"colorbar\":{\"outlinewidth\":0,\"ticks\":\"\"}},\"colorscale\":{\"sequential\":[[0.0,\"#0d0887\"],[0.1111111111111111,\"#46039f\"],[0.2222222222222222,\"#7201a8\"],[0.3333333333333333,\"#9c179e\"],[0.4444444444444444,\"#bd3786\"],[0.5555555555555556,\"#d8576b\"],[0.6666666666666666,\"#ed7953\"],[0.7777777777777778,\"#fb9f3a\"],[0.8888888888888888,\"#fdca26\"],[1.0,\"#f0f921\"]],\"sequentialminus\":[[0.0,\"#0d0887\"],[0.1111111111111111,\"#46039f\"],[0.2222222222222222,\"#7201a8\"],[0.3333333333333333,\"#9c179e\"],[0.4444444444444444,\"#bd3786\"],[0.5555555555555556,\"#d8576b\"],[0.6666666666666666,\"#ed7953\"],[0.7777777777777778,\"#fb9f3a\"],[0.8888888888888888,\"#fdca26\"],[1.0,\"#f0f921\"]],\"diverging\":[[0,\"#8e0152\"],[0.1,\"#c51b7d\"],[0.2,\"#de77ae\"],[0.3,\"#f1b6da\"],[0.4,\"#fde0ef\"],[0.5,\"#f7f7f7\"],[0.6,\"#e6f5d0\"],[0.7,\"#b8e186\"],[0.8,\"#7fbc41\"],[0.9,\"#4d9221\"],[1,\"#276419\"]]},\"xaxis\":{\"gridcolor\":\"#283442\",\"linecolor\":\"#506784\",\"ticks\":\"\",\"title\":{\"standoff\":15},\"zerolinecolor\":\"#283442\",\"automargin\":true,\"zerolinewidth\":2},\"yaxis\":{\"gridcolor\":\"#283442\",\"linecolor\":\"#506784\",\"ticks\":\"\",\"title\":{\"standoff\":15},\"zerolinecolor\":\"#283442\",\"automargin\":true,\"zerolinewidth\":2},\"scene\":{\"xaxis\":{\"backgroundcolor\":\"rgb(17,17,17)\",\"gridcolor\":\"#506784\",\"linecolor\":\"#506784\",\"showbackground\":true,\"ticks\":\"\",\"zerolinecolor\":\"#C8D4E3\",\"gridwidth\":2},\"yaxis\":{\"backgroundcolor\":\"rgb(17,17,17)\",\"gridcolor\":\"#506784\",\"linecolor\":\"#506784\",\"showbackground\":true,\"ticks\":\"\",\"zerolinecolor\":\"#C8D4E3\",\"gridwidth\":2},\"zaxis\":{\"backgroundcolor\":\"rgb(17,17,17)\",\"gridcolor\":\"#506784\",\"linecolor\":\"#506784\",\"showbackground\":true,\"ticks\":\"\",\"zerolinecolor\":\"#C8D4E3\",\"gridwidth\":2}},\"shapedefaults\":{\"line\":{\"color\":\"#f2f5fa\"}},\"annotationdefaults\":{\"arrowcolor\":\"#f2f5fa\",\"arrowhead\":0,\"arrowwidth\":1},\"geo\":{\"bgcolor\":\"rgb(17,17,17)\",\"landcolor\":\"rgb(17,17,17)\",\"subunitcolor\":\"#506784\",\"showland\":true,\"showlakes\":true,\"lakecolor\":\"rgb(17,17,17)\"},\"title\":{\"x\":0.05},\"updatemenudefaults\":{\"bgcolor\":\"#506784\",\"borderwidth\":0},\"sliderdefaults\":{\"bgcolor\":\"#C8D4E3\",\"borderwidth\":1,\"bordercolor\":\"rgb(17,17,17)\",\"tickwidth\":0},\"mapbox\":{\"style\":\"dark\"}}},\"legend\":{\"tracegroupgap\":0},\"margin\":{\"t\":60},\"height\":750,\"width\":750},                        {\"responsive\": true}                    ).then(function(){\n                            \nvar gd = document.getElementById('36f15d34-4364-412b-931b-25adce783247');\nvar x = new MutationObserver(function (mutations, observer) {{\n        var display = window.getComputedStyle(gd).display;\n        if (!display || display === 'none') {{\n            console.log([gd, 'removed!']);\n            Plotly.purge(gd);\n            observer.disconnect();\n        }}\n}});\n\n// Listen for the removal of the full notebook cells\nvar notebookContainer = gd.closest('#notebook-container');\nif (notebookContainer) {{\n    x.observe(notebookContainer, {childList: true});\n}}\n\n// Listen for the clearing of the current output cell\nvar outputEl = gd.closest('.output');\nif (outputEl) {{\n    x.observe(outputEl, {childList: true});\n}}\n\n                        })                };                });            </script>        </div>"
     },
     "metadata": {},
     "output_type": "display_data"
    }
   ],
   "source": [
    "fig.show()"
   ],
   "metadata": {
    "collapsed": false,
    "ExecuteTime": {
     "end_time": "2023-12-04T11:23:13.012343900Z",
     "start_time": "2023-12-04T11:23:12.994897200Z"
    }
   },
   "id": "d20f0af4f88a3fec"
  },
  {
   "cell_type": "code",
   "execution_count": 237,
   "outputs": [],
   "source": [],
   "metadata": {
    "collapsed": false,
    "ExecuteTime": {
     "end_time": "2023-12-04T11:23:13.030052700Z",
     "start_time": "2023-12-04T11:23:13.010344300Z"
    }
   },
   "id": "14d585ffbb8b4a0f"
  }
 ],
 "metadata": {
  "kernelspec": {
   "display_name": "Python 3",
   "language": "python",
   "name": "python3"
  },
  "language_info": {
   "codemirror_mode": {
    "name": "ipython",
    "version": 2
   },
   "file_extension": ".py",
   "mimetype": "text/x-python",
   "name": "python",
   "nbconvert_exporter": "python",
   "pygments_lexer": "ipython2",
   "version": "2.7.6"
  }
 },
 "nbformat": 4,
 "nbformat_minor": 5
}
