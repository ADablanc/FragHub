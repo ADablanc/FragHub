{
 "cells": [
  {
   "cell_type": "code",
   "execution_count": 284,
   "outputs": [],
   "source": [
    "from tkinter import colorchooser\n",
    "import plotly.express as px\n",
    "from tkinter import ttk\n",
    "import tkinter as tk\n",
    "import pandas as pd"
   ],
   "metadata": {
    "collapsed": false,
    "ExecuteTime": {
     "end_time": "2024-02-03T09:29:07.040245700Z",
     "start_time": "2024-02-03T09:29:07.027331400Z"
    }
   },
   "id": "fbf1d0ec6cc29aa"
  },
  {
   "cell_type": "code",
   "execution_count": 285,
   "outputs": [],
   "source": [
    "class MaFenetre:\n",
    "\n",
    "    def __init__(self, root, colonnes_df, df):\n",
    "        self.root = root\n",
    "        self.colonnes_df = colonnes_df\n",
    "        self.df = TEST_df\n",
    "        self.resultat = None\n",
    "        self.colonne_counts = None\n",
    "        self.colonnes_selectionnees = []  # Ajout d'une liste pour stocker les colonnes sélectionnées\n",
    "        self.current_frame = 1\n",
    "        self.build_frame1()\n",
    "        self.colonne_counts_selectionnee = None  # Nouvelle variable membre\n",
    "        self.colonne_couleur_selectionnee = None  # Nouvelle variable membre\n",
    "        \n",
    "    def build_frame1(self):\n",
    "        self.frame1 = ttk.Frame(self.root, padding=\"10\")\n",
    "        self.frame1.grid(row=0, column=0, sticky=(tk.W, tk.E, tk.N, tk.S))\n",
    "    \n",
    "        if self.current_frame == 1:\n",
    "            self.label_question = ttk.Label(self.frame1, text=\"Quelle est la colonne des counts ?\")\n",
    "            self.label_question.grid(row=0, column=0, columnspan=2, pady=10)\n",
    "    \n",
    "            self.var_colonne_counts = tk.StringVar()\n",
    "            colonnes_disponibles = self.colonnes_df.columns.tolist()\n",
    "            self.menu_colonne_counts = ttk.Combobox(self.frame1, textvariable=self.var_colonne_counts, values=colonnes_disponibles)\n",
    "            self.menu_colonne_counts.grid(row=1, column=0, columnspan=2, pady=10)\n",
    "    \n",
    "            self.label_question_couleurs = ttk.Label(self.frame1, text=\"Quelle est la colonne du noeud de la racine de la hiérarchie ?\")\n",
    "            self.label_question_couleurs.grid(row=2, column=0, columnspan=2, pady=10)\n",
    "    \n",
    "            self.var_colonne_couleurs = tk.StringVar()\n",
    "            colonnes_disponibles_couleurs = self.colonnes_df.columns.tolist()\n",
    "            self.menu_colonne_couleurs = ttk.Combobox(self.frame1, textvariable=self.var_colonne_couleurs, values=colonnes_disponibles_couleurs)\n",
    "            self.menu_colonne_couleurs.grid(row=3, column=0, columnspan=2, pady=10)\n",
    "    \n",
    "            self.bouton_next1 = ttk.Button(self.frame1, text=\"Next\", command=self.afficher_fenetre_colonnes)\n",
    "            self.bouton_next1.grid(row=4, column=0, columnspan=2, pady=10)\n",
    "        elif self.current_frame == 2:\n",
    "            self.label_frame2 = ttk.Label(self.frame1, text=\"Combien de colonnes ?\")\n",
    "            self.label_frame2.grid(row=0, column=0, columnspan=2, pady=10)\n",
    "    \n",
    "            self.var_nombre_colonnes = tk.StringVar()\n",
    "            self.menu_nombre_colonnes = ttk.Combobox(self.frame1, textvariable=self.var_nombre_colonnes, values=list(range(1, 11)))\n",
    "            self.menu_nombre_colonnes.grid(row=1, column=0, columnspan=2, pady=10)\n",
    "    \n",
    "            self.bouton_precedent = ttk.Button(self.frame1, text=\"Précédent\", command=self.retour_fenetre_principale)\n",
    "            self.bouton_precedent.grid(row=2, column=0, pady=10)\n",
    "            self.bouton_next2 = ttk.Button(self.frame1, text=\"Next\", command=self.afficher_fenetre_colonnes)\n",
    "            self.bouton_next2.grid(row=2, column=1, pady=10)\n",
    "    \n",
    "\n",
    "    def afficher_fenetre_colonnes(self):\n",
    "        if self.current_frame == 1:\n",
    "            self.colonne_counts_selectionnee = self.var_colonne_counts.get()  # Enregistrez le nom de la colonne sélectionnée\n",
    "            self.colonne_couleur_selectionnee = self.var_colonne_couleurs.get()  # Enregistrez le nom de la colonne sélectionnée\n",
    "            self.build_frame2()\n",
    "        elif self.current_frame == 2:\n",
    "            # Code pour traiter les résultats de la deuxième fenêtre si nécessaire\n",
    "            self.build_frame3()\n",
    "\n",
    "    def build_frame2(self):\n",
    "        self.current_frame = 2\n",
    "        self.colonnes_selectionnees.append(self.colonne_counts)  # Stocker la colonne des counts\n",
    "        self.frame1.grid_forget()\n",
    "        self.build_frame1()\n",
    "    \n",
    "    def build_frame4_and_save_column_selection(self):\n",
    "        self.resultat = [self.var_colonnes[i].get() for i in range(10) if i < int(self.var_nombre_colonnes.get())]\n",
    "        self.colonne_couleur_selectionnee = self.resultat[1]  # replace 1 with the actual index of the color column\n",
    "        self.build_frame4()\n",
    "\n",
    "    def build_frame3(self):\n",
    "        self.current_frame = 3\n",
    "        self.frame1.grid_forget()\n",
    "    \n",
    "        self.frame3 = ttk.Frame(self.root, padding=\"10\")\n",
    "        self.frame3.grid(row=0, column=0, sticky=(tk.W, tk.E, tk.N, tk.S))\n",
    "    \n",
    "        self.var_colonnes = [tk.StringVar() for _ in range(10)]\n",
    "        self.menu_colonnes = [ttk.Combobox(self.frame3, textvariable=self.var_colonnes[i], values=[]) for i in range(10)]\n",
    "    \n",
    "        for i in range(int(self.var_nombre_colonnes.get())):\n",
    "            colonnes_disponibles = self.colonnes_df.columns.tolist()\n",
    "            self.menu_colonnes[i][\"values\"] = colonnes_disponibles\n",
    "            self.menu_colonnes[i].grid(row=i, column=0, pady=10)\n",
    "    \n",
    "        bouton_precedent = ttk.Button(self.frame3, text=\"Précédent\", command=self.retour_fenetre_colonnes)\n",
    "        bouton_precedent.grid(row=int(self.var_nombre_colonnes.get()), column=0, pady=10)\n",
    "    \n",
    "        bouton_next3 = ttk.Button(self.frame3, text=\"Suivant\", command=self.build_frame4_and_save_column_selection)\n",
    "        bouton_next3.grid(row=int(self.var_nombre_colonnes.get()), column=1, pady=10)\n",
    "\n",
    "    def retour_fenetre_principale(self):\n",
    "        self.current_frame = 1\n",
    "        self.frame1.grid_forget()\n",
    "        self.build_frame1()\n",
    "    \n",
    "    def enregistrer_et_quitter(self):\n",
    "        if self.current_frame == 4:\n",
    "            self.color_selections = {value: self.var_couleurs[value].get() for value in self.var_couleurs}\n",
    "            # Fermer la fenêtre principale\n",
    "            self.root.destroy()\n",
    "\n",
    "    def retour_fenetre_colonnes(self):\n",
    "        self.current_frame = 2\n",
    "        self.frame3.grid_forget()\n",
    "        self.build_frame2()\n",
    "    \n",
    "    def convert_and_save_colors(self):\n",
    "        self.saved_colors = {value: var.get() for value, var in self.var_couleurs.items()}\n",
    "        self.enregistrer_et_quitter()\n",
    "    \n",
    "    def build_frame4(self):\n",
    "        self.current_frame = 4\n",
    "        self.frame3.grid_forget()  # Cacher frame3\n",
    "    \n",
    "        self.frame4 = ttk.Frame(self.root, padding=\"10\")\n",
    "        self.frame4.grid(row=0, column=0, sticky=(tk.W, tk.E, tk.N, tk.S))\n",
    "    \n",
    "        unique_col_values = self.df[self.colonne_couleur_selectionnee].unique()\n",
    "    \n",
    "        self.var_couleurs = {value: tk.StringVar() for value in unique_col_values}\n",
    "    \n",
    "        def choose_color(value):\n",
    "            color = tk.colorchooser.askcolor(title =\"Choose color for \" + value)\n",
    "            if color[1] is not None:\n",
    "                self.var_couleurs[value].set(color[1])\n",
    "    \n",
    "        for i, value_col in enumerate(unique_col_values):\n",
    "            tk.Label(self.frame4, text=value_col).grid(row=i, column=0)\n",
    "            tk.Button(self.frame4, text=\"Choose color\", command=lambda value=value_col: choose_color(value)).grid(row=i, column=1)\n",
    "    \n",
    "        bouton_precedent = ttk.Button(self.frame4, text=\"Précédent\", command=self.build_frame3)\n",
    "        bouton_precedent.grid(row=len(unique_col_values), column=0, pady=10)\n",
    "    \n",
    "        bouton_next4 = ttk.Button(self.frame4, text=\"Terminé\", command=self.convert_and_save_colors)\n",
    "        bouton_next4.grid(row=len(unique_col_values), column=1, pady=10)"
   ],
   "metadata": {
    "collapsed": false,
    "ExecuteTime": {
     "end_time": "2024-02-03T09:29:07.061650400Z",
     "start_time": "2024-02-03T09:29:07.053712100Z"
    }
   },
   "id": "b8cad64575354cdf"
  },
  {
   "cell_type": "code",
   "execution_count": 286,
   "outputs": [],
   "source": [
    "TEST_file = r\"C:\\Users\\Axel\\Documents\\TEST_SunBurst.xlsx\""
   ],
   "metadata": {
    "collapsed": false,
    "ExecuteTime": {
     "end_time": "2024-02-03T09:29:07.078972300Z",
     "start_time": "2024-02-03T09:29:07.061650400Z"
    }
   },
   "id": "150cc695bf884024"
  },
  {
   "cell_type": "code",
   "execution_count": 287,
   "outputs": [
    {
     "name": "stderr",
     "output_type": "stream",
     "text": [
      "C:\\Users\\Axel\\Documents\\PYTHON\\MSP_V3\\venv\\Lib\\site-packages\\openpyxl\\styles\\stylesheet.py:226: UserWarning:\n",
      "\n",
      "Workbook contains no default style, apply openpyxl's default\n",
      "\n"
     ]
    }
   ],
   "source": [
    "TEST_df = pd.read_excel(TEST_file)"
   ],
   "metadata": {
    "collapsed": false,
    "ExecuteTime": {
     "end_time": "2024-02-03T09:29:07.144595Z",
     "start_time": "2024-02-03T09:29:07.073219Z"
    }
   },
   "id": "933cbbf039f045"
  },
  {
   "cell_type": "code",
   "execution_count": 288,
   "outputs": [
    {
     "data": {
      "text/plain": "  FILENAME                SuperClassNP  \\\n0  MS-Dial  Anthranilic acid alkaloids   \n1  MS-Dial  Anthranilic acid alkaloids   \n2  MS-Dial  Anthranilic acid alkaloids   \n3  MS-Dial  Anthranilic acid alkaloids   \n4  MS-Dial  Anthranilic acid alkaloids   \n\n                                          ClassNP  Count(INCHIKEY)  PathwayNP  \n0                              Acridone alkaloids               19  Alkaloids  \n1                   Anthranillic acid derivatives                7  Alkaloids  \n2                        Benzodiazepine alkaloids               25  Alkaloids  \n3  Benzodiazepine alkaloids|Quinazoline alkaloids                2  Alkaloids  \n4                             Phenazine alkaloids               21  Alkaloids  ",
      "text/html": "<div>\n<style scoped>\n    .dataframe tbody tr th:only-of-type {\n        vertical-align: middle;\n    }\n\n    .dataframe tbody tr th {\n        vertical-align: top;\n    }\n\n    .dataframe thead th {\n        text-align: right;\n    }\n</style>\n<table border=\"1\" class=\"dataframe\">\n  <thead>\n    <tr style=\"text-align: right;\">\n      <th></th>\n      <th>FILENAME</th>\n      <th>SuperClassNP</th>\n      <th>ClassNP</th>\n      <th>Count(INCHIKEY)</th>\n      <th>PathwayNP</th>\n    </tr>\n  </thead>\n  <tbody>\n    <tr>\n      <th>0</th>\n      <td>MS-Dial</td>\n      <td>Anthranilic acid alkaloids</td>\n      <td>Acridone alkaloids</td>\n      <td>19</td>\n      <td>Alkaloids</td>\n    </tr>\n    <tr>\n      <th>1</th>\n      <td>MS-Dial</td>\n      <td>Anthranilic acid alkaloids</td>\n      <td>Anthranillic acid derivatives</td>\n      <td>7</td>\n      <td>Alkaloids</td>\n    </tr>\n    <tr>\n      <th>2</th>\n      <td>MS-Dial</td>\n      <td>Anthranilic acid alkaloids</td>\n      <td>Benzodiazepine alkaloids</td>\n      <td>25</td>\n      <td>Alkaloids</td>\n    </tr>\n    <tr>\n      <th>3</th>\n      <td>MS-Dial</td>\n      <td>Anthranilic acid alkaloids</td>\n      <td>Benzodiazepine alkaloids|Quinazoline alkaloids</td>\n      <td>2</td>\n      <td>Alkaloids</td>\n    </tr>\n    <tr>\n      <th>4</th>\n      <td>MS-Dial</td>\n      <td>Anthranilic acid alkaloids</td>\n      <td>Phenazine alkaloids</td>\n      <td>21</td>\n      <td>Alkaloids</td>\n    </tr>\n  </tbody>\n</table>\n</div>"
     },
     "execution_count": 288,
     "metadata": {},
     "output_type": "execute_result"
    }
   ],
   "source": [
    "TEST_df.head()"
   ],
   "metadata": {
    "collapsed": false,
    "ExecuteTime": {
     "end_time": "2024-02-03T09:29:07.147283400Z",
     "start_time": "2024-02-03T09:29:07.138769Z"
    }
   },
   "id": "5b2829d93391d2ce"
  },
  {
   "cell_type": "code",
   "execution_count": 289,
   "outputs": [],
   "source": [
    "root = tk.Tk()\n",
    "app = MaFenetre(root, colonnes_df=TEST_df, df=TEST_df)\n",
    "root.mainloop()\n",
    "\n",
    "if app.colonne_counts_selectionnee != None:\n",
    "    COLONNES_COUNT = app.colonne_counts_selectionnee\n",
    "if app.colonne_couleur_selectionnee != None:\n",
    "    COLONNES_COLOR = app.colonne_couleur_selectionnee\n",
    "if app.resultat is not None:\n",
    "    COLONNES_LIST = app.resultat"
   ],
   "metadata": {
    "collapsed": false,
    "ExecuteTime": {
     "end_time": "2024-02-03T09:30:06.672419600Z",
     "start_time": "2024-02-03T09:29:07.148431Z"
    }
   },
   "id": "ea42c201014dd3b3"
  },
  {
   "cell_type": "code",
   "execution_count": 290,
   "outputs": [
    {
     "name": "stdout",
     "output_type": "stream",
     "text": [
      "Count(INCHIKEY)\n"
     ]
    }
   ],
   "source": [
    "print(COLONNES_COUNT)"
   ],
   "metadata": {
    "collapsed": false,
    "ExecuteTime": {
     "end_time": "2024-02-03T09:30:06.673425600Z",
     "start_time": "2024-02-03T09:30:06.664604Z"
    }
   },
   "id": "ce89d6df2b0bc21b"
  },
  {
   "cell_type": "code",
   "execution_count": 291,
   "outputs": [
    {
     "name": "stdout",
     "output_type": "stream",
     "text": [
      "PathwayNP\n"
     ]
    }
   ],
   "source": [
    "print(COLONNES_COLOR)"
   ],
   "metadata": {
    "collapsed": false,
    "ExecuteTime": {
     "end_time": "2024-02-03T09:30:06.702525200Z",
     "start_time": "2024-02-03T09:30:06.669102100Z"
    }
   },
   "id": "f0073cb1e04935d0"
  },
  {
   "cell_type": "code",
   "execution_count": 292,
   "outputs": [
    {
     "name": "stdout",
     "output_type": "stream",
     "text": [
      "['FILENAME', 'PathwayNP', 'SuperClassNP']\n"
     ]
    }
   ],
   "source": [
    "print(COLONNES_LIST)"
   ],
   "metadata": {
    "collapsed": false,
    "ExecuteTime": {
     "end_time": "2024-02-03T09:30:06.711759Z",
     "start_time": "2024-02-03T09:30:06.693230500Z"
    }
   },
   "id": "f38d80d52177df43"
  },
  {
   "cell_type": "code",
   "execution_count": 293,
   "outputs": [],
   "source": [
    "color_dict = app.saved_colors"
   ],
   "metadata": {
    "collapsed": false,
    "ExecuteTime": {
     "end_time": "2024-02-03T09:30:06.753995600Z",
     "start_time": "2024-02-03T09:30:06.707222200Z"
    }
   },
   "id": "95711d268f647a4"
  },
  {
   "cell_type": "code",
   "execution_count": 294,
   "outputs": [
    {
     "data": {
      "text/plain": "{'Alkaloids': '#ff8080',\n 'Amino acids and Peptides': '#ffff80',\n 'Shikimates and Phenylpropanoids': '#80ff80',\n 'Carbohydrates': '#80ffff',\n 'Fatty acids': '#ff8040',\n 'Polyketides': '#8080ff',\n 'Terpenoids': '#808000'}"
     },
     "execution_count": 294,
     "metadata": {},
     "output_type": "execute_result"
    }
   ],
   "source": [
    "color_dict"
   ],
   "metadata": {
    "collapsed": false,
    "ExecuteTime": {
     "end_time": "2024-02-03T09:30:06.755019100Z",
     "start_time": "2024-02-03T09:30:06.722997600Z"
    }
   },
   "id": "35de0f0812e7f26f"
  },
  {
   "cell_type": "code",
   "execution_count": 295,
   "outputs": [],
   "source": [
    "fig = px.sunburst(TEST_df,path=COLONNES_LIST,values = COLONNES_COUNT,width=750, height=750,color=COLONNES_COLOR,color_discrete_map=color_dict)"
   ],
   "metadata": {
    "collapsed": false,
    "ExecuteTime": {
     "end_time": "2024-02-03T09:30:06.800934900Z",
     "start_time": "2024-02-03T09:30:06.738431700Z"
    }
   },
   "id": "f71460ac9fdb7c99"
  },
  {
   "cell_type": "code",
   "execution_count": 296,
   "outputs": [
    {
     "data": {
      "application/vnd.plotly.v1+json": {
       "data": [
        {
         "branchvalues": "total",
         "customdata": [
          [
           "Polyketides"
          ],
          [
           "Terpenoids"
          ],
          [
           "Polyketides"
          ],
          [
           "Polyketides"
          ],
          [
           "Terpenoids"
          ],
          [
           "Polyketides"
          ],
          [
           "Terpenoids"
          ],
          [
           "Shikimates and Phenylpropanoids"
          ],
          [
           "Polyketides"
          ],
          [
           "Terpenoids"
          ],
          [
           "Amino acids and Peptides"
          ],
          [
           "Shikimates and Phenylpropanoids"
          ],
          [
           "Polyketides"
          ],
          [
           "Polyketides"
          ],
          [
           "Polyketides"
          ],
          [
           "Alkaloids"
          ],
          [
           "Polyketides"
          ],
          [
           "Polyketides"
          ],
          [
           "Amino acids and Peptides"
          ],
          [
           "Shikimates and Phenylpropanoids"
          ],
          [
           "Shikimates and Phenylpropanoids"
          ],
          [
           "Amino acids and Peptides"
          ],
          [
           "Polyketides"
          ],
          [
           "Alkaloids"
          ],
          [
           "Alkaloids"
          ],
          [
           "Alkaloids"
          ],
          [
           "Shikimates and Phenylpropanoids"
          ],
          [
           "Alkaloids"
          ],
          [
           "Amino acids and Peptides"
          ],
          [
           "Alkaloids"
          ],
          [
           "Terpenoids"
          ],
          [
           "Alkaloids"
          ],
          [
           "Amino acids and Peptides"
          ],
          [
           "Amino acids and Peptides"
          ],
          [
           "Alkaloids"
          ],
          [
           "Alkaloids"
          ],
          [
           "Terpenoids"
          ],
          [
           "Terpenoids"
          ],
          [
           "Amino acids and Peptides"
          ],
          [
           "Alkaloids"
          ],
          [
           "Alkaloids"
          ],
          [
           "Alkaloids"
          ],
          [
           "Carbohydrates"
          ],
          [
           "Carbohydrates"
          ],
          [
           "Alkaloids"
          ],
          [
           "Shikimates and Phenylpropanoids"
          ],
          [
           "Shikimates and Phenylpropanoids"
          ],
          [
           "Alkaloids"
          ],
          [
           "Shikimates and Phenylpropanoids"
          ],
          [
           "Terpenoids"
          ],
          [
           "Shikimates and Phenylpropanoids"
          ],
          [
           "Terpenoids"
          ],
          [
           "Fatty acids"
          ],
          [
           "Alkaloids"
          ],
          [
           "Shikimates and Phenylpropanoids"
          ],
          [
           "Carbohydrates"
          ],
          [
           "Terpenoids"
          ],
          [
           "Amino acids and Peptides"
          ],
          [
           "Fatty acids"
          ],
          [
           "Polyketides"
          ],
          [
           "Polyketides"
          ],
          [
           "Alkaloids"
          ],
          [
           "Alkaloids"
          ],
          [
           "Amino acids and Peptides"
          ],
          [
           "Amino acids and Peptides"
          ],
          [
           "Amino acids and Peptides"
          ],
          [
           "Shikimates and Phenylpropanoids"
          ],
          [
           "Amino acids and Peptides"
          ],
          [
           "Shikimates and Phenylpropanoids"
          ],
          [
           "Amino acids and Peptides"
          ],
          [
           "Shikimates and Phenylpropanoids"
          ],
          [
           "Polyketides"
          ],
          [
           "Polyketides"
          ],
          [
           "Shikimates and Phenylpropanoids"
          ],
          [
           "Polyketides"
          ],
          [
           "Alkaloids"
          ],
          [
           "Shikimates and Phenylpropanoids"
          ],
          [
           "Polyketides"
          ],
          [
           "Shikimates and Phenylpropanoids"
          ],
          [
           "Polyketides"
          ],
          [
           "Polyketides"
          ],
          [
           "Shikimates and Phenylpropanoids"
          ],
          [
           "Polyketides"
          ],
          [
           "Polyketides"
          ],
          [
           "Shikimates and Phenylpropanoids"
          ],
          [
           "Shikimates and Phenylpropanoids"
          ],
          [
           "Amino acids and Peptides"
          ],
          [
           "Polyketides"
          ],
          [
           "Shikimates and Phenylpropanoids"
          ],
          [
           "Shikimates and Phenylpropanoids"
          ],
          [
           "Terpenoids"
          ],
          [
           "Amino acids and Peptides"
          ],
          [
           "Shikimates and Phenylpropanoids"
          ],
          [
           "Polyketides"
          ],
          [
           "Shikimates and Phenylpropanoids"
          ],
          [
           "Shikimates and Phenylpropanoids"
          ],
          [
           "Amino acids and Peptides"
          ],
          [
           "Carbohydrates"
          ],
          [
           "Carbohydrates"
          ],
          [
           "Carbohydrates"
          ],
          [
           "Alkaloids"
          ],
          [
           "Alkaloids"
          ],
          [
           "Amino acids and Peptides"
          ],
          [
           "Polyketides"
          ],
          [
           "Alkaloids"
          ],
          [
           "Terpenoids"
          ],
          [
           "Terpenoids"
          ],
          [
           "Polyketides"
          ],
          [
           "Polyketides"
          ],
          [
           "Terpenoids"
          ],
          [
           "Terpenoids"
          ],
          [
           "Polyketides"
          ],
          [
           "Amino acids and Peptides"
          ],
          [
           "Polyketides"
          ],
          [
           "Amino acids and Peptides"
          ],
          [
           "Shikimates and Phenylpropanoids"
          ],
          [
           "Fatty acids"
          ],
          [
           "Fatty acids"
          ],
          [
           "Fatty acids"
          ],
          [
           "Fatty acids"
          ],
          [
           "Alkaloids"
          ],
          [
           "Fatty acids"
          ],
          [
           "Fatty acids"
          ],
          [
           "Fatty acids"
          ],
          [
           "Terpenoids"
          ],
          [
           "Fatty acids"
          ],
          [
           "Fatty acids"
          ],
          [
           "Carbohydrates"
          ],
          [
           "Fatty acids"
          ],
          [
           "Amino acids and Peptides"
          ],
          [
           "Fatty acids"
          ],
          [
           "Fatty acids"
          ],
          [
           "Fatty acids"
          ],
          [
           "Fatty acids"
          ],
          [
           "Amino acids and Peptides"
          ],
          [
           "Alkaloids"
          ],
          [
           "Alkaloids"
          ],
          [
           "Shikimates and Phenylpropanoids"
          ],
          [
           "Alkaloids"
          ],
          [
           "Fatty acids"
          ],
          [
           "Fatty acids"
          ],
          [
           "Polyketides"
          ],
          [
           "Fatty acids"
          ],
          [
           "Fatty acids"
          ],
          [
           "Shikimates and Phenylpropanoids"
          ],
          [
           "Shikimates and Phenylpropanoids"
          ],
          [
           "Shikimates and Phenylpropanoids"
          ],
          [
           "Alkaloids"
          ],
          [
           "Terpenoids"
          ],
          [
           "Alkaloids"
          ],
          [
           "Terpenoids"
          ],
          [
           "Shikimates and Phenylpropanoids"
          ],
          [
           "Alkaloids"
          ],
          [
           "Alkaloids"
          ],
          [
           "Alkaloids"
          ],
          [
           "Terpenoids"
          ],
          [
           "Alkaloids"
          ],
          [
           "Alkaloids"
          ],
          [
           "Alkaloids"
          ],
          [
           "Carbohydrates"
          ],
          [
           "Amino acids and Peptides"
          ],
          [
           "Amino acids and Peptides"
          ],
          [
           "Fatty acids"
          ],
          [
           "Amino acids and Peptides"
          ],
          [
           "Amino acids and Peptides"
          ],
          [
           "Polyketides"
          ],
          [
           "Amino acids and Peptides"
          ],
          [
           "Shikimates and Phenylpropanoids"
          ],
          [
           "Alkaloids"
          ],
          [
           "Terpenoids"
          ],
          [
           "Shikimates and Phenylpropanoids"
          ],
          [
           "Polyketides"
          ],
          [
           "Alkaloids"
          ],
          [
           "Alkaloids"
          ],
          [
           "Polyketides"
          ],
          [
           "Alkaloids"
          ],
          [
           "Alkaloids"
          ],
          [
           "Amino acids and Peptides"
          ],
          [
           "Amino acids and Peptides"
          ],
          [
           "Alkaloids"
          ],
          [
           "Polyketides"
          ],
          [
           "Polyketides"
          ],
          [
           "Alkaloids"
          ],
          [
           "Shikimates and Phenylpropanoids"
          ],
          [
           "Shikimates and Phenylpropanoids"
          ],
          [
           "Shikimates and Phenylpropanoids"
          ],
          [
           "Shikimates and Phenylpropanoids"
          ],
          [
           "Alkaloids"
          ],
          [
           "Alkaloids"
          ],
          [
           "Alkaloids"
          ],
          [
           "Amino acids and Peptides"
          ],
          [
           "Amino acids and Peptides"
          ],
          [
           "Amino acids and Peptides"
          ],
          [
           "Amino acids and Peptides"
          ],
          [
           "Carbohydrates"
          ],
          [
           "Alkaloids"
          ],
          [
           "Alkaloids"
          ],
          [
           "Alkaloids"
          ],
          [
           "Terpenoids"
          ],
          [
           "Alkaloids"
          ],
          [
           "Terpenoids"
          ],
          [
           "Terpenoids"
          ],
          [
           "Polyketides"
          ],
          [
           "Shikimates and Phenylpropanoids"
          ],
          [
           "Shikimates and Phenylpropanoids"
          ],
          [
           "(?)"
          ],
          [
           "Polyketides"
          ],
          [
           "Polyketides"
          ],
          [
           "Polyketides"
          ],
          [
           "Terpenoids"
          ],
          [
           "Alkaloids"
          ],
          [
           "Terpenoids"
          ],
          [
           "Terpenoids"
          ],
          [
           "Fatty acids"
          ],
          [
           "Alkaloids"
          ],
          [
           "Alkaloids"
          ],
          [
           "Carbohydrates"
          ],
          [
           "Carbohydrates"
          ],
          [
           "Alkaloids"
          ],
          [
           "Terpenoids"
          ],
          [
           "Alkaloids"
          ],
          [
           "Terpenoids"
          ],
          [
           "Shikimates and Phenylpropanoids"
          ],
          [
           "Amino acids and Peptides"
          ],
          [
           "Shikimates and Phenylpropanoids"
          ],
          [
           "Alkaloids"
          ],
          [
           "Shikimates and Phenylpropanoids"
          ],
          [
           "Terpenoids"
          ],
          [
           "Fatty acids"
          ]
         ],
         "domain": {
          "x": [
           0.0,
           1.0
          ],
          "y": [
           0.0,
           1.0
          ]
         },
         "hovertemplate": "labels=%{label}<br>Count(INCHIKEY)=%{value}<br>parent=%{parent}<br>id=%{id}<br>PathwayNP=%{customdata[0]}<extra></extra>",
         "ids": [
          "MS-Dial/Polyketides/Alkylresorcinols",
          "MS-Dial/Terpenoids/Meroterpenoids",
          "MS-Dial/Polyketides/Meroterpenoids|Cyclic polyketides",
          "MS-Dial/Polyketides/Meroterpenoids|Phloroglucinols",
          "MS-Dial/Terpenoids/Meroterpenoids|Phloroglucinols",
          "MS-Dial/Polyketides/Meroterpenoids|Sesquiterpenoids",
          "MS-Dial/Terpenoids/Meroterpenoids|Sesquiterpenoids",
          "MS-Dial/Shikimates and Phenylpropanoids/Meroterpenoids",
          "MS-Dial/Polyketides/Miscellaneous polyketides",
          "MS-Dial/Terpenoids/Monoterpenoids",
          "MS-Dial/Amino acids and Peptides/Mycosporine derivatives",
          "MS-Dial/Shikimates and Phenylpropanoids/Mycosporine derivatives",
          "MS-Dial/Polyketides/Naphthalenes|Diterpenoids",
          "MS-Dial/Polyketides/Naphthalenes|Meroterpenoids",
          "MS-Dial/Polyketides/Naphthalenes|Polycyclic aromatic polyketides",
          "MS-Dial/Alkaloids/Mitomycin derivatives",
          "MS-Dial/Polyketides/Meroterpenoids",
          "MS-Dial/Polyketides/Macrolides|Cyclic polyketides",
          "MS-Dial/Amino acids and Peptides/Macrolides|Cyclic polyketides",
          "MS-Dial/Shikimates and Phenylpropanoids/Ligs",
          "MS-Dial/Shikimates and Phenylpropanoids/Ligs|Flavonoids",
          "MS-Dial/Amino acids and Peptides/Linear polyketides",
          "MS-Dial/Polyketides/Linear polyketides",
          "MS-Dial/Alkaloids/Lysine alkaloids",
          "MS-Dial/Alkaloids/Lysine alkaloids|Nicotinic acid alkaloids",
          "MS-Dial/Alkaloids/Lysine alkaloids|Nicotinic acid alkaloids|Coumarins",
          "MS-Dial/Shikimates and Phenylpropanoids/Lysine alkaloids|Nicotinic acid alkaloids|Coumarins",
          "MS-Dial/Alkaloids/Lysine alkaloids|Oligopeptides",
          "MS-Dial/Amino acids and Peptides/Lysine alkaloids|Oligopeptides",
          "MS-Dial/Alkaloids/Lysine alkaloids|Pseudoalkaloids",
          "MS-Dial/Terpenoids/Lysine alkaloids|Pseudoalkaloids",
          "MS-Dial/Alkaloids/Lysine alkaloids|Tyrosine alkaloids",
          "MS-Dial/Amino acids and Peptides/Macrolides",
          "MS-Dial/Amino acids and Peptides/Small peptides",
          "MS-Dial/Alkaloids/Nicotinic acid alkaloids|Histidine alkaloids",
          "MS-Dial/Alkaloids/Nicotinic acid alkaloids|Peptide alkaloids",
          "MS-Dial/Terpenoids/Nicotinic acid alkaloids|Pseudoalkaloids",
          "MS-Dial/Terpenoids/Nicotinic acid alkaloids|Sesquiterpenoids|Pseudoalkaloids",
          "MS-Dial/Amino acids and Peptides/Pseudoalkaloids",
          "MS-Dial/Alkaloids/Pseudoalkaloids|Diterpenoids",
          "MS-Dial/Alkaloids/Pseudoalkaloids|Fatty amides",
          "MS-Dial/Alkaloids/Pseudoalkaloids|Histidine alkaloids",
          "MS-Dial/Carbohydrates/Pseudoalkaloids|Nucleosides",
          "MS-Dial/Carbohydrates/Saccharides",
          "MS-Dial/Alkaloids/Tetramate alkaloids|Peptide alkaloids",
          "MS-Dial/Shikimates and Phenylpropanoids/Saccharides|Flavonoids",
          "MS-Dial/Shikimates and Phenylpropanoids/Terphenyls",
          "MS-Dial/Alkaloids/Serine alkaloids",
          "MS-Dial/Shikimates and Phenylpropanoids/Styrylpyrones",
          "MS-Dial/Terpenoids/Sesquiterpenoids|Monoterpenoids",
          "MS-Dial/Shikimates and Phenylpropanoids/Stilbenoids",
          "MS-Dial/Terpenoids/Sesterterpenoids|Monoterpenoids|Diterpenoids",
          "MS-Dial/Fatty acids/Sphingolipids|Fatty Acids and Conjugates",
          "MS-Dial/Alkaloids/Proline alkaloids",
          "MS-Dial/Shikimates and Phenylpropanoids/Isoflavonoids|Flavonoids",
          "MS-Dial/Carbohydrates/Polyols",
          "MS-Dial/Terpenoids/Phloroglucinols|Sesquiterpenoids",
          "MS-Dial/Amino acids and Peptides/Nicotinic acid alkaloids|Tetramate alkaloids|Peptide alkaloids",
          "MS-Dial/Fatty acids/Octadecanoids",
          "MS-Dial/Polyketides/Oligopeptides",
          "MS-Dial/Polyketides/Oligopeptides|Linear polyketides",
          "MS-Dial/Alkaloids/Oligopeptides|Tetramate alkaloids|Peptide alkaloids",
          "MS-Dial/Alkaloids/Ornithine alkaloids",
          "MS-Dial/Amino acids and Peptides/Ornithine alkaloids|Small peptides",
          "MS-Dial/Amino acids and Peptides/Peptide alkaloids",
          "MS-Dial/Amino acids and Peptides/Peptide alkaloids|Small peptides",
          "MS-Dial/Shikimates and Phenylpropanoids/Phenolic acids (C6-C1)|Flavonoids",
          "MS-Dial/Amino acids and Peptides/Phenolic acids (C6-C1)|Small peptides",
          "MS-Dial/Shikimates and Phenylpropanoids/Phenylethanoids (C6-C2)",
          "MS-Dial/Amino acids and Peptides/Phenylpropanoids (C6-C3)",
          "MS-Dial/Shikimates and Phenylpropanoids/Phenylpropanoids (C6-C3)|Ligs",
          "MS-Dial/Polyketides/Phloroglucinols",
          "MS-Dial/Polyketides/Polyethers",
          "MS-Dial/Shikimates and Phenylpropanoids/Isoflavonoids",
          "MS-Dial/Polyketides/Macrolides",
          "MS-Dial/Alkaloids/Histidine alkaloids|Small peptides",
          "MS-Dial/Shikimates and Phenylpropanoids/Chromanes|Flavonoids",
          "MS-Dial/Polyketides/Chromanes|Isoflavonoids",
          "MS-Dial/Shikimates and Phenylpropanoids/Chromanes|Isoflavonoids",
          "MS-Dial/Polyketides/Chromanes|Polycyclic aromatic polyketides",
          "MS-Dial/Polyketides/Chromanes|Xanthones",
          "MS-Dial/Shikimates and Phenylpropanoids/Coumarins",
          "MS-Dial/Polyketides/Coumarins|Aromatic polyketides",
          "MS-Dial/Polyketides/Chromanes|Flavonoids",
          "MS-Dial/Shikimates and Phenylpropanoids/Coumarins|Aromatic polyketides",
          "MS-Dial/Shikimates and Phenylpropanoids/Coumarins|Ligs",
          "MS-Dial/Amino acids and Peptides/Histidine alkaloids|Small peptides",
          "MS-Dial/Polyketides/Coumarins|Polycyclic aromatic polyketides",
          "MS-Dial/Shikimates and Phenylpropanoids/Coumarins|Polycyclic aromatic polyketides",
          "MS-Dial/Shikimates and Phenylpropanoids/Coumarins|Sesquiterpenoids",
          "MS-Dial/Terpenoids/Coumarins|Sesquiterpenoids",
          "MS-Dial/Amino acids and Peptides/Cyclic polyketides",
          "MS-Dial/Shikimates and Phenylpropanoids/Coumarins|Flavonoids",
          "MS-Dial/Polyketides/Cyclic polyketides",
          "MS-Dial/Shikimates and Phenylpropanoids/Chromanes|Coumarins",
          "MS-Dial/Shikimates and Phenylpropanoids/Chromanes",
          "MS-Dial/Amino acids and Peptides/Amino acid glycosides",
          "MS-Dial/Carbohydrates/Aminosugars and aminoglycosides",
          "MS-Dial/Carbohydrates/Aminosugars and aminoglycosides|Polyols",
          "MS-Dial/Carbohydrates/Aminosugars and aminoglycosides|Saccharides",
          "MS-Dial/Alkaloids/Anthranilic acid alkaloids",
          "MS-Dial/Alkaloids/Anthranilic acid alkaloids|Histidine alkaloids|Peptide alkaloids",
          "MS-Dial/Amino acids and Peptides/Anthranilic acid alkaloids|Histidine alkaloids|Peptide alkaloids",
          "MS-Dial/Polyketides/Chromanes|Coumarins",
          "MS-Dial/Alkaloids/Anthranilic acid alkaloids|Peptide alkaloids",
          "MS-Dial/Terpenoids/Apocarotenoids",
          "MS-Dial/Terpenoids/Apocarotenoids|Diterpenoids",
          "MS-Dial/Polyketides/Aromatic polyketides",
          "MS-Dial/Polyketides/Aromatic polyketides|Diphenyl ethers (DPEs)",
          "MS-Dial/Terpenoids/Carotenoids (C40)",
          "MS-Dial/Terpenoids/Carotenoids (C50)",
          "MS-Dial/Polyketides/Chromanes",
          "MS-Dial/Amino acids and Peptides/Anthranilic acid alkaloids|Peptide alkaloids",
          "MS-Dial/Polyketides/Cyclic polyketides|Linear polyketides",
          "MS-Dial/Amino acids and Peptides/Sphingolipids",
          "MS-Dial/Shikimates and Phenylpropanoids/Diarylheptanoids",
          "MS-Dial/Fatty acids/Fatty acyl glycosides",
          "MS-Dial/Fatty acids/Fatty amides",
          "MS-Dial/Fatty acids/Eicosanoids|Octadecanoids",
          "MS-Dial/Fatty acids/Fatty Acids and Conjugates",
          "MS-Dial/Alkaloids/Fatty amides",
          "MS-Dial/Fatty acids/Fatty Acids and Conjugates|Fatty esters",
          "MS-Dial/Fatty acids/Docosanoids|Fatty Acids and Conjugates",
          "MS-Dial/Fatty acids/Fatty Acids and Conjugates|Monoterpenoids",
          "MS-Dial/Terpenoids/Fatty Acids and Conjugates|Monoterpenoids",
          "MS-Dial/Fatty acids/Fatty Acids and Conjugates|Octadecanoids",
          "MS-Dial/Fatty acids/Fatty acyls",
          "MS-Dial/Carbohydrates/Fatty Acids and Conjugates|Saccharides",
          "MS-Dial/Fatty acids/Fatty Acids and Conjugates|Saccharides",
          "MS-Dial/Amino acids and Peptides/Fatty Acids and Conjugates|Small peptides",
          "MS-Dial/Fatty acids/Fatty acyls|Fatty amides",
          "MS-Dial/Fatty acids/Fatty esters",
          "MS-Dial/Fatty acids/Eicosanoids",
          "MS-Dial/Fatty acids/Glycerolipids|Fatty esters",
          "MS-Dial/Amino acids and Peptides/Histidine alkaloids|Peptide alkaloids",
          "MS-Dial/Alkaloids/Histidine alkaloids|Peptide alkaloids",
          "MS-Dial/Alkaloids/Histidine alkaloids",
          "MS-Dial/Shikimates and Phenylpropanoids/Diazotetronic acids and derivatives",
          "MS-Dial/Alkaloids/Guanidine alkaloids",
          "MS-Dial/Fatty acids/Glycerophospholipids",
          "MS-Dial/Fatty acids/Docosanoids",
          "MS-Dial/Polyketides/Diphenyl ethers (DPEs)",
          "MS-Dial/Fatty acids/Fatty Acids and Conjugates|Small peptides",
          "MS-Dial/Fatty acids/Glycerolipids",
          "MS-Dial/Shikimates and Phenylpropanoids/Fluorenes",
          "MS-Dial/Shikimates and Phenylpropanoids/Flavonoids",
          "MS-Dial/Shikimates and Phenylpropanoids/Diphenyl ethers (DPEs)",
          "MS-Dial/Alkaloids/Flavonoids",
          "MS-Dial/Terpenoids/Diterpenoids",
          "MS-Dial/Alkaloids/Tryptophan alkaloids|Flavonoids",
          "MS-Dial/Terpenoids/Tryptophan alkaloids",
          "MS-Dial/Shikimates and Phenylpropanoids/Tryptophan alkaloids|Flavonoids",
          "MS-Dial/Alkaloids/Tryptophan alkaloids|Histidine alkaloids",
          "MS-Dial/Alkaloids/Tryptophan alkaloids",
          "MS-Dial/Alkaloids/Tryptophan alkaloids|Anthranilic acid alkaloids",
          "MS-Dial/Terpenoids/Triterpenoids",
          "MS-Dial/Alkaloids/Tryptophan alkaloids|Tyrosine alkaloids",
          "MS-Dial/Alkaloids/Tryptophan alkaloids|Nicotinic acid alkaloids|Anthranilic acid alkaloids",
          "MS-Dial/Alkaloids",
          "MS-Dial/Carbohydrates",
          "MS-Dial/Amino acids and Peptides/γ-lactam-β-lactones",
          "MS-Dial/Amino acids and Peptides/β-lactams|Small peptides",
          "MS-Dial/Fatty acids",
          "MS-Dial/Amino acids and Peptides/β-lactams",
          "MS-Dial/Amino acids and Peptides/Î²-lactams|Small peptides",
          "MS-Dial/Polyketides",
          "MS-Dial/Amino acids and Peptides/Î²-lactams",
          "MS-Dial/Shikimates and Phenylpropanoids",
          "MS-Dial/Alkaloids/Tryptophan alkaloids|Nicotinic acid alkaloids",
          "MS-Dial/Terpenoids/Xanthones|Meroterpenoids",
          "MS-Dial/Shikimates and Phenylpropanoids/Xanthones",
          "MS-Dial/Polyketides/Xanthones",
          "MS-Dial/Alkaloids/Tyrosine alkaloids|Pseudoalkaloids",
          "MS-Dial/Alkaloids/Tyrosine alkaloids|Nicotinic acid alkaloids",
          "MS-Dial/Polyketides/Tyrosine alkaloids|Cyclic polyketides",
          "MS-Dial/Alkaloids/Tyrosine alkaloids|Cyclic polyketides",
          "MS-Dial/Alkaloids/Tyrosine alkaloids",
          "MS-Dial/Amino acids and Peptides",
          "MS-Dial/Amino acids and Peptides/Tryptophan alkaloids|Small peptides",
          "MS-Dial/Alkaloids/Tryptophan alkaloids|Small peptides",
          "MS-Dial/Polyketides/Xanthones|Meroterpenoids",
          "MS-Dial/Polyketides/Xanthones|Polycyclic aromatic polyketides",
          "MS-Dial/Alkaloids/Nicotinic acid alkaloids|Ornithine alkaloids",
          "MS-Dial/Shikimates and Phenylpropanoids/Phethrenoids",
          "MS-Dial/Shikimates and Phenylpropanoids/Phenolic acids (C6-C1)|Small peptides",
          "MS-Dial/Shikimates and Phenylpropanoids/Phenolic acids (C6-C1)|Phenylpropanoids (C6-C3)",
          "MS-Dial/Shikimates and Phenylpropanoids/Phenolic acids (C6-C1)",
          "MS-Dial/Alkaloids/Peptide alkaloids|Small peptides",
          "MS-Dial/Alkaloids/Peptide alkaloids",
          "MS-Dial/Alkaloids/Ornithine alkaloids|Small peptides",
          "MS-Dial/Amino acids and Peptides/Oligopeptides|Tetramate alkaloids|Peptide alkaloids",
          "MS-Dial/Amino acids and Peptides/Oligopeptides|Small peptides",
          "MS-Dial/Amino acids and Peptides/Oligopeptides|Linear polyketides",
          "MS-Dial/Amino acids and Peptides/Oligopeptides",
          "MS-Dial/Carbohydrates/Nucleosides",
          "MS-Dial/Alkaloids/Nicotinic acid alkaloids|Tetramate alkaloids|Peptide alkaloids",
          "MS-Dial/Alkaloids/Nicotinic acid alkaloids|Sesquiterpenoids|Pseudoalkaloids",
          "MS-Dial/Alkaloids/Nicotinic acid alkaloids|Pseudoalkaloids",
          "MS-Dial/Terpenoids",
          "MS-Dial/Alkaloids/Nicotinic acid alkaloids",
          "MS-Dial/Terpenoids/Naphthalenes|Meroterpenoids",
          "MS-Dial/Terpenoids/Naphthalenes|Diterpenoids",
          "MS-Dial/Polyketides/Naphthalenes",
          "MS-Dial/Shikimates and Phenylpropanoids/Phenylethanoids (C6-C2)|Phenylpropanoids (C6-C3)",
          "MS-Dial/Shikimates and Phenylpropanoids/Phenylpropanoids (C6-C3)",
          "MS-Dial",
          "MS-Dial/Polyketides/Phloroglucinols|Sesquiterpenoids",
          "MS-Dial/Polyketides/Polycyclic aromatic polyketides",
          "MS-Dial/Polyketides/Polyethers|Linear polyketides",
          "MS-Dial/Terpenoids/Polyprenols",
          "MS-Dial/Alkaloids/Proline alkaloids|Nicotinic acid alkaloids|Histidine alkaloids",
          "MS-Dial/Terpenoids/Pseudoalkaloids",
          "MS-Dial/Terpenoids/Pseudoalkaloids|Diterpenoids",
          "MS-Dial/Fatty acids/Pseudoalkaloids|Fatty amides",
          "MS-Dial/Alkaloids/Pseudoalkaloids|Nucleosides",
          "MS-Dial/Alkaloids/Pseudoalkaloids|Peptide alkaloids",
          "MS-Dial/Carbohydrates/Saccharides|Flavonoids",
          "MS-Dial/Carbohydrates/Saccharides|Polyols",
          "MS-Dial/Alkaloids/Pseudoalkaloids",
          "MS-Dial/Terpenoids/Sesterterpenoids",
          "MS-Dial/Alkaloids/Small peptides",
          "MS-Dial/Terpenoids/Steroids",
          "MS-Dial/Shikimates and Phenylpropanoids/Stilbenoids|Ligs",
          "MS-Dial/Amino acids and Peptides/Tetramate alkaloids|Peptide alkaloids",
          "MS-Dial/Shikimates and Phenylpropanoids/Styrylpyrones|Diazotetronic acids and derivatives",
          "MS-Dial/Alkaloids/Tetramate alkaloids",
          "MS-Dial/Shikimates and Phenylpropanoids/Small peptides",
          "MS-Dial/Terpenoids/Sesquiterpenoids",
          "MS-Dial/Fatty acids/Sphingolipids"
         ],
         "labels": [
          "Alkylresorcinols",
          "Meroterpenoids",
          "Meroterpenoids|Cyclic polyketides",
          "Meroterpenoids|Phloroglucinols",
          "Meroterpenoids|Phloroglucinols",
          "Meroterpenoids|Sesquiterpenoids",
          "Meroterpenoids|Sesquiterpenoids",
          "Meroterpenoids",
          "Miscellaneous polyketides",
          "Monoterpenoids",
          "Mycosporine derivatives",
          "Mycosporine derivatives",
          "Naphthalenes|Diterpenoids",
          "Naphthalenes|Meroterpenoids",
          "Naphthalenes|Polycyclic aromatic polyketides",
          "Mitomycin derivatives",
          "Meroterpenoids",
          "Macrolides|Cyclic polyketides",
          "Macrolides|Cyclic polyketides",
          "Ligs",
          "Ligs|Flavonoids",
          "Linear polyketides",
          "Linear polyketides",
          "Lysine alkaloids",
          "Lysine alkaloids|Nicotinic acid alkaloids",
          "Lysine alkaloids|Nicotinic acid alkaloids|Coumarins",
          "Lysine alkaloids|Nicotinic acid alkaloids|Coumarins",
          "Lysine alkaloids|Oligopeptides",
          "Lysine alkaloids|Oligopeptides",
          "Lysine alkaloids|Pseudoalkaloids",
          "Lysine alkaloids|Pseudoalkaloids",
          "Lysine alkaloids|Tyrosine alkaloids",
          "Macrolides",
          "Small peptides",
          "Nicotinic acid alkaloids|Histidine alkaloids",
          "Nicotinic acid alkaloids|Peptide alkaloids",
          "Nicotinic acid alkaloids|Pseudoalkaloids",
          "Nicotinic acid alkaloids|Sesquiterpenoids|Pseudoalkaloids",
          "Pseudoalkaloids",
          "Pseudoalkaloids|Diterpenoids",
          "Pseudoalkaloids|Fatty amides",
          "Pseudoalkaloids|Histidine alkaloids",
          "Pseudoalkaloids|Nucleosides",
          "Saccharides",
          "Tetramate alkaloids|Peptide alkaloids",
          "Saccharides|Flavonoids",
          "Terphenyls",
          "Serine alkaloids",
          "Styrylpyrones",
          "Sesquiterpenoids|Monoterpenoids",
          "Stilbenoids",
          "Sesterterpenoids|Monoterpenoids|Diterpenoids",
          "Sphingolipids|Fatty Acids and Conjugates",
          "Proline alkaloids",
          "Isoflavonoids|Flavonoids",
          "Polyols",
          "Phloroglucinols|Sesquiterpenoids",
          "Nicotinic acid alkaloids|Tetramate alkaloids|Peptide alkaloids",
          "Octadecanoids",
          "Oligopeptides",
          "Oligopeptides|Linear polyketides",
          "Oligopeptides|Tetramate alkaloids|Peptide alkaloids",
          "Ornithine alkaloids",
          "Ornithine alkaloids|Small peptides",
          "Peptide alkaloids",
          "Peptide alkaloids|Small peptides",
          "Phenolic acids (C6-C1)|Flavonoids",
          "Phenolic acids (C6-C1)|Small peptides",
          "Phenylethanoids (C6-C2)",
          "Phenylpropanoids (C6-C3)",
          "Phenylpropanoids (C6-C3)|Ligs",
          "Phloroglucinols",
          "Polyethers",
          "Isoflavonoids",
          "Macrolides",
          "Histidine alkaloids|Small peptides",
          "Chromanes|Flavonoids",
          "Chromanes|Isoflavonoids",
          "Chromanes|Isoflavonoids",
          "Chromanes|Polycyclic aromatic polyketides",
          "Chromanes|Xanthones",
          "Coumarins",
          "Coumarins|Aromatic polyketides",
          "Chromanes|Flavonoids",
          "Coumarins|Aromatic polyketides",
          "Coumarins|Ligs",
          "Histidine alkaloids|Small peptides",
          "Coumarins|Polycyclic aromatic polyketides",
          "Coumarins|Polycyclic aromatic polyketides",
          "Coumarins|Sesquiterpenoids",
          "Coumarins|Sesquiterpenoids",
          "Cyclic polyketides",
          "Coumarins|Flavonoids",
          "Cyclic polyketides",
          "Chromanes|Coumarins",
          "Chromanes",
          "Amino acid glycosides",
          "Aminosugars and aminoglycosides",
          "Aminosugars and aminoglycosides|Polyols",
          "Aminosugars and aminoglycosides|Saccharides",
          "Anthranilic acid alkaloids",
          "Anthranilic acid alkaloids|Histidine alkaloids|Peptide alkaloids",
          "Anthranilic acid alkaloids|Histidine alkaloids|Peptide alkaloids",
          "Chromanes|Coumarins",
          "Anthranilic acid alkaloids|Peptide alkaloids",
          "Apocarotenoids",
          "Apocarotenoids|Diterpenoids",
          "Aromatic polyketides",
          "Aromatic polyketides|Diphenyl ethers (DPEs)",
          "Carotenoids (C40)",
          "Carotenoids (C50)",
          "Chromanes",
          "Anthranilic acid alkaloids|Peptide alkaloids",
          "Cyclic polyketides|Linear polyketides",
          "Sphingolipids",
          "Diarylheptanoids",
          "Fatty acyl glycosides",
          "Fatty amides",
          "Eicosanoids|Octadecanoids",
          "Fatty Acids and Conjugates",
          "Fatty amides",
          "Fatty Acids and Conjugates|Fatty esters",
          "Docosanoids|Fatty Acids and Conjugates",
          "Fatty Acids and Conjugates|Monoterpenoids",
          "Fatty Acids and Conjugates|Monoterpenoids",
          "Fatty Acids and Conjugates|Octadecanoids",
          "Fatty acyls",
          "Fatty Acids and Conjugates|Saccharides",
          "Fatty Acids and Conjugates|Saccharides",
          "Fatty Acids and Conjugates|Small peptides",
          "Fatty acyls|Fatty amides",
          "Fatty esters",
          "Eicosanoids",
          "Glycerolipids|Fatty esters",
          "Histidine alkaloids|Peptide alkaloids",
          "Histidine alkaloids|Peptide alkaloids",
          "Histidine alkaloids",
          "Diazotetronic acids and derivatives",
          "Guanidine alkaloids",
          "Glycerophospholipids",
          "Docosanoids",
          "Diphenyl ethers (DPEs)",
          "Fatty Acids and Conjugates|Small peptides",
          "Glycerolipids",
          "Fluorenes",
          "Flavonoids",
          "Diphenyl ethers (DPEs)",
          "Flavonoids",
          "Diterpenoids",
          "Tryptophan alkaloids|Flavonoids",
          "Tryptophan alkaloids",
          "Tryptophan alkaloids|Flavonoids",
          "Tryptophan alkaloids|Histidine alkaloids",
          "Tryptophan alkaloids",
          "Tryptophan alkaloids|Anthranilic acid alkaloids",
          "Triterpenoids",
          "Tryptophan alkaloids|Tyrosine alkaloids",
          "Tryptophan alkaloids|Nicotinic acid alkaloids|Anthranilic acid alkaloids",
          "Alkaloids",
          "Carbohydrates",
          "γ-lactam-β-lactones",
          "β-lactams|Small peptides",
          "Fatty acids",
          "β-lactams",
          "Î²-lactams|Small peptides",
          "Polyketides",
          "Î²-lactams",
          "Shikimates and Phenylpropanoids",
          "Tryptophan alkaloids|Nicotinic acid alkaloids",
          "Xanthones|Meroterpenoids",
          "Xanthones",
          "Xanthones",
          "Tyrosine alkaloids|Pseudoalkaloids",
          "Tyrosine alkaloids|Nicotinic acid alkaloids",
          "Tyrosine alkaloids|Cyclic polyketides",
          "Tyrosine alkaloids|Cyclic polyketides",
          "Tyrosine alkaloids",
          "Amino acids and Peptides",
          "Tryptophan alkaloids|Small peptides",
          "Tryptophan alkaloids|Small peptides",
          "Xanthones|Meroterpenoids",
          "Xanthones|Polycyclic aromatic polyketides",
          "Nicotinic acid alkaloids|Ornithine alkaloids",
          "Phethrenoids",
          "Phenolic acids (C6-C1)|Small peptides",
          "Phenolic acids (C6-C1)|Phenylpropanoids (C6-C3)",
          "Phenolic acids (C6-C1)",
          "Peptide alkaloids|Small peptides",
          "Peptide alkaloids",
          "Ornithine alkaloids|Small peptides",
          "Oligopeptides|Tetramate alkaloids|Peptide alkaloids",
          "Oligopeptides|Small peptides",
          "Oligopeptides|Linear polyketides",
          "Oligopeptides",
          "Nucleosides",
          "Nicotinic acid alkaloids|Tetramate alkaloids|Peptide alkaloids",
          "Nicotinic acid alkaloids|Sesquiterpenoids|Pseudoalkaloids",
          "Nicotinic acid alkaloids|Pseudoalkaloids",
          "Terpenoids",
          "Nicotinic acid alkaloids",
          "Naphthalenes|Meroterpenoids",
          "Naphthalenes|Diterpenoids",
          "Naphthalenes",
          "Phenylethanoids (C6-C2)|Phenylpropanoids (C6-C3)",
          "Phenylpropanoids (C6-C3)",
          "MS-Dial",
          "Phloroglucinols|Sesquiterpenoids",
          "Polycyclic aromatic polyketides",
          "Polyethers|Linear polyketides",
          "Polyprenols",
          "Proline alkaloids|Nicotinic acid alkaloids|Histidine alkaloids",
          "Pseudoalkaloids",
          "Pseudoalkaloids|Diterpenoids",
          "Pseudoalkaloids|Fatty amides",
          "Pseudoalkaloids|Nucleosides",
          "Pseudoalkaloids|Peptide alkaloids",
          "Saccharides|Flavonoids",
          "Saccharides|Polyols",
          "Pseudoalkaloids",
          "Sesterterpenoids",
          "Small peptides",
          "Steroids",
          "Stilbenoids|Ligs",
          "Tetramate alkaloids|Peptide alkaloids",
          "Styrylpyrones|Diazotetronic acids and derivatives",
          "Tetramate alkaloids",
          "Small peptides",
          "Sesquiterpenoids",
          "Sphingolipids"
         ],
         "marker": {
          "colors": [
           "#8080ff",
           "#808000",
           "#8080ff",
           "#8080ff",
           "#808000",
           "#8080ff",
           "#808000",
           "#80ff80",
           "#8080ff",
           "#808000",
           "#ffff80",
           "#80ff80",
           "#8080ff",
           "#8080ff",
           "#8080ff",
           "#ff8080",
           "#8080ff",
           "#8080ff",
           "#ffff80",
           "#80ff80",
           "#80ff80",
           "#ffff80",
           "#8080ff",
           "#ff8080",
           "#ff8080",
           "#ff8080",
           "#80ff80",
           "#ff8080",
           "#ffff80",
           "#ff8080",
           "#808000",
           "#ff8080",
           "#ffff80",
           "#ffff80",
           "#ff8080",
           "#ff8080",
           "#808000",
           "#808000",
           "#ffff80",
           "#ff8080",
           "#ff8080",
           "#ff8080",
           "#80ffff",
           "#80ffff",
           "#ff8080",
           "#80ff80",
           "#80ff80",
           "#ff8080",
           "#80ff80",
           "#808000",
           "#80ff80",
           "#808000",
           "#ff8040",
           "#ff8080",
           "#80ff80",
           "#80ffff",
           "#808000",
           "#ffff80",
           "#ff8040",
           "#8080ff",
           "#8080ff",
           "#ff8080",
           "#ff8080",
           "#ffff80",
           "#ffff80",
           "#ffff80",
           "#80ff80",
           "#ffff80",
           "#80ff80",
           "#ffff80",
           "#80ff80",
           "#8080ff",
           "#8080ff",
           "#80ff80",
           "#8080ff",
           "#ff8080",
           "#80ff80",
           "#8080ff",
           "#80ff80",
           "#8080ff",
           "#8080ff",
           "#80ff80",
           "#8080ff",
           "#8080ff",
           "#80ff80",
           "#80ff80",
           "#ffff80",
           "#8080ff",
           "#80ff80",
           "#80ff80",
           "#808000",
           "#ffff80",
           "#80ff80",
           "#8080ff",
           "#80ff80",
           "#80ff80",
           "#ffff80",
           "#80ffff",
           "#80ffff",
           "#80ffff",
           "#ff8080",
           "#ff8080",
           "#ffff80",
           "#8080ff",
           "#ff8080",
           "#808000",
           "#808000",
           "#8080ff",
           "#8080ff",
           "#808000",
           "#808000",
           "#8080ff",
           "#ffff80",
           "#8080ff",
           "#ffff80",
           "#80ff80",
           "#ff8040",
           "#ff8040",
           "#ff8040",
           "#ff8040",
           "#ff8080",
           "#ff8040",
           "#ff8040",
           "#ff8040",
           "#808000",
           "#ff8040",
           "#ff8040",
           "#80ffff",
           "#ff8040",
           "#ffff80",
           "#ff8040",
           "#ff8040",
           "#ff8040",
           "#ff8040",
           "#ffff80",
           "#ff8080",
           "#ff8080",
           "#80ff80",
           "#ff8080",
           "#ff8040",
           "#ff8040",
           "#8080ff",
           "#ff8040",
           "#ff8040",
           "#80ff80",
           "#80ff80",
           "#80ff80",
           "#ff8080",
           "#808000",
           "#ff8080",
           "#808000",
           "#80ff80",
           "#ff8080",
           "#ff8080",
           "#ff8080",
           "#808000",
           "#ff8080",
           "#ff8080",
           "#ff8080",
           "#80ffff",
           "#ffff80",
           "#ffff80",
           "#ff8040",
           "#ffff80",
           "#ffff80",
           "#8080ff",
           "#ffff80",
           "#80ff80",
           "#ff8080",
           "#808000",
           "#80ff80",
           "#8080ff",
           "#ff8080",
           "#ff8080",
           "#8080ff",
           "#ff8080",
           "#ff8080",
           "#ffff80",
           "#ffff80",
           "#ff8080",
           "#8080ff",
           "#8080ff",
           "#ff8080",
           "#80ff80",
           "#80ff80",
           "#80ff80",
           "#80ff80",
           "#ff8080",
           "#ff8080",
           "#ff8080",
           "#ffff80",
           "#ffff80",
           "#ffff80",
           "#ffff80",
           "#80ffff",
           "#ff8080",
           "#ff8080",
           "#ff8080",
           "#808000",
           "#ff8080",
           "#808000",
           "#808000",
           "#8080ff",
           "#80ff80",
           "#80ff80",
           "#B6E880",
           "#8080ff",
           "#8080ff",
           "#8080ff",
           "#808000",
           "#ff8080",
           "#808000",
           "#808000",
           "#ff8040",
           "#ff8080",
           "#ff8080",
           "#80ffff",
           "#80ffff",
           "#ff8080",
           "#808000",
           "#ff8080",
           "#808000",
           "#80ff80",
           "#ffff80",
           "#80ff80",
           "#ff8080",
           "#80ff80",
           "#808000",
           "#ff8040"
          ]
         },
         "name": "",
         "parents": [
          "MS-Dial/Polyketides",
          "MS-Dial/Terpenoids",
          "MS-Dial/Polyketides",
          "MS-Dial/Polyketides",
          "MS-Dial/Terpenoids",
          "MS-Dial/Polyketides",
          "MS-Dial/Terpenoids",
          "MS-Dial/Shikimates and Phenylpropanoids",
          "MS-Dial/Polyketides",
          "MS-Dial/Terpenoids",
          "MS-Dial/Amino acids and Peptides",
          "MS-Dial/Shikimates and Phenylpropanoids",
          "MS-Dial/Polyketides",
          "MS-Dial/Polyketides",
          "MS-Dial/Polyketides",
          "MS-Dial/Alkaloids",
          "MS-Dial/Polyketides",
          "MS-Dial/Polyketides",
          "MS-Dial/Amino acids and Peptides",
          "MS-Dial/Shikimates and Phenylpropanoids",
          "MS-Dial/Shikimates and Phenylpropanoids",
          "MS-Dial/Amino acids and Peptides",
          "MS-Dial/Polyketides",
          "MS-Dial/Alkaloids",
          "MS-Dial/Alkaloids",
          "MS-Dial/Alkaloids",
          "MS-Dial/Shikimates and Phenylpropanoids",
          "MS-Dial/Alkaloids",
          "MS-Dial/Amino acids and Peptides",
          "MS-Dial/Alkaloids",
          "MS-Dial/Terpenoids",
          "MS-Dial/Alkaloids",
          "MS-Dial/Amino acids and Peptides",
          "MS-Dial/Amino acids and Peptides",
          "MS-Dial/Alkaloids",
          "MS-Dial/Alkaloids",
          "MS-Dial/Terpenoids",
          "MS-Dial/Terpenoids",
          "MS-Dial/Amino acids and Peptides",
          "MS-Dial/Alkaloids",
          "MS-Dial/Alkaloids",
          "MS-Dial/Alkaloids",
          "MS-Dial/Carbohydrates",
          "MS-Dial/Carbohydrates",
          "MS-Dial/Alkaloids",
          "MS-Dial/Shikimates and Phenylpropanoids",
          "MS-Dial/Shikimates and Phenylpropanoids",
          "MS-Dial/Alkaloids",
          "MS-Dial/Shikimates and Phenylpropanoids",
          "MS-Dial/Terpenoids",
          "MS-Dial/Shikimates and Phenylpropanoids",
          "MS-Dial/Terpenoids",
          "MS-Dial/Fatty acids",
          "MS-Dial/Alkaloids",
          "MS-Dial/Shikimates and Phenylpropanoids",
          "MS-Dial/Carbohydrates",
          "MS-Dial/Terpenoids",
          "MS-Dial/Amino acids and Peptides",
          "MS-Dial/Fatty acids",
          "MS-Dial/Polyketides",
          "MS-Dial/Polyketides",
          "MS-Dial/Alkaloids",
          "MS-Dial/Alkaloids",
          "MS-Dial/Amino acids and Peptides",
          "MS-Dial/Amino acids and Peptides",
          "MS-Dial/Amino acids and Peptides",
          "MS-Dial/Shikimates and Phenylpropanoids",
          "MS-Dial/Amino acids and Peptides",
          "MS-Dial/Shikimates and Phenylpropanoids",
          "MS-Dial/Amino acids and Peptides",
          "MS-Dial/Shikimates and Phenylpropanoids",
          "MS-Dial/Polyketides",
          "MS-Dial/Polyketides",
          "MS-Dial/Shikimates and Phenylpropanoids",
          "MS-Dial/Polyketides",
          "MS-Dial/Alkaloids",
          "MS-Dial/Shikimates and Phenylpropanoids",
          "MS-Dial/Polyketides",
          "MS-Dial/Shikimates and Phenylpropanoids",
          "MS-Dial/Polyketides",
          "MS-Dial/Polyketides",
          "MS-Dial/Shikimates and Phenylpropanoids",
          "MS-Dial/Polyketides",
          "MS-Dial/Polyketides",
          "MS-Dial/Shikimates and Phenylpropanoids",
          "MS-Dial/Shikimates and Phenylpropanoids",
          "MS-Dial/Amino acids and Peptides",
          "MS-Dial/Polyketides",
          "MS-Dial/Shikimates and Phenylpropanoids",
          "MS-Dial/Shikimates and Phenylpropanoids",
          "MS-Dial/Terpenoids",
          "MS-Dial/Amino acids and Peptides",
          "MS-Dial/Shikimates and Phenylpropanoids",
          "MS-Dial/Polyketides",
          "MS-Dial/Shikimates and Phenylpropanoids",
          "MS-Dial/Shikimates and Phenylpropanoids",
          "MS-Dial/Amino acids and Peptides",
          "MS-Dial/Carbohydrates",
          "MS-Dial/Carbohydrates",
          "MS-Dial/Carbohydrates",
          "MS-Dial/Alkaloids",
          "MS-Dial/Alkaloids",
          "MS-Dial/Amino acids and Peptides",
          "MS-Dial/Polyketides",
          "MS-Dial/Alkaloids",
          "MS-Dial/Terpenoids",
          "MS-Dial/Terpenoids",
          "MS-Dial/Polyketides",
          "MS-Dial/Polyketides",
          "MS-Dial/Terpenoids",
          "MS-Dial/Terpenoids",
          "MS-Dial/Polyketides",
          "MS-Dial/Amino acids and Peptides",
          "MS-Dial/Polyketides",
          "MS-Dial/Amino acids and Peptides",
          "MS-Dial/Shikimates and Phenylpropanoids",
          "MS-Dial/Fatty acids",
          "MS-Dial/Fatty acids",
          "MS-Dial/Fatty acids",
          "MS-Dial/Fatty acids",
          "MS-Dial/Alkaloids",
          "MS-Dial/Fatty acids",
          "MS-Dial/Fatty acids",
          "MS-Dial/Fatty acids",
          "MS-Dial/Terpenoids",
          "MS-Dial/Fatty acids",
          "MS-Dial/Fatty acids",
          "MS-Dial/Carbohydrates",
          "MS-Dial/Fatty acids",
          "MS-Dial/Amino acids and Peptides",
          "MS-Dial/Fatty acids",
          "MS-Dial/Fatty acids",
          "MS-Dial/Fatty acids",
          "MS-Dial/Fatty acids",
          "MS-Dial/Amino acids and Peptides",
          "MS-Dial/Alkaloids",
          "MS-Dial/Alkaloids",
          "MS-Dial/Shikimates and Phenylpropanoids",
          "MS-Dial/Alkaloids",
          "MS-Dial/Fatty acids",
          "MS-Dial/Fatty acids",
          "MS-Dial/Polyketides",
          "MS-Dial/Fatty acids",
          "MS-Dial/Fatty acids",
          "MS-Dial/Shikimates and Phenylpropanoids",
          "MS-Dial/Shikimates and Phenylpropanoids",
          "MS-Dial/Shikimates and Phenylpropanoids",
          "MS-Dial/Alkaloids",
          "MS-Dial/Terpenoids",
          "MS-Dial/Alkaloids",
          "MS-Dial/Terpenoids",
          "MS-Dial/Shikimates and Phenylpropanoids",
          "MS-Dial/Alkaloids",
          "MS-Dial/Alkaloids",
          "MS-Dial/Alkaloids",
          "MS-Dial/Terpenoids",
          "MS-Dial/Alkaloids",
          "MS-Dial/Alkaloids",
          "MS-Dial",
          "MS-Dial",
          "MS-Dial/Amino acids and Peptides",
          "MS-Dial/Amino acids and Peptides",
          "MS-Dial",
          "MS-Dial/Amino acids and Peptides",
          "MS-Dial/Amino acids and Peptides",
          "MS-Dial",
          "MS-Dial/Amino acids and Peptides",
          "MS-Dial",
          "MS-Dial/Alkaloids",
          "MS-Dial/Terpenoids",
          "MS-Dial/Shikimates and Phenylpropanoids",
          "MS-Dial/Polyketides",
          "MS-Dial/Alkaloids",
          "MS-Dial/Alkaloids",
          "MS-Dial/Polyketides",
          "MS-Dial/Alkaloids",
          "MS-Dial/Alkaloids",
          "MS-Dial",
          "MS-Dial/Amino acids and Peptides",
          "MS-Dial/Alkaloids",
          "MS-Dial/Polyketides",
          "MS-Dial/Polyketides",
          "MS-Dial/Alkaloids",
          "MS-Dial/Shikimates and Phenylpropanoids",
          "MS-Dial/Shikimates and Phenylpropanoids",
          "MS-Dial/Shikimates and Phenylpropanoids",
          "MS-Dial/Shikimates and Phenylpropanoids",
          "MS-Dial/Alkaloids",
          "MS-Dial/Alkaloids",
          "MS-Dial/Alkaloids",
          "MS-Dial/Amino acids and Peptides",
          "MS-Dial/Amino acids and Peptides",
          "MS-Dial/Amino acids and Peptides",
          "MS-Dial/Amino acids and Peptides",
          "MS-Dial/Carbohydrates",
          "MS-Dial/Alkaloids",
          "MS-Dial/Alkaloids",
          "MS-Dial/Alkaloids",
          "MS-Dial",
          "MS-Dial/Alkaloids",
          "MS-Dial/Terpenoids",
          "MS-Dial/Terpenoids",
          "MS-Dial/Polyketides",
          "MS-Dial/Shikimates and Phenylpropanoids",
          "MS-Dial/Shikimates and Phenylpropanoids",
          "",
          "MS-Dial/Polyketides",
          "MS-Dial/Polyketides",
          "MS-Dial/Polyketides",
          "MS-Dial/Terpenoids",
          "MS-Dial/Alkaloids",
          "MS-Dial/Terpenoids",
          "MS-Dial/Terpenoids",
          "MS-Dial/Fatty acids",
          "MS-Dial/Alkaloids",
          "MS-Dial/Alkaloids",
          "MS-Dial/Carbohydrates",
          "MS-Dial/Carbohydrates",
          "MS-Dial/Alkaloids",
          "MS-Dial/Terpenoids",
          "MS-Dial/Alkaloids",
          "MS-Dial/Terpenoids",
          "MS-Dial/Shikimates and Phenylpropanoids",
          "MS-Dial/Amino acids and Peptides",
          "MS-Dial/Shikimates and Phenylpropanoids",
          "MS-Dial/Alkaloids",
          "MS-Dial/Shikimates and Phenylpropanoids",
          "MS-Dial/Terpenoids",
          "MS-Dial/Fatty acids"
         ],
         "values": [
          2,
          121,
          2,
          1,
          1,
          10,
          26,
          1,
          2,
          356,
          7,
          7,
          4,
          1,
          1,
          2,
          87,
          1,
          1,
          211,
          7,
          10,
          84,
          97,
          19,
          1,
          1,
          1,
          1,
          8,
          7,
          6,
          10,
          472,
          3,
          1,
          1,
          4,
          1,
          2,
          1,
          4,
          1,
          146,
          2,
          4,
          12,
          7,
          17,
          1,
          52,
          1,
          1,
          7,
          8,
          13,
          1,
          1,
          13,
          138,
          2,
          1,
          241,
          1,
          65,
          14,
          2,
          1,
          25,
          16,
          8,
          46,
          19,
          230,
          214,
          1,
          1,
          1,
          1,
          1,
          1,
          370,
          2,
          1,
          2,
          1,
          1,
          2,
          2,
          1,
          1,
          10,
          2,
          87,
          1,
          3,
          10,
          64,
          27,
          1,
          146,
          1,
          1,
          1,
          2,
          52,
          1,
          190,
          3,
          114,
          3,
          112,
          1,
          1,
          1,
          81,
          21,
          94,
          1,
          106,
          1,
          2,
          2,
          1,
          1,
          6,
          44,
          1,
          1,
          3,
          1,
          53,
          31,
          1,
          5,
          5,
          53,
          14,
          1,
          96,
          4,
          18,
          3,
          37,
          2,
          789,
          18,
          2,
          578,
          1,
          15,
          1,
          2,
          494,
          49,
          776,
          1,
          1,
          2383,
          456,
          2,
          1,
          542,
          31,
          2,
          1294,
          9,
          2375,
          1,
          1,
          35,
          47,
          2,
          1,
          2,
          2,
          405,
          1083,
          1,
          1,
          1,
          7,
          1,
          10,
          1,
          4,
          164,
          11,
          100,
          1,
          1,
          6,
          2,
          395,
          197,
          1,
          4,
          2,
          3505,
          320,
          1,
          4,
          74,
          51,
          178,
          11638,
          1,
          127,
          1,
          11,
          1,
          144,
          2,
          1,
          1,
          2,
          4,
          2,
          359,
          2,
          3,
          774,
          2,
          1,
          1,
          2,
          55,
          506,
          23
         ],
         "type": "sunburst"
        }
       ],
       "layout": {
        "template": {
         "data": {
          "histogram2dcontour": [
           {
            "type": "histogram2dcontour",
            "colorbar": {
             "outlinewidth": 0,
             "ticks": ""
            },
            "colorscale": [
             [
              0.0,
              "#0d0887"
             ],
             [
              0.1111111111111111,
              "#46039f"
             ],
             [
              0.2222222222222222,
              "#7201a8"
             ],
             [
              0.3333333333333333,
              "#9c179e"
             ],
             [
              0.4444444444444444,
              "#bd3786"
             ],
             [
              0.5555555555555556,
              "#d8576b"
             ],
             [
              0.6666666666666666,
              "#ed7953"
             ],
             [
              0.7777777777777778,
              "#fb9f3a"
             ],
             [
              0.8888888888888888,
              "#fdca26"
             ],
             [
              1.0,
              "#f0f921"
             ]
            ]
           }
          ],
          "choropleth": [
           {
            "type": "choropleth",
            "colorbar": {
             "outlinewidth": 0,
             "ticks": ""
            }
           }
          ],
          "histogram2d": [
           {
            "type": "histogram2d",
            "colorbar": {
             "outlinewidth": 0,
             "ticks": ""
            },
            "colorscale": [
             [
              0.0,
              "#0d0887"
             ],
             [
              0.1111111111111111,
              "#46039f"
             ],
             [
              0.2222222222222222,
              "#7201a8"
             ],
             [
              0.3333333333333333,
              "#9c179e"
             ],
             [
              0.4444444444444444,
              "#bd3786"
             ],
             [
              0.5555555555555556,
              "#d8576b"
             ],
             [
              0.6666666666666666,
              "#ed7953"
             ],
             [
              0.7777777777777778,
              "#fb9f3a"
             ],
             [
              0.8888888888888888,
              "#fdca26"
             ],
             [
              1.0,
              "#f0f921"
             ]
            ]
           }
          ],
          "heatmap": [
           {
            "type": "heatmap",
            "colorbar": {
             "outlinewidth": 0,
             "ticks": ""
            },
            "colorscale": [
             [
              0.0,
              "#0d0887"
             ],
             [
              0.1111111111111111,
              "#46039f"
             ],
             [
              0.2222222222222222,
              "#7201a8"
             ],
             [
              0.3333333333333333,
              "#9c179e"
             ],
             [
              0.4444444444444444,
              "#bd3786"
             ],
             [
              0.5555555555555556,
              "#d8576b"
             ],
             [
              0.6666666666666666,
              "#ed7953"
             ],
             [
              0.7777777777777778,
              "#fb9f3a"
             ],
             [
              0.8888888888888888,
              "#fdca26"
             ],
             [
              1.0,
              "#f0f921"
             ]
            ]
           }
          ],
          "heatmapgl": [
           {
            "type": "heatmapgl",
            "colorbar": {
             "outlinewidth": 0,
             "ticks": ""
            },
            "colorscale": [
             [
              0.0,
              "#0d0887"
             ],
             [
              0.1111111111111111,
              "#46039f"
             ],
             [
              0.2222222222222222,
              "#7201a8"
             ],
             [
              0.3333333333333333,
              "#9c179e"
             ],
             [
              0.4444444444444444,
              "#bd3786"
             ],
             [
              0.5555555555555556,
              "#d8576b"
             ],
             [
              0.6666666666666666,
              "#ed7953"
             ],
             [
              0.7777777777777778,
              "#fb9f3a"
             ],
             [
              0.8888888888888888,
              "#fdca26"
             ],
             [
              1.0,
              "#f0f921"
             ]
            ]
           }
          ],
          "contourcarpet": [
           {
            "type": "contourcarpet",
            "colorbar": {
             "outlinewidth": 0,
             "ticks": ""
            }
           }
          ],
          "contour": [
           {
            "type": "contour",
            "colorbar": {
             "outlinewidth": 0,
             "ticks": ""
            },
            "colorscale": [
             [
              0.0,
              "#0d0887"
             ],
             [
              0.1111111111111111,
              "#46039f"
             ],
             [
              0.2222222222222222,
              "#7201a8"
             ],
             [
              0.3333333333333333,
              "#9c179e"
             ],
             [
              0.4444444444444444,
              "#bd3786"
             ],
             [
              0.5555555555555556,
              "#d8576b"
             ],
             [
              0.6666666666666666,
              "#ed7953"
             ],
             [
              0.7777777777777778,
              "#fb9f3a"
             ],
             [
              0.8888888888888888,
              "#fdca26"
             ],
             [
              1.0,
              "#f0f921"
             ]
            ]
           }
          ],
          "surface": [
           {
            "type": "surface",
            "colorbar": {
             "outlinewidth": 0,
             "ticks": ""
            },
            "colorscale": [
             [
              0.0,
              "#0d0887"
             ],
             [
              0.1111111111111111,
              "#46039f"
             ],
             [
              0.2222222222222222,
              "#7201a8"
             ],
             [
              0.3333333333333333,
              "#9c179e"
             ],
             [
              0.4444444444444444,
              "#bd3786"
             ],
             [
              0.5555555555555556,
              "#d8576b"
             ],
             [
              0.6666666666666666,
              "#ed7953"
             ],
             [
              0.7777777777777778,
              "#fb9f3a"
             ],
             [
              0.8888888888888888,
              "#fdca26"
             ],
             [
              1.0,
              "#f0f921"
             ]
            ]
           }
          ],
          "mesh3d": [
           {
            "type": "mesh3d",
            "colorbar": {
             "outlinewidth": 0,
             "ticks": ""
            }
           }
          ],
          "scatter": [
           {
            "marker": {
             "line": {
              "color": "#283442"
             }
            },
            "type": "scatter"
           }
          ],
          "parcoords": [
           {
            "type": "parcoords",
            "line": {
             "colorbar": {
              "outlinewidth": 0,
              "ticks": ""
             }
            }
           }
          ],
          "scatterpolargl": [
           {
            "type": "scatterpolargl",
            "marker": {
             "colorbar": {
              "outlinewidth": 0,
              "ticks": ""
             }
            }
           }
          ],
          "bar": [
           {
            "error_x": {
             "color": "#f2f5fa"
            },
            "error_y": {
             "color": "#f2f5fa"
            },
            "marker": {
             "line": {
              "color": "rgb(17,17,17)",
              "width": 0.5
             },
             "pattern": {
              "fillmode": "overlay",
              "size": 10,
              "solidity": 0.2
             }
            },
            "type": "bar"
           }
          ],
          "scattergeo": [
           {
            "type": "scattergeo",
            "marker": {
             "colorbar": {
              "outlinewidth": 0,
              "ticks": ""
             }
            }
           }
          ],
          "scatterpolar": [
           {
            "type": "scatterpolar",
            "marker": {
             "colorbar": {
              "outlinewidth": 0,
              "ticks": ""
             }
            }
           }
          ],
          "histogram": [
           {
            "marker": {
             "pattern": {
              "fillmode": "overlay",
              "size": 10,
              "solidity": 0.2
             }
            },
            "type": "histogram"
           }
          ],
          "scattergl": [
           {
            "marker": {
             "line": {
              "color": "#283442"
             }
            },
            "type": "scattergl"
           }
          ],
          "scatter3d": [
           {
            "type": "scatter3d",
            "line": {
             "colorbar": {
              "outlinewidth": 0,
              "ticks": ""
             }
            },
            "marker": {
             "colorbar": {
              "outlinewidth": 0,
              "ticks": ""
             }
            }
           }
          ],
          "scattermapbox": [
           {
            "type": "scattermapbox",
            "marker": {
             "colorbar": {
              "outlinewidth": 0,
              "ticks": ""
             }
            }
           }
          ],
          "scatterternary": [
           {
            "type": "scatterternary",
            "marker": {
             "colorbar": {
              "outlinewidth": 0,
              "ticks": ""
             }
            }
           }
          ],
          "scattercarpet": [
           {
            "type": "scattercarpet",
            "marker": {
             "colorbar": {
              "outlinewidth": 0,
              "ticks": ""
             }
            }
           }
          ],
          "carpet": [
           {
            "aaxis": {
             "endlinecolor": "#A2B1C6",
             "gridcolor": "#506784",
             "linecolor": "#506784",
             "minorgridcolor": "#506784",
             "startlinecolor": "#A2B1C6"
            },
            "baxis": {
             "endlinecolor": "#A2B1C6",
             "gridcolor": "#506784",
             "linecolor": "#506784",
             "minorgridcolor": "#506784",
             "startlinecolor": "#A2B1C6"
            },
            "type": "carpet"
           }
          ],
          "table": [
           {
            "cells": {
             "fill": {
              "color": "#506784"
             },
             "line": {
              "color": "rgb(17,17,17)"
             }
            },
            "header": {
             "fill": {
              "color": "#2a3f5f"
             },
             "line": {
              "color": "rgb(17,17,17)"
             }
            },
            "type": "table"
           }
          ],
          "barpolar": [
           {
            "marker": {
             "line": {
              "color": "rgb(17,17,17)",
              "width": 0.5
             },
             "pattern": {
              "fillmode": "overlay",
              "size": 10,
              "solidity": 0.2
             }
            },
            "type": "barpolar"
           }
          ],
          "pie": [
           {
            "automargin": true,
            "type": "pie"
           }
          ]
         },
         "layout": {
          "autotypenumbers": "strict",
          "colorway": [
           "#636efa",
           "#EF553B",
           "#00cc96",
           "#ab63fa",
           "#FFA15A",
           "#19d3f3",
           "#FF6692",
           "#B6E880",
           "#FF97FF",
           "#FECB52"
          ],
          "font": {
           "color": "#f2f5fa"
          },
          "hovermode": "closest",
          "hoverlabel": {
           "align": "left"
          },
          "paper_bgcolor": "rgb(17,17,17)",
          "plot_bgcolor": "rgb(17,17,17)",
          "polar": {
           "bgcolor": "rgb(17,17,17)",
           "angularaxis": {
            "gridcolor": "#506784",
            "linecolor": "#506784",
            "ticks": ""
           },
           "radialaxis": {
            "gridcolor": "#506784",
            "linecolor": "#506784",
            "ticks": ""
           }
          },
          "ternary": {
           "bgcolor": "rgb(17,17,17)",
           "aaxis": {
            "gridcolor": "#506784",
            "linecolor": "#506784",
            "ticks": ""
           },
           "baxis": {
            "gridcolor": "#506784",
            "linecolor": "#506784",
            "ticks": ""
           },
           "caxis": {
            "gridcolor": "#506784",
            "linecolor": "#506784",
            "ticks": ""
           }
          },
          "coloraxis": {
           "colorbar": {
            "outlinewidth": 0,
            "ticks": ""
           }
          },
          "colorscale": {
           "sequential": [
            [
             0.0,
             "#0d0887"
            ],
            [
             0.1111111111111111,
             "#46039f"
            ],
            [
             0.2222222222222222,
             "#7201a8"
            ],
            [
             0.3333333333333333,
             "#9c179e"
            ],
            [
             0.4444444444444444,
             "#bd3786"
            ],
            [
             0.5555555555555556,
             "#d8576b"
            ],
            [
             0.6666666666666666,
             "#ed7953"
            ],
            [
             0.7777777777777778,
             "#fb9f3a"
            ],
            [
             0.8888888888888888,
             "#fdca26"
            ],
            [
             1.0,
             "#f0f921"
            ]
           ],
           "sequentialminus": [
            [
             0.0,
             "#0d0887"
            ],
            [
             0.1111111111111111,
             "#46039f"
            ],
            [
             0.2222222222222222,
             "#7201a8"
            ],
            [
             0.3333333333333333,
             "#9c179e"
            ],
            [
             0.4444444444444444,
             "#bd3786"
            ],
            [
             0.5555555555555556,
             "#d8576b"
            ],
            [
             0.6666666666666666,
             "#ed7953"
            ],
            [
             0.7777777777777778,
             "#fb9f3a"
            ],
            [
             0.8888888888888888,
             "#fdca26"
            ],
            [
             1.0,
             "#f0f921"
            ]
           ],
           "diverging": [
            [
             0,
             "#8e0152"
            ],
            [
             0.1,
             "#c51b7d"
            ],
            [
             0.2,
             "#de77ae"
            ],
            [
             0.3,
             "#f1b6da"
            ],
            [
             0.4,
             "#fde0ef"
            ],
            [
             0.5,
             "#f7f7f7"
            ],
            [
             0.6,
             "#e6f5d0"
            ],
            [
             0.7,
             "#b8e186"
            ],
            [
             0.8,
             "#7fbc41"
            ],
            [
             0.9,
             "#4d9221"
            ],
            [
             1,
             "#276419"
            ]
           ]
          },
          "xaxis": {
           "gridcolor": "#283442",
           "linecolor": "#506784",
           "ticks": "",
           "title": {
            "standoff": 15
           },
           "zerolinecolor": "#283442",
           "automargin": true,
           "zerolinewidth": 2
          },
          "yaxis": {
           "gridcolor": "#283442",
           "linecolor": "#506784",
           "ticks": "",
           "title": {
            "standoff": 15
           },
           "zerolinecolor": "#283442",
           "automargin": true,
           "zerolinewidth": 2
          },
          "scene": {
           "xaxis": {
            "backgroundcolor": "rgb(17,17,17)",
            "gridcolor": "#506784",
            "linecolor": "#506784",
            "showbackground": true,
            "ticks": "",
            "zerolinecolor": "#C8D4E3",
            "gridwidth": 2
           },
           "yaxis": {
            "backgroundcolor": "rgb(17,17,17)",
            "gridcolor": "#506784",
            "linecolor": "#506784",
            "showbackground": true,
            "ticks": "",
            "zerolinecolor": "#C8D4E3",
            "gridwidth": 2
           },
           "zaxis": {
            "backgroundcolor": "rgb(17,17,17)",
            "gridcolor": "#506784",
            "linecolor": "#506784",
            "showbackground": true,
            "ticks": "",
            "zerolinecolor": "#C8D4E3",
            "gridwidth": 2
           }
          },
          "shapedefaults": {
           "line": {
            "color": "#f2f5fa"
           }
          },
          "annotationdefaults": {
           "arrowcolor": "#f2f5fa",
           "arrowhead": 0,
           "arrowwidth": 1
          },
          "geo": {
           "bgcolor": "rgb(17,17,17)",
           "landcolor": "rgb(17,17,17)",
           "subunitcolor": "#506784",
           "showland": true,
           "showlakes": true,
           "lakecolor": "rgb(17,17,17)"
          },
          "title": {
           "x": 0.05
          },
          "updatemenudefaults": {
           "bgcolor": "#506784",
           "borderwidth": 0
          },
          "sliderdefaults": {
           "bgcolor": "#C8D4E3",
           "borderwidth": 1,
           "bordercolor": "rgb(17,17,17)",
           "tickwidth": 0
          },
          "mapbox": {
           "style": "dark"
          }
         }
        },
        "legend": {
         "tracegroupgap": 0
        },
        "margin": {
         "t": 60
        },
        "height": 750,
        "width": 750
       },
       "config": {
        "plotlyServerURL": "https://plot.ly"
       }
      },
      "text/html": "<div>                            <div id=\"f5ebb049-4595-40b7-a3cc-a10608d8aea0\" class=\"plotly-graph-div\" style=\"height:750px; width:750px;\"></div>            <script type=\"text/javascript\">                require([\"plotly\"], function(Plotly) {                    window.PLOTLYENV=window.PLOTLYENV || {};                                    if (document.getElementById(\"f5ebb049-4595-40b7-a3cc-a10608d8aea0\")) {                    Plotly.newPlot(                        \"f5ebb049-4595-40b7-a3cc-a10608d8aea0\",                        [{\"branchvalues\":\"total\",\"customdata\":[[\"Polyketides\"],[\"Terpenoids\"],[\"Polyketides\"],[\"Polyketides\"],[\"Terpenoids\"],[\"Polyketides\"],[\"Terpenoids\"],[\"Shikimates and Phenylpropanoids\"],[\"Polyketides\"],[\"Terpenoids\"],[\"Amino acids and Peptides\"],[\"Shikimates and Phenylpropanoids\"],[\"Polyketides\"],[\"Polyketides\"],[\"Polyketides\"],[\"Alkaloids\"],[\"Polyketides\"],[\"Polyketides\"],[\"Amino acids and Peptides\"],[\"Shikimates and Phenylpropanoids\"],[\"Shikimates and Phenylpropanoids\"],[\"Amino acids and Peptides\"],[\"Polyketides\"],[\"Alkaloids\"],[\"Alkaloids\"],[\"Alkaloids\"],[\"Shikimates and Phenylpropanoids\"],[\"Alkaloids\"],[\"Amino acids and Peptides\"],[\"Alkaloids\"],[\"Terpenoids\"],[\"Alkaloids\"],[\"Amino acids and Peptides\"],[\"Amino acids and Peptides\"],[\"Alkaloids\"],[\"Alkaloids\"],[\"Terpenoids\"],[\"Terpenoids\"],[\"Amino acids and Peptides\"],[\"Alkaloids\"],[\"Alkaloids\"],[\"Alkaloids\"],[\"Carbohydrates\"],[\"Carbohydrates\"],[\"Alkaloids\"],[\"Shikimates and Phenylpropanoids\"],[\"Shikimates and Phenylpropanoids\"],[\"Alkaloids\"],[\"Shikimates and Phenylpropanoids\"],[\"Terpenoids\"],[\"Shikimates and Phenylpropanoids\"],[\"Terpenoids\"],[\"Fatty acids\"],[\"Alkaloids\"],[\"Shikimates and Phenylpropanoids\"],[\"Carbohydrates\"],[\"Terpenoids\"],[\"Amino acids and Peptides\"],[\"Fatty acids\"],[\"Polyketides\"],[\"Polyketides\"],[\"Alkaloids\"],[\"Alkaloids\"],[\"Amino acids and Peptides\"],[\"Amino acids and Peptides\"],[\"Amino acids and Peptides\"],[\"Shikimates and Phenylpropanoids\"],[\"Amino acids and Peptides\"],[\"Shikimates and Phenylpropanoids\"],[\"Amino acids and Peptides\"],[\"Shikimates and Phenylpropanoids\"],[\"Polyketides\"],[\"Polyketides\"],[\"Shikimates and Phenylpropanoids\"],[\"Polyketides\"],[\"Alkaloids\"],[\"Shikimates and Phenylpropanoids\"],[\"Polyketides\"],[\"Shikimates and Phenylpropanoids\"],[\"Polyketides\"],[\"Polyketides\"],[\"Shikimates and Phenylpropanoids\"],[\"Polyketides\"],[\"Polyketides\"],[\"Shikimates and Phenylpropanoids\"],[\"Shikimates and Phenylpropanoids\"],[\"Amino acids and Peptides\"],[\"Polyketides\"],[\"Shikimates and Phenylpropanoids\"],[\"Shikimates and Phenylpropanoids\"],[\"Terpenoids\"],[\"Amino acids and Peptides\"],[\"Shikimates and Phenylpropanoids\"],[\"Polyketides\"],[\"Shikimates and Phenylpropanoids\"],[\"Shikimates and Phenylpropanoids\"],[\"Amino acids and Peptides\"],[\"Carbohydrates\"],[\"Carbohydrates\"],[\"Carbohydrates\"],[\"Alkaloids\"],[\"Alkaloids\"],[\"Amino acids and Peptides\"],[\"Polyketides\"],[\"Alkaloids\"],[\"Terpenoids\"],[\"Terpenoids\"],[\"Polyketides\"],[\"Polyketides\"],[\"Terpenoids\"],[\"Terpenoids\"],[\"Polyketides\"],[\"Amino acids and Peptides\"],[\"Polyketides\"],[\"Amino acids and Peptides\"],[\"Shikimates and Phenylpropanoids\"],[\"Fatty acids\"],[\"Fatty acids\"],[\"Fatty acids\"],[\"Fatty acids\"],[\"Alkaloids\"],[\"Fatty acids\"],[\"Fatty acids\"],[\"Fatty acids\"],[\"Terpenoids\"],[\"Fatty acids\"],[\"Fatty acids\"],[\"Carbohydrates\"],[\"Fatty acids\"],[\"Amino acids and Peptides\"],[\"Fatty acids\"],[\"Fatty acids\"],[\"Fatty acids\"],[\"Fatty acids\"],[\"Amino acids and Peptides\"],[\"Alkaloids\"],[\"Alkaloids\"],[\"Shikimates and Phenylpropanoids\"],[\"Alkaloids\"],[\"Fatty acids\"],[\"Fatty acids\"],[\"Polyketides\"],[\"Fatty acids\"],[\"Fatty acids\"],[\"Shikimates and Phenylpropanoids\"],[\"Shikimates and Phenylpropanoids\"],[\"Shikimates and Phenylpropanoids\"],[\"Alkaloids\"],[\"Terpenoids\"],[\"Alkaloids\"],[\"Terpenoids\"],[\"Shikimates and Phenylpropanoids\"],[\"Alkaloids\"],[\"Alkaloids\"],[\"Alkaloids\"],[\"Terpenoids\"],[\"Alkaloids\"],[\"Alkaloids\"],[\"Alkaloids\"],[\"Carbohydrates\"],[\"Amino acids and Peptides\"],[\"Amino acids and Peptides\"],[\"Fatty acids\"],[\"Amino acids and Peptides\"],[\"Amino acids and Peptides\"],[\"Polyketides\"],[\"Amino acids and Peptides\"],[\"Shikimates and Phenylpropanoids\"],[\"Alkaloids\"],[\"Terpenoids\"],[\"Shikimates and Phenylpropanoids\"],[\"Polyketides\"],[\"Alkaloids\"],[\"Alkaloids\"],[\"Polyketides\"],[\"Alkaloids\"],[\"Alkaloids\"],[\"Amino acids and Peptides\"],[\"Amino acids and Peptides\"],[\"Alkaloids\"],[\"Polyketides\"],[\"Polyketides\"],[\"Alkaloids\"],[\"Shikimates and Phenylpropanoids\"],[\"Shikimates and Phenylpropanoids\"],[\"Shikimates and Phenylpropanoids\"],[\"Shikimates and Phenylpropanoids\"],[\"Alkaloids\"],[\"Alkaloids\"],[\"Alkaloids\"],[\"Amino acids and Peptides\"],[\"Amino acids and Peptides\"],[\"Amino acids and Peptides\"],[\"Amino acids and Peptides\"],[\"Carbohydrates\"],[\"Alkaloids\"],[\"Alkaloids\"],[\"Alkaloids\"],[\"Terpenoids\"],[\"Alkaloids\"],[\"Terpenoids\"],[\"Terpenoids\"],[\"Polyketides\"],[\"Shikimates and Phenylpropanoids\"],[\"Shikimates and Phenylpropanoids\"],[\"(?)\"],[\"Polyketides\"],[\"Polyketides\"],[\"Polyketides\"],[\"Terpenoids\"],[\"Alkaloids\"],[\"Terpenoids\"],[\"Terpenoids\"],[\"Fatty acids\"],[\"Alkaloids\"],[\"Alkaloids\"],[\"Carbohydrates\"],[\"Carbohydrates\"],[\"Alkaloids\"],[\"Terpenoids\"],[\"Alkaloids\"],[\"Terpenoids\"],[\"Shikimates and Phenylpropanoids\"],[\"Amino acids and Peptides\"],[\"Shikimates and Phenylpropanoids\"],[\"Alkaloids\"],[\"Shikimates and Phenylpropanoids\"],[\"Terpenoids\"],[\"Fatty acids\"]],\"domain\":{\"x\":[0.0,1.0],\"y\":[0.0,1.0]},\"hovertemplate\":\"labels=%{label}\\u003cbr\\u003eCount(INCHIKEY)=%{value}\\u003cbr\\u003eparent=%{parent}\\u003cbr\\u003eid=%{id}\\u003cbr\\u003ePathwayNP=%{customdata[0]}\\u003cextra\\u003e\\u003c\\u002fextra\\u003e\",\"ids\":[\"MS-Dial\\u002fPolyketides\\u002fAlkylresorcinols\",\"MS-Dial\\u002fTerpenoids\\u002fMeroterpenoids\",\"MS-Dial\\u002fPolyketides\\u002fMeroterpenoids|Cyclic polyketides\",\"MS-Dial\\u002fPolyketides\\u002fMeroterpenoids|Phloroglucinols\",\"MS-Dial\\u002fTerpenoids\\u002fMeroterpenoids|Phloroglucinols\",\"MS-Dial\\u002fPolyketides\\u002fMeroterpenoids|Sesquiterpenoids\",\"MS-Dial\\u002fTerpenoids\\u002fMeroterpenoids|Sesquiterpenoids\",\"MS-Dial\\u002fShikimates and Phenylpropanoids\\u002fMeroterpenoids\",\"MS-Dial\\u002fPolyketides\\u002fMiscellaneous polyketides\",\"MS-Dial\\u002fTerpenoids\\u002fMonoterpenoids\",\"MS-Dial\\u002fAmino acids and Peptides\\u002fMycosporine derivatives\",\"MS-Dial\\u002fShikimates and Phenylpropanoids\\u002fMycosporine derivatives\",\"MS-Dial\\u002fPolyketides\\u002fNaphthalenes|Diterpenoids\",\"MS-Dial\\u002fPolyketides\\u002fNaphthalenes|Meroterpenoids\",\"MS-Dial\\u002fPolyketides\\u002fNaphthalenes|Polycyclic aromatic polyketides\",\"MS-Dial\\u002fAlkaloids\\u002fMitomycin derivatives\",\"MS-Dial\\u002fPolyketides\\u002fMeroterpenoids\",\"MS-Dial\\u002fPolyketides\\u002fMacrolides|Cyclic polyketides\",\"MS-Dial\\u002fAmino acids and Peptides\\u002fMacrolides|Cyclic polyketides\",\"MS-Dial\\u002fShikimates and Phenylpropanoids\\u002fLigs\",\"MS-Dial\\u002fShikimates and Phenylpropanoids\\u002fLigs|Flavonoids\",\"MS-Dial\\u002fAmino acids and Peptides\\u002fLinear polyketides\",\"MS-Dial\\u002fPolyketides\\u002fLinear polyketides\",\"MS-Dial\\u002fAlkaloids\\u002fLysine alkaloids\",\"MS-Dial\\u002fAlkaloids\\u002fLysine alkaloids|Nicotinic acid alkaloids\",\"MS-Dial\\u002fAlkaloids\\u002fLysine alkaloids|Nicotinic acid alkaloids|Coumarins\",\"MS-Dial\\u002fShikimates and Phenylpropanoids\\u002fLysine alkaloids|Nicotinic acid alkaloids|Coumarins\",\"MS-Dial\\u002fAlkaloids\\u002fLysine alkaloids|Oligopeptides\",\"MS-Dial\\u002fAmino acids and Peptides\\u002fLysine alkaloids|Oligopeptides\",\"MS-Dial\\u002fAlkaloids\\u002fLysine alkaloids|Pseudoalkaloids\",\"MS-Dial\\u002fTerpenoids\\u002fLysine alkaloids|Pseudoalkaloids\",\"MS-Dial\\u002fAlkaloids\\u002fLysine alkaloids|Tyrosine alkaloids\",\"MS-Dial\\u002fAmino acids and Peptides\\u002fMacrolides\",\"MS-Dial\\u002fAmino acids and Peptides\\u002fSmall peptides\",\"MS-Dial\\u002fAlkaloids\\u002fNicotinic acid alkaloids|Histidine alkaloids\",\"MS-Dial\\u002fAlkaloids\\u002fNicotinic acid alkaloids|Peptide alkaloids\",\"MS-Dial\\u002fTerpenoids\\u002fNicotinic acid alkaloids|Pseudoalkaloids\",\"MS-Dial\\u002fTerpenoids\\u002fNicotinic acid alkaloids|Sesquiterpenoids|Pseudoalkaloids\",\"MS-Dial\\u002fAmino acids and Peptides\\u002fPseudoalkaloids\",\"MS-Dial\\u002fAlkaloids\\u002fPseudoalkaloids|Diterpenoids\",\"MS-Dial\\u002fAlkaloids\\u002fPseudoalkaloids|Fatty amides\",\"MS-Dial\\u002fAlkaloids\\u002fPseudoalkaloids|Histidine alkaloids\",\"MS-Dial\\u002fCarbohydrates\\u002fPseudoalkaloids|Nucleosides\",\"MS-Dial\\u002fCarbohydrates\\u002fSaccharides\",\"MS-Dial\\u002fAlkaloids\\u002fTetramate alkaloids|Peptide alkaloids\",\"MS-Dial\\u002fShikimates and Phenylpropanoids\\u002fSaccharides|Flavonoids\",\"MS-Dial\\u002fShikimates and Phenylpropanoids\\u002fTerphenyls\",\"MS-Dial\\u002fAlkaloids\\u002fSerine alkaloids\",\"MS-Dial\\u002fShikimates and Phenylpropanoids\\u002fStyrylpyrones\",\"MS-Dial\\u002fTerpenoids\\u002fSesquiterpenoids|Monoterpenoids\",\"MS-Dial\\u002fShikimates and Phenylpropanoids\\u002fStilbenoids\",\"MS-Dial\\u002fTerpenoids\\u002fSesterterpenoids|Monoterpenoids|Diterpenoids\",\"MS-Dial\\u002fFatty acids\\u002fSphingolipids|Fatty Acids and Conjugates\",\"MS-Dial\\u002fAlkaloids\\u002fProline alkaloids\",\"MS-Dial\\u002fShikimates and Phenylpropanoids\\u002fIsoflavonoids|Flavonoids\",\"MS-Dial\\u002fCarbohydrates\\u002fPolyols\",\"MS-Dial\\u002fTerpenoids\\u002fPhloroglucinols|Sesquiterpenoids\",\"MS-Dial\\u002fAmino acids and Peptides\\u002fNicotinic acid alkaloids|Tetramate alkaloids|Peptide alkaloids\",\"MS-Dial\\u002fFatty acids\\u002fOctadecanoids\",\"MS-Dial\\u002fPolyketides\\u002fOligopeptides\",\"MS-Dial\\u002fPolyketides\\u002fOligopeptides|Linear polyketides\",\"MS-Dial\\u002fAlkaloids\\u002fOligopeptides|Tetramate alkaloids|Peptide alkaloids\",\"MS-Dial\\u002fAlkaloids\\u002fOrnithine alkaloids\",\"MS-Dial\\u002fAmino acids and Peptides\\u002fOrnithine alkaloids|Small peptides\",\"MS-Dial\\u002fAmino acids and Peptides\\u002fPeptide alkaloids\",\"MS-Dial\\u002fAmino acids and Peptides\\u002fPeptide alkaloids|Small peptides\",\"MS-Dial\\u002fShikimates and Phenylpropanoids\\u002fPhenolic acids (C6-C1)|Flavonoids\",\"MS-Dial\\u002fAmino acids and Peptides\\u002fPhenolic acids (C6-C1)|Small peptides\",\"MS-Dial\\u002fShikimates and Phenylpropanoids\\u002fPhenylethanoids (C6-C2)\",\"MS-Dial\\u002fAmino acids and Peptides\\u002fPhenylpropanoids (C6-C3)\",\"MS-Dial\\u002fShikimates and Phenylpropanoids\\u002fPhenylpropanoids (C6-C3)|Ligs\",\"MS-Dial\\u002fPolyketides\\u002fPhloroglucinols\",\"MS-Dial\\u002fPolyketides\\u002fPolyethers\",\"MS-Dial\\u002fShikimates and Phenylpropanoids\\u002fIsoflavonoids\",\"MS-Dial\\u002fPolyketides\\u002fMacrolides\",\"MS-Dial\\u002fAlkaloids\\u002fHistidine alkaloids|Small peptides\",\"MS-Dial\\u002fShikimates and Phenylpropanoids\\u002fChromanes|Flavonoids\",\"MS-Dial\\u002fPolyketides\\u002fChromanes|Isoflavonoids\",\"MS-Dial\\u002fShikimates and Phenylpropanoids\\u002fChromanes|Isoflavonoids\",\"MS-Dial\\u002fPolyketides\\u002fChromanes|Polycyclic aromatic polyketides\",\"MS-Dial\\u002fPolyketides\\u002fChromanes|Xanthones\",\"MS-Dial\\u002fShikimates and Phenylpropanoids\\u002fCoumarins\",\"MS-Dial\\u002fPolyketides\\u002fCoumarins|Aromatic polyketides\",\"MS-Dial\\u002fPolyketides\\u002fChromanes|Flavonoids\",\"MS-Dial\\u002fShikimates and Phenylpropanoids\\u002fCoumarins|Aromatic polyketides\",\"MS-Dial\\u002fShikimates and Phenylpropanoids\\u002fCoumarins|Ligs\",\"MS-Dial\\u002fAmino acids and Peptides\\u002fHistidine alkaloids|Small peptides\",\"MS-Dial\\u002fPolyketides\\u002fCoumarins|Polycyclic aromatic polyketides\",\"MS-Dial\\u002fShikimates and Phenylpropanoids\\u002fCoumarins|Polycyclic aromatic polyketides\",\"MS-Dial\\u002fShikimates and Phenylpropanoids\\u002fCoumarins|Sesquiterpenoids\",\"MS-Dial\\u002fTerpenoids\\u002fCoumarins|Sesquiterpenoids\",\"MS-Dial\\u002fAmino acids and Peptides\\u002fCyclic polyketides\",\"MS-Dial\\u002fShikimates and Phenylpropanoids\\u002fCoumarins|Flavonoids\",\"MS-Dial\\u002fPolyketides\\u002fCyclic polyketides\",\"MS-Dial\\u002fShikimates and Phenylpropanoids\\u002fChromanes|Coumarins\",\"MS-Dial\\u002fShikimates and Phenylpropanoids\\u002fChromanes\",\"MS-Dial\\u002fAmino acids and Peptides\\u002fAmino acid glycosides\",\"MS-Dial\\u002fCarbohydrates\\u002fAminosugars and aminoglycosides\",\"MS-Dial\\u002fCarbohydrates\\u002fAminosugars and aminoglycosides|Polyols\",\"MS-Dial\\u002fCarbohydrates\\u002fAminosugars and aminoglycosides|Saccharides\",\"MS-Dial\\u002fAlkaloids\\u002fAnthranilic acid alkaloids\",\"MS-Dial\\u002fAlkaloids\\u002fAnthranilic acid alkaloids|Histidine alkaloids|Peptide alkaloids\",\"MS-Dial\\u002fAmino acids and Peptides\\u002fAnthranilic acid alkaloids|Histidine alkaloids|Peptide alkaloids\",\"MS-Dial\\u002fPolyketides\\u002fChromanes|Coumarins\",\"MS-Dial\\u002fAlkaloids\\u002fAnthranilic acid alkaloids|Peptide alkaloids\",\"MS-Dial\\u002fTerpenoids\\u002fApocarotenoids\",\"MS-Dial\\u002fTerpenoids\\u002fApocarotenoids|Diterpenoids\",\"MS-Dial\\u002fPolyketides\\u002fAromatic polyketides\",\"MS-Dial\\u002fPolyketides\\u002fAromatic polyketides|Diphenyl ethers (DPEs)\",\"MS-Dial\\u002fTerpenoids\\u002fCarotenoids (C40)\",\"MS-Dial\\u002fTerpenoids\\u002fCarotenoids (C50)\",\"MS-Dial\\u002fPolyketides\\u002fChromanes\",\"MS-Dial\\u002fAmino acids and Peptides\\u002fAnthranilic acid alkaloids|Peptide alkaloids\",\"MS-Dial\\u002fPolyketides\\u002fCyclic polyketides|Linear polyketides\",\"MS-Dial\\u002fAmino acids and Peptides\\u002fSphingolipids\",\"MS-Dial\\u002fShikimates and Phenylpropanoids\\u002fDiarylheptanoids\",\"MS-Dial\\u002fFatty acids\\u002fFatty acyl glycosides\",\"MS-Dial\\u002fFatty acids\\u002fFatty amides\",\"MS-Dial\\u002fFatty acids\\u002fEicosanoids|Octadecanoids\",\"MS-Dial\\u002fFatty acids\\u002fFatty Acids and Conjugates\",\"MS-Dial\\u002fAlkaloids\\u002fFatty amides\",\"MS-Dial\\u002fFatty acids\\u002fFatty Acids and Conjugates|Fatty esters\",\"MS-Dial\\u002fFatty acids\\u002fDocosanoids|Fatty Acids and Conjugates\",\"MS-Dial\\u002fFatty acids\\u002fFatty Acids and Conjugates|Monoterpenoids\",\"MS-Dial\\u002fTerpenoids\\u002fFatty Acids and Conjugates|Monoterpenoids\",\"MS-Dial\\u002fFatty acids\\u002fFatty Acids and Conjugates|Octadecanoids\",\"MS-Dial\\u002fFatty acids\\u002fFatty acyls\",\"MS-Dial\\u002fCarbohydrates\\u002fFatty Acids and Conjugates|Saccharides\",\"MS-Dial\\u002fFatty acids\\u002fFatty Acids and Conjugates|Saccharides\",\"MS-Dial\\u002fAmino acids and Peptides\\u002fFatty Acids and Conjugates|Small peptides\",\"MS-Dial\\u002fFatty acids\\u002fFatty acyls|Fatty amides\",\"MS-Dial\\u002fFatty acids\\u002fFatty esters\",\"MS-Dial\\u002fFatty acids\\u002fEicosanoids\",\"MS-Dial\\u002fFatty acids\\u002fGlycerolipids|Fatty esters\",\"MS-Dial\\u002fAmino acids and Peptides\\u002fHistidine alkaloids|Peptide alkaloids\",\"MS-Dial\\u002fAlkaloids\\u002fHistidine alkaloids|Peptide alkaloids\",\"MS-Dial\\u002fAlkaloids\\u002fHistidine alkaloids\",\"MS-Dial\\u002fShikimates and Phenylpropanoids\\u002fDiazotetronic acids and derivatives\",\"MS-Dial\\u002fAlkaloids\\u002fGuanidine alkaloids\",\"MS-Dial\\u002fFatty acids\\u002fGlycerophospholipids\",\"MS-Dial\\u002fFatty acids\\u002fDocosanoids\",\"MS-Dial\\u002fPolyketides\\u002fDiphenyl ethers (DPEs)\",\"MS-Dial\\u002fFatty acids\\u002fFatty Acids and Conjugates|Small peptides\",\"MS-Dial\\u002fFatty acids\\u002fGlycerolipids\",\"MS-Dial\\u002fShikimates and Phenylpropanoids\\u002fFluorenes\",\"MS-Dial\\u002fShikimates and Phenylpropanoids\\u002fFlavonoids\",\"MS-Dial\\u002fShikimates and Phenylpropanoids\\u002fDiphenyl ethers (DPEs)\",\"MS-Dial\\u002fAlkaloids\\u002fFlavonoids\",\"MS-Dial\\u002fTerpenoids\\u002fDiterpenoids\",\"MS-Dial\\u002fAlkaloids\\u002fTryptophan alkaloids|Flavonoids\",\"MS-Dial\\u002fTerpenoids\\u002fTryptophan alkaloids\",\"MS-Dial\\u002fShikimates and Phenylpropanoids\\u002fTryptophan alkaloids|Flavonoids\",\"MS-Dial\\u002fAlkaloids\\u002fTryptophan alkaloids|Histidine alkaloids\",\"MS-Dial\\u002fAlkaloids\\u002fTryptophan alkaloids\",\"MS-Dial\\u002fAlkaloids\\u002fTryptophan alkaloids|Anthranilic acid alkaloids\",\"MS-Dial\\u002fTerpenoids\\u002fTriterpenoids\",\"MS-Dial\\u002fAlkaloids\\u002fTryptophan alkaloids|Tyrosine alkaloids\",\"MS-Dial\\u002fAlkaloids\\u002fTryptophan alkaloids|Nicotinic acid alkaloids|Anthranilic acid alkaloids\",\"MS-Dial\\u002fAlkaloids\",\"MS-Dial\\u002fCarbohydrates\",\"MS-Dial\\u002fAmino acids and Peptides\\u002f\\u03b3-lactam-\\u03b2-lactones\",\"MS-Dial\\u002fAmino acids and Peptides\\u002f\\u03b2-lactams|Small peptides\",\"MS-Dial\\u002fFatty acids\",\"MS-Dial\\u002fAmino acids and Peptides\\u002f\\u03b2-lactams\",\"MS-Dial\\u002fAmino acids and Peptides\\u002f\\u00ce\\u00b2-lactams|Small peptides\",\"MS-Dial\\u002fPolyketides\",\"MS-Dial\\u002fAmino acids and Peptides\\u002f\\u00ce\\u00b2-lactams\",\"MS-Dial\\u002fShikimates and Phenylpropanoids\",\"MS-Dial\\u002fAlkaloids\\u002fTryptophan alkaloids|Nicotinic acid alkaloids\",\"MS-Dial\\u002fTerpenoids\\u002fXanthones|Meroterpenoids\",\"MS-Dial\\u002fShikimates and Phenylpropanoids\\u002fXanthones\",\"MS-Dial\\u002fPolyketides\\u002fXanthones\",\"MS-Dial\\u002fAlkaloids\\u002fTyrosine alkaloids|Pseudoalkaloids\",\"MS-Dial\\u002fAlkaloids\\u002fTyrosine alkaloids|Nicotinic acid alkaloids\",\"MS-Dial\\u002fPolyketides\\u002fTyrosine alkaloids|Cyclic polyketides\",\"MS-Dial\\u002fAlkaloids\\u002fTyrosine alkaloids|Cyclic polyketides\",\"MS-Dial\\u002fAlkaloids\\u002fTyrosine alkaloids\",\"MS-Dial\\u002fAmino acids and Peptides\",\"MS-Dial\\u002fAmino acids and Peptides\\u002fTryptophan alkaloids|Small peptides\",\"MS-Dial\\u002fAlkaloids\\u002fTryptophan alkaloids|Small peptides\",\"MS-Dial\\u002fPolyketides\\u002fXanthones|Meroterpenoids\",\"MS-Dial\\u002fPolyketides\\u002fXanthones|Polycyclic aromatic polyketides\",\"MS-Dial\\u002fAlkaloids\\u002fNicotinic acid alkaloids|Ornithine alkaloids\",\"MS-Dial\\u002fShikimates and Phenylpropanoids\\u002fPhethrenoids\",\"MS-Dial\\u002fShikimates and Phenylpropanoids\\u002fPhenolic acids (C6-C1)|Small peptides\",\"MS-Dial\\u002fShikimates and Phenylpropanoids\\u002fPhenolic acids (C6-C1)|Phenylpropanoids (C6-C3)\",\"MS-Dial\\u002fShikimates and Phenylpropanoids\\u002fPhenolic acids (C6-C1)\",\"MS-Dial\\u002fAlkaloids\\u002fPeptide alkaloids|Small peptides\",\"MS-Dial\\u002fAlkaloids\\u002fPeptide alkaloids\",\"MS-Dial\\u002fAlkaloids\\u002fOrnithine alkaloids|Small peptides\",\"MS-Dial\\u002fAmino acids and Peptides\\u002fOligopeptides|Tetramate alkaloids|Peptide alkaloids\",\"MS-Dial\\u002fAmino acids and Peptides\\u002fOligopeptides|Small peptides\",\"MS-Dial\\u002fAmino acids and Peptides\\u002fOligopeptides|Linear polyketides\",\"MS-Dial\\u002fAmino acids and Peptides\\u002fOligopeptides\",\"MS-Dial\\u002fCarbohydrates\\u002fNucleosides\",\"MS-Dial\\u002fAlkaloids\\u002fNicotinic acid alkaloids|Tetramate alkaloids|Peptide alkaloids\",\"MS-Dial\\u002fAlkaloids\\u002fNicotinic acid alkaloids|Sesquiterpenoids|Pseudoalkaloids\",\"MS-Dial\\u002fAlkaloids\\u002fNicotinic acid alkaloids|Pseudoalkaloids\",\"MS-Dial\\u002fTerpenoids\",\"MS-Dial\\u002fAlkaloids\\u002fNicotinic acid alkaloids\",\"MS-Dial\\u002fTerpenoids\\u002fNaphthalenes|Meroterpenoids\",\"MS-Dial\\u002fTerpenoids\\u002fNaphthalenes|Diterpenoids\",\"MS-Dial\\u002fPolyketides\\u002fNaphthalenes\",\"MS-Dial\\u002fShikimates and Phenylpropanoids\\u002fPhenylethanoids (C6-C2)|Phenylpropanoids (C6-C3)\",\"MS-Dial\\u002fShikimates and Phenylpropanoids\\u002fPhenylpropanoids (C6-C3)\",\"MS-Dial\",\"MS-Dial\\u002fPolyketides\\u002fPhloroglucinols|Sesquiterpenoids\",\"MS-Dial\\u002fPolyketides\\u002fPolycyclic aromatic polyketides\",\"MS-Dial\\u002fPolyketides\\u002fPolyethers|Linear polyketides\",\"MS-Dial\\u002fTerpenoids\\u002fPolyprenols\",\"MS-Dial\\u002fAlkaloids\\u002fProline alkaloids|Nicotinic acid alkaloids|Histidine alkaloids\",\"MS-Dial\\u002fTerpenoids\\u002fPseudoalkaloids\",\"MS-Dial\\u002fTerpenoids\\u002fPseudoalkaloids|Diterpenoids\",\"MS-Dial\\u002fFatty acids\\u002fPseudoalkaloids|Fatty amides\",\"MS-Dial\\u002fAlkaloids\\u002fPseudoalkaloids|Nucleosides\",\"MS-Dial\\u002fAlkaloids\\u002fPseudoalkaloids|Peptide alkaloids\",\"MS-Dial\\u002fCarbohydrates\\u002fSaccharides|Flavonoids\",\"MS-Dial\\u002fCarbohydrates\\u002fSaccharides|Polyols\",\"MS-Dial\\u002fAlkaloids\\u002fPseudoalkaloids\",\"MS-Dial\\u002fTerpenoids\\u002fSesterterpenoids\",\"MS-Dial\\u002fAlkaloids\\u002fSmall peptides\",\"MS-Dial\\u002fTerpenoids\\u002fSteroids\",\"MS-Dial\\u002fShikimates and Phenylpropanoids\\u002fStilbenoids|Ligs\",\"MS-Dial\\u002fAmino acids and Peptides\\u002fTetramate alkaloids|Peptide alkaloids\",\"MS-Dial\\u002fShikimates and Phenylpropanoids\\u002fStyrylpyrones|Diazotetronic acids and derivatives\",\"MS-Dial\\u002fAlkaloids\\u002fTetramate alkaloids\",\"MS-Dial\\u002fShikimates and Phenylpropanoids\\u002fSmall peptides\",\"MS-Dial\\u002fTerpenoids\\u002fSesquiterpenoids\",\"MS-Dial\\u002fFatty acids\\u002fSphingolipids\"],\"labels\":[\"Alkylresorcinols\",\"Meroterpenoids\",\"Meroterpenoids|Cyclic polyketides\",\"Meroterpenoids|Phloroglucinols\",\"Meroterpenoids|Phloroglucinols\",\"Meroterpenoids|Sesquiterpenoids\",\"Meroterpenoids|Sesquiterpenoids\",\"Meroterpenoids\",\"Miscellaneous polyketides\",\"Monoterpenoids\",\"Mycosporine derivatives\",\"Mycosporine derivatives\",\"Naphthalenes|Diterpenoids\",\"Naphthalenes|Meroterpenoids\",\"Naphthalenes|Polycyclic aromatic polyketides\",\"Mitomycin derivatives\",\"Meroterpenoids\",\"Macrolides|Cyclic polyketides\",\"Macrolides|Cyclic polyketides\",\"Ligs\",\"Ligs|Flavonoids\",\"Linear polyketides\",\"Linear polyketides\",\"Lysine alkaloids\",\"Lysine alkaloids|Nicotinic acid alkaloids\",\"Lysine alkaloids|Nicotinic acid alkaloids|Coumarins\",\"Lysine alkaloids|Nicotinic acid alkaloids|Coumarins\",\"Lysine alkaloids|Oligopeptides\",\"Lysine alkaloids|Oligopeptides\",\"Lysine alkaloids|Pseudoalkaloids\",\"Lysine alkaloids|Pseudoalkaloids\",\"Lysine alkaloids|Tyrosine alkaloids\",\"Macrolides\",\"Small peptides\",\"Nicotinic acid alkaloids|Histidine alkaloids\",\"Nicotinic acid alkaloids|Peptide alkaloids\",\"Nicotinic acid alkaloids|Pseudoalkaloids\",\"Nicotinic acid alkaloids|Sesquiterpenoids|Pseudoalkaloids\",\"Pseudoalkaloids\",\"Pseudoalkaloids|Diterpenoids\",\"Pseudoalkaloids|Fatty amides\",\"Pseudoalkaloids|Histidine alkaloids\",\"Pseudoalkaloids|Nucleosides\",\"Saccharides\",\"Tetramate alkaloids|Peptide alkaloids\",\"Saccharides|Flavonoids\",\"Terphenyls\",\"Serine alkaloids\",\"Styrylpyrones\",\"Sesquiterpenoids|Monoterpenoids\",\"Stilbenoids\",\"Sesterterpenoids|Monoterpenoids|Diterpenoids\",\"Sphingolipids|Fatty Acids and Conjugates\",\"Proline alkaloids\",\"Isoflavonoids|Flavonoids\",\"Polyols\",\"Phloroglucinols|Sesquiterpenoids\",\"Nicotinic acid alkaloids|Tetramate alkaloids|Peptide alkaloids\",\"Octadecanoids\",\"Oligopeptides\",\"Oligopeptides|Linear polyketides\",\"Oligopeptides|Tetramate alkaloids|Peptide alkaloids\",\"Ornithine alkaloids\",\"Ornithine alkaloids|Small peptides\",\"Peptide alkaloids\",\"Peptide alkaloids|Small peptides\",\"Phenolic acids (C6-C1)|Flavonoids\",\"Phenolic acids (C6-C1)|Small peptides\",\"Phenylethanoids (C6-C2)\",\"Phenylpropanoids (C6-C3)\",\"Phenylpropanoids (C6-C3)|Ligs\",\"Phloroglucinols\",\"Polyethers\",\"Isoflavonoids\",\"Macrolides\",\"Histidine alkaloids|Small peptides\",\"Chromanes|Flavonoids\",\"Chromanes|Isoflavonoids\",\"Chromanes|Isoflavonoids\",\"Chromanes|Polycyclic aromatic polyketides\",\"Chromanes|Xanthones\",\"Coumarins\",\"Coumarins|Aromatic polyketides\",\"Chromanes|Flavonoids\",\"Coumarins|Aromatic polyketides\",\"Coumarins|Ligs\",\"Histidine alkaloids|Small peptides\",\"Coumarins|Polycyclic aromatic polyketides\",\"Coumarins|Polycyclic aromatic polyketides\",\"Coumarins|Sesquiterpenoids\",\"Coumarins|Sesquiterpenoids\",\"Cyclic polyketides\",\"Coumarins|Flavonoids\",\"Cyclic polyketides\",\"Chromanes|Coumarins\",\"Chromanes\",\"Amino acid glycosides\",\"Aminosugars and aminoglycosides\",\"Aminosugars and aminoglycosides|Polyols\",\"Aminosugars and aminoglycosides|Saccharides\",\"Anthranilic acid alkaloids\",\"Anthranilic acid alkaloids|Histidine alkaloids|Peptide alkaloids\",\"Anthranilic acid alkaloids|Histidine alkaloids|Peptide alkaloids\",\"Chromanes|Coumarins\",\"Anthranilic acid alkaloids|Peptide alkaloids\",\"Apocarotenoids\",\"Apocarotenoids|Diterpenoids\",\"Aromatic polyketides\",\"Aromatic polyketides|Diphenyl ethers (DPEs)\",\"Carotenoids (C40)\",\"Carotenoids (C50)\",\"Chromanes\",\"Anthranilic acid alkaloids|Peptide alkaloids\",\"Cyclic polyketides|Linear polyketides\",\"Sphingolipids\",\"Diarylheptanoids\",\"Fatty acyl glycosides\",\"Fatty amides\",\"Eicosanoids|Octadecanoids\",\"Fatty Acids and Conjugates\",\"Fatty amides\",\"Fatty Acids and Conjugates|Fatty esters\",\"Docosanoids|Fatty Acids and Conjugates\",\"Fatty Acids and Conjugates|Monoterpenoids\",\"Fatty Acids and Conjugates|Monoterpenoids\",\"Fatty Acids and Conjugates|Octadecanoids\",\"Fatty acyls\",\"Fatty Acids and Conjugates|Saccharides\",\"Fatty Acids and Conjugates|Saccharides\",\"Fatty Acids and Conjugates|Small peptides\",\"Fatty acyls|Fatty amides\",\"Fatty esters\",\"Eicosanoids\",\"Glycerolipids|Fatty esters\",\"Histidine alkaloids|Peptide alkaloids\",\"Histidine alkaloids|Peptide alkaloids\",\"Histidine alkaloids\",\"Diazotetronic acids and derivatives\",\"Guanidine alkaloids\",\"Glycerophospholipids\",\"Docosanoids\",\"Diphenyl ethers (DPEs)\",\"Fatty Acids and Conjugates|Small peptides\",\"Glycerolipids\",\"Fluorenes\",\"Flavonoids\",\"Diphenyl ethers (DPEs)\",\"Flavonoids\",\"Diterpenoids\",\"Tryptophan alkaloids|Flavonoids\",\"Tryptophan alkaloids\",\"Tryptophan alkaloids|Flavonoids\",\"Tryptophan alkaloids|Histidine alkaloids\",\"Tryptophan alkaloids\",\"Tryptophan alkaloids|Anthranilic acid alkaloids\",\"Triterpenoids\",\"Tryptophan alkaloids|Tyrosine alkaloids\",\"Tryptophan alkaloids|Nicotinic acid alkaloids|Anthranilic acid alkaloids\",\"Alkaloids\",\"Carbohydrates\",\"\\u03b3-lactam-\\u03b2-lactones\",\"\\u03b2-lactams|Small peptides\",\"Fatty acids\",\"\\u03b2-lactams\",\"\\u00ce\\u00b2-lactams|Small peptides\",\"Polyketides\",\"\\u00ce\\u00b2-lactams\",\"Shikimates and Phenylpropanoids\",\"Tryptophan alkaloids|Nicotinic acid alkaloids\",\"Xanthones|Meroterpenoids\",\"Xanthones\",\"Xanthones\",\"Tyrosine alkaloids|Pseudoalkaloids\",\"Tyrosine alkaloids|Nicotinic acid alkaloids\",\"Tyrosine alkaloids|Cyclic polyketides\",\"Tyrosine alkaloids|Cyclic polyketides\",\"Tyrosine alkaloids\",\"Amino acids and Peptides\",\"Tryptophan alkaloids|Small peptides\",\"Tryptophan alkaloids|Small peptides\",\"Xanthones|Meroterpenoids\",\"Xanthones|Polycyclic aromatic polyketides\",\"Nicotinic acid alkaloids|Ornithine alkaloids\",\"Phethrenoids\",\"Phenolic acids (C6-C1)|Small peptides\",\"Phenolic acids (C6-C1)|Phenylpropanoids (C6-C3)\",\"Phenolic acids (C6-C1)\",\"Peptide alkaloids|Small peptides\",\"Peptide alkaloids\",\"Ornithine alkaloids|Small peptides\",\"Oligopeptides|Tetramate alkaloids|Peptide alkaloids\",\"Oligopeptides|Small peptides\",\"Oligopeptides|Linear polyketides\",\"Oligopeptides\",\"Nucleosides\",\"Nicotinic acid alkaloids|Tetramate alkaloids|Peptide alkaloids\",\"Nicotinic acid alkaloids|Sesquiterpenoids|Pseudoalkaloids\",\"Nicotinic acid alkaloids|Pseudoalkaloids\",\"Terpenoids\",\"Nicotinic acid alkaloids\",\"Naphthalenes|Meroterpenoids\",\"Naphthalenes|Diterpenoids\",\"Naphthalenes\",\"Phenylethanoids (C6-C2)|Phenylpropanoids (C6-C3)\",\"Phenylpropanoids (C6-C3)\",\"MS-Dial\",\"Phloroglucinols|Sesquiterpenoids\",\"Polycyclic aromatic polyketides\",\"Polyethers|Linear polyketides\",\"Polyprenols\",\"Proline alkaloids|Nicotinic acid alkaloids|Histidine alkaloids\",\"Pseudoalkaloids\",\"Pseudoalkaloids|Diterpenoids\",\"Pseudoalkaloids|Fatty amides\",\"Pseudoalkaloids|Nucleosides\",\"Pseudoalkaloids|Peptide alkaloids\",\"Saccharides|Flavonoids\",\"Saccharides|Polyols\",\"Pseudoalkaloids\",\"Sesterterpenoids\",\"Small peptides\",\"Steroids\",\"Stilbenoids|Ligs\",\"Tetramate alkaloids|Peptide alkaloids\",\"Styrylpyrones|Diazotetronic acids and derivatives\",\"Tetramate alkaloids\",\"Small peptides\",\"Sesquiterpenoids\",\"Sphingolipids\"],\"marker\":{\"colors\":[\"#8080ff\",\"#808000\",\"#8080ff\",\"#8080ff\",\"#808000\",\"#8080ff\",\"#808000\",\"#80ff80\",\"#8080ff\",\"#808000\",\"#ffff80\",\"#80ff80\",\"#8080ff\",\"#8080ff\",\"#8080ff\",\"#ff8080\",\"#8080ff\",\"#8080ff\",\"#ffff80\",\"#80ff80\",\"#80ff80\",\"#ffff80\",\"#8080ff\",\"#ff8080\",\"#ff8080\",\"#ff8080\",\"#80ff80\",\"#ff8080\",\"#ffff80\",\"#ff8080\",\"#808000\",\"#ff8080\",\"#ffff80\",\"#ffff80\",\"#ff8080\",\"#ff8080\",\"#808000\",\"#808000\",\"#ffff80\",\"#ff8080\",\"#ff8080\",\"#ff8080\",\"#80ffff\",\"#80ffff\",\"#ff8080\",\"#80ff80\",\"#80ff80\",\"#ff8080\",\"#80ff80\",\"#808000\",\"#80ff80\",\"#808000\",\"#ff8040\",\"#ff8080\",\"#80ff80\",\"#80ffff\",\"#808000\",\"#ffff80\",\"#ff8040\",\"#8080ff\",\"#8080ff\",\"#ff8080\",\"#ff8080\",\"#ffff80\",\"#ffff80\",\"#ffff80\",\"#80ff80\",\"#ffff80\",\"#80ff80\",\"#ffff80\",\"#80ff80\",\"#8080ff\",\"#8080ff\",\"#80ff80\",\"#8080ff\",\"#ff8080\",\"#80ff80\",\"#8080ff\",\"#80ff80\",\"#8080ff\",\"#8080ff\",\"#80ff80\",\"#8080ff\",\"#8080ff\",\"#80ff80\",\"#80ff80\",\"#ffff80\",\"#8080ff\",\"#80ff80\",\"#80ff80\",\"#808000\",\"#ffff80\",\"#80ff80\",\"#8080ff\",\"#80ff80\",\"#80ff80\",\"#ffff80\",\"#80ffff\",\"#80ffff\",\"#80ffff\",\"#ff8080\",\"#ff8080\",\"#ffff80\",\"#8080ff\",\"#ff8080\",\"#808000\",\"#808000\",\"#8080ff\",\"#8080ff\",\"#808000\",\"#808000\",\"#8080ff\",\"#ffff80\",\"#8080ff\",\"#ffff80\",\"#80ff80\",\"#ff8040\",\"#ff8040\",\"#ff8040\",\"#ff8040\",\"#ff8080\",\"#ff8040\",\"#ff8040\",\"#ff8040\",\"#808000\",\"#ff8040\",\"#ff8040\",\"#80ffff\",\"#ff8040\",\"#ffff80\",\"#ff8040\",\"#ff8040\",\"#ff8040\",\"#ff8040\",\"#ffff80\",\"#ff8080\",\"#ff8080\",\"#80ff80\",\"#ff8080\",\"#ff8040\",\"#ff8040\",\"#8080ff\",\"#ff8040\",\"#ff8040\",\"#80ff80\",\"#80ff80\",\"#80ff80\",\"#ff8080\",\"#808000\",\"#ff8080\",\"#808000\",\"#80ff80\",\"#ff8080\",\"#ff8080\",\"#ff8080\",\"#808000\",\"#ff8080\",\"#ff8080\",\"#ff8080\",\"#80ffff\",\"#ffff80\",\"#ffff80\",\"#ff8040\",\"#ffff80\",\"#ffff80\",\"#8080ff\",\"#ffff80\",\"#80ff80\",\"#ff8080\",\"#808000\",\"#80ff80\",\"#8080ff\",\"#ff8080\",\"#ff8080\",\"#8080ff\",\"#ff8080\",\"#ff8080\",\"#ffff80\",\"#ffff80\",\"#ff8080\",\"#8080ff\",\"#8080ff\",\"#ff8080\",\"#80ff80\",\"#80ff80\",\"#80ff80\",\"#80ff80\",\"#ff8080\",\"#ff8080\",\"#ff8080\",\"#ffff80\",\"#ffff80\",\"#ffff80\",\"#ffff80\",\"#80ffff\",\"#ff8080\",\"#ff8080\",\"#ff8080\",\"#808000\",\"#ff8080\",\"#808000\",\"#808000\",\"#8080ff\",\"#80ff80\",\"#80ff80\",\"#B6E880\",\"#8080ff\",\"#8080ff\",\"#8080ff\",\"#808000\",\"#ff8080\",\"#808000\",\"#808000\",\"#ff8040\",\"#ff8080\",\"#ff8080\",\"#80ffff\",\"#80ffff\",\"#ff8080\",\"#808000\",\"#ff8080\",\"#808000\",\"#80ff80\",\"#ffff80\",\"#80ff80\",\"#ff8080\",\"#80ff80\",\"#808000\",\"#ff8040\"]},\"name\":\"\",\"parents\":[\"MS-Dial\\u002fPolyketides\",\"MS-Dial\\u002fTerpenoids\",\"MS-Dial\\u002fPolyketides\",\"MS-Dial\\u002fPolyketides\",\"MS-Dial\\u002fTerpenoids\",\"MS-Dial\\u002fPolyketides\",\"MS-Dial\\u002fTerpenoids\",\"MS-Dial\\u002fShikimates and Phenylpropanoids\",\"MS-Dial\\u002fPolyketides\",\"MS-Dial\\u002fTerpenoids\",\"MS-Dial\\u002fAmino acids and Peptides\",\"MS-Dial\\u002fShikimates and Phenylpropanoids\",\"MS-Dial\\u002fPolyketides\",\"MS-Dial\\u002fPolyketides\",\"MS-Dial\\u002fPolyketides\",\"MS-Dial\\u002fAlkaloids\",\"MS-Dial\\u002fPolyketides\",\"MS-Dial\\u002fPolyketides\",\"MS-Dial\\u002fAmino acids and Peptides\",\"MS-Dial\\u002fShikimates and Phenylpropanoids\",\"MS-Dial\\u002fShikimates and Phenylpropanoids\",\"MS-Dial\\u002fAmino acids and Peptides\",\"MS-Dial\\u002fPolyketides\",\"MS-Dial\\u002fAlkaloids\",\"MS-Dial\\u002fAlkaloids\",\"MS-Dial\\u002fAlkaloids\",\"MS-Dial\\u002fShikimates and Phenylpropanoids\",\"MS-Dial\\u002fAlkaloids\",\"MS-Dial\\u002fAmino acids and Peptides\",\"MS-Dial\\u002fAlkaloids\",\"MS-Dial\\u002fTerpenoids\",\"MS-Dial\\u002fAlkaloids\",\"MS-Dial\\u002fAmino acids and Peptides\",\"MS-Dial\\u002fAmino acids and Peptides\",\"MS-Dial\\u002fAlkaloids\",\"MS-Dial\\u002fAlkaloids\",\"MS-Dial\\u002fTerpenoids\",\"MS-Dial\\u002fTerpenoids\",\"MS-Dial\\u002fAmino acids and Peptides\",\"MS-Dial\\u002fAlkaloids\",\"MS-Dial\\u002fAlkaloids\",\"MS-Dial\\u002fAlkaloids\",\"MS-Dial\\u002fCarbohydrates\",\"MS-Dial\\u002fCarbohydrates\",\"MS-Dial\\u002fAlkaloids\",\"MS-Dial\\u002fShikimates and Phenylpropanoids\",\"MS-Dial\\u002fShikimates and Phenylpropanoids\",\"MS-Dial\\u002fAlkaloids\",\"MS-Dial\\u002fShikimates and Phenylpropanoids\",\"MS-Dial\\u002fTerpenoids\",\"MS-Dial\\u002fShikimates and Phenylpropanoids\",\"MS-Dial\\u002fTerpenoids\",\"MS-Dial\\u002fFatty acids\",\"MS-Dial\\u002fAlkaloids\",\"MS-Dial\\u002fShikimates and Phenylpropanoids\",\"MS-Dial\\u002fCarbohydrates\",\"MS-Dial\\u002fTerpenoids\",\"MS-Dial\\u002fAmino acids and Peptides\",\"MS-Dial\\u002fFatty acids\",\"MS-Dial\\u002fPolyketides\",\"MS-Dial\\u002fPolyketides\",\"MS-Dial\\u002fAlkaloids\",\"MS-Dial\\u002fAlkaloids\",\"MS-Dial\\u002fAmino acids and Peptides\",\"MS-Dial\\u002fAmino acids and Peptides\",\"MS-Dial\\u002fAmino acids and Peptides\",\"MS-Dial\\u002fShikimates and Phenylpropanoids\",\"MS-Dial\\u002fAmino acids and Peptides\",\"MS-Dial\\u002fShikimates and Phenylpropanoids\",\"MS-Dial\\u002fAmino acids and Peptides\",\"MS-Dial\\u002fShikimates and Phenylpropanoids\",\"MS-Dial\\u002fPolyketides\",\"MS-Dial\\u002fPolyketides\",\"MS-Dial\\u002fShikimates and Phenylpropanoids\",\"MS-Dial\\u002fPolyketides\",\"MS-Dial\\u002fAlkaloids\",\"MS-Dial\\u002fShikimates and Phenylpropanoids\",\"MS-Dial\\u002fPolyketides\",\"MS-Dial\\u002fShikimates and Phenylpropanoids\",\"MS-Dial\\u002fPolyketides\",\"MS-Dial\\u002fPolyketides\",\"MS-Dial\\u002fShikimates and Phenylpropanoids\",\"MS-Dial\\u002fPolyketides\",\"MS-Dial\\u002fPolyketides\",\"MS-Dial\\u002fShikimates and Phenylpropanoids\",\"MS-Dial\\u002fShikimates and Phenylpropanoids\",\"MS-Dial\\u002fAmino acids and Peptides\",\"MS-Dial\\u002fPolyketides\",\"MS-Dial\\u002fShikimates and Phenylpropanoids\",\"MS-Dial\\u002fShikimates and Phenylpropanoids\",\"MS-Dial\\u002fTerpenoids\",\"MS-Dial\\u002fAmino acids and Peptides\",\"MS-Dial\\u002fShikimates and Phenylpropanoids\",\"MS-Dial\\u002fPolyketides\",\"MS-Dial\\u002fShikimates and Phenylpropanoids\",\"MS-Dial\\u002fShikimates and Phenylpropanoids\",\"MS-Dial\\u002fAmino acids and Peptides\",\"MS-Dial\\u002fCarbohydrates\",\"MS-Dial\\u002fCarbohydrates\",\"MS-Dial\\u002fCarbohydrates\",\"MS-Dial\\u002fAlkaloids\",\"MS-Dial\\u002fAlkaloids\",\"MS-Dial\\u002fAmino acids and Peptides\",\"MS-Dial\\u002fPolyketides\",\"MS-Dial\\u002fAlkaloids\",\"MS-Dial\\u002fTerpenoids\",\"MS-Dial\\u002fTerpenoids\",\"MS-Dial\\u002fPolyketides\",\"MS-Dial\\u002fPolyketides\",\"MS-Dial\\u002fTerpenoids\",\"MS-Dial\\u002fTerpenoids\",\"MS-Dial\\u002fPolyketides\",\"MS-Dial\\u002fAmino acids and Peptides\",\"MS-Dial\\u002fPolyketides\",\"MS-Dial\\u002fAmino acids and Peptides\",\"MS-Dial\\u002fShikimates and Phenylpropanoids\",\"MS-Dial\\u002fFatty acids\",\"MS-Dial\\u002fFatty acids\",\"MS-Dial\\u002fFatty acids\",\"MS-Dial\\u002fFatty acids\",\"MS-Dial\\u002fAlkaloids\",\"MS-Dial\\u002fFatty acids\",\"MS-Dial\\u002fFatty acids\",\"MS-Dial\\u002fFatty acids\",\"MS-Dial\\u002fTerpenoids\",\"MS-Dial\\u002fFatty acids\",\"MS-Dial\\u002fFatty acids\",\"MS-Dial\\u002fCarbohydrates\",\"MS-Dial\\u002fFatty acids\",\"MS-Dial\\u002fAmino acids and Peptides\",\"MS-Dial\\u002fFatty acids\",\"MS-Dial\\u002fFatty acids\",\"MS-Dial\\u002fFatty acids\",\"MS-Dial\\u002fFatty acids\",\"MS-Dial\\u002fAmino acids and Peptides\",\"MS-Dial\\u002fAlkaloids\",\"MS-Dial\\u002fAlkaloids\",\"MS-Dial\\u002fShikimates and Phenylpropanoids\",\"MS-Dial\\u002fAlkaloids\",\"MS-Dial\\u002fFatty acids\",\"MS-Dial\\u002fFatty acids\",\"MS-Dial\\u002fPolyketides\",\"MS-Dial\\u002fFatty acids\",\"MS-Dial\\u002fFatty acids\",\"MS-Dial\\u002fShikimates and Phenylpropanoids\",\"MS-Dial\\u002fShikimates and Phenylpropanoids\",\"MS-Dial\\u002fShikimates and Phenylpropanoids\",\"MS-Dial\\u002fAlkaloids\",\"MS-Dial\\u002fTerpenoids\",\"MS-Dial\\u002fAlkaloids\",\"MS-Dial\\u002fTerpenoids\",\"MS-Dial\\u002fShikimates and Phenylpropanoids\",\"MS-Dial\\u002fAlkaloids\",\"MS-Dial\\u002fAlkaloids\",\"MS-Dial\\u002fAlkaloids\",\"MS-Dial\\u002fTerpenoids\",\"MS-Dial\\u002fAlkaloids\",\"MS-Dial\\u002fAlkaloids\",\"MS-Dial\",\"MS-Dial\",\"MS-Dial\\u002fAmino acids and Peptides\",\"MS-Dial\\u002fAmino acids and Peptides\",\"MS-Dial\",\"MS-Dial\\u002fAmino acids and Peptides\",\"MS-Dial\\u002fAmino acids and Peptides\",\"MS-Dial\",\"MS-Dial\\u002fAmino acids and Peptides\",\"MS-Dial\",\"MS-Dial\\u002fAlkaloids\",\"MS-Dial\\u002fTerpenoids\",\"MS-Dial\\u002fShikimates and Phenylpropanoids\",\"MS-Dial\\u002fPolyketides\",\"MS-Dial\\u002fAlkaloids\",\"MS-Dial\\u002fAlkaloids\",\"MS-Dial\\u002fPolyketides\",\"MS-Dial\\u002fAlkaloids\",\"MS-Dial\\u002fAlkaloids\",\"MS-Dial\",\"MS-Dial\\u002fAmino acids and Peptides\",\"MS-Dial\\u002fAlkaloids\",\"MS-Dial\\u002fPolyketides\",\"MS-Dial\\u002fPolyketides\",\"MS-Dial\\u002fAlkaloids\",\"MS-Dial\\u002fShikimates and Phenylpropanoids\",\"MS-Dial\\u002fShikimates and Phenylpropanoids\",\"MS-Dial\\u002fShikimates and Phenylpropanoids\",\"MS-Dial\\u002fShikimates and Phenylpropanoids\",\"MS-Dial\\u002fAlkaloids\",\"MS-Dial\\u002fAlkaloids\",\"MS-Dial\\u002fAlkaloids\",\"MS-Dial\\u002fAmino acids and Peptides\",\"MS-Dial\\u002fAmino acids and Peptides\",\"MS-Dial\\u002fAmino acids and Peptides\",\"MS-Dial\\u002fAmino acids and Peptides\",\"MS-Dial\\u002fCarbohydrates\",\"MS-Dial\\u002fAlkaloids\",\"MS-Dial\\u002fAlkaloids\",\"MS-Dial\\u002fAlkaloids\",\"MS-Dial\",\"MS-Dial\\u002fAlkaloids\",\"MS-Dial\\u002fTerpenoids\",\"MS-Dial\\u002fTerpenoids\",\"MS-Dial\\u002fPolyketides\",\"MS-Dial\\u002fShikimates and Phenylpropanoids\",\"MS-Dial\\u002fShikimates and Phenylpropanoids\",\"\",\"MS-Dial\\u002fPolyketides\",\"MS-Dial\\u002fPolyketides\",\"MS-Dial\\u002fPolyketides\",\"MS-Dial\\u002fTerpenoids\",\"MS-Dial\\u002fAlkaloids\",\"MS-Dial\\u002fTerpenoids\",\"MS-Dial\\u002fTerpenoids\",\"MS-Dial\\u002fFatty acids\",\"MS-Dial\\u002fAlkaloids\",\"MS-Dial\\u002fAlkaloids\",\"MS-Dial\\u002fCarbohydrates\",\"MS-Dial\\u002fCarbohydrates\",\"MS-Dial\\u002fAlkaloids\",\"MS-Dial\\u002fTerpenoids\",\"MS-Dial\\u002fAlkaloids\",\"MS-Dial\\u002fTerpenoids\",\"MS-Dial\\u002fShikimates and Phenylpropanoids\",\"MS-Dial\\u002fAmino acids and Peptides\",\"MS-Dial\\u002fShikimates and Phenylpropanoids\",\"MS-Dial\\u002fAlkaloids\",\"MS-Dial\\u002fShikimates and Phenylpropanoids\",\"MS-Dial\\u002fTerpenoids\",\"MS-Dial\\u002fFatty acids\"],\"values\":[2,121,2,1,1,10,26,1,2,356,7,7,4,1,1,2,87,1,1,211,7,10,84,97,19,1,1,1,1,8,7,6,10,472,3,1,1,4,1,2,1,4,1,146,2,4,12,7,17,1,52,1,1,7,8,13,1,1,13,138,2,1,241,1,65,14,2,1,25,16,8,46,19,230,214,1,1,1,1,1,1,370,2,1,2,1,1,2,2,1,1,10,2,87,1,3,10,64,27,1,146,1,1,1,2,52,1,190,3,114,3,112,1,1,1,81,21,94,1,106,1,2,2,1,1,6,44,1,1,3,1,53,31,1,5,5,53,14,1,96,4,18,3,37,2,789,18,2,578,1,15,1,2,494,49,776,1,1,2383,456,2,1,542,31,2,1294,9,2375,1,1,35,47,2,1,2,2,405,1083,1,1,1,7,1,10,1,4,164,11,100,1,1,6,2,395,197,1,4,2,3505,320,1,4,74,51,178,11638,1,127,1,11,1,144,2,1,1,2,4,2,359,2,3,774,2,1,1,2,55,506,23],\"type\":\"sunburst\"}],                        {\"template\":{\"data\":{\"histogram2dcontour\":[{\"type\":\"histogram2dcontour\",\"colorbar\":{\"outlinewidth\":0,\"ticks\":\"\"},\"colorscale\":[[0.0,\"#0d0887\"],[0.1111111111111111,\"#46039f\"],[0.2222222222222222,\"#7201a8\"],[0.3333333333333333,\"#9c179e\"],[0.4444444444444444,\"#bd3786\"],[0.5555555555555556,\"#d8576b\"],[0.6666666666666666,\"#ed7953\"],[0.7777777777777778,\"#fb9f3a\"],[0.8888888888888888,\"#fdca26\"],[1.0,\"#f0f921\"]]}],\"choropleth\":[{\"type\":\"choropleth\",\"colorbar\":{\"outlinewidth\":0,\"ticks\":\"\"}}],\"histogram2d\":[{\"type\":\"histogram2d\",\"colorbar\":{\"outlinewidth\":0,\"ticks\":\"\"},\"colorscale\":[[0.0,\"#0d0887\"],[0.1111111111111111,\"#46039f\"],[0.2222222222222222,\"#7201a8\"],[0.3333333333333333,\"#9c179e\"],[0.4444444444444444,\"#bd3786\"],[0.5555555555555556,\"#d8576b\"],[0.6666666666666666,\"#ed7953\"],[0.7777777777777778,\"#fb9f3a\"],[0.8888888888888888,\"#fdca26\"],[1.0,\"#f0f921\"]]}],\"heatmap\":[{\"type\":\"heatmap\",\"colorbar\":{\"outlinewidth\":0,\"ticks\":\"\"},\"colorscale\":[[0.0,\"#0d0887\"],[0.1111111111111111,\"#46039f\"],[0.2222222222222222,\"#7201a8\"],[0.3333333333333333,\"#9c179e\"],[0.4444444444444444,\"#bd3786\"],[0.5555555555555556,\"#d8576b\"],[0.6666666666666666,\"#ed7953\"],[0.7777777777777778,\"#fb9f3a\"],[0.8888888888888888,\"#fdca26\"],[1.0,\"#f0f921\"]]}],\"heatmapgl\":[{\"type\":\"heatmapgl\",\"colorbar\":{\"outlinewidth\":0,\"ticks\":\"\"},\"colorscale\":[[0.0,\"#0d0887\"],[0.1111111111111111,\"#46039f\"],[0.2222222222222222,\"#7201a8\"],[0.3333333333333333,\"#9c179e\"],[0.4444444444444444,\"#bd3786\"],[0.5555555555555556,\"#d8576b\"],[0.6666666666666666,\"#ed7953\"],[0.7777777777777778,\"#fb9f3a\"],[0.8888888888888888,\"#fdca26\"],[1.0,\"#f0f921\"]]}],\"contourcarpet\":[{\"type\":\"contourcarpet\",\"colorbar\":{\"outlinewidth\":0,\"ticks\":\"\"}}],\"contour\":[{\"type\":\"contour\",\"colorbar\":{\"outlinewidth\":0,\"ticks\":\"\"},\"colorscale\":[[0.0,\"#0d0887\"],[0.1111111111111111,\"#46039f\"],[0.2222222222222222,\"#7201a8\"],[0.3333333333333333,\"#9c179e\"],[0.4444444444444444,\"#bd3786\"],[0.5555555555555556,\"#d8576b\"],[0.6666666666666666,\"#ed7953\"],[0.7777777777777778,\"#fb9f3a\"],[0.8888888888888888,\"#fdca26\"],[1.0,\"#f0f921\"]]}],\"surface\":[{\"type\":\"surface\",\"colorbar\":{\"outlinewidth\":0,\"ticks\":\"\"},\"colorscale\":[[0.0,\"#0d0887\"],[0.1111111111111111,\"#46039f\"],[0.2222222222222222,\"#7201a8\"],[0.3333333333333333,\"#9c179e\"],[0.4444444444444444,\"#bd3786\"],[0.5555555555555556,\"#d8576b\"],[0.6666666666666666,\"#ed7953\"],[0.7777777777777778,\"#fb9f3a\"],[0.8888888888888888,\"#fdca26\"],[1.0,\"#f0f921\"]]}],\"mesh3d\":[{\"type\":\"mesh3d\",\"colorbar\":{\"outlinewidth\":0,\"ticks\":\"\"}}],\"scatter\":[{\"marker\":{\"line\":{\"color\":\"#283442\"}},\"type\":\"scatter\"}],\"parcoords\":[{\"type\":\"parcoords\",\"line\":{\"colorbar\":{\"outlinewidth\":0,\"ticks\":\"\"}}}],\"scatterpolargl\":[{\"type\":\"scatterpolargl\",\"marker\":{\"colorbar\":{\"outlinewidth\":0,\"ticks\":\"\"}}}],\"bar\":[{\"error_x\":{\"color\":\"#f2f5fa\"},\"error_y\":{\"color\":\"#f2f5fa\"},\"marker\":{\"line\":{\"color\":\"rgb(17,17,17)\",\"width\":0.5},\"pattern\":{\"fillmode\":\"overlay\",\"size\":10,\"solidity\":0.2}},\"type\":\"bar\"}],\"scattergeo\":[{\"type\":\"scattergeo\",\"marker\":{\"colorbar\":{\"outlinewidth\":0,\"ticks\":\"\"}}}],\"scatterpolar\":[{\"type\":\"scatterpolar\",\"marker\":{\"colorbar\":{\"outlinewidth\":0,\"ticks\":\"\"}}}],\"histogram\":[{\"marker\":{\"pattern\":{\"fillmode\":\"overlay\",\"size\":10,\"solidity\":0.2}},\"type\":\"histogram\"}],\"scattergl\":[{\"marker\":{\"line\":{\"color\":\"#283442\"}},\"type\":\"scattergl\"}],\"scatter3d\":[{\"type\":\"scatter3d\",\"line\":{\"colorbar\":{\"outlinewidth\":0,\"ticks\":\"\"}},\"marker\":{\"colorbar\":{\"outlinewidth\":0,\"ticks\":\"\"}}}],\"scattermapbox\":[{\"type\":\"scattermapbox\",\"marker\":{\"colorbar\":{\"outlinewidth\":0,\"ticks\":\"\"}}}],\"scatterternary\":[{\"type\":\"scatterternary\",\"marker\":{\"colorbar\":{\"outlinewidth\":0,\"ticks\":\"\"}}}],\"scattercarpet\":[{\"type\":\"scattercarpet\",\"marker\":{\"colorbar\":{\"outlinewidth\":0,\"ticks\":\"\"}}}],\"carpet\":[{\"aaxis\":{\"endlinecolor\":\"#A2B1C6\",\"gridcolor\":\"#506784\",\"linecolor\":\"#506784\",\"minorgridcolor\":\"#506784\",\"startlinecolor\":\"#A2B1C6\"},\"baxis\":{\"endlinecolor\":\"#A2B1C6\",\"gridcolor\":\"#506784\",\"linecolor\":\"#506784\",\"minorgridcolor\":\"#506784\",\"startlinecolor\":\"#A2B1C6\"},\"type\":\"carpet\"}],\"table\":[{\"cells\":{\"fill\":{\"color\":\"#506784\"},\"line\":{\"color\":\"rgb(17,17,17)\"}},\"header\":{\"fill\":{\"color\":\"#2a3f5f\"},\"line\":{\"color\":\"rgb(17,17,17)\"}},\"type\":\"table\"}],\"barpolar\":[{\"marker\":{\"line\":{\"color\":\"rgb(17,17,17)\",\"width\":0.5},\"pattern\":{\"fillmode\":\"overlay\",\"size\":10,\"solidity\":0.2}},\"type\":\"barpolar\"}],\"pie\":[{\"automargin\":true,\"type\":\"pie\"}]},\"layout\":{\"autotypenumbers\":\"strict\",\"colorway\":[\"#636efa\",\"#EF553B\",\"#00cc96\",\"#ab63fa\",\"#FFA15A\",\"#19d3f3\",\"#FF6692\",\"#B6E880\",\"#FF97FF\",\"#FECB52\"],\"font\":{\"color\":\"#f2f5fa\"},\"hovermode\":\"closest\",\"hoverlabel\":{\"align\":\"left\"},\"paper_bgcolor\":\"rgb(17,17,17)\",\"plot_bgcolor\":\"rgb(17,17,17)\",\"polar\":{\"bgcolor\":\"rgb(17,17,17)\",\"angularaxis\":{\"gridcolor\":\"#506784\",\"linecolor\":\"#506784\",\"ticks\":\"\"},\"radialaxis\":{\"gridcolor\":\"#506784\",\"linecolor\":\"#506784\",\"ticks\":\"\"}},\"ternary\":{\"bgcolor\":\"rgb(17,17,17)\",\"aaxis\":{\"gridcolor\":\"#506784\",\"linecolor\":\"#506784\",\"ticks\":\"\"},\"baxis\":{\"gridcolor\":\"#506784\",\"linecolor\":\"#506784\",\"ticks\":\"\"},\"caxis\":{\"gridcolor\":\"#506784\",\"linecolor\":\"#506784\",\"ticks\":\"\"}},\"coloraxis\":{\"colorbar\":{\"outlinewidth\":0,\"ticks\":\"\"}},\"colorscale\":{\"sequential\":[[0.0,\"#0d0887\"],[0.1111111111111111,\"#46039f\"],[0.2222222222222222,\"#7201a8\"],[0.3333333333333333,\"#9c179e\"],[0.4444444444444444,\"#bd3786\"],[0.5555555555555556,\"#d8576b\"],[0.6666666666666666,\"#ed7953\"],[0.7777777777777778,\"#fb9f3a\"],[0.8888888888888888,\"#fdca26\"],[1.0,\"#f0f921\"]],\"sequentialminus\":[[0.0,\"#0d0887\"],[0.1111111111111111,\"#46039f\"],[0.2222222222222222,\"#7201a8\"],[0.3333333333333333,\"#9c179e\"],[0.4444444444444444,\"#bd3786\"],[0.5555555555555556,\"#d8576b\"],[0.6666666666666666,\"#ed7953\"],[0.7777777777777778,\"#fb9f3a\"],[0.8888888888888888,\"#fdca26\"],[1.0,\"#f0f921\"]],\"diverging\":[[0,\"#8e0152\"],[0.1,\"#c51b7d\"],[0.2,\"#de77ae\"],[0.3,\"#f1b6da\"],[0.4,\"#fde0ef\"],[0.5,\"#f7f7f7\"],[0.6,\"#e6f5d0\"],[0.7,\"#b8e186\"],[0.8,\"#7fbc41\"],[0.9,\"#4d9221\"],[1,\"#276419\"]]},\"xaxis\":{\"gridcolor\":\"#283442\",\"linecolor\":\"#506784\",\"ticks\":\"\",\"title\":{\"standoff\":15},\"zerolinecolor\":\"#283442\",\"automargin\":true,\"zerolinewidth\":2},\"yaxis\":{\"gridcolor\":\"#283442\",\"linecolor\":\"#506784\",\"ticks\":\"\",\"title\":{\"standoff\":15},\"zerolinecolor\":\"#283442\",\"automargin\":true,\"zerolinewidth\":2},\"scene\":{\"xaxis\":{\"backgroundcolor\":\"rgb(17,17,17)\",\"gridcolor\":\"#506784\",\"linecolor\":\"#506784\",\"showbackground\":true,\"ticks\":\"\",\"zerolinecolor\":\"#C8D4E3\",\"gridwidth\":2},\"yaxis\":{\"backgroundcolor\":\"rgb(17,17,17)\",\"gridcolor\":\"#506784\",\"linecolor\":\"#506784\",\"showbackground\":true,\"ticks\":\"\",\"zerolinecolor\":\"#C8D4E3\",\"gridwidth\":2},\"zaxis\":{\"backgroundcolor\":\"rgb(17,17,17)\",\"gridcolor\":\"#506784\",\"linecolor\":\"#506784\",\"showbackground\":true,\"ticks\":\"\",\"zerolinecolor\":\"#C8D4E3\",\"gridwidth\":2}},\"shapedefaults\":{\"line\":{\"color\":\"#f2f5fa\"}},\"annotationdefaults\":{\"arrowcolor\":\"#f2f5fa\",\"arrowhead\":0,\"arrowwidth\":1},\"geo\":{\"bgcolor\":\"rgb(17,17,17)\",\"landcolor\":\"rgb(17,17,17)\",\"subunitcolor\":\"#506784\",\"showland\":true,\"showlakes\":true,\"lakecolor\":\"rgb(17,17,17)\"},\"title\":{\"x\":0.05},\"updatemenudefaults\":{\"bgcolor\":\"#506784\",\"borderwidth\":0},\"sliderdefaults\":{\"bgcolor\":\"#C8D4E3\",\"borderwidth\":1,\"bordercolor\":\"rgb(17,17,17)\",\"tickwidth\":0},\"mapbox\":{\"style\":\"dark\"}}},\"legend\":{\"tracegroupgap\":0},\"margin\":{\"t\":60},\"height\":750,\"width\":750},                        {\"responsive\": true}                    ).then(function(){\n                            \nvar gd = document.getElementById('f5ebb049-4595-40b7-a3cc-a10608d8aea0');\nvar x = new MutationObserver(function (mutations, observer) {{\n        var display = window.getComputedStyle(gd).display;\n        if (!display || display === 'none') {{\n            console.log([gd, 'removed!']);\n            Plotly.purge(gd);\n            observer.disconnect();\n        }}\n}});\n\n// Listen for the removal of the full notebook cells\nvar notebookContainer = gd.closest('#notebook-container');\nif (notebookContainer) {{\n    x.observe(notebookContainer, {childList: true});\n}}\n\n// Listen for the clearing of the current output cell\nvar outputEl = gd.closest('.output');\nif (outputEl) {{\n    x.observe(outputEl, {childList: true});\n}}\n\n                        })                };                });            </script>        </div>"
     },
     "metadata": {},
     "output_type": "display_data"
    }
   ],
   "source": [
    "fig.show()"
   ],
   "metadata": {
    "collapsed": false,
    "ExecuteTime": {
     "end_time": "2024-02-03T09:30:06.809992300Z",
     "start_time": "2024-02-03T09:30:06.796480700Z"
    }
   },
   "id": "d20f0af4f88a3fec"
  },
  {
   "cell_type": "code",
   "execution_count": 296,
   "outputs": [],
   "source": [],
   "metadata": {
    "collapsed": false,
    "ExecuteTime": {
     "end_time": "2024-02-03T09:30:06.809992300Z",
     "start_time": "2024-02-03T09:30:06.804716400Z"
    }
   },
   "id": "14d585ffbb8b4a0f"
  }
 ],
 "metadata": {
  "kernelspec": {
   "display_name": "Python 3",
   "language": "python",
   "name": "python3"
  },
  "language_info": {
   "codemirror_mode": {
    "name": "ipython",
    "version": 2
   },
   "file_extension": ".py",
   "mimetype": "text/x-python",
   "name": "python",
   "nbconvert_exporter": "python",
   "pygments_lexer": "ipython2",
   "version": "2.7.6"
  }
 },
 "nbformat": 4,
 "nbformat_minor": 5
}
