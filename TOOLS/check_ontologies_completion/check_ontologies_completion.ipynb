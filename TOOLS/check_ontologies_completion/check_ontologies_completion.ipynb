{
 "cells": [
  {
   "metadata": {},
   "cell_type": "code",
   "source": [
    "import os\n",
    "import pandas as pd\n",
    "\n",
    "# Directoires à parcourir\n",
    "dirs = [\n",
    "    r\"D:\\Axel\\PYTHON\\FragHub\\OUTPUT\\test\\CSV\\POS\",\n",
    "    r\"D:\\Axel\\PYTHON\\FragHub\\OUTPUT\\test\\CSV\\NEG\"\n",
    "]\n",
    "\n",
    "# Liste pour stocker les DataFrames\n",
    "data_frames = []\n",
    "\n",
    "# Parcours des répertoires et lecture des fichiers CSV\n",
    "for dir_path in dirs:\n",
    "    for file_name in os.listdir(dir_path):\n",
    "        if file_name.endswith('.csv'):\n",
    "            file_path = os.path.join(dir_path, file_name)\n",
    "            df = pd.read_csv(file_path, sep=';')\n",
    "            data_frames.append(df)\n",
    "\n",
    "# Concaténation des DataFrames\n",
    "combined_df = pd.concat(data_frames, ignore_index=True)\n",
    "\n",
    "# Enregistrement du DataFrame combiné dans un nouveau fichier CSV\n",
    "output_file = r\"D:\\Axel\\PYTHON\\FragHub\\OUTPUT\\test\\CSV\\combined.csv\"\n",
    "combined_df.to_csv(output_file, sep=';', index=False)\n",
    "\n",
    "# Filtrage des lignes où toutes les colonnes spécifiées sont 'UNKNOWN'\n",
    "filtered_df = combined_df[\n",
    "    (combined_df['CLASSYFIRE_SUPERCLASS'] == 'UNKNOWN') &\n",
    "    (combined_df['CLASSYFIRE_CLASS'] == 'UNKNOWN') &\n",
    "    (combined_df['CLASSYFIRE_SUBCLASS'] == 'UNKNOWN') &\n",
    "    (combined_df['NPCLASS_PATHWAY'] == 'UNKNOWN') &\n",
    "    (combined_df['NPCLASS_SUPERCLASS'] == 'UNKNOWN') &\n",
    "    (combined_df['NPCLASS_CLASS'] == 'UNKNOWN')\n",
    "    ]\n",
    "\n",
    "# Enregistrement du DataFrame filtré dans un nouveau fichier CSV\n",
    "filtered_output_file = r\"D:\\Axel\\PYTHON\\FragHub\\TOOLS\\check_ontologies_completion\\filtered_unknown.csv\"\n",
    "filtered_df.to_csv(filtered_output_file, sep=';', index=False)\n",
    "\n",
    "# Filtrage des INCHIKEY uniques\n",
    "unique_inchikeys_df = filtered_df.drop_duplicates(subset=['INCHIKEY'])\n",
    "\n",
    "# Enregistrement des lignes avec INCHIKEY uniques dans un nouveau fichier CSV\n",
    "unique_inchikeys_output_file = r\"D:\\Axel\\PYTHON\\FragHub\\TOOLS\\check_ontologies_completion\\unique_inchikeys.csv\"\n",
    "unique_inchikeys_df.to_csv(unique_inchikeys_output_file, sep=';', index=False)\n",
    "\n",
    "print(f\"Fichier CSV combiné sauvegardé sous: {output_file}\")\n",
    "print(f\"Fichier CSV filtré sauvegardé sous: {filtered_output_file}\")\n",
    "print(f\"Fichier CSV avec INCHIKEY uniques sauvegardé sous: {unique_inchikeys_output_file}\")\n"
   ],
   "id": "846d9bbf9cb212fa",
   "outputs": [],
   "execution_count": null
  }
 ],
 "metadata": {
  "kernelspec": {
   "display_name": "Python 3",
   "language": "python",
   "name": "python3"
  },
  "language_info": {
   "codemirror_mode": {
    "name": "ipython",
    "version": 2
   },
   "file_extension": ".py",
   "mimetype": "text/x-python",
   "name": "python",
   "nbconvert_exporter": "python",
   "pygments_lexer": "ipython2",
   "version": "2.7.6"
  }
 },
 "nbformat": 4,
 "nbformat_minor": 5
}
