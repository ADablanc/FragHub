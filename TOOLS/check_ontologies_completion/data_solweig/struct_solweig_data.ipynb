{
 "cells": [
  {
   "metadata": {},
   "cell_type": "code",
   "source": [
    "import os\n",
    "import pandas as pd\n",
    "\n",
    "# Chemin du dossier contenant les fichiers CSV\n",
    "dossier = r'D:\\Axel\\PYTHON\\FragHub\\TOOLS\\check_ontologies_completion\\data_solweig'\n",
    "\n",
    "# Lire tous les fichiers CSV dans le dossier\n",
    "csv_files = [f for f in os.listdir(dossier) if f.endswith('.csv')]\n",
    "\n",
    "# Liste pour stocker les DataFrames\n",
    "dfs = []\n",
    "\n",
    "# Lire chaque fichier CSV et l'ajouter à la liste\n",
    "for csv_file in csv_files:\n",
    "    path = os.path.join(dossier, csv_file)\n",
    "    df = pd.read_csv(path, sep=';')\n",
    "    dfs.append(df)\n",
    "\n",
    "# Faire un merge de tous les DataFrames sur la colonne 'INCHIKEY'\n",
    "merged_df = dfs[0]\n",
    "for df in dfs[1:]:\n",
    "    merged_df = pd.merge(merged_df, df, on='INCHIKEY', how='outer')\n",
    "\n",
    "# Remplir les valeurs manquantes avec 'UNKNOWN'\n",
    "merged_df.fillna('UNKNOWN', inplace=True)\n",
    "\n",
    "# Supprimer les duplicata basés sur la colonne 'INCHIKEY'\n",
    "merged_df.drop_duplicates(subset=['INCHIKEY'], inplace=True)\n",
    "\n",
    "# Chemin du fichier de sortie\n",
    "output_file = os.path.join(dossier, 'unique_inchikeys_merged.csv')\n",
    "\n",
    "# Enregistrer le DataFrame fusionné dans un fichier CSV\n",
    "merged_df.to_csv(output_file, sep=';', index=False)\n",
    "\n",
    "print(f\"La fusion des fichiers est terminée. Le fichier résultant est enregistré sous {output_file}.\")\n"
   ],
   "id": "776d8def1fd830fe",
   "outputs": [],
   "execution_count": null
  }
 ],
 "metadata": {
  "kernelspec": {
   "display_name": "Python 3",
   "language": "python",
   "name": "python3"
  },
  "language_info": {
   "codemirror_mode": {
    "name": "ipython",
    "version": 2
   },
   "file_extension": ".py",
   "mimetype": "text/x-python",
   "name": "python",
   "nbconvert_exporter": "python",
   "pygments_lexer": "ipython2",
   "version": "2.7.6"
  }
 },
 "nbformat": 4,
 "nbformat_minor": 5
}
