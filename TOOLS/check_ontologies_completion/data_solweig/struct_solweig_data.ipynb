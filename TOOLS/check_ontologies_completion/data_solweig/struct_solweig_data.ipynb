{
 "cells": [
  {
   "metadata": {
    "ExecuteTime": {
     "end_time": "2024-11-19T09:29:34.117078Z",
     "start_time": "2024-11-19T09:29:30.074626Z"
    }
   },
   "cell_type": "code",
   "source": [
    "import os\n",
    "import pandas as pd\n",
    "\n",
    "# Chemin du dossier contenant les fichiers CSV\n",
    "dossier = r'D:\\Axel\\PYTHON\\FragHub\\TOOLS\\check_ontologies_completion\\data_solweig'\n",
    "\n",
    "# Lire tous les fichiers CSV dans le dossier, en excluant 'unique_inchikeys_merged.csv'\n",
    "csv_files = [f for f in os.listdir(dossier) if f.endswith('.csv') and \"unique_inchikeys_merged.csv\" not in f]\n",
    "print(csv_files)  # Vérifiez les fichiers trouvés\n",
    "\n",
    "# Liste pour stocker les DataFrames\n",
    "dfs = []\n",
    "\n",
    "# Lire chaque fichier CSV et l'ajouter à la liste\n",
    "for csv_file in csv_files:\n",
    "    path = os.path.join(dossier, csv_file)\n",
    "    try:\n",
    "        df = pd.read_csv(path, sep=';')\n",
    "        dfs.append(df)\n",
    "    except Exception as e:\n",
    "        print(f\"Erreur lors de la lecture du fichier {csv_file}: {e}\")\n",
    "\n",
    "# Fusionner les DataFrames sur la colonne 'INCHIKEY'\n",
    "if dfs:  # Vérifier qu'il y ait au moins un dataframe\n",
    "    merged_df = dfs[0]\n",
    "    for df in dfs[1:]:\n",
    "        merged_df = pd.merge(merged_df, df, on='INCHIKEY', how='outer')\n",
    "\n",
    "    # Remplir les valeurs manquantes\n",
    "    merged_df.fillna('UNKNOWN', inplace=True)\n",
    "\n",
    "    # Supprimer les duplicata\n",
    "    merged_df.drop_duplicates(subset=['INCHIKEY'], inplace=True)\n",
    "\n",
    "    # Enregistrer le DataFrame filtré fusionné dans un fichier CSV\n",
    "    output_file = os.path.join(dossier, 'unique_inchikeys_merged.csv')\n",
    "    merged_df.to_csv(output_file, sep=';', index=False)\n",
    "\n",
    "    print(f\"La fusion des fichiers est terminée. Le fichier résultant est enregistré sous {output_file}.\")\n",
    "else:\n",
    "    print(\"Aucun fichier CSV trouvé ou lu correctement.\")\n"
   ],
   "id": "776d8def1fd830fe",
   "outputs": [
    {
     "name": "stdout",
     "output_type": "stream",
     "text": [
      "['CLassyFireOutput.csv', 'NPClass070723.csv']\n",
      "La fusion des fichiers est terminée. Le fichier résultant est enregistré sous D:\\Axel\\PYTHON\\FragHub\\TOOLS\\check_ontologies_completion\\data_solweig\\unique_inchikeys_merged.csv.\n"
     ]
    }
   ],
   "execution_count": 5
  }
 ],
 "metadata": {
  "kernelspec": {
   "display_name": "Python 3",
   "language": "python",
   "name": "python3"
  },
  "language_info": {
   "codemirror_mode": {
    "name": "ipython",
    "version": 2
   },
   "file_extension": ".py",
   "mimetype": "text/x-python",
   "name": "python",
   "nbconvert_exporter": "python",
   "pygments_lexer": "ipython2",
   "version": "2.7.6"
  }
 },
 "nbformat": 4,
 "nbformat_minor": 5
}
