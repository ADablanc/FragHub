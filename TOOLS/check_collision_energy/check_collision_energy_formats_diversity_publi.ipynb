{
 "cells": [
  {
   "cell_type": "code",
   "id": "initial_id",
   "metadata": {
    "collapsed": true
   },
   "source": [
    "import pandas as pd\n",
    "import os\n",
    "import re"
   ],
   "outputs": [],
   "execution_count": null
  },
  {
   "metadata": {},
   "cell_type": "code",
   "source": "DF = pd.read_excel(r\"C:\\Users\\Axel\\Documents\\PYTHON\\FragHub\\TOOLS\\check_collision_energy\\collision_energy_formats_diversity.xlsx\")",
   "id": "5f45fe8b87830d25",
   "outputs": [],
   "execution_count": null
  },
  {
   "metadata": {},
   "cell_type": "code",
   "source": "DF",
   "id": "d7975c0ff91a95df",
   "outputs": [],
   "execution_count": null
  },
  {
   "metadata": {},
   "cell_type": "code",
   "source": [
    "matches = DF[DF['COLLISIONENERGY'].astype(str).str.contains(r'\\d*\\s*\\(NCE\\)', na=False, regex=True)]\n",
    "\n",
    "if len(matches.index) > 1:\n",
    "    DF.drop(matches.index[1:], inplace=True)"
   ],
   "id": "1f5b039dc16d15dc",
   "outputs": [],
   "execution_count": null
  },
  {
   "metadata": {},
   "cell_type": "code",
   "source": [
    "matches = DF[DF['COLLISIONENERGY'].astype(str).str.contains(r'^\\d*(\\s+)?eV$', na=False, regex=True)]\n",
    "\n",
    "if len(matches.index) > 1:\n",
    "    DF.drop(matches.index[1:], inplace=True)"
   ],
   "id": "1f522ac3a6df4574",
   "outputs": [],
   "execution_count": null
  },
  {
   "metadata": {},
   "cell_type": "code",
   "source": [
    "matches = DF[DF['COLLISIONENERGY'].astype(str).str.contains(r'^\\d*(\\s+)?V$', na=False, regex=True)]\n",
    "\n",
    "if len(matches.index) > 1:\n",
    "    DF.drop(matches.index[1:], inplace=True)"
   ],
   "id": "c59ac39a46e105ab",
   "outputs": [],
   "execution_count": null
  },
  {
   "metadata": {},
   "cell_type": "code",
   "source": [
    "matches = DF[DF['COLLISIONENERGY'].astype(str).str.contains(r'^Ramp [-+]?[0-9]*\\.?[0-9]+([eE][-+]?[0-9]+)?-[-+]?[0-9]*\\.?[0-9]+([eE][-+]?[0-9]+)? eV$', na=False, regex=True)]\n",
    "\n",
    "if len(matches.index) > 1:\n",
    "    DF.drop(matches.index[1:], inplace=True)"
   ],
   "id": "a1e0a76ac4f59cfb",
   "outputs": [],
   "execution_count": null
  },
  {
   "metadata": {},
   "cell_type": "code",
   "source": [
    "matches = DF[DF['COLLISIONENERGY'].astype(str).str.contains(r'^[-+]?[0-9]*\\.?[0-9]+([eE][-+]?[0-9]+)?eV$', na=False, regex=True)]\n",
    "\n",
    "if len(matches.index) > 1:\n",
    "    DF.drop(matches.index[1:], inplace=True)"
   ],
   "id": "fb609a0542babfef",
   "outputs": [],
   "execution_count": null
  },
  {
   "metadata": {},
   "cell_type": "code",
   "source": [
    "matches = DF[DF['COLLISIONENERGY'].astype(str).str.contains(r'^[-+]?[0-9]*\\.?[0-9]+([eE][-+]?[0-9]+)?$', na=False, regex=True)]\n",
    "\n",
    "if len(matches.index) > 1:\n",
    "    DF.drop(matches.index[1:], inplace=True)"
   ],
   "id": "cee47e756502cc7e",
   "outputs": [],
   "execution_count": null
  },
  {
   "metadata": {},
   "cell_type": "code",
   "source": [
    "matches = DF[DF['COLLISIONENERGY'].astype(str).str.contains(r'^\\d+(\\s+)?\\(nominal\\)$', na=False, regex=True)]\n",
    "\n",
    "if len(matches.index) > 1:\n",
    "    DF.drop(matches.index[1:], inplace=True)"
   ],
   "id": "cddbb00ae7f27f90",
   "outputs": [],
   "execution_count": null
  },
  {
   "metadata": {},
   "cell_type": "code",
   "source": [
    "matches = DF[DF['COLLISIONENERGY'].astype(str).str.contains(r'^\\d+(\\s+)?\\%(\\s+)?\\(nominal\\)$', na=False, regex=True)]\n",
    "\n",
    "if len(matches.index) > 1:\n",
    "    DF.drop(matches.index[1:], inplace=True)"
   ],
   "id": "a7b67d695779b5b7",
   "outputs": [],
   "execution_count": null
  },
  {
   "metadata": {},
   "cell_type": "code",
   "source": [
    "matches = DF[DF['COLLISIONENERGY'].astype(str).str.contains(r'^\\d* NCE$', na=False, regex=True)]\n",
    "\n",
    "if len(matches.index) > 1:\n",
    "    DF.drop(matches.index[1:], inplace=True)"
   ],
   "id": "ba75878ca9e72d42",
   "outputs": [],
   "execution_count": null
  },
  {
   "metadata": {},
   "cell_type": "code",
   "source": [
    "matches = DF[DF['COLLISIONENERGY'].astype(str).str.contains(r'^\\d*HCD$', na=False, regex=True)]\n",
    "\n",
    "if len(matches.index) > 1:\n",
    "    DF.drop(matches.index[1:], inplace=True)"
   ],
   "id": "5e5ce3ab4a73b819",
   "outputs": [],
   "execution_count": null
  },
  {
   "metadata": {},
   "cell_type": "code",
   "source": [
    "matches = DF[DF['COLLISIONENERGY'].astype(str).str.contains(r'^RAMP [-+]?[0-9]*\\.?[0-9]+([eE][-+]?[0-9]+)?-[-+]?[0-9]*\\.?[0-9]+([eE][-+]?[0-9]+)? eV$', na=False, regex=True)]\n",
    "\n",
    "if len(matches.index) > 1:\n",
    "    DF.drop(matches.index[1:], inplace=True)"
   ],
   "id": "841f4fa03ee71518",
   "outputs": [],
   "execution_count": null
  },
  {
   "metadata": {},
   "cell_type": "code",
   "source": [
    "matches = DF[DF['COLLISIONENERGY'].astype(str).str.contains(r'^[-+]?[0-9]*\\.?[0-9]+([eE][-+]?[0-9]+)?(\\s+)?V$', na=False, regex=True)]\n",
    "\n",
    "if len(matches.index) > 1:\n",
    "    DF.drop(matches.index[1:], inplace=True)"
   ],
   "id": "8518e7155c1e7c7e",
   "outputs": [],
   "execution_count": null
  },
  {
   "metadata": {},
   "cell_type": "code",
   "source": [
    "matches = DF[DF['COLLISIONENERGY'].astype(str).str.contains(r'^\\d*(\\s+)?(HCD|CID)$', na=False, regex=True)]\n",
    "\n",
    "if len(matches.index) > 1:\n",
    "    DF.drop(matches.index[1:], inplace=True)"
   ],
   "id": "b001b331989e7dc5",
   "outputs": [],
   "execution_count": null
  },
  {
   "metadata": {},
   "cell_type": "code",
   "source": [
    "matches = DF[DF['COLLISIONENERGY'].astype(str).str.contains(r'^[-+]?[0-9]*\\.?[0-9]+([eE][-+]?[0-9]+)?(\\s+)?(NCE|eV)$', na=False, regex=True)]\n",
    "\n",
    "if len(matches.index) > 1:\n",
    "    DF.drop(matches.index[1:], inplace=True)"
   ],
   "id": "4fa75bf0504fedab",
   "outputs": [],
   "execution_count": null
  },
  {
   "metadata": {},
   "cell_type": "code",
   "source": [
    "matches = DF[DF['COLLISIONENERGY'].astype(str).str.contains(r'^\\d*(\\s+)?%$', na=False, regex=True)]\n",
    "\n",
    "if len(matches.index) > 1:\n",
    "    DF.drop(matches.index[1:], inplace=True)"
   ],
   "id": "d3d5f14c49688e51",
   "outputs": [],
   "execution_count": null
  },
  {
   "metadata": {},
   "cell_type": "code",
   "source": [
    "matches = DF[DF['COLLISIONENERGY'].astype(str).str.contains(r'^[-+]?[0-9]*\\.?[0-9]+([eE][-+]?[0-9]+)?/[-+]?[0-9]*\\.?[0-9]+([eE][-+]?[0-9]+)?(/[-+]?[0-9]*\\.?[0-9]+([eE][-+]?[0-9]+)?)?', na=False, regex=True)]\n",
    "\n",
    "if len(matches.index) > 1:\n",
    "    DF.drop(matches.index[1:], inplace=True)"
   ],
   "id": "8935bb80c0530eca",
   "outputs": [],
   "execution_count": null
  },
  {
   "metadata": {},
   "cell_type": "code",
   "source": [
    "matches = DF[DF['COLLISIONENERGY'].astype(str).str.contains(r'^[-+]?[0-9]*\\.?[0-9]+([eE][-+]?[0-9]+)?->[-+]?[0-9]*\\.?[0-9]+([eE][-+]?[0-9]+)?(\\s+)?(V|eV|%)', na=False, regex=True)]\n",
    "\n",
    "if len(matches.index) > 1:\n",
    "    DF.drop(matches.index[1:], inplace=True)"
   ],
   "id": "6f432cab17b9a90d",
   "outputs": [],
   "execution_count": null
  },
  {
   "metadata": {},
   "cell_type": "code",
   "source": "DF",
   "id": "c07672e0a89ae451",
   "outputs": [],
   "execution_count": null
  },
  {
   "metadata": {},
   "cell_type": "code",
   "source": "print(len(DF))",
   "id": "194f9545a828b73c",
   "outputs": [],
   "execution_count": null
  },
  {
   "metadata": {},
   "cell_type": "code",
   "source": "",
   "id": "3a7963914fbe391c",
   "outputs": [],
   "execution_count": null
  }
 ],
 "metadata": {
  "kernelspec": {
   "display_name": "Python 3",
   "language": "python",
   "name": "python3"
  },
  "language_info": {
   "codemirror_mode": {
    "name": "ipython",
    "version": 2
   },
   "file_extension": ".py",
   "mimetype": "text/x-python",
   "name": "python",
   "nbconvert_exporter": "python",
   "pygments_lexer": "ipython2",
   "version": "2.7.6"
  }
 },
 "nbformat": 4,
 "nbformat_minor": 5
}
