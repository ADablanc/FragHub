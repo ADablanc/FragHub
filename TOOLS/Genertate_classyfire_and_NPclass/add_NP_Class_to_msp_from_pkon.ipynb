{
 "cells": [
  {
   "cell_type": "code",
   "id": "initial_id",
   "metadata": {
    "collapsed": true
   },
   "source": [
    "import pandas as pd"
   ],
   "outputs": [],
   "execution_count": null
  },
  {
   "cell_type": "markdown",
   "source": [
    "Ouvrire le fichier de pharmakon"
   ],
   "metadata": {
    "collapsed": false
   },
   "id": "4e52d124f9515630"
  },
  {
   "cell_type": "code",
   "source": "PKON_file = r\"C:\\Users\\Axel\\Documents\\Présentations\\FragBank\\Publication\\Diagrammes\\Sunburst\\NCPclass290623.xlsx\"",
   "metadata": {
    "collapsed": false
   },
   "id": "28f84afa21cc357e",
   "outputs": [],
   "execution_count": null
  },
  {
   "cell_type": "code",
   "source": [
    "pkon_df = pd.read_excel(PKON_file)"
   ],
   "metadata": {
    "collapsed": false
   },
   "id": "d8c6d671e8a9c143",
   "outputs": [],
   "execution_count": null
  },
  {
   "cell_type": "markdown",
   "source": [
    "Ne récupérer que les colonnes INCHIKEY; CLASSYFIRE_CLASS et CLASSYFIRE_SUBCLASS du fichier de pkon"
   ],
   "metadata": {
    "collapsed": false
   },
   "id": "4eb6029b32a23e11"
  },
  {
   "cell_type": "code",
   "source": "nouveau_df = pkon_df[['inchikey', 'smiles', 'PathwayNP', 'SuperClassNP', 'ClassNP']]",
   "metadata": {
    "collapsed": false
   },
   "id": "a0c46d3e0d9c5623",
   "outputs": [],
   "execution_count": null
  },
  {
   "cell_type": "code",
   "source": [
    "nouveau_df = nouveau_df.rename(columns={'smiles': 'SMILES'})\n",
    "nouveau_df = nouveau_df.rename(columns={'inchikey': 'INCHIKEY'})"
   ],
   "metadata": {
    "collapsed": false
   },
   "id": "5b75d0248376cd6",
   "outputs": [],
   "execution_count": null
  },
  {
   "cell_type": "code",
   "source": "nouveau_df['SMILES'] = nouveau_df['SMILES'].astype(str)",
   "metadata": {
    "collapsed": false
   },
   "id": "a52c673c9cf06bfb",
   "outputs": [],
   "execution_count": null
  },
  {
   "cell_type": "markdown",
   "source": [
    "ne récupérer que les short InChiKey"
   ],
   "metadata": {
    "collapsed": false
   },
   "id": "1b6190f5e7877c0e"
  },
  {
   "cell_type": "code",
   "source": [
    "# nouveau_df['INCHIKEY'] = nouveau_df['INCHIKEY'].apply(lambda x: x.split('-')[0] if x is not None else None)"
   ],
   "metadata": {
    "collapsed": false
   },
   "id": "e0a59dd17a7fbd9e",
   "outputs": [],
   "execution_count": null
  },
  {
   "cell_type": "code",
   "source": "nouveau_df.head() # Affiche pour vérification",
   "metadata": {
    "collapsed": false
   },
   "id": "4276c30d18b64fe4",
   "outputs": [],
   "execution_count": null
  },
  {
   "cell_type": "markdown",
   "source": [
    "Ouvrire mon fichier où nous avons l'ensemble des InChiKey de nos bases de données"
   ],
   "metadata": {
    "collapsed": false
   },
   "id": "e096a95a554b138a"
  },
  {
   "cell_type": "code",
   "source": [
    "MSP_file = r\"C:\\Users\\Axel\\Documents\\Présentations\\FragBank\\Publication\\Diagrammes\\FragBank_CLEAN\\DB_Janvier_2024\\CSV\\ALL_DB_SMILES.xlsx\""
   ],
   "metadata": {
    "collapsed": false
   },
   "id": "ed7de222e258f230",
   "outputs": [],
   "execution_count": null
  },
  {
   "cell_type": "code",
   "source": [
    "MSP_df = pd.read_excel(MSP_file)"
   ],
   "metadata": {
    "collapsed": false
   },
   "id": "d5da999a9e793da0",
   "outputs": [],
   "execution_count": null
  },
  {
   "cell_type": "code",
   "source": [
    "MSP_df['SMILES'] = MSP_df['SMILES'].astype(str)"
   ],
   "metadata": {
    "collapsed": false
   },
   "id": "f42d84cee383022",
   "outputs": [],
   "execution_count": null
  },
  {
   "cell_type": "markdown",
   "source": [
    "N'en récupérer égakement que les short InChiKey"
   ],
   "metadata": {
    "collapsed": false
   },
   "id": "1a00772676090d43"
  },
  {
   "cell_type": "code",
   "source": [
    "# MSP_df['INCHIKEY'] = MSP_df['INCHIKEY'].apply(lambda x: x.split('-')[0] if x is not None else None)"
   ],
   "metadata": {
    "collapsed": false
   },
   "id": "1934af0e844913b1",
   "outputs": [],
   "execution_count": null
  },
  {
   "cell_type": "code",
   "source": [
    "MSP_df.head() # Affichage pour vérification"
   ],
   "metadata": {
    "collapsed": false
   },
   "id": "9ee2dfb41892f905",
   "outputs": [],
   "execution_count": null
  },
  {
   "cell_type": "markdown",
   "source": [
    "On complète nos InChiKey de nos bases de données avec les classyfire de PKON23"
   ],
   "metadata": {
    "collapsed": false
   },
   "id": "c50bdc77aa69b353"
  },
  {
   "cell_type": "code",
   "source": [],
   "metadata": {
    "collapsed": false
   },
   "id": "6df3dc16c27af24c",
   "outputs": [],
   "execution_count": null
  },
  {
   "cell_type": "code",
   "source": [
    "MSP_df = MSP_df.merge(nouveau_df[['INCHIKEY', 'SMILES', 'PathwayNP', 'SuperClassNP', 'ClassNP']], on=['SMILES', 'INCHIKEY'], how='left')"
   ],
   "metadata": {
    "collapsed": false
   },
   "id": "904a71981a62aa77",
   "outputs": [],
   "execution_count": null
  },
  {
   "cell_type": "code",
   "source": [
    "MSP_df = MSP_df.drop_duplicates(subset='SMILES', keep='first')"
   ],
   "metadata": {
    "collapsed": false
   },
   "id": "ff9c2356a9115647",
   "outputs": [],
   "execution_count": null
  },
  {
   "cell_type": "code",
   "source": [
    "MSP_df.head() # Affichage pour vérification"
   ],
   "metadata": {
    "collapsed": false
   },
   "id": "5a972ca93eeb0a6d",
   "outputs": [],
   "execution_count": null
  },
  {
   "cell_type": "markdown",
   "source": [
    "On enregistre ce DF là"
   ],
   "metadata": {
    "collapsed": false
   },
   "id": "611870ccc220cd34"
  },
  {
   "cell_type": "code",
   "source": [
    "MSP_df.to_excel(r\"C:\\Users\\Axel\\Documents\\Présentations\\FragBank\\Publication\\Diagrammes\\Sunburst\\MSP_smiles_npclass.xlsx\", index=False)"
   ],
   "metadata": {
    "collapsed": false
   },
   "id": "4ff0b5944f4129bc",
   "outputs": [],
   "execution_count": null
  },
  {
   "cell_type": "code",
   "source": [
    "null_df = MSP_df[MSP_df['PathwayNP'].isnull()] # NULL"
   ],
   "metadata": {
    "collapsed": false
   },
   "id": "2a72f1807e38875c",
   "outputs": [],
   "execution_count": null
  },
  {
   "cell_type": "code",
   "source": [
    "null_df = null_df.drop_duplicates(subset='SMILES', keep='first')"
   ],
   "metadata": {
    "collapsed": false
   },
   "id": "fe17b4db7621da1b",
   "outputs": [],
   "execution_count": null
  },
  {
   "cell_type": "markdown",
   "source": [
    "ici on enregistre le DF des short InChikey qui n'ont aucune information de classification taxonomique ==> c'est celui-ci que l'on utilise pour l'interrogation API de Classyfire"
   ],
   "metadata": {
    "collapsed": false
   },
   "id": "dd26c7efb1985627"
  },
  {
   "cell_type": "code",
   "source": [
    "null_df.to_excel(r\"C:\\Users\\Axel\\Documents\\Présentations\\FragBank\\Publication\\Diagrammes\\Sunburst\\MSP_smiles_npclass_null.xlsx\", index=False)"
   ],
   "metadata": {
    "collapsed": false
   },
   "id": "6da49bfd53f789e6",
   "outputs": [],
   "execution_count": null
  },
  {
   "cell_type": "code",
   "source": [
    "print(len(null_df))"
   ],
   "metadata": {
    "collapsed": false
   },
   "id": "675ce21a7a1e3e1b",
   "outputs": [],
   "execution_count": null
  },
  {
   "cell_type": "markdown",
   "source": [
    "Juste pour voir ce qu'on à réussi à récupérer de PKON 23"
   ],
   "metadata": {
    "collapsed": false
   },
   "id": "2cdcb10d183bcb"
  },
  {
   "cell_type": "code",
   "source": [
    "not_null_df = MSP_df[~MSP_df['PathwayNP'].isnull()] # NOT NULL"
   ],
   "metadata": {
    "collapsed": false
   },
   "id": "fad1daab9dcdfbcb",
   "outputs": [],
   "execution_count": null
  },
  {
   "cell_type": "code",
   "source": [
    "print(len(not_null_df))"
   ],
   "metadata": {
    "collapsed": false
   },
   "id": "45a91560078505eb",
   "outputs": [],
   "execution_count": null
  },
  {
   "cell_type": "code",
   "source": [
    "not_null_df.to_excel(r\"C:\\Users\\Axel\\Documents\\Présentations\\FragBank\\Publication\\Diagrammes\\Sunburst\\MSP_smiles_npclass_not_null.xlsx\", index=False)"
   ],
   "metadata": {
    "collapsed": false
   },
   "id": "853e79478adffb3d",
   "outputs": [],
   "execution_count": null
  }
 ],
 "metadata": {
  "kernelspec": {
   "display_name": "Python 3",
   "language": "python",
   "name": "python3"
  },
  "language_info": {
   "codemirror_mode": {
    "name": "ipython",
    "version": 2
   },
   "file_extension": ".py",
   "mimetype": "text/x-python",
   "name": "python",
   "nbconvert_exporter": "python",
   "pygments_lexer": "ipython2",
   "version": "2.7.6"
  }
 },
 "nbformat": 4,
 "nbformat_minor": 5
}
