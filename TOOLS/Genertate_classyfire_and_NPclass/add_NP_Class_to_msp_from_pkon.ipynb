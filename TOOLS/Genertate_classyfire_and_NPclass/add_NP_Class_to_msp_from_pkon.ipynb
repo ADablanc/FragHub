{
 "cells": [
  {
   "cell_type": "code",
   "execution_count": 1,
   "id": "initial_id",
   "metadata": {
    "collapsed": true,
    "ExecuteTime": {
     "end_time": "2024-02-01T14:48:50.048753600Z",
     "start_time": "2024-02-01T14:48:49.682501600Z"
    }
   },
   "outputs": [],
   "source": [
    "import pandas as pd"
   ]
  },
  {
   "cell_type": "markdown",
   "source": [
    "Ouvrire le fichier de pharmakon"
   ],
   "metadata": {
    "collapsed": false
   },
   "id": "4e52d124f9515630"
  },
  {
   "cell_type": "code",
   "execution_count": 2,
   "outputs": [],
   "source": [
    "PKON_file = r\"C:\\Users\\Axel\\Documents\\Présentations\\FragBank\\Publication\\Diagrammes\\Sunburst\\NCPclass290623.xlsx\""
   ],
   "metadata": {
    "collapsed": false,
    "ExecuteTime": {
     "end_time": "2024-02-01T14:48:50.054039100Z",
     "start_time": "2024-02-01T14:48:50.048753600Z"
    }
   },
   "id": "28f84afa21cc357e"
  },
  {
   "cell_type": "code",
   "outputs": [],
   "source": [
    "pkon_df = pd.read_excel(PKON_file)"
   ],
   "metadata": {
    "collapsed": false,
    "ExecuteTime": {
     "end_time": "2024-02-01T14:49:39.866706900Z",
     "start_time": "2024-02-01T14:48:50.052484300Z"
    }
   },
   "id": "d8c6d671e8a9c143",
   "execution_count": 3
  },
  {
   "cell_type": "markdown",
   "source": [
    "Ne récupérer que les colonnes INCHIKEY; CLASSYFIRE_CLASS et CLASSYFIRE_SUBCLASS du fichier de pkon"
   ],
   "metadata": {
    "collapsed": false
   },
   "id": "4eb6029b32a23e11"
  },
  {
   "cell_type": "code",
   "execution_count": 4,
   "outputs": [],
   "source": [
    "nouveau_df = pkon_df[['smiles', 'PathwayNP', 'SuperClassNP', 'SuperClassNP']]"
   ],
   "metadata": {
    "collapsed": false,
    "ExecuteTime": {
     "end_time": "2024-02-01T14:49:39.897338900Z",
     "start_time": "2024-02-01T14:49:39.865687800Z"
    }
   },
   "id": "a0c46d3e0d9c5623"
  },
  {
   "cell_type": "code",
   "outputs": [],
   "source": [
    "nouveau_df = nouveau_df.rename(columns={'smiles': 'SMILES'})"
   ],
   "metadata": {
    "collapsed": false,
    "ExecuteTime": {
     "end_time": "2024-02-01T14:49:39.943581600Z",
     "start_time": "2024-02-01T14:49:39.894956300Z"
    }
   },
   "id": "5b75d0248376cd6",
   "execution_count": 5
  },
  {
   "cell_type": "code",
   "execution_count": 6,
   "outputs": [],
   "source": [
    "nouveau_df['SMILES'] = nouveau_df['SMILES'].astype(str)"
   ],
   "metadata": {
    "collapsed": false,
    "ExecuteTime": {
     "end_time": "2024-02-01T14:49:39.989211600Z",
     "start_time": "2024-02-01T14:49:39.943640300Z"
    }
   },
   "id": "a52c673c9cf06bfb"
  },
  {
   "cell_type": "markdown",
   "source": [
    "ne récupérer que les short InChiKey"
   ],
   "metadata": {
    "collapsed": false
   },
   "id": "1b6190f5e7877c0e"
  },
  {
   "cell_type": "code",
   "execution_count": 7,
   "outputs": [],
   "source": [
    "# nouveau_df['INCHIKEY'] = nouveau_df['INCHIKEY'].apply(lambda x: x.split('-')[0] if x is not None else None)"
   ],
   "metadata": {
    "collapsed": false,
    "ExecuteTime": {
     "end_time": "2024-02-01T14:49:39.995846100Z",
     "start_time": "2024-02-01T14:49:39.989211600Z"
    }
   },
   "id": "e0a59dd17a7fbd9e"
  },
  {
   "cell_type": "code",
   "execution_count": 8,
   "outputs": [
    {
     "data": {
      "text/plain": "                                              SMILES  \\\n0   Cc1cc(OC2OC(CO)C(O)C(O)C2O)c2c3c(c(=O)oc2c1)CCC3   \n1  COC(=O)CC(c1ccccc1)c1c(O)cc(O)c2c(=O)cc(-c3ccc...   \n2  C=C1C[C@](OC)([C@H](O)C(O)=N[C@H]2OCO[C@@H]3[C...   \n3  C=C1C[C@](OC)([C@H](O)C(O)=N[C@H]2OCO[C@H]3[C@...   \n4  C=C1CC(OC)(C(O)C(O)=NC2OCO[C@H]3C2O[C@H](C[C@@...   \n\n                         PathwayNP        SuperClassNP        SuperClassNP  \n0  Shikimates and Phenylpropanoids           Coumarins           Coumarins  \n1  Shikimates and Phenylpropanoids          Flavonoids          Flavonoids  \n2                      Polyketides  Linear polyketides  Linear polyketides  \n3                      Polyketides  Linear polyketides  Linear polyketides  \n4                      Polyketides  Linear polyketides  Linear polyketides  ",
      "text/html": "<div>\n<style scoped>\n    .dataframe tbody tr th:only-of-type {\n        vertical-align: middle;\n    }\n\n    .dataframe tbody tr th {\n        vertical-align: top;\n    }\n\n    .dataframe thead th {\n        text-align: right;\n    }\n</style>\n<table border=\"1\" class=\"dataframe\">\n  <thead>\n    <tr style=\"text-align: right;\">\n      <th></th>\n      <th>SMILES</th>\n      <th>PathwayNP</th>\n      <th>SuperClassNP</th>\n      <th>SuperClassNP</th>\n    </tr>\n  </thead>\n  <tbody>\n    <tr>\n      <th>0</th>\n      <td>Cc1cc(OC2OC(CO)C(O)C(O)C2O)c2c3c(c(=O)oc2c1)CCC3</td>\n      <td>Shikimates and Phenylpropanoids</td>\n      <td>Coumarins</td>\n      <td>Coumarins</td>\n    </tr>\n    <tr>\n      <th>1</th>\n      <td>COC(=O)CC(c1ccccc1)c1c(O)cc(O)c2c(=O)cc(-c3ccc...</td>\n      <td>Shikimates and Phenylpropanoids</td>\n      <td>Flavonoids</td>\n      <td>Flavonoids</td>\n    </tr>\n    <tr>\n      <th>2</th>\n      <td>C=C1C[C@](OC)([C@H](O)C(O)=N[C@H]2OCO[C@@H]3[C...</td>\n      <td>Polyketides</td>\n      <td>Linear polyketides</td>\n      <td>Linear polyketides</td>\n    </tr>\n    <tr>\n      <th>3</th>\n      <td>C=C1C[C@](OC)([C@H](O)C(O)=N[C@H]2OCO[C@H]3[C@...</td>\n      <td>Polyketides</td>\n      <td>Linear polyketides</td>\n      <td>Linear polyketides</td>\n    </tr>\n    <tr>\n      <th>4</th>\n      <td>C=C1CC(OC)(C(O)C(O)=NC2OCO[C@H]3C2O[C@H](C[C@@...</td>\n      <td>Polyketides</td>\n      <td>Linear polyketides</td>\n      <td>Linear polyketides</td>\n    </tr>\n  </tbody>\n</table>\n</div>"
     },
     "execution_count": 8,
     "metadata": {},
     "output_type": "execute_result"
    }
   ],
   "source": [
    "nouveau_df.head() # Affiche pour vérification"
   ],
   "metadata": {
    "collapsed": false,
    "ExecuteTime": {
     "end_time": "2024-02-01T14:49:40.093739900Z",
     "start_time": "2024-02-01T14:49:39.993496900Z"
    }
   },
   "id": "4276c30d18b64fe4"
  },
  {
   "cell_type": "markdown",
   "source": [
    "Ouvrire mon fichier où nous avons l'ensemble des InChiKey de nos bases de données"
   ],
   "metadata": {
    "collapsed": false
   },
   "id": "e096a95a554b138a"
  },
  {
   "cell_type": "code",
   "execution_count": 9,
   "outputs": [],
   "source": [
    "MSP_file = r\"C:\\Users\\Axel\\Documents\\Présentations\\FragBank\\Publication\\Diagrammes\\FragBank_CLEAN\\DB_Janvier_2024\\CSV\\ALL_DB_SMILES.xlsx\""
   ],
   "metadata": {
    "collapsed": false,
    "ExecuteTime": {
     "end_time": "2024-02-01T14:49:40.093739900Z",
     "start_time": "2024-02-01T14:49:40.089388800Z"
    }
   },
   "id": "ed7de222e258f230"
  },
  {
   "cell_type": "code",
   "execution_count": 10,
   "outputs": [],
   "source": [
    "MSP_df = pd.read_excel(MSP_file)"
   ],
   "metadata": {
    "collapsed": false,
    "ExecuteTime": {
     "end_time": "2024-02-01T14:49:41.384608500Z",
     "start_time": "2024-02-01T14:49:40.093739900Z"
    }
   },
   "id": "d5da999a9e793da0"
  },
  {
   "cell_type": "code",
   "execution_count": 11,
   "outputs": [],
   "source": [
    "MSP_df['SMILES'] = MSP_df['SMILES'].astype(str)"
   ],
   "metadata": {
    "collapsed": false,
    "ExecuteTime": {
     "end_time": "2024-02-01T14:49:41.392793800Z",
     "start_time": "2024-02-01T14:49:41.383583200Z"
    }
   },
   "id": "f42d84cee383022"
  },
  {
   "cell_type": "markdown",
   "source": [
    "N'en récupérer égakement que les short InChiKey"
   ],
   "metadata": {
    "collapsed": false
   },
   "id": "1a00772676090d43"
  },
  {
   "cell_type": "code",
   "execution_count": 12,
   "outputs": [],
   "source": [
    "# MSP_df['INCHIKEY'] = MSP_df['INCHIKEY'].apply(lambda x: x.split('-')[0] if x is not None else None)"
   ],
   "metadata": {
    "collapsed": false,
    "ExecuteTime": {
     "end_time": "2024-02-01T14:49:41.418335400Z",
     "start_time": "2024-02-01T14:49:41.390669400Z"
    }
   },
   "id": "1934af0e844913b1"
  },
  {
   "cell_type": "code",
   "execution_count": 13,
   "outputs": [
    {
     "data": {
      "text/plain": "   FILENAME  PREDICTED                                             SMILES\n0  MassBank      False  CC1=C[C@H]2O[C@@H]3[C@H](O[C@@H]4O[C@H](CO)[C@...\n1  MassBank      False             CC(=O)[C@@H](C)c1c(C)c(O)c(C)c(O)c1C=O\n2  MassBank      False  COc1cc(O)c2c(O)c3c(c4c2c1[C@]1(C4)C(C)=CCCC1(C...\n3  MassBank      False  COC1=CC(=O)c2c(O)c3c(c(O)c2C1=O)CC1(C)OC(C(=O)...\n4  MassBank      False  CC1=C[C@H]2O[C@@H]3[C@H](O[C@@H]4O[C@H](C(=O)O...",
      "text/html": "<div>\n<style scoped>\n    .dataframe tbody tr th:only-of-type {\n        vertical-align: middle;\n    }\n\n    .dataframe tbody tr th {\n        vertical-align: top;\n    }\n\n    .dataframe thead th {\n        text-align: right;\n    }\n</style>\n<table border=\"1\" class=\"dataframe\">\n  <thead>\n    <tr style=\"text-align: right;\">\n      <th></th>\n      <th>FILENAME</th>\n      <th>PREDICTED</th>\n      <th>SMILES</th>\n    </tr>\n  </thead>\n  <tbody>\n    <tr>\n      <th>0</th>\n      <td>MassBank</td>\n      <td>False</td>\n      <td>CC1=C[C@H]2O[C@@H]3[C@H](O[C@@H]4O[C@H](CO)[C@...</td>\n    </tr>\n    <tr>\n      <th>1</th>\n      <td>MassBank</td>\n      <td>False</td>\n      <td>CC(=O)[C@@H](C)c1c(C)c(O)c(C)c(O)c1C=O</td>\n    </tr>\n    <tr>\n      <th>2</th>\n      <td>MassBank</td>\n      <td>False</td>\n      <td>COc1cc(O)c2c(O)c3c(c4c2c1[C@]1(C4)C(C)=CCCC1(C...</td>\n    </tr>\n    <tr>\n      <th>3</th>\n      <td>MassBank</td>\n      <td>False</td>\n      <td>COC1=CC(=O)c2c(O)c3c(c(O)c2C1=O)CC1(C)OC(C(=O)...</td>\n    </tr>\n    <tr>\n      <th>4</th>\n      <td>MassBank</td>\n      <td>False</td>\n      <td>CC1=C[C@H]2O[C@@H]3[C@H](O[C@@H]4O[C@H](C(=O)O...</td>\n    </tr>\n  </tbody>\n</table>\n</div>"
     },
     "execution_count": 13,
     "metadata": {},
     "output_type": "execute_result"
    }
   ],
   "source": [
    "MSP_df.head() # Affichage pour vérification"
   ],
   "metadata": {
    "collapsed": false,
    "ExecuteTime": {
     "end_time": "2024-02-01T14:49:41.432524500Z",
     "start_time": "2024-02-01T14:49:41.413040500Z"
    }
   },
   "id": "9ee2dfb41892f905"
  },
  {
   "cell_type": "markdown",
   "source": [
    "On complète nos InChiKey de nos bases de données avec les classyfire de PKON23"
   ],
   "metadata": {
    "collapsed": false
   },
   "id": "c50bdc77aa69b353"
  },
  {
   "cell_type": "code",
   "execution_count": 15,
   "outputs": [],
   "source": [
    "MSP_df = MSP_df.merge(nouveau_df[['SMILES', 'PathwayNP', 'SuperClassNP', 'SuperClassNP']], on='SMILES', how='left')"
   ],
   "metadata": {
    "collapsed": false,
    "ExecuteTime": {
     "end_time": "2024-02-01T14:50:17.023479Z",
     "start_time": "2024-02-01T14:50:16.697974500Z"
    }
   },
   "id": "904a71981a62aa77"
  },
  {
   "cell_type": "code",
   "execution_count": 16,
   "outputs": [],
   "source": [
    "MSP_df = MSP_df.drop_duplicates(subset='SMILES', keep='first')"
   ],
   "metadata": {
    "collapsed": false,
    "ExecuteTime": {
     "end_time": "2024-02-01T14:50:17.597585900Z",
     "start_time": "2024-02-01T14:50:17.574515200Z"
    }
   },
   "id": "ff9c2356a9115647"
  },
  {
   "cell_type": "code",
   "execution_count": 17,
   "outputs": [
    {
     "data": {
      "text/plain": "   FILENAME  PREDICTED                                             SMILES  \\\n0  MassBank      False  CC1=C[C@H]2O[C@@H]3[C@H](O[C@@H]4O[C@H](CO)[C@...   \n1  MassBank      False             CC(=O)[C@@H](C)c1c(C)c(O)c(C)c(O)c1C=O   \n2  MassBank      False  COc1cc(O)c2c(O)c3c(c4c2c1[C@]1(C4)C(C)=CCCC1(C...   \n3  MassBank      False  COC1=CC(=O)c2c(O)c3c(c(O)c2C1=O)CC1(C)OC(C(=O)...   \n4  MassBank      False  CC1=C[C@H]2O[C@@H]3[C@H](O[C@@H]4O[C@H](C(=O)O...   \n\n                PathwayNP                                  SuperClassNP  \\\n0                     NaN                                           NaN   \n1                     NaN                                           NaN   \n2  Polyketides|Terpenoids                   Naphthalenes|Meroterpenoids   \n3             Polyketides  Naphthalenes|Polycyclic aromatic polyketides   \n4                     NaN                                           NaN   \n\n                                   SuperClassNP  \\\n0                                           NaN   \n1                                           NaN   \n2                   Naphthalenes|Meroterpenoids   \n3  Naphthalenes|Polycyclic aromatic polyketides   \n4                                           NaN   \n\n                                   SuperClassNP  \\\n0                                           NaN   \n1                                           NaN   \n2                   Naphthalenes|Meroterpenoids   \n3  Naphthalenes|Polycyclic aromatic polyketides   \n4                                           NaN   \n\n                                   SuperClassNP  \n0                                           NaN  \n1                                           NaN  \n2                   Naphthalenes|Meroterpenoids  \n3  Naphthalenes|Polycyclic aromatic polyketides  \n4                                           NaN  ",
      "text/html": "<div>\n<style scoped>\n    .dataframe tbody tr th:only-of-type {\n        vertical-align: middle;\n    }\n\n    .dataframe tbody tr th {\n        vertical-align: top;\n    }\n\n    .dataframe thead th {\n        text-align: right;\n    }\n</style>\n<table border=\"1\" class=\"dataframe\">\n  <thead>\n    <tr style=\"text-align: right;\">\n      <th></th>\n      <th>FILENAME</th>\n      <th>PREDICTED</th>\n      <th>SMILES</th>\n      <th>PathwayNP</th>\n      <th>SuperClassNP</th>\n      <th>SuperClassNP</th>\n      <th>SuperClassNP</th>\n      <th>SuperClassNP</th>\n    </tr>\n  </thead>\n  <tbody>\n    <tr>\n      <th>0</th>\n      <td>MassBank</td>\n      <td>False</td>\n      <td>CC1=C[C@H]2O[C@@H]3[C@H](O[C@@H]4O[C@H](CO)[C@...</td>\n      <td>NaN</td>\n      <td>NaN</td>\n      <td>NaN</td>\n      <td>NaN</td>\n      <td>NaN</td>\n    </tr>\n    <tr>\n      <th>1</th>\n      <td>MassBank</td>\n      <td>False</td>\n      <td>CC(=O)[C@@H](C)c1c(C)c(O)c(C)c(O)c1C=O</td>\n      <td>NaN</td>\n      <td>NaN</td>\n      <td>NaN</td>\n      <td>NaN</td>\n      <td>NaN</td>\n    </tr>\n    <tr>\n      <th>2</th>\n      <td>MassBank</td>\n      <td>False</td>\n      <td>COc1cc(O)c2c(O)c3c(c4c2c1[C@]1(C4)C(C)=CCCC1(C...</td>\n      <td>Polyketides|Terpenoids</td>\n      <td>Naphthalenes|Meroterpenoids</td>\n      <td>Naphthalenes|Meroterpenoids</td>\n      <td>Naphthalenes|Meroterpenoids</td>\n      <td>Naphthalenes|Meroterpenoids</td>\n    </tr>\n    <tr>\n      <th>3</th>\n      <td>MassBank</td>\n      <td>False</td>\n      <td>COC1=CC(=O)c2c(O)c3c(c(O)c2C1=O)CC1(C)OC(C(=O)...</td>\n      <td>Polyketides</td>\n      <td>Naphthalenes|Polycyclic aromatic polyketides</td>\n      <td>Naphthalenes|Polycyclic aromatic polyketides</td>\n      <td>Naphthalenes|Polycyclic aromatic polyketides</td>\n      <td>Naphthalenes|Polycyclic aromatic polyketides</td>\n    </tr>\n    <tr>\n      <th>4</th>\n      <td>MassBank</td>\n      <td>False</td>\n      <td>CC1=C[C@H]2O[C@@H]3[C@H](O[C@@H]4O[C@H](C(=O)O...</td>\n      <td>NaN</td>\n      <td>NaN</td>\n      <td>NaN</td>\n      <td>NaN</td>\n      <td>NaN</td>\n    </tr>\n  </tbody>\n</table>\n</div>"
     },
     "execution_count": 17,
     "metadata": {},
     "output_type": "execute_result"
    }
   ],
   "source": [
    "MSP_df.head() # Affichage pour vérification"
   ],
   "metadata": {
    "collapsed": false,
    "ExecuteTime": {
     "end_time": "2024-02-01T14:50:18.476727100Z",
     "start_time": "2024-02-01T14:50:18.462380Z"
    }
   },
   "id": "5a972ca93eeb0a6d"
  },
  {
   "cell_type": "markdown",
   "source": [
    "On enregistre ce DF là"
   ],
   "metadata": {
    "collapsed": false
   },
   "id": "611870ccc220cd34"
  },
  {
   "cell_type": "code",
   "execution_count": 18,
   "outputs": [],
   "source": [
    "MSP_df.to_excel(r\"C:\\Users\\Axel\\Documents\\Présentations\\FragBank\\Publication\\Diagrammes\\Sunburst\\MSP_smiles_npclass.xlsx\", index=False)"
   ],
   "metadata": {
    "collapsed": false,
    "ExecuteTime": {
     "end_time": "2024-02-01T14:50:22.718504900Z",
     "start_time": "2024-02-01T14:50:19.417157Z"
    }
   },
   "id": "4ff0b5944f4129bc"
  },
  {
   "cell_type": "code",
   "execution_count": 19,
   "outputs": [],
   "source": [
    "null_df = MSP_df[MSP_df['PathwayNP'].isnull()] # NULL"
   ],
   "metadata": {
    "collapsed": false,
    "ExecuteTime": {
     "end_time": "2024-02-01T14:50:22.725991100Z",
     "start_time": "2024-02-01T14:50:22.720023200Z"
    }
   },
   "id": "2a72f1807e38875c"
  },
  {
   "cell_type": "code",
   "execution_count": 20,
   "outputs": [],
   "source": [
    "null_df = null_df.drop_duplicates(subset='SMILES', keep='first')"
   ],
   "metadata": {
    "collapsed": false,
    "ExecuteTime": {
     "end_time": "2024-02-01T14:50:22.745623300Z",
     "start_time": "2024-02-01T14:50:22.725991100Z"
    }
   },
   "id": "fe17b4db7621da1b"
  },
  {
   "cell_type": "markdown",
   "source": [
    "ici on enregistre le DF des short InChikey qui n'ont aucune information de classification taxonomique ==> c'est celui-ci que l'on utilise pour l'interrogation API de Classyfire"
   ],
   "metadata": {
    "collapsed": false
   },
   "id": "dd26c7efb1985627"
  },
  {
   "cell_type": "code",
   "execution_count": 21,
   "outputs": [],
   "source": [
    "null_df.to_excel(r\"C:\\Users\\Axel\\Documents\\Présentations\\FragBank\\Publication\\Diagrammes\\Sunburst\\MSP_smiles_npclass_null.xlsx\", index=False)"
   ],
   "metadata": {
    "collapsed": false,
    "ExecuteTime": {
     "end_time": "2024-02-01T14:50:24.588363800Z",
     "start_time": "2024-02-01T14:50:22.745623300Z"
    }
   },
   "id": "6da49bfd53f789e6"
  },
  {
   "cell_type": "code",
   "outputs": [
    {
     "name": "stdout",
     "output_type": "stream",
     "text": [
      "25333\n"
     ]
    }
   ],
   "source": [
    "print(len(null_df))"
   ],
   "metadata": {
    "collapsed": false,
    "ExecuteTime": {
     "end_time": "2024-02-01T14:50:24.596784Z",
     "start_time": "2024-02-01T14:50:24.588363800Z"
    }
   },
   "id": "675ce21a7a1e3e1b",
   "execution_count": 22
  },
  {
   "cell_type": "markdown",
   "source": [
    "Juste pour voir ce qu'on à réussi à récupérer de PKON 23"
   ],
   "metadata": {
    "collapsed": false
   },
   "id": "2cdcb10d183bcb"
  },
  {
   "cell_type": "code",
   "execution_count": 23,
   "outputs": [],
   "source": [
    "not_null_df = MSP_df[~MSP_df['PathwayNP'].isnull()] # NOT NULL"
   ],
   "metadata": {
    "collapsed": false,
    "ExecuteTime": {
     "end_time": "2024-02-01T14:50:24.618311500Z",
     "start_time": "2024-02-01T14:50:24.591182900Z"
    }
   },
   "id": "fad1daab9dcdfbcb"
  },
  {
   "cell_type": "code",
   "outputs": [
    {
     "name": "stdout",
     "output_type": "stream",
     "text": [
      "15487\n"
     ]
    }
   ],
   "source": [
    "print(len(not_null_df))"
   ],
   "metadata": {
    "collapsed": false,
    "ExecuteTime": {
     "end_time": "2024-02-01T14:50:24.634598100Z",
     "start_time": "2024-02-01T14:50:24.617268100Z"
    }
   },
   "id": "45a91560078505eb",
   "execution_count": 24
  },
  {
   "cell_type": "code",
   "execution_count": 25,
   "outputs": [],
   "source": [
    "not_null_df.to_excel(r\"C:\\Users\\Axel\\Documents\\Présentations\\FragBank\\Publication\\Diagrammes\\Sunburst\\MSP_smiles_npclass_not_null.xlsx\", index=False)"
   ],
   "metadata": {
    "collapsed": false,
    "ExecuteTime": {
     "end_time": "2024-02-01T14:50:26.243089300Z",
     "start_time": "2024-02-01T14:50:24.629261800Z"
    }
   },
   "id": "853e79478adffb3d"
  }
 ],
 "metadata": {
  "kernelspec": {
   "display_name": "Python 3",
   "language": "python",
   "name": "python3"
  },
  "language_info": {
   "codemirror_mode": {
    "name": "ipython",
    "version": 2
   },
   "file_extension": ".py",
   "mimetype": "text/x-python",
   "name": "python",
   "nbconvert_exporter": "python",
   "pygments_lexer": "ipython2",
   "version": "2.7.6"
  }
 },
 "nbformat": 4,
 "nbformat_minor": 5
}
