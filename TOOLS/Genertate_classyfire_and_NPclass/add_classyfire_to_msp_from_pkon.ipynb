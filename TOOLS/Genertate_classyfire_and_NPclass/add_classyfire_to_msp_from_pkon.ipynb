{
 "cells": [
  {
   "cell_type": "code",
   "execution_count": 1,
   "id": "initial_id",
   "metadata": {
    "collapsed": true,
    "ExecuteTime": {
     "end_time": "2024-02-01T11:01:25.967020200Z",
     "start_time": "2024-02-01T11:01:25.615694200Z"
    }
   },
   "outputs": [],
   "source": [
    "import pandas as pd"
   ]
  },
  {
   "cell_type": "code",
   "outputs": [],
   "source": [
    "import pandas as pd"
   ],
   "metadata": {
    "collapsed": false
   },
   "id": "980a983c7b4fab",
   "execution_count": 1
  },
  {
   "cell_type": "markdown",
   "source": [
    "Ouvrire le fichier de pharmakon"
   ],
   "metadata": {
    "collapsed": false
   },
   "id": "4e52d124f9515630"
  },
  {
   "cell_type": "code",
   "execution_count": 2,
   "outputs": [],
   "source": [
    "PKON_file = r\"C:\\Users\\Axel\\Documents\\Présentations\\FragBank\\Publication\\Diagrammes\\Sunburst\\CLassyFireOutput.xlsx\""
   ],
   "metadata": {
    "collapsed": false,
    "ExecuteTime": {
     "end_time": "2024-02-01T11:01:25.974035900Z",
     "start_time": "2024-02-01T11:01:25.969794700Z"
    }
   },
   "id": "28f84afa21cc357e"
  },
  {
   "cell_type": "code",
   "outputs": [],
   "source": [
    "pkon_df = pd.read_excel(PKON_file)"
   ],
   "metadata": {
    "collapsed": false,
    "ExecuteTime": {
     "end_time": "2024-02-01T11:02:34.355846200Z",
     "start_time": "2024-02-01T11:01:25.970879800Z"
    }
   },
   "id": "d8c6d671e8a9c143",
   "execution_count": 3
  },
  {
   "cell_type": "markdown",
   "source": [
    "Ne récupérer que les colonnes INCHIKEY; CLASSYFIRE_CLASS et CLASSYFIRE_SUBCLASS du fichier de pkon"
   ],
   "metadata": {
    "collapsed": false
   },
   "id": "4eb6029b32a23e11"
  },
  {
   "cell_type": "code",
   "execution_count": 4,
   "outputs": [],
   "source": [
    "nouveau_df = pkon_df[['inchikey', 'superclass', 'class', 'subclass']]"
   ],
   "metadata": {
    "collapsed": false,
    "ExecuteTime": {
     "end_time": "2024-02-01T11:02:34.389802500Z",
     "start_time": "2024-02-01T11:02:34.379142500Z"
    }
   },
   "id": "a0c46d3e0d9c5623"
  },
  {
   "cell_type": "code",
   "outputs": [],
   "source": [
    "nouveau_df = nouveau_df.rename(columns={'inchikey': 'INCHIKEY'})"
   ],
   "metadata": {
    "collapsed": false
   },
   "id": "5b75d0248376cd6"
  },
  {
   "cell_type": "code",
   "execution_count": 6,
   "outputs": [],
   "source": [
    "nouveau_df['INCHIKEY'] = nouveau_df['INCHIKEY'].astype(str)"
   ],
   "metadata": {
    "collapsed": false,
    "ExecuteTime": {
     "end_time": "2024-02-01T11:02:34.477940300Z",
     "start_time": "2024-02-01T11:02:34.427412100Z"
    }
   },
   "id": "a52c673c9cf06bfb"
  },
  {
   "cell_type": "markdown",
   "source": [
    "ne récupérer que les short InChiKey"
   ],
   "metadata": {
    "collapsed": false
   },
   "id": "1b6190f5e7877c0e"
  },
  {
   "cell_type": "code",
   "execution_count": 7,
   "outputs": [],
   "source": [
    "# nouveau_df['INCHIKEY'] = nouveau_df['INCHIKEY'].apply(lambda x: x.split('-')[0] if x is not None else None)"
   ],
   "metadata": {
    "collapsed": false,
    "ExecuteTime": {
     "end_time": "2024-02-01T11:02:34.493822300Z",
     "start_time": "2024-02-01T11:02:34.479147200Z"
    }
   },
   "id": "e0a59dd17a7fbd9e"
  },
  {
   "cell_type": "code",
   "execution_count": 8,
   "outputs": [
    {
     "data": {
      "text/plain": "                      INCHIKEY                        superclass  \\\n0  AAAACIDXVXFWLZ-UHFFFAOYSA-N          Organic oxygen compounds   \n1  AAAAWQOPBUPWEV-UHFFFAOYSA-N  Phenylpropanoids and polyketides   \n2  AAABMNXUOFPYQK-DJKHTABZSA-N      Organoheterocyclic compounds   \n3  AAABMNXUOFPYQK-GRMLSQNXSA-N      Organoheterocyclic compounds   \n4  AAABMNXUOFPYQK-IBTGPBKNSA-N      Organoheterocyclic compounds   \n\n                    class                                   subclass  \n0  Organooxygen compounds  Carbohydrates and carbohydrate conjugates  \n1        Diarylheptanoids                    Linear diarylheptanoids  \n2           Pyranodioxins                                        NaN  \n3           Pyranodioxins                                        NaN  \n4           Pyranodioxins                                        NaN  ",
      "text/html": "<div>\n<style scoped>\n    .dataframe tbody tr th:only-of-type {\n        vertical-align: middle;\n    }\n\n    .dataframe tbody tr th {\n        vertical-align: top;\n    }\n\n    .dataframe thead th {\n        text-align: right;\n    }\n</style>\n<table border=\"1\" class=\"dataframe\">\n  <thead>\n    <tr style=\"text-align: right;\">\n      <th></th>\n      <th>INCHIKEY</th>\n      <th>superclass</th>\n      <th>class</th>\n      <th>subclass</th>\n    </tr>\n  </thead>\n  <tbody>\n    <tr>\n      <th>0</th>\n      <td>AAAACIDXVXFWLZ-UHFFFAOYSA-N</td>\n      <td>Organic oxygen compounds</td>\n      <td>Organooxygen compounds</td>\n      <td>Carbohydrates and carbohydrate conjugates</td>\n    </tr>\n    <tr>\n      <th>1</th>\n      <td>AAAAWQOPBUPWEV-UHFFFAOYSA-N</td>\n      <td>Phenylpropanoids and polyketides</td>\n      <td>Diarylheptanoids</td>\n      <td>Linear diarylheptanoids</td>\n    </tr>\n    <tr>\n      <th>2</th>\n      <td>AAABMNXUOFPYQK-DJKHTABZSA-N</td>\n      <td>Organoheterocyclic compounds</td>\n      <td>Pyranodioxins</td>\n      <td>NaN</td>\n    </tr>\n    <tr>\n      <th>3</th>\n      <td>AAABMNXUOFPYQK-GRMLSQNXSA-N</td>\n      <td>Organoheterocyclic compounds</td>\n      <td>Pyranodioxins</td>\n      <td>NaN</td>\n    </tr>\n    <tr>\n      <th>4</th>\n      <td>AAABMNXUOFPYQK-IBTGPBKNSA-N</td>\n      <td>Organoheterocyclic compounds</td>\n      <td>Pyranodioxins</td>\n      <td>NaN</td>\n    </tr>\n  </tbody>\n</table>\n</div>"
     },
     "execution_count": 8,
     "metadata": {},
     "output_type": "execute_result"
    }
   ],
   "source": [
    "nouveau_df.head() # Affiche pour vérification"
   ],
   "metadata": {
    "collapsed": false,
    "ExecuteTime": {
     "end_time": "2024-02-01T11:02:34.567360400Z",
     "start_time": "2024-02-01T11:02:34.492600900Z"
    }
   },
   "id": "4276c30d18b64fe4"
  },
  {
   "cell_type": "markdown",
   "source": [
    "Ouvrire mon fichier où nous avons l'ensemble des InChiKey de nos bases de données"
   ],
   "metadata": {
    "collapsed": false
   },
   "id": "e096a95a554b138a"
  },
  {
   "cell_type": "code",
   "execution_count": 9,
   "outputs": [],
   "source": [
    "MSP_file = r\"C:\\Users\\Axel\\Documents\\Présentations\\FragBank\\Publication\\Diagrammes\\FragBank_CLEAN\\DB_Janvier_2024\\CSV\\ALL_DB_INCHIKEY.xlsx\""
   ],
   "metadata": {
    "collapsed": false,
    "ExecuteTime": {
     "end_time": "2024-02-01T11:02:34.574045800Z",
     "start_time": "2024-02-01T11:02:34.569732100Z"
    }
   },
   "id": "ed7de222e258f230"
  },
  {
   "cell_type": "code",
   "execution_count": 10,
   "outputs": [],
   "source": [
    "MSP_df = pd.read_excel(MSP_file)"
   ],
   "metadata": {
    "collapsed": false,
    "ExecuteTime": {
     "end_time": "2024-02-01T11:02:35.851337700Z",
     "start_time": "2024-02-01T11:02:34.572954700Z"
    }
   },
   "id": "d5da999a9e793da0"
  },
  {
   "cell_type": "code",
   "execution_count": 11,
   "outputs": [],
   "source": [
    "MSP_df['INCHIKEY'] = MSP_df['INCHIKEY'].astype(str)"
   ],
   "metadata": {
    "collapsed": false,
    "ExecuteTime": {
     "end_time": "2024-02-01T11:02:35.861881100Z",
     "start_time": "2024-02-01T11:02:35.853493600Z"
    }
   },
   "id": "f42d84cee383022"
  },
  {
   "cell_type": "markdown",
   "source": [
    "N'en récupérer égakement que les short InChiKey"
   ],
   "metadata": {
    "collapsed": false
   },
   "id": "1a00772676090d43"
  },
  {
   "cell_type": "code",
   "execution_count": 12,
   "outputs": [],
   "source": [
    "# MSP_df['INCHIKEY'] = MSP_df['INCHIKEY'].apply(lambda x: x.split('-')[0] if x is not None else None)"
   ],
   "metadata": {
    "collapsed": false,
    "ExecuteTime": {
     "end_time": "2024-02-01T11:02:35.886759800Z",
     "start_time": "2024-02-01T11:02:35.859234300Z"
    }
   },
   "id": "1934af0e844913b1"
  },
  {
   "cell_type": "code",
   "execution_count": 13,
   "outputs": [
    {
     "data": {
      "text/plain": "   FILENAME  PREDICTED                     INCHIKEY\n0  MassBank      False  PUMXWMGECQIOGB-SMSDQXDJSA-N\n1  MassBank      False  CBUOBMSAFIYYEJ-ZCFIWIBFSA-N\n2  MassBank      False  FNSQKFOXORBCCC-WBWZXODPSA-N\n3  MassBank      False  HNMWDXUKPJZOQD-UHFFFAOYSA-N\n4  MassBank      False  GRFAWUZMBBQEMX-IJNZYEPRSA-N",
      "text/html": "<div>\n<style scoped>\n    .dataframe tbody tr th:only-of-type {\n        vertical-align: middle;\n    }\n\n    .dataframe tbody tr th {\n        vertical-align: top;\n    }\n\n    .dataframe thead th {\n        text-align: right;\n    }\n</style>\n<table border=\"1\" class=\"dataframe\">\n  <thead>\n    <tr style=\"text-align: right;\">\n      <th></th>\n      <th>FILENAME</th>\n      <th>PREDICTED</th>\n      <th>INCHIKEY</th>\n    </tr>\n  </thead>\n  <tbody>\n    <tr>\n      <th>0</th>\n      <td>MassBank</td>\n      <td>False</td>\n      <td>PUMXWMGECQIOGB-SMSDQXDJSA-N</td>\n    </tr>\n    <tr>\n      <th>1</th>\n      <td>MassBank</td>\n      <td>False</td>\n      <td>CBUOBMSAFIYYEJ-ZCFIWIBFSA-N</td>\n    </tr>\n    <tr>\n      <th>2</th>\n      <td>MassBank</td>\n      <td>False</td>\n      <td>FNSQKFOXORBCCC-WBWZXODPSA-N</td>\n    </tr>\n    <tr>\n      <th>3</th>\n      <td>MassBank</td>\n      <td>False</td>\n      <td>HNMWDXUKPJZOQD-UHFFFAOYSA-N</td>\n    </tr>\n    <tr>\n      <th>4</th>\n      <td>MassBank</td>\n      <td>False</td>\n      <td>GRFAWUZMBBQEMX-IJNZYEPRSA-N</td>\n    </tr>\n  </tbody>\n</table>\n</div>"
     },
     "execution_count": 13,
     "metadata": {},
     "output_type": "execute_result"
    }
   ],
   "source": [
    "MSP_df.head() # Affichage pour vérification"
   ],
   "metadata": {
    "collapsed": false,
    "ExecuteTime": {
     "end_time": "2024-02-01T11:02:35.894515600Z",
     "start_time": "2024-02-01T11:02:35.877140400Z"
    }
   },
   "id": "9ee2dfb41892f905"
  },
  {
   "cell_type": "markdown",
   "source": [
    "On complète nos InChiKey de nos bases de données avec les classyfire de PKON23"
   ],
   "metadata": {
    "collapsed": false
   },
   "id": "c50bdc77aa69b353"
  },
  {
   "cell_type": "code",
   "execution_count": 14,
   "outputs": [],
   "source": [
    "MSP_df = MSP_df.merge(nouveau_df[['INCHIKEY', 'superclass', 'class', 'subclass']], on='INCHIKEY', how='left')"
   ],
   "metadata": {
    "collapsed": false,
    "ExecuteTime": {
     "end_time": "2024-02-01T11:02:36.144490300Z",
     "start_time": "2024-02-01T11:02:35.891908200Z"
    }
   },
   "id": "904a71981a62aa77"
  },
  {
   "cell_type": "code",
   "execution_count": 15,
   "outputs": [],
   "source": [
    "MSP_df = MSP_df.drop_duplicates(subset='INCHIKEY', keep='first')"
   ],
   "metadata": {
    "collapsed": false,
    "ExecuteTime": {
     "end_time": "2024-02-01T11:02:36.153833400Z",
     "start_time": "2024-02-01T11:02:36.144490300Z"
    }
   },
   "id": "ff9c2356a9115647"
  },
  {
   "cell_type": "code",
   "execution_count": 16,
   "outputs": [
    {
     "data": {
      "text/plain": "   FILENAME  PREDICTED                     INCHIKEY  \\\n0  MassBank      False  PUMXWMGECQIOGB-SMSDQXDJSA-N   \n1  MassBank      False  CBUOBMSAFIYYEJ-ZCFIWIBFSA-N   \n2  MassBank      False  FNSQKFOXORBCCC-WBWZXODPSA-N   \n3  MassBank      False  HNMWDXUKPJZOQD-UHFFFAOYSA-N   \n4  MassBank      False  GRFAWUZMBBQEMX-IJNZYEPRSA-N   \n\n                         superclass                class          subclass  \n0   Lipids and lipid-like molecules        Prenol lipids  Sesquiterpenoids  \n1   Lipids and lipid-like molecules        Prenol lipids    Monoterpenoids  \n2  Phenylpropanoids and polyketides        Tetracyclines               NaN  \n3  Phenylpropanoids and polyketides  Isochromanequinones               NaN  \n4                               NaN                  NaN               NaN  ",
      "text/html": "<div>\n<style scoped>\n    .dataframe tbody tr th:only-of-type {\n        vertical-align: middle;\n    }\n\n    .dataframe tbody tr th {\n        vertical-align: top;\n    }\n\n    .dataframe thead th {\n        text-align: right;\n    }\n</style>\n<table border=\"1\" class=\"dataframe\">\n  <thead>\n    <tr style=\"text-align: right;\">\n      <th></th>\n      <th>FILENAME</th>\n      <th>PREDICTED</th>\n      <th>INCHIKEY</th>\n      <th>superclass</th>\n      <th>class</th>\n      <th>subclass</th>\n    </tr>\n  </thead>\n  <tbody>\n    <tr>\n      <th>0</th>\n      <td>MassBank</td>\n      <td>False</td>\n      <td>PUMXWMGECQIOGB-SMSDQXDJSA-N</td>\n      <td>Lipids and lipid-like molecules</td>\n      <td>Prenol lipids</td>\n      <td>Sesquiterpenoids</td>\n    </tr>\n    <tr>\n      <th>1</th>\n      <td>MassBank</td>\n      <td>False</td>\n      <td>CBUOBMSAFIYYEJ-ZCFIWIBFSA-N</td>\n      <td>Lipids and lipid-like molecules</td>\n      <td>Prenol lipids</td>\n      <td>Monoterpenoids</td>\n    </tr>\n    <tr>\n      <th>2</th>\n      <td>MassBank</td>\n      <td>False</td>\n      <td>FNSQKFOXORBCCC-WBWZXODPSA-N</td>\n      <td>Phenylpropanoids and polyketides</td>\n      <td>Tetracyclines</td>\n      <td>NaN</td>\n    </tr>\n    <tr>\n      <th>3</th>\n      <td>MassBank</td>\n      <td>False</td>\n      <td>HNMWDXUKPJZOQD-UHFFFAOYSA-N</td>\n      <td>Phenylpropanoids and polyketides</td>\n      <td>Isochromanequinones</td>\n      <td>NaN</td>\n    </tr>\n    <tr>\n      <th>4</th>\n      <td>MassBank</td>\n      <td>False</td>\n      <td>GRFAWUZMBBQEMX-IJNZYEPRSA-N</td>\n      <td>NaN</td>\n      <td>NaN</td>\n      <td>NaN</td>\n    </tr>\n  </tbody>\n</table>\n</div>"
     },
     "execution_count": 16,
     "metadata": {},
     "output_type": "execute_result"
    }
   ],
   "source": [
    "MSP_df.head() # Affichage pour vérification"
   ],
   "metadata": {
    "collapsed": false,
    "ExecuteTime": {
     "end_time": "2024-02-01T11:02:36.170610900Z",
     "start_time": "2024-02-01T11:02:36.153833400Z"
    }
   },
   "id": "5a972ca93eeb0a6d"
  },
  {
   "cell_type": "markdown",
   "source": [
    "On enregistre ce DF là"
   ],
   "metadata": {
    "collapsed": false
   },
   "id": "611870ccc220cd34"
  },
  {
   "cell_type": "code",
   "execution_count": 17,
   "outputs": [],
   "source": [
    "MSP_df.to_excel(r\"C:\\Users\\Axel\\Documents\\Présentations\\FragBank\\Publication\\Diagrammes\\Sunburst\\MSP_inchikeys_classyfire.xlsx\", index=False)"
   ],
   "metadata": {
    "collapsed": false,
    "ExecuteTime": {
     "end_time": "2024-02-01T11:02:38.381604600Z",
     "start_time": "2024-02-01T11:02:36.168141200Z"
    }
   },
   "id": "4ff0b5944f4129bc"
  },
  {
   "cell_type": "code",
   "execution_count": 18,
   "outputs": [],
   "source": [
    "null_df = MSP_df[MSP_df['superclass'].isnull()] # NULL"
   ],
   "metadata": {
    "collapsed": false,
    "ExecuteTime": {
     "end_time": "2024-02-01T11:02:38.391415200Z",
     "start_time": "2024-02-01T11:02:38.382790Z"
    }
   },
   "id": "2a72f1807e38875c"
  },
  {
   "cell_type": "code",
   "execution_count": 19,
   "outputs": [],
   "source": [
    "null_df = null_df.drop_duplicates(subset='INCHIKEY', keep='first')"
   ],
   "metadata": {
    "collapsed": false,
    "ExecuteTime": {
     "end_time": "2024-02-01T11:02:38.416497Z",
     "start_time": "2024-02-01T11:02:38.387834600Z"
    }
   },
   "id": "fe17b4db7621da1b"
  },
  {
   "cell_type": "markdown",
   "source": [
    "ici on enregistre le DF des short InChikey qui n'ont aucune information de classification taxonomique ==> c'est celui-ci que l'on utilise pour l'interrogation API de Classyfire"
   ],
   "metadata": {
    "collapsed": false
   },
   "id": "dd26c7efb1985627"
  },
  {
   "cell_type": "code",
   "execution_count": 20,
   "outputs": [],
   "source": [
    "null_df.to_excel(r\"C:\\Users\\Axel\\Documents\\Présentations\\FragBank\\Publication\\Diagrammes\\Sunburst\\MSP_inchikeys_classyfire_null.xlsx\", index=False)"
   ],
   "metadata": {
    "collapsed": false,
    "ExecuteTime": {
     "end_time": "2024-02-01T11:02:39.680917700Z",
     "start_time": "2024-02-01T11:02:38.414721100Z"
    }
   },
   "id": "6da49bfd53f789e6"
  },
  {
   "cell_type": "code",
   "outputs": [
    {
     "name": "stdout",
     "output_type": "stream",
     "text": [
      "18731\n"
     ]
    }
   ],
   "source": [
    "print(len(null_df))"
   ],
   "metadata": {
    "collapsed": false,
    "ExecuteTime": {
     "end_time": "2024-02-01T11:02:39.685972600Z",
     "start_time": "2024-02-01T11:02:39.677402Z"
    }
   },
   "id": "675ce21a7a1e3e1b",
   "execution_count": 21
  },
  {
   "cell_type": "markdown",
   "source": [
    "Juste pour voir ce qu'on à réussi à récupérer de PKON 23"
   ],
   "metadata": {
    "collapsed": false
   },
   "id": "2cdcb10d183bcb"
  },
  {
   "cell_type": "code",
   "execution_count": 22,
   "outputs": [],
   "source": [
    "not_null_df = MSP_df[~MSP_df['superclass'].isnull()] # NOT NULL"
   ],
   "metadata": {
    "collapsed": false,
    "ExecuteTime": {
     "end_time": "2024-02-01T11:02:39.705211700Z",
     "start_time": "2024-02-01T11:02:39.684663700Z"
    }
   },
   "id": "fad1daab9dcdfbcb"
  },
  {
   "cell_type": "code",
   "outputs": [
    {
     "name": "stdout",
     "output_type": "stream",
     "text": [
      "19017\n"
     ]
    }
   ],
   "source": [
    "print(len(not_null_df))"
   ],
   "metadata": {
    "collapsed": false,
    "ExecuteTime": {
     "end_time": "2024-02-01T11:02:39.722192400Z",
     "start_time": "2024-02-01T11:02:39.705211700Z"
    }
   },
   "id": "45a91560078505eb",
   "execution_count": 23
  },
  {
   "cell_type": "code",
   "execution_count": 24,
   "outputs": [],
   "source": [
    "not_null_df.to_excel(r\"C:\\Users\\Axel\\Documents\\Présentations\\FragBank\\Publication\\Diagrammes\\Sunburst\\MSP_inchikeys_classyfire_not_null.xlsx\", index=False)"
   ],
   "metadata": {
    "collapsed": false,
    "ExecuteTime": {
     "end_time": "2024-02-01T11:02:41.169596Z",
     "start_time": "2024-02-01T11:02:39.717483800Z"
    }
   },
   "id": "853e79478adffb3d"
  },
  {
   "cell_type": "code",
   "execution_count": 24,
   "outputs": [],
   "source": [],
   "metadata": {
    "collapsed": false,
    "ExecuteTime": {
     "end_time": "2024-02-01T11:02:41.174529200Z",
     "start_time": "2024-02-01T11:02:41.169776900Z"
    }
   },
   "id": "186cd1c491582a2c"
  }
 ],
 "metadata": {
  "kernelspec": {
   "display_name": "Python 3",
   "language": "python",
   "name": "python3"
  },
  "language_info": {
   "codemirror_mode": {
    "name": "ipython",
    "version": 2
   },
   "file_extension": ".py",
   "mimetype": "text/x-python",
   "name": "python",
   "nbconvert_exporter": "python",
   "pygments_lexer": "ipython2",
   "version": "2.7.6"
  }
 },
 "nbformat": 4,
 "nbformat_minor": 5
}
