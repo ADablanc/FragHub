{
 "cells": [
  {
   "cell_type": "code",
   "execution_count": 1,
   "id": "initial_id",
   "metadata": {
    "collapsed": true,
    "ExecuteTime": {
     "end_time": "2024-02-02T09:15:21.104078900Z",
     "start_time": "2024-02-02T09:15:20.744246800Z"
    }
   },
   "outputs": [],
   "source": [
    "import pandas as pd\n",
    "import os"
   ]
  },
  {
   "cell_type": "code",
   "execution_count": 2,
   "outputs": [],
   "source": [
    "DF_final = pd.DataFrame()"
   ],
   "metadata": {
    "collapsed": false,
    "ExecuteTime": {
     "end_time": "2024-02-02T09:15:21.109282Z",
     "start_time": "2024-02-02T09:15:21.106186Z"
    }
   },
   "id": "543664de77725458"
  },
  {
   "cell_type": "markdown",
   "source": [
    "On accède au dossier ou çe situe les CSV de nos DB faite avec FragHub"
   ],
   "metadata": {
    "collapsed": false
   },
   "id": "8fed77ea344743ae"
  },
  {
   "cell_type": "code",
   "execution_count": 3,
   "outputs": [],
   "source": [
    "PATH = r\"C:\\Users\\Axel\\Documents\\Présentations\\FragBank\\Publication\\Diagrammes\\FragBank_CLEAN\\DB_Janvier_2024\\CSV\""
   ],
   "metadata": {
    "collapsed": false,
    "ExecuteTime": {
     "end_time": "2024-02-02T09:15:21.123307500Z",
     "start_time": "2024-02-02T09:15:21.109282Z"
    }
   },
   "id": "3f4104559d3307e3"
  },
  {
   "cell_type": "markdown",
   "source": [
    "On concatène tous nos csv en un gros dataframe"
   ],
   "metadata": {
    "collapsed": false
   },
   "id": "8ecdbfce9b08cf9f"
  },
  {
   "cell_type": "code",
   "execution_count": 4,
   "outputs": [],
   "source": [
    "for files in os.listdir(PATH):\n",
    "    if files.endswith(\".csv\"):\n",
    "        DF = pd.read_csv(os.path.join(PATH,files), sep=\";\", encoding=\"UTF-8\", usecols=[\"FILENAME\", \"INCHIKEY\", \"SMILES\", \"PREDICTED\"])\n",
    "        DF_final = pd.concat([DF_final, DF], axis=0)"
   ],
   "metadata": {
    "collapsed": false,
    "ExecuteTime": {
     "end_time": "2024-02-02T09:15:24.809843100Z",
     "start_time": "2024-02-02T09:15:21.125519800Z"
    }
   },
   "id": "bdfef6cee6aa9f32"
  },
  {
   "cell_type": "markdown",
   "source": [
    "Il faut supprimer les predicted true"
   ],
   "metadata": {
    "collapsed": false
   },
   "id": "479f7b166bca35cf"
  },
  {
   "cell_type": "code",
   "outputs": [],
   "source": [
    "DF_final.drop(DF_final[DF_final['PREDICTED'] == 'true'].index, inplace=True)"
   ],
   "metadata": {
    "collapsed": false,
    "ExecuteTime": {
     "end_time": "2024-02-02T09:15:24.866012Z",
     "start_time": "2024-02-02T09:15:24.809843100Z"
    }
   },
   "id": "6a9b86a497223a33",
   "execution_count": 5
  },
  {
   "cell_type": "code",
   "execution_count": 6,
   "outputs": [],
   "source": [
    "# Éliminez les doublons du DataFrame final\n",
    "DF_final = DF_final.drop_duplicates(subset='SMILES', keep='first')\n",
    "\n",
    "# Réinitialisez les index après la suppression des doublons\n",
    "DF_final = DF_final.reset_index(drop=True)"
   ],
   "metadata": {
    "collapsed": false,
    "ExecuteTime": {
     "end_time": "2024-02-02T09:15:24.906813700Z",
     "start_time": "2024-02-02T09:15:24.867042900Z"
    }
   },
   "id": "b15c6487bd49a8a5"
  },
  {
   "cell_type": "markdown",
   "source": [
    "On conserve l'information de DB_NAME car on voudrait faire un Sunburst par DB après pour voir le recouvrement de chaque DB"
   ],
   "metadata": {
    "collapsed": false
   },
   "id": "d604a118ad900bcd"
  },
  {
   "cell_type": "code",
   "execution_count": 7,
   "outputs": [],
   "source": [
    "# Utilisez la méthode rename() avec des expressions régulières\n",
    "DF_final[\"FILENAME\"] = DF_final[\"FILENAME\"].replace(r'.*MSMS_.*', 'MSMS_Public', regex=True)\n",
    "DF_final[\"FILENAME\"] = DF_final[\"FILENAME\"].replace(r'.*MoNA.*', 'MoNA', regex=True)\n",
    "DF_final[\"FILENAME\"] = DF_final[\"FILENAME\"].replace(r'.*XML_.*', 'HMDB', regex=True)\n",
    "DF_final[\"FILENAME\"] = DF_final[\"FILENAME\"].replace(r'.*MassBank.*', 'MassBank', regex=True)\n",
    "DF_final[\"FILENAME\"] = DF_final[\"FILENAME\"].replace(r'.*ALL_GNPS.*', 'GNPS', regex=True)\n",
    "DF_final[\"FILENAME\"] = DF_final[\"FILENAME\"].replace(r'.*HMDB.*', 'HMDB', regex=True)"
   ],
   "metadata": {
    "collapsed": false,
    "ExecuteTime": {
     "end_time": "2024-02-02T09:15:25.049978700Z",
     "start_time": "2024-02-02T09:15:24.907845800Z"
    }
   },
   "id": "6800637ad15630b4"
  },
  {
   "cell_type": "code",
   "execution_count": 8,
   "outputs": [
    {
     "data": {
      "text/plain": "   FILENAME  PREDICTED                                             SMILES  \\\n0  MassBank      False  CC1=C[C@H]2O[C@@H]3[C@H](O[C@@H]4O[C@H](CO)[C@...   \n1  MassBank      False             CC(=O)[C@@H](C)c1c(C)c(O)c(C)c(O)c1C=O   \n2  MassBank      False  COc1cc(O)c2c(O)c3c(c4c2c1[C@]1(C4)C(C)=CCCC1(C...   \n3  MassBank      False  COC1=CC(=O)c2c(O)c3c(c(O)c2C1=O)CC1(C)OC(C(=O)...   \n4  MassBank      False  CC1=C[C@H]2O[C@@H]3[C@H](O[C@@H]4O[C@H](C(=O)O...   \n\n                      INCHIKEY  \n0  PUMXWMGECQIOGB-SMSDQXDJSA-N  \n1  CBUOBMSAFIYYEJ-ZCFIWIBFSA-N  \n2  FNSQKFOXORBCCC-WBWZXODPSA-N  \n3  HNMWDXUKPJZOQD-UHFFFAOYSA-N  \n4  GRFAWUZMBBQEMX-IJNZYEPRSA-N  ",
      "text/html": "<div>\n<style scoped>\n    .dataframe tbody tr th:only-of-type {\n        vertical-align: middle;\n    }\n\n    .dataframe tbody tr th {\n        vertical-align: top;\n    }\n\n    .dataframe thead th {\n        text-align: right;\n    }\n</style>\n<table border=\"1\" class=\"dataframe\">\n  <thead>\n    <tr style=\"text-align: right;\">\n      <th></th>\n      <th>FILENAME</th>\n      <th>PREDICTED</th>\n      <th>SMILES</th>\n      <th>INCHIKEY</th>\n    </tr>\n  </thead>\n  <tbody>\n    <tr>\n      <th>0</th>\n      <td>MassBank</td>\n      <td>False</td>\n      <td>CC1=C[C@H]2O[C@@H]3[C@H](O[C@@H]4O[C@H](CO)[C@...</td>\n      <td>PUMXWMGECQIOGB-SMSDQXDJSA-N</td>\n    </tr>\n    <tr>\n      <th>1</th>\n      <td>MassBank</td>\n      <td>False</td>\n      <td>CC(=O)[C@@H](C)c1c(C)c(O)c(C)c(O)c1C=O</td>\n      <td>CBUOBMSAFIYYEJ-ZCFIWIBFSA-N</td>\n    </tr>\n    <tr>\n      <th>2</th>\n      <td>MassBank</td>\n      <td>False</td>\n      <td>COc1cc(O)c2c(O)c3c(c4c2c1[C@]1(C4)C(C)=CCCC1(C...</td>\n      <td>FNSQKFOXORBCCC-WBWZXODPSA-N</td>\n    </tr>\n    <tr>\n      <th>3</th>\n      <td>MassBank</td>\n      <td>False</td>\n      <td>COC1=CC(=O)c2c(O)c3c(c(O)c2C1=O)CC1(C)OC(C(=O)...</td>\n      <td>HNMWDXUKPJZOQD-UHFFFAOYSA-N</td>\n    </tr>\n    <tr>\n      <th>4</th>\n      <td>MassBank</td>\n      <td>False</td>\n      <td>CC1=C[C@H]2O[C@@H]3[C@H](O[C@@H]4O[C@H](C(=O)O...</td>\n      <td>GRFAWUZMBBQEMX-IJNZYEPRSA-N</td>\n    </tr>\n  </tbody>\n</table>\n</div>"
     },
     "execution_count": 8,
     "metadata": {},
     "output_type": "execute_result"
    }
   ],
   "source": [
    "DF_final.head()"
   ],
   "metadata": {
    "collapsed": false,
    "ExecuteTime": {
     "end_time": "2024-02-02T09:15:25.060364300Z",
     "start_time": "2024-02-02T09:15:25.049978700Z"
    }
   },
   "id": "9fee3abd31c0c360"
  },
  {
   "cell_type": "markdown",
   "source": [
    "On écrit notre fichier, c'est celui-ci que l'on utilise pour add_classyfire_to_msp.ipynb"
   ],
   "metadata": {
    "collapsed": false
   },
   "id": "33143078d64f4990"
  },
  {
   "cell_type": "code",
   "execution_count": 9,
   "outputs": [],
   "source": [
    "DF_final.to_excel(os.path.join(PATH,\"ALL_DB_SMILES.xlsx\"), index=False)"
   ],
   "metadata": {
    "collapsed": false,
    "ExecuteTime": {
     "end_time": "2024-02-02T09:15:27.487274100Z",
     "start_time": "2024-02-02T09:15:25.060364300Z"
    }
   },
   "id": "cb614a02e3d81f83"
  }
 ],
 "metadata": {
  "kernelspec": {
   "display_name": "Python 3",
   "language": "python",
   "name": "python3"
  },
  "language_info": {
   "codemirror_mode": {
    "name": "ipython",
    "version": 2
   },
   "file_extension": ".py",
   "mimetype": "text/x-python",
   "name": "python",
   "nbconvert_exporter": "python",
   "pygments_lexer": "ipython2",
   "version": "2.7.6"
  }
 },
 "nbformat": 4,
 "nbformat_minor": 5
}
