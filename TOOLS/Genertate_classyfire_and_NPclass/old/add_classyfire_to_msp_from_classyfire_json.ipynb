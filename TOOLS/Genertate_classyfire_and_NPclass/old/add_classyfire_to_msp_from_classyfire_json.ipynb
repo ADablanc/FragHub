{
 "cells": [
  {
   "cell_type": "code",
   "execution_count": 141,
   "id": "initial_id",
   "metadata": {
    "collapsed": true,
    "ExecuteTime": {
     "end_time": "2024-02-01T11:15:41.843027200Z",
     "start_time": "2024-02-01T11:15:41.816010300Z"
    }
   },
   "outputs": [],
   "source": [
    "import pandas as pd\n",
    "import json"
   ]
  },
  {
   "cell_type": "markdown",
   "source": [
    "ouvrire MSP_inchikeys_classyfire_null.xlsx, le excel de mes msp sans classyfire depuis pkon"
   ],
   "metadata": {
    "collapsed": false
   },
   "id": "52be39ac82ac6b47"
  },
  {
   "cell_type": "code",
   "outputs": [],
   "source": [
    "df_msp_null =  pd.read_excel(r\"C:\\Users\\Axel\\Documents\\Data_publi\\SunBurst\\MSP_inchikeys_classyfire_null.xlsx\")"
   ],
   "metadata": {
    "collapsed": false,
    "ExecuteTime": {
     "end_time": "2024-02-01T11:15:42.555669700Z",
     "start_time": "2024-02-01T11:15:41.845030700Z"
    }
   },
   "id": "8adb0f8133ec9a47",
   "execution_count": 142
  },
  {
   "cell_type": "code",
   "outputs": [],
   "source": [
    "df_msp_null = df_msp_null.rename(columns={'superclass': 'Classyfire_Superclass_1'})\n",
    "df_msp_null = df_msp_null.rename(columns={'class': 'Classyfire_class_1'})\n",
    "df_msp_null = df_msp_null.rename(columns={'subclass': 'Classyfire_Subclass_1'})"
   ],
   "metadata": {
    "collapsed": false,
    "ExecuteTime": {
     "end_time": "2024-02-01T11:15:42.574278500Z",
     "start_time": "2024-02-01T11:15:42.556670400Z"
    }
   },
   "id": "15de6295ef1ff3c7",
   "execution_count": 143
  },
  {
   "cell_type": "code",
   "outputs": [
    {
     "data": {
      "text/plain": "   FILENAME  PREDICTED                     INCHIKEY  Classyfire_Superclass_1  \\\n0  MassBank      False  GRFAWUZMBBQEMX-IJNZYEPRSA-N                      NaN   \n1  MassBank      False  PUZDIGQDECBVJT-FLTFDZFMSA-N                      NaN   \n2  MassBank      False  GZCJIEXTWGJVIN-MKHOGIGVSA-N                      NaN   \n3  MassBank      False  ROPHOAFGZRNKDO-SNXTYUPGSA-N                      NaN   \n4  MassBank      False  LBBHTACWNVOYKN-SNQWNFAUSA-N                      NaN   \n\n   Classyfire_class_1  Classyfire_Subclass_1  \n0                 NaN                    NaN  \n1                 NaN                    NaN  \n2                 NaN                    NaN  \n3                 NaN                    NaN  \n4                 NaN                    NaN  ",
      "text/html": "<div>\n<style scoped>\n    .dataframe tbody tr th:only-of-type {\n        vertical-align: middle;\n    }\n\n    .dataframe tbody tr th {\n        vertical-align: top;\n    }\n\n    .dataframe thead th {\n        text-align: right;\n    }\n</style>\n<table border=\"1\" class=\"dataframe\">\n  <thead>\n    <tr style=\"text-align: right;\">\n      <th></th>\n      <th>FILENAME</th>\n      <th>PREDICTED</th>\n      <th>INCHIKEY</th>\n      <th>Classyfire_Superclass_1</th>\n      <th>Classyfire_class_1</th>\n      <th>Classyfire_Subclass_1</th>\n    </tr>\n  </thead>\n  <tbody>\n    <tr>\n      <th>0</th>\n      <td>MassBank</td>\n      <td>False</td>\n      <td>GRFAWUZMBBQEMX-IJNZYEPRSA-N</td>\n      <td>NaN</td>\n      <td>NaN</td>\n      <td>NaN</td>\n    </tr>\n    <tr>\n      <th>1</th>\n      <td>MassBank</td>\n      <td>False</td>\n      <td>PUZDIGQDECBVJT-FLTFDZFMSA-N</td>\n      <td>NaN</td>\n      <td>NaN</td>\n      <td>NaN</td>\n    </tr>\n    <tr>\n      <th>2</th>\n      <td>MassBank</td>\n      <td>False</td>\n      <td>GZCJIEXTWGJVIN-MKHOGIGVSA-N</td>\n      <td>NaN</td>\n      <td>NaN</td>\n      <td>NaN</td>\n    </tr>\n    <tr>\n      <th>3</th>\n      <td>MassBank</td>\n      <td>False</td>\n      <td>ROPHOAFGZRNKDO-SNXTYUPGSA-N</td>\n      <td>NaN</td>\n      <td>NaN</td>\n      <td>NaN</td>\n    </tr>\n    <tr>\n      <th>4</th>\n      <td>MassBank</td>\n      <td>False</td>\n      <td>LBBHTACWNVOYKN-SNQWNFAUSA-N</td>\n      <td>NaN</td>\n      <td>NaN</td>\n      <td>NaN</td>\n    </tr>\n  </tbody>\n</table>\n</div>"
     },
     "execution_count": 144,
     "metadata": {},
     "output_type": "execute_result"
    }
   ],
   "source": [
    "df_msp_null.head()"
   ],
   "metadata": {
    "collapsed": false,
    "ExecuteTime": {
     "end_time": "2024-02-01T11:15:42.575279200Z",
     "start_time": "2024-02-01T11:15:42.560693200Z"
    }
   },
   "id": "99650baa33a5467f",
   "execution_count": 144
  },
  {
   "cell_type": "markdown",
   "source": [
    "ouvrire le json résultant du requêtage Classyfire et le mettre en df"
   ],
   "metadata": {
    "collapsed": false
   },
   "id": "19be01be8bf48236"
  },
  {
   "cell_type": "code",
   "outputs": [],
   "source": [
    "with open(r'C:\\Users\\Axel\\Documents\\Data_publi\\SunBurst\\MSP_inchikeys_classyfire_complete.json', 'r') as f:\n",
    "    data_classyfire = json.load(f)"
   ],
   "metadata": {
    "collapsed": false,
    "ExecuteTime": {
     "end_time": "2024-02-01T11:15:42.606196400Z",
     "start_time": "2024-02-01T11:15:42.568278700Z"
    }
   },
   "id": "1c9ef19324bccc6c",
   "execution_count": 145
  },
  {
   "cell_type": "markdown",
   "source": [
    "le passé en df"
   ],
   "metadata": {
    "collapsed": false
   },
   "id": "eb5d79492e1f37b8"
  },
  {
   "cell_type": "code",
   "outputs": [],
   "source": [
    "df_classyfire = pd.DataFrame.from_dict(data_classyfire)"
   ],
   "metadata": {
    "collapsed": false,
    "ExecuteTime": {
     "end_time": "2024-02-01T11:15:42.624313400Z",
     "start_time": "2024-02-01T11:15:42.601195600Z"
    }
   },
   "id": "7718b83311b1b8fd",
   "execution_count": 146
  },
  {
   "cell_type": "code",
   "outputs": [
    {
     "data": {
      "text/plain": "  Classyfire_kingdom            Classyfire_Superclass  \\\n0  Organic compounds  Lipids and lipid-like molecules   \n1  Organic compounds    Organic acids and derivatives   \n2  Organic compounds    Organic acids and derivatives   \n3  Organic compounds    Organic acids and derivatives   \n4  Organic compounds  Lipids and lipid-like molecules   \n\n                   Classyfire_class                   Classyfire_Subclass  \\\n0                     Prenol lipids                      Sesquiterpenoids   \n1  Carboxylic acids and derivatives  Hexacarboxylic acids and derivatives   \n2  Carboxylic acids and derivatives  Hexacarboxylic acids and derivatives   \n3  Carboxylic acids and derivatives  Hexacarboxylic acids and derivatives   \n4  Steroids and steroid derivatives                        Steroid esters   \n\n                          direct_parent  \n0                        Trichothecenes  \n1  Hexacarboxylic acids and derivatives  \n2  Hexacarboxylic acids and derivatives  \n3  Hexacarboxylic acids and derivatives  \n4                        Steroid esters  ",
      "text/html": "<div>\n<style scoped>\n    .dataframe tbody tr th:only-of-type {\n        vertical-align: middle;\n    }\n\n    .dataframe tbody tr th {\n        vertical-align: top;\n    }\n\n    .dataframe thead th {\n        text-align: right;\n    }\n</style>\n<table border=\"1\" class=\"dataframe\">\n  <thead>\n    <tr style=\"text-align: right;\">\n      <th></th>\n      <th>Classyfire_kingdom</th>\n      <th>Classyfire_Superclass</th>\n      <th>Classyfire_class</th>\n      <th>Classyfire_Subclass</th>\n      <th>direct_parent</th>\n    </tr>\n  </thead>\n  <tbody>\n    <tr>\n      <th>0</th>\n      <td>Organic compounds</td>\n      <td>Lipids and lipid-like molecules</td>\n      <td>Prenol lipids</td>\n      <td>Sesquiterpenoids</td>\n      <td>Trichothecenes</td>\n    </tr>\n    <tr>\n      <th>1</th>\n      <td>Organic compounds</td>\n      <td>Organic acids and derivatives</td>\n      <td>Carboxylic acids and derivatives</td>\n      <td>Hexacarboxylic acids and derivatives</td>\n      <td>Hexacarboxylic acids and derivatives</td>\n    </tr>\n    <tr>\n      <th>2</th>\n      <td>Organic compounds</td>\n      <td>Organic acids and derivatives</td>\n      <td>Carboxylic acids and derivatives</td>\n      <td>Hexacarboxylic acids and derivatives</td>\n      <td>Hexacarboxylic acids and derivatives</td>\n    </tr>\n    <tr>\n      <th>3</th>\n      <td>Organic compounds</td>\n      <td>Organic acids and derivatives</td>\n      <td>Carboxylic acids and derivatives</td>\n      <td>Hexacarboxylic acids and derivatives</td>\n      <td>Hexacarboxylic acids and derivatives</td>\n    </tr>\n    <tr>\n      <th>4</th>\n      <td>Organic compounds</td>\n      <td>Lipids and lipid-like molecules</td>\n      <td>Steroids and steroid derivatives</td>\n      <td>Steroid esters</td>\n      <td>Steroid esters</td>\n    </tr>\n  </tbody>\n</table>\n</div>"
     },
     "execution_count": 147,
     "metadata": {},
     "output_type": "execute_result"
    }
   ],
   "source": [
    "df_classyfire.head()"
   ],
   "metadata": {
    "collapsed": false,
    "ExecuteTime": {
     "end_time": "2024-02-01T11:15:42.625313500Z",
     "start_time": "2024-02-01T11:15:42.609898900Z"
    }
   },
   "id": "d0d704bc9e7b0551",
   "execution_count": 147
  },
  {
   "cell_type": "markdown",
   "source": [
    "Ajouter ligne par ligne à df null"
   ],
   "metadata": {
    "collapsed": false
   },
   "id": "83346eb9c8328b5b"
  },
  {
   "cell_type": "code",
   "outputs": [],
   "source": [
    "df_concatenated = pd.concat([df_msp_null, df_classyfire], axis=1)"
   ],
   "metadata": {
    "collapsed": false,
    "ExecuteTime": {
     "end_time": "2024-02-01T11:15:42.625313500Z",
     "start_time": "2024-02-01T11:15:42.614416Z"
    }
   },
   "id": "fa8b59e8a1722ee4",
   "execution_count": 148
  },
  {
   "cell_type": "code",
   "outputs": [
    {
     "data": {
      "text/plain": "   FILENAME PREDICTED                     INCHIKEY  Classyfire_Superclass_1  \\\n0  MassBank     False  GRFAWUZMBBQEMX-IJNZYEPRSA-N                      NaN   \n1  MassBank     False  PUZDIGQDECBVJT-FLTFDZFMSA-N                      NaN   \n2  MassBank     False  GZCJIEXTWGJVIN-MKHOGIGVSA-N                      NaN   \n3  MassBank     False  ROPHOAFGZRNKDO-SNXTYUPGSA-N                      NaN   \n4  MassBank     False  LBBHTACWNVOYKN-SNQWNFAUSA-N                      NaN   \n\n   Classyfire_class_1  Classyfire_Subclass_1 Classyfire_kingdom  \\\n0                 NaN                    NaN  Organic compounds   \n1                 NaN                    NaN  Organic compounds   \n2                 NaN                    NaN  Organic compounds   \n3                 NaN                    NaN  Organic compounds   \n4                 NaN                    NaN  Organic compounds   \n\n             Classyfire_Superclass                  Classyfire_class  \\\n0  Lipids and lipid-like molecules                     Prenol lipids   \n1    Organic acids and derivatives  Carboxylic acids and derivatives   \n2    Organic acids and derivatives  Carboxylic acids and derivatives   \n3    Organic acids and derivatives  Carboxylic acids and derivatives   \n4  Lipids and lipid-like molecules  Steroids and steroid derivatives   \n\n                    Classyfire_Subclass                         direct_parent  \n0                      Sesquiterpenoids                        Trichothecenes  \n1  Hexacarboxylic acids and derivatives  Hexacarboxylic acids and derivatives  \n2  Hexacarboxylic acids and derivatives  Hexacarboxylic acids and derivatives  \n3  Hexacarboxylic acids and derivatives  Hexacarboxylic acids and derivatives  \n4                        Steroid esters                        Steroid esters  ",
      "text/html": "<div>\n<style scoped>\n    .dataframe tbody tr th:only-of-type {\n        vertical-align: middle;\n    }\n\n    .dataframe tbody tr th {\n        vertical-align: top;\n    }\n\n    .dataframe thead th {\n        text-align: right;\n    }\n</style>\n<table border=\"1\" class=\"dataframe\">\n  <thead>\n    <tr style=\"text-align: right;\">\n      <th></th>\n      <th>FILENAME</th>\n      <th>PREDICTED</th>\n      <th>INCHIKEY</th>\n      <th>Classyfire_Superclass_1</th>\n      <th>Classyfire_class_1</th>\n      <th>Classyfire_Subclass_1</th>\n      <th>Classyfire_kingdom</th>\n      <th>Classyfire_Superclass</th>\n      <th>Classyfire_class</th>\n      <th>Classyfire_Subclass</th>\n      <th>direct_parent</th>\n    </tr>\n  </thead>\n  <tbody>\n    <tr>\n      <th>0</th>\n      <td>MassBank</td>\n      <td>False</td>\n      <td>GRFAWUZMBBQEMX-IJNZYEPRSA-N</td>\n      <td>NaN</td>\n      <td>NaN</td>\n      <td>NaN</td>\n      <td>Organic compounds</td>\n      <td>Lipids and lipid-like molecules</td>\n      <td>Prenol lipids</td>\n      <td>Sesquiterpenoids</td>\n      <td>Trichothecenes</td>\n    </tr>\n    <tr>\n      <th>1</th>\n      <td>MassBank</td>\n      <td>False</td>\n      <td>PUZDIGQDECBVJT-FLTFDZFMSA-N</td>\n      <td>NaN</td>\n      <td>NaN</td>\n      <td>NaN</td>\n      <td>Organic compounds</td>\n      <td>Organic acids and derivatives</td>\n      <td>Carboxylic acids and derivatives</td>\n      <td>Hexacarboxylic acids and derivatives</td>\n      <td>Hexacarboxylic acids and derivatives</td>\n    </tr>\n    <tr>\n      <th>2</th>\n      <td>MassBank</td>\n      <td>False</td>\n      <td>GZCJIEXTWGJVIN-MKHOGIGVSA-N</td>\n      <td>NaN</td>\n      <td>NaN</td>\n      <td>NaN</td>\n      <td>Organic compounds</td>\n      <td>Organic acids and derivatives</td>\n      <td>Carboxylic acids and derivatives</td>\n      <td>Hexacarboxylic acids and derivatives</td>\n      <td>Hexacarboxylic acids and derivatives</td>\n    </tr>\n    <tr>\n      <th>3</th>\n      <td>MassBank</td>\n      <td>False</td>\n      <td>ROPHOAFGZRNKDO-SNXTYUPGSA-N</td>\n      <td>NaN</td>\n      <td>NaN</td>\n      <td>NaN</td>\n      <td>Organic compounds</td>\n      <td>Organic acids and derivatives</td>\n      <td>Carboxylic acids and derivatives</td>\n      <td>Hexacarboxylic acids and derivatives</td>\n      <td>Hexacarboxylic acids and derivatives</td>\n    </tr>\n    <tr>\n      <th>4</th>\n      <td>MassBank</td>\n      <td>False</td>\n      <td>LBBHTACWNVOYKN-SNQWNFAUSA-N</td>\n      <td>NaN</td>\n      <td>NaN</td>\n      <td>NaN</td>\n      <td>Organic compounds</td>\n      <td>Lipids and lipid-like molecules</td>\n      <td>Steroids and steroid derivatives</td>\n      <td>Steroid esters</td>\n      <td>Steroid esters</td>\n    </tr>\n  </tbody>\n</table>\n</div>"
     },
     "execution_count": 149,
     "metadata": {},
     "output_type": "execute_result"
    }
   ],
   "source": [
    "df_concatenated.head()"
   ],
   "metadata": {
    "collapsed": false,
    "ExecuteTime": {
     "end_time": "2024-02-01T11:15:42.655883500Z",
     "start_time": "2024-02-01T11:15:42.623313800Z"
    }
   },
   "id": "820855759b60bc2e",
   "execution_count": 149
  },
  {
   "cell_type": "code",
   "outputs": [],
   "source": [
    "df_concatenated = df_concatenated.drop('Classyfire_Superclass_1', axis=1)\n",
    "df_concatenated = df_concatenated.drop('Classyfire_class_1', axis=1)\n",
    "df_concatenated = df_concatenated.drop('Classyfire_Subclass_1', axis=1)"
   ],
   "metadata": {
    "collapsed": false,
    "ExecuteTime": {
     "end_time": "2024-02-01T11:15:42.666710Z",
     "start_time": "2024-02-01T11:15:42.631054900Z"
    }
   },
   "id": "6e96cdc166375b7b",
   "execution_count": 150
  },
  {
   "cell_type": "markdown",
   "source": [
    "Renommer les colonnes voulu"
   ],
   "metadata": {
    "collapsed": false
   },
   "id": "e1c86879e1b24fc6"
  },
  {
   "cell_type": "code",
   "outputs": [],
   "source": [
    "df_concatenated = df_concatenated.rename(columns={'Classyfire_Superclass': 'superclass'})\n",
    "df_concatenated = df_concatenated.rename(columns={'Classyfire_class': 'class'})\n",
    "df_concatenated = df_concatenated.rename(columns={'Classyfire_Subclass': 'subclass'})"
   ],
   "metadata": {
    "collapsed": false,
    "ExecuteTime": {
     "end_time": "2024-02-01T11:15:42.699735700Z",
     "start_time": "2024-02-01T11:15:42.642306800Z"
    }
   },
   "id": "73eff8f52da1f508",
   "execution_count": 151
  },
  {
   "cell_type": "code",
   "outputs": [
    {
     "data": {
      "text/plain": "   FILENAME PREDICTED                     INCHIKEY Classyfire_kingdom  \\\n0  MassBank     False  GRFAWUZMBBQEMX-IJNZYEPRSA-N  Organic compounds   \n1  MassBank     False  PUZDIGQDECBVJT-FLTFDZFMSA-N  Organic compounds   \n2  MassBank     False  GZCJIEXTWGJVIN-MKHOGIGVSA-N  Organic compounds   \n3  MassBank     False  ROPHOAFGZRNKDO-SNXTYUPGSA-N  Organic compounds   \n4  MassBank     False  LBBHTACWNVOYKN-SNQWNFAUSA-N  Organic compounds   \n\n                        superclass                             class  \\\n0  Lipids and lipid-like molecules                     Prenol lipids   \n1    Organic acids and derivatives  Carboxylic acids and derivatives   \n2    Organic acids and derivatives  Carboxylic acids and derivatives   \n3    Organic acids and derivatives  Carboxylic acids and derivatives   \n4  Lipids and lipid-like molecules  Steroids and steroid derivatives   \n\n                               subclass                         direct_parent  \n0                      Sesquiterpenoids                        Trichothecenes  \n1  Hexacarboxylic acids and derivatives  Hexacarboxylic acids and derivatives  \n2  Hexacarboxylic acids and derivatives  Hexacarboxylic acids and derivatives  \n3  Hexacarboxylic acids and derivatives  Hexacarboxylic acids and derivatives  \n4                        Steroid esters                        Steroid esters  ",
      "text/html": "<div>\n<style scoped>\n    .dataframe tbody tr th:only-of-type {\n        vertical-align: middle;\n    }\n\n    .dataframe tbody tr th {\n        vertical-align: top;\n    }\n\n    .dataframe thead th {\n        text-align: right;\n    }\n</style>\n<table border=\"1\" class=\"dataframe\">\n  <thead>\n    <tr style=\"text-align: right;\">\n      <th></th>\n      <th>FILENAME</th>\n      <th>PREDICTED</th>\n      <th>INCHIKEY</th>\n      <th>Classyfire_kingdom</th>\n      <th>superclass</th>\n      <th>class</th>\n      <th>subclass</th>\n      <th>direct_parent</th>\n    </tr>\n  </thead>\n  <tbody>\n    <tr>\n      <th>0</th>\n      <td>MassBank</td>\n      <td>False</td>\n      <td>GRFAWUZMBBQEMX-IJNZYEPRSA-N</td>\n      <td>Organic compounds</td>\n      <td>Lipids and lipid-like molecules</td>\n      <td>Prenol lipids</td>\n      <td>Sesquiterpenoids</td>\n      <td>Trichothecenes</td>\n    </tr>\n    <tr>\n      <th>1</th>\n      <td>MassBank</td>\n      <td>False</td>\n      <td>PUZDIGQDECBVJT-FLTFDZFMSA-N</td>\n      <td>Organic compounds</td>\n      <td>Organic acids and derivatives</td>\n      <td>Carboxylic acids and derivatives</td>\n      <td>Hexacarboxylic acids and derivatives</td>\n      <td>Hexacarboxylic acids and derivatives</td>\n    </tr>\n    <tr>\n      <th>2</th>\n      <td>MassBank</td>\n      <td>False</td>\n      <td>GZCJIEXTWGJVIN-MKHOGIGVSA-N</td>\n      <td>Organic compounds</td>\n      <td>Organic acids and derivatives</td>\n      <td>Carboxylic acids and derivatives</td>\n      <td>Hexacarboxylic acids and derivatives</td>\n      <td>Hexacarboxylic acids and derivatives</td>\n    </tr>\n    <tr>\n      <th>3</th>\n      <td>MassBank</td>\n      <td>False</td>\n      <td>ROPHOAFGZRNKDO-SNXTYUPGSA-N</td>\n      <td>Organic compounds</td>\n      <td>Organic acids and derivatives</td>\n      <td>Carboxylic acids and derivatives</td>\n      <td>Hexacarboxylic acids and derivatives</td>\n      <td>Hexacarboxylic acids and derivatives</td>\n    </tr>\n    <tr>\n      <th>4</th>\n      <td>MassBank</td>\n      <td>False</td>\n      <td>LBBHTACWNVOYKN-SNQWNFAUSA-N</td>\n      <td>Organic compounds</td>\n      <td>Lipids and lipid-like molecules</td>\n      <td>Steroids and steroid derivatives</td>\n      <td>Steroid esters</td>\n      <td>Steroid esters</td>\n    </tr>\n  </tbody>\n</table>\n</div>"
     },
     "execution_count": 152,
     "metadata": {},
     "output_type": "execute_result"
    }
   ],
   "source": [
    "df_concatenated.head()"
   ],
   "metadata": {
    "collapsed": false,
    "ExecuteTime": {
     "end_time": "2024-02-01T11:15:42.700735200Z",
     "start_time": "2024-02-01T11:15:42.651516300Z"
    }
   },
   "id": "43ea86d8503ecc3b",
   "execution_count": 152
  },
  {
   "cell_type": "markdown",
   "source": [
    "ouvrire df not null de pkon"
   ],
   "metadata": {
    "collapsed": false
   },
   "id": "4fb005dfa167f77b"
  },
  {
   "cell_type": "code",
   "outputs": [],
   "source": [
    "df_not_null = pd.read_excel(r\"C:\\Users\\Axel\\Documents\\Data_publi\\SunBurst\\MSP_inchikeys_classyfire_not_null.xlsx\")"
   ],
   "metadata": {
    "collapsed": false,
    "ExecuteTime": {
     "end_time": "2024-02-01T11:15:43.651142700Z",
     "start_time": "2024-02-01T11:15:42.655883500Z"
    }
   },
   "id": "ab9bb60ae62475a7",
   "execution_count": 153
  },
  {
   "cell_type": "code",
   "outputs": [
    {
     "data": {
      "text/plain": "   FILENAME  PREDICTED                     INCHIKEY  \\\n0  MassBank      False  PUMXWMGECQIOGB-SMSDQXDJSA-N   \n1  MassBank      False  CBUOBMSAFIYYEJ-ZCFIWIBFSA-N   \n2  MassBank      False  FNSQKFOXORBCCC-WBWZXODPSA-N   \n3  MassBank      False  HNMWDXUKPJZOQD-UHFFFAOYSA-N   \n4  MassBank      False  WYYKRDVIBOEORL-JLCKPESSSA-N   \n\n                         superclass                             class  \\\n0   Lipids and lipid-like molecules                     Prenol lipids   \n1   Lipids and lipid-like molecules                     Prenol lipids   \n2  Phenylpropanoids and polyketides                     Tetracyclines   \n3  Phenylpropanoids and polyketides               Isochromanequinones   \n4     Organic acids and derivatives  Carboxylic acids and derivatives   \n\n           subclass  \n0  Sesquiterpenoids  \n1    Monoterpenoids  \n2               NaN  \n3               NaN  \n4        Fumonisins  ",
      "text/html": "<div>\n<style scoped>\n    .dataframe tbody tr th:only-of-type {\n        vertical-align: middle;\n    }\n\n    .dataframe tbody tr th {\n        vertical-align: top;\n    }\n\n    .dataframe thead th {\n        text-align: right;\n    }\n</style>\n<table border=\"1\" class=\"dataframe\">\n  <thead>\n    <tr style=\"text-align: right;\">\n      <th></th>\n      <th>FILENAME</th>\n      <th>PREDICTED</th>\n      <th>INCHIKEY</th>\n      <th>superclass</th>\n      <th>class</th>\n      <th>subclass</th>\n    </tr>\n  </thead>\n  <tbody>\n    <tr>\n      <th>0</th>\n      <td>MassBank</td>\n      <td>False</td>\n      <td>PUMXWMGECQIOGB-SMSDQXDJSA-N</td>\n      <td>Lipids and lipid-like molecules</td>\n      <td>Prenol lipids</td>\n      <td>Sesquiterpenoids</td>\n    </tr>\n    <tr>\n      <th>1</th>\n      <td>MassBank</td>\n      <td>False</td>\n      <td>CBUOBMSAFIYYEJ-ZCFIWIBFSA-N</td>\n      <td>Lipids and lipid-like molecules</td>\n      <td>Prenol lipids</td>\n      <td>Monoterpenoids</td>\n    </tr>\n    <tr>\n      <th>2</th>\n      <td>MassBank</td>\n      <td>False</td>\n      <td>FNSQKFOXORBCCC-WBWZXODPSA-N</td>\n      <td>Phenylpropanoids and polyketides</td>\n      <td>Tetracyclines</td>\n      <td>NaN</td>\n    </tr>\n    <tr>\n      <th>3</th>\n      <td>MassBank</td>\n      <td>False</td>\n      <td>HNMWDXUKPJZOQD-UHFFFAOYSA-N</td>\n      <td>Phenylpropanoids and polyketides</td>\n      <td>Isochromanequinones</td>\n      <td>NaN</td>\n    </tr>\n    <tr>\n      <th>4</th>\n      <td>MassBank</td>\n      <td>False</td>\n      <td>WYYKRDVIBOEORL-JLCKPESSSA-N</td>\n      <td>Organic acids and derivatives</td>\n      <td>Carboxylic acids and derivatives</td>\n      <td>Fumonisins</td>\n    </tr>\n  </tbody>\n</table>\n</div>"
     },
     "execution_count": 154,
     "metadata": {},
     "output_type": "execute_result"
    }
   ],
   "source": [
    "df_not_null.head()"
   ],
   "metadata": {
    "collapsed": false,
    "ExecuteTime": {
     "end_time": "2024-02-01T11:15:43.659564900Z",
     "start_time": "2024-02-01T11:15:43.652143800Z"
    }
   },
   "id": "c6b2592ad6da4a16",
   "execution_count": 154
  },
  {
   "cell_type": "code",
   "outputs": [],
   "source": [
    "df1_selected = df_concatenated[['FILENAME', 'PREDICTED', 'INCHIKEY', 'superclass', 'class', 'subclass']]"
   ],
   "metadata": {
    "collapsed": false,
    "ExecuteTime": {
     "end_time": "2024-02-01T11:15:43.667069Z",
     "start_time": "2024-02-01T11:15:43.658564300Z"
    }
   },
   "id": "3bb98d3799812fa4",
   "execution_count": 155
  },
  {
   "cell_type": "code",
   "outputs": [
    {
     "data": {
      "text/plain": "   FILENAME PREDICTED                     INCHIKEY  \\\n0  MassBank     False  GRFAWUZMBBQEMX-IJNZYEPRSA-N   \n1  MassBank     False  PUZDIGQDECBVJT-FLTFDZFMSA-N   \n2  MassBank     False  GZCJIEXTWGJVIN-MKHOGIGVSA-N   \n3  MassBank     False  ROPHOAFGZRNKDO-SNXTYUPGSA-N   \n4  MassBank     False  LBBHTACWNVOYKN-SNQWNFAUSA-N   \n\n                        superclass                             class  \\\n0  Lipids and lipid-like molecules                     Prenol lipids   \n1    Organic acids and derivatives  Carboxylic acids and derivatives   \n2    Organic acids and derivatives  Carboxylic acids and derivatives   \n3    Organic acids and derivatives  Carboxylic acids and derivatives   \n4  Lipids and lipid-like molecules  Steroids and steroid derivatives   \n\n                               subclass  \n0                      Sesquiterpenoids  \n1  Hexacarboxylic acids and derivatives  \n2  Hexacarboxylic acids and derivatives  \n3  Hexacarboxylic acids and derivatives  \n4                        Steroid esters  ",
      "text/html": "<div>\n<style scoped>\n    .dataframe tbody tr th:only-of-type {\n        vertical-align: middle;\n    }\n\n    .dataframe tbody tr th {\n        vertical-align: top;\n    }\n\n    .dataframe thead th {\n        text-align: right;\n    }\n</style>\n<table border=\"1\" class=\"dataframe\">\n  <thead>\n    <tr style=\"text-align: right;\">\n      <th></th>\n      <th>FILENAME</th>\n      <th>PREDICTED</th>\n      <th>INCHIKEY</th>\n      <th>superclass</th>\n      <th>class</th>\n      <th>subclass</th>\n    </tr>\n  </thead>\n  <tbody>\n    <tr>\n      <th>0</th>\n      <td>MassBank</td>\n      <td>False</td>\n      <td>GRFAWUZMBBQEMX-IJNZYEPRSA-N</td>\n      <td>Lipids and lipid-like molecules</td>\n      <td>Prenol lipids</td>\n      <td>Sesquiterpenoids</td>\n    </tr>\n    <tr>\n      <th>1</th>\n      <td>MassBank</td>\n      <td>False</td>\n      <td>PUZDIGQDECBVJT-FLTFDZFMSA-N</td>\n      <td>Organic acids and derivatives</td>\n      <td>Carboxylic acids and derivatives</td>\n      <td>Hexacarboxylic acids and derivatives</td>\n    </tr>\n    <tr>\n      <th>2</th>\n      <td>MassBank</td>\n      <td>False</td>\n      <td>GZCJIEXTWGJVIN-MKHOGIGVSA-N</td>\n      <td>Organic acids and derivatives</td>\n      <td>Carboxylic acids and derivatives</td>\n      <td>Hexacarboxylic acids and derivatives</td>\n    </tr>\n    <tr>\n      <th>3</th>\n      <td>MassBank</td>\n      <td>False</td>\n      <td>ROPHOAFGZRNKDO-SNXTYUPGSA-N</td>\n      <td>Organic acids and derivatives</td>\n      <td>Carboxylic acids and derivatives</td>\n      <td>Hexacarboxylic acids and derivatives</td>\n    </tr>\n    <tr>\n      <th>4</th>\n      <td>MassBank</td>\n      <td>False</td>\n      <td>LBBHTACWNVOYKN-SNQWNFAUSA-N</td>\n      <td>Lipids and lipid-like molecules</td>\n      <td>Steroids and steroid derivatives</td>\n      <td>Steroid esters</td>\n    </tr>\n  </tbody>\n</table>\n</div>"
     },
     "execution_count": 156,
     "metadata": {},
     "output_type": "execute_result"
    }
   ],
   "source": [
    "df1_selected.head()"
   ],
   "metadata": {
    "collapsed": false,
    "ExecuteTime": {
     "end_time": "2024-02-01T11:15:43.675088500Z",
     "start_time": "2024-02-01T11:15:43.668042Z"
    }
   },
   "id": "a245229fb94a35d3",
   "execution_count": 156
  },
  {
   "cell_type": "code",
   "outputs": [],
   "source": [
    "df_concatenated = pd.concat([df_not_null, df1_selected])"
   ],
   "metadata": {
    "collapsed": false,
    "ExecuteTime": {
     "end_time": "2024-02-01T11:15:43.691215600Z",
     "start_time": "2024-02-01T11:15:43.676089300Z"
    }
   },
   "id": "57036a862fcf6044",
   "execution_count": 157
  },
  {
   "cell_type": "code",
   "outputs": [
    {
     "data": {
      "text/plain": "   FILENAME PREDICTED                     INCHIKEY  \\\n0  MassBank     False  PUMXWMGECQIOGB-SMSDQXDJSA-N   \n1  MassBank     False  CBUOBMSAFIYYEJ-ZCFIWIBFSA-N   \n2  MassBank     False  FNSQKFOXORBCCC-WBWZXODPSA-N   \n3  MassBank     False  HNMWDXUKPJZOQD-UHFFFAOYSA-N   \n4  MassBank     False  WYYKRDVIBOEORL-JLCKPESSSA-N   \n\n                         superclass                             class  \\\n0   Lipids and lipid-like molecules                     Prenol lipids   \n1   Lipids and lipid-like molecules                     Prenol lipids   \n2  Phenylpropanoids and polyketides                     Tetracyclines   \n3  Phenylpropanoids and polyketides               Isochromanequinones   \n4     Organic acids and derivatives  Carboxylic acids and derivatives   \n\n           subclass  \n0  Sesquiterpenoids  \n1    Monoterpenoids  \n2               NaN  \n3               NaN  \n4        Fumonisins  ",
      "text/html": "<div>\n<style scoped>\n    .dataframe tbody tr th:only-of-type {\n        vertical-align: middle;\n    }\n\n    .dataframe tbody tr th {\n        vertical-align: top;\n    }\n\n    .dataframe thead th {\n        text-align: right;\n    }\n</style>\n<table border=\"1\" class=\"dataframe\">\n  <thead>\n    <tr style=\"text-align: right;\">\n      <th></th>\n      <th>FILENAME</th>\n      <th>PREDICTED</th>\n      <th>INCHIKEY</th>\n      <th>superclass</th>\n      <th>class</th>\n      <th>subclass</th>\n    </tr>\n  </thead>\n  <tbody>\n    <tr>\n      <th>0</th>\n      <td>MassBank</td>\n      <td>False</td>\n      <td>PUMXWMGECQIOGB-SMSDQXDJSA-N</td>\n      <td>Lipids and lipid-like molecules</td>\n      <td>Prenol lipids</td>\n      <td>Sesquiterpenoids</td>\n    </tr>\n    <tr>\n      <th>1</th>\n      <td>MassBank</td>\n      <td>False</td>\n      <td>CBUOBMSAFIYYEJ-ZCFIWIBFSA-N</td>\n      <td>Lipids and lipid-like molecules</td>\n      <td>Prenol lipids</td>\n      <td>Monoterpenoids</td>\n    </tr>\n    <tr>\n      <th>2</th>\n      <td>MassBank</td>\n      <td>False</td>\n      <td>FNSQKFOXORBCCC-WBWZXODPSA-N</td>\n      <td>Phenylpropanoids and polyketides</td>\n      <td>Tetracyclines</td>\n      <td>NaN</td>\n    </tr>\n    <tr>\n      <th>3</th>\n      <td>MassBank</td>\n      <td>False</td>\n      <td>HNMWDXUKPJZOQD-UHFFFAOYSA-N</td>\n      <td>Phenylpropanoids and polyketides</td>\n      <td>Isochromanequinones</td>\n      <td>NaN</td>\n    </tr>\n    <tr>\n      <th>4</th>\n      <td>MassBank</td>\n      <td>False</td>\n      <td>WYYKRDVIBOEORL-JLCKPESSSA-N</td>\n      <td>Organic acids and derivatives</td>\n      <td>Carboxylic acids and derivatives</td>\n      <td>Fumonisins</td>\n    </tr>\n  </tbody>\n</table>\n</div>"
     },
     "execution_count": 158,
     "metadata": {},
     "output_type": "execute_result"
    }
   ],
   "source": [
    "df_concatenated.head()"
   ],
   "metadata": {
    "collapsed": false,
    "ExecuteTime": {
     "end_time": "2024-02-01T11:15:43.723203300Z",
     "start_time": "2024-02-01T11:15:43.683531100Z"
    }
   },
   "id": "14e59981e6600985",
   "execution_count": 158
  },
  {
   "cell_type": "code",
   "outputs": [],
   "source": [
    "df_concatenated['FILENAME'] = df_concatenated['FILENAME'].apply(lambda x: 'GNPS' if str(x).endswith('.mgf') else x)"
   ],
   "metadata": {
    "collapsed": false,
    "ExecuteTime": {
     "end_time": "2024-02-01T11:15:43.740204900Z",
     "start_time": "2024-02-01T11:15:43.691215600Z"
    }
   },
   "id": "e066ca2f4e25b37d",
   "execution_count": 159
  },
  {
   "cell_type": "code",
   "outputs": [],
   "source": [
    "df_concatenated['FILENAME'] = df_concatenated['FILENAME'].replace('MSMS_Public', 'MS-Dial')"
   ],
   "metadata": {
    "collapsed": false,
    "ExecuteTime": {
     "end_time": "2024-02-01T11:15:43.741205600Z",
     "start_time": "2024-02-01T11:15:43.701377600Z"
    }
   },
   "id": "ca95169b2a7abe31",
   "execution_count": 160
  },
  {
   "cell_type": "code",
   "outputs": [],
   "source": [
    "df_concatenated.dropna(subset=['FILENAME'], inplace=True)"
   ],
   "metadata": {
    "collapsed": false,
    "ExecuteTime": {
     "end_time": "2024-02-01T11:17:33.345733Z",
     "start_time": "2024-02-01T11:17:33.336971900Z"
    }
   },
   "id": "919da5651179626a",
   "execution_count": 162
  },
  {
   "cell_type": "code",
   "outputs": [],
   "source": [
    "df_concatenated.to_excel(r\"C:\\Users\\Axel\\Documents\\Data_publi\\SunBurst\\Result_classyfire\\FragHub_Classyfire.xlsx\")"
   ],
   "metadata": {
    "collapsed": false,
    "ExecuteTime": {
     "end_time": "2024-02-01T11:17:37.493251Z",
     "start_time": "2024-02-01T11:17:34.047664700Z"
    }
   },
   "id": "1bdb3207f528aaa8",
   "execution_count": 163
  },
  {
   "cell_type": "code",
   "outputs": [
    {
     "name": "stdout",
     "output_type": "stream",
     "text": [
      "['Lipids and lipid-like molecules', 'Phenylpropanoids and polyketides', 'Organic acids and derivatives', 'Benzenoids', 'Organoheterocyclic compounds', 'Organohalogen compounds', 'Organic oxygen compounds', 'Organic nitrogen compounds', 'Nucleosides, nucleotides, and analogues', 'Lignans, neolignans and related compounds', 'Organosulfur compounds', 'Alkaloids and derivatives', 'Organophosphorus compounds', 'Hydrocarbon derivatives', 'Hydrocarbons', 'Homogeneous non-metal compounds', 'Organic 1,3-dipolar compounds', 'Organic Polymers', 'Organometallic compounds', None, nan]\n"
     ]
    }
   ],
   "source": [
    "unique_values = df_concatenated['superclass'].unique().tolist()\n",
    "print(unique_values)"
   ],
   "metadata": {
    "collapsed": false,
    "ExecuteTime": {
     "end_time": "2024-02-02T08:58:45.813207800Z",
     "start_time": "2024-02-02T08:58:45.811700700Z"
    }
   },
   "id": "898ac1eda1842c0d",
   "execution_count": 165
  },
  {
   "cell_type": "code",
   "outputs": [],
   "source": [],
   "metadata": {
    "collapsed": false
   },
   "id": "46756fd631e26157"
  }
 ],
 "metadata": {
  "kernelspec": {
   "display_name": "Python 3",
   "language": "python",
   "name": "python3"
  },
  "language_info": {
   "codemirror_mode": {
    "name": "ipython",
    "version": 2
   },
   "file_extension": ".py",
   "mimetype": "text/x-python",
   "name": "python",
   "nbconvert_exporter": "python",
   "pygments_lexer": "ipython2",
   "version": "2.7.6"
  }
 },
 "nbformat": 4,
 "nbformat_minor": 5
}
