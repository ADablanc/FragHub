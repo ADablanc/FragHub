{
 "cells": [
  {
   "cell_type": "code",
   "execution_count": 2,
   "id": "initial_id",
   "metadata": {
    "collapsed": true,
    "ExecuteTime": {
     "end_time": "2024-02-01T08:56:48.769380300Z",
     "start_time": "2024-02-01T08:56:48.521250300Z"
    }
   },
   "outputs": [],
   "source": [
    "import plotly.express as px\n",
    "import pandas as pd"
   ]
  },
  {
   "cell_type": "code",
   "outputs": [],
   "source": [
    "df_classyfire = pd.read_excel(r\"C:\\Users\\Axel\\Documents\\Data_publi\\SunBurst\\Result_classyfire\\FragHub_Classyfire.xlsx\")"
   ],
   "metadata": {
    "collapsed": false,
    "ExecuteTime": {
     "end_time": "2024-02-01T08:56:51.075084100Z",
     "start_time": "2024-02-01T08:56:49.327650800Z"
    }
   },
   "id": "fea18d9a9e24f39b",
   "execution_count": 3
  },
  {
   "cell_type": "code",
   "outputs": [],
   "source": [
    "df_MoNA = df_classyfire[df_classyfire['FILENAME'] == 'MoNA']"
   ],
   "metadata": {
    "collapsed": false
   },
   "id": "3b351a7a3c685957"
  },
  {
   "cell_type": "code",
   "outputs": [],
   "source": [
    "df_MS_Dial = df_classyfire[df_classyfire['FILENAME'] == 'MS-Dial']"
   ],
   "metadata": {
    "collapsed": false
   },
   "id": "3d580ca51ceb7c41"
  },
  {
   "cell_type": "code",
   "outputs": [],
   "source": [
    "df_MassBank = df_classyfire[df_classyfire['FILENAME'] == 'MassBank']"
   ],
   "metadata": {
    "collapsed": false
   },
   "id": "756f1d15a93330cd"
  },
  {
   "cell_type": "code",
   "outputs": [],
   "source": [
    "df_GNPS = df_classyfire[df_classyfire['FILENAME'] == 'GNPS']"
   ],
   "metadata": {
    "collapsed": false
   },
   "id": "dce58dfa64867b7f"
  },
  {
   "cell_type": "markdown",
   "source": [
    "MoNA"
   ],
   "metadata": {
    "collapsed": false
   },
   "id": "7cb02e80807d9a1f"
  },
  {
   "cell_type": "code",
   "outputs": [],
   "source": [
    "couleurs_hex = ['#FF5733', '#33FF57', '#5733FF', '#FF33A1', '#33A1FF', '#A1FF33', '#FF3366', '#3366FF', '#66FF33', '#FFCC33']"
   ],
   "metadata": {
    "collapsed": false
   },
   "id": "2ac344bdae633791"
  },
  {
   "cell_type": "code",
   "outputs": [],
   "source": [
    "color_dict = {valeur: couleur for valeur, couleur in zip(df_MoNA[\"CLASSYFIRE_CLASS\"].unique(), couleurs_hex)}"
   ],
   "metadata": {
    "collapsed": false
   },
   "id": "82a136168deacc85"
  },
  {
   "cell_type": "code",
   "outputs": [],
   "source": [
    "fig = px.sunburst(df_MoNA,path=['CLASSYFIRE_CLASS', 'CLASSYFIRE_SUBCLASS'],values = COLONNES_COUNT,width=750, height=750,color='CLASSYFIRE_CLASS',color_discrete_map=color_dict)"
   ],
   "metadata": {
    "collapsed": false
   },
   "id": "8d4ef27c553f6a8"
  },
  {
   "cell_type": "code",
   "outputs": [],
   "source": [
    "fig.show()"
   ],
   "metadata": {
    "collapsed": false
   },
   "id": "854a30871e92ed17"
  }
 ],
 "metadata": {
  "kernelspec": {
   "display_name": "Python 3",
   "language": "python",
   "name": "python3"
  },
  "language_info": {
   "codemirror_mode": {
    "name": "ipython",
    "version": 2
   },
   "file_extension": ".py",
   "mimetype": "text/x-python",
   "name": "python",
   "nbconvert_exporter": "python",
   "pygments_lexer": "ipython2",
   "version": "2.7.6"
  }
 },
 "nbformat": 4,
 "nbformat_minor": 5
}
