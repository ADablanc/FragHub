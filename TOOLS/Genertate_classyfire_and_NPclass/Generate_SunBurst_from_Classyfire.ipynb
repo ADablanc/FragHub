{
 "cells": [
  {
   "cell_type": "code",
   "execution_count": 4,
   "id": "initial_id",
   "metadata": {
    "collapsed": true,
    "ExecuteTime": {
     "end_time": "2024-02-01T09:16:31.904576600Z",
     "start_time": "2024-02-01T09:16:31.902524800Z"
    }
   },
   "outputs": [],
   "source": [
    "import plotly.express as px\n",
    "import pandas as pd"
   ]
  },
  {
   "cell_type": "code",
   "outputs": [],
   "source": [
    "df_classyfire = pd.read_excel(r\"C:\\Users\\Axel\\Documents\\Data_publi\\SunBurst\\Result_classyfire\\FragHub_Classyfire.xlsx\")"
   ],
   "metadata": {
    "collapsed": false,
    "ExecuteTime": {
     "end_time": "2024-02-01T09:16:33.549507700Z",
     "start_time": "2024-02-01T09:16:31.904576600Z"
    }
   },
   "id": "fea18d9a9e24f39b",
   "execution_count": 5
  },
  {
   "cell_type": "code",
   "outputs": [],
   "source": [
    "df_MoNA = df_classyfire[df_classyfire['FILENAME'] == 'MoNA']"
   ],
   "metadata": {
    "collapsed": false,
    "ExecuteTime": {
     "end_time": "2024-02-01T09:16:33.554765400Z",
     "start_time": "2024-02-01T09:16:33.550507800Z"
    }
   },
   "id": "3b351a7a3c685957",
   "execution_count": 6
  },
  {
   "cell_type": "code",
   "outputs": [],
   "source": [
    "df_MS_Dial = df_classyfire[df_classyfire['FILENAME'] == 'MS-Dial']"
   ],
   "metadata": {
    "collapsed": false,
    "ExecuteTime": {
     "end_time": "2024-02-01T09:16:33.564261800Z",
     "start_time": "2024-02-01T09:16:33.554765400Z"
    }
   },
   "id": "3d580ca51ceb7c41",
   "execution_count": 7
  },
  {
   "cell_type": "code",
   "outputs": [],
   "source": [
    "df_MassBank = df_classyfire[df_classyfire['FILENAME'] == 'MassBank']"
   ],
   "metadata": {
    "collapsed": false,
    "ExecuteTime": {
     "end_time": "2024-02-01T09:16:33.577944100Z",
     "start_time": "2024-02-01T09:16:33.565261600Z"
    }
   },
   "id": "756f1d15a93330cd",
   "execution_count": 8
  },
  {
   "cell_type": "code",
   "outputs": [],
   "source": [
    "df_GNPS = df_classyfire[df_classyfire['FILENAME'] == 'GNPS']"
   ],
   "metadata": {
    "collapsed": false,
    "ExecuteTime": {
     "end_time": "2024-02-01T09:16:33.583696300Z",
     "start_time": "2024-02-01T09:16:33.572939600Z"
    }
   },
   "id": "dce58dfa64867b7f",
   "execution_count": 9
  },
  {
   "cell_type": "code",
   "outputs": [],
   "source": [],
   "metadata": {
    "collapsed": false,
    "ExecuteTime": {
     "end_time": "2024-02-01T09:16:33.583696300Z",
     "start_time": "2024-02-01T09:16:33.581189700Z"
    }
   },
   "id": "c17a9afcdd883fe1",
   "execution_count": 9
  },
  {
   "cell_type": "code",
   "outputs": [],
   "source": [
    "df_MoNA.to_excel(r\"C:\\Users\\Axel\\Documents\\Data_publi\\SunBurst\\Result_classyfire\\MoNA.xlsx\")"
   ],
   "metadata": {
    "collapsed": false,
    "ExecuteTime": {
     "end_time": "2024-02-01T09:16:33.905896600Z",
     "start_time": "2024-02-01T09:16:33.582696200Z"
    }
   },
   "id": "aa9d5652f8177582",
   "execution_count": 10
  },
  {
   "cell_type": "code",
   "outputs": [],
   "source": [
    "df_MS_Dial.to_excel(r\"C:\\Users\\Axel\\Documents\\Data_publi\\SunBurst\\Result_classyfire\\MS_Dial.xlsx\")"
   ],
   "metadata": {
    "collapsed": false,
    "ExecuteTime": {
     "end_time": "2024-02-01T09:16:35.291801200Z",
     "start_time": "2024-02-01T09:16:33.906894300Z"
    }
   },
   "id": "14fd4e35a1a6503",
   "execution_count": 11
  },
  {
   "cell_type": "code",
   "outputs": [],
   "source": [
    "df_MassBank.to_excel(r\"C:\\Users\\Axel\\Documents\\Data_publi\\SunBurst\\Result_classyfire\\MassBank.xlsx\")"
   ],
   "metadata": {
    "collapsed": false,
    "ExecuteTime": {
     "end_time": "2024-02-01T09:16:35.963281200Z",
     "start_time": "2024-02-01T09:16:35.292801400Z"
    }
   },
   "id": "2a8d9960016ad726",
   "execution_count": 12
  },
  {
   "cell_type": "code",
   "outputs": [],
   "source": [
    "df_GNPS.to_excel(r\"C:\\Users\\Axel\\Documents\\Data_publi\\SunBurst\\Result_classyfire\\GNPS.xlsx\")"
   ],
   "metadata": {
    "collapsed": false,
    "ExecuteTime": {
     "end_time": "2024-02-01T09:16:36.768730400Z",
     "start_time": "2024-02-01T09:16:35.964295Z"
    }
   },
   "id": "76c98379b57b8a7d",
   "execution_count": 13
  }
 ],
 "metadata": {
  "kernelspec": {
   "display_name": "Python 3",
   "language": "python",
   "name": "python3"
  },
  "language_info": {
   "codemirror_mode": {
    "name": "ipython",
    "version": 2
   },
   "file_extension": ".py",
   "mimetype": "text/x-python",
   "name": "python",
   "nbconvert_exporter": "python",
   "pygments_lexer": "ipython2",
   "version": "2.7.6"
  }
 },
 "nbformat": 4,
 "nbformat_minor": 5
}
