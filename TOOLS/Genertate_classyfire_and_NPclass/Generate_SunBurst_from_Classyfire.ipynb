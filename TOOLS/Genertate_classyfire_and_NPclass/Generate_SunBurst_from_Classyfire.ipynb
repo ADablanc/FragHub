{
 "cells": [
  {
   "cell_type": "code",
   "execution_count": 14,
   "id": "initial_id",
   "metadata": {
    "collapsed": true,
    "ExecuteTime": {
     "end_time": "2024-02-01T13:00:37.468246100Z",
     "start_time": "2024-02-01T13:00:37.392870800Z"
    }
   },
   "outputs": [],
   "source": [
    "import plotly.express as px\n",
    "import pandas as pd"
   ]
  },
  {
   "cell_type": "code",
   "outputs": [],
   "source": [
    "df_classyfire = pd.read_excel(r\"C:\\Users\\Axel\\Documents\\Data_publi\\SunBurst\\Result_classyfire\\FragHub_Classyfire.xlsx\")"
   ],
   "metadata": {
    "collapsed": false,
    "ExecuteTime": {
     "end_time": "2024-02-01T13:00:39.083593100Z",
     "start_time": "2024-02-01T13:00:37.394875300Z"
    }
   },
   "id": "fea18d9a9e24f39b",
   "execution_count": 15
  },
  {
   "cell_type": "code",
   "outputs": [],
   "source": [
    "df_MoNA = df_classyfire[df_classyfire['FILENAME'] == 'MoNA']"
   ],
   "metadata": {
    "collapsed": false,
    "ExecuteTime": {
     "end_time": "2024-02-01T13:00:39.089452600Z",
     "start_time": "2024-02-01T13:00:39.083593100Z"
    }
   },
   "id": "3b351a7a3c685957",
   "execution_count": 16
  },
  {
   "cell_type": "code",
   "outputs": [],
   "source": [
    "df_MS_Dial = df_classyfire[df_classyfire['FILENAME'] == 'MS-Dial']"
   ],
   "metadata": {
    "collapsed": false,
    "ExecuteTime": {
     "end_time": "2024-02-01T13:00:39.099861700Z",
     "start_time": "2024-02-01T13:00:39.088449400Z"
    }
   },
   "id": "3d580ca51ceb7c41",
   "execution_count": 17
  },
  {
   "cell_type": "code",
   "outputs": [],
   "source": [
    "df_MassBank = df_classyfire[df_classyfire['FILENAME'] == 'MassBank']"
   ],
   "metadata": {
    "collapsed": false,
    "ExecuteTime": {
     "end_time": "2024-02-01T13:00:39.109080700Z",
     "start_time": "2024-02-01T13:00:39.100862100Z"
    }
   },
   "id": "756f1d15a93330cd",
   "execution_count": 18
  },
  {
   "cell_type": "code",
   "outputs": [],
   "source": [
    "df_GNPS = df_classyfire[df_classyfire['FILENAME'] == 'GNPS']"
   ],
   "metadata": {
    "collapsed": false,
    "ExecuteTime": {
     "end_time": "2024-02-01T13:00:39.115372Z",
     "start_time": "2024-02-01T13:00:39.107077500Z"
    }
   },
   "id": "dce58dfa64867b7f",
   "execution_count": 19
  },
  {
   "cell_type": "code",
   "outputs": [],
   "source": [],
   "metadata": {
    "collapsed": false,
    "ExecuteTime": {
     "end_time": "2024-02-01T13:00:39.118878100Z",
     "start_time": "2024-02-01T13:00:39.115372Z"
    }
   },
   "id": "c17a9afcdd883fe1",
   "execution_count": 19
  },
  {
   "cell_type": "code",
   "outputs": [],
   "source": [
    "df_MoNA.to_excel(r\"C:\\Users\\Axel\\Documents\\Data_publi\\SunBurst\\Result_classyfire\\MoNA.xlsx\")"
   ],
   "metadata": {
    "collapsed": false,
    "ExecuteTime": {
     "end_time": "2024-02-01T13:00:39.497469500Z",
     "start_time": "2024-02-01T13:00:39.116878800Z"
    }
   },
   "id": "aa9d5652f8177582",
   "execution_count": 20
  },
  {
   "cell_type": "code",
   "outputs": [],
   "source": [
    "df_MS_Dial.to_excel(r\"C:\\Users\\Axel\\Documents\\Data_publi\\SunBurst\\Result_classyfire\\MS_Dial.xlsx\")"
   ],
   "metadata": {
    "collapsed": false,
    "ExecuteTime": {
     "end_time": "2024-02-01T13:00:41.239103300Z",
     "start_time": "2024-02-01T13:00:39.498826200Z"
    }
   },
   "id": "14fd4e35a1a6503",
   "execution_count": 21
  },
  {
   "cell_type": "code",
   "outputs": [],
   "source": [
    "df_MassBank.to_excel(r\"C:\\Users\\Axel\\Documents\\Data_publi\\SunBurst\\Result_classyfire\\MassBank.xlsx\")"
   ],
   "metadata": {
    "collapsed": false,
    "ExecuteTime": {
     "end_time": "2024-02-01T13:00:41.970049300Z",
     "start_time": "2024-02-01T13:00:41.240102900Z"
    }
   },
   "id": "2a8d9960016ad726",
   "execution_count": 22
  },
  {
   "cell_type": "code",
   "outputs": [],
   "source": [
    "df_GNPS.to_excel(r\"C:\\Users\\Axel\\Documents\\Data_publi\\SunBurst\\Result_classyfire\\GNPS.xlsx\")"
   ],
   "metadata": {
    "collapsed": false,
    "ExecuteTime": {
     "end_time": "2024-02-01T13:00:42.870815700Z",
     "start_time": "2024-02-01T13:00:41.971049700Z"
    }
   },
   "id": "76c98379b57b8a7d",
   "execution_count": 23
  }
 ],
 "metadata": {
  "kernelspec": {
   "display_name": "Python 3",
   "language": "python",
   "name": "python3"
  },
  "language_info": {
   "codemirror_mode": {
    "name": "ipython",
    "version": 2
   },
   "file_extension": ".py",
   "mimetype": "text/x-python",
   "name": "python",
   "nbconvert_exporter": "python",
   "pygments_lexer": "ipython2",
   "version": "2.7.6"
  }
 },
 "nbformat": 4,
 "nbformat_minor": 5
}
