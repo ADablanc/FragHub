{
 "cells": [
  {
   "cell_type": "code",
   "execution_count": 1,
   "id": "initial_id",
   "metadata": {
    "collapsed": true,
    "ExecuteTime": {
     "end_time": "2024-02-01T08:29:47.139935700Z",
     "start_time": "2024-02-01T08:29:46.887611600Z"
    }
   },
   "outputs": [],
   "source": [
    "import pandas as pd\n",
    "import json"
   ]
  },
  {
   "cell_type": "markdown",
   "source": [
    "ouvrire MSP_inchikeys_classyfire_null.xlsx, le excel de mes msp sans classyfire depuis pkon"
   ],
   "metadata": {
    "collapsed": false
   },
   "id": "52be39ac82ac6b47"
  },
  {
   "cell_type": "code",
   "outputs": [],
   "source": [
    "df_msp_null =  pd.read_excel(r\"C:\\Users\\Axel\\Documents\\Data_publi\\SunBurst\\MSP_inchikeys_classyfire_null.xlsx\")"
   ],
   "metadata": {
    "collapsed": false,
    "ExecuteTime": {
     "end_time": "2024-02-01T08:32:48.338315Z",
     "start_time": "2024-02-01T08:32:47.742430600Z"
    }
   },
   "id": "8adb0f8133ec9a47",
   "execution_count": 7
  },
  {
   "cell_type": "code",
   "outputs": [
    {
     "data": {
      "text/plain": "   FILENAME  PREDICTED                     INCHIKEY  CLASSYFIRE_CLASS  \\\n0  MassBank      False  GRFAWUZMBBQEMX-IJNZYEPRSA-N               NaN   \n1  MassBank      False  PUZDIGQDECBVJT-FLTFDZFMSA-N               NaN   \n2  MassBank      False  GZCJIEXTWGJVIN-MKHOGIGVSA-N               NaN   \n3  MassBank      False  ROPHOAFGZRNKDO-SNXTYUPGSA-N               NaN   \n4  MassBank      False  LBBHTACWNVOYKN-SNQWNFAUSA-N               NaN   \n\n   CLASSYFIRE_SUBCLASS  \n0                  NaN  \n1                  NaN  \n2                  NaN  \n3                  NaN  \n4                  NaN  ",
      "text/html": "<div>\n<style scoped>\n    .dataframe tbody tr th:only-of-type {\n        vertical-align: middle;\n    }\n\n    .dataframe tbody tr th {\n        vertical-align: top;\n    }\n\n    .dataframe thead th {\n        text-align: right;\n    }\n</style>\n<table border=\"1\" class=\"dataframe\">\n  <thead>\n    <tr style=\"text-align: right;\">\n      <th></th>\n      <th>FILENAME</th>\n      <th>PREDICTED</th>\n      <th>INCHIKEY</th>\n      <th>CLASSYFIRE_CLASS</th>\n      <th>CLASSYFIRE_SUBCLASS</th>\n    </tr>\n  </thead>\n  <tbody>\n    <tr>\n      <th>0</th>\n      <td>MassBank</td>\n      <td>False</td>\n      <td>GRFAWUZMBBQEMX-IJNZYEPRSA-N</td>\n      <td>NaN</td>\n      <td>NaN</td>\n    </tr>\n    <tr>\n      <th>1</th>\n      <td>MassBank</td>\n      <td>False</td>\n      <td>PUZDIGQDECBVJT-FLTFDZFMSA-N</td>\n      <td>NaN</td>\n      <td>NaN</td>\n    </tr>\n    <tr>\n      <th>2</th>\n      <td>MassBank</td>\n      <td>False</td>\n      <td>GZCJIEXTWGJVIN-MKHOGIGVSA-N</td>\n      <td>NaN</td>\n      <td>NaN</td>\n    </tr>\n    <tr>\n      <th>3</th>\n      <td>MassBank</td>\n      <td>False</td>\n      <td>ROPHOAFGZRNKDO-SNXTYUPGSA-N</td>\n      <td>NaN</td>\n      <td>NaN</td>\n    </tr>\n    <tr>\n      <th>4</th>\n      <td>MassBank</td>\n      <td>False</td>\n      <td>LBBHTACWNVOYKN-SNQWNFAUSA-N</td>\n      <td>NaN</td>\n      <td>NaN</td>\n    </tr>\n  </tbody>\n</table>\n</div>"
     },
     "execution_count": 8,
     "metadata": {},
     "output_type": "execute_result"
    }
   ],
   "source": [
    "df_msp_null.head()"
   ],
   "metadata": {
    "collapsed": false,
    "ExecuteTime": {
     "end_time": "2024-02-01T08:32:48.593929200Z",
     "start_time": "2024-02-01T08:32:48.589258600Z"
    }
   },
   "id": "99650baa33a5467f",
   "execution_count": 8
  },
  {
   "cell_type": "markdown",
   "source": [
    "ouvrire le json résultant du requêtage Classyfire et le mettre en df"
   ],
   "metadata": {
    "collapsed": false
   },
   "id": "19be01be8bf48236"
  },
  {
   "cell_type": "code",
   "outputs": [],
   "source": [
    "with open(r'C:\\Users\\Axel\\Documents\\Data_publi\\SunBurst\\MSP_inchikeys_classyfire_complete.json', 'r') as f:\n",
    "    data_classyfire = json.load(f)"
   ],
   "metadata": {
    "collapsed": false,
    "ExecuteTime": {
     "end_time": "2024-02-01T08:29:47.835348800Z",
     "start_time": "2024-02-01T08:29:47.805894900Z"
    }
   },
   "id": "1c9ef19324bccc6c",
   "execution_count": 3
  },
  {
   "cell_type": "markdown",
   "source": [
    "le passé en df"
   ],
   "metadata": {
    "collapsed": false
   },
   "id": "eb5d79492e1f37b8"
  },
  {
   "cell_type": "code",
   "outputs": [],
   "source": [
    "df_classyfire = pd.DataFrame.from_dict(data_classyfire)"
   ],
   "metadata": {
    "collapsed": false,
    "ExecuteTime": {
     "end_time": "2024-02-01T08:29:47.847760300Z",
     "start_time": "2024-02-01T08:29:47.839349600Z"
    }
   },
   "id": "7718b83311b1b8fd",
   "execution_count": 4
  },
  {
   "cell_type": "code",
   "outputs": [
    {
     "data": {
      "text/plain": "  Classyfire_kingdom            Classyfire_Superclass  \\\n0  Organic compounds  Lipids and lipid-like molecules   \n1  Organic compounds    Organic acids and derivatives   \n2  Organic compounds    Organic acids and derivatives   \n3  Organic compounds    Organic acids and derivatives   \n4  Organic compounds  Lipids and lipid-like molecules   \n\n                   Classyfire_class                   Classyfire_Subclass  \\\n0                     Prenol lipids                      Sesquiterpenoids   \n1  Carboxylic acids and derivatives  Hexacarboxylic acids and derivatives   \n2  Carboxylic acids and derivatives  Hexacarboxylic acids and derivatives   \n3  Carboxylic acids and derivatives  Hexacarboxylic acids and derivatives   \n4  Steroids and steroid derivatives                        Steroid esters   \n\n                          direct_parent  \n0                        Trichothecenes  \n1  Hexacarboxylic acids and derivatives  \n2  Hexacarboxylic acids and derivatives  \n3  Hexacarboxylic acids and derivatives  \n4                        Steroid esters  ",
      "text/html": "<div>\n<style scoped>\n    .dataframe tbody tr th:only-of-type {\n        vertical-align: middle;\n    }\n\n    .dataframe tbody tr th {\n        vertical-align: top;\n    }\n\n    .dataframe thead th {\n        text-align: right;\n    }\n</style>\n<table border=\"1\" class=\"dataframe\">\n  <thead>\n    <tr style=\"text-align: right;\">\n      <th></th>\n      <th>Classyfire_kingdom</th>\n      <th>Classyfire_Superclass</th>\n      <th>Classyfire_class</th>\n      <th>Classyfire_Subclass</th>\n      <th>direct_parent</th>\n    </tr>\n  </thead>\n  <tbody>\n    <tr>\n      <th>0</th>\n      <td>Organic compounds</td>\n      <td>Lipids and lipid-like molecules</td>\n      <td>Prenol lipids</td>\n      <td>Sesquiterpenoids</td>\n      <td>Trichothecenes</td>\n    </tr>\n    <tr>\n      <th>1</th>\n      <td>Organic compounds</td>\n      <td>Organic acids and derivatives</td>\n      <td>Carboxylic acids and derivatives</td>\n      <td>Hexacarboxylic acids and derivatives</td>\n      <td>Hexacarboxylic acids and derivatives</td>\n    </tr>\n    <tr>\n      <th>2</th>\n      <td>Organic compounds</td>\n      <td>Organic acids and derivatives</td>\n      <td>Carboxylic acids and derivatives</td>\n      <td>Hexacarboxylic acids and derivatives</td>\n      <td>Hexacarboxylic acids and derivatives</td>\n    </tr>\n    <tr>\n      <th>3</th>\n      <td>Organic compounds</td>\n      <td>Organic acids and derivatives</td>\n      <td>Carboxylic acids and derivatives</td>\n      <td>Hexacarboxylic acids and derivatives</td>\n      <td>Hexacarboxylic acids and derivatives</td>\n    </tr>\n    <tr>\n      <th>4</th>\n      <td>Organic compounds</td>\n      <td>Lipids and lipid-like molecules</td>\n      <td>Steroids and steroid derivatives</td>\n      <td>Steroid esters</td>\n      <td>Steroid esters</td>\n    </tr>\n  </tbody>\n</table>\n</div>"
     },
     "execution_count": 5,
     "metadata": {},
     "output_type": "execute_result"
    }
   ],
   "source": [
    "df_classyfire.head()"
   ],
   "metadata": {
    "collapsed": false,
    "ExecuteTime": {
     "end_time": "2024-02-01T08:29:47.855674700Z",
     "start_time": "2024-02-01T08:29:47.843760600Z"
    }
   },
   "id": "d0d704bc9e7b0551",
   "execution_count": 5
  },
  {
   "cell_type": "markdown",
   "source": [
    "Ajouter ligne par ligne à df null"
   ],
   "metadata": {
    "collapsed": false
   },
   "id": "83346eb9c8328b5b"
  },
  {
   "cell_type": "code",
   "outputs": [],
   "source": [
    "df_concatenated = pd.concat([df_msp_null, df_classyfire], axis=1)"
   ],
   "metadata": {
    "collapsed": false,
    "ExecuteTime": {
     "end_time": "2024-02-01T08:34:27.166737500Z",
     "start_time": "2024-02-01T08:34:27.160625600Z"
    }
   },
   "id": "fa8b59e8a1722ee4",
   "execution_count": 9
  },
  {
   "cell_type": "code",
   "outputs": [
    {
     "data": {
      "text/plain": "   FILENAME  PREDICTED                     INCHIKEY  CLASSYFIRE_CLASS  \\\n0  MassBank      False  GRFAWUZMBBQEMX-IJNZYEPRSA-N               NaN   \n1  MassBank      False  PUZDIGQDECBVJT-FLTFDZFMSA-N               NaN   \n2  MassBank      False  GZCJIEXTWGJVIN-MKHOGIGVSA-N               NaN   \n3  MassBank      False  ROPHOAFGZRNKDO-SNXTYUPGSA-N               NaN   \n4  MassBank      False  LBBHTACWNVOYKN-SNQWNFAUSA-N               NaN   \n\n   CLASSYFIRE_SUBCLASS Classyfire_kingdom            Classyfire_Superclass  \\\n0                  NaN  Organic compounds  Lipids and lipid-like molecules   \n1                  NaN  Organic compounds    Organic acids and derivatives   \n2                  NaN  Organic compounds    Organic acids and derivatives   \n3                  NaN  Organic compounds    Organic acids and derivatives   \n4                  NaN  Organic compounds  Lipids and lipid-like molecules   \n\n                   Classyfire_class                   Classyfire_Subclass  \\\n0                     Prenol lipids                      Sesquiterpenoids   \n1  Carboxylic acids and derivatives  Hexacarboxylic acids and derivatives   \n2  Carboxylic acids and derivatives  Hexacarboxylic acids and derivatives   \n3  Carboxylic acids and derivatives  Hexacarboxylic acids and derivatives   \n4  Steroids and steroid derivatives                        Steroid esters   \n\n                          direct_parent  \n0                        Trichothecenes  \n1  Hexacarboxylic acids and derivatives  \n2  Hexacarboxylic acids and derivatives  \n3  Hexacarboxylic acids and derivatives  \n4                        Steroid esters  ",
      "text/html": "<div>\n<style scoped>\n    .dataframe tbody tr th:only-of-type {\n        vertical-align: middle;\n    }\n\n    .dataframe tbody tr th {\n        vertical-align: top;\n    }\n\n    .dataframe thead th {\n        text-align: right;\n    }\n</style>\n<table border=\"1\" class=\"dataframe\">\n  <thead>\n    <tr style=\"text-align: right;\">\n      <th></th>\n      <th>FILENAME</th>\n      <th>PREDICTED</th>\n      <th>INCHIKEY</th>\n      <th>CLASSYFIRE_CLASS</th>\n      <th>CLASSYFIRE_SUBCLASS</th>\n      <th>Classyfire_kingdom</th>\n      <th>Classyfire_Superclass</th>\n      <th>Classyfire_class</th>\n      <th>Classyfire_Subclass</th>\n      <th>direct_parent</th>\n    </tr>\n  </thead>\n  <tbody>\n    <tr>\n      <th>0</th>\n      <td>MassBank</td>\n      <td>False</td>\n      <td>GRFAWUZMBBQEMX-IJNZYEPRSA-N</td>\n      <td>NaN</td>\n      <td>NaN</td>\n      <td>Organic compounds</td>\n      <td>Lipids and lipid-like molecules</td>\n      <td>Prenol lipids</td>\n      <td>Sesquiterpenoids</td>\n      <td>Trichothecenes</td>\n    </tr>\n    <tr>\n      <th>1</th>\n      <td>MassBank</td>\n      <td>False</td>\n      <td>PUZDIGQDECBVJT-FLTFDZFMSA-N</td>\n      <td>NaN</td>\n      <td>NaN</td>\n      <td>Organic compounds</td>\n      <td>Organic acids and derivatives</td>\n      <td>Carboxylic acids and derivatives</td>\n      <td>Hexacarboxylic acids and derivatives</td>\n      <td>Hexacarboxylic acids and derivatives</td>\n    </tr>\n    <tr>\n      <th>2</th>\n      <td>MassBank</td>\n      <td>False</td>\n      <td>GZCJIEXTWGJVIN-MKHOGIGVSA-N</td>\n      <td>NaN</td>\n      <td>NaN</td>\n      <td>Organic compounds</td>\n      <td>Organic acids and derivatives</td>\n      <td>Carboxylic acids and derivatives</td>\n      <td>Hexacarboxylic acids and derivatives</td>\n      <td>Hexacarboxylic acids and derivatives</td>\n    </tr>\n    <tr>\n      <th>3</th>\n      <td>MassBank</td>\n      <td>False</td>\n      <td>ROPHOAFGZRNKDO-SNXTYUPGSA-N</td>\n      <td>NaN</td>\n      <td>NaN</td>\n      <td>Organic compounds</td>\n      <td>Organic acids and derivatives</td>\n      <td>Carboxylic acids and derivatives</td>\n      <td>Hexacarboxylic acids and derivatives</td>\n      <td>Hexacarboxylic acids and derivatives</td>\n    </tr>\n    <tr>\n      <th>4</th>\n      <td>MassBank</td>\n      <td>False</td>\n      <td>LBBHTACWNVOYKN-SNQWNFAUSA-N</td>\n      <td>NaN</td>\n      <td>NaN</td>\n      <td>Organic compounds</td>\n      <td>Lipids and lipid-like molecules</td>\n      <td>Steroids and steroid derivatives</td>\n      <td>Steroid esters</td>\n      <td>Steroid esters</td>\n    </tr>\n  </tbody>\n</table>\n</div>"
     },
     "execution_count": 10,
     "metadata": {},
     "output_type": "execute_result"
    }
   ],
   "source": [
    "df_concatenated.head()"
   ],
   "metadata": {
    "collapsed": false,
    "ExecuteTime": {
     "end_time": "2024-02-01T08:34:28.107654900Z",
     "start_time": "2024-02-01T08:34:28.096827800Z"
    }
   },
   "id": "820855759b60bc2e",
   "execution_count": 10
  },
  {
   "cell_type": "code",
   "outputs": [],
   "source": [
    "df_concatenated = df_concatenated.drop('CLASSYFIRE_CLASS', axis=1)\n",
    "df_concatenated = df_concatenated.drop('CLASSYFIRE_SUBCLASS', axis=1)"
   ],
   "metadata": {
    "collapsed": false,
    "ExecuteTime": {
     "end_time": "2024-02-01T08:38:46.003751800Z",
     "start_time": "2024-02-01T08:38:45.994063200Z"
    }
   },
   "id": "6e96cdc166375b7b",
   "execution_count": 11
  },
  {
   "cell_type": "markdown",
   "source": [
    "Renommer les colonnes voulu"
   ],
   "metadata": {
    "collapsed": false
   },
   "id": "e1c86879e1b24fc6"
  },
  {
   "cell_type": "code",
   "outputs": [],
   "source": [
    "df_concatenated = df_concatenated.rename(columns={'Classyfire_class': 'CLASSYFIRE_CLASS'})\n",
    "df_concatenated = df_concatenated.rename(columns={'Classyfire_Subclass': 'CLASSYFIRE_SUBCLASS'})"
   ],
   "metadata": {
    "collapsed": false,
    "ExecuteTime": {
     "end_time": "2024-02-01T08:38:46.990639300Z",
     "start_time": "2024-02-01T08:38:46.981978100Z"
    }
   },
   "id": "73eff8f52da1f508",
   "execution_count": 12
  },
  {
   "cell_type": "code",
   "outputs": [
    {
     "data": {
      "text/plain": "   FILENAME  PREDICTED                     INCHIKEY Classyfire_kingdom  \\\n0  MassBank      False  GRFAWUZMBBQEMX-IJNZYEPRSA-N  Organic compounds   \n1  MassBank      False  PUZDIGQDECBVJT-FLTFDZFMSA-N  Organic compounds   \n2  MassBank      False  GZCJIEXTWGJVIN-MKHOGIGVSA-N  Organic compounds   \n3  MassBank      False  ROPHOAFGZRNKDO-SNXTYUPGSA-N  Organic compounds   \n4  MassBank      False  LBBHTACWNVOYKN-SNQWNFAUSA-N  Organic compounds   \n\n             Classyfire_Superclass                  CLASSYFIRE_CLASS  \\\n0  Lipids and lipid-like molecules                     Prenol lipids   \n1    Organic acids and derivatives  Carboxylic acids and derivatives   \n2    Organic acids and derivatives  Carboxylic acids and derivatives   \n3    Organic acids and derivatives  Carboxylic acids and derivatives   \n4  Lipids and lipid-like molecules  Steroids and steroid derivatives   \n\n                    CLASSYFIRE_SUBCLASS                         direct_parent  \n0                      Sesquiterpenoids                        Trichothecenes  \n1  Hexacarboxylic acids and derivatives  Hexacarboxylic acids and derivatives  \n2  Hexacarboxylic acids and derivatives  Hexacarboxylic acids and derivatives  \n3  Hexacarboxylic acids and derivatives  Hexacarboxylic acids and derivatives  \n4                        Steroid esters                        Steroid esters  ",
      "text/html": "<div>\n<style scoped>\n    .dataframe tbody tr th:only-of-type {\n        vertical-align: middle;\n    }\n\n    .dataframe tbody tr th {\n        vertical-align: top;\n    }\n\n    .dataframe thead th {\n        text-align: right;\n    }\n</style>\n<table border=\"1\" class=\"dataframe\">\n  <thead>\n    <tr style=\"text-align: right;\">\n      <th></th>\n      <th>FILENAME</th>\n      <th>PREDICTED</th>\n      <th>INCHIKEY</th>\n      <th>Classyfire_kingdom</th>\n      <th>Classyfire_Superclass</th>\n      <th>CLASSYFIRE_CLASS</th>\n      <th>CLASSYFIRE_SUBCLASS</th>\n      <th>direct_parent</th>\n    </tr>\n  </thead>\n  <tbody>\n    <tr>\n      <th>0</th>\n      <td>MassBank</td>\n      <td>False</td>\n      <td>GRFAWUZMBBQEMX-IJNZYEPRSA-N</td>\n      <td>Organic compounds</td>\n      <td>Lipids and lipid-like molecules</td>\n      <td>Prenol lipids</td>\n      <td>Sesquiterpenoids</td>\n      <td>Trichothecenes</td>\n    </tr>\n    <tr>\n      <th>1</th>\n      <td>MassBank</td>\n      <td>False</td>\n      <td>PUZDIGQDECBVJT-FLTFDZFMSA-N</td>\n      <td>Organic compounds</td>\n      <td>Organic acids and derivatives</td>\n      <td>Carboxylic acids and derivatives</td>\n      <td>Hexacarboxylic acids and derivatives</td>\n      <td>Hexacarboxylic acids and derivatives</td>\n    </tr>\n    <tr>\n      <th>2</th>\n      <td>MassBank</td>\n      <td>False</td>\n      <td>GZCJIEXTWGJVIN-MKHOGIGVSA-N</td>\n      <td>Organic compounds</td>\n      <td>Organic acids and derivatives</td>\n      <td>Carboxylic acids and derivatives</td>\n      <td>Hexacarboxylic acids and derivatives</td>\n      <td>Hexacarboxylic acids and derivatives</td>\n    </tr>\n    <tr>\n      <th>3</th>\n      <td>MassBank</td>\n      <td>False</td>\n      <td>ROPHOAFGZRNKDO-SNXTYUPGSA-N</td>\n      <td>Organic compounds</td>\n      <td>Organic acids and derivatives</td>\n      <td>Carboxylic acids and derivatives</td>\n      <td>Hexacarboxylic acids and derivatives</td>\n      <td>Hexacarboxylic acids and derivatives</td>\n    </tr>\n    <tr>\n      <th>4</th>\n      <td>MassBank</td>\n      <td>False</td>\n      <td>LBBHTACWNVOYKN-SNQWNFAUSA-N</td>\n      <td>Organic compounds</td>\n      <td>Lipids and lipid-like molecules</td>\n      <td>Steroids and steroid derivatives</td>\n      <td>Steroid esters</td>\n      <td>Steroid esters</td>\n    </tr>\n  </tbody>\n</table>\n</div>"
     },
     "execution_count": 13,
     "metadata": {},
     "output_type": "execute_result"
    }
   ],
   "source": [
    "df_concatenated.head()"
   ],
   "metadata": {
    "collapsed": false,
    "ExecuteTime": {
     "end_time": "2024-02-01T08:38:47.418241300Z",
     "start_time": "2024-02-01T08:38:47.413602700Z"
    }
   },
   "id": "43ea86d8503ecc3b",
   "execution_count": 13
  },
  {
   "cell_type": "markdown",
   "source": [
    "ouvrire df not null de pkon"
   ],
   "metadata": {
    "collapsed": false
   },
   "id": "4fb005dfa167f77b"
  },
  {
   "cell_type": "code",
   "outputs": [],
   "source": [
    "df_not_null = pd.read_excel(r\"C:\\Users\\Axel\\Documents\\Data_publi\\SunBurst\\MSP_inchikeys_classyfire_not_null.xlsx\")"
   ],
   "metadata": {
    "collapsed": false,
    "ExecuteTime": {
     "end_time": "2024-02-01T08:40:05.126476600Z",
     "start_time": "2024-02-01T08:40:04.328039100Z"
    }
   },
   "id": "ab9bb60ae62475a7",
   "execution_count": 14
  },
  {
   "cell_type": "code",
   "outputs": [
    {
     "data": {
      "text/plain": "   FILENAME  PREDICTED                     INCHIKEY  \\\n0  MassBank      False  PUMXWMGECQIOGB-SMSDQXDJSA-N   \n1  MassBank      False  CBUOBMSAFIYYEJ-ZCFIWIBFSA-N   \n2  MassBank      False  FNSQKFOXORBCCC-WBWZXODPSA-N   \n3  MassBank      False  HNMWDXUKPJZOQD-UHFFFAOYSA-N   \n4  MassBank      False  WYYKRDVIBOEORL-JLCKPESSSA-N   \n\n                   CLASSYFIRE_CLASS CLASSYFIRE_SUBCLASS  \n0                     Prenol lipids    Sesquiterpenoids  \n1                     Prenol lipids      Monoterpenoids  \n2                     Tetracyclines                 NaN  \n3               Isochromanequinones                 NaN  \n4  Carboxylic acids and derivatives          Fumonisins  ",
      "text/html": "<div>\n<style scoped>\n    .dataframe tbody tr th:only-of-type {\n        vertical-align: middle;\n    }\n\n    .dataframe tbody tr th {\n        vertical-align: top;\n    }\n\n    .dataframe thead th {\n        text-align: right;\n    }\n</style>\n<table border=\"1\" class=\"dataframe\">\n  <thead>\n    <tr style=\"text-align: right;\">\n      <th></th>\n      <th>FILENAME</th>\n      <th>PREDICTED</th>\n      <th>INCHIKEY</th>\n      <th>CLASSYFIRE_CLASS</th>\n      <th>CLASSYFIRE_SUBCLASS</th>\n    </tr>\n  </thead>\n  <tbody>\n    <tr>\n      <th>0</th>\n      <td>MassBank</td>\n      <td>False</td>\n      <td>PUMXWMGECQIOGB-SMSDQXDJSA-N</td>\n      <td>Prenol lipids</td>\n      <td>Sesquiterpenoids</td>\n    </tr>\n    <tr>\n      <th>1</th>\n      <td>MassBank</td>\n      <td>False</td>\n      <td>CBUOBMSAFIYYEJ-ZCFIWIBFSA-N</td>\n      <td>Prenol lipids</td>\n      <td>Monoterpenoids</td>\n    </tr>\n    <tr>\n      <th>2</th>\n      <td>MassBank</td>\n      <td>False</td>\n      <td>FNSQKFOXORBCCC-WBWZXODPSA-N</td>\n      <td>Tetracyclines</td>\n      <td>NaN</td>\n    </tr>\n    <tr>\n      <th>3</th>\n      <td>MassBank</td>\n      <td>False</td>\n      <td>HNMWDXUKPJZOQD-UHFFFAOYSA-N</td>\n      <td>Isochromanequinones</td>\n      <td>NaN</td>\n    </tr>\n    <tr>\n      <th>4</th>\n      <td>MassBank</td>\n      <td>False</td>\n      <td>WYYKRDVIBOEORL-JLCKPESSSA-N</td>\n      <td>Carboxylic acids and derivatives</td>\n      <td>Fumonisins</td>\n    </tr>\n  </tbody>\n</table>\n</div>"
     },
     "execution_count": 15,
     "metadata": {},
     "output_type": "execute_result"
    }
   ],
   "source": [
    "df_not_null.head()"
   ],
   "metadata": {
    "collapsed": false,
    "ExecuteTime": {
     "end_time": "2024-02-01T08:40:05.133716900Z",
     "start_time": "2024-02-01T08:40:05.127474Z"
    }
   },
   "id": "c6b2592ad6da4a16",
   "execution_count": 15
  },
  {
   "cell_type": "code",
   "outputs": [],
   "source": [
    "df1_selected = df_concatenated[['FILENAME', 'PREDICTED', 'INCHIKEY', 'CLASSYFIRE_CLASS', 'CLASSYFIRE_SUBCLASS']]"
   ],
   "metadata": {
    "collapsed": false,
    "ExecuteTime": {
     "end_time": "2024-02-01T08:43:07.232085800Z",
     "start_time": "2024-02-01T08:43:07.223961500Z"
    }
   },
   "id": "3bb98d3799812fa4",
   "execution_count": 18
  },
  {
   "cell_type": "code",
   "outputs": [
    {
     "data": {
      "text/plain": "   FILENAME  PREDICTED                     INCHIKEY  \\\n0  MassBank      False  GRFAWUZMBBQEMX-IJNZYEPRSA-N   \n1  MassBank      False  PUZDIGQDECBVJT-FLTFDZFMSA-N   \n2  MassBank      False  GZCJIEXTWGJVIN-MKHOGIGVSA-N   \n3  MassBank      False  ROPHOAFGZRNKDO-SNXTYUPGSA-N   \n4  MassBank      False  LBBHTACWNVOYKN-SNQWNFAUSA-N   \n\n                   CLASSYFIRE_CLASS                   CLASSYFIRE_SUBCLASS  \n0                     Prenol lipids                      Sesquiterpenoids  \n1  Carboxylic acids and derivatives  Hexacarboxylic acids and derivatives  \n2  Carboxylic acids and derivatives  Hexacarboxylic acids and derivatives  \n3  Carboxylic acids and derivatives  Hexacarboxylic acids and derivatives  \n4  Steroids and steroid derivatives                        Steroid esters  ",
      "text/html": "<div>\n<style scoped>\n    .dataframe tbody tr th:only-of-type {\n        vertical-align: middle;\n    }\n\n    .dataframe tbody tr th {\n        vertical-align: top;\n    }\n\n    .dataframe thead th {\n        text-align: right;\n    }\n</style>\n<table border=\"1\" class=\"dataframe\">\n  <thead>\n    <tr style=\"text-align: right;\">\n      <th></th>\n      <th>FILENAME</th>\n      <th>PREDICTED</th>\n      <th>INCHIKEY</th>\n      <th>CLASSYFIRE_CLASS</th>\n      <th>CLASSYFIRE_SUBCLASS</th>\n    </tr>\n  </thead>\n  <tbody>\n    <tr>\n      <th>0</th>\n      <td>MassBank</td>\n      <td>False</td>\n      <td>GRFAWUZMBBQEMX-IJNZYEPRSA-N</td>\n      <td>Prenol lipids</td>\n      <td>Sesquiterpenoids</td>\n    </tr>\n    <tr>\n      <th>1</th>\n      <td>MassBank</td>\n      <td>False</td>\n      <td>PUZDIGQDECBVJT-FLTFDZFMSA-N</td>\n      <td>Carboxylic acids and derivatives</td>\n      <td>Hexacarboxylic acids and derivatives</td>\n    </tr>\n    <tr>\n      <th>2</th>\n      <td>MassBank</td>\n      <td>False</td>\n      <td>GZCJIEXTWGJVIN-MKHOGIGVSA-N</td>\n      <td>Carboxylic acids and derivatives</td>\n      <td>Hexacarboxylic acids and derivatives</td>\n    </tr>\n    <tr>\n      <th>3</th>\n      <td>MassBank</td>\n      <td>False</td>\n      <td>ROPHOAFGZRNKDO-SNXTYUPGSA-N</td>\n      <td>Carboxylic acids and derivatives</td>\n      <td>Hexacarboxylic acids and derivatives</td>\n    </tr>\n    <tr>\n      <th>4</th>\n      <td>MassBank</td>\n      <td>False</td>\n      <td>LBBHTACWNVOYKN-SNQWNFAUSA-N</td>\n      <td>Steroids and steroid derivatives</td>\n      <td>Steroid esters</td>\n    </tr>\n  </tbody>\n</table>\n</div>"
     },
     "execution_count": 19,
     "metadata": {},
     "output_type": "execute_result"
    }
   ],
   "source": [
    "df1_selected.head()"
   ],
   "metadata": {
    "collapsed": false,
    "ExecuteTime": {
     "end_time": "2024-02-01T08:43:07.738891400Z",
     "start_time": "2024-02-01T08:43:07.708853Z"
    }
   },
   "id": "a245229fb94a35d3",
   "execution_count": 19
  },
  {
   "cell_type": "code",
   "outputs": [],
   "source": [
    "df_concatenated = pd.concat([df_not_null, df1_selected])"
   ],
   "metadata": {
    "collapsed": false,
    "ExecuteTime": {
     "end_time": "2024-02-01T08:43:39.064730900Z",
     "start_time": "2024-02-01T08:43:39.054559100Z"
    }
   },
   "id": "57036a862fcf6044",
   "execution_count": 20
  },
  {
   "cell_type": "code",
   "outputs": [
    {
     "data": {
      "text/plain": "   FILENAME  PREDICTED                     INCHIKEY  \\\n0  MassBank      False  PUMXWMGECQIOGB-SMSDQXDJSA-N   \n1  MassBank      False  CBUOBMSAFIYYEJ-ZCFIWIBFSA-N   \n2  MassBank      False  FNSQKFOXORBCCC-WBWZXODPSA-N   \n3  MassBank      False  HNMWDXUKPJZOQD-UHFFFAOYSA-N   \n4  MassBank      False  WYYKRDVIBOEORL-JLCKPESSSA-N   \n\n                   CLASSYFIRE_CLASS CLASSYFIRE_SUBCLASS  \n0                     Prenol lipids    Sesquiterpenoids  \n1                     Prenol lipids      Monoterpenoids  \n2                     Tetracyclines                 NaN  \n3               Isochromanequinones                 NaN  \n4  Carboxylic acids and derivatives          Fumonisins  ",
      "text/html": "<div>\n<style scoped>\n    .dataframe tbody tr th:only-of-type {\n        vertical-align: middle;\n    }\n\n    .dataframe tbody tr th {\n        vertical-align: top;\n    }\n\n    .dataframe thead th {\n        text-align: right;\n    }\n</style>\n<table border=\"1\" class=\"dataframe\">\n  <thead>\n    <tr style=\"text-align: right;\">\n      <th></th>\n      <th>FILENAME</th>\n      <th>PREDICTED</th>\n      <th>INCHIKEY</th>\n      <th>CLASSYFIRE_CLASS</th>\n      <th>CLASSYFIRE_SUBCLASS</th>\n    </tr>\n  </thead>\n  <tbody>\n    <tr>\n      <th>0</th>\n      <td>MassBank</td>\n      <td>False</td>\n      <td>PUMXWMGECQIOGB-SMSDQXDJSA-N</td>\n      <td>Prenol lipids</td>\n      <td>Sesquiterpenoids</td>\n    </tr>\n    <tr>\n      <th>1</th>\n      <td>MassBank</td>\n      <td>False</td>\n      <td>CBUOBMSAFIYYEJ-ZCFIWIBFSA-N</td>\n      <td>Prenol lipids</td>\n      <td>Monoterpenoids</td>\n    </tr>\n    <tr>\n      <th>2</th>\n      <td>MassBank</td>\n      <td>False</td>\n      <td>FNSQKFOXORBCCC-WBWZXODPSA-N</td>\n      <td>Tetracyclines</td>\n      <td>NaN</td>\n    </tr>\n    <tr>\n      <th>3</th>\n      <td>MassBank</td>\n      <td>False</td>\n      <td>HNMWDXUKPJZOQD-UHFFFAOYSA-N</td>\n      <td>Isochromanequinones</td>\n      <td>NaN</td>\n    </tr>\n    <tr>\n      <th>4</th>\n      <td>MassBank</td>\n      <td>False</td>\n      <td>WYYKRDVIBOEORL-JLCKPESSSA-N</td>\n      <td>Carboxylic acids and derivatives</td>\n      <td>Fumonisins</td>\n    </tr>\n  </tbody>\n</table>\n</div>"
     },
     "execution_count": 23,
     "metadata": {},
     "output_type": "execute_result"
    }
   ],
   "source": [
    "df_concatenated.head()"
   ],
   "metadata": {
    "collapsed": false,
    "ExecuteTime": {
     "end_time": "2024-02-01T08:47:27.771800400Z",
     "start_time": "2024-02-01T08:47:27.766098900Z"
    }
   },
   "id": "14e59981e6600985",
   "execution_count": 23
  },
  {
   "cell_type": "code",
   "outputs": [],
   "source": [
    "df_concatenated['FILENAME'] = df_concatenated['FILENAME'].apply(lambda x: 'GNPS' if x.endswith('.mgf') else x)"
   ],
   "metadata": {
    "collapsed": false,
    "ExecuteTime": {
     "end_time": "2024-02-01T08:47:28.458321700Z",
     "start_time": "2024-02-01T08:47:28.448601300Z"
    }
   },
   "id": "e066ca2f4e25b37d",
   "execution_count": 24
  },
  {
   "cell_type": "code",
   "outputs": [],
   "source": [
    "df_concatenated['FILENAME'] = df_concatenated['FILENAME'].replace('MSMS_Public', 'MS-Dial')"
   ],
   "metadata": {
    "collapsed": false,
    "ExecuteTime": {
     "end_time": "2024-02-01T08:56:14.589413100Z",
     "start_time": "2024-02-01T08:56:14.586169800Z"
    }
   },
   "id": "ca95169b2a7abe31",
   "execution_count": 26
  },
  {
   "cell_type": "code",
   "outputs": [],
   "source": [
    "df_concatenated.to_excel(r\"C:\\Users\\Axel\\Documents\\Data_publi\\SunBurst\\Result_classyfire\\FragHub_Classyfire.xlsx\")"
   ],
   "metadata": {
    "collapsed": false,
    "ExecuteTime": {
     "end_time": "2024-02-01T08:56:17.947936100Z",
     "start_time": "2024-02-01T08:56:15.193600100Z"
    }
   },
   "id": "1bdb3207f528aaa8",
   "execution_count": 27
  },
  {
   "cell_type": "code",
   "outputs": [],
   "source": [],
   "metadata": {
    "collapsed": false
   },
   "id": "898ac1eda1842c0d"
  }
 ],
 "metadata": {
  "kernelspec": {
   "display_name": "Python 3",
   "language": "python",
   "name": "python3"
  },
  "language_info": {
   "codemirror_mode": {
    "name": "ipython",
    "version": 2
   },
   "file_extension": ".py",
   "mimetype": "text/x-python",
   "name": "python",
   "nbconvert_exporter": "python",
   "pygments_lexer": "ipython2",
   "version": "2.7.6"
  }
 },
 "nbformat": 4,
 "nbformat_minor": 5
}
