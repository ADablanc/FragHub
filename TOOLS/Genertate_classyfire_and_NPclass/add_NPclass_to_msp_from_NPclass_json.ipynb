{
 "cells": [
  {
   "cell_type": "code",
   "execution_count": 86,
   "id": "initial_id",
   "metadata": {
    "collapsed": true,
    "ExecuteTime": {
     "end_time": "2024-02-02T08:49:54.653395100Z",
     "start_time": "2024-02-02T08:49:54.592963900Z"
    }
   },
   "outputs": [],
   "source": [
    "import pandas as pd\n",
    "import json"
   ]
  },
  {
   "cell_type": "markdown",
   "source": [
    "ouvrire MSP_inchikeys_classyfire_null.xlsx, le excel de mes msp sans classyfire depuis pkon"
   ],
   "metadata": {
    "collapsed": false
   },
   "id": "52be39ac82ac6b47"
  },
  {
   "cell_type": "code",
   "outputs": [],
   "source": [
    "df_msp_null =  pd.read_excel(r\"C:\\Users\\Axel\\Documents\\Data_publi\\SunBurst\\MSP_smiles_npclass_null.xlsx\")"
   ],
   "metadata": {
    "collapsed": false,
    "ExecuteTime": {
     "end_time": "2024-02-02T08:49:55.394394600Z",
     "start_time": "2024-02-02T08:49:54.642028500Z"
    }
   },
   "id": "8adb0f8133ec9a47",
   "execution_count": 87
  },
  {
   "cell_type": "code",
   "outputs": [],
   "source": [
    "df_msp_null = df_msp_null.rename(columns={'PathwayNP': 'PathwayNP_1'})\n",
    "df_msp_null = df_msp_null.rename(columns={'SuperClassNP': 'SuperClassNP_1'})\n",
    "df_msp_null = df_msp_null.rename(columns={'ClassNP': 'ClassNP_1'})"
   ],
   "metadata": {
    "collapsed": false,
    "ExecuteTime": {
     "end_time": "2024-02-02T08:49:55.400125100Z",
     "start_time": "2024-02-02T08:49:55.395427900Z"
    }
   },
   "id": "15de6295ef1ff3c7",
   "execution_count": 88
  },
  {
   "cell_type": "code",
   "outputs": [
    {
     "data": {
      "text/plain": "   FILENAME  PREDICTED                                             SMILES  \\\n0  MassBank      False  CC1=C[C@H]2O[C@@H]3[C@H](O[C@@H]4O[C@H](CO)[C@...   \n1  MassBank      False             CC(=O)[C@@H](C)c1c(C)c(O)c(C)c(O)c1C=O   \n2  MassBank      False  CC1=C[C@H]2O[C@@H]3[C@H](O[C@@H]4O[C@H](C(=O)O...   \n3  MassBank      False  COC(=O)[C@@]12C(=O)C(C)=C(O)[C@]1(C)C(C)=C[C@H...   \n4  MassBank      False  CCCC[C@@H](C)[C@@H](OC(=O)C[C@@H](CC(=O)O)C(=O...   \n\n   PathwayNP_1  SuperClassNP_1  ClassNP_1  \n0          NaN             NaN        NaN  \n1          NaN             NaN        NaN  \n2          NaN             NaN        NaN  \n3          NaN             NaN        NaN  \n4          NaN             NaN        NaN  ",
      "text/html": "<div>\n<style scoped>\n    .dataframe tbody tr th:only-of-type {\n        vertical-align: middle;\n    }\n\n    .dataframe tbody tr th {\n        vertical-align: top;\n    }\n\n    .dataframe thead th {\n        text-align: right;\n    }\n</style>\n<table border=\"1\" class=\"dataframe\">\n  <thead>\n    <tr style=\"text-align: right;\">\n      <th></th>\n      <th>FILENAME</th>\n      <th>PREDICTED</th>\n      <th>SMILES</th>\n      <th>PathwayNP_1</th>\n      <th>SuperClassNP_1</th>\n      <th>ClassNP_1</th>\n    </tr>\n  </thead>\n  <tbody>\n    <tr>\n      <th>0</th>\n      <td>MassBank</td>\n      <td>False</td>\n      <td>CC1=C[C@H]2O[C@@H]3[C@H](O[C@@H]4O[C@H](CO)[C@...</td>\n      <td>NaN</td>\n      <td>NaN</td>\n      <td>NaN</td>\n    </tr>\n    <tr>\n      <th>1</th>\n      <td>MassBank</td>\n      <td>False</td>\n      <td>CC(=O)[C@@H](C)c1c(C)c(O)c(C)c(O)c1C=O</td>\n      <td>NaN</td>\n      <td>NaN</td>\n      <td>NaN</td>\n    </tr>\n    <tr>\n      <th>2</th>\n      <td>MassBank</td>\n      <td>False</td>\n      <td>CC1=C[C@H]2O[C@@H]3[C@H](O[C@@H]4O[C@H](C(=O)O...</td>\n      <td>NaN</td>\n      <td>NaN</td>\n      <td>NaN</td>\n    </tr>\n    <tr>\n      <th>3</th>\n      <td>MassBank</td>\n      <td>False</td>\n      <td>COC(=O)[C@@]12C(=O)C(C)=C(O)[C@]1(C)C(C)=C[C@H...</td>\n      <td>NaN</td>\n      <td>NaN</td>\n      <td>NaN</td>\n    </tr>\n    <tr>\n      <th>4</th>\n      <td>MassBank</td>\n      <td>False</td>\n      <td>CCCC[C@@H](C)[C@@H](OC(=O)C[C@@H](CC(=O)O)C(=O...</td>\n      <td>NaN</td>\n      <td>NaN</td>\n      <td>NaN</td>\n    </tr>\n  </tbody>\n</table>\n</div>"
     },
     "execution_count": 89,
     "metadata": {},
     "output_type": "execute_result"
    }
   ],
   "source": [
    "df_msp_null.head()"
   ],
   "metadata": {
    "collapsed": false,
    "ExecuteTime": {
     "end_time": "2024-02-02T08:49:55.411408300Z",
     "start_time": "2024-02-02T08:49:55.400125100Z"
    }
   },
   "id": "99650baa33a5467f",
   "execution_count": 89
  },
  {
   "cell_type": "markdown",
   "source": [
    "ouvrire le json résultant du requêtage Classyfire et le mettre en df"
   ],
   "metadata": {
    "collapsed": false
   },
   "id": "19be01be8bf48236"
  },
  {
   "cell_type": "code",
   "outputs": [],
   "source": [
    "with open(r'C:\\Users\\Axel\\Documents\\Data_publi\\SunBurst\\MSP_smiles_NPclass_complete.json', 'r') as f:\n",
    "    data_classyfire = json.load(f)"
   ],
   "metadata": {
    "collapsed": false,
    "ExecuteTime": {
     "end_time": "2024-02-02T08:49:55.458966800Z",
     "start_time": "2024-02-02T08:49:55.408329400Z"
    }
   },
   "id": "1c9ef19324bccc6c",
   "execution_count": 90
  },
  {
   "cell_type": "markdown",
   "source": [
    "le passé en df"
   ],
   "metadata": {
    "collapsed": false
   },
   "id": "eb5d79492e1f37b8"
  },
  {
   "cell_type": "code",
   "outputs": [],
   "source": [
    "df_classyfire = pd.DataFrame.from_dict(data_classyfire)"
   ],
   "metadata": {
    "collapsed": false,
    "ExecuteTime": {
     "end_time": "2024-02-02T08:49:55.458966800Z",
     "start_time": "2024-02-02T08:49:55.437244Z"
    }
   },
   "id": "7718b83311b1b8fd",
   "execution_count": 91
  },
  {
   "cell_type": "code",
   "outputs": [
    {
     "data": {
      "text/plain": "                          ClassNP        SuperClassNP               PathwayNP  \\\n0  Trichothecane sesquiterpenoids    Sesquiterpenoids              Terpenoids   \n1                                                                               \n2  Trichothecane sesquiterpenoids    Sesquiterpenoids              Terpenoids   \n3      Tetraketide meroterpenoids      Meroterpenoids  Polyketides|Terpenoids   \n4          Open-chain polyketides  Linear polyketides             Polyketides   \n\n  IsGlycoNP  class_results  superclass_results  pathway_results  isglycoside  \n0      True            NaN                 NaN              NaN          NaN  \n1     False            NaN                 NaN              NaN          NaN  \n2      True            NaN                 NaN              NaN          NaN  \n3     False            NaN                 NaN              NaN          NaN  \n4     False            NaN                 NaN              NaN          NaN  ",
      "text/html": "<div>\n<style scoped>\n    .dataframe tbody tr th:only-of-type {\n        vertical-align: middle;\n    }\n\n    .dataframe tbody tr th {\n        vertical-align: top;\n    }\n\n    .dataframe thead th {\n        text-align: right;\n    }\n</style>\n<table border=\"1\" class=\"dataframe\">\n  <thead>\n    <tr style=\"text-align: right;\">\n      <th></th>\n      <th>ClassNP</th>\n      <th>SuperClassNP</th>\n      <th>PathwayNP</th>\n      <th>IsGlycoNP</th>\n      <th>class_results</th>\n      <th>superclass_results</th>\n      <th>pathway_results</th>\n      <th>isglycoside</th>\n    </tr>\n  </thead>\n  <tbody>\n    <tr>\n      <th>0</th>\n      <td>Trichothecane sesquiterpenoids</td>\n      <td>Sesquiterpenoids</td>\n      <td>Terpenoids</td>\n      <td>True</td>\n      <td>NaN</td>\n      <td>NaN</td>\n      <td>NaN</td>\n      <td>NaN</td>\n    </tr>\n    <tr>\n      <th>1</th>\n      <td></td>\n      <td></td>\n      <td></td>\n      <td>False</td>\n      <td>NaN</td>\n      <td>NaN</td>\n      <td>NaN</td>\n      <td>NaN</td>\n    </tr>\n    <tr>\n      <th>2</th>\n      <td>Trichothecane sesquiterpenoids</td>\n      <td>Sesquiterpenoids</td>\n      <td>Terpenoids</td>\n      <td>True</td>\n      <td>NaN</td>\n      <td>NaN</td>\n      <td>NaN</td>\n      <td>NaN</td>\n    </tr>\n    <tr>\n      <th>3</th>\n      <td>Tetraketide meroterpenoids</td>\n      <td>Meroterpenoids</td>\n      <td>Polyketides|Terpenoids</td>\n      <td>False</td>\n      <td>NaN</td>\n      <td>NaN</td>\n      <td>NaN</td>\n      <td>NaN</td>\n    </tr>\n    <tr>\n      <th>4</th>\n      <td>Open-chain polyketides</td>\n      <td>Linear polyketides</td>\n      <td>Polyketides</td>\n      <td>False</td>\n      <td>NaN</td>\n      <td>NaN</td>\n      <td>NaN</td>\n      <td>NaN</td>\n    </tr>\n  </tbody>\n</table>\n</div>"
     },
     "execution_count": 92,
     "metadata": {},
     "output_type": "execute_result"
    }
   ],
   "source": [
    "df_classyfire.head()"
   ],
   "metadata": {
    "collapsed": false,
    "ExecuteTime": {
     "end_time": "2024-02-02T08:49:55.460013Z",
     "start_time": "2024-02-02T08:49:55.450184700Z"
    }
   },
   "id": "d0d704bc9e7b0551",
   "execution_count": 92
  },
  {
   "cell_type": "markdown",
   "source": [
    "Ajouter ligne par ligne à df null"
   ],
   "metadata": {
    "collapsed": false
   },
   "id": "83346eb9c8328b5b"
  },
  {
   "cell_type": "code",
   "outputs": [],
   "source": [
    "df_concatenated = pd.concat([df_msp_null, df_classyfire], axis=1)"
   ],
   "metadata": {
    "collapsed": false,
    "ExecuteTime": {
     "end_time": "2024-02-02T08:49:55.471426700Z",
     "start_time": "2024-02-02T08:49:55.457935100Z"
    }
   },
   "id": "fa8b59e8a1722ee4",
   "execution_count": 93
  },
  {
   "cell_type": "code",
   "outputs": [
    {
     "data": {
      "text/plain": "   FILENAME  PREDICTED                                             SMILES  \\\n0  MassBank      False  CC1=C[C@H]2O[C@@H]3[C@H](O[C@@H]4O[C@H](CO)[C@...   \n1  MassBank      False             CC(=O)[C@@H](C)c1c(C)c(O)c(C)c(O)c1C=O   \n2  MassBank      False  CC1=C[C@H]2O[C@@H]3[C@H](O[C@@H]4O[C@H](C(=O)O...   \n3  MassBank      False  COC(=O)[C@@]12C(=O)C(C)=C(O)[C@]1(C)C(C)=C[C@H...   \n4  MassBank      False  CCCC[C@@H](C)[C@@H](OC(=O)C[C@@H](CC(=O)O)C(=O...   \n\n   PathwayNP_1  SuperClassNP_1  ClassNP_1                         ClassNP  \\\n0          NaN             NaN        NaN  Trichothecane sesquiterpenoids   \n1          NaN             NaN        NaN                                   \n2          NaN             NaN        NaN  Trichothecane sesquiterpenoids   \n3          NaN             NaN        NaN      Tetraketide meroterpenoids   \n4          NaN             NaN        NaN          Open-chain polyketides   \n\n         SuperClassNP               PathwayNP IsGlycoNP  class_results  \\\n0    Sesquiterpenoids              Terpenoids      True            NaN   \n1                                                 False            NaN   \n2    Sesquiterpenoids              Terpenoids      True            NaN   \n3      Meroterpenoids  Polyketides|Terpenoids     False            NaN   \n4  Linear polyketides             Polyketides     False            NaN   \n\n   superclass_results  pathway_results  isglycoside  \n0                 NaN              NaN          NaN  \n1                 NaN              NaN          NaN  \n2                 NaN              NaN          NaN  \n3                 NaN              NaN          NaN  \n4                 NaN              NaN          NaN  ",
      "text/html": "<div>\n<style scoped>\n    .dataframe tbody tr th:only-of-type {\n        vertical-align: middle;\n    }\n\n    .dataframe tbody tr th {\n        vertical-align: top;\n    }\n\n    .dataframe thead th {\n        text-align: right;\n    }\n</style>\n<table border=\"1\" class=\"dataframe\">\n  <thead>\n    <tr style=\"text-align: right;\">\n      <th></th>\n      <th>FILENAME</th>\n      <th>PREDICTED</th>\n      <th>SMILES</th>\n      <th>PathwayNP_1</th>\n      <th>SuperClassNP_1</th>\n      <th>ClassNP_1</th>\n      <th>ClassNP</th>\n      <th>SuperClassNP</th>\n      <th>PathwayNP</th>\n      <th>IsGlycoNP</th>\n      <th>class_results</th>\n      <th>superclass_results</th>\n      <th>pathway_results</th>\n      <th>isglycoside</th>\n    </tr>\n  </thead>\n  <tbody>\n    <tr>\n      <th>0</th>\n      <td>MassBank</td>\n      <td>False</td>\n      <td>CC1=C[C@H]2O[C@@H]3[C@H](O[C@@H]4O[C@H](CO)[C@...</td>\n      <td>NaN</td>\n      <td>NaN</td>\n      <td>NaN</td>\n      <td>Trichothecane sesquiterpenoids</td>\n      <td>Sesquiterpenoids</td>\n      <td>Terpenoids</td>\n      <td>True</td>\n      <td>NaN</td>\n      <td>NaN</td>\n      <td>NaN</td>\n      <td>NaN</td>\n    </tr>\n    <tr>\n      <th>1</th>\n      <td>MassBank</td>\n      <td>False</td>\n      <td>CC(=O)[C@@H](C)c1c(C)c(O)c(C)c(O)c1C=O</td>\n      <td>NaN</td>\n      <td>NaN</td>\n      <td>NaN</td>\n      <td></td>\n      <td></td>\n      <td></td>\n      <td>False</td>\n      <td>NaN</td>\n      <td>NaN</td>\n      <td>NaN</td>\n      <td>NaN</td>\n    </tr>\n    <tr>\n      <th>2</th>\n      <td>MassBank</td>\n      <td>False</td>\n      <td>CC1=C[C@H]2O[C@@H]3[C@H](O[C@@H]4O[C@H](C(=O)O...</td>\n      <td>NaN</td>\n      <td>NaN</td>\n      <td>NaN</td>\n      <td>Trichothecane sesquiterpenoids</td>\n      <td>Sesquiterpenoids</td>\n      <td>Terpenoids</td>\n      <td>True</td>\n      <td>NaN</td>\n      <td>NaN</td>\n      <td>NaN</td>\n      <td>NaN</td>\n    </tr>\n    <tr>\n      <th>3</th>\n      <td>MassBank</td>\n      <td>False</td>\n      <td>COC(=O)[C@@]12C(=O)C(C)=C(O)[C@]1(C)C(C)=C[C@H...</td>\n      <td>NaN</td>\n      <td>NaN</td>\n      <td>NaN</td>\n      <td>Tetraketide meroterpenoids</td>\n      <td>Meroterpenoids</td>\n      <td>Polyketides|Terpenoids</td>\n      <td>False</td>\n      <td>NaN</td>\n      <td>NaN</td>\n      <td>NaN</td>\n      <td>NaN</td>\n    </tr>\n    <tr>\n      <th>4</th>\n      <td>MassBank</td>\n      <td>False</td>\n      <td>CCCC[C@@H](C)[C@@H](OC(=O)C[C@@H](CC(=O)O)C(=O...</td>\n      <td>NaN</td>\n      <td>NaN</td>\n      <td>NaN</td>\n      <td>Open-chain polyketides</td>\n      <td>Linear polyketides</td>\n      <td>Polyketides</td>\n      <td>False</td>\n      <td>NaN</td>\n      <td>NaN</td>\n      <td>NaN</td>\n      <td>NaN</td>\n    </tr>\n  </tbody>\n</table>\n</div>"
     },
     "execution_count": 94,
     "metadata": {},
     "output_type": "execute_result"
    }
   ],
   "source": [
    "df_concatenated.head()"
   ],
   "metadata": {
    "collapsed": false,
    "ExecuteTime": {
     "end_time": "2024-02-02T08:49:55.513056100Z",
     "start_time": "2024-02-02T08:49:55.466233Z"
    }
   },
   "id": "820855759b60bc2e",
   "execution_count": 94
  },
  {
   "cell_type": "code",
   "outputs": [],
   "source": [
    "df_concatenated = df_concatenated.drop('PathwayNP_1', axis=1)\n",
    "df_concatenated = df_concatenated.drop('SuperClassNP_1', axis=1)\n",
    "df_concatenated = df_concatenated.drop('ClassNP_1', axis=1)"
   ],
   "metadata": {
    "collapsed": false,
    "ExecuteTime": {
     "end_time": "2024-02-02T08:49:55.517165Z",
     "start_time": "2024-02-02T08:49:55.474730100Z"
    }
   },
   "id": "6e96cdc166375b7b",
   "execution_count": 95
  },
  {
   "cell_type": "markdown",
   "source": [
    "Renommer les colonnes voulu"
   ],
   "metadata": {
    "collapsed": false
   },
   "id": "e1c86879e1b24fc6"
  },
  {
   "cell_type": "code",
   "outputs": [],
   "source": [
    "# df_concatenated = df_concatenated.rename(columns={'Classyfire_Superclass': 'superclass'})\n",
    "# df_concatenated = df_concatenated.rename(columns={'Classyfire_class': 'class'})\n",
    "# df_concatenated = df_concatenated.rename(columns={'Classyfire_Subclass': 'subclass'})"
   ],
   "metadata": {
    "collapsed": false,
    "ExecuteTime": {
     "end_time": "2024-02-02T08:49:55.517165Z",
     "start_time": "2024-02-02T08:49:55.489227500Z"
    }
   },
   "id": "73eff8f52da1f508",
   "execution_count": 96
  },
  {
   "cell_type": "code",
   "outputs": [
    {
     "data": {
      "text/plain": "   FILENAME  PREDICTED                                             SMILES  \\\n0  MassBank      False  CC1=C[C@H]2O[C@@H]3[C@H](O[C@@H]4O[C@H](CO)[C@...   \n1  MassBank      False             CC(=O)[C@@H](C)c1c(C)c(O)c(C)c(O)c1C=O   \n2  MassBank      False  CC1=C[C@H]2O[C@@H]3[C@H](O[C@@H]4O[C@H](C(=O)O...   \n3  MassBank      False  COC(=O)[C@@]12C(=O)C(C)=C(O)[C@]1(C)C(C)=C[C@H...   \n4  MassBank      False  CCCC[C@@H](C)[C@@H](OC(=O)C[C@@H](CC(=O)O)C(=O...   \n\n                          ClassNP        SuperClassNP               PathwayNP  \\\n0  Trichothecane sesquiterpenoids    Sesquiterpenoids              Terpenoids   \n1                                                                               \n2  Trichothecane sesquiterpenoids    Sesquiterpenoids              Terpenoids   \n3      Tetraketide meroterpenoids      Meroterpenoids  Polyketides|Terpenoids   \n4          Open-chain polyketides  Linear polyketides             Polyketides   \n\n  IsGlycoNP  class_results  superclass_results  pathway_results  isglycoside  \n0      True            NaN                 NaN              NaN          NaN  \n1     False            NaN                 NaN              NaN          NaN  \n2      True            NaN                 NaN              NaN          NaN  \n3     False            NaN                 NaN              NaN          NaN  \n4     False            NaN                 NaN              NaN          NaN  ",
      "text/html": "<div>\n<style scoped>\n    .dataframe tbody tr th:only-of-type {\n        vertical-align: middle;\n    }\n\n    .dataframe tbody tr th {\n        vertical-align: top;\n    }\n\n    .dataframe thead th {\n        text-align: right;\n    }\n</style>\n<table border=\"1\" class=\"dataframe\">\n  <thead>\n    <tr style=\"text-align: right;\">\n      <th></th>\n      <th>FILENAME</th>\n      <th>PREDICTED</th>\n      <th>SMILES</th>\n      <th>ClassNP</th>\n      <th>SuperClassNP</th>\n      <th>PathwayNP</th>\n      <th>IsGlycoNP</th>\n      <th>class_results</th>\n      <th>superclass_results</th>\n      <th>pathway_results</th>\n      <th>isglycoside</th>\n    </tr>\n  </thead>\n  <tbody>\n    <tr>\n      <th>0</th>\n      <td>MassBank</td>\n      <td>False</td>\n      <td>CC1=C[C@H]2O[C@@H]3[C@H](O[C@@H]4O[C@H](CO)[C@...</td>\n      <td>Trichothecane sesquiterpenoids</td>\n      <td>Sesquiterpenoids</td>\n      <td>Terpenoids</td>\n      <td>True</td>\n      <td>NaN</td>\n      <td>NaN</td>\n      <td>NaN</td>\n      <td>NaN</td>\n    </tr>\n    <tr>\n      <th>1</th>\n      <td>MassBank</td>\n      <td>False</td>\n      <td>CC(=O)[C@@H](C)c1c(C)c(O)c(C)c(O)c1C=O</td>\n      <td></td>\n      <td></td>\n      <td></td>\n      <td>False</td>\n      <td>NaN</td>\n      <td>NaN</td>\n      <td>NaN</td>\n      <td>NaN</td>\n    </tr>\n    <tr>\n      <th>2</th>\n      <td>MassBank</td>\n      <td>False</td>\n      <td>CC1=C[C@H]2O[C@@H]3[C@H](O[C@@H]4O[C@H](C(=O)O...</td>\n      <td>Trichothecane sesquiterpenoids</td>\n      <td>Sesquiterpenoids</td>\n      <td>Terpenoids</td>\n      <td>True</td>\n      <td>NaN</td>\n      <td>NaN</td>\n      <td>NaN</td>\n      <td>NaN</td>\n    </tr>\n    <tr>\n      <th>3</th>\n      <td>MassBank</td>\n      <td>False</td>\n      <td>COC(=O)[C@@]12C(=O)C(C)=C(O)[C@]1(C)C(C)=C[C@H...</td>\n      <td>Tetraketide meroterpenoids</td>\n      <td>Meroterpenoids</td>\n      <td>Polyketides|Terpenoids</td>\n      <td>False</td>\n      <td>NaN</td>\n      <td>NaN</td>\n      <td>NaN</td>\n      <td>NaN</td>\n    </tr>\n    <tr>\n      <th>4</th>\n      <td>MassBank</td>\n      <td>False</td>\n      <td>CCCC[C@@H](C)[C@@H](OC(=O)C[C@@H](CC(=O)O)C(=O...</td>\n      <td>Open-chain polyketides</td>\n      <td>Linear polyketides</td>\n      <td>Polyketides</td>\n      <td>False</td>\n      <td>NaN</td>\n      <td>NaN</td>\n      <td>NaN</td>\n      <td>NaN</td>\n    </tr>\n  </tbody>\n</table>\n</div>"
     },
     "execution_count": 97,
     "metadata": {},
     "output_type": "execute_result"
    }
   ],
   "source": [
    "df_concatenated.head()"
   ],
   "metadata": {
    "collapsed": false,
    "ExecuteTime": {
     "end_time": "2024-02-02T08:49:55.544552400Z",
     "start_time": "2024-02-02T08:49:55.490819600Z"
    }
   },
   "id": "43ea86d8503ecc3b",
   "execution_count": 97
  },
  {
   "cell_type": "markdown",
   "source": [
    "ouvrire df not null de pkon"
   ],
   "metadata": {
    "collapsed": false
   },
   "id": "4fb005dfa167f77b"
  },
  {
   "cell_type": "code",
   "outputs": [],
   "source": [
    "df_not_null = pd.read_excel(r\"C:\\Users\\Axel\\Documents\\Data_publi\\SunBurst\\MSP_smiles_npclass_not_null.xlsx\")"
   ],
   "metadata": {
    "collapsed": false,
    "ExecuteTime": {
     "end_time": "2024-02-02T08:49:56.336532500Z",
     "start_time": "2024-02-02T08:49:55.501245200Z"
    }
   },
   "id": "ab9bb60ae62475a7",
   "execution_count": 98
  },
  {
   "cell_type": "code",
   "outputs": [
    {
     "data": {
      "text/plain": "   FILENAME  PREDICTED                                             SMILES  \\\n0  MassBank      False  COc1cc(O)c2c(O)c3c(c4c2c1[C@]1(C4)C(C)=CCCC1(C...   \n1  MassBank      False  COC1=CC(=O)c2c(O)c3c(c(O)c2C1=O)CC1(C)OC(C(=O)...   \n2  MassBank      False  CCCC[C@@H](C)[C@@H](OC(=O)C[C@@H](CC(=O)O)C(=O...   \n3  MassBank      False  Cc1c(O)c(C(=O)O)c(O)c2c1[C@H](C)[C@@H](C)O[C@@...   \n4  MassBank      False      CC1=C2C(=CO[C@H](C)[C@H]2C)C(=O)C(C(=O)O)=C1O   \n\n                PathwayNP                                  SuperClassNP  \\\n0  Polyketides|Terpenoids                   Naphthalenes|Meroterpenoids   \n1             Polyketides  Naphthalenes|Polycyclic aromatic polyketides   \n2             Polyketides                            Linear polyketides   \n3             Polyketides                                     Chromanes   \n4             Polyketides                                     Chromanes   \n\n                                           ClassNP  \n0  Bisnaphthalenes|Other polyketide meroterpenoids  \n1     Anthraquinones and anthrones|Naphthoquinones  \n2                           Open-chain polyketides  \n3                                      Azaphilones  \n4                                      Azaphilones  ",
      "text/html": "<div>\n<style scoped>\n    .dataframe tbody tr th:only-of-type {\n        vertical-align: middle;\n    }\n\n    .dataframe tbody tr th {\n        vertical-align: top;\n    }\n\n    .dataframe thead th {\n        text-align: right;\n    }\n</style>\n<table border=\"1\" class=\"dataframe\">\n  <thead>\n    <tr style=\"text-align: right;\">\n      <th></th>\n      <th>FILENAME</th>\n      <th>PREDICTED</th>\n      <th>SMILES</th>\n      <th>PathwayNP</th>\n      <th>SuperClassNP</th>\n      <th>ClassNP</th>\n    </tr>\n  </thead>\n  <tbody>\n    <tr>\n      <th>0</th>\n      <td>MassBank</td>\n      <td>False</td>\n      <td>COc1cc(O)c2c(O)c3c(c4c2c1[C@]1(C4)C(C)=CCCC1(C...</td>\n      <td>Polyketides|Terpenoids</td>\n      <td>Naphthalenes|Meroterpenoids</td>\n      <td>Bisnaphthalenes|Other polyketide meroterpenoids</td>\n    </tr>\n    <tr>\n      <th>1</th>\n      <td>MassBank</td>\n      <td>False</td>\n      <td>COC1=CC(=O)c2c(O)c3c(c(O)c2C1=O)CC1(C)OC(C(=O)...</td>\n      <td>Polyketides</td>\n      <td>Naphthalenes|Polycyclic aromatic polyketides</td>\n      <td>Anthraquinones and anthrones|Naphthoquinones</td>\n    </tr>\n    <tr>\n      <th>2</th>\n      <td>MassBank</td>\n      <td>False</td>\n      <td>CCCC[C@@H](C)[C@@H](OC(=O)C[C@@H](CC(=O)O)C(=O...</td>\n      <td>Polyketides</td>\n      <td>Linear polyketides</td>\n      <td>Open-chain polyketides</td>\n    </tr>\n    <tr>\n      <th>3</th>\n      <td>MassBank</td>\n      <td>False</td>\n      <td>Cc1c(O)c(C(=O)O)c(O)c2c1[C@H](C)[C@@H](C)O[C@@...</td>\n      <td>Polyketides</td>\n      <td>Chromanes</td>\n      <td>Azaphilones</td>\n    </tr>\n    <tr>\n      <th>4</th>\n      <td>MassBank</td>\n      <td>False</td>\n      <td>CC1=C2C(=CO[C@H](C)[C@H]2C)C(=O)C(C(=O)O)=C1O</td>\n      <td>Polyketides</td>\n      <td>Chromanes</td>\n      <td>Azaphilones</td>\n    </tr>\n  </tbody>\n</table>\n</div>"
     },
     "execution_count": 99,
     "metadata": {},
     "output_type": "execute_result"
    }
   ],
   "source": [
    "df_not_null.head()"
   ],
   "metadata": {
    "collapsed": false,
    "ExecuteTime": {
     "end_time": "2024-02-02T08:49:56.366888Z",
     "start_time": "2024-02-02T08:49:56.337569900Z"
    }
   },
   "id": "c6b2592ad6da4a16",
   "execution_count": 99
  },
  {
   "cell_type": "code",
   "outputs": [],
   "source": [
    "df1_selected = df_concatenated[['FILENAME', 'PREDICTED', 'SMILES', 'PathwayNP', 'SuperClassNP', 'ClassNP']]"
   ],
   "metadata": {
    "collapsed": false,
    "ExecuteTime": {
     "end_time": "2024-02-02T08:49:56.367441900Z",
     "start_time": "2024-02-02T08:49:56.359088500Z"
    }
   },
   "id": "3bb98d3799812fa4",
   "execution_count": 100
  },
  {
   "cell_type": "code",
   "outputs": [
    {
     "data": {
      "text/plain": "   FILENAME  PREDICTED                                             SMILES  \\\n0  MassBank      False  CC1=C[C@H]2O[C@@H]3[C@H](O[C@@H]4O[C@H](CO)[C@...   \n1  MassBank      False             CC(=O)[C@@H](C)c1c(C)c(O)c(C)c(O)c1C=O   \n2  MassBank      False  CC1=C[C@H]2O[C@@H]3[C@H](O[C@@H]4O[C@H](C(=O)O...   \n3  MassBank      False  COC(=O)[C@@]12C(=O)C(C)=C(O)[C@]1(C)C(C)=C[C@H...   \n4  MassBank      False  CCCC[C@@H](C)[C@@H](OC(=O)C[C@@H](CC(=O)O)C(=O...   \n\n                PathwayNP        SuperClassNP                         ClassNP  \n0              Terpenoids    Sesquiterpenoids  Trichothecane sesquiterpenoids  \n1                                                                              \n2              Terpenoids    Sesquiterpenoids  Trichothecane sesquiterpenoids  \n3  Polyketides|Terpenoids      Meroterpenoids      Tetraketide meroterpenoids  \n4             Polyketides  Linear polyketides          Open-chain polyketides  ",
      "text/html": "<div>\n<style scoped>\n    .dataframe tbody tr th:only-of-type {\n        vertical-align: middle;\n    }\n\n    .dataframe tbody tr th {\n        vertical-align: top;\n    }\n\n    .dataframe thead th {\n        text-align: right;\n    }\n</style>\n<table border=\"1\" class=\"dataframe\">\n  <thead>\n    <tr style=\"text-align: right;\">\n      <th></th>\n      <th>FILENAME</th>\n      <th>PREDICTED</th>\n      <th>SMILES</th>\n      <th>PathwayNP</th>\n      <th>SuperClassNP</th>\n      <th>ClassNP</th>\n    </tr>\n  </thead>\n  <tbody>\n    <tr>\n      <th>0</th>\n      <td>MassBank</td>\n      <td>False</td>\n      <td>CC1=C[C@H]2O[C@@H]3[C@H](O[C@@H]4O[C@H](CO)[C@...</td>\n      <td>Terpenoids</td>\n      <td>Sesquiterpenoids</td>\n      <td>Trichothecane sesquiterpenoids</td>\n    </tr>\n    <tr>\n      <th>1</th>\n      <td>MassBank</td>\n      <td>False</td>\n      <td>CC(=O)[C@@H](C)c1c(C)c(O)c(C)c(O)c1C=O</td>\n      <td></td>\n      <td></td>\n      <td></td>\n    </tr>\n    <tr>\n      <th>2</th>\n      <td>MassBank</td>\n      <td>False</td>\n      <td>CC1=C[C@H]2O[C@@H]3[C@H](O[C@@H]4O[C@H](C(=O)O...</td>\n      <td>Terpenoids</td>\n      <td>Sesquiterpenoids</td>\n      <td>Trichothecane sesquiterpenoids</td>\n    </tr>\n    <tr>\n      <th>3</th>\n      <td>MassBank</td>\n      <td>False</td>\n      <td>COC(=O)[C@@]12C(=O)C(C)=C(O)[C@]1(C)C(C)=C[C@H...</td>\n      <td>Polyketides|Terpenoids</td>\n      <td>Meroterpenoids</td>\n      <td>Tetraketide meroterpenoids</td>\n    </tr>\n    <tr>\n      <th>4</th>\n      <td>MassBank</td>\n      <td>False</td>\n      <td>CCCC[C@@H](C)[C@@H](OC(=O)C[C@@H](CC(=O)O)C(=O...</td>\n      <td>Polyketides</td>\n      <td>Linear polyketides</td>\n      <td>Open-chain polyketides</td>\n    </tr>\n  </tbody>\n</table>\n</div>"
     },
     "execution_count": 101,
     "metadata": {},
     "output_type": "execute_result"
    }
   ],
   "source": [
    "df1_selected.head()"
   ],
   "metadata": {
    "collapsed": false,
    "ExecuteTime": {
     "end_time": "2024-02-02T08:49:56.368974500Z",
     "start_time": "2024-02-02T08:49:56.360634100Z"
    }
   },
   "id": "a245229fb94a35d3",
   "execution_count": 101
  },
  {
   "cell_type": "code",
   "outputs": [],
   "source": [
    "df_concatenated = pd.concat([df_not_null, df1_selected])"
   ],
   "metadata": {
    "collapsed": false,
    "ExecuteTime": {
     "end_time": "2024-02-02T08:49:56.376759600Z",
     "start_time": "2024-02-02T08:49:56.368974500Z"
    }
   },
   "id": "57036a862fcf6044",
   "execution_count": 102
  },
  {
   "cell_type": "code",
   "outputs": [
    {
     "data": {
      "text/plain": "   FILENAME  PREDICTED                                             SMILES  \\\n0  MassBank      False  COc1cc(O)c2c(O)c3c(c4c2c1[C@]1(C4)C(C)=CCCC1(C...   \n1  MassBank      False  COC1=CC(=O)c2c(O)c3c(c(O)c2C1=O)CC1(C)OC(C(=O)...   \n2  MassBank      False  CCCC[C@@H](C)[C@@H](OC(=O)C[C@@H](CC(=O)O)C(=O...   \n3  MassBank      False  Cc1c(O)c(C(=O)O)c(O)c2c1[C@H](C)[C@@H](C)O[C@@...   \n4  MassBank      False      CC1=C2C(=CO[C@H](C)[C@H]2C)C(=O)C(C(=O)O)=C1O   \n\n                PathwayNP                                  SuperClassNP  \\\n0  Polyketides|Terpenoids                   Naphthalenes|Meroterpenoids   \n1             Polyketides  Naphthalenes|Polycyclic aromatic polyketides   \n2             Polyketides                            Linear polyketides   \n3             Polyketides                                     Chromanes   \n4             Polyketides                                     Chromanes   \n\n                                           ClassNP  \n0  Bisnaphthalenes|Other polyketide meroterpenoids  \n1     Anthraquinones and anthrones|Naphthoquinones  \n2                           Open-chain polyketides  \n3                                      Azaphilones  \n4                                      Azaphilones  ",
      "text/html": "<div>\n<style scoped>\n    .dataframe tbody tr th:only-of-type {\n        vertical-align: middle;\n    }\n\n    .dataframe tbody tr th {\n        vertical-align: top;\n    }\n\n    .dataframe thead th {\n        text-align: right;\n    }\n</style>\n<table border=\"1\" class=\"dataframe\">\n  <thead>\n    <tr style=\"text-align: right;\">\n      <th></th>\n      <th>FILENAME</th>\n      <th>PREDICTED</th>\n      <th>SMILES</th>\n      <th>PathwayNP</th>\n      <th>SuperClassNP</th>\n      <th>ClassNP</th>\n    </tr>\n  </thead>\n  <tbody>\n    <tr>\n      <th>0</th>\n      <td>MassBank</td>\n      <td>False</td>\n      <td>COc1cc(O)c2c(O)c3c(c4c2c1[C@]1(C4)C(C)=CCCC1(C...</td>\n      <td>Polyketides|Terpenoids</td>\n      <td>Naphthalenes|Meroterpenoids</td>\n      <td>Bisnaphthalenes|Other polyketide meroterpenoids</td>\n    </tr>\n    <tr>\n      <th>1</th>\n      <td>MassBank</td>\n      <td>False</td>\n      <td>COC1=CC(=O)c2c(O)c3c(c(O)c2C1=O)CC1(C)OC(C(=O)...</td>\n      <td>Polyketides</td>\n      <td>Naphthalenes|Polycyclic aromatic polyketides</td>\n      <td>Anthraquinones and anthrones|Naphthoquinones</td>\n    </tr>\n    <tr>\n      <th>2</th>\n      <td>MassBank</td>\n      <td>False</td>\n      <td>CCCC[C@@H](C)[C@@H](OC(=O)C[C@@H](CC(=O)O)C(=O...</td>\n      <td>Polyketides</td>\n      <td>Linear polyketides</td>\n      <td>Open-chain polyketides</td>\n    </tr>\n    <tr>\n      <th>3</th>\n      <td>MassBank</td>\n      <td>False</td>\n      <td>Cc1c(O)c(C(=O)O)c(O)c2c1[C@H](C)[C@@H](C)O[C@@...</td>\n      <td>Polyketides</td>\n      <td>Chromanes</td>\n      <td>Azaphilones</td>\n    </tr>\n    <tr>\n      <th>4</th>\n      <td>MassBank</td>\n      <td>False</td>\n      <td>CC1=C2C(=CO[C@H](C)[C@H]2C)C(=O)C(C(=O)O)=C1O</td>\n      <td>Polyketides</td>\n      <td>Chromanes</td>\n      <td>Azaphilones</td>\n    </tr>\n  </tbody>\n</table>\n</div>"
     },
     "execution_count": 103,
     "metadata": {},
     "output_type": "execute_result"
    }
   ],
   "source": [
    "df_concatenated.head()"
   ],
   "metadata": {
    "collapsed": false,
    "ExecuteTime": {
     "end_time": "2024-02-02T08:49:56.387074400Z",
     "start_time": "2024-02-02T08:49:56.376759600Z"
    }
   },
   "id": "14e59981e6600985",
   "execution_count": 103
  },
  {
   "cell_type": "code",
   "outputs": [],
   "source": [
    "df_concatenated['FILENAME'] = df_concatenated['FILENAME'].apply(lambda x: 'GNPS' if str(x).endswith('.mgf') else x)"
   ],
   "metadata": {
    "collapsed": false,
    "ExecuteTime": {
     "end_time": "2024-02-02T08:49:56.415418500Z",
     "start_time": "2024-02-02T08:49:56.384731100Z"
    }
   },
   "id": "e066ca2f4e25b37d",
   "execution_count": 104
  },
  {
   "cell_type": "code",
   "outputs": [],
   "source": [
    "df_concatenated['FILENAME'] = df_concatenated['FILENAME'].replace('MSMS_Public', 'MS-Dial')"
   ],
   "metadata": {
    "collapsed": false,
    "ExecuteTime": {
     "end_time": "2024-02-02T08:49:56.445477700Z",
     "start_time": "2024-02-02T08:49:56.393874400Z"
    }
   },
   "id": "ca95169b2a7abe31",
   "execution_count": 105
  },
  {
   "cell_type": "code",
   "outputs": [],
   "source": [
    "df_concatenated.dropna(subset=['FILENAME'], inplace=True)"
   ],
   "metadata": {
    "collapsed": false,
    "ExecuteTime": {
     "end_time": "2024-02-02T08:49:56.477759100Z",
     "start_time": "2024-02-02T08:49:56.401970500Z"
    }
   },
   "id": "919da5651179626a",
   "execution_count": 106
  },
  {
   "cell_type": "code",
   "outputs": [],
   "source": [
    "df_concatenated.to_excel(r\"C:\\Users\\Axel\\Documents\\Data_publi\\SunBurst\\Result_NPclass\\FragHub_NPclass.xlsx\")"
   ],
   "metadata": {
    "collapsed": false,
    "ExecuteTime": {
     "end_time": "2024-02-02T08:49:59.860197600Z",
     "start_time": "2024-02-02T08:49:56.413351200Z"
    }
   },
   "id": "1bdb3207f528aaa8",
   "execution_count": 107
  },
  {
   "cell_type": "code",
   "outputs": [],
   "source": [],
   "metadata": {
    "collapsed": false
   },
   "id": "898ac1eda1842c0d",
   "execution_count": 107
  }
 ],
 "metadata": {
  "kernelspec": {
   "display_name": "Python 3",
   "language": "python",
   "name": "python3"
  },
  "language_info": {
   "codemirror_mode": {
    "name": "ipython",
    "version": 2
   },
   "file_extension": ".py",
   "mimetype": "text/x-python",
   "name": "python",
   "nbconvert_exporter": "python",
   "pygments_lexer": "ipython2",
   "version": "2.7.6"
  }
 },
 "nbformat": 4,
 "nbformat_minor": 5
}
