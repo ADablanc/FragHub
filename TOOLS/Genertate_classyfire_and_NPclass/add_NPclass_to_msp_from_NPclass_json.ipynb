{
 "cells": [
  {
   "cell_type": "code",
   "execution_count": 187,
   "id": "initial_id",
   "metadata": {
    "collapsed": true,
    "ExecuteTime": {
     "end_time": "2024-02-02T09:36:58.372043700Z",
     "start_time": "2024-02-02T09:36:58.343018400Z"
    }
   },
   "outputs": [],
   "source": [
    "import pandas as pd\n",
    "import json"
   ]
  },
  {
   "cell_type": "markdown",
   "source": [
    "ouvrire MSP_inchikeys_classyfire_null.xlsx, le excel de mes msp sans classyfire depuis pkon"
   ],
   "metadata": {
    "collapsed": false
   },
   "id": "52be39ac82ac6b47"
  },
  {
   "cell_type": "code",
   "outputs": [],
   "source": [
    "df_msp_null =  pd.read_excel(r\"C:\\Users\\Axel\\Documents\\Data_publi\\SunBurst\\MSP_smiles_npclass_null.xlsx\")"
   ],
   "metadata": {
    "collapsed": false,
    "ExecuteTime": {
     "end_time": "2024-02-02T09:36:59.533441Z",
     "start_time": "2024-02-02T09:36:58.374047200Z"
    }
   },
   "id": "8adb0f8133ec9a47",
   "execution_count": 188
  },
  {
   "cell_type": "code",
   "outputs": [],
   "source": [
    "df_msp_null = df_msp_null.rename(columns={'PathwayNP': 'PathwayNP_1'})\n",
    "df_msp_null = df_msp_null.rename(columns={'SuperClassNP': 'SuperClassNP_1'})\n",
    "df_msp_null = df_msp_null.rename(columns={'ClassNP': 'ClassNP_1'})"
   ],
   "metadata": {
    "collapsed": false,
    "ExecuteTime": {
     "end_time": "2024-02-02T09:36:59.539945100Z",
     "start_time": "2024-02-02T09:36:59.534440500Z"
    }
   },
   "id": "15de6295ef1ff3c7",
   "execution_count": 189
  },
  {
   "cell_type": "code",
   "outputs": [
    {
     "data": {
      "text/plain": "   FILENAME  PREDICTED                                             SMILES  \\\n0  MassBank      False  CC1=C[C@H]2O[C@@H]3[C@H](O[C@@H]4O[C@H](CO)[C@...   \n1  MassBank      False             CC(=O)[C@@H](C)c1c(C)c(O)c(C)c(O)c1C=O   \n2  MassBank      False  CC1=C[C@H]2O[C@@H]3[C@H](O[C@@H]4O[C@H](C(=O)O...   \n3  MassBank      False  COC(=O)[C@@]12C(=O)C(C)=C(O)[C@]1(C)C(C)=C[C@H...   \n4  MassBank      False  CCCC[C@@H](C)[C@@H](OC(=O)C[C@@H](CC(=O)O)C(=O...   \n\n                      INCHIKEY  PathwayNP_1  SuperClassNP_1  ClassNP_1  \n0  PUMXWMGECQIOGB-SMSDQXDJSA-N          NaN             NaN        NaN  \n1  CBUOBMSAFIYYEJ-ZCFIWIBFSA-N          NaN             NaN        NaN  \n2  GRFAWUZMBBQEMX-IJNZYEPRSA-N          NaN             NaN        NaN  \n3  SMUNNMAWNRFDPB-UWWAQUNASA-N          NaN             NaN        NaN  \n4  PUZDIGQDECBVJT-FLTFDZFMSA-N          NaN             NaN        NaN  ",
      "text/html": "<div>\n<style scoped>\n    .dataframe tbody tr th:only-of-type {\n        vertical-align: middle;\n    }\n\n    .dataframe tbody tr th {\n        vertical-align: top;\n    }\n\n    .dataframe thead th {\n        text-align: right;\n    }\n</style>\n<table border=\"1\" class=\"dataframe\">\n  <thead>\n    <tr style=\"text-align: right;\">\n      <th></th>\n      <th>FILENAME</th>\n      <th>PREDICTED</th>\n      <th>SMILES</th>\n      <th>INCHIKEY</th>\n      <th>PathwayNP_1</th>\n      <th>SuperClassNP_1</th>\n      <th>ClassNP_1</th>\n    </tr>\n  </thead>\n  <tbody>\n    <tr>\n      <th>0</th>\n      <td>MassBank</td>\n      <td>False</td>\n      <td>CC1=C[C@H]2O[C@@H]3[C@H](O[C@@H]4O[C@H](CO)[C@...</td>\n      <td>PUMXWMGECQIOGB-SMSDQXDJSA-N</td>\n      <td>NaN</td>\n      <td>NaN</td>\n      <td>NaN</td>\n    </tr>\n    <tr>\n      <th>1</th>\n      <td>MassBank</td>\n      <td>False</td>\n      <td>CC(=O)[C@@H](C)c1c(C)c(O)c(C)c(O)c1C=O</td>\n      <td>CBUOBMSAFIYYEJ-ZCFIWIBFSA-N</td>\n      <td>NaN</td>\n      <td>NaN</td>\n      <td>NaN</td>\n    </tr>\n    <tr>\n      <th>2</th>\n      <td>MassBank</td>\n      <td>False</td>\n      <td>CC1=C[C@H]2O[C@@H]3[C@H](O[C@@H]4O[C@H](C(=O)O...</td>\n      <td>GRFAWUZMBBQEMX-IJNZYEPRSA-N</td>\n      <td>NaN</td>\n      <td>NaN</td>\n      <td>NaN</td>\n    </tr>\n    <tr>\n      <th>3</th>\n      <td>MassBank</td>\n      <td>False</td>\n      <td>COC(=O)[C@@]12C(=O)C(C)=C(O)[C@]1(C)C(C)=C[C@H...</td>\n      <td>SMUNNMAWNRFDPB-UWWAQUNASA-N</td>\n      <td>NaN</td>\n      <td>NaN</td>\n      <td>NaN</td>\n    </tr>\n    <tr>\n      <th>4</th>\n      <td>MassBank</td>\n      <td>False</td>\n      <td>CCCC[C@@H](C)[C@@H](OC(=O)C[C@@H](CC(=O)O)C(=O...</td>\n      <td>PUZDIGQDECBVJT-FLTFDZFMSA-N</td>\n      <td>NaN</td>\n      <td>NaN</td>\n      <td>NaN</td>\n    </tr>\n  </tbody>\n</table>\n</div>"
     },
     "execution_count": 190,
     "metadata": {},
     "output_type": "execute_result"
    }
   ],
   "source": [
    "df_msp_null.head()"
   ],
   "metadata": {
    "collapsed": false,
    "ExecuteTime": {
     "end_time": "2024-02-02T09:36:59.554789600Z",
     "start_time": "2024-02-02T09:36:59.538944400Z"
    }
   },
   "id": "99650baa33a5467f",
   "execution_count": 190
  },
  {
   "cell_type": "markdown",
   "source": [
    "ouvrire le json résultant du requêtage Classyfire et le mettre en df"
   ],
   "metadata": {
    "collapsed": false
   },
   "id": "19be01be8bf48236"
  },
  {
   "cell_type": "code",
   "outputs": [],
   "source": [
    "with open(r'C:\\Users\\Axel\\Documents\\Data_publi\\SunBurst\\MSP_smiles_NPclass_complete.json', 'r') as f:\n",
    "    data_classyfire = json.load(f)"
   ],
   "metadata": {
    "collapsed": false,
    "ExecuteTime": {
     "end_time": "2024-02-02T09:36:59.597026Z",
     "start_time": "2024-02-02T09:36:59.550785700Z"
    }
   },
   "id": "1c9ef19324bccc6c",
   "execution_count": 191
  },
  {
   "cell_type": "markdown",
   "source": [
    "le passé en df"
   ],
   "metadata": {
    "collapsed": false
   },
   "id": "eb5d79492e1f37b8"
  },
  {
   "cell_type": "code",
   "outputs": [],
   "source": [
    "df_classyfire = pd.DataFrame.from_dict(data_classyfire)"
   ],
   "metadata": {
    "collapsed": false,
    "ExecuteTime": {
     "end_time": "2024-02-02T09:36:59.598025700Z",
     "start_time": "2024-02-02T09:36:59.580603700Z"
    }
   },
   "id": "7718b83311b1b8fd",
   "execution_count": 192
  },
  {
   "cell_type": "code",
   "outputs": [
    {
     "data": {
      "text/plain": "                          ClassNP        SuperClassNP               PathwayNP  \\\n0  Trichothecane sesquiterpenoids    Sesquiterpenoids              Terpenoids   \n1                                                                               \n2  Trichothecane sesquiterpenoids    Sesquiterpenoids              Terpenoids   \n3      Tetraketide meroterpenoids      Meroterpenoids  Polyketides|Terpenoids   \n4          Open-chain polyketides  Linear polyketides             Polyketides   \n\n  IsGlycoNP  class_results  superclass_results  pathway_results  isglycoside  \n0      True            NaN                 NaN              NaN          NaN  \n1     False            NaN                 NaN              NaN          NaN  \n2      True            NaN                 NaN              NaN          NaN  \n3     False            NaN                 NaN              NaN          NaN  \n4     False            NaN                 NaN              NaN          NaN  ",
      "text/html": "<div>\n<style scoped>\n    .dataframe tbody tr th:only-of-type {\n        vertical-align: middle;\n    }\n\n    .dataframe tbody tr th {\n        vertical-align: top;\n    }\n\n    .dataframe thead th {\n        text-align: right;\n    }\n</style>\n<table border=\"1\" class=\"dataframe\">\n  <thead>\n    <tr style=\"text-align: right;\">\n      <th></th>\n      <th>ClassNP</th>\n      <th>SuperClassNP</th>\n      <th>PathwayNP</th>\n      <th>IsGlycoNP</th>\n      <th>class_results</th>\n      <th>superclass_results</th>\n      <th>pathway_results</th>\n      <th>isglycoside</th>\n    </tr>\n  </thead>\n  <tbody>\n    <tr>\n      <th>0</th>\n      <td>Trichothecane sesquiterpenoids</td>\n      <td>Sesquiterpenoids</td>\n      <td>Terpenoids</td>\n      <td>True</td>\n      <td>NaN</td>\n      <td>NaN</td>\n      <td>NaN</td>\n      <td>NaN</td>\n    </tr>\n    <tr>\n      <th>1</th>\n      <td></td>\n      <td></td>\n      <td></td>\n      <td>False</td>\n      <td>NaN</td>\n      <td>NaN</td>\n      <td>NaN</td>\n      <td>NaN</td>\n    </tr>\n    <tr>\n      <th>2</th>\n      <td>Trichothecane sesquiterpenoids</td>\n      <td>Sesquiterpenoids</td>\n      <td>Terpenoids</td>\n      <td>True</td>\n      <td>NaN</td>\n      <td>NaN</td>\n      <td>NaN</td>\n      <td>NaN</td>\n    </tr>\n    <tr>\n      <th>3</th>\n      <td>Tetraketide meroterpenoids</td>\n      <td>Meroterpenoids</td>\n      <td>Polyketides|Terpenoids</td>\n      <td>False</td>\n      <td>NaN</td>\n      <td>NaN</td>\n      <td>NaN</td>\n      <td>NaN</td>\n    </tr>\n    <tr>\n      <th>4</th>\n      <td>Open-chain polyketides</td>\n      <td>Linear polyketides</td>\n      <td>Polyketides</td>\n      <td>False</td>\n      <td>NaN</td>\n      <td>NaN</td>\n      <td>NaN</td>\n      <td>NaN</td>\n    </tr>\n  </tbody>\n</table>\n</div>"
     },
     "execution_count": 193,
     "metadata": {},
     "output_type": "execute_result"
    }
   ],
   "source": [
    "df_classyfire.head()"
   ],
   "metadata": {
    "collapsed": false,
    "ExecuteTime": {
     "end_time": "2024-02-02T09:36:59.602675100Z",
     "start_time": "2024-02-02T09:36:59.600025800Z"
    }
   },
   "id": "d0d704bc9e7b0551",
   "execution_count": 193
  },
  {
   "cell_type": "markdown",
   "source": [
    "Ajouter ligne par ligne à df null"
   ],
   "metadata": {
    "collapsed": false
   },
   "id": "83346eb9c8328b5b"
  },
  {
   "cell_type": "code",
   "outputs": [],
   "source": [
    "df_concatenated = pd.concat([df_msp_null, df_classyfire], axis=1)"
   ],
   "metadata": {
    "collapsed": false,
    "ExecuteTime": {
     "end_time": "2024-02-02T09:36:59.632576300Z",
     "start_time": "2024-02-02T09:36:59.603674800Z"
    }
   },
   "id": "fa8b59e8a1722ee4",
   "execution_count": 194
  },
  {
   "cell_type": "code",
   "outputs": [
    {
     "data": {
      "text/plain": "   FILENAME  PREDICTED                                             SMILES  \\\n0  MassBank      False  CC1=C[C@H]2O[C@@H]3[C@H](O[C@@H]4O[C@H](CO)[C@...   \n1  MassBank      False             CC(=O)[C@@H](C)c1c(C)c(O)c(C)c(O)c1C=O   \n2  MassBank      False  CC1=C[C@H]2O[C@@H]3[C@H](O[C@@H]4O[C@H](C(=O)O...   \n3  MassBank      False  COC(=O)[C@@]12C(=O)C(C)=C(O)[C@]1(C)C(C)=C[C@H...   \n4  MassBank      False  CCCC[C@@H](C)[C@@H](OC(=O)C[C@@H](CC(=O)O)C(=O...   \n\n                      INCHIKEY  PathwayNP_1  SuperClassNP_1  ClassNP_1  \\\n0  PUMXWMGECQIOGB-SMSDQXDJSA-N          NaN             NaN        NaN   \n1  CBUOBMSAFIYYEJ-ZCFIWIBFSA-N          NaN             NaN        NaN   \n2  GRFAWUZMBBQEMX-IJNZYEPRSA-N          NaN             NaN        NaN   \n3  SMUNNMAWNRFDPB-UWWAQUNASA-N          NaN             NaN        NaN   \n4  PUZDIGQDECBVJT-FLTFDZFMSA-N          NaN             NaN        NaN   \n\n                          ClassNP        SuperClassNP               PathwayNP  \\\n0  Trichothecane sesquiterpenoids    Sesquiterpenoids              Terpenoids   \n1                                                                               \n2  Trichothecane sesquiterpenoids    Sesquiterpenoids              Terpenoids   \n3      Tetraketide meroterpenoids      Meroterpenoids  Polyketides|Terpenoids   \n4          Open-chain polyketides  Linear polyketides             Polyketides   \n\n  IsGlycoNP  class_results  superclass_results  pathway_results  isglycoside  \n0      True            NaN                 NaN              NaN          NaN  \n1     False            NaN                 NaN              NaN          NaN  \n2      True            NaN                 NaN              NaN          NaN  \n3     False            NaN                 NaN              NaN          NaN  \n4     False            NaN                 NaN              NaN          NaN  ",
      "text/html": "<div>\n<style scoped>\n    .dataframe tbody tr th:only-of-type {\n        vertical-align: middle;\n    }\n\n    .dataframe tbody tr th {\n        vertical-align: top;\n    }\n\n    .dataframe thead th {\n        text-align: right;\n    }\n</style>\n<table border=\"1\" class=\"dataframe\">\n  <thead>\n    <tr style=\"text-align: right;\">\n      <th></th>\n      <th>FILENAME</th>\n      <th>PREDICTED</th>\n      <th>SMILES</th>\n      <th>INCHIKEY</th>\n      <th>PathwayNP_1</th>\n      <th>SuperClassNP_1</th>\n      <th>ClassNP_1</th>\n      <th>ClassNP</th>\n      <th>SuperClassNP</th>\n      <th>PathwayNP</th>\n      <th>IsGlycoNP</th>\n      <th>class_results</th>\n      <th>superclass_results</th>\n      <th>pathway_results</th>\n      <th>isglycoside</th>\n    </tr>\n  </thead>\n  <tbody>\n    <tr>\n      <th>0</th>\n      <td>MassBank</td>\n      <td>False</td>\n      <td>CC1=C[C@H]2O[C@@H]3[C@H](O[C@@H]4O[C@H](CO)[C@...</td>\n      <td>PUMXWMGECQIOGB-SMSDQXDJSA-N</td>\n      <td>NaN</td>\n      <td>NaN</td>\n      <td>NaN</td>\n      <td>Trichothecane sesquiterpenoids</td>\n      <td>Sesquiterpenoids</td>\n      <td>Terpenoids</td>\n      <td>True</td>\n      <td>NaN</td>\n      <td>NaN</td>\n      <td>NaN</td>\n      <td>NaN</td>\n    </tr>\n    <tr>\n      <th>1</th>\n      <td>MassBank</td>\n      <td>False</td>\n      <td>CC(=O)[C@@H](C)c1c(C)c(O)c(C)c(O)c1C=O</td>\n      <td>CBUOBMSAFIYYEJ-ZCFIWIBFSA-N</td>\n      <td>NaN</td>\n      <td>NaN</td>\n      <td>NaN</td>\n      <td></td>\n      <td></td>\n      <td></td>\n      <td>False</td>\n      <td>NaN</td>\n      <td>NaN</td>\n      <td>NaN</td>\n      <td>NaN</td>\n    </tr>\n    <tr>\n      <th>2</th>\n      <td>MassBank</td>\n      <td>False</td>\n      <td>CC1=C[C@H]2O[C@@H]3[C@H](O[C@@H]4O[C@H](C(=O)O...</td>\n      <td>GRFAWUZMBBQEMX-IJNZYEPRSA-N</td>\n      <td>NaN</td>\n      <td>NaN</td>\n      <td>NaN</td>\n      <td>Trichothecane sesquiterpenoids</td>\n      <td>Sesquiterpenoids</td>\n      <td>Terpenoids</td>\n      <td>True</td>\n      <td>NaN</td>\n      <td>NaN</td>\n      <td>NaN</td>\n      <td>NaN</td>\n    </tr>\n    <tr>\n      <th>3</th>\n      <td>MassBank</td>\n      <td>False</td>\n      <td>COC(=O)[C@@]12C(=O)C(C)=C(O)[C@]1(C)C(C)=C[C@H...</td>\n      <td>SMUNNMAWNRFDPB-UWWAQUNASA-N</td>\n      <td>NaN</td>\n      <td>NaN</td>\n      <td>NaN</td>\n      <td>Tetraketide meroterpenoids</td>\n      <td>Meroterpenoids</td>\n      <td>Polyketides|Terpenoids</td>\n      <td>False</td>\n      <td>NaN</td>\n      <td>NaN</td>\n      <td>NaN</td>\n      <td>NaN</td>\n    </tr>\n    <tr>\n      <th>4</th>\n      <td>MassBank</td>\n      <td>False</td>\n      <td>CCCC[C@@H](C)[C@@H](OC(=O)C[C@@H](CC(=O)O)C(=O...</td>\n      <td>PUZDIGQDECBVJT-FLTFDZFMSA-N</td>\n      <td>NaN</td>\n      <td>NaN</td>\n      <td>NaN</td>\n      <td>Open-chain polyketides</td>\n      <td>Linear polyketides</td>\n      <td>Polyketides</td>\n      <td>False</td>\n      <td>NaN</td>\n      <td>NaN</td>\n      <td>NaN</td>\n      <td>NaN</td>\n    </tr>\n  </tbody>\n</table>\n</div>"
     },
     "execution_count": 195,
     "metadata": {},
     "output_type": "execute_result"
    }
   ],
   "source": [
    "df_concatenated.head()"
   ],
   "metadata": {
    "collapsed": false,
    "ExecuteTime": {
     "end_time": "2024-02-02T09:36:59.633079100Z",
     "start_time": "2024-02-02T09:36:59.611624500Z"
    }
   },
   "id": "820855759b60bc2e",
   "execution_count": 195
  },
  {
   "cell_type": "code",
   "outputs": [],
   "source": [
    "df_concatenated = df_concatenated.drop('PathwayNP_1', axis=1)\n",
    "df_concatenated = df_concatenated.drop('SuperClassNP_1', axis=1)\n",
    "df_concatenated = df_concatenated.drop('ClassNP_1', axis=1)"
   ],
   "metadata": {
    "collapsed": false,
    "ExecuteTime": {
     "end_time": "2024-02-02T09:36:59.668966500Z",
     "start_time": "2024-02-02T09:36:59.619353400Z"
    }
   },
   "id": "6e96cdc166375b7b",
   "execution_count": 196
  },
  {
   "cell_type": "markdown",
   "source": [
    "Renommer les colonnes voulu"
   ],
   "metadata": {
    "collapsed": false
   },
   "id": "e1c86879e1b24fc6"
  },
  {
   "cell_type": "code",
   "outputs": [],
   "source": [
    "# df_concatenated = df_concatenated.rename(columns={'Classyfire_Superclass': 'superclass'})\n",
    "# df_concatenated = df_concatenated.rename(columns={'Classyfire_class': 'class'})\n",
    "# df_concatenated = df_concatenated.rename(columns={'Classyfire_Subclass': 'subclass'})"
   ],
   "metadata": {
    "collapsed": false,
    "ExecuteTime": {
     "end_time": "2024-02-02T09:36:59.668966500Z",
     "start_time": "2024-02-02T09:36:59.635083400Z"
    }
   },
   "id": "73eff8f52da1f508",
   "execution_count": 197
  },
  {
   "cell_type": "code",
   "outputs": [
    {
     "data": {
      "text/plain": "   FILENAME  PREDICTED                                             SMILES  \\\n0  MassBank      False  CC1=C[C@H]2O[C@@H]3[C@H](O[C@@H]4O[C@H](CO)[C@...   \n1  MassBank      False             CC(=O)[C@@H](C)c1c(C)c(O)c(C)c(O)c1C=O   \n2  MassBank      False  CC1=C[C@H]2O[C@@H]3[C@H](O[C@@H]4O[C@H](C(=O)O...   \n3  MassBank      False  COC(=O)[C@@]12C(=O)C(C)=C(O)[C@]1(C)C(C)=C[C@H...   \n4  MassBank      False  CCCC[C@@H](C)[C@@H](OC(=O)C[C@@H](CC(=O)O)C(=O...   \n\n                      INCHIKEY                         ClassNP  \\\n0  PUMXWMGECQIOGB-SMSDQXDJSA-N  Trichothecane sesquiterpenoids   \n1  CBUOBMSAFIYYEJ-ZCFIWIBFSA-N                                   \n2  GRFAWUZMBBQEMX-IJNZYEPRSA-N  Trichothecane sesquiterpenoids   \n3  SMUNNMAWNRFDPB-UWWAQUNASA-N      Tetraketide meroterpenoids   \n4  PUZDIGQDECBVJT-FLTFDZFMSA-N          Open-chain polyketides   \n\n         SuperClassNP               PathwayNP IsGlycoNP  class_results  \\\n0    Sesquiterpenoids              Terpenoids      True            NaN   \n1                                                 False            NaN   \n2    Sesquiterpenoids              Terpenoids      True            NaN   \n3      Meroterpenoids  Polyketides|Terpenoids     False            NaN   \n4  Linear polyketides             Polyketides     False            NaN   \n\n   superclass_results  pathway_results  isglycoside  \n0                 NaN              NaN          NaN  \n1                 NaN              NaN          NaN  \n2                 NaN              NaN          NaN  \n3                 NaN              NaN          NaN  \n4                 NaN              NaN          NaN  ",
      "text/html": "<div>\n<style scoped>\n    .dataframe tbody tr th:only-of-type {\n        vertical-align: middle;\n    }\n\n    .dataframe tbody tr th {\n        vertical-align: top;\n    }\n\n    .dataframe thead th {\n        text-align: right;\n    }\n</style>\n<table border=\"1\" class=\"dataframe\">\n  <thead>\n    <tr style=\"text-align: right;\">\n      <th></th>\n      <th>FILENAME</th>\n      <th>PREDICTED</th>\n      <th>SMILES</th>\n      <th>INCHIKEY</th>\n      <th>ClassNP</th>\n      <th>SuperClassNP</th>\n      <th>PathwayNP</th>\n      <th>IsGlycoNP</th>\n      <th>class_results</th>\n      <th>superclass_results</th>\n      <th>pathway_results</th>\n      <th>isglycoside</th>\n    </tr>\n  </thead>\n  <tbody>\n    <tr>\n      <th>0</th>\n      <td>MassBank</td>\n      <td>False</td>\n      <td>CC1=C[C@H]2O[C@@H]3[C@H](O[C@@H]4O[C@H](CO)[C@...</td>\n      <td>PUMXWMGECQIOGB-SMSDQXDJSA-N</td>\n      <td>Trichothecane sesquiterpenoids</td>\n      <td>Sesquiterpenoids</td>\n      <td>Terpenoids</td>\n      <td>True</td>\n      <td>NaN</td>\n      <td>NaN</td>\n      <td>NaN</td>\n      <td>NaN</td>\n    </tr>\n    <tr>\n      <th>1</th>\n      <td>MassBank</td>\n      <td>False</td>\n      <td>CC(=O)[C@@H](C)c1c(C)c(O)c(C)c(O)c1C=O</td>\n      <td>CBUOBMSAFIYYEJ-ZCFIWIBFSA-N</td>\n      <td></td>\n      <td></td>\n      <td></td>\n      <td>False</td>\n      <td>NaN</td>\n      <td>NaN</td>\n      <td>NaN</td>\n      <td>NaN</td>\n    </tr>\n    <tr>\n      <th>2</th>\n      <td>MassBank</td>\n      <td>False</td>\n      <td>CC1=C[C@H]2O[C@@H]3[C@H](O[C@@H]4O[C@H](C(=O)O...</td>\n      <td>GRFAWUZMBBQEMX-IJNZYEPRSA-N</td>\n      <td>Trichothecane sesquiterpenoids</td>\n      <td>Sesquiterpenoids</td>\n      <td>Terpenoids</td>\n      <td>True</td>\n      <td>NaN</td>\n      <td>NaN</td>\n      <td>NaN</td>\n      <td>NaN</td>\n    </tr>\n    <tr>\n      <th>3</th>\n      <td>MassBank</td>\n      <td>False</td>\n      <td>COC(=O)[C@@]12C(=O)C(C)=C(O)[C@]1(C)C(C)=C[C@H...</td>\n      <td>SMUNNMAWNRFDPB-UWWAQUNASA-N</td>\n      <td>Tetraketide meroterpenoids</td>\n      <td>Meroterpenoids</td>\n      <td>Polyketides|Terpenoids</td>\n      <td>False</td>\n      <td>NaN</td>\n      <td>NaN</td>\n      <td>NaN</td>\n      <td>NaN</td>\n    </tr>\n    <tr>\n      <th>4</th>\n      <td>MassBank</td>\n      <td>False</td>\n      <td>CCCC[C@@H](C)[C@@H](OC(=O)C[C@@H](CC(=O)O)C(=O...</td>\n      <td>PUZDIGQDECBVJT-FLTFDZFMSA-N</td>\n      <td>Open-chain polyketides</td>\n      <td>Linear polyketides</td>\n      <td>Polyketides</td>\n      <td>False</td>\n      <td>NaN</td>\n      <td>NaN</td>\n      <td>NaN</td>\n      <td>NaN</td>\n    </tr>\n  </tbody>\n</table>\n</div>"
     },
     "execution_count": 198,
     "metadata": {},
     "output_type": "execute_result"
    }
   ],
   "source": [
    "df_concatenated.head()"
   ],
   "metadata": {
    "collapsed": false,
    "ExecuteTime": {
     "end_time": "2024-02-02T09:36:59.690101200Z",
     "start_time": "2024-02-02T09:36:59.637757900Z"
    }
   },
   "id": "43ea86d8503ecc3b",
   "execution_count": 198
  },
  {
   "cell_type": "markdown",
   "source": [
    "ouvrire df not null de pkon"
   ],
   "metadata": {
    "collapsed": false
   },
   "id": "4fb005dfa167f77b"
  },
  {
   "cell_type": "code",
   "outputs": [],
   "source": [
    "df_not_null = pd.read_excel(r\"C:\\Users\\Axel\\Documents\\Data_publi\\SunBurst\\MSP_smiles_npclass_not_null.xlsx\")"
   ],
   "metadata": {
    "collapsed": false,
    "ExecuteTime": {
     "end_time": "2024-02-02T09:37:00.598983600Z",
     "start_time": "2024-02-02T09:36:59.649408200Z"
    }
   },
   "id": "ab9bb60ae62475a7",
   "execution_count": 199
  },
  {
   "cell_type": "code",
   "outputs": [
    {
     "data": {
      "text/plain": "   FILENAME  PREDICTED                                             SMILES  \\\n0  MassBank      False  COc1cc(O)c2c(O)c3c(c4c2c1[C@]1(C4)C(C)=CCCC1(C...   \n1  MassBank      False  COC1=CC(=O)c2c(O)c3c(c(O)c2C1=O)CC1(C)OC(C(=O)...   \n2  MassBank      False  CCCC[C@@H](C)[C@@H](OC(=O)C[C@@H](CC(=O)O)C(=O...   \n3  MassBank      False  Cc1c(O)c(C(=O)O)c(O)c2c1[C@H](C)[C@@H](C)O[C@@...   \n4  MassBank      False      CC1=C2C(=CO[C@H](C)[C@H]2C)C(=O)C(C(=O)O)=C1O   \n\n                      INCHIKEY               PathwayNP  \\\n0  FNSQKFOXORBCCC-WBWZXODPSA-N  Polyketides|Terpenoids   \n1  HNMWDXUKPJZOQD-UHFFFAOYSA-N             Polyketides   \n2  WYYKRDVIBOEORL-JLCKPESSSA-N             Polyketides   \n3  MBTAFMZUDOUGPS-CGKQSRJASA-N             Polyketides   \n4  CBGDIJWINPWWJW-IYSWYEEDSA-N             Polyketides   \n\n                                   SuperClassNP  \\\n0                   Naphthalenes|Meroterpenoids   \n1  Naphthalenes|Polycyclic aromatic polyketides   \n2                            Linear polyketides   \n3                                     Chromanes   \n4                                     Chromanes   \n\n                                           ClassNP  \n0  Bisnaphthalenes|Other polyketide meroterpenoids  \n1     Anthraquinones and anthrones|Naphthoquinones  \n2                           Open-chain polyketides  \n3                                      Azaphilones  \n4                                      Azaphilones  ",
      "text/html": "<div>\n<style scoped>\n    .dataframe tbody tr th:only-of-type {\n        vertical-align: middle;\n    }\n\n    .dataframe tbody tr th {\n        vertical-align: top;\n    }\n\n    .dataframe thead th {\n        text-align: right;\n    }\n</style>\n<table border=\"1\" class=\"dataframe\">\n  <thead>\n    <tr style=\"text-align: right;\">\n      <th></th>\n      <th>FILENAME</th>\n      <th>PREDICTED</th>\n      <th>SMILES</th>\n      <th>INCHIKEY</th>\n      <th>PathwayNP</th>\n      <th>SuperClassNP</th>\n      <th>ClassNP</th>\n    </tr>\n  </thead>\n  <tbody>\n    <tr>\n      <th>0</th>\n      <td>MassBank</td>\n      <td>False</td>\n      <td>COc1cc(O)c2c(O)c3c(c4c2c1[C@]1(C4)C(C)=CCCC1(C...</td>\n      <td>FNSQKFOXORBCCC-WBWZXODPSA-N</td>\n      <td>Polyketides|Terpenoids</td>\n      <td>Naphthalenes|Meroterpenoids</td>\n      <td>Bisnaphthalenes|Other polyketide meroterpenoids</td>\n    </tr>\n    <tr>\n      <th>1</th>\n      <td>MassBank</td>\n      <td>False</td>\n      <td>COC1=CC(=O)c2c(O)c3c(c(O)c2C1=O)CC1(C)OC(C(=O)...</td>\n      <td>HNMWDXUKPJZOQD-UHFFFAOYSA-N</td>\n      <td>Polyketides</td>\n      <td>Naphthalenes|Polycyclic aromatic polyketides</td>\n      <td>Anthraquinones and anthrones|Naphthoquinones</td>\n    </tr>\n    <tr>\n      <th>2</th>\n      <td>MassBank</td>\n      <td>False</td>\n      <td>CCCC[C@@H](C)[C@@H](OC(=O)C[C@@H](CC(=O)O)C(=O...</td>\n      <td>WYYKRDVIBOEORL-JLCKPESSSA-N</td>\n      <td>Polyketides</td>\n      <td>Linear polyketides</td>\n      <td>Open-chain polyketides</td>\n    </tr>\n    <tr>\n      <th>3</th>\n      <td>MassBank</td>\n      <td>False</td>\n      <td>Cc1c(O)c(C(=O)O)c(O)c2c1[C@H](C)[C@@H](C)O[C@@...</td>\n      <td>MBTAFMZUDOUGPS-CGKQSRJASA-N</td>\n      <td>Polyketides</td>\n      <td>Chromanes</td>\n      <td>Azaphilones</td>\n    </tr>\n    <tr>\n      <th>4</th>\n      <td>MassBank</td>\n      <td>False</td>\n      <td>CC1=C2C(=CO[C@H](C)[C@H]2C)C(=O)C(C(=O)O)=C1O</td>\n      <td>CBGDIJWINPWWJW-IYSWYEEDSA-N</td>\n      <td>Polyketides</td>\n      <td>Chromanes</td>\n      <td>Azaphilones</td>\n    </tr>\n  </tbody>\n</table>\n</div>"
     },
     "execution_count": 200,
     "metadata": {},
     "output_type": "execute_result"
    }
   ],
   "source": [
    "df_not_null.head()"
   ],
   "metadata": {
    "collapsed": false,
    "ExecuteTime": {
     "end_time": "2024-02-02T09:37:00.606938Z",
     "start_time": "2024-02-02T09:37:00.598983600Z"
    }
   },
   "id": "c6b2592ad6da4a16",
   "execution_count": 200
  },
  {
   "cell_type": "code",
   "outputs": [],
   "source": [
    "df1_selected = df_concatenated[['FILENAME', 'PREDICTED', 'INCHIKEY', 'SMILES', 'PathwayNP', 'SuperClassNP', 'ClassNP']]"
   ],
   "metadata": {
    "collapsed": false,
    "ExecuteTime": {
     "end_time": "2024-02-02T09:37:00.614452900Z",
     "start_time": "2024-02-02T09:37:00.604938600Z"
    }
   },
   "id": "3bb98d3799812fa4",
   "execution_count": 201
  },
  {
   "cell_type": "code",
   "outputs": [],
   "source": [
    "# df1_selected = df1_selected.rename(columns={'inchikey': 'INCHIKEY'})"
   ],
   "metadata": {
    "collapsed": false,
    "ExecuteTime": {
     "end_time": "2024-02-02T09:37:00.620982500Z",
     "start_time": "2024-02-02T09:37:00.614452900Z"
    }
   },
   "id": "7af5b044f9905f49",
   "execution_count": 202
  },
  {
   "cell_type": "code",
   "outputs": [
    {
     "data": {
      "text/plain": "   FILENAME  PREDICTED                     INCHIKEY  \\\n0  MassBank      False  PUMXWMGECQIOGB-SMSDQXDJSA-N   \n1  MassBank      False  CBUOBMSAFIYYEJ-ZCFIWIBFSA-N   \n2  MassBank      False  GRFAWUZMBBQEMX-IJNZYEPRSA-N   \n3  MassBank      False  SMUNNMAWNRFDPB-UWWAQUNASA-N   \n4  MassBank      False  PUZDIGQDECBVJT-FLTFDZFMSA-N   \n\n                                              SMILES               PathwayNP  \\\n0  CC1=C[C@H]2O[C@@H]3[C@H](O[C@@H]4O[C@H](CO)[C@...              Terpenoids   \n1             CC(=O)[C@@H](C)c1c(C)c(O)c(C)c(O)c1C=O                           \n2  CC1=C[C@H]2O[C@@H]3[C@H](O[C@@H]4O[C@H](C(=O)O...              Terpenoids   \n3  COC(=O)[C@@]12C(=O)C(C)=C(O)[C@]1(C)C(C)=C[C@H...  Polyketides|Terpenoids   \n4  CCCC[C@@H](C)[C@@H](OC(=O)C[C@@H](CC(=O)O)C(=O...             Polyketides   \n\n         SuperClassNP                         ClassNP  \n0    Sesquiterpenoids  Trichothecane sesquiterpenoids  \n1                                                      \n2    Sesquiterpenoids  Trichothecane sesquiterpenoids  \n3      Meroterpenoids      Tetraketide meroterpenoids  \n4  Linear polyketides          Open-chain polyketides  ",
      "text/html": "<div>\n<style scoped>\n    .dataframe tbody tr th:only-of-type {\n        vertical-align: middle;\n    }\n\n    .dataframe tbody tr th {\n        vertical-align: top;\n    }\n\n    .dataframe thead th {\n        text-align: right;\n    }\n</style>\n<table border=\"1\" class=\"dataframe\">\n  <thead>\n    <tr style=\"text-align: right;\">\n      <th></th>\n      <th>FILENAME</th>\n      <th>PREDICTED</th>\n      <th>INCHIKEY</th>\n      <th>SMILES</th>\n      <th>PathwayNP</th>\n      <th>SuperClassNP</th>\n      <th>ClassNP</th>\n    </tr>\n  </thead>\n  <tbody>\n    <tr>\n      <th>0</th>\n      <td>MassBank</td>\n      <td>False</td>\n      <td>PUMXWMGECQIOGB-SMSDQXDJSA-N</td>\n      <td>CC1=C[C@H]2O[C@@H]3[C@H](O[C@@H]4O[C@H](CO)[C@...</td>\n      <td>Terpenoids</td>\n      <td>Sesquiterpenoids</td>\n      <td>Trichothecane sesquiterpenoids</td>\n    </tr>\n    <tr>\n      <th>1</th>\n      <td>MassBank</td>\n      <td>False</td>\n      <td>CBUOBMSAFIYYEJ-ZCFIWIBFSA-N</td>\n      <td>CC(=O)[C@@H](C)c1c(C)c(O)c(C)c(O)c1C=O</td>\n      <td></td>\n      <td></td>\n      <td></td>\n    </tr>\n    <tr>\n      <th>2</th>\n      <td>MassBank</td>\n      <td>False</td>\n      <td>GRFAWUZMBBQEMX-IJNZYEPRSA-N</td>\n      <td>CC1=C[C@H]2O[C@@H]3[C@H](O[C@@H]4O[C@H](C(=O)O...</td>\n      <td>Terpenoids</td>\n      <td>Sesquiterpenoids</td>\n      <td>Trichothecane sesquiterpenoids</td>\n    </tr>\n    <tr>\n      <th>3</th>\n      <td>MassBank</td>\n      <td>False</td>\n      <td>SMUNNMAWNRFDPB-UWWAQUNASA-N</td>\n      <td>COC(=O)[C@@]12C(=O)C(C)=C(O)[C@]1(C)C(C)=C[C@H...</td>\n      <td>Polyketides|Terpenoids</td>\n      <td>Meroterpenoids</td>\n      <td>Tetraketide meroterpenoids</td>\n    </tr>\n    <tr>\n      <th>4</th>\n      <td>MassBank</td>\n      <td>False</td>\n      <td>PUZDIGQDECBVJT-FLTFDZFMSA-N</td>\n      <td>CCCC[C@@H](C)[C@@H](OC(=O)C[C@@H](CC(=O)O)C(=O...</td>\n      <td>Polyketides</td>\n      <td>Linear polyketides</td>\n      <td>Open-chain polyketides</td>\n    </tr>\n  </tbody>\n</table>\n</div>"
     },
     "execution_count": 203,
     "metadata": {},
     "output_type": "execute_result"
    }
   ],
   "source": [
    "df1_selected.head()"
   ],
   "metadata": {
    "collapsed": false,
    "ExecuteTime": {
     "end_time": "2024-02-02T09:37:00.638763100Z",
     "start_time": "2024-02-02T09:37:00.617983Z"
    }
   },
   "id": "a245229fb94a35d3",
   "execution_count": 203
  },
  {
   "cell_type": "code",
   "outputs": [],
   "source": [
    "df_concatenated = pd.concat([df_not_null, df1_selected])"
   ],
   "metadata": {
    "collapsed": false,
    "ExecuteTime": {
     "end_time": "2024-02-02T09:37:00.656674100Z",
     "start_time": "2024-02-02T09:37:00.627676800Z"
    }
   },
   "id": "57036a862fcf6044",
   "execution_count": 204
  },
  {
   "cell_type": "code",
   "outputs": [
    {
     "data": {
      "text/plain": "   FILENAME  PREDICTED                                             SMILES  \\\n0  MassBank      False  COc1cc(O)c2c(O)c3c(c4c2c1[C@]1(C4)C(C)=CCCC1(C...   \n1  MassBank      False  COC1=CC(=O)c2c(O)c3c(c(O)c2C1=O)CC1(C)OC(C(=O)...   \n2  MassBank      False  CCCC[C@@H](C)[C@@H](OC(=O)C[C@@H](CC(=O)O)C(=O...   \n3  MassBank      False  Cc1c(O)c(C(=O)O)c(O)c2c1[C@H](C)[C@@H](C)O[C@@...   \n4  MassBank      False      CC1=C2C(=CO[C@H](C)[C@H]2C)C(=O)C(C(=O)O)=C1O   \n\n                      INCHIKEY               PathwayNP  \\\n0  FNSQKFOXORBCCC-WBWZXODPSA-N  Polyketides|Terpenoids   \n1  HNMWDXUKPJZOQD-UHFFFAOYSA-N             Polyketides   \n2  WYYKRDVIBOEORL-JLCKPESSSA-N             Polyketides   \n3  MBTAFMZUDOUGPS-CGKQSRJASA-N             Polyketides   \n4  CBGDIJWINPWWJW-IYSWYEEDSA-N             Polyketides   \n\n                                   SuperClassNP  \\\n0                   Naphthalenes|Meroterpenoids   \n1  Naphthalenes|Polycyclic aromatic polyketides   \n2                            Linear polyketides   \n3                                     Chromanes   \n4                                     Chromanes   \n\n                                           ClassNP  \n0  Bisnaphthalenes|Other polyketide meroterpenoids  \n1     Anthraquinones and anthrones|Naphthoquinones  \n2                           Open-chain polyketides  \n3                                      Azaphilones  \n4                                      Azaphilones  ",
      "text/html": "<div>\n<style scoped>\n    .dataframe tbody tr th:only-of-type {\n        vertical-align: middle;\n    }\n\n    .dataframe tbody tr th {\n        vertical-align: top;\n    }\n\n    .dataframe thead th {\n        text-align: right;\n    }\n</style>\n<table border=\"1\" class=\"dataframe\">\n  <thead>\n    <tr style=\"text-align: right;\">\n      <th></th>\n      <th>FILENAME</th>\n      <th>PREDICTED</th>\n      <th>SMILES</th>\n      <th>INCHIKEY</th>\n      <th>PathwayNP</th>\n      <th>SuperClassNP</th>\n      <th>ClassNP</th>\n    </tr>\n  </thead>\n  <tbody>\n    <tr>\n      <th>0</th>\n      <td>MassBank</td>\n      <td>False</td>\n      <td>COc1cc(O)c2c(O)c3c(c4c2c1[C@]1(C4)C(C)=CCCC1(C...</td>\n      <td>FNSQKFOXORBCCC-WBWZXODPSA-N</td>\n      <td>Polyketides|Terpenoids</td>\n      <td>Naphthalenes|Meroterpenoids</td>\n      <td>Bisnaphthalenes|Other polyketide meroterpenoids</td>\n    </tr>\n    <tr>\n      <th>1</th>\n      <td>MassBank</td>\n      <td>False</td>\n      <td>COC1=CC(=O)c2c(O)c3c(c(O)c2C1=O)CC1(C)OC(C(=O)...</td>\n      <td>HNMWDXUKPJZOQD-UHFFFAOYSA-N</td>\n      <td>Polyketides</td>\n      <td>Naphthalenes|Polycyclic aromatic polyketides</td>\n      <td>Anthraquinones and anthrones|Naphthoquinones</td>\n    </tr>\n    <tr>\n      <th>2</th>\n      <td>MassBank</td>\n      <td>False</td>\n      <td>CCCC[C@@H](C)[C@@H](OC(=O)C[C@@H](CC(=O)O)C(=O...</td>\n      <td>WYYKRDVIBOEORL-JLCKPESSSA-N</td>\n      <td>Polyketides</td>\n      <td>Linear polyketides</td>\n      <td>Open-chain polyketides</td>\n    </tr>\n    <tr>\n      <th>3</th>\n      <td>MassBank</td>\n      <td>False</td>\n      <td>Cc1c(O)c(C(=O)O)c(O)c2c1[C@H](C)[C@@H](C)O[C@@...</td>\n      <td>MBTAFMZUDOUGPS-CGKQSRJASA-N</td>\n      <td>Polyketides</td>\n      <td>Chromanes</td>\n      <td>Azaphilones</td>\n    </tr>\n    <tr>\n      <th>4</th>\n      <td>MassBank</td>\n      <td>False</td>\n      <td>CC1=C2C(=CO[C@H](C)[C@H]2C)C(=O)C(C(=O)O)=C1O</td>\n      <td>CBGDIJWINPWWJW-IYSWYEEDSA-N</td>\n      <td>Polyketides</td>\n      <td>Chromanes</td>\n      <td>Azaphilones</td>\n    </tr>\n  </tbody>\n</table>\n</div>"
     },
     "execution_count": 205,
     "metadata": {},
     "output_type": "execute_result"
    }
   ],
   "source": [
    "df_concatenated.head()"
   ],
   "metadata": {
    "collapsed": false,
    "ExecuteTime": {
     "end_time": "2024-02-02T09:37:00.661909500Z",
     "start_time": "2024-02-02T09:37:00.635759Z"
    }
   },
   "id": "14e59981e6600985",
   "execution_count": 205
  },
  {
   "cell_type": "code",
   "outputs": [],
   "source": [
    "df_concatenated['FILENAME'] = df_concatenated['FILENAME'].apply(lambda x: 'GNPS' if str(x).endswith('.mgf') else x)"
   ],
   "metadata": {
    "collapsed": false,
    "ExecuteTime": {
     "end_time": "2024-02-02T09:37:00.664909600Z",
     "start_time": "2024-02-02T09:37:00.643515800Z"
    }
   },
   "id": "e066ca2f4e25b37d",
   "execution_count": 206
  },
  {
   "cell_type": "code",
   "outputs": [],
   "source": [
    "df_concatenated['FILENAME'] = df_concatenated['FILENAME'].replace('MSMS_Public', 'MS-Dial')"
   ],
   "metadata": {
    "collapsed": false,
    "ExecuteTime": {
     "end_time": "2024-02-02T09:37:00.693067600Z",
     "start_time": "2024-02-02T09:37:00.653633700Z"
    }
   },
   "id": "ca95169b2a7abe31",
   "execution_count": 207
  },
  {
   "cell_type": "code",
   "outputs": [],
   "source": [
    "df_concatenated.dropna(subset=['FILENAME'], inplace=True)"
   ],
   "metadata": {
    "collapsed": false,
    "ExecuteTime": {
     "end_time": "2024-02-02T09:37:00.705070400Z",
     "start_time": "2024-02-02T09:37:00.657905600Z"
    }
   },
   "id": "919da5651179626a",
   "execution_count": 208
  },
  {
   "cell_type": "code",
   "outputs": [],
   "source": [
    "df_concatenated.to_excel(r\"C:\\Users\\Axel\\Documents\\Data_publi\\SunBurst\\Result_NPclass\\FragHub_NPclass.xlsx\")"
   ],
   "metadata": {
    "collapsed": false,
    "ExecuteTime": {
     "end_time": "2024-02-02T09:37:04.791077300Z",
     "start_time": "2024-02-02T09:37:00.672560500Z"
    }
   },
   "id": "1bdb3207f528aaa8",
   "execution_count": 209
  },
  {
   "cell_type": "code",
   "outputs": [
    {
     "name": "stdout",
     "output_type": "stream",
     "text": [
      "['Polyketides|Terpenoids', 'Polyketides', 'Alkaloids', 'Shikimates and Phenylpropanoids', 'Terpenoids', 'Fatty acids', 'Amino acids and Peptides|Shikimates and Phenylpropanoids', 'Amino acids and Peptides', 'Carbohydrates', 'Alkaloids|Shikimates and Phenylpropanoids', 'Carbohydrates|Shikimates and Phenylpropanoids', 'Fatty acids|Polyketides', 'Polyketides|Shikimates and Phenylpropanoids', 'Amino acids and Peptides|Fatty acids', 'Alkaloids|Amino acids and Peptides', 'Alkaloids|Terpenoids', 'Amino acids and Peptides|Polyketides', 'Amino acids and Peptides|Fatty acids|Shikimates and Phenylpropanoids', 'Alkaloids|Polyketides', 'Alkaloids|Amino acids and Peptides|Shikimates and Phenylpropanoids', 'Shikimates and Phenylpropanoids|Terpenoids', 'Fatty acids|Terpenoids', 'Carbohydrates|Fatty acids', 'Carbohydrates|Polyketides', 'Alkaloids|Carbohydrates', '', nan, 'Amino acids and Peptides|Fatty acids|Polyketides', 'Amino acids and Peptides|Carbohydrates', 'Alkaloids|Fatty acids', 'Fatty acids|Polyketides|Terpenoids']\n"
     ]
    }
   ],
   "source": [
    "unique_values = df_concatenated['PathwayNP'].unique().tolist()\n",
    "print(unique_values)"
   ],
   "metadata": {
    "collapsed": false,
    "ExecuteTime": {
     "end_time": "2024-02-02T09:37:04.796487900Z",
     "start_time": "2024-02-02T09:37:04.793926300Z"
    }
   },
   "id": "898ac1eda1842c0d",
   "execution_count": 210
  },
  {
   "cell_type": "code",
   "outputs": [],
   "source": [],
   "metadata": {
    "collapsed": false,
    "ExecuteTime": {
     "end_time": "2024-02-02T09:37:04.797490500Z",
     "start_time": "2024-02-02T09:37:04.795983500Z"
    }
   },
   "id": "d22f1cd1a3750c4b",
   "execution_count": 210
  }
 ],
 "metadata": {
  "kernelspec": {
   "display_name": "Python 3",
   "language": "python",
   "name": "python3"
  },
  "language_info": {
   "codemirror_mode": {
    "name": "ipython",
    "version": 2
   },
   "file_extension": ".py",
   "mimetype": "text/x-python",
   "name": "python",
   "nbconvert_exporter": "python",
   "pygments_lexer": "ipython2",
   "version": "2.7.6"
  }
 },
 "nbformat": 4,
 "nbformat_minor": 5
}
