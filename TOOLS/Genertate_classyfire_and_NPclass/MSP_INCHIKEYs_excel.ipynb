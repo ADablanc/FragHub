{
 "cells": [
  {
   "cell_type": "code",
   "execution_count": 6,
   "id": "initial_id",
   "metadata": {
    "collapsed": true,
    "ExecuteTime": {
     "end_time": "2024-01-30T15:12:22.162884600Z",
     "start_time": "2024-01-30T15:12:22.134292900Z"
    }
   },
   "outputs": [],
   "source": [
    "import pandas as pd\n",
    "import os"
   ]
  },
  {
   "cell_type": "code",
   "execution_count": 7,
   "outputs": [],
   "source": [
    "DF_final = pd.DataFrame()"
   ],
   "metadata": {
    "collapsed": false,
    "ExecuteTime": {
     "end_time": "2024-01-30T15:12:22.163905500Z",
     "start_time": "2024-01-30T15:12:22.151817900Z"
    }
   },
   "id": "543664de77725458"
  },
  {
   "cell_type": "markdown",
   "source": [
    "On accède au dossier ou çe situe les CSV de nos DB faite avec FragHub"
   ],
   "metadata": {
    "collapsed": false
   },
   "id": "8fed77ea344743ae"
  },
  {
   "cell_type": "code",
   "execution_count": 8,
   "outputs": [],
   "source": [
    "PATH = r\"C:\\Users\\Axel\\Documents\\Présentations\\FragBank\\Publication\\Diagrammes\\FragBank_CLEAN\\DB_Janvier_2024\\CSV\""
   ],
   "metadata": {
    "collapsed": false,
    "ExecuteTime": {
     "end_time": "2024-01-30T15:12:22.175543900Z",
     "start_time": "2024-01-30T15:12:22.167610200Z"
    }
   },
   "id": "3f4104559d3307e3"
  },
  {
   "cell_type": "markdown",
   "source": [
    "On concatène tous nos csv en un gros dataframe"
   ],
   "metadata": {
    "collapsed": false
   },
   "id": "8ecdbfce9b08cf9f"
  },
  {
   "cell_type": "code",
   "execution_count": 9,
   "outputs": [],
   "source": [
    "for files in os.listdir(PATH):\n",
    "    if files.endswith(\".csv\"):\n",
    "        DF = pd.read_csv(os.path.join(PATH,files), sep=\";\", encoding=\"UTF-8\", usecols=[\"FILENAME\",\"INCHIKEY\",\"PREDICTED\"])\n",
    "        DF_final = pd.concat([DF_final, DF], axis=0)"
   ],
   "metadata": {
    "collapsed": false,
    "ExecuteTime": {
     "end_time": "2024-01-30T15:12:25.597871800Z",
     "start_time": "2024-01-30T15:12:22.172370400Z"
    }
   },
   "id": "bdfef6cee6aa9f32"
  },
  {
   "cell_type": "markdown",
   "source": [
    "Il faut supprimer les predicted true"
   ],
   "metadata": {
    "collapsed": false
   },
   "id": "479f7b166bca35cf"
  },
  {
   "cell_type": "code",
   "outputs": [],
   "source": [
    "DF_final.drop(DF_final[DF_final['PREDICTED'] == 'true'].index, inplace=True)"
   ],
   "metadata": {
    "collapsed": false,
    "ExecuteTime": {
     "end_time": "2024-01-30T15:12:25.647604900Z",
     "start_time": "2024-01-30T15:12:25.599295400Z"
    }
   },
   "id": "6a9b86a497223a33",
   "execution_count": 10
  },
  {
   "cell_type": "code",
   "execution_count": 11,
   "outputs": [],
   "source": [
    "# Éliminez les doublons du DataFrame final\n",
    "DF_final = DF_final.drop_duplicates(subset='INCHIKEY', keep='first')\n",
    "\n",
    "# Réinitialisez les index après la suppression des doublons\n",
    "DF_final = DF_final.reset_index(drop=True)"
   ],
   "metadata": {
    "collapsed": false,
    "ExecuteTime": {
     "end_time": "2024-01-30T15:12:25.679003100Z",
     "start_time": "2024-01-30T15:12:25.648773300Z"
    }
   },
   "id": "b15c6487bd49a8a5"
  },
  {
   "cell_type": "markdown",
   "source": [
    "On conserve l'information de DB_NAME car on voudrait faire un Sunburst par DB après pour voir le recouvrement de chaque DB"
   ],
   "metadata": {
    "collapsed": false
   },
   "id": "d604a118ad900bcd"
  },
  {
   "cell_type": "code",
   "execution_count": 12,
   "outputs": [],
   "source": [
    "# Utilisez la méthode rename() avec des expressions régulières\n",
    "DF_final[\"FILENAME\"] = DF_final[\"FILENAME\"].replace(r'.*MSMS_.*', 'MSMS_Public', regex=True)\n",
    "DF_final[\"FILENAME\"] = DF_final[\"FILENAME\"].replace(r'.*MoNA.*', 'MoNA', regex=True)\n",
    "DF_final[\"FILENAME\"] = DF_final[\"FILENAME\"].replace(r'.*XML_.*', 'HMDB', regex=True)\n",
    "DF_final[\"FILENAME\"] = DF_final[\"FILENAME\"].replace(r'.*MassBank.*', 'MassBank', regex=True)\n",
    "DF_final[\"FILENAME\"] = DF_final[\"FILENAME\"].replace(r'.*ALL_GNPS.*', 'GNPS', regex=True)\n",
    "DF_final[\"FILENAME\"] = DF_final[\"FILENAME\"].replace(r'.*HMDB.*', 'HMDB', regex=True)"
   ],
   "metadata": {
    "collapsed": false,
    "ExecuteTime": {
     "end_time": "2024-01-30T15:12:25.803828600Z",
     "start_time": "2024-01-30T15:12:25.676303200Z"
    }
   },
   "id": "6800637ad15630b4"
  },
  {
   "cell_type": "code",
   "execution_count": 13,
   "outputs": [
    {
     "data": {
      "text/plain": "   FILENAME  PREDICTED                     INCHIKEY\n0  MassBank      False  PUMXWMGECQIOGB-SMSDQXDJSA-N\n1  MassBank      False  CBUOBMSAFIYYEJ-ZCFIWIBFSA-N\n2  MassBank      False  FNSQKFOXORBCCC-WBWZXODPSA-N\n3  MassBank      False  HNMWDXUKPJZOQD-UHFFFAOYSA-N\n4  MassBank      False  GRFAWUZMBBQEMX-IJNZYEPRSA-N",
      "text/html": "<div>\n<style scoped>\n    .dataframe tbody tr th:only-of-type {\n        vertical-align: middle;\n    }\n\n    .dataframe tbody tr th {\n        vertical-align: top;\n    }\n\n    .dataframe thead th {\n        text-align: right;\n    }\n</style>\n<table border=\"1\" class=\"dataframe\">\n  <thead>\n    <tr style=\"text-align: right;\">\n      <th></th>\n      <th>FILENAME</th>\n      <th>PREDICTED</th>\n      <th>INCHIKEY</th>\n    </tr>\n  </thead>\n  <tbody>\n    <tr>\n      <th>0</th>\n      <td>MassBank</td>\n      <td>False</td>\n      <td>PUMXWMGECQIOGB-SMSDQXDJSA-N</td>\n    </tr>\n    <tr>\n      <th>1</th>\n      <td>MassBank</td>\n      <td>False</td>\n      <td>CBUOBMSAFIYYEJ-ZCFIWIBFSA-N</td>\n    </tr>\n    <tr>\n      <th>2</th>\n      <td>MassBank</td>\n      <td>False</td>\n      <td>FNSQKFOXORBCCC-WBWZXODPSA-N</td>\n    </tr>\n    <tr>\n      <th>3</th>\n      <td>MassBank</td>\n      <td>False</td>\n      <td>HNMWDXUKPJZOQD-UHFFFAOYSA-N</td>\n    </tr>\n    <tr>\n      <th>4</th>\n      <td>MassBank</td>\n      <td>False</td>\n      <td>GRFAWUZMBBQEMX-IJNZYEPRSA-N</td>\n    </tr>\n  </tbody>\n</table>\n</div>"
     },
     "execution_count": 13,
     "metadata": {},
     "output_type": "execute_result"
    }
   ],
   "source": [
    "DF_final.head()"
   ],
   "metadata": {
    "collapsed": false,
    "ExecuteTime": {
     "end_time": "2024-01-30T15:12:25.822681200Z",
     "start_time": "2024-01-30T15:12:25.803828600Z"
    }
   },
   "id": "9fee3abd31c0c360"
  },
  {
   "cell_type": "markdown",
   "source": [
    "On écrit notre fichier, c'est celui-ci que l'on utilise pour add_classyfire_to_msp.ipynb"
   ],
   "metadata": {
    "collapsed": false
   },
   "id": "33143078d64f4990"
  },
  {
   "cell_type": "code",
   "execution_count": 14,
   "outputs": [],
   "source": [
    "DF_final.to_excel(os.path.join(PATH,\"ALL_DB_INCHIKEY.xlsx\"), index=False)"
   ],
   "metadata": {
    "collapsed": false,
    "ExecuteTime": {
     "end_time": "2024-01-30T15:12:27.576132600Z",
     "start_time": "2024-01-30T15:12:25.819449300Z"
    }
   },
   "id": "cb614a02e3d81f83"
  }
 ],
 "metadata": {
  "kernelspec": {
   "display_name": "Python 3",
   "language": "python",
   "name": "python3"
  },
  "language_info": {
   "codemirror_mode": {
    "name": "ipython",
    "version": 2
   },
   "file_extension": ".py",
   "mimetype": "text/x-python",
   "name": "python",
   "nbconvert_exporter": "python",
   "pygments_lexer": "ipython2",
   "version": "2.7.6"
  }
 },
 "nbformat": 4,
 "nbformat_minor": 5
}
