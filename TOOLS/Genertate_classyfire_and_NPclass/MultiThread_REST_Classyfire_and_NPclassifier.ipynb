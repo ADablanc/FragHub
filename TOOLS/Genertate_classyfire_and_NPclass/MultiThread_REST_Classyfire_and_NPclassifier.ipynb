{
 "cells": [
  {
   "metadata": {
    "ExecuteTime": {
     "end_time": "2024-11-25T13:11:28.047696Z",
     "start_time": "2024-11-25T13:11:27.625290Z"
    }
   },
   "cell_type": "code",
   "source": [
    "import tkinter as tk\n",
    "from tkinter import ttk, filedialog\n",
    "import concurrent.futures\n",
    "import pandas as pd"
   ],
   "id": "cc2f0ec68b0421e3",
   "outputs": [],
   "execution_count": 28
  },
  {
   "metadata": {
    "ExecuteTime": {
     "end_time": "2024-11-25T13:11:28.068499Z",
     "start_time": "2024-11-25T13:11:28.057661Z"
    }
   },
   "cell_type": "code",
   "source": [
    "global parameters_dict\n",
    "parameters_dict = {}\n",
    "\n",
    "def start_gui():\n",
    "    global parameters_dict\n",
    "\n",
    "    # Configuration de l'application principale Tkinter\n",
    "    root = tk.Tk()\n",
    "    root.title(\"Explorateur de Fichiers\")\n",
    "    root.geometry(\"600x500\")  # Taille de la fenêtre définie à 600x500\n",
    "\n",
    "    # Dictionnaire pour stocker les chemins des fichiers sélectionnés\n",
    "\n",
    "    # Configuration du notebook (les onglets)\n",
    "    notebook = ttk.Notebook(root)\n",
    "    notebook.pack(fill='both', expand=True)  # S'assurer que le notebook remplisse l'espace disponible\n",
    "\n",
    "    # Création des onglets avec configuration pour occuper toute la fenêtre\n",
    "    frame1 = ttk.Frame(notebook)\n",
    "    frame2 = ttk.Frame(notebook)\n",
    "    frame3 = ttk.Frame(notebook)\n",
    "    frame4 = ttk.Frame(notebook)\n",
    "\n",
    "    # S'assurer que les cadres remplissent bien l'espace\n",
    "    for frame in (frame1, frame2, frame3, frame4):\n",
    "        frame.pack(fill='both', expand=True)  # Utiliser pack avec fill et expand pour les cadres\n",
    "\n",
    "    notebook.add(frame1, text='INPUT')\n",
    "    notebook.add(frame2, text='OUTPUT')\n",
    "    notebook.add(frame3, text='Classyfire')\n",
    "    notebook.add(frame4, text='NPclassifier')\n",
    "\n",
    "    # Fonction pour l'explorateur de fichiers\n",
    "    def browse_file(value_key, filetypes):\n",
    "        file_path = filedialog.askopenfilename(filetypes=filetypes)\n",
    "        if file_path:\n",
    "            parameters_dict[value_key] = file_path  # Enregister le chemin dans le dictionnaire\n",
    "\n",
    "    # Fonctions de gestion des changements de sélection pour les entrées de texte\n",
    "    def update_parameters_dict(entry, key):\n",
    "        parameters_dict[key] = entry.get()\n",
    "\n",
    "    # Label et bouton de l'explorateur de fichiers pour l'onglet INPUT\n",
    "    label_input = ttk.Label(frame1, text=\"Sélectionner un fichier CSV pour INPUT:\")\n",
    "    label_input.pack(pady=10)\n",
    "    btn_browse_input = ttk.Button(frame1, text=\"Parcourir\",\n",
    "                                  command=lambda: browse_file('input_file', [('CSV files', '*.csv')]))\n",
    "    btn_browse_input.pack(pady=10)\n",
    "\n",
    "    # Label et bouton de l'explorateur de fichiers pour l'onglet OUTPUT\n",
    "    label_output = ttk.Label(frame2, text=\"Sélectionner un fichier pour OUTPUT:\")\n",
    "    label_output.pack(pady=10)\n",
    "    btn_browse_output = ttk.Button(frame2, text=\"Parcourir\",\n",
    "                                   command=lambda: browse_file('output_file', [('All files', '*.*')]))\n",
    "    btn_browse_output.pack(pady=10)\n",
    "\n",
    "    # Gestionnaire pour les onglets \"Classyfire\"\n",
    "    label_classyfire = ttk.Label(frame3, text=\"Activates ?\")\n",
    "    label_classyfire.pack(pady=5)\n",
    "    # Combobox pour ON/OFF pour Classyfire\n",
    "    combobox_classyfire_status = ttk.Combobox(frame3, values=[\"ON\", \"OFF\"])\n",
    "    combobox_classyfire_status.set(\"ON\")  # Par défaut sur \"ON\"\n",
    "    combobox_classyfire_status.pack(pady=2)\n",
    "    combobox_classyfire_status.bind(\"<<ComboboxSelected>>\",\n",
    "                                    lambda event: update_parameters_dict(combobox_classyfire_status,\n",
    "                                                                         'classyfire_status'))\n",
    "\n",
    "    # Gestionnaire pour les onglets \"Classyfire\"\n",
    "    label_classyfire = ttk.Label(frame3, text=\"inchikeys column:\")\n",
    "    label_classyfire.pack(pady=5)\n",
    "    # Entry pour saisir directement la colonne inchikeys dans l'onglet Classyfire\n",
    "    entry_classyfire_column = ttk.Entry(frame3)\n",
    "    entry_classyfire_column.pack(pady=10)\n",
    "    entry_classyfire_column.bind(\"<KeyRelease>\",\n",
    "                                 lambda event: update_parameters_dict(entry_classyfire_column, 'classyfire_column'))\n",
    "\n",
    "    # Gestionnaire pour les onglets \"NPclassifier\"\n",
    "    label_npclassifier = ttk.Label(frame4, text=\"Activate ?\")\n",
    "    label_npclassifier.pack(pady=5)\n",
    "    # Combobox pour ON/OFF pour NPclassifier\n",
    "    combobox_npclassifier_status = ttk.Combobox(frame4, values=[\"ON\", \"OFF\"])\n",
    "    combobox_npclassifier_status.set(\"ON\")  # Par défaut sur \"ON\"\n",
    "    combobox_npclassifier_status.pack(pady=2)\n",
    "    combobox_npclassifier_status.bind(\"<<ComboboxSelected>>\",\n",
    "                                      lambda event: update_parameters_dict(combobox_npclassifier_status,\n",
    "                                                                           'npclassifier_status'))\n",
    "\n",
    "    # Gestionnaire pour les onglets \"NPclassifier\"\n",
    "    label_npclassifier = ttk.Label(frame4, text=\"smiles column:\")\n",
    "    label_npclassifier.pack(pady=5)\n",
    "    # Entry pour saisir directement la colonne smiles dans l'onglet NPclassifier\n",
    "    entry_npclassifier_column = ttk.Entry(frame4)\n",
    "    entry_npclassifier_column.pack(pady=10)\n",
    "    entry_npclassifier_column.bind(\"<KeyRelease>\", lambda event: update_parameters_dict(entry_npclassifier_column,\n",
    "                                                                                        'npclassifier_column'))\n",
    "\n",
    "    # Bouton Start qui enregistre tous les paramètres et quitte l'application\n",
    "    def on_start():\n",
    "        # Enregistrez les dernières valeurs des entrées de texte\n",
    "        update_parameters_dict(entry_classyfire_column, 'classyfire_column')\n",
    "        update_parameters_dict(entry_npclassifier_column, 'npclassifier_column')\n",
    "\n",
    "        # Enregistrez les valeurs des combobox\n",
    "        parameters_dict['classyfire_status'] = combobox_classyfire_status.get()\n",
    "        parameters_dict['npclassifier_status'] = combobox_npclassifier_status.get()\n",
    "\n",
    "        # Affiche le dictionnaire des paramètres\n",
    "\n",
    "        # Quitter l'application\n",
    "        root.destroy()\n",
    "\n",
    "    start_button = ttk.Button(root, text=\"Start\", command=on_start)\n",
    "    start_button.pack(pady=20)\n",
    "\n",
    "    root.mainloop()"
   ],
   "id": "bed44b593ee221aa",
   "outputs": [],
   "execution_count": 29
  },
  {
   "metadata": {
    "ExecuteTime": {
     "end_time": "2024-11-25T13:11:37.419758Z",
     "start_time": "2024-11-25T13:11:28.075867Z"
    }
   },
   "cell_type": "code",
   "source": [
    "# Appel de la fonction pour démarrer l'interface graphique\n",
    "start_gui()\n",
    "print(parameters_dict)"
   ],
   "id": "e7a63fdbbae6f46c",
   "outputs": [
    {
     "name": "stdout",
     "output_type": "stream",
     "text": [
      "{'input_file': 'D:/Stagiaires/Marion/SIDEROPHORE/PubChem_protein_text_siderophore.csv', 'output_file': 'D:/Stagiaires/Marion/SIDEROPHORE/CheBI_Results.xlsx', 'classyfire_column': 'jj', 'npclassifier_column': 'rgr', 'classyfire_status': 'ON', 'npclassifier_status': 'ON'}\n"
     ]
    }
   ],
   "execution_count": 30
  },
  {
   "metadata": {
    "ExecuteTime": {
     "end_time": "2024-11-25T13:11:37.543490Z",
     "start_time": "2024-11-25T13:11:37.538889Z"
    }
   },
   "cell_type": "code",
   "source": [
    "global df\n",
    "df = pd.read_csv(parameters_dict['input_file'], sep=',', quotechar='\"', encoding='utf-8')"
   ],
   "id": "c92c87b944bb7a24",
   "outputs": [],
   "execution_count": 31
  },
  {
   "metadata": {},
   "cell_type": "code",
   "outputs": [],
   "execution_count": null,
   "source": "print(df.head())",
   "id": "60ed94c58702ba8a"
  },
  {
   "metadata": {},
   "cell_type": "code",
   "outputs": [],
   "execution_count": null,
   "source": [
    "def interrogation_process(row):\n",
    "    result = {}\n",
    "\n",
    "    if parameters_dict['classyfire_status'] == \"ON\":\n",
    "        result['classyfire'] = classyfire_interrogation(row)\n",
    "\n",
    "    if parameters_dict['npclassifier_status'] == \"ON\":\n",
    "        result['npclassifier'] = npclassifier_interrogation(row)\n",
    "\n",
    "    return result"
   ],
   "id": "e12c35d8c29d8b7"
  },
  {
   "metadata": {},
   "cell_type": "code",
   "outputs": [],
   "execution_count": null,
   "source": [
    "def run_interrogation(df):\n",
    "    # Liste pour collecter les résultats\n",
    "    results = []\n",
    "\n",
    "    # Fonction pour gérer les threads\n",
    "    with concurrent.futures.ThreadPoolExecutor() as executor:\n",
    "        # Soumettre les tâches à l'exécuteur\n",
    "        future_to_row = {executor.submit(interrogation_process, row): row for index, row in df.iterrows()}\n",
    "\n",
    "        # Collecter les résultats au fur et à mesure qu'ils sont complétés\n",
    "        for future in concurrent.futures.as_completed(future_to_row):\n",
    "            result = future.result()\n",
    "            results.append(result)\n",
    "\n",
    "    # Retourner les résultats agrégés\n",
    "    return results"
   ],
   "id": "ae218213e58e07b7"
  }
 ],
 "metadata": {
  "kernelspec": {
   "display_name": "Python 3",
   "language": "python",
   "name": "python3"
  },
  "language_info": {
   "codemirror_mode": {
    "name": "ipython",
    "version": 2
   },
   "file_extension": ".py",
   "mimetype": "text/x-python",
   "name": "python",
   "nbconvert_exporter": "python",
   "pygments_lexer": "ipython2",
   "version": "2.7.6"
  }
 },
 "nbformat": 4,
 "nbformat_minor": 5
}
