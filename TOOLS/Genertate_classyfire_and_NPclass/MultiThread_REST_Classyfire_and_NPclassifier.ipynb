{
 "cells": [
  {
   "metadata": {
    "ExecuteTime": {
     "end_time": "2024-11-25T12:45:00.517973Z",
     "start_time": "2024-11-25T12:45:00.514504Z"
    }
   },
   "cell_type": "code",
   "source": [
    "import tkinter as tk\n",
    "from tkinter import ttk, filedialog"
   ],
   "id": "22d5db947547cc4d",
   "outputs": [],
   "execution_count": 11
  },
  {
   "metadata": {
    "ExecuteTime": {
     "end_time": "2024-11-25T12:45:08.600501Z",
     "start_time": "2024-11-25T12:45:00.534129Z"
    }
   },
   "cell_type": "code",
   "source": [
    "# Configuration de l'application principale Tkinter\n",
    "root = tk.Tk()\n",
    "root.title(\"Explorateur de Fichiers\")\n",
    "root.geometry(\"600x500\")  # Taille de la fenêtre définie à 600x500\n",
    "\n",
    "# Dictionnaire pour stocker les chemins des fichiers sélectionnés\n",
    "parameters_dict = {}\n",
    "\n",
    "# Configuration du notebook (les onglets)\n",
    "notebook = ttk.Notebook(root)\n",
    "notebook.pack(pady=10, expand=True)\n",
    "\n",
    "# Création des onglets avec configuration pour occuper toute la fenêtre\n",
    "frame1 = ttk.Frame(notebook)\n",
    "frame2 = ttk.Frame(notebook)\n",
    "\n",
    "# S'assurer que les cadres remplissent bien l'espace\n",
    "frame1.pack(fill='both', expand=True)\n",
    "frame2.pack(fill='both', expand=True)\n",
    "\n",
    "notebook.add(frame1, text='INPUT')\n",
    "notebook.add(frame2, text='OUTPUT')\n",
    "\n",
    "\n",
    "# Fonction pour l'explorateur de fichiers\n",
    "def browse_file(value_key):\n",
    "    file_path = filedialog.askopenfilename()\n",
    "    if file_path:\n",
    "        parameters_dict[value_key] = file_path  # Enregister le chemin dans le dictionnaire\n",
    "    print(parameters_dict)\n",
    "\n",
    "\n",
    "# Label et bouton de l'explorateur de fichiers pour l'onglet INPUT\n",
    "label_input = ttk.Label(frame1, text=\"Sélectionner un fichier pour INPUT:\")\n",
    "label_input.pack(pady=10)\n",
    "btn_browse_input = ttk.Button(frame1, text=\"Parcourir\", command=lambda: browse_file('input_file'))\n",
    "btn_browse_input.pack(pady=10)\n",
    "\n",
    "# Label et bouton de l'explorateur de fichiers pour l'onglet OUTPUT\n",
    "label_output = ttk.Label(frame2, text=\"Sélectionner un fichier pour OUTPUT:\")\n",
    "label_output.pack(pady=10)\n",
    "btn_browse_output = ttk.Button(frame2, text=\"Parcourir\", command=lambda: browse_file('output_file'))\n",
    "btn_browse_output.pack(pady=10)\n",
    "\n",
    "root.mainloop()\n"
   ],
   "id": "6f43ea6f3f51d29",
   "outputs": [
    {
     "name": "stdout",
     "output_type": "stream",
     "text": [
      "{'input_file': 'C:/Users/AgromiX/Documents/.Rhistory'}\n"
     ]
    }
   ],
   "execution_count": 12
  }
 ],
 "metadata": {
  "kernelspec": {
   "display_name": "Python 3",
   "language": "python",
   "name": "python3"
  },
  "language_info": {
   "codemirror_mode": {
    "name": "ipython",
    "version": 2
   },
   "file_extension": ".py",
   "mimetype": "text/x-python",
   "name": "python",
   "nbconvert_exporter": "python",
   "pygments_lexer": "ipython2",
   "version": "2.7.6"
  }
 },
 "nbformat": 4,
 "nbformat_minor": 5
}
