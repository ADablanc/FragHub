{
 "cells": [
  {
   "cell_type": "code",
   "execution_count": 1,
   "id": "initial_id",
   "metadata": {
    "collapsed": true,
    "ExecuteTime": {
     "end_time": "2024-02-02T08:54:21.123038700Z",
     "start_time": "2024-02-02T08:54:20.865898400Z"
    }
   },
   "outputs": [],
   "source": [
    "import plotly.express as px\n",
    "import pandas as pd"
   ]
  },
  {
   "cell_type": "code",
   "outputs": [],
   "source": [
    "df_classyfire = pd.read_excel(r\"C:\\Users\\Axel\\Documents\\Data_publi\\SunBurst\\Result_NPclass\\FragHub_NPclass.xlsx\")"
   ],
   "metadata": {
    "collapsed": false,
    "ExecuteTime": {
     "end_time": "2024-02-02T08:54:23.175679900Z",
     "start_time": "2024-02-02T08:54:21.124074Z"
    }
   },
   "id": "fea18d9a9e24f39b",
   "execution_count": 2
  },
  {
   "cell_type": "code",
   "outputs": [],
   "source": [
    "df_MoNA = df_classyfire[df_classyfire['FILENAME'] == 'MoNA']"
   ],
   "metadata": {
    "collapsed": false,
    "ExecuteTime": {
     "end_time": "2024-02-02T08:54:23.183498Z",
     "start_time": "2024-02-02T08:54:23.178183Z"
    }
   },
   "id": "3b351a7a3c685957",
   "execution_count": 3
  },
  {
   "cell_type": "code",
   "outputs": [],
   "source": [
    "df_MS_Dial = df_classyfire[df_classyfire['FILENAME'] == 'MS-Dial']"
   ],
   "metadata": {
    "collapsed": false,
    "ExecuteTime": {
     "end_time": "2024-02-02T08:54:23.195888800Z",
     "start_time": "2024-02-02T08:54:23.181448200Z"
    }
   },
   "id": "3d580ca51ceb7c41",
   "execution_count": 4
  },
  {
   "cell_type": "code",
   "outputs": [],
   "source": [
    "df_MassBank = df_classyfire[df_classyfire['FILENAME'] == 'MassBank']"
   ],
   "metadata": {
    "collapsed": false,
    "ExecuteTime": {
     "end_time": "2024-02-02T08:54:23.196907700Z",
     "start_time": "2024-02-02T08:54:23.189236200Z"
    }
   },
   "id": "756f1d15a93330cd",
   "execution_count": 5
  },
  {
   "cell_type": "code",
   "outputs": [],
   "source": [
    "df_GNPS = df_classyfire[df_classyfire['FILENAME'] == 'GNPS']"
   ],
   "metadata": {
    "collapsed": false,
    "ExecuteTime": {
     "end_time": "2024-02-02T08:54:23.206268500Z",
     "start_time": "2024-02-02T08:54:23.196907700Z"
    }
   },
   "id": "dce58dfa64867b7f",
   "execution_count": 6
  },
  {
   "cell_type": "code",
   "outputs": [],
   "source": [],
   "metadata": {
    "collapsed": false,
    "ExecuteTime": {
     "end_time": "2024-02-02T08:54:23.210945300Z",
     "start_time": "2024-02-02T08:54:23.206268500Z"
    }
   },
   "id": "c17a9afcdd883fe1",
   "execution_count": 6
  },
  {
   "cell_type": "code",
   "outputs": [],
   "source": [
    "df_MoNA.to_excel(r\"C:\\Users\\Axel\\Documents\\Data_publi\\SunBurst\\Result_NPclass\\MoNA.xlsx\")"
   ],
   "metadata": {
    "collapsed": false,
    "ExecuteTime": {
     "end_time": "2024-02-02T08:54:23.620256400Z",
     "start_time": "2024-02-02T08:54:23.208841600Z"
    }
   },
   "id": "aa9d5652f8177582",
   "execution_count": 7
  },
  {
   "cell_type": "code",
   "outputs": [],
   "source": [
    "df_MS_Dial.to_excel(r\"C:\\Users\\Axel\\Documents\\Data_publi\\SunBurst\\Result_NPclass\\MS_Dial.xlsx\")"
   ],
   "metadata": {
    "collapsed": false,
    "ExecuteTime": {
     "end_time": "2024-02-02T08:54:25.306769800Z",
     "start_time": "2024-02-02T08:54:23.621276400Z"
    }
   },
   "id": "14fd4e35a1a6503",
   "execution_count": 8
  },
  {
   "cell_type": "code",
   "outputs": [],
   "source": [
    "df_MassBank.to_excel(r\"C:\\Users\\Axel\\Documents\\Data_publi\\SunBurst\\Result_NPclass\\MassBank.xlsx\")"
   ],
   "metadata": {
    "collapsed": false,
    "ExecuteTime": {
     "end_time": "2024-02-02T08:54:25.937767900Z",
     "start_time": "2024-02-02T08:54:25.306769800Z"
    }
   },
   "id": "2a8d9960016ad726",
   "execution_count": 9
  },
  {
   "cell_type": "code",
   "outputs": [],
   "source": [
    "df_GNPS.to_excel(r\"C:\\Users\\Axel\\Documents\\Data_publi\\SunBurst\\Result_NPclass\\GNPS.xlsx\")"
   ],
   "metadata": {
    "collapsed": false,
    "ExecuteTime": {
     "end_time": "2024-02-02T08:54:36.098862500Z",
     "start_time": "2024-02-02T08:54:35.111635200Z"
    }
   },
   "id": "76c98379b57b8a7d",
   "execution_count": 11
  },
  {
   "cell_type": "code",
   "outputs": [],
   "source": [],
   "metadata": {
    "collapsed": false
   },
   "id": "aedd127039b3379a"
  }
 ],
 "metadata": {
  "kernelspec": {
   "display_name": "Python 3",
   "language": "python",
   "name": "python3"
  },
  "language_info": {
   "codemirror_mode": {
    "name": "ipython",
    "version": 2
   },
   "file_extension": ".py",
   "mimetype": "text/x-python",
   "name": "python",
   "nbconvert_exporter": "python",
   "pygments_lexer": "ipython2",
   "version": "2.7.6"
  }
 },
 "nbformat": 4,
 "nbformat_minor": 5
}
