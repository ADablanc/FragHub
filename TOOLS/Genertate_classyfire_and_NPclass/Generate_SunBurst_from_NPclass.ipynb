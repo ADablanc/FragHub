{
 "cells": [
  {
   "cell_type": "code",
   "execution_count": 34,
   "id": "initial_id",
   "metadata": {
    "collapsed": true,
    "ExecuteTime": {
     "end_time": "2024-02-02T09:37:20.616293300Z",
     "start_time": "2024-02-02T09:37:20.614786100Z"
    }
   },
   "outputs": [],
   "source": [
    "import plotly.express as px\n",
    "import pandas as pd"
   ]
  },
  {
   "cell_type": "code",
   "outputs": [],
   "source": [
    "df_classyfire = pd.read_excel(r\"C:\\Users\\Axel\\Documents\\Data_publi\\SunBurst\\Result_NPclass\\FragHub_NPclass.xlsx\")"
   ],
   "metadata": {
    "collapsed": false,
    "ExecuteTime": {
     "end_time": "2024-02-02T09:37:23.190278500Z",
     "start_time": "2024-02-02T09:37:20.618292800Z"
    }
   },
   "id": "fea18d9a9e24f39b",
   "execution_count": 35
  },
  {
   "cell_type": "code",
   "outputs": [
    {
     "data": {
      "text/plain": "   Unnamed: 0  FILENAME  PREDICTED  \\\n0           0  MassBank      False   \n1           1  MassBank      False   \n2           2  MassBank      False   \n3           3  MassBank      False   \n4           4  MassBank      False   \n\n                                              SMILES  \\\n0  COc1cc(O)c2c(O)c3c(c4c2c1[C@]1(C4)C(C)=CCCC1(C...   \n1  COC1=CC(=O)c2c(O)c3c(c(O)c2C1=O)CC1(C)OC(C(=O)...   \n2  CCCC[C@@H](C)[C@@H](OC(=O)C[C@@H](CC(=O)O)C(=O...   \n3  Cc1c(O)c(C(=O)O)c(O)c2c1[C@H](C)[C@@H](C)O[C@@...   \n4      CC1=C2C(=CO[C@H](C)[C@H]2C)C(=O)C(C(=O)O)=C1O   \n\n                      INCHIKEY               PathwayNP  \\\n0  FNSQKFOXORBCCC-WBWZXODPSA-N  Polyketides|Terpenoids   \n1  HNMWDXUKPJZOQD-UHFFFAOYSA-N             Polyketides   \n2  WYYKRDVIBOEORL-JLCKPESSSA-N             Polyketides   \n3  MBTAFMZUDOUGPS-CGKQSRJASA-N             Polyketides   \n4  CBGDIJWINPWWJW-IYSWYEEDSA-N             Polyketides   \n\n                                   SuperClassNP  \\\n0                   Naphthalenes|Meroterpenoids   \n1  Naphthalenes|Polycyclic aromatic polyketides   \n2                            Linear polyketides   \n3                                     Chromanes   \n4                                     Chromanes   \n\n                                           ClassNP  \n0  Bisnaphthalenes|Other polyketide meroterpenoids  \n1     Anthraquinones and anthrones|Naphthoquinones  \n2                           Open-chain polyketides  \n3                                      Azaphilones  \n4                                      Azaphilones  ",
      "text/html": "<div>\n<style scoped>\n    .dataframe tbody tr th:only-of-type {\n        vertical-align: middle;\n    }\n\n    .dataframe tbody tr th {\n        vertical-align: top;\n    }\n\n    .dataframe thead th {\n        text-align: right;\n    }\n</style>\n<table border=\"1\" class=\"dataframe\">\n  <thead>\n    <tr style=\"text-align: right;\">\n      <th></th>\n      <th>Unnamed: 0</th>\n      <th>FILENAME</th>\n      <th>PREDICTED</th>\n      <th>SMILES</th>\n      <th>INCHIKEY</th>\n      <th>PathwayNP</th>\n      <th>SuperClassNP</th>\n      <th>ClassNP</th>\n    </tr>\n  </thead>\n  <tbody>\n    <tr>\n      <th>0</th>\n      <td>0</td>\n      <td>MassBank</td>\n      <td>False</td>\n      <td>COc1cc(O)c2c(O)c3c(c4c2c1[C@]1(C4)C(C)=CCCC1(C...</td>\n      <td>FNSQKFOXORBCCC-WBWZXODPSA-N</td>\n      <td>Polyketides|Terpenoids</td>\n      <td>Naphthalenes|Meroterpenoids</td>\n      <td>Bisnaphthalenes|Other polyketide meroterpenoids</td>\n    </tr>\n    <tr>\n      <th>1</th>\n      <td>1</td>\n      <td>MassBank</td>\n      <td>False</td>\n      <td>COC1=CC(=O)c2c(O)c3c(c(O)c2C1=O)CC1(C)OC(C(=O)...</td>\n      <td>HNMWDXUKPJZOQD-UHFFFAOYSA-N</td>\n      <td>Polyketides</td>\n      <td>Naphthalenes|Polycyclic aromatic polyketides</td>\n      <td>Anthraquinones and anthrones|Naphthoquinones</td>\n    </tr>\n    <tr>\n      <th>2</th>\n      <td>2</td>\n      <td>MassBank</td>\n      <td>False</td>\n      <td>CCCC[C@@H](C)[C@@H](OC(=O)C[C@@H](CC(=O)O)C(=O...</td>\n      <td>WYYKRDVIBOEORL-JLCKPESSSA-N</td>\n      <td>Polyketides</td>\n      <td>Linear polyketides</td>\n      <td>Open-chain polyketides</td>\n    </tr>\n    <tr>\n      <th>3</th>\n      <td>3</td>\n      <td>MassBank</td>\n      <td>False</td>\n      <td>Cc1c(O)c(C(=O)O)c(O)c2c1[C@H](C)[C@@H](C)O[C@@...</td>\n      <td>MBTAFMZUDOUGPS-CGKQSRJASA-N</td>\n      <td>Polyketides</td>\n      <td>Chromanes</td>\n      <td>Azaphilones</td>\n    </tr>\n    <tr>\n      <th>4</th>\n      <td>4</td>\n      <td>MassBank</td>\n      <td>False</td>\n      <td>CC1=C2C(=CO[C@H](C)[C@H]2C)C(=O)C(C(=O)O)=C1O</td>\n      <td>CBGDIJWINPWWJW-IYSWYEEDSA-N</td>\n      <td>Polyketides</td>\n      <td>Chromanes</td>\n      <td>Azaphilones</td>\n    </tr>\n  </tbody>\n</table>\n</div>"
     },
     "execution_count": 36,
     "metadata": {},
     "output_type": "execute_result"
    }
   ],
   "source": [
    "df_classyfire.head()"
   ],
   "metadata": {
    "collapsed": false,
    "ExecuteTime": {
     "end_time": "2024-02-02T09:37:23.195414Z",
     "start_time": "2024-02-02T09:37:23.191213Z"
    }
   },
   "id": "f2fe11ee0bd6fc49",
   "execution_count": 36
  },
  {
   "cell_type": "code",
   "outputs": [],
   "source": [],
   "metadata": {
    "collapsed": false,
    "ExecuteTime": {
     "end_time": "2024-02-02T09:37:23.201345100Z",
     "start_time": "2024-02-02T09:37:23.196193500Z"
    }
   },
   "id": "c8998e12afc657aa",
   "execution_count": 36
  },
  {
   "cell_type": "code",
   "outputs": [],
   "source": [
    "df_MoNA = df_classyfire[df_classyfire['FILENAME'] == 'MoNA']"
   ],
   "metadata": {
    "collapsed": false,
    "ExecuteTime": {
     "end_time": "2024-02-02T09:37:23.207658300Z",
     "start_time": "2024-02-02T09:37:23.198701800Z"
    }
   },
   "id": "3b351a7a3c685957",
   "execution_count": 37
  },
  {
   "cell_type": "code",
   "outputs": [],
   "source": [
    "df_MS_Dial = df_classyfire[df_classyfire['FILENAME'] == 'MS-Dial']"
   ],
   "metadata": {
    "collapsed": false,
    "ExecuteTime": {
     "end_time": "2024-02-02T09:37:23.214212900Z",
     "start_time": "2024-02-02T09:37:23.205659Z"
    }
   },
   "id": "3d580ca51ceb7c41",
   "execution_count": 38
  },
  {
   "cell_type": "code",
   "outputs": [],
   "source": [
    "df_MassBank = df_classyfire[df_classyfire['FILENAME'] == 'MassBank']"
   ],
   "metadata": {
    "collapsed": false,
    "ExecuteTime": {
     "end_time": "2024-02-02T09:37:23.226353500Z",
     "start_time": "2024-02-02T09:37:23.214212900Z"
    }
   },
   "id": "756f1d15a93330cd",
   "execution_count": 39
  },
  {
   "cell_type": "code",
   "outputs": [],
   "source": [
    "df_GNPS = df_classyfire[df_classyfire['FILENAME'] == 'GNPS']"
   ],
   "metadata": {
    "collapsed": false,
    "ExecuteTime": {
     "end_time": "2024-02-02T09:37:23.234825300Z",
     "start_time": "2024-02-02T09:37:23.221354100Z"
    }
   },
   "id": "dce58dfa64867b7f",
   "execution_count": 40
  },
  {
   "cell_type": "code",
   "outputs": [],
   "source": [],
   "metadata": {
    "collapsed": false,
    "ExecuteTime": {
     "end_time": "2024-02-02T09:37:23.244825300Z",
     "start_time": "2024-02-02T09:37:23.229395100Z"
    }
   },
   "id": "c17a9afcdd883fe1",
   "execution_count": 40
  },
  {
   "cell_type": "code",
   "outputs": [],
   "source": [
    "df_MoNA.to_excel(r\"C:\\Users\\Axel\\Documents\\Data_publi\\SunBurst\\Result_NPclass\\MoNA.xlsx\")"
   ],
   "metadata": {
    "collapsed": false,
    "ExecuteTime": {
     "end_time": "2024-02-02T09:37:23.825634800Z",
     "start_time": "2024-02-02T09:37:23.231822300Z"
    }
   },
   "id": "aa9d5652f8177582",
   "execution_count": 41
  },
  {
   "cell_type": "code",
   "outputs": [],
   "source": [
    "df_MS_Dial.to_excel(r\"C:\\Users\\Axel\\Documents\\Data_publi\\SunBurst\\Result_NPclass\\MS_Dial.xlsx\")"
   ],
   "metadata": {
    "collapsed": false,
    "ExecuteTime": {
     "end_time": "2024-02-02T09:37:25.750359500Z",
     "start_time": "2024-02-02T09:37:23.826637800Z"
    }
   },
   "id": "14fd4e35a1a6503",
   "execution_count": 42
  },
  {
   "cell_type": "code",
   "outputs": [],
   "source": [
    "df_MassBank.to_excel(r\"C:\\Users\\Axel\\Documents\\Data_publi\\SunBurst\\Result_NPclass\\MassBank.xlsx\")"
   ],
   "metadata": {
    "collapsed": false,
    "ExecuteTime": {
     "end_time": "2024-02-02T09:37:26.629825700Z",
     "start_time": "2024-02-02T09:37:25.750359500Z"
    }
   },
   "id": "2a8d9960016ad726",
   "execution_count": 43
  },
  {
   "cell_type": "code",
   "outputs": [],
   "source": [
    "df_GNPS.to_excel(r\"C:\\Users\\Axel\\Documents\\Data_publi\\SunBurst\\Result_NPclass\\GNPS.xlsx\")"
   ],
   "metadata": {
    "collapsed": false,
    "ExecuteTime": {
     "end_time": "2024-02-02T09:37:27.790686100Z",
     "start_time": "2024-02-02T09:37:26.630825300Z"
    }
   },
   "id": "76c98379b57b8a7d",
   "execution_count": 44
  },
  {
   "cell_type": "code",
   "outputs": [],
   "source": [],
   "metadata": {
    "collapsed": false,
    "ExecuteTime": {
     "end_time": "2024-02-02T09:37:27.796447300Z",
     "start_time": "2024-02-02T09:37:27.792439600Z"
    }
   },
   "id": "aedd127039b3379a",
   "execution_count": 44
  }
 ],
 "metadata": {
  "kernelspec": {
   "display_name": "Python 3",
   "language": "python",
   "name": "python3"
  },
  "language_info": {
   "codemirror_mode": {
    "name": "ipython",
    "version": 2
   },
   "file_extension": ".py",
   "mimetype": "text/x-python",
   "name": "python",
   "nbconvert_exporter": "python",
   "pygments_lexer": "ipython2",
   "version": "2.7.6"
  }
 },
 "nbformat": 4,
 "nbformat_minor": 5
}
