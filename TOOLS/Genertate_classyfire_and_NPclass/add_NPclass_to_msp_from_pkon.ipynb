{
 "cells": [
  {
   "cell_type": "code",
   "execution_count": 1,
   "id": "initial_id",
   "metadata": {
    "collapsed": true,
    "ExecuteTime": {
     "end_time": "2024-02-01T09:40:26.457118500Z",
     "start_time": "2024-02-01T09:40:26.113256400Z"
    }
   },
   "outputs": [],
   "source": [
    "import pandas as pd"
   ]
  },
  {
   "cell_type": "markdown",
   "source": [
    "Ouvrire le fichier de pharmakon"
   ],
   "metadata": {
    "collapsed": false
   },
   "id": "4e52d124f9515630"
  },
  {
   "cell_type": "code",
   "execution_count": 2,
   "outputs": [],
   "source": [
    "PKON_file = r\"C:\\Users\\Axel\\Documents\\Présentations\\FragBank\\Publication\\Diagrammes\\Sunburst\\pkon23all-Chmochampv14nov.xlsx\""
   ],
   "metadata": {
    "collapsed": false,
    "ExecuteTime": {
     "end_time": "2024-02-01T09:40:26.474418400Z",
     "start_time": "2024-02-01T09:40:26.459639500Z"
    }
   },
   "id": "28f84afa21cc357e"
  },
  {
   "cell_type": "code",
   "outputs": [],
   "source": [
    "pkon_df = pd.read_excel(PKON_file)"
   ],
   "metadata": {
    "collapsed": false,
    "ExecuteTime": {
     "end_time": "2024-02-01T09:43:01.128148500Z",
     "start_time": "2024-02-01T09:40:26.463442900Z"
    }
   },
   "id": "d8c6d671e8a9c143",
   "execution_count": 3
  },
  {
   "cell_type": "markdown",
   "source": [
    "Ne récupérer que les colonnes SMILES; NPCLASSIF_CLASS et NPCLASSIF_PATHWAY du fichier de pkon"
   ],
   "metadata": {
    "collapsed": false
   },
   "id": "4eb6029b32a23e11"
  },
  {
   "cell_type": "code",
   "execution_count": 4,
   "outputs": [],
   "source": [
    "nouveau_df = pkon_df[['SMILES', 'NPCLASSIF_CLASS', 'NPCLASSIF_PATHWAY']]"
   ],
   "metadata": {
    "collapsed": false,
    "ExecuteTime": {
     "end_time": "2024-02-01T09:43:01.175215300Z",
     "start_time": "2024-02-01T09:43:01.163249100Z"
    }
   },
   "id": "a0c46d3e0d9c5623"
  },
  {
   "cell_type": "code",
   "execution_count": 5,
   "outputs": [
    {
     "name": "stderr",
     "output_type": "stream",
     "text": [
      "C:\\Users\\Axel\\AppData\\Local\\Temp\\ipykernel_28608\\3181145265.py:1: SettingWithCopyWarning: \n",
      "A value is trying to be set on a copy of a slice from a DataFrame.\n",
      "Try using .loc[row_indexer,col_indexer] = value instead\n",
      "\n",
      "See the caveats in the documentation: https://pandas.pydata.org/pandas-docs/stable/user_guide/indexing.html#returning-a-view-versus-a-copy\n",
      "  nouveau_df['SMILES'] = nouveau_df['SMILES'].astype(str)\n"
     ]
    }
   ],
   "source": [
    "nouveau_df['SMILES'] = nouveau_df['SMILES'].astype(str)"
   ],
   "metadata": {
    "collapsed": false,
    "ExecuteTime": {
     "end_time": "2024-02-01T09:43:01.240871300Z",
     "start_time": "2024-02-01T09:43:01.166026200Z"
    }
   },
   "id": "a52c673c9cf06bfb"
  },
  {
   "cell_type": "code",
   "execution_count": 6,
   "outputs": [
    {
     "data": {
      "text/plain": "                                              SMILES  \\\n0  C=C1C[C@](OC)([C@H](O)C(O)=N[C@@H]2OCO[C@H]3[C...   \n1  O=P(O)(O)OC[C@H]1O[C@H](OP(=O)(O)O)[C@H](O)[C@...   \n2  CCC(C)CCCCCCCCC(=O)OC[C@H](COP(=O)(O)OC[C@H](O...   \n3  CCCCCCCCCCCCCCCCCCCCCCCCC(=O)O[C@H](COC(=O)CCC...   \n4        COc1cc2oc3c(O)ccc(O)c3c(=O)c2c(O)c1CC=C(C)C   \n\n                         NPCLASSIF_CLASS                NPCLASSIF_PATHWAY  \n0                 Open-chain polyketides                      Polyketides  \n1                                    NaN                    Carbohydrates  \n2  Glycerophosphoglycerophosphoglycerols                      Fatty acids  \n3  Glycerophosphoglycerophosphoglycerols                      Fatty acids  \n4                        Plant xanthones  Shikimates and Phenylpropanoids  ",
      "text/html": "<div>\n<style scoped>\n    .dataframe tbody tr th:only-of-type {\n        vertical-align: middle;\n    }\n\n    .dataframe tbody tr th {\n        vertical-align: top;\n    }\n\n    .dataframe thead th {\n        text-align: right;\n    }\n</style>\n<table border=\"1\" class=\"dataframe\">\n  <thead>\n    <tr style=\"text-align: right;\">\n      <th></th>\n      <th>SMILES</th>\n      <th>NPCLASSIF_CLASS</th>\n      <th>NPCLASSIF_PATHWAY</th>\n    </tr>\n  </thead>\n  <tbody>\n    <tr>\n      <th>0</th>\n      <td>C=C1C[C@](OC)([C@H](O)C(O)=N[C@@H]2OCO[C@H]3[C...</td>\n      <td>Open-chain polyketides</td>\n      <td>Polyketides</td>\n    </tr>\n    <tr>\n      <th>1</th>\n      <td>O=P(O)(O)OC[C@H]1O[C@H](OP(=O)(O)O)[C@H](O)[C@...</td>\n      <td>NaN</td>\n      <td>Carbohydrates</td>\n    </tr>\n    <tr>\n      <th>2</th>\n      <td>CCC(C)CCCCCCCCC(=O)OC[C@H](COP(=O)(O)OC[C@H](O...</td>\n      <td>Glycerophosphoglycerophosphoglycerols</td>\n      <td>Fatty acids</td>\n    </tr>\n    <tr>\n      <th>3</th>\n      <td>CCCCCCCCCCCCCCCCCCCCCCCCC(=O)O[C@H](COC(=O)CCC...</td>\n      <td>Glycerophosphoglycerophosphoglycerols</td>\n      <td>Fatty acids</td>\n    </tr>\n    <tr>\n      <th>4</th>\n      <td>COc1cc2oc3c(O)ccc(O)c3c(=O)c2c(O)c1CC=C(C)C</td>\n      <td>Plant xanthones</td>\n      <td>Shikimates and Phenylpropanoids</td>\n    </tr>\n  </tbody>\n</table>\n</div>"
     },
     "execution_count": 6,
     "metadata": {},
     "output_type": "execute_result"
    }
   ],
   "source": [
    "nouveau_df.head() # Affiche pour vérification"
   ],
   "metadata": {
    "collapsed": false,
    "ExecuteTime": {
     "end_time": "2024-02-01T09:43:01.411051700Z",
     "start_time": "2024-02-01T09:43:01.235089500Z"
    }
   },
   "id": "4276c30d18b64fe4"
  },
  {
   "cell_type": "markdown",
   "source": [
    "Ouvrire mon fichier où nous avons l'ensemble des SMILES de nos bases de données"
   ],
   "metadata": {
    "collapsed": false
   },
   "id": "e096a95a554b138a"
  },
  {
   "cell_type": "code",
   "execution_count": 7,
   "outputs": [],
   "source": [
    "MSP_file = r\"C:\\Users\\Axel\\Documents\\Présentations\\FragBank\\Publication\\Diagrammes\\FragBank_CLEAN\\DB_Janvier_2024\\CSV\\ALL_DB_SMILES.xlsx\""
   ],
   "metadata": {
    "collapsed": false,
    "ExecuteTime": {
     "end_time": "2024-02-01T09:43:48.264017900Z",
     "start_time": "2024-02-01T09:43:48.251805400Z"
    }
   },
   "id": "ed7de222e258f230"
  },
  {
   "cell_type": "code",
   "execution_count": 8,
   "outputs": [],
   "source": [
    "MSP_df = pd.read_excel(MSP_file)"
   ],
   "metadata": {
    "collapsed": false,
    "ExecuteTime": {
     "end_time": "2024-02-01T09:43:49.766844400Z",
     "start_time": "2024-02-01T09:43:48.528169Z"
    }
   },
   "id": "d5da999a9e793da0"
  },
  {
   "cell_type": "code",
   "execution_count": 9,
   "outputs": [],
   "source": [
    "MSP_df['SMILES'] = MSP_df['SMILES'].astype(str)"
   ],
   "metadata": {
    "collapsed": false,
    "ExecuteTime": {
     "end_time": "2024-02-01T09:43:49.775811600Z",
     "start_time": "2024-02-01T09:43:49.766844400Z"
    }
   },
   "id": "f42d84cee383022"
  },
  {
   "cell_type": "code",
   "execution_count": 10,
   "outputs": [
    {
     "data": {
      "text/plain": "   FILENAME  PREDICTED                                             SMILES\n0  MassBank      False  CC1=C[C@H]2O[C@@H]3[C@H](O[C@@H]4O[C@H](CO)[C@...\n1  MassBank      False             CC(=O)[C@@H](C)c1c(C)c(O)c(C)c(O)c1C=O\n2  MassBank      False  COc1cc(O)c2c(O)c3c(c4c2c1[C@]1(C4)C(C)=CCCC1(C...\n3  MassBank      False  COC1=CC(=O)c2c(O)c3c(c(O)c2C1=O)CC1(C)OC(C(=O)...\n4  MassBank      False  CC1=C[C@H]2O[C@@H]3[C@H](O[C@@H]4O[C@H](C(=O)O...",
      "text/html": "<div>\n<style scoped>\n    .dataframe tbody tr th:only-of-type {\n        vertical-align: middle;\n    }\n\n    .dataframe tbody tr th {\n        vertical-align: top;\n    }\n\n    .dataframe thead th {\n        text-align: right;\n    }\n</style>\n<table border=\"1\" class=\"dataframe\">\n  <thead>\n    <tr style=\"text-align: right;\">\n      <th></th>\n      <th>FILENAME</th>\n      <th>PREDICTED</th>\n      <th>SMILES</th>\n    </tr>\n  </thead>\n  <tbody>\n    <tr>\n      <th>0</th>\n      <td>MassBank</td>\n      <td>False</td>\n      <td>CC1=C[C@H]2O[C@@H]3[C@H](O[C@@H]4O[C@H](CO)[C@...</td>\n    </tr>\n    <tr>\n      <th>1</th>\n      <td>MassBank</td>\n      <td>False</td>\n      <td>CC(=O)[C@@H](C)c1c(C)c(O)c(C)c(O)c1C=O</td>\n    </tr>\n    <tr>\n      <th>2</th>\n      <td>MassBank</td>\n      <td>False</td>\n      <td>COc1cc(O)c2c(O)c3c(c4c2c1[C@]1(C4)C(C)=CCCC1(C...</td>\n    </tr>\n    <tr>\n      <th>3</th>\n      <td>MassBank</td>\n      <td>False</td>\n      <td>COC1=CC(=O)c2c(O)c3c(c(O)c2C1=O)CC1(C)OC(C(=O)...</td>\n    </tr>\n    <tr>\n      <th>4</th>\n      <td>MassBank</td>\n      <td>False</td>\n      <td>CC1=C[C@H]2O[C@@H]3[C@H](O[C@@H]4O[C@H](C(=O)O...</td>\n    </tr>\n  </tbody>\n</table>\n</div>"
     },
     "execution_count": 10,
     "metadata": {},
     "output_type": "execute_result"
    }
   ],
   "source": [
    "MSP_df.head() # Affichage pour vérification"
   ],
   "metadata": {
    "collapsed": false,
    "ExecuteTime": {
     "end_time": "2024-02-01T09:43:49.809956800Z",
     "start_time": "2024-02-01T09:43:49.772773900Z"
    }
   },
   "id": "9ee2dfb41892f905"
  },
  {
   "cell_type": "markdown",
   "source": [
    "On complète nos smiles de nos bases de données avec les classyfire de PKON23"
   ],
   "metadata": {
    "collapsed": false
   },
   "id": "c50bdc77aa69b353"
  },
  {
   "cell_type": "code",
   "execution_count": 11,
   "outputs": [],
   "source": [
    "MSP_df = MSP_df.merge(nouveau_df[['SMILES', 'NPCLASSIF_CLASS', 'NPCLASSIF_PATHWAY']], on='SMILES', how='left')"
   ],
   "metadata": {
    "collapsed": false,
    "ExecuteTime": {
     "end_time": "2024-02-01T09:43:50.083023100Z",
     "start_time": "2024-02-01T09:43:49.790020900Z"
    }
   },
   "id": "904a71981a62aa77"
  },
  {
   "cell_type": "code",
   "execution_count": 12,
   "outputs": [],
   "source": [
    "MSP_df = MSP_df.drop_duplicates(subset='SMILES', keep='first')"
   ],
   "metadata": {
    "collapsed": false,
    "ExecuteTime": {
     "end_time": "2024-02-01T09:43:50.091019Z",
     "start_time": "2024-02-01T09:43:50.084242400Z"
    }
   },
   "id": "ff9c2356a9115647"
  },
  {
   "cell_type": "code",
   "execution_count": 13,
   "outputs": [
    {
     "data": {
      "text/plain": "   FILENAME  PREDICTED                                             SMILES  \\\n0  MassBank      False  CC1=C[C@H]2O[C@@H]3[C@H](O[C@@H]4O[C@H](CO)[C@...   \n1  MassBank      False             CC(=O)[C@@H](C)c1c(C)c(O)c(C)c(O)c1C=O   \n2  MassBank      False  COc1cc(O)c2c(O)c3c(c4c2c1[C@]1(C4)C(C)=CCCC1(C...   \n3  MassBank      False  COC1=CC(=O)c2c(O)c3c(c(O)c2C1=O)CC1(C)OC(C(=O)...   \n4  MassBank      False  CC1=C[C@H]2O[C@@H]3[C@H](O[C@@H]4O[C@H](C(=O)O...   \n\n                                   NPCLASSIF_CLASS       NPCLASSIF_PATHWAY  \n0                                              NaN                     NaN  \n1                                              NaN                     NaN  \n2  Bisnaphthalenes|Other polyketide meroterpenoids  Polyketides|Terpenoids  \n3     Anthraquinones and anthrones|Naphthoquinones             Polyketides  \n4                                              NaN                     NaN  ",
      "text/html": "<div>\n<style scoped>\n    .dataframe tbody tr th:only-of-type {\n        vertical-align: middle;\n    }\n\n    .dataframe tbody tr th {\n        vertical-align: top;\n    }\n\n    .dataframe thead th {\n        text-align: right;\n    }\n</style>\n<table border=\"1\" class=\"dataframe\">\n  <thead>\n    <tr style=\"text-align: right;\">\n      <th></th>\n      <th>FILENAME</th>\n      <th>PREDICTED</th>\n      <th>SMILES</th>\n      <th>NPCLASSIF_CLASS</th>\n      <th>NPCLASSIF_PATHWAY</th>\n    </tr>\n  </thead>\n  <tbody>\n    <tr>\n      <th>0</th>\n      <td>MassBank</td>\n      <td>False</td>\n      <td>CC1=C[C@H]2O[C@@H]3[C@H](O[C@@H]4O[C@H](CO)[C@...</td>\n      <td>NaN</td>\n      <td>NaN</td>\n    </tr>\n    <tr>\n      <th>1</th>\n      <td>MassBank</td>\n      <td>False</td>\n      <td>CC(=O)[C@@H](C)c1c(C)c(O)c(C)c(O)c1C=O</td>\n      <td>NaN</td>\n      <td>NaN</td>\n    </tr>\n    <tr>\n      <th>2</th>\n      <td>MassBank</td>\n      <td>False</td>\n      <td>COc1cc(O)c2c(O)c3c(c4c2c1[C@]1(C4)C(C)=CCCC1(C...</td>\n      <td>Bisnaphthalenes|Other polyketide meroterpenoids</td>\n      <td>Polyketides|Terpenoids</td>\n    </tr>\n    <tr>\n      <th>3</th>\n      <td>MassBank</td>\n      <td>False</td>\n      <td>COC1=CC(=O)c2c(O)c3c(c(O)c2C1=O)CC1(C)OC(C(=O)...</td>\n      <td>Anthraquinones and anthrones|Naphthoquinones</td>\n      <td>Polyketides</td>\n    </tr>\n    <tr>\n      <th>4</th>\n      <td>MassBank</td>\n      <td>False</td>\n      <td>CC1=C[C@H]2O[C@@H]3[C@H](O[C@@H]4O[C@H](C(=O)O...</td>\n      <td>NaN</td>\n      <td>NaN</td>\n    </tr>\n  </tbody>\n</table>\n</div>"
     },
     "execution_count": 13,
     "metadata": {},
     "output_type": "execute_result"
    }
   ],
   "source": [
    "MSP_df.head() # Affichage pour vérification"
   ],
   "metadata": {
    "collapsed": false,
    "ExecuteTime": {
     "end_time": "2024-02-01T09:43:50.111058600Z",
     "start_time": "2024-02-01T09:43:50.092118Z"
    }
   },
   "id": "5a972ca93eeb0a6d"
  },
  {
   "cell_type": "markdown",
   "source": [
    "On enregistre ce DF là"
   ],
   "metadata": {
    "collapsed": false
   },
   "id": "611870ccc220cd34"
  },
  {
   "cell_type": "code",
   "execution_count": 14,
   "outputs": [],
   "source": [
    "MSP_df.to_excel(r\"C:\\Users\\Axel\\Documents\\Présentations\\FragBank\\Publication\\Diagrammes\\Sunburst\\MSP_smiles_npclass.xlsx\", index=False)"
   ],
   "metadata": {
    "collapsed": false,
    "ExecuteTime": {
     "end_time": "2024-02-01T09:43:52.476971600Z",
     "start_time": "2024-02-01T09:43:50.107217300Z"
    }
   },
   "id": "4ff0b5944f4129bc"
  },
  {
   "cell_type": "code",
   "execution_count": 15,
   "outputs": [],
   "source": [
    "null_df = MSP_df[MSP_df['NPCLASSIF_PATHWAY'].isnull()] # NULL"
   ],
   "metadata": {
    "collapsed": false,
    "ExecuteTime": {
     "end_time": "2024-02-01T09:43:52.486589700Z",
     "start_time": "2024-02-01T09:43:52.479095100Z"
    }
   },
   "id": "2a72f1807e38875c"
  },
  {
   "cell_type": "code",
   "execution_count": 16,
   "outputs": [],
   "source": [
    "null_df = null_df.drop_duplicates(subset='SMILES', keep='first')"
   ],
   "metadata": {
    "collapsed": false,
    "ExecuteTime": {
     "end_time": "2024-02-01T09:43:52.510846600Z",
     "start_time": "2024-02-01T09:43:52.483391900Z"
    }
   },
   "id": "fe17b4db7621da1b"
  },
  {
   "cell_type": "markdown",
   "source": [
    "ici on enregistre le DF des short InChikey qui n'ont aucune information de classification taxonomique ==> c'est celui-ci que l'on utilise pour l'interrogation API de Classyfire"
   ],
   "metadata": {
    "collapsed": false
   },
   "id": "dd26c7efb1985627"
  },
  {
   "cell_type": "code",
   "execution_count": 17,
   "outputs": [],
   "source": [
    "null_df.to_excel(r\"C:\\Users\\Axel\\Documents\\Présentations\\FragBank\\Publication\\Diagrammes\\Sunburst\\MSP_smiles_npclass_null.xlsx\", index=False)"
   ],
   "metadata": {
    "collapsed": false,
    "ExecuteTime": {
     "end_time": "2024-02-01T09:43:54.223499400Z",
     "start_time": "2024-02-01T09:43:52.510846600Z"
    }
   },
   "id": "6da49bfd53f789e6"
  },
  {
   "cell_type": "code",
   "outputs": [
    {
     "name": "stdout",
     "output_type": "stream",
     "text": [
      "25347\n"
     ]
    }
   ],
   "source": [
    "print(len(null_df))"
   ],
   "metadata": {
    "collapsed": false,
    "ExecuteTime": {
     "end_time": "2024-02-01T09:43:54.228367100Z",
     "start_time": "2024-02-01T09:43:54.224514Z"
    }
   },
   "id": "675ce21a7a1e3e1b",
   "execution_count": 18
  },
  {
   "cell_type": "markdown",
   "source": [
    "Juste pour voir ce qu'on à réussi à récupérer de PKON 23"
   ],
   "metadata": {
    "collapsed": false
   },
   "id": "2cdcb10d183bcb"
  },
  {
   "cell_type": "code",
   "execution_count": 19,
   "outputs": [],
   "source": [
    "not_null_df = MSP_df[~MSP_df['NPCLASSIF_PATHWAY'].isnull()] # NOT NULL"
   ],
   "metadata": {
    "collapsed": false,
    "ExecuteTime": {
     "end_time": "2024-02-01T09:43:54.260963100Z",
     "start_time": "2024-02-01T09:43:54.228367100Z"
    }
   },
   "id": "fad1daab9dcdfbcb"
  },
  {
   "cell_type": "code",
   "outputs": [
    {
     "name": "stdout",
     "output_type": "stream",
     "text": [
      "15473\n"
     ]
    }
   ],
   "source": [
    "print(len(not_null_df))"
   ],
   "metadata": {
    "collapsed": false,
    "ExecuteTime": {
     "end_time": "2024-02-01T09:43:54.268692100Z",
     "start_time": "2024-02-01T09:43:54.253797500Z"
    }
   },
   "id": "45a91560078505eb",
   "execution_count": 20
  },
  {
   "cell_type": "code",
   "execution_count": 21,
   "outputs": [],
   "source": [
    "not_null_df.to_excel(r\"C:\\Users\\Axel\\Documents\\Présentations\\FragBank\\Publication\\Diagrammes\\Sunburst\\MSP_smiles_npclass_not_null.xlsx\", index=False)"
   ],
   "metadata": {
    "collapsed": false,
    "ExecuteTime": {
     "end_time": "2024-02-01T09:43:55.322508500Z",
     "start_time": "2024-02-01T09:43:54.265528400Z"
    }
   },
   "id": "853e79478adffb3d"
  },
  {
   "cell_type": "code",
   "execution_count": 48,
   "outputs": [],
   "source": [],
   "metadata": {
    "collapsed": false,
    "ExecuteTime": {
     "end_time": "2024-01-30T15:39:21.512486100Z",
     "start_time": "2024-01-30T15:39:21.508854700Z"
    }
   },
   "id": "186cd1c491582a2c"
  }
 ],
 "metadata": {
  "kernelspec": {
   "display_name": "Python 3",
   "language": "python",
   "name": "python3"
  },
  "language_info": {
   "codemirror_mode": {
    "name": "ipython",
    "version": 2
   },
   "file_extension": ".py",
   "mimetype": "text/x-python",
   "name": "python",
   "nbconvert_exporter": "python",
   "pygments_lexer": "ipython2",
   "version": "2.7.6"
  }
 },
 "nbformat": 4,
 "nbformat_minor": 5
}
