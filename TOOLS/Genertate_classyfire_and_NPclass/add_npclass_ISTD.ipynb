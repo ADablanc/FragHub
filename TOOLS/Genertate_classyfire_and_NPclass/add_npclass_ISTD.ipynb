{
 "cells": [
  {
   "cell_type": "code",
   "execution_count": null,
   "id": "initial_id",
   "metadata": {
    "collapsed": true
   },
   "outputs": [],
   "source": [
    "import pandas as pd\n",
    "import json\n",
    "\n",
    "# Chemins des fichiers\n",
    "xlsx_neg_path = r'D:\\Axel\\DATAS\\ISTD_ALL\\filtered_DB\\Agromix_C18_1.5RT_Jul2023_neg_filtered.xlsx'\n",
    "xlsx_pos_path = r'D:\\Axel\\DATAS\\ISTD_ALL\\filtered_DB\\Agromix_C18_1.5RT_Jul2023_pos_filtered.xlsx'\n",
    "json_neg_path = r'D:\\Axel\\DATAS\\ISTD_ALL\\filtered_DB\\ISTD_neg_smiles_NPclass_complete.json'\n",
    "json_pos_path = r'D:\\Axel\\DATAS\\ISTD_ALL\\filtered_DB\\ISTD_pos_smiles_NPclass_complete.json'\n",
    "\n",
    "# Lire les fichiers XLSX\n",
    "df_neg = pd.read_excel(xlsx_neg_path)\n",
    "df_pos = pd.read_excel(xlsx_pos_path)\n",
    "\n",
    "# Lire les fichiers JSON\n",
    "with open(json_neg_path, 'r') as f:\n",
    "    json_neg = json.load(f)\n",
    "\n",
    "with open(json_pos_path, 'r') as f:\n",
    "    json_pos = json.load(f)\n"
   ]
  },
  {
   "metadata": {},
   "cell_type": "code",
   "outputs": [],
   "execution_count": null,
   "source": [
    "def add_np_classes(df, json_data):\n",
    "    class_np_list = []\n",
    "    superclass_np_list = []\n",
    "    pathway_np_list = []\n",
    "\n",
    "    for index, row in df.iterrows():\n",
    "        # Trouver l'entrée correspondante dans le fichier JSON\n",
    "        match = next((item for item in json_data if item['ClassNP'] == row['FILENAME']), None)\n",
    "\n",
    "        if match:\n",
    "            class_np_list.append(match.get('ClassNP', 'N/A'))\n",
    "            superclass_np_list.append(match.get('SuperClassNP', 'N/A'))\n",
    "            pathway_np_list.append(match.get('PathwayNP', 'N/A'))\n",
    "        else:\n",
    "            class_np_list.append('N/A')\n",
    "            superclass_np_list.append('N/A')\n",
    "            pathway_np_list.append('N/A')\n",
    "\n",
    "    # Ajouter les nouvelles colonnes au DataFrame\n",
    "    df['ClassNP'] = class_np_list\n",
    "    df['SuperClassNP'] = superclass_np_list\n",
    "    df['PathwayNP'] = pathway_np_list\n",
    "\n",
    "    return df\n"
   ],
   "id": "829184d358ec0788"
  },
  {
   "metadata": {},
   "cell_type": "code",
   "outputs": [],
   "execution_count": null,
   "source": [
    "# Appliquer la fonction aux DataFrames négatif et positif\n",
    "df_neg = add_np_classes(df_neg, json_neg)\n",
    "df_pos = add_np_classes(df_pos, json_pos)\n",
    "\n",
    "# Concaténer les deux DataFrames\n",
    "df_combined = pd.concat([df_neg, df_pos])\n",
    "\n",
    "# Colonnes à garder\n",
    "cols_to_keep = [\n",
    "    'FILENAME', 'PARENTMASS', 'NAME', 'PRECURSORMZ', 'PRECURSORTYPE',\n",
    "    'SMILES', 'INCHI', 'INCHIKEY', 'FORMULA', 'RETENTIONTIME', 'IONMODE',\n",
    "    'ClassNP', 'SuperClassNP', 'PathwayNP'\n",
    "]\n",
    "\n",
    "# Filtrer les colonnes\n",
    "df_filtered = df_combined[cols_to_keep]\n",
    "\n",
    "# Enregistrer le résultat dans un nouveau fichier XLSX\n",
    "df_filtered.to_excel(r'D:\\Axel\\DATAS\\ISTD_ALL\\filtered_DB\\Agromix_C18_1.5RT_Jul2023_filtered_combined_np.xlsx',\n",
    "                     index=False)\n"
   ],
   "id": "450c71cb3547124f"
  }
 ],
 "metadata": {
  "kernelspec": {
   "display_name": "Python 3",
   "language": "python",
   "name": "python3"
  },
  "language_info": {
   "codemirror_mode": {
    "name": "ipython",
    "version": 2
   },
   "file_extension": ".py",
   "mimetype": "text/x-python",
   "name": "python",
   "nbconvert_exporter": "python",
   "pygments_lexer": "ipython2",
   "version": "2.7.6"
  }
 },
 "nbformat": 4,
 "nbformat_minor": 5
}
