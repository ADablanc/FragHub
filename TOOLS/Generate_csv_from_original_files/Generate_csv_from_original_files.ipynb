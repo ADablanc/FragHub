{
 "cells": [
  {
   "cell_type": "code",
   "execution_count": 1,
   "id": "initial_id",
   "metadata": {
    "collapsed": true,
    "ExecuteTime": {
     "end_time": "2024-03-20T10:05:07.370710Z",
     "start_time": "2024-03-20T10:05:05.712761Z"
    }
   },
   "outputs": [],
   "source": [
    "from convertors.convert_to_json import *\n",
    "from mols_calculation import *\n",
    "import pandas as pd\n",
    "import os\n",
    "import re"
   ]
  },
  {
   "cell_type": "code",
   "outputs": [],
   "source": [
    "global In_Silico_pattern\n",
    "In_Silico_pattern = re.compile(r\"in.silico|insilico|predicted|theoretical|Annotation.level.3\", flags=re.IGNORECASE)"
   ],
   "metadata": {
    "collapsed": false,
    "ExecuteTime": {
     "end_time": "2024-03-20T10:05:07.374523Z",
     "start_time": "2024-03-20T10:05:07.370710Z"
    }
   },
   "id": "bbaf96a75c76a658",
   "execution_count": 2
  },
  {
   "cell_type": "code",
   "outputs": [],
   "source": [
    "def in_filename(filename):\n",
    "    \"\"\"\n",
    "    :param filename: The name of the file to be checked for the presence of the string \"MSMS_Public\" and matching a specific pattern.\n",
    "    :return: Returns True if the filename does not contain \"MSMS_Public\" and matches a specific pattern defined by the In_Silico_pattern. Returns False otherwise.\n",
    "\n",
    "    \"\"\"\n",
    "    if \"MSMS_Public\" not in filename:\n",
    "        if re.search(In_Silico_pattern, filename):\n",
    "            return True\n",
    "\n",
    "    return False"
   ],
   "metadata": {
    "collapsed": false,
    "ExecuteTime": {
     "end_time": "2024-03-20T10:05:07.386352Z",
     "start_time": "2024-03-20T10:05:07.374523Z"
    }
   },
   "id": "f28e13cb34194820",
   "execution_count": 3
  },
  {
   "cell_type": "code",
   "outputs": [],
   "source": [
    "def normalize_predicted(metadata_dict):\n",
    "    \"\"\"\n",
    "    Normalize the predicted field in the given metadata dictionary.\n",
    "\n",
    "    :param metadata_dict: A dictionary containing metadata information.\n",
    "    :return: The updated metadata dictionary with the normalized predicted field.\n",
    "    \"\"\"\n",
    "    comment_field = metadata_dict[\"COMMENT\"]\n",
    "    predicted = metadata_dict[\"PREDICTED\"]\n",
    "    filename = metadata_dict[\"FILENAME\"]\n",
    "\n",
    "    if re.search(In_Silico_pattern, comment_field) or predicted == \"true\" or in_filename(filename):\n",
    "        metadata_dict[\"PREDICTED\"] = \"true\"\n",
    "        return metadata_dict\n",
    "    else:\n",
    "        metadata_dict[\"PREDICTED\"] = \"false\"\n",
    "        return metadata_dict"
   ],
   "metadata": {
    "collapsed": false,
    "ExecuteTime": {
     "end_time": "2024-03-20T10:05:07.400238Z",
     "start_time": "2024-03-20T10:05:07.386352Z"
    }
   },
   "id": "cbbff160fd1bacf2",
   "execution_count": 4
  },
  {
   "cell_type": "code",
   "outputs": [],
   "source": [
    "def convert_keys(dict_list):\n",
    "    \"\"\"\n",
    "    Convert keys in metadata_dict based on the provided keys_dict and keys_list.\n",
    "\n",
    "    :param metadata_dict: A dictionary containing metadata information.\n",
    "    :return: A dictionary with converted keys based on the provided keys_dict and keys_list.\n",
    "    \"\"\"\n",
    "    output = []\n",
    "    for metadata_dict in dict_list:\n",
    "        converted = {keys_dict[key.lower()]: val for key, val in metadata_dict.items() if key.lower() in keys_dict and keys_dict[key.lower()] in keys_list}\n",
    "    \n",
    "        converted.update({key: \"\" for key in keys_list if key not in converted})\n",
    "        output.append(converted)\n",
    "\n",
    "    return output"
   ],
   "metadata": {
    "collapsed": false,
    "ExecuteTime": {
     "end_time": "2024-03-20T10:05:07.411280Z",
     "start_time": "2024-03-20T10:05:07.401244Z"
    }
   },
   "id": "cfe28dcc22f56b0f",
   "execution_count": 5
  },
  {
   "cell_type": "code",
   "outputs": [],
   "source": [
    "original_db_path = r\"C:\\Users\\Axel\\Documents\\PYTHON\\FragHub\\INPUT\""
   ],
   "metadata": {
    "collapsed": false,
    "ExecuteTime": {
     "end_time": "2024-03-20T10:05:07.424345Z",
     "start_time": "2024-03-20T10:05:07.411280Z"
    }
   },
   "id": "b87e90fadacc700b",
   "execution_count": 6
  },
  {
   "cell_type": "code",
   "outputs": [
    {
     "name": "stdout",
     "output_type": "stream",
     "text": [
      "                                         -- CONVERTING JSON TO JSON --\n"
     ]
    },
    {
     "name": "stderr",
     "output_type": "stream",
     "text": [
      "                                                          Loading file: 3.47GB [00:44, 78.3MB/s]                            170MB/s] \n",
      "                                             converting JSON spectrums: 100%|\u001B[32m██████████\u001B[0m| 217259/217259 [01:09<00:00, 3144.49 spectrums/s] \n"
     ]
    },
    {
     "name": "stdout",
     "output_type": "stream",
     "text": [
      "                                          -- CONVERTING MSP TO JSON --\n"
     ]
    },
    {
     "name": "stderr",
     "output_type": "stream",
     "text": [
      "                                           loading [MassBank_NIST.msp]:   6%|\u001B[32m▌         \u001B[0m| 5.50M/99.8M [00:02<00:40, 2.33MB/s]\n",
      "                                          loading [MassBank_RIKEN.msp]:   4%|\u001B[32m▍         \u001B[0m| 5.19M/120M [00:02<00:51, 2.23MB/s]\n",
      "                     loading [MSMS_Public_ExpBioInsilico_NEG_VS17.msp]:   6%|\u001B[32m▌         \u001B[0m| 3.20M/53.9M [00:01<00:20, 2.50MB/s]\n",
      "                     loading [MSMS_Public_ExpBioInsilico_Pos_VS17.msp]:   6%|\u001B[32m▌         \u001B[0m| 15.3M/272M [00:06<01:52, 2.28MB/s]\n",
      "                                              converting MSP spectrums: 100%|\u001B[32m██████████\u001B[0m| 572810/572810 [01:53<00:00, 5025.11 spectrums/s] \n"
     ]
    },
    {
     "name": "stdout",
     "output_type": "stream",
     "text": [
      "                                          -- CONVERTING MGF TO JSON --\n"
     ]
    },
    {
     "name": "stderr",
     "output_type": "stream",
     "text": [
      "                                            loading [BERKELEY-LAB.mgf]:   5%|\u001B[32m▍         \u001B[0m| 1.49M/32.5M [00:00<00:12, 2.47MB/s]\n",
      "                                               loading [BILELIB19.mgf]:   6%|\u001B[32m▌         \u001B[0m| 2.40M/41.9M [00:00<00:11, 3.38MB/s]\n",
      "                         loading [DEREPLICATOR_IDENTIFIED_LIBRARY.mgf]:   5%|\u001B[32m▌         \u001B[0m| 98.8k/1.92M [00:00<00:00, 2.63MB/s]\n",
      "                                  loading [DRUGS-OF-ABUSE-LIBRARY.mgf]:   4%|\u001B[32m▍         \u001B[0m| 65.6k/1.51M [00:00<00:00, 2.72MB/s]\n",
      "                          loading [ECG-ACYL-AMIDES-C4-C24-LIBRARY.mgf]:   5%|\u001B[32m▌         \u001B[0m| 353k/6.76M [00:00<00:02, 2.68MB/s]\n",
      "                          loading [ECG-ACYL-ESTERS-C4-C24-LIBRARY.mgf]:   5%|\u001B[32m▍         \u001B[0m| 37.7k/774k [00:00<00:00, 2.27MB/s]\n",
      "                                   loading [GNPS-COLLECTIONS-MISC.mgf]:   6%|\u001B[32m▌         \u001B[0m| 6.92k/121k [00:00<00:00, 2.07MB/s]\n",
      "                    loading [GNPS-COLLECTIONS-PESTICIDES-NEGATIVE.mgf]:   4%|\u001B[32m▍         \u001B[0m| 6.47k/152k [00:00<00:00, 2.08MB/s]\n",
      "                    loading [GNPS-COLLECTIONS-PESTICIDES-POSITIVE.mgf]:   6%|\u001B[32m▌         \u001B[0m| 206k/3.75M [00:00<00:01, 2.88MB/s]\n",
      "                             loading [GNPS-D2-AMINO-LIPID-LIBRARY.mgf]:   5%|\u001B[32m▍         \u001B[0m| 7.97k/176k [00:00<00:00, 2.55MB/s]\n",
      "                                           loading [GNPS-EMBL-MCF.mgf]:   5%|\u001B[32m▍         \u001B[0m| 37.8k/790k [00:00<00:00, 2.37MB/s]\n",
      "                                     loading [GNPS-FAULKNERLEGACY.mgf]:   5%|\u001B[32m▌         \u001B[0m| 10.5k/209k [00:00<00:00, 2.43MB/s]\n",
      "                                           loading [GNPS-IOBA-NHC.mgf]:   6%|\u001B[32m▌         \u001B[0m| 67.8k/1.17M [00:00<00:00, 3.03MB/s]\n",
      "                                            loading [GNPS-LIBRARY.mgf]:   5%|\u001B[32m▌         \u001B[0m| 6.71M/123M [00:01<00:34, 3.40MB/s]\n",
      "                                              loading [GNPS-MSMLS.mgf]:   4%|\u001B[32m▍         \u001B[0m| 58.7k/1.32M [00:00<00:00, 2.41MB/s]\n",
      "                            loading [GNPS-NIH-CLINICALCOLLECTION1.mgf]:   6%|\u001B[32m▌         \u001B[0m| 259k/4.40M [00:00<00:01, 3.22MB/s]\n",
      "                            loading [GNPS-NIH-CLINICALCOLLECTION2.mgf]:   6%|\u001B[32m▌         \u001B[0m| 93.8k/1.59M [00:00<00:00, 3.19MB/s]\n",
      "                         loading [GNPS-NIH-NATURALPRODUCTSLIBRARY.mgf]:   6%|\u001B[32m▌         \u001B[0m| 2.31M/39.0M [00:00<00:10, 3.52MB/s]\n",
      "         loading [GNPS-NIH-NATURALPRODUCTSLIBRARY_ROUND2_NEGATIVE.mgf]:   5%|\u001B[32m▍         \u001B[0m| 168k/3.71M [00:00<00:01, 2.41MB/s]\n",
      "         loading [GNPS-NIH-NATURALPRODUCTSLIBRARY_ROUND2_POSITIVE.mgf]:   6%|\u001B[32m▌         \u001B[0m| 2.71M/48.9M [00:00<00:14, 3.23MB/s]\n",
      "           loading [GNPS-NIH-SMALLMOLECULEPHARMACOLOGICALLYACTIVE.mgf]:   6%|\u001B[32m▌         \u001B[0m| 4.18M/69.6M [00:01<00:18, 3.54MB/s]\n",
      "                                     loading [GNPS-NIST14-MATCHES.mgf]:   5%|\u001B[32m▌         \u001B[0m| 1.39M/26.5M [00:00<00:08, 2.94MB/s]\n",
      "                                loading [GNPS-NUTRI-METAB-FEM-NEG.mgf]:   4%|\u001B[32m▍         \u001B[0m| 269k/6.20M [00:00<00:02, 2.43MB/s]\n",
      "                                loading [GNPS-NUTRI-METAB-FEM-POS.mgf]:   4%|\u001B[32m▍         \u001B[0m| 380k/8.78M [00:00<00:03, 2.61MB/s]\n",
      "                                 loading [GNPS-PRESTWICKPHYTOCHEM.mgf]:   6%|\u001B[32m▌         \u001B[0m| 181k/3.04M [00:00<00:01, 2.65MB/s]\n",
      "                        loading [GNPS-SAM-SIK-KANG-LEGACY-LIBRARY.mgf]:   4%|\u001B[32m▍         \u001B[0m| 37.3k/876k [00:00<00:00, 2.38MB/s]\n",
      "                                      loading [GNPS-SCIEX-LIBRARY.mgf]:   5%|\u001B[32m▍         \u001B[0m| 11.9k/252k [00:00<00:00, 1.85MB/s]\n",
      "                              loading [GNPS-SELLECKCHEM-FDA-PART1.mgf]:   5%|\u001B[32m▍         \u001B[0m| 523k/10.7M [00:00<00:03, 2.79MB/s]\n",
      "                              loading [GNPS-SELLECKCHEM-FDA-PART2.mgf]:   6%|\u001B[32m▌         \u001B[0m| 733k/12.4M [00:00<00:03, 3.35MB/s]\n",
      "                                  loading [HCE-CELL-LYSATE-LIPIDS.mgf]:   6%|\u001B[32m▌         \u001B[0m| 35.2k/636k [00:00<00:00, 2.46MB/s]\n",
      "                                                  loading [IQAMDB.mgf]:   4%|\u001B[32m▍         \u001B[0m| 33.1k/759k [00:00<00:00, 1.91MB/s]\n",
      "                                            loading [LDB_NEGATIVE.mgf]:   5%|\u001B[32m▌         \u001B[0m| 1.49M/29.2M [00:00<00:08, 3.15MB/s]\n",
      "                                            loading [LDB_POSITIVE.mgf]:   6%|\u001B[32m▌         \u001B[0m| 1.45M/26.2M [00:00<00:07, 3.12MB/s]\n",
      "                                                 loading [LEAFBOT.mgf]:   4%|\u001B[32m▍         \u001B[0m| 38.7k/899k [00:00<00:00, 2.32MB/s]\n",
      "                                                   loading [MIADB.mgf]:   5%|\u001B[32m▍         \u001B[0m| 303k/6.15M [00:00<00:01, 2.96MB/s]\n",
      "                                            loading [MMV_NEGATIVE.mgf]:   5%|\u001B[32m▌         \u001B[0m| 5.83k/113k [00:00<00:00, 2.70MB/s]\n",
      "                                            loading [MMV_POSITIVE.mgf]:   5%|\u001B[32m▍         \u001B[0m| 38.1k/768k [00:00<00:00, 2.72MB/s]\n",
      "                                                loading [NEO-MSMS.mgf]:   5%|\u001B[32m▍         \u001B[0m| 22.3k/467k [00:00<00:00, 2.60MB/s]\n",
      "                                    loading [PNNL-LIPIDS-NEGATIVE.mgf]:   5%|\u001B[32m▍         \u001B[0m| 1.73M/36.4M [00:00<00:12, 2.83MB/s]\n",
      "                                    loading [PNNL-LIPIDS-POSITIVE.mgf]:   5%|\u001B[32m▍         \u001B[0m| 4.41M/94.7M [00:01<00:31, 2.91MB/s]\n",
      "                                               loading [PSU-MSMLS.mgf]:   6%|\u001B[32m▌         \u001B[0m| 78.8k/1.30M [00:00<00:00, 2.75MB/s]\n",
      "                    loading [TUEBINGEN-NATURAL-PRODUCT-COLLECTION.mgf]:   4%|\u001B[32m▍         \u001B[0m| 95.4k/2.17M [00:00<00:00, 2.19MB/s]\n",
      "                                                 loading [UM-NPDC.mgf]:   5%|\u001B[32m▍         \u001B[0m| 32.8k/701k [00:00<00:00, 2.69MB/s]\n",
      "                                            loading [XANTHONES-DB.mgf]:   6%|\u001B[32m▌         \u001B[0m| 7.28k/131k [00:00<00:00, 1.50MB/s]\n",
      "                                              converting MGF spectrums: 100%|\u001B[32m██████████\u001B[0m| 130051/130051 [02:00<00:00, 1078.12 spectrums/s]\n"
     ]
    }
   ],
   "source": [
    "FINAL_MSP, FINAL_XML, FINAL_CSV, FINAL_JSON, FINAL_MGF = convert_to_json(original_db_path)"
   ],
   "metadata": {
    "collapsed": false,
    "ExecuteTime": {
     "end_time": "2024-03-20T10:11:21.611075Z",
     "start_time": "2024-03-20T10:05:07.424345Z"
    }
   },
   "id": "56cb594b3dfceb2b",
   "execution_count": 7
  },
  {
   "cell_type": "markdown",
   "source": [
    "normalisé les clés"
   ],
   "metadata": {
    "collapsed": false
   },
   "id": "42bd994bbd9ecfc0"
  },
  {
   "cell_type": "code",
   "outputs": [],
   "source": [
    "FINAL_MSP = convert_keys(FINAL_MSP)"
   ],
   "metadata": {
    "collapsed": false,
    "ExecuteTime": {
     "end_time": "2024-03-20T10:11:26.834789Z",
     "start_time": "2024-03-20T10:11:21.612397Z"
    }
   },
   "id": "6fc92d34b628bcef",
   "execution_count": 8
  },
  {
   "cell_type": "code",
   "outputs": [],
   "source": [
    "FINAL_XML = convert_keys(FINAL_XML)"
   ],
   "metadata": {
    "collapsed": false,
    "ExecuteTime": {
     "end_time": "2024-03-20T10:11:26.838710Z",
     "start_time": "2024-03-20T10:11:26.835916Z"
    }
   },
   "id": "291eb9b440e01de2",
   "execution_count": 9
  },
  {
   "cell_type": "code",
   "outputs": [],
   "source": [
    "FINAL_CSV = convert_keys(FINAL_CSV)"
   ],
   "metadata": {
    "collapsed": false,
    "ExecuteTime": {
     "end_time": "2024-03-20T10:11:26.853514Z",
     "start_time": "2024-03-20T10:11:26.839782Z"
    }
   },
   "id": "fdf775295737e4a4",
   "execution_count": 10
  },
  {
   "cell_type": "code",
   "outputs": [],
   "source": [
    "FINAL_JSON = convert_keys(FINAL_JSON)"
   ],
   "metadata": {
    "collapsed": false,
    "ExecuteTime": {
     "end_time": "2024-03-20T10:11:29.156595Z",
     "start_time": "2024-03-20T10:11:26.854596Z"
    }
   },
   "id": "220fcaab61691690",
   "execution_count": 11
  },
  {
   "cell_type": "code",
   "outputs": [],
   "source": [
    "FINAL_MGF = convert_keys(FINAL_MGF)"
   ],
   "metadata": {
    "collapsed": false,
    "ExecuteTime": {
     "end_time": "2024-03-20T10:11:30.301931Z",
     "start_time": "2024-03-20T10:11:29.156595Z"
    }
   },
   "id": "a84d2ce035718d68",
   "execution_count": 12
  },
  {
   "cell_type": "code",
   "outputs": [
    {
     "name": "stdout",
     "output_type": "stream",
     "text": [
      "919852\n"
     ]
    }
   ],
   "source": [
    "print(len(FINAL_MSP)+len(FINAL_XML)+len(FINAL_CSV)+len(FINAL_JSON) + len(FINAL_MGF))"
   ],
   "metadata": {
    "collapsed": false,
    "ExecuteTime": {
     "end_time": "2024-03-20T10:11:30.306408Z",
     "start_time": "2024-03-20T10:11:30.303125Z"
    }
   },
   "id": "d11636930ffb81ed",
   "execution_count": 13
  },
  {
   "cell_type": "markdown",
   "source": [
    "ajouter la colonne 'PREDICTED' et la peupler"
   ],
   "metadata": {
    "collapsed": false
   },
   "id": "9caf2ff97bee0e07"
  },
  {
   "cell_type": "code",
   "outputs": [],
   "source": [
    "compteur =  0\n",
    "for i in range(len(FINAL_MSP)):\n",
    "    FINAL_MSP[i][\"PREDICTED\"] = \"\"\n",
    "    FINAL_MSP[i] = normalize_predicted(FINAL_MSP[i])"
   ],
   "metadata": {
    "collapsed": false,
    "ExecuteTime": {
     "end_time": "2024-03-20T10:11:32.397716Z",
     "start_time": "2024-03-20T10:11:30.307600Z"
    }
   },
   "id": "9ef57612dcf2c07a",
   "execution_count": 14
  },
  {
   "cell_type": "code",
   "outputs": [],
   "source": [
    "compteur =  0\n",
    "for i in range(len(FINAL_XML)):\n",
    "    FINAL_XML[i][\"PREDICTED\"] = \"\"\n",
    "    FINAL_XML[i] = normalize_predicted(FINAL_XML[i])"
   ],
   "metadata": {
    "collapsed": false,
    "ExecuteTime": {
     "end_time": "2024-03-20T10:11:32.401572Z",
     "start_time": "2024-03-20T10:11:32.397716Z"
    }
   },
   "id": "3e83950428fb172e",
   "execution_count": 15
  },
  {
   "cell_type": "code",
   "outputs": [],
   "source": [
    "compteur =  0\n",
    "for i in range(len(FINAL_CSV)):\n",
    "    FINAL_CSV[i][\"PREDICTED\"] = \"\"\n",
    "    FINAL_CSV[i] = normalize_predicted(FINAL_CSV[i])"
   ],
   "metadata": {
    "collapsed": false,
    "ExecuteTime": {
     "end_time": "2024-03-20T10:11:32.426687Z",
     "start_time": "2024-03-20T10:11:32.402580Z"
    }
   },
   "id": "10172b4fea0b6a51",
   "execution_count": 16
  },
  {
   "cell_type": "code",
   "outputs": [],
   "source": [
    "compteur =  0\n",
    "for i in range(len(FINAL_JSON)):\n",
    "    FINAL_JSON[i][\"PREDICTED\"] = \"\"\n",
    "    FINAL_JSON[i] = normalize_predicted(FINAL_JSON[i])"
   ],
   "metadata": {
    "collapsed": false,
    "ExecuteTime": {
     "end_time": "2024-03-20T10:11:33.219181Z",
     "start_time": "2024-03-20T10:11:32.427705Z"
    }
   },
   "id": "f9ead7334678e48f",
   "execution_count": 17
  },
  {
   "cell_type": "code",
   "outputs": [],
   "source": [
    "compteur =  0\n",
    "for i in range(len(FINAL_MGF)):\n",
    "    FINAL_MGF[i][\"PREDICTED\"] = \"\"\n",
    "    FINAL_MGF[i] = normalize_predicted(FINAL_MGF[i])"
   ],
   "metadata": {
    "collapsed": false,
    "ExecuteTime": {
     "end_time": "2024-03-20T10:11:33.613007Z",
     "start_time": "2024-03-20T10:11:33.220346Z"
    }
   },
   "id": "7187ec9e7623b993",
   "execution_count": 18
  },
  {
   "cell_type": "code",
   "outputs": [],
   "source": [
    "msp_df = pd.DataFrame(FINAL_MSP)\n",
    "del FINAL_MSP"
   ],
   "metadata": {
    "collapsed": false,
    "ExecuteTime": {
     "end_time": "2024-03-20T10:11:34.811812Z",
     "start_time": "2024-03-20T10:11:33.614068Z"
    }
   },
   "id": "809bb990cb7e3c12",
   "execution_count": 19
  },
  {
   "cell_type": "code",
   "outputs": [],
   "source": [
    "xml_df = pd.DataFrame(FINAL_XML)\n",
    "del FINAL_XML"
   ],
   "metadata": {
    "collapsed": false,
    "ExecuteTime": {
     "end_time": "2024-03-20T10:11:34.817711Z",
     "start_time": "2024-03-20T10:11:34.812881Z"
    }
   },
   "id": "3192f03e7b54e20",
   "execution_count": 20
  },
  {
   "cell_type": "code",
   "outputs": [],
   "source": [
    "csv_df = pd.DataFrame(FINAL_CSV)\n",
    "del FINAL_CSV"
   ],
   "metadata": {
    "collapsed": false,
    "ExecuteTime": {
     "end_time": "2024-03-20T10:11:34.834517Z",
     "start_time": "2024-03-20T10:11:34.817769Z"
    }
   },
   "id": "aafc5bb070e3451d",
   "execution_count": 21
  },
  {
   "cell_type": "code",
   "outputs": [],
   "source": [
    "json_df = pd.DataFrame(FINAL_JSON)\n",
    "del FINAL_JSON"
   ],
   "metadata": {
    "collapsed": false,
    "ExecuteTime": {
     "end_time": "2024-03-20T10:11:35.400529Z",
     "start_time": "2024-03-20T10:11:34.835595Z"
    }
   },
   "id": "5d858987a0d2a9dd",
   "execution_count": 22
  },
  {
   "cell_type": "code",
   "outputs": [],
   "source": [
    "mgf_df = pd.DataFrame(FINAL_MGF)\n",
    "del FINAL_MGF"
   ],
   "metadata": {
    "collapsed": false,
    "ExecuteTime": {
     "end_time": "2024-03-20T10:11:35.641895Z",
     "start_time": "2024-03-20T10:11:35.401622Z"
    }
   },
   "id": "daa6d964cb2df71",
   "execution_count": 23
  },
  {
   "cell_type": "markdown",
   "source": [
    "On prend que les LC EXP"
   ],
   "metadata": {
    "collapsed": false
   },
   "id": "cd579e184ae387ee"
  },
  {
   "cell_type": "code",
   "outputs": [],
   "source": [
    "if not msp_df.empty:\n",
    "    msp_df = msp_df[~msp_df['INSTRUMENTTYPE'].str.contains('GC|EI', case=False)]\n",
    "    msp_df = msp_df[msp_df['PREDICTED'] == \"false\"]"
   ],
   "metadata": {
    "collapsed": false,
    "ExecuteTime": {
     "end_time": "2024-03-20T10:11:36.292591Z",
     "start_time": "2024-03-20T10:11:35.642899Z"
    }
   },
   "id": "180a2b84350ad51f",
   "execution_count": 24
  },
  {
   "cell_type": "code",
   "outputs": [],
   "source": [
    "if not xml_df.empty:\n",
    "    xml_df = xml_df[~xml_df['INSTRUMENTTYPE'].str.contains('GC|EI', case=False)]\n",
    "    xml_df = xml_df[xml_df['PREDICTED'] == \"false\"]"
   ],
   "metadata": {
    "collapsed": false,
    "ExecuteTime": {
     "end_time": "2024-03-20T10:11:36.296480Z",
     "start_time": "2024-03-20T10:11:36.293858Z"
    }
   },
   "id": "999ad956c3c99563",
   "execution_count": 25
  },
  {
   "cell_type": "code",
   "outputs": [],
   "source": [
    "if not csv_df.empty:\n",
    "    csv_df = csv_df[~csv_df['INSTRUMENTTYPE'].str.contains('GC|EI', case=False)]\n",
    "    csv_df = csv_df[csv_df['PREDICTED'] == \"false\"]"
   ],
   "metadata": {
    "collapsed": false,
    "ExecuteTime": {
     "end_time": "2024-03-20T10:11:36.320294Z",
     "start_time": "2024-03-20T10:11:36.297681Z"
    }
   },
   "id": "961ce3efa2e8cbe2",
   "execution_count": 26
  },
  {
   "cell_type": "code",
   "outputs": [],
   "source": [
    "if not json_df.empty:\n",
    "    json_df = json_df[~json_df['INSTRUMENTTYPE'].str.contains('GC|EI', case=False)]\n",
    "    json_df = json_df[json_df['PREDICTED'] == \"false\"]"
   ],
   "metadata": {
    "collapsed": false,
    "ExecuteTime": {
     "end_time": "2024-03-20T10:11:36.585577Z",
     "start_time": "2024-03-20T10:11:36.321366Z"
    }
   },
   "id": "d2bd75d097673cb7",
   "execution_count": 27
  },
  {
   "cell_type": "code",
   "outputs": [],
   "source": [
    "if not mgf_df.empty:\n",
    "    mgf_df = mgf_df[~mgf_df['INSTRUMENTTYPE'].str.contains('GC|EI', case=False)]\n",
    "    mgf_df = mgf_df[mgf_df['PREDICTED'] == \"false\"]"
   ],
   "metadata": {
    "collapsed": false,
    "ExecuteTime": {
     "end_time": "2024-03-20T10:11:36.853814Z",
     "start_time": "2024-03-20T10:11:36.586733Z"
    }
   },
   "id": "cb5073d2e42b32bc",
   "execution_count": 28
  },
  {
   "cell_type": "markdown",
   "source": [
    "passer RDkit sur chacun des spectres"
   ],
   "metadata": {
    "collapsed": false
   },
   "id": "8965dd2888989d17"
  },
  {
   "cell_type": "code",
   "outputs": [
    {
     "name": "stderr",
     "output_type": "stream",
     "text": [
      "                                            derivation and calculation: 100%|\u001B[32m██████████\u001B[0m| 44225/44225 [00:55<00:00, 796.41 rows/s] \n",
      "                                                    updating dataframe: 100%|\u001B[32m██████████\u001B[0m| 543284/543284 [00:20<00:00, 26166.16 rows/s]\n"
     ]
    }
   ],
   "source": [
    "if not msp_df.empty:\n",
    "    msp_df = mols_derivation_and_calculation(msp_df)"
   ],
   "metadata": {
    "collapsed": false,
    "ExecuteTime": {
     "end_time": "2024-03-20T10:12:53.490201Z",
     "start_time": "2024-03-20T10:11:36.854990Z"
    }
   },
   "id": "cc68c640da6f7fc0",
   "execution_count": 29
  },
  {
   "cell_type": "code",
   "outputs": [],
   "source": [
    "if not xml_df.empty:\n",
    "    xml_df = mols_derivation_and_calculation(xml_df)"
   ],
   "metadata": {
    "collapsed": false,
    "ExecuteTime": {
     "end_time": "2024-03-20T10:12:53.494145Z",
     "start_time": "2024-03-20T10:12:53.491316Z"
    }
   },
   "id": "97a994b9d57801f5",
   "execution_count": 30
  },
  {
   "cell_type": "code",
   "outputs": [],
   "source": [
    "if not csv_df.empty:\n",
    "    csv_df = mols_derivation_and_calculation(csv_df)"
   ],
   "metadata": {
    "collapsed": false,
    "ExecuteTime": {
     "end_time": "2024-03-20T10:12:53.509161Z",
     "start_time": "2024-03-20T10:12:53.495248Z"
    }
   },
   "id": "9f8c698a3936df3d",
   "execution_count": 31
  },
  {
   "cell_type": "code",
   "outputs": [
    {
     "name": "stderr",
     "output_type": "stream",
     "text": [
      "                                            derivation and calculation: 100%|\u001B[32m██████████\u001B[0m| 46930/46930 [00:56<00:00, 830.05 rows/s] \n",
      "                                                    updating dataframe: 100%|\u001B[32m██████████\u001B[0m| 199546/199546 [00:07<00:00, 27592.47 rows/s]\n"
     ]
    }
   ],
   "source": [
    "if not json_df.empty:\n",
    "    json_df = mols_derivation_and_calculation(json_df)"
   ],
   "metadata": {
    "collapsed": false,
    "ExecuteTime": {
     "end_time": "2024-03-20T10:13:57.476817Z",
     "start_time": "2024-03-20T10:12:53.510314Z"
    }
   },
   "id": "69528706ef850f6c",
   "execution_count": 32
  },
  {
   "cell_type": "code",
   "outputs": [
    {
     "name": "stderr",
     "output_type": "stream",
     "text": [
      "                                            derivation and calculation: 100%|\u001B[32m██████████\u001B[0m| 39508/39508 [00:44<00:00, 891.80 rows/s] \n",
      "                                                    updating dataframe: 100%|\u001B[32m██████████\u001B[0m| 129950/129950 [00:03<00:00, 35089.31 rows/s]\n"
     ]
    }
   ],
   "source": [
    "if not mgf_df.empty:\n",
    "    mgf_df = mols_derivation_and_calculation(mgf_df)"
   ],
   "metadata": {
    "collapsed": false,
    "ExecuteTime": {
     "end_time": "2024-03-20T10:14:45.576550Z",
     "start_time": "2024-03-20T10:13:57.477969Z"
    }
   },
   "id": "678cc01f1b69988e",
   "execution_count": 33
  },
  {
   "cell_type": "markdown",
   "source": [
    "écrire les fichiers de sorti"
   ],
   "metadata": {
    "collapsed": false
   },
   "id": "a39b784e39f2bdf9"
  },
  {
   "cell_type": "code",
   "outputs": [],
   "source": [
    "msp_df.to_csv(r\"C:\\Users\\Axel\\Documents\\PYTHON\\FragHub\\TOOLS\\Generate_csv_from_original_files\\output\\msp_df.csv\", sep=\";\", quotechar='\"', index=False, encoding=\"UTF-8\")"
   ],
   "metadata": {
    "collapsed": false,
    "ExecuteTime": {
     "end_time": "2024-03-20T10:15:06.545641Z",
     "start_time": "2024-03-20T10:14:45.577607Z"
    }
   },
   "id": "32c5d15995e78c7e",
   "execution_count": 34
  },
  {
   "cell_type": "code",
   "outputs": [],
   "source": [
    "xml_df.to_csv(r\"C:\\Users\\Axel\\Documents\\PYTHON\\FragHub\\TOOLS\\Generate_csv_from_original_files\\output\\xml_df.csv\", sep=\";\", quotechar='\"', index=False, encoding=\"UTF-8\")"
   ],
   "metadata": {
    "collapsed": false,
    "ExecuteTime": {
     "end_time": "2024-03-20T10:15:06.550959Z",
     "start_time": "2024-03-20T10:15:06.546685Z"
    }
   },
   "id": "d5f92eb467f30a50",
   "execution_count": 35
  },
  {
   "cell_type": "code",
   "outputs": [],
   "source": [
    "csv_df.to_csv(r\"C:\\Users\\Axel\\Documents\\PYTHON\\FragHub\\TOOLS\\Generate_csv_from_original_files\\output\\csv_df.csv\", sep=\";\", quotechar='\"', index=False, encoding=\"UTF-8\")"
   ],
   "metadata": {
    "collapsed": false,
    "ExecuteTime": {
     "end_time": "2024-03-20T10:15:06.565416Z",
     "start_time": "2024-03-20T10:15:06.552102Z"
    }
   },
   "id": "a1c64cbf9acafdbf",
   "execution_count": 36
  },
  {
   "cell_type": "code",
   "outputs": [],
   "source": [
    "json_df.to_csv(r\"C:\\Users\\Axel\\Documents\\PYTHON\\FragHub\\TOOLS\\Generate_csv_from_original_files\\output\\json_df.csv\", sep=\";\", quotechar='\"', index=False, encoding=\"UTF-8\")"
   ],
   "metadata": {
    "collapsed": false,
    "ExecuteTime": {
     "end_time": "2024-03-20T10:15:39.343302Z",
     "start_time": "2024-03-20T10:15:06.566501Z"
    }
   },
   "id": "c35e5b34882d3fe5",
   "execution_count": 37
  },
  {
   "cell_type": "code",
   "outputs": [],
   "source": [
    "mgf_df.to_csv(r\"C:\\Users\\Axel\\Documents\\PYTHON\\FragHub\\TOOLS\\Generate_csv_from_original_files\\output\\mgf_df.csv\", sep=\";\", quotechar='\"', index=False, encoding=\"UTF-8\")"
   ],
   "metadata": {
    "collapsed": false,
    "ExecuteTime": {
     "end_time": "2024-03-20T10:16:02.532449Z",
     "start_time": "2024-03-20T10:15:39.344306Z"
    }
   },
   "id": "43992a92958b8ff0",
   "execution_count": 38
  },
  {
   "cell_type": "markdown",
   "source": [
    "calculer le nombre de spectres en LC exp"
   ],
   "metadata": {
    "collapsed": false
   },
   "id": "b1ac13be3c5a625f"
  },
  {
   "cell_type": "code",
   "outputs": [
    {
     "name": "stdout",
     "output_type": "stream",
     "text": [
      "872780\n"
     ]
    }
   ],
   "source": [
    "DF = pd.concat([msp_df, xml_df, json_df, csv_df, mgf_df], ignore_index=True, sort=False)\n",
    "print(len(DF))"
   ],
   "metadata": {
    "collapsed": false,
    "ExecuteTime": {
     "end_time": "2024-03-20T10:16:44.592440Z",
     "start_time": "2024-03-20T10:16:43.932053Z"
    }
   },
   "id": "251476578f07ecd0",
   "execution_count": 39
  },
  {
   "cell_type": "markdown",
   "source": [
    "Calculer le nombre de composé unique"
   ],
   "metadata": {
    "collapsed": false
   },
   "id": "67f637830daaf06b"
  },
  {
   "cell_type": "code",
   "outputs": [
    {
     "name": "stdout",
     "output_type": "stream",
     "text": [
      "35674\n"
     ]
    }
   ],
   "source": [
    "# Création d'une colonne 'Short_InChIKey' pour stocker les versions courtes des InChIKeys\n",
    "DF['Short_InChIKey'] = DF['INCHIKEY'].str[:14]  # Vous pouvez ajuster la longueur selon vos besoins\n",
    "\n",
    "# Obtenir les InChIKeys courts uniques\n",
    "unique_short_inchikeys = DF['Short_InChIKey'].drop_duplicates()\n",
    "\n",
    "# Compter le nombre d'InChIKeys courts uniques\n",
    "nombre_inchikeys_courts_uniques = len(unique_short_inchikeys)\n",
    "\n",
    "print(nombre_inchikeys_courts_uniques)"
   ],
   "metadata": {
    "collapsed": false,
    "ExecuteTime": {
     "end_time": "2024-03-20T10:20:10.301865Z",
     "start_time": "2024-03-20T10:20:10.106992Z"
    }
   },
   "id": "816e1da5be542065",
   "execution_count": 42
  },
  {
   "cell_type": "code",
   "outputs": [],
   "source": [],
   "metadata": {
    "collapsed": false
   },
   "id": "ea768927df04e11b"
  }
 ],
 "metadata": {
  "kernelspec": {
   "display_name": "Python 3",
   "language": "python",
   "name": "python3"
  },
  "language_info": {
   "codemirror_mode": {
    "name": "ipython",
    "version": 2
   },
   "file_extension": ".py",
   "mimetype": "text/x-python",
   "name": "python",
   "nbconvert_exporter": "python",
   "pygments_lexer": "ipython2",
   "version": "2.7.6"
  }
 },
 "nbformat": 4,
 "nbformat_minor": 5
}
