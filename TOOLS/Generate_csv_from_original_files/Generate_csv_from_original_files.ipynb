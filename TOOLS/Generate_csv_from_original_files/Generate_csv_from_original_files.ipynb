{
 "cells": [
  {
   "cell_type": "code",
   "execution_count": null,
   "id": "initial_id",
   "metadata": {
    "collapsed": true
   },
   "outputs": [],
   "source": [
    "from convertors.convert_to_json import *\n",
    "import os"
   ]
  },
  {
   "cell_type": "code",
   "outputs": [],
   "source": [
    "global keys_dict\n",
    "Key_dataframe = pd.read_csv(os.path.abspath(r\"C:\\Users\\Axel\\Documents\\PYTHON\\MSP_V3\\FragHub\\TOOLS\\Generate_csv_from_original_files\\datas\\key_to_convert.csv\"),sep=\";\", encoding=\"UTF-8\") # Remplacez 'your_file.csv' par le chemin de votre fichier\n",
    "keys_dict = dict(zip(Key_dataframe['known_synonym'], Key_dataframe['fraghub_default'].str.upper()))\n",
    "\n",
    "global keys_list\n",
    "keys_list = ['FILENAME',\n",
    "             'PREDICTED',\n",
    "             'FRAGHUBID',\n",
    "             'SPECTRUMID',\n",
    "             'RESOLUTION',\n",
    "             'SYNON',\n",
    "             'CHARGE',\n",
    "             'IONIZATION',\n",
    "             'MSLEVEL',\n",
    "             'FRAGMENTATIONMODE',\n",
    "             'NAME',\n",
    "             'PRECURSORMZ',\n",
    "             'EXACTMASS',\n",
    "             'AVERAGEMASS',\n",
    "             'PRECURSORTYPE',\n",
    "             'INSTRUMENTTYPE',\n",
    "             'INSTRUMENT',\n",
    "             'SMILES',\n",
    "             'INCHI',\n",
    "             'INCHIKEY',\n",
    "             'COLLISIONENERGY',\n",
    "             'FORMULA',\n",
    "             'RETENTIONTIME',\n",
    "             'IONMODE',\n",
    "             'COMMENT',\n",
    "             'NUM PEAKS',\n",
    "             'PEAKS_LIST']"
   ],
   "metadata": {
    "collapsed": false
   },
   "id": "808abc03b1529194"
  },
  {
   "cell_type": "code",
   "outputs": [],
   "source": [
    "original_db_path = r\"C:\\Users\\Axel\\Documents\\MSP_DB\\ORIGINALS_msp_DB\\DB Janvier 2024\\DB_publi\""
   ],
   "metadata": {
    "collapsed": false
   },
   "id": "b87e90fadacc700b",
   "execution_count": null
  },
  {
   "cell_type": "code",
   "outputs": [],
   "source": [
    "FINAL_MSP, FINAL_XML, FINAL_CSV, FINAL_JSON, FINAL_MGF = convert_to_json(original_db_path)"
   ],
   "metadata": {
    "collapsed": false
   },
   "id": "56cb594b3dfceb2b"
  },
  {
   "cell_type": "code",
   "outputs": [],
   "source": [
    "print(FINAL_MSP)"
   ],
   "metadata": {
    "collapsed": false
   },
   "id": "291eb9b440e01de2"
  }
 ],
 "metadata": {
  "kernelspec": {
   "display_name": "Python 3",
   "language": "python",
   "name": "python3"
  },
  "language_info": {
   "codemirror_mode": {
    "name": "ipython",
    "version": 2
   },
   "file_extension": ".py",
   "mimetype": "text/x-python",
   "name": "python",
   "nbconvert_exporter": "python",
   "pygments_lexer": "ipython2",
   "version": "2.7.6"
  }
 },
 "nbformat": 4,
 "nbformat_minor": 5
}
