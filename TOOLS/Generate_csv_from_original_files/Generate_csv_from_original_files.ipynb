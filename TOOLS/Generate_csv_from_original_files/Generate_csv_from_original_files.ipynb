{
 "cells": [
  {
   "cell_type": "code",
   "execution_count": null,
   "id": "initial_id",
   "metadata": {
    "collapsed": true
   },
   "outputs": [],
   "source": [
    "from convertors.convert_to_json import *\n",
    "from mols_calculation import *\n",
    "import pandas as pd\n",
    "import os\n",
    "import re"
   ]
  },
  {
   "cell_type": "code",
   "outputs": [],
   "source": [
    "global In_Silico_pattern\n",
    "In_Silico_pattern = re.compile(r\"in.silico|insilico|predicted|theoretical|Annotation.level.3\", flags=re.IGNORECASE)"
   ],
   "metadata": {
    "collapsed": false
   },
   "id": "bbaf96a75c76a658",
   "execution_count": null
  },
  {
   "cell_type": "code",
   "outputs": [],
   "source": [
    "def in_filename(filename):\n",
    "    \"\"\"\n",
    "    :param filename: The name of the file to be checked for the presence of the string \"MSMS_Public\" and matching a specific pattern.\n",
    "    :return: Returns True if the filename does not contain \"MSMS_Public\" and matches a specific pattern defined by the In_Silico_pattern. Returns False otherwise.\n",
    "\n",
    "    \"\"\"\n",
    "    if \"MSMS_Public\" not in filename:\n",
    "        if re.search(In_Silico_pattern, filename):\n",
    "            return True\n",
    "\n",
    "    return False"
   ],
   "metadata": {
    "collapsed": false
   },
   "id": "f28e13cb34194820",
   "execution_count": null
  },
  {
   "cell_type": "code",
   "outputs": [],
   "source": [
    "def normalize_predicted(metadata_dict):\n",
    "    \"\"\"\n",
    "    Normalize the predicted field in the given metadata dictionary.\n",
    "\n",
    "    :param metadata_dict: A dictionary containing metadata information.\n",
    "    :return: The updated metadata dictionary with the normalized predicted field.\n",
    "    \"\"\"\n",
    "    comment_field = metadata_dict[\"COMMENT\"]\n",
    "    predicted = metadata_dict[\"PREDICTED\"]\n",
    "    filename = metadata_dict[\"FILENAME\"]\n",
    "\n",
    "    if re.search(In_Silico_pattern, comment_field) or predicted == \"true\" or in_filename(filename):\n",
    "        metadata_dict[\"PREDICTED\"] = \"true\"\n",
    "        return metadata_dict\n",
    "    else:\n",
    "        metadata_dict[\"PREDICTED\"] = \"false\"\n",
    "        return metadata_dict"
   ],
   "metadata": {
    "collapsed": false
   },
   "id": "cbbff160fd1bacf2",
   "execution_count": null
  },
  {
   "cell_type": "code",
   "outputs": [],
   "source": [
    "def convert_keys(dict_list):\n",
    "    \"\"\"\n",
    "    Convert keys in metadata_dict based on the provided keys_dict and keys_list.\n",
    "\n",
    "    :param metadata_dict: A dictionary containing metadata information.\n",
    "    :return: A dictionary with converted keys based on the provided keys_dict and keys_list.\n",
    "    \"\"\"\n",
    "    output = []\n",
    "    for metadata_dict in dict_list:\n",
    "        converted = {keys_dict[key.lower()]: val for key, val in metadata_dict.items() if key.lower() in keys_dict and keys_dict[key.lower()] in keys_list}\n",
    "    \n",
    "        converted.update({key: \"\" for key in keys_list if key not in converted})\n",
    "        output.append(converted)\n",
    "\n",
    "    return output"
   ],
   "metadata": {
    "collapsed": false
   },
   "id": "cfe28dcc22f56b0f",
   "execution_count": null
  },
  {
   "cell_type": "code",
   "outputs": [],
   "source": [
    "original_db_path = r\"C:\\Users\\Axel\\Documents\\PYTHON\\FragHub\\INPUT\""
   ],
   "metadata": {
    "collapsed": false
   },
   "id": "b87e90fadacc700b",
   "execution_count": null
  },
  {
   "cell_type": "code",
   "outputs": [],
   "source": [
    "FINAL_MSP, FINAL_XML, FINAL_CSV, FINAL_JSON, FINAL_MGF = convert_to_json(original_db_path)"
   ],
   "metadata": {
    "collapsed": false
   },
   "id": "56cb594b3dfceb2b",
   "execution_count": null
  },
  {
   "cell_type": "markdown",
   "source": [
    "normalisé les clés"
   ],
   "metadata": {
    "collapsed": false
   },
   "id": "42bd994bbd9ecfc0"
  },
  {
   "cell_type": "code",
   "outputs": [],
   "source": [
    "FINAL_MSP = convert_keys(FINAL_MSP)"
   ],
   "metadata": {
    "collapsed": false
   },
   "id": "6fc92d34b628bcef",
   "execution_count": null
  },
  {
   "cell_type": "code",
   "outputs": [],
   "source": [
    "FINAL_XML = convert_keys(FINAL_XML)"
   ],
   "metadata": {
    "collapsed": false
   },
   "id": "291eb9b440e01de2",
   "execution_count": null
  },
  {
   "cell_type": "code",
   "outputs": [],
   "source": [
    "FINAL_CSV = convert_keys(FINAL_CSV)"
   ],
   "metadata": {
    "collapsed": false
   },
   "id": "fdf775295737e4a4",
   "execution_count": null
  },
  {
   "cell_type": "code",
   "outputs": [],
   "source": [
    "FINAL_JSON = convert_keys(FINAL_JSON)"
   ],
   "metadata": {
    "collapsed": false
   },
   "id": "220fcaab61691690",
   "execution_count": null
  },
  {
   "cell_type": "code",
   "outputs": [],
   "source": [
    "FINAL_MGF = convert_keys(FINAL_MGF)"
   ],
   "metadata": {
    "collapsed": false
   },
   "id": "a84d2ce035718d68",
   "execution_count": null
  },
  {
   "cell_type": "code",
   "outputs": [],
   "source": [
    "print(len(FINAL_MSP)+len(FINAL_XML)+len(FINAL_CSV)+len(FINAL_JSON) + len(FINAL_MGF))"
   ],
   "metadata": {
    "collapsed": false
   },
   "id": "d11636930ffb81ed",
   "execution_count": null
  },
  {
   "cell_type": "markdown",
   "source": [
    "ajouter la colonne 'PREDICTED' et la peupler"
   ],
   "metadata": {
    "collapsed": false
   },
   "id": "9caf2ff97bee0e07"
  },
  {
   "cell_type": "code",
   "outputs": [],
   "source": [
    "compteur =  0\n",
    "for i in range(len(FINAL_MSP)):\n",
    "    FINAL_MSP[i][\"PREDICTED\"] = \"\"\n",
    "    FINAL_MSP[i] = normalize_predicted(FINAL_MSP[i])"
   ],
   "metadata": {
    "collapsed": false
   },
   "id": "9ef57612dcf2c07a",
   "execution_count": null
  },
  {
   "cell_type": "code",
   "outputs": [],
   "source": [
    "compteur =  0\n",
    "for i in range(len(FINAL_XML)):\n",
    "    FINAL_XML[i][\"PREDICTED\"] = \"\"\n",
    "    FINAL_XML[i] = normalize_predicted(FINAL_XML[i])"
   ],
   "metadata": {
    "collapsed": false
   },
   "id": "3e83950428fb172e",
   "execution_count": null
  },
  {
   "cell_type": "code",
   "outputs": [],
   "source": [
    "compteur =  0\n",
    "for i in range(len(FINAL_CSV)):\n",
    "    FINAL_CSV[i][\"PREDICTED\"] = \"\"\n",
    "    FINAL_CSV[i] = normalize_predicted(FINAL_CSV[i])"
   ],
   "metadata": {
    "collapsed": false
   },
   "id": "10172b4fea0b6a51",
   "execution_count": null
  },
  {
   "cell_type": "code",
   "outputs": [],
   "source": [
    "compteur =  0\n",
    "for i in range(len(FINAL_JSON)):\n",
    "    FINAL_JSON[i][\"PREDICTED\"] = \"\"\n",
    "    FINAL_JSON[i] = normalize_predicted(FINAL_JSON[i])"
   ],
   "metadata": {
    "collapsed": false
   },
   "id": "f9ead7334678e48f",
   "execution_count": null
  },
  {
   "cell_type": "code",
   "outputs": [],
   "source": [
    "compteur =  0\n",
    "for i in range(len(FINAL_MGF)):\n",
    "    FINAL_MGF[i][\"PREDICTED\"] = \"\"\n",
    "    FINAL_MGF[i] = normalize_predicted(FINAL_MGF[i])"
   ],
   "metadata": {
    "collapsed": false
   },
   "id": "7187ec9e7623b993",
   "execution_count": null
  },
  {
   "cell_type": "code",
   "outputs": [],
   "source": [
    "msp_df = pd.DataFrame(FINAL_MSP)\n",
    "del FINAL_MSP"
   ],
   "metadata": {
    "collapsed": false
   },
   "id": "809bb990cb7e3c12",
   "execution_count": null
  },
  {
   "cell_type": "code",
   "outputs": [],
   "source": [
    "xml_df = pd.DataFrame(FINAL_XML)\n",
    "del FINAL_XML"
   ],
   "metadata": {
    "collapsed": false
   },
   "id": "3192f03e7b54e20",
   "execution_count": null
  },
  {
   "cell_type": "code",
   "outputs": [],
   "source": [
    "csv_df = pd.DataFrame(FINAL_CSV)\n",
    "del FINAL_CSV"
   ],
   "metadata": {
    "collapsed": false
   },
   "id": "aafc5bb070e3451d",
   "execution_count": null
  },
  {
   "cell_type": "code",
   "outputs": [],
   "source": [
    "json_df = pd.DataFrame(FINAL_JSON)\n",
    "del FINAL_JSON"
   ],
   "metadata": {
    "collapsed": false
   },
   "id": "5d858987a0d2a9dd",
   "execution_count": null
  },
  {
   "cell_type": "code",
   "outputs": [],
   "source": [
    "mgf_df = pd.DataFrame(FINAL_MGF)\n",
    "del FINAL_MGF"
   ],
   "metadata": {
    "collapsed": false
   },
   "id": "daa6d964cb2df71",
   "execution_count": null
  },
  {
   "cell_type": "markdown",
   "source": [
    "On prend que les LC EXP"
   ],
   "metadata": {
    "collapsed": false
   },
   "id": "cd579e184ae387ee"
  },
  {
   "cell_type": "code",
   "outputs": [],
   "source": [
    "msp_df = msp_df[~msp_df['INSTRUMENTTYPE'].str.contains('GC|EI', case=False)]\n",
    "msp_df = msp_df[msp_df['PREDICTED'] == \"false\"]"
   ],
   "metadata": {
    "collapsed": false
   },
   "id": "180a2b84350ad51f",
   "execution_count": null
  },
  {
   "cell_type": "code",
   "outputs": [],
   "source": [
    "xml_df = xml_df[~xml_df['INSTRUMENTTYPE'].str.contains('GC|EI', case=False)]\n",
    "xml_df = xml_df[xml_df['PREDICTED'] == \"false\"]"
   ],
   "metadata": {
    "collapsed": false
   },
   "id": "999ad956c3c99563",
   "execution_count": null
  },
  {
   "cell_type": "code",
   "outputs": [],
   "source": [
    "csv_df = csv_df[~csv_df['INSTRUMENTTYPE'].str.contains('GC|EI', case=False)]\n",
    "csv_df = csv_df[csv_df['PREDICTED'] == \"false\"]"
   ],
   "metadata": {
    "collapsed": false
   },
   "id": "961ce3efa2e8cbe2"
  },
  {
   "cell_type": "code",
   "outputs": [],
   "source": [
    "json_df = json_df[~json_df['INSTRUMENTTYPE'].str.contains('GC|EI', case=False)]\n",
    "json_df = json_df[json_df['PREDICTED'] == \"false\"]"
   ],
   "metadata": {
    "collapsed": false
   },
   "id": "d2bd75d097673cb7"
  },
  {
   "cell_type": "code",
   "outputs": [],
   "source": [
    "mgf_df = mgf_df[~mgf_df['INSTRUMENTTYPE'].str.contains('GC|EI', case=False)]\n",
    "mgf_df = mgf_df[mgf_df['PREDICTED'] == \"false\"]"
   ],
   "metadata": {
    "collapsed": false
   },
   "id": "cb5073d2e42b32bc"
  },
  {
   "cell_type": "markdown",
   "source": [
    "passer RDkit sur chacun des spectres"
   ],
   "metadata": {
    "collapsed": false
   },
   "id": "8965dd2888989d17"
  },
  {
   "cell_type": "code",
   "outputs": [],
   "source": [
    "if not msp_df.empty:\n",
    "    msp_df = mols_derivation_and_calculation(msp_df)"
   ],
   "metadata": {
    "collapsed": false
   },
   "id": "cc68c640da6f7fc0",
   "execution_count": null
  },
  {
   "cell_type": "code",
   "outputs": [],
   "source": [
    "if not xml_df.empty:\n",
    "    xml_df = mols_derivation_and_calculation(xml_df)"
   ],
   "metadata": {
    "collapsed": false
   },
   "id": "97a994b9d57801f5",
   "execution_count": null
  },
  {
   "cell_type": "code",
   "outputs": [],
   "source": [
    "if not csv_df.empty:\n",
    "    csv_df = mols_derivation_and_calculation(csv_df)"
   ],
   "metadata": {
    "collapsed": false
   },
   "id": "9f8c698a3936df3d",
   "execution_count": null
  },
  {
   "cell_type": "code",
   "outputs": [],
   "source": [
    "if not json_df.empty:\n",
    "    json_df = mols_derivation_and_calculation(json_df)"
   ],
   "metadata": {
    "collapsed": false
   },
   "id": "69528706ef850f6c",
   "execution_count": null
  },
  {
   "cell_type": "code",
   "outputs": [],
   "source": [
    "if not mgf_df.empty:\n",
    "    mgf_df = mols_derivation_and_calculation(mgf_df)"
   ],
   "metadata": {
    "collapsed": false
   },
   "id": "678cc01f1b69988e",
   "execution_count": null
  },
  {
   "cell_type": "markdown",
   "source": [
    "écrire les fichiers de sorti"
   ],
   "metadata": {
    "collapsed": false
   },
   "id": "a39b784e39f2bdf9"
  },
  {
   "cell_type": "code",
   "outputs": [],
   "source": [
    "msp_df.to_csv(r\"C:\\Users\\Axel\\Documents\\PYTHON\\FragHub\\TOOLS\\Generate_csv_from_original_files\\output\\msp_df.csv\", sep=\";\", quotechar='\"', index=False, encoding=\"UTF-8\")"
   ],
   "metadata": {
    "collapsed": false
   },
   "id": "32c5d15995e78c7e",
   "execution_count": null
  },
  {
   "cell_type": "code",
   "outputs": [],
   "source": [
    "xml_df.to_csv(r\"C:\\Users\\Axel\\Documents\\PYTHON\\FragHub\\TOOLS\\Generate_csv_from_original_files\\output\\xml_df.csv\", sep=\";\", quotechar='\"', index=False, encoding=\"UTF-8\")"
   ],
   "metadata": {
    "collapsed": false
   },
   "id": "d5f92eb467f30a50",
   "execution_count": null
  },
  {
   "cell_type": "code",
   "outputs": [],
   "source": [
    "csv_df.to_csv(r\"C:\\Users\\Axel\\Documents\\PYTHON\\FragHub\\TOOLS\\Generate_csv_from_original_files\\output\\csv_df.csv\", sep=\";\", quotechar='\"', index=False, encoding=\"UTF-8\")"
   ],
   "metadata": {
    "collapsed": false
   },
   "id": "a1c64cbf9acafdbf",
   "execution_count": null
  },
  {
   "cell_type": "code",
   "outputs": [],
   "source": [
    "json_df.to_csv(r\"C:\\Users\\Axel\\Documents\\PYTHON\\FragHub\\TOOLS\\Generate_csv_from_original_files\\output\\json_df.csv\", sep=\";\", quotechar='\"', index=False, encoding=\"UTF-8\")"
   ],
   "metadata": {
    "collapsed": false
   },
   "id": "c35e5b34882d3fe5",
   "execution_count": null
  },
  {
   "cell_type": "code",
   "outputs": [],
   "source": [
    "mgf_df.to_csv(r\"C:\\Users\\Axel\\Documents\\PYTHON\\FragHub\\TOOLS\\Generate_csv_from_original_files\\output\\mgf_df.csv\", sep=\";\", quotechar='\"', index=False, encoding=\"UTF-8\")"
   ],
   "metadata": {
    "collapsed": false
   },
   "id": "43992a92958b8ff0",
   "execution_count": null
  }
 ],
 "metadata": {
  "kernelspec": {
   "display_name": "Python 3",
   "language": "python",
   "name": "python3"
  },
  "language_info": {
   "codemirror_mode": {
    "name": "ipython",
    "version": 2
   },
   "file_extension": ".py",
   "mimetype": "text/x-python",
   "name": "python",
   "nbconvert_exporter": "python",
   "pygments_lexer": "ipython2",
   "version": "2.7.6"
  }
 },
 "nbformat": 4,
 "nbformat_minor": 5
}
