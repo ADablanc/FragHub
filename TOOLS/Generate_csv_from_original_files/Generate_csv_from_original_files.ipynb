{
 "cells": [
  {
   "cell_type": "code",
   "execution_count": null,
   "id": "initial_id",
   "metadata": {
    "collapsed": true
   },
   "outputs": [],
   "source": [
    "from convertors.convert_to_json import *\n",
    "from mols_calculation import *\n",
    "import pandas as pd\n",
    "import os"
   ]
  },
  {
   "cell_type": "code",
   "outputs": [],
   "source": [
    "def convert_keys(dict_list):\n",
    "    \"\"\"\n",
    "    Convert keys in metadata_dict based on the provided keys_dict and keys_list.\n",
    "\n",
    "    :param metadata_dict: A dictionary containing metadata information.\n",
    "    :return: A dictionary with converted keys based on the provided keys_dict and keys_list.\n",
    "    \"\"\"\n",
    "    output = []\n",
    "    for metadata_dict in dict_list:\n",
    "        converted = {keys_dict[key.lower()]: val for key, val in metadata_dict.items() if key.lower() in keys_dict and keys_dict[key.lower()] in keys_list}\n",
    "    \n",
    "        converted.update({key: \"\" for key in keys_list if key not in converted})\n",
    "        output.append(converted)\n",
    "\n",
    "    return output"
   ],
   "metadata": {
    "collapsed": false
   },
   "id": "cfe28dcc22f56b0f",
   "execution_count": null
  },
  {
   "cell_type": "code",
   "outputs": [],
   "source": [
    "original_db_path = r\"C:\\Users\\Axel\\Documents\\DB Janvier 2024\\DB_publi\\original\""
   ],
   "metadata": {
    "collapsed": false
   },
   "id": "b87e90fadacc700b",
   "execution_count": null
  },
  {
   "cell_type": "code",
   "outputs": [],
   "source": [
    "FINAL_MSP, FINAL_XML, FINAL_CSV, FINAL_JSON, FINAL_MGF = convert_to_json(original_db_path)"
   ],
   "metadata": {
    "collapsed": false
   },
   "id": "56cb594b3dfceb2b",
   "execution_count": null
  },
  {
   "cell_type": "code",
   "outputs": [],
   "source": [
    "FINAL_MSP = convert_keys(FINAL_MSP)"
   ],
   "metadata": {
    "collapsed": false
   },
   "id": "6fc92d34b628bcef",
   "execution_count": null
  },
  {
   "cell_type": "code",
   "outputs": [],
   "source": [
    "FINAL_XML = convert_keys(FINAL_XML)"
   ],
   "metadata": {
    "collapsed": false
   },
   "id": "291eb9b440e01de2",
   "execution_count": null
  },
  {
   "cell_type": "code",
   "outputs": [],
   "source": [
    "FINAL_CSV = convert_keys(FINAL_CSV)"
   ],
   "metadata": {
    "collapsed": false
   },
   "id": "fdf775295737e4a4",
   "execution_count": null
  },
  {
   "cell_type": "code",
   "outputs": [],
   "source": [
    "FINAL_JSON = convert_keys(FINAL_JSON)"
   ],
   "metadata": {
    "collapsed": false
   },
   "id": "220fcaab61691690",
   "execution_count": null
  },
  {
   "cell_type": "code",
   "outputs": [],
   "source": [
    "FINAL_MGF = convert_keys(FINAL_MGF)"
   ],
   "metadata": {
    "collapsed": false
   },
   "id": "a84d2ce035718d68",
   "execution_count": null
  },
  {
   "cell_type": "code",
   "outputs": [],
   "source": [
    "msp_df = pd.DataFrame(FINAL_MSP)\n",
    "del FINAL_MSP"
   ],
   "metadata": {
    "collapsed": false
   },
   "id": "809bb990cb7e3c12",
   "execution_count": null
  },
  {
   "cell_type": "code",
   "outputs": [],
   "source": [
    "xml_df = pd.DataFrame(FINAL_XML)\n",
    "del FINAL_XML"
   ],
   "metadata": {
    "collapsed": false
   },
   "id": "3192f03e7b54e20",
   "execution_count": null
  },
  {
   "cell_type": "code",
   "outputs": [],
   "source": [
    "csv_df = pd.DataFrame(FINAL_CSV)\n",
    "del FINAL_CSV"
   ],
   "metadata": {
    "collapsed": false
   },
   "id": "aafc5bb070e3451d",
   "execution_count": null
  },
  {
   "cell_type": "code",
   "outputs": [],
   "source": [
    "json_df = pd.DataFrame(FINAL_JSON)\n",
    "del FINAL_JSON"
   ],
   "metadata": {
    "collapsed": false
   },
   "id": "5d858987a0d2a9dd",
   "execution_count": null
  },
  {
   "cell_type": "code",
   "outputs": [],
   "source": [
    "mgf_df = pd.DataFrame(FINAL_MGF)\n",
    "del FINAL_MGF"
   ],
   "metadata": {
    "collapsed": false
   },
   "id": "daa6d964cb2df71",
   "execution_count": null
  },
  {
   "cell_type": "markdown",
   "source": [
    "ajouter la colonne 'PREDICTED' et la peupler"
   ],
   "metadata": {
    "collapsed": false
   },
   "id": "58ad13fda2b249cc"
  },
  {
   "cell_type": "code",
   "outputs": [],
   "source": [],
   "metadata": {
    "collapsed": false
   },
   "id": "6a61cb4e0c7ee7da"
  },
  {
   "cell_type": "markdown",
   "source": [
    "passer RDkit sur chacun des spectres"
   ],
   "metadata": {
    "collapsed": false
   },
   "id": "8965dd2888989d17"
  },
  {
   "cell_type": "code",
   "outputs": [],
   "source": [
    "if not msp_df.empty:\n",
    "    msp_df = mols_derivation_and_calculation(msp_df)"
   ],
   "metadata": {
    "collapsed": false
   },
   "id": "cc68c640da6f7fc0",
   "execution_count": null
  },
  {
   "cell_type": "code",
   "outputs": [],
   "source": [
    "if not xml_df.empty:\n",
    "    xml_df = mols_derivation_and_calculation(xml_df)"
   ],
   "metadata": {
    "collapsed": false
   },
   "id": "97a994b9d57801f5",
   "execution_count": null
  },
  {
   "cell_type": "code",
   "outputs": [],
   "source": [
    "if not csv_df.empty:\n",
    "    csv_df = mols_derivation_and_calculation(csv_df)"
   ],
   "metadata": {
    "collapsed": false
   },
   "id": "9f8c698a3936df3d",
   "execution_count": null
  },
  {
   "cell_type": "code",
   "outputs": [],
   "source": [
    "if not json_df.empty:\n",
    "    json_df = mols_derivation_and_calculation(json_df)"
   ],
   "metadata": {
    "collapsed": false
   },
   "id": "69528706ef850f6c",
   "execution_count": null
  },
  {
   "cell_type": "code",
   "outputs": [],
   "source": [
    "if not mgf_df.empty:\n",
    "    mgf_df = mols_derivation_and_calculation(mgf_df)"
   ],
   "metadata": {
    "collapsed": false
   },
   "id": "678cc01f1b69988e",
   "execution_count": null
  },
  {
   "cell_type": "markdown",
   "source": [
    "écrire les fichiers de sorti"
   ],
   "metadata": {
    "collapsed": false
   },
   "id": "a39b784e39f2bdf9"
  },
  {
   "cell_type": "code",
   "outputs": [],
   "source": [
    "msp_df.to_csv(r\"C:\\Users\\Axel\\PycharmProjects\\msp_v3\\TOOLS\\Generate_csv_from_original_files\\output\\msp_df.csv\", sep=\";\", quotechar='\"', index=False, encoding=\"UTF-8\")"
   ],
   "metadata": {
    "collapsed": false
   },
   "id": "32c5d15995e78c7e",
   "execution_count": null
  },
  {
   "cell_type": "code",
   "outputs": [],
   "source": [
    "xml_df.to_csv(r\"C:\\Users\\Axel\\PycharmProjects\\msp_v3\\TOOLS\\Generate_csv_from_original_files\\output\\xml_df.csv\", sep=\";\", quotechar='\"', index=False, encoding=\"UTF-8\")"
   ],
   "metadata": {
    "collapsed": false
   },
   "id": "d5f92eb467f30a50",
   "execution_count": null
  },
  {
   "cell_type": "code",
   "outputs": [],
   "source": [
    "csv_df.to_csv(r\"C:\\Users\\Axel\\PycharmProjects\\msp_v3\\TOOLS\\Generate_csv_from_original_files\\output\\csv_df.csv\", sep=\";\", quotechar='\"', index=False, encoding=\"UTF-8\")"
   ],
   "metadata": {
    "collapsed": false
   },
   "id": "a1c64cbf9acafdbf",
   "execution_count": null
  },
  {
   "cell_type": "code",
   "outputs": [],
   "source": [
    "json_df.to_csv(r\"C:\\Users\\Axel\\PycharmProjects\\msp_v3\\TOOLS\\Generate_csv_from_original_files\\output\\json_df.csv\", sep=\";\", quotechar='\"', index=False, encoding=\"UTF-8\")"
   ],
   "metadata": {
    "collapsed": false
   },
   "id": "c35e5b34882d3fe5",
   "execution_count": null
  },
  {
   "cell_type": "code",
   "outputs": [],
   "source": [
    "mgf_df.to_csv(r\"C:\\Users\\Axel\\PycharmProjects\\msp_v3\\TOOLS\\Generate_csv_from_original_files\\output\\mgf_df.csv\", sep=\";\", quotechar='\"', index=False, encoding=\"UTF-8\")"
   ],
   "metadata": {
    "collapsed": false
   },
   "id": "43992a92958b8ff0",
   "execution_count": null
  }
 ],
 "metadata": {
  "kernelspec": {
   "display_name": "Python 3",
   "language": "python",
   "name": "python3"
  },
  "language_info": {
   "codemirror_mode": {
    "name": "ipython",
    "version": 2
   },
   "file_extension": ".py",
   "mimetype": "text/x-python",
   "name": "python",
   "nbconvert_exporter": "python",
   "pygments_lexer": "ipython2",
   "version": "2.7.6"
  }
 },
 "nbformat": 4,
 "nbformat_minor": 5
}
