{
 "cells": [
  {
   "cell_type": "code",
   "execution_count": null,
   "id": "initial_id",
   "metadata": {
    "collapsed": true
   },
   "outputs": [],
   "source": [
    "from convertors.convert_to_json import *\n",
    "import pandas as pd\n",
    "import os"
   ]
  },
  {
   "cell_type": "code",
   "outputs": [],
   "source": [
    "global keys_dict\n",
    "Key_dataframe = pd.read_csv(os.path.abspath(r\"C:\\Users\\Axel\\Documents\\PYTHON\\MSP_V3\\FragHub\\TOOLS\\Generate_csv_from_original_files\\datas\\key_to_convert.csv\"),sep=\";\", encoding=\"UTF-8\") # Remplacez 'your_file.csv' par le chemin de votre fichier\n",
    "keys_dict = dict(zip(Key_dataframe['known_synonym'], Key_dataframe['fraghub_default'].str.upper()))\n",
    "\n",
    "global keys_list\n",
    "keys_list = ['FILENAME',\n",
    "             'PREDICTED',\n",
    "             'FRAGHUBID',\n",
    "             'SPECTRUMID',\n",
    "             'RESOLUTION',\n",
    "             'SYNON',\n",
    "             'CHARGE',\n",
    "             'IONIZATION',\n",
    "             'MSLEVEL',\n",
    "             'FRAGMENTATIONMODE',\n",
    "             'NAME',\n",
    "             'PRECURSORMZ',\n",
    "             'EXACTMASS',\n",
    "             'AVERAGEMASS',\n",
    "             'PRECURSORTYPE',\n",
    "             'INSTRUMENTTYPE',\n",
    "             'INSTRUMENT',\n",
    "             'SMILES',\n",
    "             'INCHI',\n",
    "             'INCHIKEY',\n",
    "             'COLLISIONENERGY',\n",
    "             'FORMULA',\n",
    "             'RETENTIONTIME',\n",
    "             'IONMODE',\n",
    "             'COMMENT',\n",
    "             'NUM PEAKS',\n",
    "             'PEAKS_LIST']"
   ],
   "metadata": {
    "collapsed": false
   },
   "id": "808abc03b1529194"
  },
  {
   "cell_type": "code",
   "outputs": [],
   "source": [
    "def convert_keys(dict_list):\n",
    "    \"\"\"\n",
    "    Convert keys in metadata_dict based on the provided keys_dict and keys_list.\n",
    "\n",
    "    :param metadata_dict: A dictionary containing metadata information.\n",
    "    :return: A dictionary with converted keys based on the provided keys_dict and keys_list.\n",
    "    \"\"\"\n",
    "    output = []\n",
    "    for metadata_dict in dict_list:\n",
    "        converted = {keys_dict[key.lower()]: val for key, val in metadata_dict.items() if key.lower() in keys_dict and keys_dict[key.lower()] in keys_list}\n",
    "    \n",
    "        converted.update({key: \"\" for key in keys_list if key not in converted})\n",
    "        output.append(converted)\n",
    "\n",
    "    return output"
   ],
   "metadata": {
    "collapsed": false
   },
   "id": "cfe28dcc22f56b0f"
  },
  {
   "cell_type": "code",
   "outputs": [],
   "source": [
    "original_db_path = r\"C:\\Users\\Axel\\Documents\\MSP_DB\\ORIGINALS_msp_DB\\DB Janvier 2024\\DB_publi\""
   ],
   "metadata": {
    "collapsed": false
   },
   "id": "b87e90fadacc700b",
   "execution_count": null
  },
  {
   "cell_type": "code",
   "outputs": [],
   "source": [
    "FINAL_MSP, FINAL_XML, FINAL_CSV, FINAL_JSON, FINAL_MGF = convert_to_json(original_db_path)"
   ],
   "metadata": {
    "collapsed": false
   },
   "id": "56cb594b3dfceb2b"
  },
  {
   "cell_type": "code",
   "outputs": [],
   "source": [
    "FINAL_MSP = convert_keys(FINAL_MSP)"
   ],
   "metadata": {
    "collapsed": false
   },
   "id": "6fc92d34b628bcef"
  },
  {
   "cell_type": "code",
   "outputs": [],
   "source": [
    "FINAL_XML = convert_keys(FINAL_XML)"
   ],
   "metadata": {
    "collapsed": false
   },
   "id": "291eb9b440e01de2"
  },
  {
   "cell_type": "code",
   "outputs": [],
   "source": [
    "FINAL_CSV = convert_keys(FINAL_CSV)"
   ],
   "metadata": {
    "collapsed": false
   },
   "id": "fdf775295737e4a4"
  },
  {
   "cell_type": "code",
   "outputs": [],
   "source": [
    "FINAL_JSON = convert_keys(FINAL_JSON)"
   ],
   "metadata": {
    "collapsed": false
   },
   "id": "220fcaab61691690"
  },
  {
   "cell_type": "code",
   "outputs": [],
   "source": [
    "FINAL_MGF = convert_keys(FINAL_MGF)"
   ],
   "metadata": {
    "collapsed": false
   },
   "id": "a84d2ce035718d68"
  },
  {
   "cell_type": "code",
   "outputs": [],
   "source": [
    "msp_df = pd.DataFrame(FINAL_MSP)\n",
    "del FINAL_MSP"
   ],
   "metadata": {
    "collapsed": false
   },
   "id": "809bb990cb7e3c12"
  },
  {
   "cell_type": "code",
   "outputs": [],
   "source": [
    "xml_df = pd.DataFrame(FINAL_XML)\n",
    "del FINAL_XML"
   ],
   "metadata": {
    "collapsed": false
   },
   "id": "3192f03e7b54e20"
  },
  {
   "cell_type": "code",
   "outputs": [],
   "source": [
    "csv_df = pd.DataFrame(FINAL_CSV)\n",
    "del FINAL_CSV"
   ],
   "metadata": {
    "collapsed": false
   },
   "id": "aafc5bb070e3451d"
  },
  {
   "cell_type": "code",
   "outputs": [],
   "source": [
    "json_df = pd.DataFrame(FINAL_JSON)\n",
    "del FINAL_JSON"
   ],
   "metadata": {
    "collapsed": false
   },
   "id": "5d858987a0d2a9dd"
  },
  {
   "cell_type": "code",
   "outputs": [],
   "source": [
    "mgf_df = pd.DataFrame(FINAL_MGF)\n",
    "del FINAL_MGF"
   ],
   "metadata": {
    "collapsed": false
   },
   "id": "daa6d964cb2df71"
  },
  {
   "cell_type": "code",
   "outputs": [],
   "source": [
    "msp_df.to_csv(r\"C:\\Users\\Axel\\Documents\\PYTHON\\MSP_V3\\FragHub\\TOOLS\\Generate_csv_from_original_files\\output\\msp_df.csv\", sep=\";\", quotechar='\"', index=False)"
   ],
   "metadata": {
    "collapsed": false
   },
   "id": "32c5d15995e78c7e"
  },
  {
   "cell_type": "code",
   "outputs": [],
   "source": [
    "xml_df.to_csv(r\"C:\\Users\\Axel\\Documents\\PYTHON\\MSP_V3\\FragHub\\TOOLS\\Generate_csv_from_original_files\\output\\xml_df.csv\", sep=\";\", quotechar='\"', index=False)"
   ],
   "metadata": {
    "collapsed": false
   },
   "id": "d5f92eb467f30a50"
  },
  {
   "cell_type": "code",
   "outputs": [],
   "source": [
    "csv_df.to_csv(r\"C:\\Users\\Axel\\Documents\\PYTHON\\MSP_V3\\FragHub\\TOOLS\\Generate_csv_from_original_files\\output\\csv_df.csv\", sep=\";\", quotechar='\"', index=False)"
   ],
   "metadata": {
    "collapsed": false
   },
   "id": "a1c64cbf9acafdbf"
  },
  {
   "cell_type": "code",
   "outputs": [],
   "source": [
    "json_df.to_csv(r\"C:\\Users\\Axel\\Documents\\PYTHON\\MSP_V3\\FragHub\\TOOLS\\Generate_csv_from_original_files\\output\\json_df.csv\", sep=\";\", quotechar='\"', index=False)"
   ],
   "metadata": {
    "collapsed": false
   },
   "id": "c35e5b34882d3fe5"
  },
  {
   "cell_type": "code",
   "outputs": [],
   "source": [
    "mgf_df.to_csv(r\"C:\\Users\\Axel\\Documents\\PYTHON\\MSP_V3\\FragHub\\TOOLS\\Generate_csv_from_original_files\\output\\mgf_df.csv\", sep=\";\", quotechar='\"', index=False)"
   ],
   "metadata": {
    "collapsed": false
   },
   "id": "43992a92958b8ff0"
  }
 ],
 "metadata": {
  "kernelspec": {
   "display_name": "Python 3",
   "language": "python",
   "name": "python3"
  },
  "language_info": {
   "codemirror_mode": {
    "name": "ipython",
    "version": 2
   },
   "file_extension": ".py",
   "mimetype": "text/x-python",
   "name": "python",
   "nbconvert_exporter": "python",
   "pygments_lexer": "ipython2",
   "version": "2.7.6"
  }
 },
 "nbformat": 4,
 "nbformat_minor": 5
}
