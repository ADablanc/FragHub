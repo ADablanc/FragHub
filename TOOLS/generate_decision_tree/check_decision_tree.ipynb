{
 "cells": [
  {
   "cell_type": "code",
   "execution_count": 67,
   "id": "initial_id",
   "metadata": {
    "collapsed": true,
    "ExecuteTime": {
     "end_time": "2024-02-27T15:56:53.855236Z",
     "start_time": "2024-02-27T15:56:53.851924Z"
    }
   },
   "outputs": [],
   "source": [
    "from collections import defaultdict\n",
    "import pandas as pd\n",
    "import plotly.express as px\n",
    "import json"
   ]
  },
  {
   "cell_type": "code",
   "outputs": [],
   "source": [
    "df = pd.read_excel(r\"C:\\Users\\Axel\\Documents\\PYTHON\\FragHub\\FragHub\\TOOLS\\generate_decision_tree\\GRAPH_CONSTRUCT_SOLUTIONS_FINAL.xlsx\", sheet_name=\"TOTAL\")"
   ],
   "metadata": {
    "collapsed": false,
    "ExecuteTime": {
     "end_time": "2024-02-27T15:56:54.067593Z",
     "start_time": "2024-02-27T15:56:53.856244Z"
    }
   },
   "id": "5c0d46adbf218237",
   "execution_count": 68
  },
  {
   "cell_type": "code",
   "outputs": [],
   "source": [
    "def process_keys(obj):\n",
    "    if isinstance(obj, dict):\n",
    "        return {key if key == 'SOLUTION' else key.lower().strip(): process_keys(value) for key, value in obj.items()}\n",
    "    elif isinstance(obj, list):\n",
    "        return [process_keys(item) for item in obj]\n",
    "    else:\n",
    "        return obj\n",
    "\n",
    "\n",
    "def tree():\n",
    "    return defaultdict(tree)\n",
    "\n",
    "\n",
    "root = tree()\n",
    "for _, row in df.iterrows():\n",
    "    node = root\n",
    "    for val in row[:-1]:  # Ignore the last value, which is \"SOLUTION\"\n",
    "        node = node[val]\n",
    "    node['SOLUTION'] = row['SOLUTION']\n",
    "\n",
    "\n",
    "def dictify(nested_dict):\n",
    "    result = {}\n",
    "    for key, value in nested_dict.items():\n",
    "        if key == \"SOLUTION\":\n",
    "            result[key] = value\n",
    "        elif isinstance(value, dict):\n",
    "            result[key] = dictify(value)\n",
    "    return result\n",
    "\n",
    "\n",
    "D = dictify(root)\n",
    "D = process_keys(D)  # New line to process keys.\n",
    "\n",
    "with open(r'C:\\\\Users\\\\Axel\\\\Documents\\\\PYTHON\\\\FragHub\\\\FragHub\\\\TOOLS\\\\generate_decision_tree\\\\instruments_tree.json', 'w') as f:\n",
    "    json.dump(D, f, indent=2)"
   ],
   "metadata": {
    "collapsed": false,
    "ExecuteTime": {
     "end_time": "2024-02-27T15:56:54.317293Z",
     "start_time": "2024-02-27T15:56:54.068625Z"
    }
   },
   "id": "c37cac32b7ff7734",
   "execution_count": 69
  },
  {
   "cell_type": "code",
   "outputs": [],
   "source": [
    "# # Load your JSON data to a Python dict\n",
    "# with open(r'C:\\Users\\Axel\\Documents\\PYTHON\\FragHub\\FragHub\\TOOLS\\generate_decision_tree\\tree.json','r') as f:\n",
    "#     data = json.load(f)\n",
    "# \n",
    "# \n",
    "# \n",
    "# def flatten(tree, parent=\"\", path=[]):\n",
    "#     if isinstance(tree, dict):\n",
    "#         for k in tree:\n",
    "#             new_parent = parent + \"/\" + k if parent else k\n",
    "#             path = flatten(tree[k], new_parent, path)\n",
    "#     else:\n",
    "#         path.append({\"id\": parent, \"parent\": parent.rsplit(\"/\", 1)[-1], \"value\": tree})\n",
    "#     return path\n",
    "# \n",
    "# \n",
    "# # Flatten your hierarchical json into a pandas DataFrame\n",
    "# df = pd.DataFrame(flatten(data))\n",
    "# \n",
    "# # Plot with plotly\n",
    "# fig = px.sunburst(df, path=['parent', 'id'], values='value')\n",
    "# fig.show()"
   ],
   "metadata": {
    "collapsed": false,
    "ExecuteTime": {
     "end_time": "2024-02-27T15:56:54.322777Z",
     "start_time": "2024-02-27T15:56:54.319338Z"
    }
   },
   "id": "f66e0e1ecb3e69ef",
   "execution_count": 70
  }
 ],
 "metadata": {
  "kernelspec": {
   "display_name": "Python 3",
   "language": "python",
   "name": "python3"
  },
  "language_info": {
   "codemirror_mode": {
    "name": "ipython",
    "version": 2
   },
   "file_extension": ".py",
   "mimetype": "text/x-python",
   "name": "python",
   "nbconvert_exporter": "python",
   "pygments_lexer": "ipython2",
   "version": "2.7.6"
  }
 },
 "nbformat": 4,
 "nbformat_minor": 5
}
