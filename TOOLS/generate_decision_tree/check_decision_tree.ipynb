{
 "cells": [
  {
   "cell_type": "code",
   "execution_count": null,
   "id": "initial_id",
   "metadata": {
    "collapsed": true
   },
   "outputs": [],
   "source": [
    "from sklearn.tree import DecisionTreeClassifier\n",
    "from sklearn import tree\n",
    "import pandas as pd\n",
    "import json"
   ]
  },
  {
   "cell_type": "code",
   "outputs": [],
   "source": [
    "df = pd.read_excel(r\"C:\\Users\\Axel\\Documents\\PYTHON\\FragHub\\FragHub\\TOOLS\\generate_decision_tree\\GRAPH_CONSTRUCT_SOLUTIONS_FINAL.xlsx\", sheet_name=\"TOTAL\")"
   ],
   "metadata": {
    "collapsed": false
   },
   "id": "7f8339034a71955f",
   "execution_count": null
  },
  {
   "cell_type": "code",
   "outputs": [],
   "source": [
    "# Convert categorical data to numerical for decision tree\n",
    "for column in df.columns:\n",
    "    df[column] = df[column].astype('category').cat.codes"
   ],
   "metadata": {
    "collapsed": false
   },
   "id": "2bbb4be5541975e4",
   "execution_count": null
  },
  {
   "cell_type": "code",
   "outputs": [],
   "source": [
    "# Create a decision tree\n",
    "clf = DecisionTreeClassifier(random_state=1234)\n",
    "model = clf.fit(df.drop(columns=['SOLUTION']), df['SOLUTION'])"
   ],
   "metadata": {
    "collapsed": false
   },
   "id": "91e6a17842f59569",
   "execution_count": null
  },
  {
   "cell_type": "code",
   "outputs": [],
   "source": [
    "# Convert to JSON\n",
    "tree_in_json = tree.export_text(clf)"
   ],
   "metadata": {
    "collapsed": false
   },
   "id": "b0e66a8a5fb30a25",
   "execution_count": null
  },
  {
   "cell_type": "code",
   "outputs": [],
   "source": [
    "print(json.dumps(tree_in_json))"
   ],
   "metadata": {
    "collapsed": false
   },
   "id": "6b6ccede20249bd9",
   "execution_count": null
  }
 ],
 "metadata": {
  "kernelspec": {
   "display_name": "Python 3",
   "language": "python",
   "name": "python3"
  },
  "language_info": {
   "codemirror_mode": {
    "name": "ipython",
    "version": 2
   },
   "file_extension": ".py",
   "mimetype": "text/x-python",
   "name": "python",
   "nbconvert_exporter": "python",
   "pygments_lexer": "ipython2",
   "version": "2.7.6"
  }
 },
 "nbformat": 4,
 "nbformat_minor": 5
}
