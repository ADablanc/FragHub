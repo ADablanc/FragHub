{
 "cells": [
  {
   "cell_type": "code",
   "execution_count": 35,
   "id": "initial_id",
   "metadata": {
    "collapsed": true,
    "ExecuteTime": {
     "end_time": "2024-02-27T13:22:35.480428Z",
     "start_time": "2024-02-27T13:22:35.476725Z"
    }
   },
   "outputs": [],
   "source": [
    "from collections import defaultdict\n",
    "import pandas as pd\n",
    "import plotly.express as px\n",
    "import json"
   ]
  },
  {
   "cell_type": "code",
   "outputs": [],
   "source": [
    "df = pd.read_excel(r\"C:\\Users\\Axel\\Documents\\PYTHON\\FragHub\\FragHub\\TOOLS\\generate_decision_tree\\GRAPH_CONSTRUCT_SOLUTIONS_FINAL.xlsx\", sheet_name=\"Shimadzu\")"
   ],
   "metadata": {
    "collapsed": false,
    "ExecuteTime": {
     "end_time": "2024-02-27T13:22:35.529530Z",
     "start_time": "2024-02-27T13:22:35.490415Z"
    }
   },
   "id": "5c0d46adbf218237",
   "execution_count": 36
  },
  {
   "cell_type": "code",
   "outputs": [],
   "source": [
    "def tree():\n",
    "    return defaultdict(tree)\n",
    "\n",
    "\n",
    "root = tree()\n",
    "for _, row in df.iterrows():\n",
    "    node = root\n",
    "    for val in row:\n",
    "        node = node[val]\n",
    "    node['SOLUTION'] = row['SOLUTION']\n",
    "\n",
    "\n",
    "def dictify(nested_dict):\n",
    "    result = {}\n",
    "    for key, value in nested_dict.items():\n",
    "        if key == \"SOLUTION\":\n",
    "            result[key] = value\n",
    "        else:\n",
    "            result[key] = dictify(value)\n",
    "    return result\n",
    "\n",
    "\n",
    "D = dictify(root)\n",
    "\n",
    "with open(r'C:\\Users\\Axel\\Documents\\PYTHON\\FragHub\\FragHub\\TOOLS\\generate_decision_tree\\tree.json', 'w') as f:\n",
    "    json.dump(D, f, indent=2)"
   ],
   "metadata": {
    "collapsed": false,
    "ExecuteTime": {
     "end_time": "2024-02-27T13:22:35.547762Z",
     "start_time": "2024-02-27T13:22:35.530534Z"
    }
   },
   "id": "c37cac32b7ff7734",
   "execution_count": 37
  },
  {
   "cell_type": "code",
   "outputs": [
    {
     "ename": "ValueError",
     "evalue": "Column `value` of `df` could not be converted to a numerical data type.",
     "output_type": "error",
     "traceback": [
      "\u001B[1;31m---------------------------------------------------------------------------\u001B[0m",
      "\u001B[1;31mValueError\u001B[0m                                Traceback (most recent call last)",
      "File \u001B[1;32mlib.pyx:2391\u001B[0m, in \u001B[0;36mpandas._libs.lib.maybe_convert_numeric\u001B[1;34m()\u001B[0m\n",
      "\u001B[1;31mValueError\u001B[0m: Unable to parse string \"Shimadzu  Axima, LC-MALDI-QIT, LOW\"",
      "\nDuring handling of the above exception, another exception occurred:\n",
      "\u001B[1;31mValueError\u001B[0m                                Traceback (most recent call last)",
      "File \u001B[1;32m~\\Documents\\PYTHON\\FragHub\\venv\\Lib\\site-packages\\plotly\\express\\_core.py:1654\u001B[0m, in \u001B[0;36mprocess_dataframe_hierarchy\u001B[1;34m(args)\u001B[0m\n\u001B[0;32m   1653\u001B[0m \u001B[38;5;28;01mtry\u001B[39;00m:\n\u001B[1;32m-> 1654\u001B[0m     df[args[\u001B[38;5;124m\"\u001B[39m\u001B[38;5;124mvalues\u001B[39m\u001B[38;5;124m\"\u001B[39m]] \u001B[38;5;241m=\u001B[39m \u001B[43mpd\u001B[49m\u001B[38;5;241;43m.\u001B[39;49m\u001B[43mto_numeric\u001B[49m\u001B[43m(\u001B[49m\u001B[43mdf\u001B[49m\u001B[43m[\u001B[49m\u001B[43margs\u001B[49m\u001B[43m[\u001B[49m\u001B[38;5;124;43m\"\u001B[39;49m\u001B[38;5;124;43mvalues\u001B[39;49m\u001B[38;5;124;43m\"\u001B[39;49m\u001B[43m]\u001B[49m\u001B[43m]\u001B[49m\u001B[43m)\u001B[49m\n\u001B[0;32m   1655\u001B[0m \u001B[38;5;28;01mexcept\u001B[39;00m \u001B[38;5;167;01mValueError\u001B[39;00m:\n",
      "File \u001B[1;32m~\\Documents\\PYTHON\\FragHub\\venv\\Lib\\site-packages\\pandas\\core\\tools\\numeric.py:232\u001B[0m, in \u001B[0;36mto_numeric\u001B[1;34m(arg, errors, downcast, dtype_backend)\u001B[0m\n\u001B[0;32m    231\u001B[0m \u001B[38;5;28;01mtry\u001B[39;00m:\n\u001B[1;32m--> 232\u001B[0m     values, new_mask \u001B[38;5;241m=\u001B[39m \u001B[43mlib\u001B[49m\u001B[38;5;241;43m.\u001B[39;49m\u001B[43mmaybe_convert_numeric\u001B[49m\u001B[43m(\u001B[49m\u001B[43m  \u001B[49m\u001B[38;5;66;43;03m# type: ignore[call-overload]\u001B[39;49;00m\n\u001B[0;32m    233\u001B[0m \u001B[43m        \u001B[49m\u001B[43mvalues\u001B[49m\u001B[43m,\u001B[49m\n\u001B[0;32m    234\u001B[0m \u001B[43m        \u001B[49m\u001B[38;5;28;43mset\u001B[39;49m\u001B[43m(\u001B[49m\u001B[43m)\u001B[49m\u001B[43m,\u001B[49m\n\u001B[0;32m    235\u001B[0m \u001B[43m        \u001B[49m\u001B[43mcoerce_numeric\u001B[49m\u001B[38;5;241;43m=\u001B[39;49m\u001B[43mcoerce_numeric\u001B[49m\u001B[43m,\u001B[49m\n\u001B[0;32m    236\u001B[0m \u001B[43m        \u001B[49m\u001B[43mconvert_to_masked_nullable\u001B[49m\u001B[38;5;241;43m=\u001B[39;49m\u001B[43mdtype_backend\u001B[49m\u001B[43m \u001B[49m\u001B[38;5;129;43;01mis\u001B[39;49;00m\u001B[43m \u001B[49m\u001B[38;5;129;43;01mnot\u001B[39;49;00m\u001B[43m \u001B[49m\u001B[43mlib\u001B[49m\u001B[38;5;241;43m.\u001B[39;49m\u001B[43mno_default\u001B[49m\n\u001B[0;32m    237\u001B[0m \u001B[43m        \u001B[49m\u001B[38;5;129;43;01mor\u001B[39;49;00m\u001B[43m \u001B[49m\u001B[38;5;28;43misinstance\u001B[39;49m\u001B[43m(\u001B[49m\u001B[43mvalues_dtype\u001B[49m\u001B[43m,\u001B[49m\u001B[43m \u001B[49m\u001B[43mStringDtype\u001B[49m\u001B[43m)\u001B[49m\n\u001B[0;32m    238\u001B[0m \u001B[43m        \u001B[49m\u001B[38;5;129;43;01mand\u001B[39;49;00m\u001B[43m \u001B[49m\u001B[38;5;129;43;01mnot\u001B[39;49;00m\u001B[43m \u001B[49m\u001B[43mvalues_dtype\u001B[49m\u001B[38;5;241;43m.\u001B[39;49m\u001B[43mstorage\u001B[49m\u001B[43m \u001B[49m\u001B[38;5;241;43m==\u001B[39;49m\u001B[43m \u001B[49m\u001B[38;5;124;43m\"\u001B[39;49m\u001B[38;5;124;43mpyarrow_numpy\u001B[39;49m\u001B[38;5;124;43m\"\u001B[39;49m\u001B[43m,\u001B[49m\n\u001B[0;32m    239\u001B[0m \u001B[43m    \u001B[49m\u001B[43m)\u001B[49m\n\u001B[0;32m    240\u001B[0m \u001B[38;5;28;01mexcept\u001B[39;00m (\u001B[38;5;167;01mValueError\u001B[39;00m, \u001B[38;5;167;01mTypeError\u001B[39;00m):\n",
      "File \u001B[1;32mlib.pyx:2433\u001B[0m, in \u001B[0;36mpandas._libs.lib.maybe_convert_numeric\u001B[1;34m()\u001B[0m\n",
      "\u001B[1;31mValueError\u001B[0m: Unable to parse string \"Shimadzu  Axima, LC-MALDI-QIT, LOW\" at position 0",
      "\nDuring handling of the above exception, another exception occurred:\n",
      "\u001B[1;31mValueError\u001B[0m                                Traceback (most recent call last)",
      "Cell \u001B[1;32mIn[38], line 21\u001B[0m\n\u001B[0;32m     18\u001B[0m df \u001B[38;5;241m=\u001B[39m pd\u001B[38;5;241m.\u001B[39mDataFrame(flatten(data))\n\u001B[0;32m     20\u001B[0m \u001B[38;5;66;03m# Plot with plotly\u001B[39;00m\n\u001B[1;32m---> 21\u001B[0m fig \u001B[38;5;241m=\u001B[39m \u001B[43mpx\u001B[49m\u001B[38;5;241;43m.\u001B[39;49m\u001B[43msunburst\u001B[49m\u001B[43m(\u001B[49m\u001B[43mdf\u001B[49m\u001B[43m,\u001B[49m\u001B[43m \u001B[49m\u001B[43mpath\u001B[49m\u001B[38;5;241;43m=\u001B[39;49m\u001B[43m[\u001B[49m\u001B[38;5;124;43m'\u001B[39;49m\u001B[38;5;124;43mparent\u001B[39;49m\u001B[38;5;124;43m'\u001B[39;49m\u001B[43m,\u001B[49m\u001B[43m \u001B[49m\u001B[38;5;124;43m'\u001B[39;49m\u001B[38;5;124;43mid\u001B[39;49m\u001B[38;5;124;43m'\u001B[39;49m\u001B[43m]\u001B[49m\u001B[43m,\u001B[49m\u001B[43m \u001B[49m\u001B[43mvalues\u001B[49m\u001B[38;5;241;43m=\u001B[39;49m\u001B[38;5;124;43m'\u001B[39;49m\u001B[38;5;124;43mvalue\u001B[39;49m\u001B[38;5;124;43m'\u001B[39;49m\u001B[43m)\u001B[49m\n\u001B[0;32m     22\u001B[0m fig\u001B[38;5;241m.\u001B[39mshow()\n",
      "File \u001B[1;32m~\\Documents\\PYTHON\\FragHub\\venv\\Lib\\site-packages\\plotly\\express\\_chart_types.py:1541\u001B[0m, in \u001B[0;36msunburst\u001B[1;34m(data_frame, names, values, parents, path, ids, color, color_continuous_scale, range_color, color_continuous_midpoint, color_discrete_sequence, color_discrete_map, hover_name, hover_data, custom_data, labels, title, template, width, height, branchvalues, maxdepth)\u001B[0m\n\u001B[0;32m   1539\u001B[0m \u001B[38;5;28;01mif\u001B[39;00m path \u001B[38;5;129;01mis\u001B[39;00m \u001B[38;5;129;01mnot\u001B[39;00m \u001B[38;5;28;01mNone\u001B[39;00m \u001B[38;5;129;01mand\u001B[39;00m branchvalues \u001B[38;5;129;01mis\u001B[39;00m \u001B[38;5;28;01mNone\u001B[39;00m:\n\u001B[0;32m   1540\u001B[0m     branchvalues \u001B[38;5;241m=\u001B[39m \u001B[38;5;124m\"\u001B[39m\u001B[38;5;124mtotal\u001B[39m\u001B[38;5;124m\"\u001B[39m\n\u001B[1;32m-> 1541\u001B[0m \u001B[38;5;28;01mreturn\u001B[39;00m \u001B[43mmake_figure\u001B[49m\u001B[43m(\u001B[49m\n\u001B[0;32m   1542\u001B[0m \u001B[43m    \u001B[49m\u001B[43margs\u001B[49m\u001B[38;5;241;43m=\u001B[39;49m\u001B[38;5;28;43mlocals\u001B[39;49m\u001B[43m(\u001B[49m\u001B[43m)\u001B[49m\u001B[43m,\u001B[49m\n\u001B[0;32m   1543\u001B[0m \u001B[43m    \u001B[49m\u001B[43mconstructor\u001B[49m\u001B[38;5;241;43m=\u001B[39;49m\u001B[43mgo\u001B[49m\u001B[38;5;241;43m.\u001B[39;49m\u001B[43mSunburst\u001B[49m\u001B[43m,\u001B[49m\n\u001B[0;32m   1544\u001B[0m \u001B[43m    \u001B[49m\u001B[43mtrace_patch\u001B[49m\u001B[38;5;241;43m=\u001B[39;49m\u001B[38;5;28;43mdict\u001B[39;49m\u001B[43m(\u001B[49m\u001B[43mbranchvalues\u001B[49m\u001B[38;5;241;43m=\u001B[39;49m\u001B[43mbranchvalues\u001B[49m\u001B[43m,\u001B[49m\u001B[43m \u001B[49m\u001B[43mmaxdepth\u001B[49m\u001B[38;5;241;43m=\u001B[39;49m\u001B[43mmaxdepth\u001B[49m\u001B[43m)\u001B[49m\u001B[43m,\u001B[49m\n\u001B[0;32m   1545\u001B[0m \u001B[43m    \u001B[49m\u001B[43mlayout_patch\u001B[49m\u001B[38;5;241;43m=\u001B[39;49m\u001B[43mlayout_patch\u001B[49m\u001B[43m,\u001B[49m\n\u001B[0;32m   1546\u001B[0m \u001B[43m\u001B[49m\u001B[43m)\u001B[49m\n",
      "File \u001B[1;32m~\\Documents\\PYTHON\\FragHub\\venv\\Lib\\site-packages\\plotly\\express\\_core.py:2092\u001B[0m, in \u001B[0;36mmake_figure\u001B[1;34m(args, constructor, trace_patch, layout_patch)\u001B[0m\n\u001B[0;32m   2090\u001B[0m args \u001B[38;5;241m=\u001B[39m build_dataframe(args, constructor)\n\u001B[0;32m   2091\u001B[0m \u001B[38;5;28;01mif\u001B[39;00m constructor \u001B[38;5;129;01min\u001B[39;00m [go\u001B[38;5;241m.\u001B[39mTreemap, go\u001B[38;5;241m.\u001B[39mSunburst, go\u001B[38;5;241m.\u001B[39mIcicle] \u001B[38;5;129;01mand\u001B[39;00m args[\u001B[38;5;124m\"\u001B[39m\u001B[38;5;124mpath\u001B[39m\u001B[38;5;124m\"\u001B[39m] \u001B[38;5;129;01mis\u001B[39;00m \u001B[38;5;129;01mnot\u001B[39;00m \u001B[38;5;28;01mNone\u001B[39;00m:\n\u001B[1;32m-> 2092\u001B[0m     args \u001B[38;5;241m=\u001B[39m \u001B[43mprocess_dataframe_hierarchy\u001B[49m\u001B[43m(\u001B[49m\u001B[43margs\u001B[49m\u001B[43m)\u001B[49m\n\u001B[0;32m   2093\u001B[0m \u001B[38;5;28;01mif\u001B[39;00m constructor \u001B[38;5;129;01min\u001B[39;00m [go\u001B[38;5;241m.\u001B[39mPie]:\n\u001B[0;32m   2094\u001B[0m     args, trace_patch \u001B[38;5;241m=\u001B[39m process_dataframe_pie(args, trace_patch)\n",
      "File \u001B[1;32m~\\Documents\\PYTHON\\FragHub\\venv\\Lib\\site-packages\\plotly\\express\\_core.py:1656\u001B[0m, in \u001B[0;36mprocess_dataframe_hierarchy\u001B[1;34m(args)\u001B[0m\n\u001B[0;32m   1654\u001B[0m     df[args[\u001B[38;5;124m\"\u001B[39m\u001B[38;5;124mvalues\u001B[39m\u001B[38;5;124m\"\u001B[39m]] \u001B[38;5;241m=\u001B[39m pd\u001B[38;5;241m.\u001B[39mto_numeric(df[args[\u001B[38;5;124m\"\u001B[39m\u001B[38;5;124mvalues\u001B[39m\u001B[38;5;124m\"\u001B[39m]])\n\u001B[0;32m   1655\u001B[0m \u001B[38;5;28;01mexcept\u001B[39;00m \u001B[38;5;167;01mValueError\u001B[39;00m:\n\u001B[1;32m-> 1656\u001B[0m     \u001B[38;5;28;01mraise\u001B[39;00m \u001B[38;5;167;01mValueError\u001B[39;00m(\n\u001B[0;32m   1657\u001B[0m         \u001B[38;5;124m\"\u001B[39m\u001B[38;5;124mColumn `\u001B[39m\u001B[38;5;132;01m%s\u001B[39;00m\u001B[38;5;124m` of `df` could not be converted to a numerical data type.\u001B[39m\u001B[38;5;124m\"\u001B[39m\n\u001B[0;32m   1658\u001B[0m         \u001B[38;5;241m%\u001B[39m args[\u001B[38;5;124m\"\u001B[39m\u001B[38;5;124mvalues\u001B[39m\u001B[38;5;124m\"\u001B[39m]\n\u001B[0;32m   1659\u001B[0m     )\n\u001B[0;32m   1661\u001B[0m \u001B[38;5;28;01mif\u001B[39;00m args[\u001B[38;5;124m\"\u001B[39m\u001B[38;5;124mcolor\u001B[39m\u001B[38;5;124m\"\u001B[39m]:\n\u001B[0;32m   1662\u001B[0m     \u001B[38;5;28;01mif\u001B[39;00m args[\u001B[38;5;124m\"\u001B[39m\u001B[38;5;124mcolor\u001B[39m\u001B[38;5;124m\"\u001B[39m] \u001B[38;5;241m==\u001B[39m args[\u001B[38;5;124m\"\u001B[39m\u001B[38;5;124mvalues\u001B[39m\u001B[38;5;124m\"\u001B[39m]:\n",
      "\u001B[1;31mValueError\u001B[0m: Column `value` of `df` could not be converted to a numerical data type."
     ]
    }
   ],
   "source": [
    "# Load your JSON data to a Python dict\n",
    "with open(r'C:\\Users\\Axel\\Documents\\PYTHON\\FragHub\\FragHub\\TOOLS\\generate_decision_tree\\tree.json','r') as f:\n",
    "    data = json.load(f)\n",
    "\n",
    "\n",
    "\n",
    "def flatten(tree, parent=\"\", path=[]):\n",
    "    if isinstance(tree, dict):\n",
    "        for k in tree:\n",
    "            new_parent = parent + \"/\" + k if parent else k\n",
    "            path = flatten(tree[k], new_parent, path)\n",
    "    else:\n",
    "        path.append({\"id\": parent, \"parent\": parent.rsplit(\"/\", 1)[-1], \"value\": tree})\n",
    "    return path\n",
    "\n",
    "\n",
    "# Flatten your hierarchical json into a pandas DataFrame\n",
    "df = pd.DataFrame(flatten(data))\n",
    "\n",
    "# Plot with plotly\n",
    "fig = px.sunburst(df, path=['parent', 'id'], values='value')\n",
    "fig.show()"
   ],
   "metadata": {
    "collapsed": false,
    "ExecuteTime": {
     "end_time": "2024-02-27T13:22:35.626863Z",
     "start_time": "2024-02-27T13:22:35.548777Z"
    }
   },
   "id": "f66e0e1ecb3e69ef",
   "execution_count": 38
  }
 ],
 "metadata": {
  "kernelspec": {
   "display_name": "Python 3",
   "language": "python",
   "name": "python3"
  },
  "language_info": {
   "codemirror_mode": {
    "name": "ipython",
    "version": 2
   },
   "file_extension": ".py",
   "mimetype": "text/x-python",
   "name": "python",
   "nbconvert_exporter": "python",
   "pygments_lexer": "ipython2",
   "version": "2.7.6"
  }
 },
 "nbformat": 4,
 "nbformat_minor": 5
}
