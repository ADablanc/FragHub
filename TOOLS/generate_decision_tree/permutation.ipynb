{
 "cells": [
  {
   "cell_type": "code",
   "execution_count": null,
   "id": "817140caa76b1d76",
   "metadata": {
    "collapsed": false
   },
   "outputs": [],
   "source": [
    "import pandas as pd\n",
    "import itertools\n",
    "import copy"
   ]
  },
  {
   "cell_type": "code",
   "outputs": [],
   "source": [
    "def gen_missing_comb_multi(df):\n",
    "    new_rows = []\n",
    "    columns = df.columns.tolist()\n",
    "    for col_num in range(1, len(columns) + 1):\n",
    "        for col_comb in itertools.combinations(columns, col_num):\n",
    "            for i, row in df.iterrows():\n",
    "                new_row = copy.deepcopy(row)\n",
    "                for col in col_comb:\n",
    "                    new_row[col] = \"UNKNOWN\"\n",
    "                new_rows.append(new_row)\n",
    "    return pd.DataFrame(new_rows, columns=df.columns)"
   ],
   "metadata": {
    "collapsed": false
   },
   "id": "ea2df3ec18501c95",
   "execution_count": null
  },
  {
   "cell_type": "code",
   "outputs": [],
   "source": [
    "# List of data\n",
    "df = pd.read_excel(r\"C:\\Users\\Axel\\Documents\\PYTHON\\MSP_V3\\FragHub\\datas\\FINAL_GRAPH.xlsx\", sheet_name=\"Agilent\")\n",
    "df = df.astype(str)"
   ],
   "metadata": {
    "collapsed": true
   },
   "id": "initial_id",
   "execution_count": null
  },
  {
   "cell_type": "code",
   "outputs": [],
   "source": [
    "# Generate the DataFrame with missing combinations\n",
    "df_missing_comb_multi = gen_missing_comb_multi(df)"
   ],
   "metadata": {
    "collapsed": false
   },
   "id": "28a38a515e3295df",
   "execution_count": null
  },
  {
   "cell_type": "code",
   "outputs": [],
   "source": [
    "print(df_missing_comb_multi)"
   ],
   "metadata": {
    "collapsed": false
   },
   "id": "cb39543e64f9ecc7",
   "execution_count": null
  },
  {
   "cell_type": "code",
   "outputs": [],
   "source": [
    "df_missing_comb_multi = pd.DataFrame(df_missing_comb_multi, columns=[\"MARQUES\", \"MODELS\", \"SPECTRUM_TYPE\", \"INSTRUMENT_TYPE\", \"IONISATION\", \"RESOLUTION\"])"
   ],
   "metadata": {
    "collapsed": false
   },
   "id": "871fca02e89a073c",
   "execution_count": null
  },
  {
   "cell_type": "code",
   "outputs": [],
   "source": [
    "def count_non_unknown(row):\n",
    "    return sum(row != 'UNKNOWN')\n",
    "\n",
    "# Apply this function to each row\n",
    "non_unknown_counts = df_missing_comb_multi.apply(count_non_unknown, axis=1)\n",
    "\n",
    "# Filter out rows where only 'MODELS' or no columns are not 'UNKNOWN'\n",
    "df_missing_comb_multi = df_missing_comb_multi[(non_unknown_counts > 1) | ((non_unknown_counts == 1) & (df_missing_comb_multi['MODELS'] != 'UNKNOWN'))]"
   ],
   "metadata": {
    "collapsed": false
   },
   "id": "935f4bc264989e29",
   "execution_count": null
  },
  {
   "cell_type": "code",
   "outputs": [],
   "source": [
    "def should_exclude_row_2(row):\n",
    "    non_unknown_inds = [index for index, value in row.items() if value != 'UNKNOWN']\n",
    "    if len(non_unknown_inds) == 2 and set(non_unknown_inds) != {'MARQUES', 'MODELS'}:\n",
    "        return True\n",
    "    return False\n",
    "\n",
    "rows_to_exclude = df_missing_comb_multi.apply(should_exclude_row_2, axis=1)\n",
    "df_filtered = df_missing_comb_multi.loc[~rows_to_exclude]"
   ],
   "metadata": {
    "collapsed": false
   },
   "id": "eb395c93ecb6f781",
   "execution_count": null
  },
  {
   "cell_type": "code",
   "outputs": [],
   "source": [
    "def should_exclude_row_resolution(row):\n",
    "    if row['RESOLUTION'] == 'UNKNOWN':\n",
    "        return True\n",
    "    return False\n",
    "\n",
    "rows_to_exclude_resolution = df_filtered.apply(should_exclude_row_resolution, axis=1)\n",
    "df_filtered = df_filtered.loc[~rows_to_exclude_resolution]"
   ],
   "metadata": {
    "collapsed": false
   },
   "id": "e67abc617d2ddbef",
   "execution_count": null
  },
  {
   "cell_type": "code",
   "outputs": [],
   "source": [
    "def should_exclude_row_3(row):\n",
    "    non_unknown_inds = [index for index, value in row.items() if value != 'UNKNOWN']\n",
    "    if len(non_unknown_inds) == 2 and set(non_unknown_inds) != {'MARQUES', 'SPECTRUM_TYPE'}:\n",
    "        return True\n",
    "    return False\n",
    "\n",
    "rows_to_exclude = df_filtered.apply(should_exclude_row_3, axis=1)\n",
    "df_filtered = df_filtered.loc[~rows_to_exclude]"
   ],
   "metadata": {
    "collapsed": false
   },
   "id": "e61e01f3c11b8e09",
   "execution_count": null
  },
  {
   "cell_type": "code",
   "outputs": [],
   "source": [
    "def should_exclude_row_4(row):\n",
    "    non_unknown_inds = [index for index, value in row.items() if value != 'UNKNOWN']\n",
    "    if len(non_unknown_inds) == 2 and set(non_unknown_inds) != {'MARQUES', 'INSTRUMENT_TYPE'}:\n",
    "        return True\n",
    "    return False\n",
    "\n",
    "rows_to_exclude = df_filtered.apply(should_exclude_row_4, axis=1)\n",
    "df_filtered = df_filtered.loc[~rows_to_exclude]"
   ],
   "metadata": {
    "collapsed": false
   },
   "id": "32852754e80fbb12",
   "execution_count": null
  },
  {
   "cell_type": "code",
   "outputs": [],
   "source": [
    "def should_exclude_row_5(row):\n",
    "    non_unknown_inds = [index for index, value in row.items() if value != 'UNKNOWN']\n",
    "    if len(non_unknown_inds) == 2 and set(non_unknown_inds) != {'MARQUES', 'IONISATION'}:\n",
    "        return True\n",
    "    return False\n",
    "\n",
    "rows_to_exclude = df_filtered.apply(should_exclude_row_5, axis=1)\n",
    "df_filtered = df_filtered.loc[~rows_to_exclude]"
   ],
   "metadata": {
    "collapsed": false
   },
   "id": "40344f34265b0829",
   "execution_count": null
  },
  {
   "cell_type": "code",
   "outputs": [],
   "source": [
    "def should_exclude_row_6(row):\n",
    "    non_unknown_inds = [index for index, value in row.items() if value != 'UNKNOWN']\n",
    "    if len(non_unknown_inds) == 2 and set(non_unknown_inds) != {'MARQUES', 'RESOLUTION'}:\n",
    "        return True\n",
    "    return False\n",
    "\n",
    "rows_to_exclude = df_filtered.apply(should_exclude_row_6, axis=1)\n",
    "df_filtered = df_filtered.loc[~rows_to_exclude]"
   ],
   "metadata": {
    "collapsed": false
   },
   "id": "2f6b0557d7fb0be2",
   "execution_count": null
  },
  {
   "cell_type": "code",
   "outputs": [],
   "source": [
    "def should_exclude_row_7(row):   \n",
    "    if row['MODELS'] == 'UNKNOWN' and row['INSTRUMENT_TYPE'] == 'UNKNOWN':\n",
    "        return True\n",
    "    return False\n",
    "\n",
    "rows_to_exclude = df_filtered.apply(should_exclude_row_7, axis=1)\n",
    "df_filtered = df_filtered.loc[~rows_to_exclude]"
   ],
   "metadata": {
    "collapsed": false
   },
   "id": "3744b7dca79ff76a",
   "execution_count": null
  },
  {
   "cell_type": "code",
   "outputs": [],
   "source": [
    "def should_exclude_row_8(row):\n",
    "    if row['MODELS'] == 'UNKNOWN' and row['IONISATION'] == 'UNKNOWN':\n",
    "        return True\n",
    "    return False\n",
    "\n",
    "rows_to_exclude = df_filtered.apply(should_exclude_row_8, axis=1)\n",
    "df_filtered = df_filtered.loc[~rows_to_exclude]"
   ],
   "metadata": {
    "collapsed": false
   },
   "id": "b3773f7879710797",
   "execution_count": null
  },
  {
   "cell_type": "code",
   "outputs": [],
   "source": [
    "# Write to CSV\n",
    "df_filtered.to_excel(r\"C:\\Users\\Axel\\Documents\\PYTHON\\MSP_V3\\FragHub\\datas\\permutations.xlsx\", index=False)"
   ],
   "metadata": {
    "collapsed": false
   },
   "id": "f9f903bc300de2c3",
   "execution_count": null
  }
 ],
 "metadata": {
  "kernelspec": {
   "display_name": "Python 3",
   "language": "python",
   "name": "python3"
  },
  "language_info": {
   "codemirror_mode": {
    "name": "ipython",
    "version": 2
   },
   "file_extension": ".py",
   "mimetype": "text/x-python",
   "name": "python",
   "nbconvert_exporter": "python",
   "pygments_lexer": "ipython2",
   "version": "2.7.6"
  }
 },
 "nbformat": 4,
 "nbformat_minor": 5
}
