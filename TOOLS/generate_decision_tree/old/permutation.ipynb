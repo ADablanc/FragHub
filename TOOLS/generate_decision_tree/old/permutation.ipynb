{
 "cells": [
  {
   "cell_type": "code",
   "id": "817140caa76b1d76",
   "metadata": {
    "collapsed": false,
    "ExecuteTime": {
     "end_time": "2024-11-19T08:53:17.446062Z",
     "start_time": "2024-11-19T08:53:17.443054Z"
    }
   },
   "source": [
    "import pandas as pd\n",
    "import itertools\n",
    "import copy"
   ],
   "outputs": [],
   "execution_count": 7
  },
  {
   "cell_type": "code",
   "source": [
    "def gen_missing_comb_multi(df):\n",
    "    new_rows = []\n",
    "    columns = df.columns.tolist()\n",
    "    for col_num in range(1, len(columns) + 1):\n",
    "        for col_comb in itertools.combinations(columns, col_num):\n",
    "            for i, row in df.iterrows():\n",
    "                new_row = copy.deepcopy(row)\n",
    "                for col in col_comb:\n",
    "                    new_row[col] = \"UNKNOWN\"\n",
    "                new_rows.append(new_row)\n",
    "    return pd.DataFrame(new_rows, columns=df.columns)"
   ],
   "metadata": {
    "collapsed": false,
    "ExecuteTime": {
     "end_time": "2024-11-19T08:53:17.456344Z",
     "start_time": "2024-11-19T08:53:17.453339Z"
    }
   },
   "id": "ea2df3ec18501c95",
   "outputs": [],
   "execution_count": 8
  },
  {
   "cell_type": "code",
   "source": [
    "# List of data\n",
    "df = pd.read_excel(r\".\\Instrument_tree.xlsx\", sheet_name=\"Agilent\")\n",
    "df = df.astype(str)"
   ],
   "metadata": {
    "collapsed": true,
    "ExecuteTime": {
     "end_time": "2024-11-19T08:53:17.606557Z",
     "start_time": "2024-11-19T08:53:17.460081Z"
    }
   },
   "id": "initial_id",
   "outputs": [],
   "execution_count": 9
  },
  {
   "cell_type": "code",
   "source": [
    "# Generate the DataFrame with missing combinations\n",
    "df_missing_comb_multi = gen_missing_comb_multi(df)"
   ],
   "metadata": {
    "collapsed": false,
    "ExecuteTime": {
     "end_time": "2024-11-19T08:53:18.062240Z",
     "start_time": "2024-11-19T08:53:17.634175Z"
    }
   },
   "id": "28a38a515e3295df",
   "outputs": [],
   "execution_count": 10
  },
  {
   "cell_type": "code",
   "source": [
    "print(df_missing_comb_multi)"
   ],
   "metadata": {
    "collapsed": false,
    "ExecuteTime": {
     "end_time": "2024-11-19T08:53:18.075507Z",
     "start_time": "2024-11-19T08:53:18.071507Z"
    }
   },
   "id": "cb39543e64f9ecc7",
   "outputs": [
    {
     "name": "stdout",
     "output_type": "stream",
     "text": [
      "     MARQUES   MODELS SPECTRUM_TYPE INSTRUMENT_TYPE IONISATION RESOLUTION\n",
      "0    UNKNOWN     6210            CE             TOF        ESI       HIGH\n",
      "1    UNKNOWN     6410            LC             QQQ        ESI        LOW\n",
      "2    UNKNOWN     6530            LC            QTOF        ESI       HIGH\n",
      "3    UNKNOWN     6531            LC            QTOF        ESI       HIGH\n",
      "4    UNKNOWN     6532            LC            QTOF        ESI       HIGH\n",
      "..       ...      ...           ...             ...        ...        ...\n",
      "150  UNKNOWN  UNKNOWN       UNKNOWN         UNKNOWN    UNKNOWN    UNKNOWN\n",
      "151  UNKNOWN  UNKNOWN       UNKNOWN         UNKNOWN    UNKNOWN    UNKNOWN\n",
      "152  UNKNOWN  UNKNOWN       UNKNOWN         UNKNOWN    UNKNOWN    UNKNOWN\n",
      "153  UNKNOWN  UNKNOWN       UNKNOWN         UNKNOWN    UNKNOWN    UNKNOWN\n",
      "154  UNKNOWN  UNKNOWN       UNKNOWN         UNKNOWN    UNKNOWN    UNKNOWN\n",
      "\n",
      "[9765 rows x 6 columns]\n"
     ]
    }
   ],
   "execution_count": 11
  },
  {
   "cell_type": "code",
   "source": [
    "df_missing_comb_multi = pd.DataFrame(df_missing_comb_multi, columns=[\"MARQUES\", \"MODELS\", \"SPECTRUM_TYPE\", \"INSTRUMENT_TYPE\", \"IONISATION\", \"RESOLUTION\"])"
   ],
   "metadata": {
    "collapsed": false,
    "ExecuteTime": {
     "end_time": "2024-11-19T08:53:18.091748Z",
     "start_time": "2024-11-19T08:53:18.089520Z"
    }
   },
   "id": "871fca02e89a073c",
   "outputs": [],
   "execution_count": 12
  },
  {
   "cell_type": "code",
   "source": [
    "def count_non_unknown(row):\n",
    "    return sum(row != 'UNKNOWN')\n",
    "\n",
    "# Apply this function to each row\n",
    "non_unknown_counts = df_missing_comb_multi.apply(count_non_unknown, axis=1)\n",
    "\n",
    "# Filter out rows where only 'MODELS' or no columns are not 'UNKNOWN'\n",
    "df_missing_comb_multi = df_missing_comb_multi[(non_unknown_counts > 1) | ((non_unknown_counts == 1) & (df_missing_comb_multi['MODELS'] != 'UNKNOWN'))]"
   ],
   "metadata": {
    "collapsed": false,
    "ExecuteTime": {
     "end_time": "2024-11-19T08:53:18.277081Z",
     "start_time": "2024-11-19T08:53:18.109889Z"
    }
   },
   "id": "935f4bc264989e29",
   "outputs": [],
   "execution_count": 13
  },
  {
   "cell_type": "code",
   "source": [
    "def should_exclude_row_2(row):\n",
    "    non_unknown_inds = [index for index, value in row.items() if value != 'UNKNOWN']\n",
    "    if len(non_unknown_inds) == 2 and set(non_unknown_inds) != {'MARQUES', 'MODELS'}:\n",
    "        return True\n",
    "    return False\n",
    "\n",
    "rows_to_exclude = df_missing_comb_multi.apply(should_exclude_row_2, axis=1)\n",
    "df_filtered = df_missing_comb_multi.loc[~rows_to_exclude]"
   ],
   "metadata": {
    "collapsed": false,
    "ExecuteTime": {
     "end_time": "2024-11-19T08:53:18.303857Z",
     "start_time": "2024-11-19T08:53:18.280089Z"
    }
   },
   "id": "eb395c93ecb6f781",
   "outputs": [],
   "execution_count": 14
  },
  {
   "cell_type": "code",
   "source": [
    "def should_exclude_row_resolution(row):\n",
    "    if row['RESOLUTION'] == 'UNKNOWN':\n",
    "        return True\n",
    "    return False\n",
    "\n",
    "rows_to_exclude_resolution = df_filtered.apply(should_exclude_row_resolution, axis=1)\n",
    "df_filtered = df_filtered.loc[~rows_to_exclude_resolution]"
   ],
   "metadata": {
    "collapsed": false,
    "ExecuteTime": {
     "end_time": "2024-11-19T08:53:18.324856Z",
     "start_time": "2024-11-19T08:53:18.310093Z"
    }
   },
   "id": "e67abc617d2ddbef",
   "outputs": [],
   "execution_count": 15
  },
  {
   "cell_type": "code",
   "source": [
    "def should_exclude_row_3(row):\n",
    "    non_unknown_inds = [index for index, value in row.items() if value != 'UNKNOWN']\n",
    "    if len(non_unknown_inds) == 2 and set(non_unknown_inds) != {'MARQUES', 'SPECTRUM_TYPE'}:\n",
    "        return True\n",
    "    return False\n",
    "\n",
    "rows_to_exclude = df_filtered.apply(should_exclude_row_3, axis=1)\n",
    "df_filtered = df_filtered.loc[~rows_to_exclude]"
   ],
   "metadata": {
    "collapsed": false,
    "ExecuteTime": {
     "end_time": "2024-11-19T08:53:18.341845Z",
     "start_time": "2024-11-19T08:53:18.329952Z"
    }
   },
   "id": "e61e01f3c11b8e09",
   "outputs": [],
   "execution_count": 16
  },
  {
   "cell_type": "code",
   "source": [
    "def should_exclude_row_4(row):\n",
    "    non_unknown_inds = [index for index, value in row.items() if value != 'UNKNOWN']\n",
    "    if len(non_unknown_inds) == 2 and set(non_unknown_inds) != {'MARQUES', 'INSTRUMENT_TYPE'}:\n",
    "        return True\n",
    "    return False\n",
    "\n",
    "rows_to_exclude = df_filtered.apply(should_exclude_row_4, axis=1)\n",
    "df_filtered = df_filtered.loc[~rows_to_exclude]"
   ],
   "metadata": {
    "collapsed": false,
    "ExecuteTime": {
     "end_time": "2024-11-19T08:53:18.359246Z",
     "start_time": "2024-11-19T08:53:18.347067Z"
    }
   },
   "id": "32852754e80fbb12",
   "outputs": [],
   "execution_count": 17
  },
  {
   "cell_type": "code",
   "source": [
    "# def should_exclude_row_5(row):\n",
    "#     non_unknown_inds = [index for index, value in row.items() if value != 'UNKNOWN']\n",
    "#     if len(non_unknown_inds) == 2 and set(non_unknown_inds) != {'MARQUES', 'IONISATION'}:\n",
    "#         return True\n",
    "#     return False\n",
    "# \n",
    "# rows_to_exclude = df_filtered.apply(should_exclude_row_5, axis=1)\n",
    "# df_filtered = df_filtered.loc[~rows_to_exclude]"
   ],
   "metadata": {
    "collapsed": false,
    "ExecuteTime": {
     "end_time": "2024-11-19T08:53:18.366589Z",
     "start_time": "2024-11-19T08:53:18.364469Z"
    }
   },
   "id": "40344f34265b0829",
   "outputs": [],
   "execution_count": 18
  },
  {
   "cell_type": "code",
   "source": [
    "def should_exclude_row_6(row):\n",
    "    non_unknown_inds = [index for index, value in row.items() if value != 'UNKNOWN']\n",
    "    if len(non_unknown_inds) == 2 and set(non_unknown_inds) != {'MARQUES', 'RESOLUTION'}:\n",
    "        return True\n",
    "    return False\n",
    "\n",
    "rows_to_exclude = df_filtered.apply(should_exclude_row_6, axis=1)\n",
    "df_filtered = df_filtered.loc[~rows_to_exclude]"
   ],
   "metadata": {
    "collapsed": false,
    "ExecuteTime": {
     "end_time": "2024-11-19T08:53:18.383556Z",
     "start_time": "2024-11-19T08:53:18.371429Z"
    }
   },
   "id": "2f6b0557d7fb0be2",
   "outputs": [],
   "execution_count": 19
  },
  {
   "cell_type": "code",
   "source": [
    "def should_exclude_row_7(row):   \n",
    "    if row['MODELS'] == 'UNKNOWN' and row['INSTRUMENT_TYPE'] == 'UNKNOWN':\n",
    "        return True\n",
    "    return False\n",
    "\n",
    "rows_to_exclude = df_filtered.apply(should_exclude_row_7, axis=1)\n",
    "df_filtered = df_filtered.loc[~rows_to_exclude]"
   ],
   "metadata": {
    "collapsed": false,
    "ExecuteTime": {
     "end_time": "2024-11-19T08:53:18.399318Z",
     "start_time": "2024-11-19T08:53:18.388784Z"
    }
   },
   "id": "3744b7dca79ff76a",
   "outputs": [],
   "execution_count": 20
  },
  {
   "cell_type": "code",
   "source": [
    "def should_exclude_row_8(row):\n",
    "    if row['MODELS'] == 'UNKNOWN' and row['IONISATION'] == 'UNKNOWN':\n",
    "        return True\n",
    "    return False\n",
    "\n",
    "rows_to_exclude = df_filtered.apply(should_exclude_row_8, axis=1)\n",
    "df_filtered = df_filtered.loc[~rows_to_exclude]"
   ],
   "metadata": {
    "collapsed": false,
    "ExecuteTime": {
     "end_time": "2024-11-19T08:53:18.413687Z",
     "start_time": "2024-11-19T08:53:18.404826Z"
    }
   },
   "id": "b3773f7879710797",
   "outputs": [],
   "execution_count": 21
  },
  {
   "cell_type": "code",
   "source": [
    "# Write to CSV\n",
    "df_filtered.to_excel(r\".\\permutations.xlsx\", index=False)"
   ],
   "metadata": {
    "collapsed": false,
    "ExecuteTime": {
     "end_time": "2024-11-19T08:53:18.595661Z",
     "start_time": "2024-11-19T08:53:18.418726Z"
    }
   },
   "id": "f9f903bc300de2c3",
   "outputs": [],
   "execution_count": 22
  }
 ],
 "metadata": {
  "kernelspec": {
   "display_name": "Python 3",
   "language": "python",
   "name": "python3"
  },
  "language_info": {
   "codemirror_mode": {
    "name": "ipython",
    "version": 2
   },
   "file_extension": ".py",
   "mimetype": "text/x-python",
   "name": "python",
   "nbconvert_exporter": "python",
   "pygments_lexer": "ipython2",
   "version": "2.7.6"
  }
 },
 "nbformat": 4,
 "nbformat_minor": 5
}
