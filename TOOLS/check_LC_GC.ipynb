{
 "cells": [
  {
   "cell_type": "code",
   "execution_count": 5,
   "id": "initial_id",
   "metadata": {
    "collapsed": true,
    "ExecuteTime": {
     "end_time": "2024-02-16T14:59:06.124325100Z",
     "start_time": "2024-02-16T14:59:06.117371100Z"
    }
   },
   "outputs": [],
   "source": [
    "import pandas as pd"
   ]
  },
  {
   "cell_type": "code",
   "outputs": [],
   "source": [
    "xls = pd.read_excel(r\"C:\\Users\\Axel\\Documents\\PYTHON\\MSP_V3\\FragHub\\datas\\GRAPH_CONSTRUCT_SOLUTIONS.xlsx\", sheet_name=None)\n",
    "# Concaténer tous les DataFrames\n",
    "df = pd.concat(xls.values())\n",
    "\n",
    "# Convertir le type des données du DataFrame en string\n",
    "df = df.astype(str)"
   ],
   "metadata": {
    "collapsed": false,
    "ExecuteTime": {
     "end_time": "2024-02-16T14:59:06.384621500Z",
     "start_time": "2024-02-16T14:59:06.127057Z"
    }
   },
   "id": "7ca994df5ce9ced2",
   "execution_count": 6
  },
  {
   "cell_type": "code",
   "outputs": [],
   "source": [
    "results = {}\n",
    "\n",
    "# Les différentes valeurs pour 'SPECTRUM_TYPE'\n",
    "spectrum_types = df['SPECTRUM_TYPE'].unique()\n",
    "\n",
    "for spectrum_type in spectrum_types:\n",
    "    # Filtrer les lignes où 'SPECTRUM_TYPE' correspond à 'spectrum_type'\n",
    "    filtered_df = df[df['SPECTRUM_TYPE'] == spectrum_type]\n",
    "\n",
    "    # Obtenir les valeurs uniques 'IONISATION' et les ajouter au dictionnaire résultats\n",
    "    results[spectrum_type] = filtered_df['IONISATION'].unique()"
   ],
   "metadata": {
    "collapsed": false,
    "ExecuteTime": {
     "end_time": "2024-02-16T14:59:06.390804900Z",
     "start_time": "2024-02-16T14:59:06.384621500Z"
    }
   },
   "id": "4969d90dfb7d2e06",
   "execution_count": 7
  },
  {
   "cell_type": "code",
   "outputs": [
    {
     "name": "stdout",
     "output_type": "stream",
     "text": [
      "For 'SPECTRUM_TYPE' = 'LC', the unique 'IONISATION' values are:\n",
      "['ESI' 'APPI' 'APCI' 'UNKNOWN' 'MALDI' 'FAB' 'FD' 'EI']\n",
      "For 'SPECTRUM_TYPE' = 'UNKNOWN', the unique 'IONISATION' values are:\n",
      "['ESI' 'APPI' 'APCI' 'UNKNOWN' 'MALDI' 'CI' 'PTR' 'FAB' 'FD' 'EI']\n",
      "For 'SPECTRUM_TYPE' = 'GC', the unique 'IONISATION' values are:\n",
      "['CI' 'UNKNOWN' 'PTR' 'ESI' 'EI']\n",
      "For 'SPECTRUM_TYPE' = 'CE', the unique 'IONISATION' values are:\n",
      "['ESI' 'UNKNOWN']\n"
     ]
    }
   ],
   "source": [
    "# Imprimer les résultats\n",
    "for spectrum_type, ionisation in results.items():\n",
    "    print(f\"For 'SPECTRUM_TYPE' = '{spectrum_type}', the unique 'IONISATION' values are:\")\n",
    "    print(ionisation)"
   ],
   "metadata": {
    "collapsed": false,
    "ExecuteTime": {
     "end_time": "2024-02-16T14:59:06.417018900Z",
     "start_time": "2024-02-16T14:59:06.392898400Z"
    }
   },
   "id": "2c3ebb47e448bcce",
   "execution_count": 8
  }
 ],
 "metadata": {
  "kernelspec": {
   "display_name": "Python 3",
   "language": "python",
   "name": "python3"
  },
  "language_info": {
   "codemirror_mode": {
    "name": "ipython",
    "version": 2
   },
   "file_extension": ".py",
   "mimetype": "text/x-python",
   "name": "python",
   "nbconvert_exporter": "python",
   "pygments_lexer": "ipython2",
   "version": "2.7.6"
  }
 },
 "nbformat": 4,
 "nbformat_minor": 5
}
