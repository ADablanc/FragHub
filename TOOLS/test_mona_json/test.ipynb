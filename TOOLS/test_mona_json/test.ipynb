{
 "cells": [
  {
   "metadata": {
    "ExecuteTime": {
     "end_time": "2024-11-19T13:50:43.631946Z",
     "start_time": "2024-11-19T13:50:43.628010Z"
    }
   },
   "cell_type": "code",
   "source": [
    "import json\n",
    "\n",
    "# Chemin du fichier JSON\n",
    "file_path = r'D:\\Axel\\PYTHON\\FragHub\\TOOLS\\test_mona_json\\mona_test.json'\n",
    "\n",
    "# Lire le fichier JSON\n",
    "with open(file_path, 'r', encoding='utf-8') as file:\n",
    "    json_data = json.load(file)\n",
    "\n",
    "# Accéder aux tags de l'objet JSON\n",
    "tags = json_data.get(\"tags\", [])\n",
    "\n",
    "if tags[1]['text'] == 'In-Silico':\n",
    "    print(\"coucou\")\n"
   ],
   "id": "812e01b72337638",
   "outputs": [
    {
     "name": "stdout",
     "output_type": "stream",
     "text": [
      "coucou\n"
     ]
    }
   ],
   "execution_count": 2
  }
 ],
 "metadata": {
  "kernelspec": {
   "display_name": "Python 3",
   "language": "python",
   "name": "python3"
  },
  "language_info": {
   "codemirror_mode": {
    "name": "ipython",
    "version": 2
   },
   "file_extension": ".py",
   "mimetype": "text/x-python",
   "name": "python",
   "nbconvert_exporter": "python",
   "pygments_lexer": "ipython2",
   "version": "2.7.6"
  }
 },
 "nbformat": 4,
 "nbformat_minor": 5
}
