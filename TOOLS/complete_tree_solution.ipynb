{
 "cells": [
  {
   "cell_type": "code",
   "execution_count": 90,
   "id": "initial_id",
   "metadata": {
    "collapsed": true,
    "ExecuteTime": {
     "end_time": "2024-02-16T15:49:36.988739500Z",
     "start_time": "2024-02-16T15:49:36.984511300Z"
    }
   },
   "outputs": [],
   "source": [
    "import pandas as pd"
   ]
  },
  {
   "cell_type": "code",
   "outputs": [],
   "source": [
    "def format_solution(row, non_unknown_marques):\n",
    "    marque = non_unknown_marques if row['MARQUES'] == 'UNKNOWN' and row['MODELS'] != 'UNKNOWN' else row['MARQUES']\n",
    "    model = 'instrument' if row['MODELS'] == 'UNKNOWN' and row['MARQUES'] != 'UNKNOWN' else row['MODELS']\n",
    "    \n",
    "    if row['SPECTRUM_TYPE'] == 'UNKNOWN' and row['IONISATION'] != 'UNKNOWN':\n",
    "        if row['IONISATION'] in ['ESI', 'APPI', 'APCI', 'MALDI', 'FAB', 'FD', 'EI']:\n",
    "            spectrum_type = 'LC'\n",
    "        elif row['IONISATION'] in ['CI', 'PTR', 'EI']:\n",
    "            spectrum_type = 'GC'\n",
    "        else:\n",
    "            spectrum_type = row['SPECTRUM_TYPE']\n",
    "    else:\n",
    "        spectrum_type = row['SPECTRUM_TYPE']\n",
    "    \n",
    "    if row['SPECTRUM_TYPE'] != 'UNKNOWN' and row['IONISATION'] != 'UNKNOWN' and row['INSTRUMENT_TYPE'] == 'UNKNOWN':\n",
    "        return f\"{marque} {model}, {spectrum_type}-{row['IONISATION']}, {row['RESOLUTION']}\"\n",
    "    elif row['SPECTRUM_TYPE'] == 'UNKNOWN' and row['IONISATION'] == 'UNKNOWN' and row['INSTRUMENT_TYPE'] != 'UNKNOWN':\n",
    "        return f\"UNKNOWN, {row['INSTRUMENT_TYPE']}, {row['RESOLUTION']}\"\n",
    "    elif row['SPECTRUM_TYPE'] == 'UNKNOWN' and row['IONISATION'] == 'UNKNOWN' and row['INSTRUMENT_TYPE'] != 'UNKNOWN':\n",
    "        return f\"{marque} {model}, {spectrum_type}-{row['INSTRUMENT_TYPE']}, {row['RESOLUTION']}\"\n",
    "    elif row['SPECTRUM_TYPE'] != 'UNKNOWN' and row['IONISATION'] == 'UNKNOWN' and row['INSTRUMENT_TYPE'] == 'UNKNOWN':\n",
    "        return f\"{marque} {model}, {spectrum_type}, {row['RESOLUTION']}\"\n",
    "    elif row['SPECTRUM_TYPE'] == 'UNKNOWN' and row['IONISATION'] != 'UNKNOWN' and row['INSTRUMENT_TYPE'] == 'UNKNOWN':\n",
    "        return f\"{marque} {model}, {spectrum_type}-{row['IONISATION']}, {row['RESOLUTION']}\"\n",
    "    elif row['SPECTRUM_TYPE'] == 'UNKNOWN' and row['IONISATION'] == 'UNKNOWN' and row['INSTRUMENT_TYPE'] == 'UNKNOWN':\n",
    "        return f\"{marque} {model}, UNKNOWN, {row['RESOLUTION']}\"\n",
    "    elif marque == 'UNKNOWN' and model == 'UNKNOWN':\n",
    "        return f\"UNKNOWN, {spectrum_type}-{row['IONISATION']}-{row['INSTRUMENT_TYPE']}, {row['RESOLUTION']}\"\n",
    "    else:\n",
    "        return f\"{marque} {model}, {spectrum_type}-{row['IONISATION']}-{row['INSTRUMENT_TYPE']}, {row['RESOLUTION']}\""
   ],
   "metadata": {
    "collapsed": false,
    "ExecuteTime": {
     "end_time": "2024-02-16T15:49:37.014466200Z",
     "start_time": "2024-02-16T15:49:36.990740500Z"
    }
   },
   "id": "794d456db329db0d",
   "execution_count": 91
  },
  {
   "cell_type": "code",
   "outputs": [],
   "source": [
    "def get_first_non_unknown_marques(df):\n",
    "    for marque in df['MARQUES']:\n",
    "        if marque != 'UNKNOWN':\n",
    "            return marque\n",
    "    # If there are no non-UNKNOWN marques, just return 'UNKNOWN'\n",
    "    return 'UNKNOWN'"
   ],
   "metadata": {
    "collapsed": false,
    "ExecuteTime": {
     "end_time": "2024-02-16T15:49:37.025919900Z",
     "start_time": "2024-02-16T15:49:37.013274Z"
    }
   },
   "id": "3de6cd0650c04b23",
   "execution_count": 92
  },
  {
   "cell_type": "code",
   "outputs": [],
   "source": [
    "dfs = pd.read_excel(r\"C:\\Users\\Axel\\Documents\\PYTHON\\MSP_V3\\FragHub\\datas\\GRAPH_CONSTRUCT.xlsx\", sheet_name=None)"
   ],
   "metadata": {
    "collapsed": false,
    "ExecuteTime": {
     "end_time": "2024-02-16T15:49:37.264401500Z",
     "start_time": "2024-02-16T15:49:37.026942800Z"
    }
   },
   "id": "b58e621212f306ff",
   "execution_count": 93
  },
  {
   "cell_type": "code",
   "outputs": [],
   "source": [
    "# Loop over each DataFrame and add the 'SOLUTION' column\n",
    "for sheet_name, df in dfs.items():\n",
    "    df = df.astype(str)\n",
    "    \n",
    "    non_unknown_marques = get_first_non_unknown_marques(df)\n",
    "\n",
    "    df['SOLUTION'] = df.apply(lambda row: format_solution(row, non_unknown_marques), axis=1)\n",
    "\n",
    "    dfs[sheet_name] = df  # Reassign the modified DataFrame to the original dictionary"
   ],
   "metadata": {
    "collapsed": false,
    "ExecuteTime": {
     "end_time": "2024-02-16T15:49:37.370234300Z",
     "start_time": "2024-02-16T15:49:37.264401500Z"
    }
   },
   "id": "5a56c1c0b755c71c",
   "execution_count": 94
  },
  {
   "cell_type": "code",
   "outputs": [],
   "source": [
    "# Create an Excel writer\n",
    "with pd.ExcelWriter(r\"C:\\Users\\Axel\\Documents\\PYTHON\\MSP_V3\\FragHub\\datas\\GRAPH_CONSTRUCT_SOLUTIONS.xlsx\", engine='xlsxwriter') as writer:\n",
    "    # Loop over each DataFrame and write it to a separate sheet\n",
    "    for sheet_name, df in dfs.items():\n",
    "        df.to_excel(writer, sheet_name=sheet_name, index=False)"
   ],
   "metadata": {
    "collapsed": false,
    "ExecuteTime": {
     "end_time": "2024-02-16T15:49:37.901852800Z",
     "start_time": "2024-02-16T15:49:37.370234300Z"
    }
   },
   "id": "908ee551cebfac39",
   "execution_count": 95
  }
 ],
 "metadata": {
  "kernelspec": {
   "display_name": "Python 3",
   "language": "python",
   "name": "python3"
  },
  "language_info": {
   "codemirror_mode": {
    "name": "ipython",
    "version": 2
   },
   "file_extension": ".py",
   "mimetype": "text/x-python",
   "name": "python",
   "nbconvert_exporter": "python",
   "pygments_lexer": "ipython2",
   "version": "2.7.6"
  }
 },
 "nbformat": 4,
 "nbformat_minor": 5
}
