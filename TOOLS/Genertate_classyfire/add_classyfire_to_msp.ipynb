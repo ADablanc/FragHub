{
 "cells": [
  {
   "cell_type": "code",
   "execution_count": 1,
   "id": "initial_id",
   "metadata": {
    "collapsed": true,
    "ExecuteTime": {
     "end_time": "2024-01-30T15:13:23.172796700Z",
     "start_time": "2024-01-30T15:13:22.879704300Z"
    }
   },
   "outputs": [],
   "source": [
    "import pandas as pd"
   ]
  },
  {
   "cell_type": "markdown",
   "source": [
    "Ouvrire le fichier de pharmakon"
   ],
   "metadata": {
    "collapsed": false
   },
   "id": "4e52d124f9515630"
  },
  {
   "cell_type": "code",
   "execution_count": 2,
   "outputs": [],
   "source": [
    "PKON_file = r\"C:\\Users\\Axel\\Documents\\Présentations\\FragBank\\Publication\\Diagrammes\\Sunburst\\pkon23all-Chmochampv14nov.xlsx\""
   ],
   "metadata": {
    "collapsed": false,
    "ExecuteTime": {
     "end_time": "2024-01-30T15:13:23.179679500Z",
     "start_time": "2024-01-30T15:13:23.174873300Z"
    }
   },
   "id": "28f84afa21cc357e"
  },
  {
   "cell_type": "code",
   "outputs": [],
   "source": [
    "pkon_df = pd.read_excel(PKON_file)"
   ],
   "metadata": {
    "collapsed": false,
    "ExecuteTime": {
     "end_time": "2024-01-30T15:15:52.927563200Z",
     "start_time": "2024-01-30T15:13:23.177442500Z"
    }
   },
   "id": "d8c6d671e8a9c143",
   "execution_count": 3
  },
  {
   "cell_type": "markdown",
   "source": [
    "Ne récupérer que les colonnes INCHIKEY; CLASSYFIRE_CLASS et CLASSYFIRE_SUBCLASS du fichier de pkon"
   ],
   "metadata": {
    "collapsed": false
   },
   "id": "4eb6029b32a23e11"
  },
  {
   "cell_type": "code",
   "execution_count": 4,
   "outputs": [],
   "source": [
    "nouveau_df = pkon_df[['INCHIKEY', 'CLASSYFIRE_CLASS', 'CLASSYFIRE_SUBCLASS']]"
   ],
   "metadata": {
    "collapsed": false,
    "ExecuteTime": {
     "end_time": "2024-01-30T15:15:52.963941900Z",
     "start_time": "2024-01-30T15:15:52.928500800Z"
    }
   },
   "id": "a0c46d3e0d9c5623"
  },
  {
   "cell_type": "code",
   "execution_count": 5,
   "outputs": [
    {
     "name": "stderr",
     "output_type": "stream",
     "text": [
      "C:\\Users\\Axel\\AppData\\Local\\Temp\\ipykernel_7632\\662538400.py:1: SettingWithCopyWarning: \n",
      "A value is trying to be set on a copy of a slice from a DataFrame.\n",
      "Try using .loc[row_indexer,col_indexer] = value instead\n",
      "\n",
      "See the caveats in the documentation: https://pandas.pydata.org/pandas-docs/stable/user_guide/indexing.html#returning-a-view-versus-a-copy\n",
      "  nouveau_df['INCHIKEY'] = nouveau_df['INCHIKEY'].astype(str)\n"
     ]
    }
   ],
   "source": [
    "nouveau_df['INCHIKEY'] = nouveau_df['INCHIKEY'].astype(str)"
   ],
   "metadata": {
    "collapsed": false,
    "ExecuteTime": {
     "end_time": "2024-01-30T15:15:53.044673100Z",
     "start_time": "2024-01-30T15:15:52.963941900Z"
    }
   },
   "id": "a52c673c9cf06bfb"
  },
  {
   "cell_type": "markdown",
   "source": [
    "ne récupérer que les short InChiKey"
   ],
   "metadata": {
    "collapsed": false
   },
   "id": "1b6190f5e7877c0e"
  },
  {
   "cell_type": "code",
   "execution_count": 6,
   "outputs": [
    {
     "name": "stderr",
     "output_type": "stream",
     "text": [
      "C:\\Users\\Axel\\AppData\\Local\\Temp\\ipykernel_7632\\1272673200.py:1: SettingWithCopyWarning: \n",
      "A value is trying to be set on a copy of a slice from a DataFrame.\n",
      "Try using .loc[row_indexer,col_indexer] = value instead\n",
      "\n",
      "See the caveats in the documentation: https://pandas.pydata.org/pandas-docs/stable/user_guide/indexing.html#returning-a-view-versus-a-copy\n",
      "  nouveau_df['INCHIKEY'] = nouveau_df['INCHIKEY'].apply(lambda x: x.split('-')[0] if x is not None else None)\n"
     ]
    }
   ],
   "source": [
    "nouveau_df['INCHIKEY'] = nouveau_df['INCHIKEY'].apply(lambda x: x.split('-')[0] if x is not None else None)"
   ],
   "metadata": {
    "collapsed": false,
    "ExecuteTime": {
     "end_time": "2024-01-30T15:15:53.228573300Z",
     "start_time": "2024-01-30T15:15:53.040288500Z"
    }
   },
   "id": "e0a59dd17a7fbd9e"
  },
  {
   "cell_type": "code",
   "execution_count": 7,
   "outputs": [
    {
     "data": {
      "text/plain": "         INCHIKEY        CLASSYFIRE_CLASS  \\\n0  AAABMNXUOFPYQK           Pyranodioxins   \n1  AAAFZMYJJHWUPN  Organooxygen compounds   \n2  AAAHTAUQXADPPM    Glycerophospholipids   \n3  AAAIKXYZKHSEGN    Glycerophospholipids   \n4  AAANZTDKTFGJLZ             Benzopyrans   \n\n                         CLASSYFIRE_SUBCLASS  \n0                                        NaN  \n1  Carbohydrates and carbohydrate conjugates  \n2      Glycerophosphoglycerophosphoglycerols  \n3      Glycerophosphoglycerophosphoglycerols  \n4                              1-benzopyrans  ",
      "text/html": "<div>\n<style scoped>\n    .dataframe tbody tr th:only-of-type {\n        vertical-align: middle;\n    }\n\n    .dataframe tbody tr th {\n        vertical-align: top;\n    }\n\n    .dataframe thead th {\n        text-align: right;\n    }\n</style>\n<table border=\"1\" class=\"dataframe\">\n  <thead>\n    <tr style=\"text-align: right;\">\n      <th></th>\n      <th>INCHIKEY</th>\n      <th>CLASSYFIRE_CLASS</th>\n      <th>CLASSYFIRE_SUBCLASS</th>\n    </tr>\n  </thead>\n  <tbody>\n    <tr>\n      <th>0</th>\n      <td>AAABMNXUOFPYQK</td>\n      <td>Pyranodioxins</td>\n      <td>NaN</td>\n    </tr>\n    <tr>\n      <th>1</th>\n      <td>AAAFZMYJJHWUPN</td>\n      <td>Organooxygen compounds</td>\n      <td>Carbohydrates and carbohydrate conjugates</td>\n    </tr>\n    <tr>\n      <th>2</th>\n      <td>AAAHTAUQXADPPM</td>\n      <td>Glycerophospholipids</td>\n      <td>Glycerophosphoglycerophosphoglycerols</td>\n    </tr>\n    <tr>\n      <th>3</th>\n      <td>AAAIKXYZKHSEGN</td>\n      <td>Glycerophospholipids</td>\n      <td>Glycerophosphoglycerophosphoglycerols</td>\n    </tr>\n    <tr>\n      <th>4</th>\n      <td>AAANZTDKTFGJLZ</td>\n      <td>Benzopyrans</td>\n      <td>1-benzopyrans</td>\n    </tr>\n  </tbody>\n</table>\n</div>"
     },
     "execution_count": 7,
     "metadata": {},
     "output_type": "execute_result"
    }
   ],
   "source": [
    "nouveau_df.head() # Affiche pour vérification"
   ],
   "metadata": {
    "collapsed": false,
    "ExecuteTime": {
     "end_time": "2024-01-30T15:15:53.400334300Z",
     "start_time": "2024-01-30T15:15:53.225791800Z"
    }
   },
   "id": "4276c30d18b64fe4"
  },
  {
   "cell_type": "markdown",
   "source": [
    "Ouvrire mon fichier où nous avons l'ensemble des InChiKey de nos bases de données"
   ],
   "metadata": {
    "collapsed": false
   },
   "id": "e096a95a554b138a"
  },
  {
   "cell_type": "code",
   "execution_count": 10,
   "outputs": [],
   "source": [
    "MSP_file = r\"C:\\Users\\Axel\\Documents\\Présentations\\FragBank\\Publication\\Diagrammes\\FragBank_CLEAN\\DB_Janvier_2024\\CSV\\ALL_DB_INCHIKEY.xlsx\""
   ],
   "metadata": {
    "collapsed": false,
    "ExecuteTime": {
     "end_time": "2024-01-30T15:16:22.950856200Z",
     "start_time": "2024-01-30T15:16:22.927757600Z"
    }
   },
   "id": "ed7de222e258f230"
  },
  {
   "cell_type": "code",
   "execution_count": 11,
   "outputs": [],
   "source": [
    "MSP_df = pd.read_excel(MSP_file)"
   ],
   "metadata": {
    "collapsed": false,
    "ExecuteTime": {
     "end_time": "2024-01-30T15:16:25.328821400Z",
     "start_time": "2024-01-30T15:16:24.213833100Z"
    }
   },
   "id": "d5da999a9e793da0"
  },
  {
   "cell_type": "code",
   "execution_count": 12,
   "outputs": [],
   "source": [
    "MSP_df['INCHIKEY'] = MSP_df['INCHIKEY'].astype(str)"
   ],
   "metadata": {
    "collapsed": false,
    "ExecuteTime": {
     "end_time": "2024-01-30T15:16:25.584293300Z",
     "start_time": "2024-01-30T15:16:25.573798200Z"
    }
   },
   "id": "f42d84cee383022"
  },
  {
   "cell_type": "markdown",
   "source": [
    "N'en récupérer égakement que les short InChiKey"
   ],
   "metadata": {
    "collapsed": false
   },
   "id": "1a00772676090d43"
  },
  {
   "cell_type": "code",
   "execution_count": 13,
   "outputs": [],
   "source": [
    "MSP_df['INCHIKEY'] = MSP_df['INCHIKEY'].apply(lambda x: x.split('-')[0] if x is not None else None)"
   ],
   "metadata": {
    "collapsed": false,
    "ExecuteTime": {
     "end_time": "2024-01-30T15:16:25.929671500Z",
     "start_time": "2024-01-30T15:16:25.916210300Z"
    }
   },
   "id": "1934af0e844913b1"
  },
  {
   "cell_type": "code",
   "execution_count": 14,
   "outputs": [
    {
     "data": {
      "text/plain": "   FILENAME  PREDICTED        INCHIKEY\n0  MassBank      False  PUMXWMGECQIOGB\n1  MassBank      False  CBUOBMSAFIYYEJ\n2  MassBank      False  FNSQKFOXORBCCC\n3  MassBank      False  HNMWDXUKPJZOQD\n4  MassBank      False  GRFAWUZMBBQEMX",
      "text/html": "<div>\n<style scoped>\n    .dataframe tbody tr th:only-of-type {\n        vertical-align: middle;\n    }\n\n    .dataframe tbody tr th {\n        vertical-align: top;\n    }\n\n    .dataframe thead th {\n        text-align: right;\n    }\n</style>\n<table border=\"1\" class=\"dataframe\">\n  <thead>\n    <tr style=\"text-align: right;\">\n      <th></th>\n      <th>FILENAME</th>\n      <th>PREDICTED</th>\n      <th>INCHIKEY</th>\n    </tr>\n  </thead>\n  <tbody>\n    <tr>\n      <th>0</th>\n      <td>MassBank</td>\n      <td>False</td>\n      <td>PUMXWMGECQIOGB</td>\n    </tr>\n    <tr>\n      <th>1</th>\n      <td>MassBank</td>\n      <td>False</td>\n      <td>CBUOBMSAFIYYEJ</td>\n    </tr>\n    <tr>\n      <th>2</th>\n      <td>MassBank</td>\n      <td>False</td>\n      <td>FNSQKFOXORBCCC</td>\n    </tr>\n    <tr>\n      <th>3</th>\n      <td>MassBank</td>\n      <td>False</td>\n      <td>HNMWDXUKPJZOQD</td>\n    </tr>\n    <tr>\n      <th>4</th>\n      <td>MassBank</td>\n      <td>False</td>\n      <td>GRFAWUZMBBQEMX</td>\n    </tr>\n  </tbody>\n</table>\n</div>"
     },
     "execution_count": 14,
     "metadata": {},
     "output_type": "execute_result"
    }
   ],
   "source": [
    "MSP_df.head() # Affichage pour vérification"
   ],
   "metadata": {
    "collapsed": false,
    "ExecuteTime": {
     "end_time": "2024-01-30T15:16:26.413307200Z",
     "start_time": "2024-01-30T15:16:26.404655500Z"
    }
   },
   "id": "9ee2dfb41892f905"
  },
  {
   "cell_type": "markdown",
   "source": [
    "On complète nos InChiKey de nos bases de données avec les classyfire de PKON23"
   ],
   "metadata": {
    "collapsed": false
   },
   "id": "c50bdc77aa69b353"
  },
  {
   "cell_type": "code",
   "execution_count": 15,
   "outputs": [],
   "source": [
    "MSP_df = MSP_df.merge(nouveau_df[['INCHIKEY', 'CLASSYFIRE_CLASS', 'CLASSYFIRE_SUBCLASS']], on='INCHIKEY', how='left')"
   ],
   "metadata": {
    "collapsed": false,
    "ExecuteTime": {
     "end_time": "2024-01-30T15:16:28.007676500Z",
     "start_time": "2024-01-30T15:16:27.713747Z"
    }
   },
   "id": "904a71981a62aa77"
  },
  {
   "cell_type": "code",
   "execution_count": 16,
   "outputs": [],
   "source": [
    "MSP_df = MSP_df.drop_duplicates(subset='INCHIKEY', keep='first')"
   ],
   "metadata": {
    "collapsed": false,
    "ExecuteTime": {
     "end_time": "2024-01-30T15:16:28.256914300Z",
     "start_time": "2024-01-30T15:16:28.246748200Z"
    }
   },
   "id": "ff9c2356a9115647"
  },
  {
   "cell_type": "code",
   "execution_count": 17,
   "outputs": [
    {
     "data": {
      "text/plain": "    FILENAME  PREDICTED        INCHIKEY     CLASSYFIRE_CLASS  \\\n0   MassBank      False  PUMXWMGECQIOGB        Prenol lipids   \n2   MassBank      False  CBUOBMSAFIYYEJ        Prenol lipids   \n4   MassBank      False  FNSQKFOXORBCCC        Tetracyclines   \n6   MassBank      False  HNMWDXUKPJZOQD  Isochromanequinones   \n11  MassBank      False  GRFAWUZMBBQEMX                  NaN   \n\n   CLASSYFIRE_SUBCLASS  \n0     Sesquiterpenoids  \n2       Monoterpenoids  \n4                  NaN  \n6                  NaN  \n11                 NaN  ",
      "text/html": "<div>\n<style scoped>\n    .dataframe tbody tr th:only-of-type {\n        vertical-align: middle;\n    }\n\n    .dataframe tbody tr th {\n        vertical-align: top;\n    }\n\n    .dataframe thead th {\n        text-align: right;\n    }\n</style>\n<table border=\"1\" class=\"dataframe\">\n  <thead>\n    <tr style=\"text-align: right;\">\n      <th></th>\n      <th>FILENAME</th>\n      <th>PREDICTED</th>\n      <th>INCHIKEY</th>\n      <th>CLASSYFIRE_CLASS</th>\n      <th>CLASSYFIRE_SUBCLASS</th>\n    </tr>\n  </thead>\n  <tbody>\n    <tr>\n      <th>0</th>\n      <td>MassBank</td>\n      <td>False</td>\n      <td>PUMXWMGECQIOGB</td>\n      <td>Prenol lipids</td>\n      <td>Sesquiterpenoids</td>\n    </tr>\n    <tr>\n      <th>2</th>\n      <td>MassBank</td>\n      <td>False</td>\n      <td>CBUOBMSAFIYYEJ</td>\n      <td>Prenol lipids</td>\n      <td>Monoterpenoids</td>\n    </tr>\n    <tr>\n      <th>4</th>\n      <td>MassBank</td>\n      <td>False</td>\n      <td>FNSQKFOXORBCCC</td>\n      <td>Tetracyclines</td>\n      <td>NaN</td>\n    </tr>\n    <tr>\n      <th>6</th>\n      <td>MassBank</td>\n      <td>False</td>\n      <td>HNMWDXUKPJZOQD</td>\n      <td>Isochromanequinones</td>\n      <td>NaN</td>\n    </tr>\n    <tr>\n      <th>11</th>\n      <td>MassBank</td>\n      <td>False</td>\n      <td>GRFAWUZMBBQEMX</td>\n      <td>NaN</td>\n      <td>NaN</td>\n    </tr>\n  </tbody>\n</table>\n</div>"
     },
     "execution_count": 17,
     "metadata": {},
     "output_type": "execute_result"
    }
   ],
   "source": [
    "MSP_df.head() # Affichage pour vérification"
   ],
   "metadata": {
    "collapsed": false,
    "ExecuteTime": {
     "end_time": "2024-01-30T15:16:28.517310200Z",
     "start_time": "2024-01-30T15:16:28.507751800Z"
    }
   },
   "id": "5a972ca93eeb0a6d"
  },
  {
   "cell_type": "markdown",
   "source": [
    "On enregistre ce DF là"
   ],
   "metadata": {
    "collapsed": false
   },
   "id": "611870ccc220cd34"
  },
  {
   "cell_type": "code",
   "execution_count": 18,
   "outputs": [],
   "source": [
    "MSP_df.to_excel(r\"C:\\Users\\Axel\\Documents\\Présentations\\FragBank\\Publication\\Diagrammes\\Sunburst\\MSP_inchikeys_classyfire.xlsx\", index=False)"
   ],
   "metadata": {
    "collapsed": false,
    "ExecuteTime": {
     "end_time": "2024-01-30T15:16:31.743525500Z",
     "start_time": "2024-01-30T15:16:29.952868600Z"
    }
   },
   "id": "4ff0b5944f4129bc"
  },
  {
   "cell_type": "code",
   "execution_count": 19,
   "outputs": [],
   "source": [
    "null_df = MSP_df[MSP_df['CLASSYFIRE_CLASS'].isnull()] # NULL"
   ],
   "metadata": {
    "collapsed": false,
    "ExecuteTime": {
     "end_time": "2024-01-30T15:16:31.753540100Z",
     "start_time": "2024-01-30T15:16:31.744659900Z"
    }
   },
   "id": "2a72f1807e38875c"
  },
  {
   "cell_type": "code",
   "execution_count": 20,
   "outputs": [],
   "source": [
    "null_df = null_df.drop_duplicates(subset='INCHIKEY', keep='first')"
   ],
   "metadata": {
    "collapsed": false,
    "ExecuteTime": {
     "end_time": "2024-01-30T15:16:31.764927700Z",
     "start_time": "2024-01-30T15:16:31.750372Z"
    }
   },
   "id": "fe17b4db7621da1b"
  },
  {
   "cell_type": "markdown",
   "source": [
    "ici on enregistre le DF des short InChikey qui n'ont aucune information de classification taxonomique ==> c'est celui-ci que l'on utilise pour l'interrogation API de Classyfire"
   ],
   "metadata": {
    "collapsed": false
   },
   "id": "dd26c7efb1985627"
  },
  {
   "cell_type": "code",
   "execution_count": 21,
   "outputs": [],
   "source": [
    "null_df.to_excel(r\"C:\\Users\\Axel\\Documents\\Présentations\\FragBank\\Publication\\Diagrammes\\Sunburst\\MSP_inchikeys_classyfire_null.xlsx\", index=False)"
   ],
   "metadata": {
    "collapsed": false,
    "ExecuteTime": {
     "end_time": "2024-01-30T15:16:32.875453800Z",
     "start_time": "2024-01-30T15:16:32.085101100Z"
    }
   },
   "id": "6da49bfd53f789e6"
  },
  {
   "cell_type": "code",
   "outputs": [
    {
     "name": "stdout",
     "output_type": "stream",
     "text": [
      "12670\n"
     ]
    }
   ],
   "source": [
    "print(len(null_df))"
   ],
   "metadata": {
    "collapsed": false,
    "ExecuteTime": {
     "end_time": "2024-01-30T15:17:21.012151300Z",
     "start_time": "2024-01-30T15:17:21.002735900Z"
    }
   },
   "id": "675ce21a7a1e3e1b",
   "execution_count": 25
  },
  {
   "cell_type": "markdown",
   "source": [
    "Juste pour voir ce qu'on à réussi à récupérer de PKON 23"
   ],
   "metadata": {
    "collapsed": false
   },
   "id": "2cdcb10d183bcb"
  },
  {
   "cell_type": "code",
   "execution_count": 22,
   "outputs": [],
   "source": [
    "not_null_df = MSP_df[~MSP_df['CLASSYFIRE_CLASS'].isnull()] # NOT NULL"
   ],
   "metadata": {
    "collapsed": false,
    "ExecuteTime": {
     "end_time": "2024-01-30T15:16:33.131966200Z",
     "start_time": "2024-01-30T15:16:33.122926100Z"
    }
   },
   "id": "fad1daab9dcdfbcb"
  },
  {
   "cell_type": "code",
   "outputs": [
    {
     "name": "stdout",
     "output_type": "stream",
     "text": [
      "18730\n"
     ]
    }
   ],
   "source": [
    "print(len(not_null_df))"
   ],
   "metadata": {
    "collapsed": false,
    "ExecuteTime": {
     "end_time": "2024-01-30T15:17:04.277448100Z",
     "start_time": "2024-01-30T15:17:04.266038300Z"
    }
   },
   "id": "45a91560078505eb",
   "execution_count": 24
  },
  {
   "cell_type": "code",
   "execution_count": 23,
   "outputs": [],
   "source": [
    "not_null_df.to_excel(r\"C:\\Users\\Axel\\Documents\\Présentations\\FragBank\\Publication\\Diagrammes\\Sunburst\\MSP_inchikeys_classyfire_not_null.xlsx\", index=False)"
   ],
   "metadata": {
    "collapsed": false,
    "ExecuteTime": {
     "end_time": "2024-01-30T15:16:34.910059800Z",
     "start_time": "2024-01-30T15:16:33.587563200Z"
    }
   },
   "id": "853e79478adffb3d"
  },
  {
   "cell_type": "code",
   "execution_count": null,
   "outputs": [],
   "source": [],
   "metadata": {
    "collapsed": false,
    "ExecuteTime": {
     "start_time": "2024-01-30T15:15:53.870558700Z"
    }
   },
   "id": "186cd1c491582a2c"
  }
 ],
 "metadata": {
  "kernelspec": {
   "display_name": "Python 3",
   "language": "python",
   "name": "python3"
  },
  "language_info": {
   "codemirror_mode": {
    "name": "ipython",
    "version": 2
   },
   "file_extension": ".py",
   "mimetype": "text/x-python",
   "name": "python",
   "nbconvert_exporter": "python",
   "pygments_lexer": "ipython2",
   "version": "2.7.6"
  }
 },
 "nbformat": 4,
 "nbformat_minor": 5
}
