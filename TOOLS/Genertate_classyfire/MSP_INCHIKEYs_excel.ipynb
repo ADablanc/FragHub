{
 "cells": [
  {
   "cell_type": "code",
   "execution_count": null,
   "id": "initial_id",
   "metadata": {
    "collapsed": true
   },
   "outputs": [],
   "source": [
    "import pandas as pd\n",
    "import os"
   ]
  },
  {
   "cell_type": "code",
   "execution_count": null,
   "outputs": [],
   "source": [
    "DF_final = pd.DataFrame()"
   ],
   "metadata": {
    "collapsed": false
   },
   "id": "543664de77725458"
  },
  {
   "cell_type": "markdown",
   "source": [
    "On accède au dossier ou çe situe les CSV de nos DB faite avec FragHub"
   ],
   "metadata": {
    "collapsed": false
   },
   "id": "8fed77ea344743ae"
  },
  {
   "cell_type": "code",
   "execution_count": null,
   "outputs": [],
   "source": [
    "PATH = r\"C:\\Users\\Axel\\Documents\\Présentations\\FragBank\\Publication\\Diagrammes\\FragBank_CLEAN\\DB_Janvier_2024\\CSV\""
   ],
   "metadata": {
    "collapsed": false
   },
   "id": "3f4104559d3307e3"
  },
  {
   "cell_type": "markdown",
   "source": [
    "On concatène tous nos csv en un gros dataframe"
   ],
   "metadata": {
    "collapsed": false
   },
   "id": "8ecdbfce9b08cf9f"
  },
  {
   "cell_type": "code",
   "execution_count": null,
   "outputs": [],
   "source": [
    "for files in os.listdir(PATH):\n",
    "    if files.endswith(\".csv\"):\n",
    "        DF = pd.read_csv(os.path.join(PATH,files), sep=\";\", encoding=\"UTF-8\", usecols=[\"FILENAME\",\"INCHIKEY\"])\n",
    "        DF_final = pd.concat([DF_final, DF], axis=0)"
   ],
   "metadata": {
    "collapsed": false
   },
   "id": "bdfef6cee6aa9f32"
  },
  {
   "cell_type": "markdown",
   "source": [
    "Il faut supprimer les predicted true"
   ],
   "metadata": {
    "collapsed": false
   },
   "id": "479f7b166bca35cf"
  },
  {
   "cell_type": "code",
   "outputs": [],
   "source": [
    "DF_final.drop(DF_final[DF_final['PREDICTED'] == 'true'].index, inplace=True)"
   ],
   "metadata": {
    "collapsed": false
   },
   "id": "6a9b86a497223a33"
  },
  {
   "cell_type": "code",
   "execution_count": null,
   "outputs": [],
   "source": [
    "# Éliminez les doublons du DataFrame final\n",
    "DF_final = DF_final.drop_duplicates(subset='INCHIKEY', keep='first')\n",
    "\n",
    "# Réinitialisez les index après la suppression des doublons\n",
    "DF_final = DF_final.reset_index(drop=True)"
   ],
   "metadata": {
    "collapsed": false
   },
   "id": "b15c6487bd49a8a5"
  },
  {
   "cell_type": "markdown",
   "source": [
    "On conserve l'information de DB_NAME car on voudrait faire un Sunburst par DB après pour voir le recouvrement de chaque DB"
   ],
   "metadata": {
    "collapsed": false
   },
   "id": "d604a118ad900bcd"
  },
  {
   "cell_type": "code",
   "execution_count": null,
   "outputs": [],
   "source": [
    "# Utilisez la méthode rename() avec des expressions régulières\n",
    "DF_final[\"FILENAME\"] = DF_final[\"FILENAME\"].replace(r'.*MSMS_.*', 'MSMS_Public', regex=True)\n",
    "DF_final[\"FILENAME\"] = DF_final[\"FILENAME\"].replace(r'.*MoNA.*', 'MoNA', regex=True)\n",
    "DF_final[\"FILENAME\"] = DF_final[\"FILENAME\"].replace(r'.*XML_.*', 'HMDB', regex=True)\n",
    "DF_final[\"FILENAME\"] = DF_final[\"FILENAME\"].replace(r'.*MassBank.*', 'MassBank', regex=True)\n",
    "DF_final[\"FILENAME\"] = DF_final[\"FILENAME\"].replace(r'.*ALL_GNPS.*', 'GNPS', regex=True)\n",
    "DF_final[\"FILENAME\"] = DF_final[\"FILENAME\"].replace(r'.*HMDB.*', 'HMDB', regex=True)"
   ],
   "metadata": {
    "collapsed": false
   },
   "id": "6800637ad15630b4"
  },
  {
   "cell_type": "code",
   "execution_count": null,
   "outputs": [],
   "source": [
    "DF_final.head()"
   ],
   "metadata": {
    "collapsed": false
   },
   "id": "9fee3abd31c0c360"
  },
  {
   "cell_type": "markdown",
   "source": [
    "On écrit notre fichier, c'est celui-ci que l'on utilise pour add_classyfire_to_msp.ipynb"
   ],
   "metadata": {
    "collapsed": false
   },
   "id": "33143078d64f4990"
  },
  {
   "cell_type": "code",
   "execution_count": null,
   "outputs": [],
   "source": [
    "DF_final.to_excel(os.path.join(PATH,\"ALL_DB_INCHIKEY.xlsx\"), index=False)"
   ],
   "metadata": {
    "collapsed": false
   },
   "id": "cb614a02e3d81f83"
  }
 ],
 "metadata": {
  "kernelspec": {
   "display_name": "Python 3",
   "language": "python",
   "name": "python3"
  },
  "language_info": {
   "codemirror_mode": {
    "name": "ipython",
    "version": 2
   },
   "file_extension": ".py",
   "mimetype": "text/x-python",
   "name": "python",
   "nbconvert_exporter": "python",
   "pygments_lexer": "ipython2",
   "version": "2.7.6"
  }
 },
 "nbformat": 4,
 "nbformat_minor": 5
}
