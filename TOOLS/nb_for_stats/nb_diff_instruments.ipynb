{
 "cells": [
  {
   "cell_type": "code",
   "execution_count": 1,
   "id": "initial_id",
   "metadata": {
    "collapsed": true,
    "ExecuteTime": {
     "end_time": "2024-03-01T12:10:57.448621Z",
     "start_time": "2024-03-01T12:10:56.891901Z"
    }
   },
   "outputs": [],
   "source": [
    "import pandas as pd"
   ]
  },
  {
   "cell_type": "code",
   "outputs": [],
   "source": [
    "dfs = pd.read_excel(r\"../generate_decision_tree/Instrument_tree.xlsx\", sheet_name=None)"
   ],
   "metadata": {
    "collapsed": false,
    "ExecuteTime": {
     "end_time": "2024-03-01T12:10:57.710545Z",
     "start_time": "2024-03-01T12:10:57.449698Z"
    }
   },
   "id": "3b0274217044d98f",
   "execution_count": 2
  },
  {
   "cell_type": "code",
   "outputs": [],
   "source": [
    "unique_models = set()  # un set pour stocker les modèles uniques"
   ],
   "metadata": {
    "collapsed": false,
    "ExecuteTime": {
     "end_time": "2024-03-01T12:10:57.713825Z",
     "start_time": "2024-03-01T12:10:57.710545Z"
    }
   },
   "id": "395d012182b587aa",
   "execution_count": 3
  },
  {
   "cell_type": "code",
   "outputs": [],
   "source": [
    "for sheet_name, df in dfs.items():\n",
    "    # Ajoute les modèles uniques de cette feuille au set\n",
    "    unique_models.update(df['MODELS'].dropna().unique())"
   ],
   "metadata": {
    "collapsed": false,
    "ExecuteTime": {
     "end_time": "2024-03-01T12:10:57.730793Z",
     "start_time": "2024-03-01T12:10:57.715077Z"
    }
   },
   "id": "3f4bdd7a83aae653",
   "execution_count": 4
  },
  {
   "cell_type": "code",
   "outputs": [],
   "source": [
    "# le nombre total de modèles uniques\n",
    "total_unique_models = len(unique_models)"
   ],
   "metadata": {
    "collapsed": false,
    "ExecuteTime": {
     "end_time": "2024-03-01T12:10:57.745204Z",
     "start_time": "2024-03-01T12:10:57.731953Z"
    }
   },
   "id": "891949b5ebfa54c8",
   "execution_count": 5
  },
  {
   "cell_type": "code",
   "outputs": [
    {
     "name": "stdout",
     "output_type": "stream",
     "text": [
      "276\n"
     ]
    }
   ],
   "source": [
    "print(total_unique_models)"
   ],
   "metadata": {
    "collapsed": false,
    "ExecuteTime": {
     "end_time": "2024-03-01T12:10:57.774696Z",
     "start_time": "2024-03-01T12:10:57.746269Z"
    }
   },
   "id": "6e0e7f1b12a0cb48",
   "execution_count": 6
  }
 ],
 "metadata": {
  "kernelspec": {
   "display_name": "Python 3",
   "language": "python",
   "name": "python3"
  },
  "language_info": {
   "codemirror_mode": {
    "name": "ipython",
    "version": 2
   },
   "file_extension": ".py",
   "mimetype": "text/x-python",
   "name": "python",
   "nbconvert_exporter": "python",
   "pygments_lexer": "ipython2",
   "version": "2.7.6"
  }
 },
 "nbformat": 4,
 "nbformat_minor": 5
}
