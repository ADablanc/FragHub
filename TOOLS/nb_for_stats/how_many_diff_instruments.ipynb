{
 "cells": [
  {
   "cell_type": "code",
   "execution_count": 1,
   "id": "initial_id",
   "metadata": {
    "collapsed": true,
    "ExecuteTime": {
     "end_time": "2024-03-05T10:13:25.023963Z",
     "start_time": "2024-03-05T10:13:24.011257Z"
    }
   },
   "outputs": [],
   "source": [
    "import pandas as pd\n",
    "\n",
    "from convertors.convert_to_json import *"
   ]
  },
  {
   "cell_type": "code",
   "outputs": [],
   "source": [
    "global In_Silico_pattern\n",
    "In_Silico_pattern = re.compile(r\"in.silico|insilico|predicted|theoretical|Annotation.level.3\", flags=re.IGNORECASE)"
   ],
   "metadata": {
    "collapsed": false,
    "ExecuteTime": {
     "end_time": "2024-03-05T10:13:25.026892Z",
     "start_time": "2024-03-05T10:13:25.023963Z"
    }
   },
   "id": "f4e1964526c3c938",
   "execution_count": 2
  },
  {
   "cell_type": "code",
   "outputs": [],
   "source": [
    "def in_filename(filename):\n",
    "    \"\"\"\n",
    "    :param filename: The name of the file to be checked for the presence of the string \"MSMS_Public\" and matching a specific pattern.\n",
    "    :return: Returns True if the filename does not contain \"MSMS_Public\" and matches a specific pattern defined by the In_Silico_pattern. Returns False otherwise.\n",
    "\n",
    "    \"\"\"\n",
    "    if \"MSMS_Public\" not in filename:\n",
    "        if re.search(In_Silico_pattern, filename):\n",
    "            return True\n",
    "\n",
    "    return False"
   ],
   "metadata": {
    "collapsed": false,
    "ExecuteTime": {
     "end_time": "2024-03-05T10:13:25.036057Z",
     "start_time": "2024-03-05T10:13:25.027895Z"
    }
   },
   "id": "9f4b700a6c6105ab",
   "execution_count": 3
  },
  {
   "cell_type": "code",
   "outputs": [],
   "source": [
    "def normalize_predicted(metadata_dict):\n",
    "    \"\"\"\n",
    "    Normalize the predicted field in the given metadata dictionary.\n",
    "\n",
    "    :param metadata_dict: A dictionary containing metadata information.\n",
    "    :return: The updated metadata dictionary with the normalized predicted field.\n",
    "    \"\"\"\n",
    "    comment_field = metadata_dict[\"COMMENT\"]\n",
    "    predicted = metadata_dict[\"PREDICTED\"]\n",
    "    filename = metadata_dict[\"FILENAME\"]\n",
    "\n",
    "    if re.search(In_Silico_pattern, comment_field) or predicted == \"true\" or in_filename(filename):\n",
    "        metadata_dict[\"PREDICTED\"] = \"true\"\n",
    "        return metadata_dict\n",
    "    else:\n",
    "        metadata_dict[\"PREDICTED\"] = \"false\"\n",
    "        return metadata_dict"
   ],
   "metadata": {
    "collapsed": false,
    "ExecuteTime": {
     "end_time": "2024-03-05T10:13:25.042812Z",
     "start_time": "2024-03-05T10:13:25.036057Z"
    }
   },
   "id": "b230050e4ad9001c",
   "execution_count": 4
  },
  {
   "cell_type": "code",
   "outputs": [],
   "source": [
    "def convert_keys(dict_list):\n",
    "    \"\"\"\n",
    "    Convert keys in metadata_dict based on the provided keys_dict and keys_list.\n",
    "\n",
    "    :param metadata_dict: A dictionary containing metadata information.\n",
    "    :return: A dictionary with converted keys based on the provided keys_dict and keys_list.\n",
    "    \"\"\"\n",
    "    output = []\n",
    "    for metadata_dict in dict_list:\n",
    "        converted = {keys_dict[key.lower()]: val for key, val in metadata_dict.items() if key.lower() in keys_dict and keys_dict[key.lower()] in keys_list}\n",
    "    \n",
    "        converted.update({key: \"\" for key in keys_list if key not in converted})\n",
    "        output.append(converted)\n",
    "\n",
    "    return output"
   ],
   "metadata": {
    "collapsed": false,
    "ExecuteTime": {
     "end_time": "2024-03-05T10:13:25.050057Z",
     "start_time": "2024-03-05T10:13:25.042812Z"
    }
   },
   "id": "5542af854b0bb09f",
   "execution_count": 5
  },
  {
   "cell_type": "code",
   "outputs": [],
   "source": [
    "original_db_path = r\"D:\\Axel\\DB Janvier 2024\\DB_publi_graphs\\original\""
   ],
   "metadata": {
    "collapsed": false,
    "ExecuteTime": {
     "end_time": "2024-03-05T10:13:25.056143Z",
     "start_time": "2024-03-05T10:13:25.050057Z"
    }
   },
   "id": "50604fd22566915f",
   "execution_count": 6
  },
  {
   "cell_type": "code",
   "outputs": [
    {
     "name": "stdout",
     "output_type": "stream",
     "text": [
      "                                         -- CONVERTING JSON TO JSON --\n"
     ]
    },
    {
     "name": "stderr",
     "output_type": "stream",
     "text": [
      "                                                          Loading file: 3.47GB [00:38, 90.5MB/s]                            226MB/s] \n",
      "                                             converting JSON spectrums: 100%|\u001B[32m██████████\u001B[0m| 217259/217259 [00:54<00:00, 3962.21 spectrums/s] \n"
     ]
    },
    {
     "name": "stdout",
     "output_type": "stream",
     "text": [
      "                                          -- CONVERTING MSP TO JSON --\n"
     ]
    },
    {
     "name": "stderr",
     "output_type": "stream",
     "text": [
      "                                           loading [MassBank_NIST.msp]:   6%|\u001B[32m▌         \u001B[0m| 5.50M/99.8M [00:01<00:30, 3.09MB/s]\n",
      "                                          loading [MassBank_RIKEN.msp]:   4%|\u001B[32m▍         \u001B[0m| 5.19M/120M [00:01<00:40, 2.83MB/s]\n",
      "                     loading [MSMS_Public_ExpBioInsilico_NEG_VS17.msp]:   6%|\u001B[32m▌         \u001B[0m| 3.20M/53.9M [00:01<00:16, 3.04MB/s]\n",
      "                     loading [MSMS_Public_ExpBioInsilico_Pos_VS17.msp]:   6%|\u001B[32m▌         \u001B[0m| 15.3M/272M [00:05<01:30, 2.84MB/s]\n",
      "                                              converting MSP spectrums: 100%|\u001B[32m██████████\u001B[0m| 572810/572810 [01:35<00:00, 6010.65 spectrums/s] \n"
     ]
    },
    {
     "name": "stdout",
     "output_type": "stream",
     "text": [
      "                                          -- CONVERTING MGF TO JSON --\n"
     ]
    },
    {
     "name": "stderr",
     "output_type": "stream",
     "text": [
      "                                            loading [BERKELEY-LAB.mgf]:   5%|\u001B[32m▍         \u001B[0m| 1.49M/32.5M [00:00<00:09, 3.13MB/s]\n",
      "                                               loading [BILELIB19.mgf]:   6%|\u001B[32m▌         \u001B[0m| 2.40M/41.9M [00:00<00:09, 4.22MB/s]\n",
      "                         loading [DEREPLICATOR_IDENTIFIED_LIBRARY.mgf]:   5%|\u001B[32m▌         \u001B[0m| 98.8k/1.92M [00:00<00:00, 3.45MB/s]\n",
      "                                  loading [DRUGS-OF-ABUSE-LIBRARY.mgf]:   4%|\u001B[32m▍         \u001B[0m| 65.6k/1.51M [00:00<00:00, 3.02MB/s]\n",
      "                          loading [ECG-ACYL-AMIDES-C4-C24-LIBRARY.mgf]:   5%|\u001B[32m▌         \u001B[0m| 353k/6.76M [00:00<00:01, 3.29MB/s]\n",
      "                          loading [ECG-ACYL-ESTERS-C4-C24-LIBRARY.mgf]:   5%|\u001B[32m▍         \u001B[0m| 37.7k/774k [00:00<00:00, 3.08MB/s]\n",
      "                                   loading [GNPS-COLLECTIONS-MISC.mgf]:   6%|\u001B[32m▌         \u001B[0m| 6.92k/121k [00:00<00:00, 3.36MB/s]\n",
      "                    loading [GNPS-COLLECTIONS-PESTICIDES-NEGATIVE.mgf]:   4%|\u001B[32m▍         \u001B[0m| 6.47k/152k [00:00<00:00, 2.11MB/s]\n",
      "                    loading [GNPS-COLLECTIONS-PESTICIDES-POSITIVE.mgf]:   6%|\u001B[32m▌         \u001B[0m| 206k/3.75M [00:00<00:00, 3.78MB/s]\n",
      "                             loading [GNPS-D2-AMINO-LIPID-LIBRARY.mgf]:   5%|\u001B[32m▍         \u001B[0m| 7.97k/176k [00:00<00:00, 3.92MB/s]\n",
      "                                           loading [GNPS-EMBL-MCF.mgf]:   5%|\u001B[32m▍         \u001B[0m| 37.8k/790k [00:00<00:00, 3.00MB/s]\n",
      "                                     loading [GNPS-FAULKNERLEGACY.mgf]:   5%|\u001B[32m▌         \u001B[0m| 10.5k/209k [00:00<00:00, 3.35MB/s]\n",
      "                                           loading [GNPS-IOBA-NHC.mgf]:   6%|\u001B[32m▌         \u001B[0m| 67.8k/1.17M [00:00<00:00, 3.76MB/s]\n",
      "                                            loading [GNPS-LIBRARY.mgf]:   5%|\u001B[32m▌         \u001B[0m| 6.71M/123M [00:01<00:26, 4.29MB/s]\n",
      "                                              loading [GNPS-MSMLS.mgf]:   4%|\u001B[32m▍         \u001B[0m| 58.7k/1.32M [00:00<00:00, 2.87MB/s]\n",
      "                            loading [GNPS-NIH-CLINICALCOLLECTION1.mgf]:   6%|\u001B[32m▌         \u001B[0m| 259k/4.40M [00:00<00:01, 3.95MB/s]\n",
      "                            loading [GNPS-NIH-CLINICALCOLLECTION2.mgf]:   6%|\u001B[32m▌         \u001B[0m| 93.8k/1.59M [00:00<00:00, 4.24MB/s]\n",
      "                         loading [GNPS-NIH-NATURALPRODUCTSLIBRARY.mgf]:   6%|\u001B[32m▌         \u001B[0m| 2.31M/39.0M [00:00<00:08, 4.41MB/s]\n",
      "         loading [GNPS-NIH-NATURALPRODUCTSLIBRARY_ROUND2_NEGATIVE.mgf]:   5%|\u001B[32m▍         \u001B[0m| 168k/3.71M [00:00<00:01, 2.98MB/s]\n",
      "         loading [GNPS-NIH-NATURALPRODUCTSLIBRARY_ROUND2_POSITIVE.mgf]:   6%|\u001B[32m▌         \u001B[0m| 2.71M/48.9M [00:00<00:11, 4.09MB/s]\n",
      "           loading [GNPS-NIH-SMALLMOLECULEPHARMACOLOGICALLYACTIVE.mgf]:   6%|\u001B[32m▌         \u001B[0m| 4.18M/69.6M [00:00<00:14, 4.53MB/s]\n",
      "                                     loading [GNPS-NIST14-MATCHES.mgf]:   5%|\u001B[32m▌         \u001B[0m| 1.39M/26.5M [00:00<00:06, 3.84MB/s]\n",
      "                                loading [GNPS-NUTRI-METAB-FEM-NEG.mgf]:   4%|\u001B[32m▍         \u001B[0m| 269k/6.20M [00:00<00:01, 3.20MB/s]\n",
      "                                loading [GNPS-NUTRI-METAB-FEM-POS.mgf]:   4%|\u001B[32m▍         \u001B[0m| 380k/8.78M [00:00<00:02, 3.33MB/s]\n",
      "                                 loading [GNPS-PRESTWICKPHYTOCHEM.mgf]:   6%|\u001B[32m▌         \u001B[0m| 181k/3.04M [00:00<00:00, 4.01MB/s]\n",
      "                        loading [GNPS-SAM-SIK-KANG-LEGACY-LIBRARY.mgf]:   4%|\u001B[32m▍         \u001B[0m| 37.3k/876k [00:00<00:00, 2.87MB/s]\n",
      "                                      loading [GNPS-SCIEX-LIBRARY.mgf]:   5%|\u001B[32m▍         \u001B[0m| 11.9k/252k [00:00<00:00, 2.28MB/s]\n",
      "                              loading [GNPS-SELLECKCHEM-FDA-PART1.mgf]:   5%|\u001B[32m▍         \u001B[0m| 523k/10.7M [00:00<00:02, 3.61MB/s]\n",
      "                              loading [GNPS-SELLECKCHEM-FDA-PART2.mgf]:   6%|\u001B[32m▌         \u001B[0m| 733k/12.4M [00:00<00:02, 4.28MB/s]\n",
      "                                  loading [HCE-CELL-LYSATE-LIPIDS.mgf]:   6%|\u001B[32m▌         \u001B[0m| 35.2k/636k [00:00<00:00, 3.75MB/s]\n",
      "                                                  loading [IQAMDB.mgf]:   4%|\u001B[32m▍         \u001B[0m| 33.1k/759k [00:00<00:00, 3.57MB/s]\n",
      "                                            loading [LDB_NEGATIVE.mgf]:   5%|\u001B[32m▌         \u001B[0m| 1.49M/29.2M [00:00<00:06, 4.24MB/s]\n",
      "                                            loading [LDB_POSITIVE.mgf]:   6%|\u001B[32m▌         \u001B[0m| 1.45M/26.2M [00:00<00:05, 4.37MB/s]\n",
      "                                                 loading [LEAFBOT.mgf]:   4%|\u001B[32m▍         \u001B[0m| 38.7k/899k [00:00<00:00, 2.88MB/s]\n",
      "                                                   loading [MIADB.mgf]:   5%|\u001B[32m▍         \u001B[0m| 303k/6.15M [00:00<00:01, 3.97MB/s]\n",
      "                                            loading [MMV_NEGATIVE.mgf]:   5%|\u001B[32m▌         \u001B[0m| 5.83k/113k [00:00<00:00, 2.83MB/s]\n",
      "                                            loading [MMV_POSITIVE.mgf]:   5%|\u001B[32m▍         \u001B[0m| 38.1k/768k [00:00<00:00, 3.29MB/s]\n",
      "                                                loading [NEO-MSMS.mgf]:   5%|\u001B[32m▍         \u001B[0m| 22.3k/467k [00:00<00:00, 3.58MB/s]\n",
      "                                    loading [PNNL-LIPIDS-NEGATIVE.mgf]:   5%|\u001B[32m▍         \u001B[0m| 1.73M/36.4M [00:00<00:09, 3.66MB/s]\n",
      "                                    loading [PNNL-LIPIDS-POSITIVE.mgf]:   5%|\u001B[32m▍         \u001B[0m| 4.41M/94.7M [00:01<00:24, 3.76MB/s]\n",
      "                                               loading [PSU-MSMLS.mgf]:   6%|\u001B[32m▌         \u001B[0m| 78.8k/1.30M [00:00<00:00, 3.55MB/s]\n",
      "                    loading [TUEBINGEN-NATURAL-PRODUCT-COLLECTION.mgf]:   4%|\u001B[32m▍         \u001B[0m| 95.4k/2.17M [00:00<00:00, 3.07MB/s]\n",
      "                                                 loading [UM-NPDC.mgf]:   5%|\u001B[32m▍         \u001B[0m| 32.8k/701k [00:00<00:00, 3.48MB/s]\n",
      "                                            loading [XANTHONES-DB.mgf]:   6%|\u001B[32m▌         \u001B[0m| 7.28k/131k [00:00<00:00, 3.55MB/s]\n",
      "                                              converting MGF spectrums: 100%|\u001B[32m██████████\u001B[0m| 130051/130051 [01:41<00:00, 1275.97 spectrums/s]\n"
     ]
    }
   ],
   "source": [
    "FINAL_MSP, FINAL_XML, FINAL_CSV, FINAL_JSON, FINAL_MGF = convert_to_json(original_db_path)"
   ],
   "metadata": {
    "collapsed": false,
    "ExecuteTime": {
     "end_time": "2024-03-05T10:18:36.035388Z",
     "start_time": "2024-03-05T10:13:25.056143Z"
    }
   },
   "id": "71603c49e790c88e",
   "execution_count": 7
  },
  {
   "cell_type": "code",
   "outputs": [],
   "source": [
    "FINAL_MSP = convert_keys(FINAL_MSP)"
   ],
   "metadata": {
    "collapsed": false,
    "ExecuteTime": {
     "end_time": "2024-03-05T10:18:40.108753Z",
     "start_time": "2024-03-05T10:18:36.035388Z"
    }
   },
   "id": "1791ba6ee5e25274",
   "execution_count": 8
  },
  {
   "cell_type": "code",
   "outputs": [],
   "source": [
    "FINAL_XML = convert_keys(FINAL_XML)"
   ],
   "metadata": {
    "collapsed": false,
    "ExecuteTime": {
     "end_time": "2024-03-05T10:18:40.111583Z",
     "start_time": "2024-03-05T10:18:40.108753Z"
    }
   },
   "id": "ab4b6bdba3c48e05",
   "execution_count": 9
  },
  {
   "cell_type": "code",
   "outputs": [],
   "source": [
    "FINAL_CSV = convert_keys(FINAL_CSV)"
   ],
   "metadata": {
    "collapsed": false,
    "ExecuteTime": {
     "end_time": "2024-03-05T10:18:40.120209Z",
     "start_time": "2024-03-05T10:18:40.111583Z"
    }
   },
   "id": "a6e2599910bd21b8",
   "execution_count": 10
  },
  {
   "cell_type": "code",
   "outputs": [],
   "source": [
    "FINAL_JSON = convert_keys(FINAL_JSON)"
   ],
   "metadata": {
    "collapsed": false,
    "ExecuteTime": {
     "end_time": "2024-03-05T10:18:41.846380Z",
     "start_time": "2024-03-05T10:18:40.120209Z"
    }
   },
   "id": "e1f2e70dc3527c55",
   "execution_count": 11
  },
  {
   "cell_type": "code",
   "outputs": [],
   "source": [
    "FINAL_MGF = convert_keys(FINAL_MGF)"
   ],
   "metadata": {
    "collapsed": false,
    "ExecuteTime": {
     "end_time": "2024-03-05T10:18:42.725999Z",
     "start_time": "2024-03-05T10:18:41.847383Z"
    }
   },
   "id": "310778e4b7daac1f",
   "execution_count": 12
  },
  {
   "cell_type": "code",
   "outputs": [
    {
     "name": "stdout",
     "output_type": "stream",
     "text": [
      "919852\n"
     ]
    }
   ],
   "source": [
    "print(len(FINAL_MSP)+len(FINAL_XML)+len(FINAL_CSV)+len(FINAL_JSON) + len(FINAL_MGF))"
   ],
   "metadata": {
    "collapsed": false,
    "ExecuteTime": {
     "end_time": "2024-03-05T10:18:42.728890Z",
     "start_time": "2024-03-05T10:18:42.725999Z"
    }
   },
   "id": "a8070f73f4709b22",
   "execution_count": 13
  },
  {
   "cell_type": "code",
   "outputs": [],
   "source": [
    "compteur =  0\n",
    "for i in range(len(FINAL_MSP)):\n",
    "    FINAL_MSP[i][\"PREDICTED\"] = \"\"\n",
    "    FINAL_MSP[i] = normalize_predicted(FINAL_MSP[i])"
   ],
   "metadata": {
    "collapsed": false,
    "ExecuteTime": {
     "end_time": "2024-03-05T10:18:44.423601Z",
     "start_time": "2024-03-05T10:18:42.729893Z"
    }
   },
   "id": "276e03701ffba02d",
   "execution_count": 14
  },
  {
   "cell_type": "code",
   "outputs": [],
   "source": [
    "compteur =  0\n",
    "for i in range(len(FINAL_XML)):\n",
    "    FINAL_XML[i][\"PREDICTED\"] = \"\"\n",
    "    FINAL_XML[i] = normalize_predicted(FINAL_XML[i])"
   ],
   "metadata": {
    "collapsed": false,
    "ExecuteTime": {
     "end_time": "2024-03-05T10:18:44.426343Z",
     "start_time": "2024-03-05T10:18:44.423601Z"
    }
   },
   "id": "1b728cd70b7bb530",
   "execution_count": 15
  },
  {
   "cell_type": "code",
   "outputs": [],
   "source": [
    "compteur =  0\n",
    "for i in range(len(FINAL_CSV)):\n",
    "    FINAL_CSV[i][\"PREDICTED\"] = \"\"\n",
    "    FINAL_CSV[i] = normalize_predicted(FINAL_CSV[i])"
   ],
   "metadata": {
    "collapsed": false,
    "ExecuteTime": {
     "end_time": "2024-03-05T10:18:44.434830Z",
     "start_time": "2024-03-05T10:18:44.426343Z"
    }
   },
   "id": "bc6deb8467232f2c",
   "execution_count": 16
  },
  {
   "cell_type": "code",
   "outputs": [],
   "source": [
    "compteur =  0\n",
    "for i in range(len(FINAL_JSON)):\n",
    "    FINAL_JSON[i][\"PREDICTED\"] = \"\"\n",
    "    FINAL_JSON[i] = normalize_predicted(FINAL_JSON[i])"
   ],
   "metadata": {
    "collapsed": false,
    "ExecuteTime": {
     "end_time": "2024-03-05T10:18:45.057235Z",
     "start_time": "2024-03-05T10:18:44.434953Z"
    }
   },
   "id": "f12fcef0bb1ac133",
   "execution_count": 17
  },
  {
   "cell_type": "code",
   "outputs": [],
   "source": [
    "compteur =  0\n",
    "for i in range(len(FINAL_MGF)):\n",
    "    FINAL_MGF[i][\"PREDICTED\"] = \"\"\n",
    "    FINAL_MGF[i] = normalize_predicted(FINAL_MGF[i])"
   ],
   "metadata": {
    "collapsed": false,
    "ExecuteTime": {
     "end_time": "2024-03-05T10:18:45.377070Z",
     "start_time": "2024-03-05T10:18:45.057235Z"
    }
   },
   "id": "6e8e1e0e4ade58d3",
   "execution_count": 18
  },
  {
   "cell_type": "code",
   "outputs": [],
   "source": [
    "msp_df = pd.DataFrame(FINAL_MSP)\n",
    "del FINAL_MSP"
   ],
   "metadata": {
    "collapsed": false,
    "ExecuteTime": {
     "end_time": "2024-03-05T10:18:46.347491Z",
     "start_time": "2024-03-05T10:18:45.377070Z"
    }
   },
   "id": "38edb53f2f3740d2",
   "execution_count": 19
  },
  {
   "cell_type": "code",
   "outputs": [],
   "source": [
    "xml_df = pd.DataFrame(FINAL_XML)\n",
    "del FINAL_XML"
   ],
   "metadata": {
    "collapsed": false,
    "ExecuteTime": {
     "end_time": "2024-03-05T10:18:46.351117Z",
     "start_time": "2024-03-05T10:18:46.347491Z"
    }
   },
   "id": "9382719c65acaafa",
   "execution_count": 20
  },
  {
   "cell_type": "code",
   "outputs": [],
   "source": [
    "csv_df = pd.DataFrame(FINAL_CSV)\n",
    "del FINAL_CSV"
   ],
   "metadata": {
    "collapsed": false,
    "ExecuteTime": {
     "end_time": "2024-03-05T10:18:46.360808Z",
     "start_time": "2024-03-05T10:18:46.351117Z"
    }
   },
   "id": "425b01e8f142dd38",
   "execution_count": 21
  },
  {
   "cell_type": "code",
   "outputs": [],
   "source": [
    "json_df = pd.DataFrame(FINAL_JSON)\n",
    "del FINAL_JSON"
   ],
   "metadata": {
    "collapsed": false,
    "ExecuteTime": {
     "end_time": "2024-03-05T10:18:46.831001Z",
     "start_time": "2024-03-05T10:18:46.360808Z"
    }
   },
   "id": "906d970ca7785d93",
   "execution_count": 22
  },
  {
   "cell_type": "code",
   "outputs": [],
   "source": [
    "mgf_df = pd.DataFrame(FINAL_MGF)\n",
    "del FINAL_MGF"
   ],
   "metadata": {
    "collapsed": false,
    "ExecuteTime": {
     "end_time": "2024-03-05T10:18:47.044028Z",
     "start_time": "2024-03-05T10:18:46.831001Z"
    }
   },
   "id": "690e230c4d3a0882",
   "execution_count": 23
  },
  {
   "cell_type": "code",
   "outputs": [],
   "source": [
    "DF = pd.concat([msp_df, xml_df, csv_df, json_df, mgf_df])\n",
    "del msp_df, xml_df, csv_df, json_df"
   ],
   "metadata": {
    "collapsed": false,
    "ExecuteTime": {
     "end_time": "2024-03-05T10:18:47.301232Z",
     "start_time": "2024-03-05T10:18:47.044028Z"
    }
   },
   "id": "5479e5d07ef4108",
   "execution_count": 24
  },
  {
   "cell_type": "code",
   "outputs": [
    {
     "name": "stdout",
     "output_type": "stream",
     "text": [
      "Nombre d'instruments' différents : 487\n"
     ]
    }
   ],
   "source": [
    "unique_instruments = DF['INSTRUMENT'].nunique()\n",
    "\n",
    "print(f\"Nombre d'instruments' différents : {unique_instruments}\")"
   ],
   "metadata": {
    "collapsed": false,
    "ExecuteTime": {
     "end_time": "2024-03-05T10:18:47.372676Z",
     "start_time": "2024-03-05T10:18:47.301232Z"
    }
   },
   "id": "c49f8b1cd0b7d3ec",
   "execution_count": 25
  },
  {
   "cell_type": "code",
   "outputs": [],
   "source": [
    "# unique_IONMODE = DF['IONMODE'].nunique()\n",
    "# \n",
    "# print(f\"Nombre de types de formats d'IONMODE différents : {unique_IONMODE}\")"
   ],
   "metadata": {
    "collapsed": false,
    "ExecuteTime": {
     "end_time": "2024-03-05T10:18:47.375252Z",
     "start_time": "2024-03-05T10:18:47.372676Z"
    }
   },
   "id": "a6c056f48410afeb",
   "execution_count": 26
  }
 ],
 "metadata": {
  "kernelspec": {
   "display_name": "Python 3",
   "language": "python",
   "name": "python3"
  },
  "language_info": {
   "codemirror_mode": {
    "name": "ipython",
    "version": 2
   },
   "file_extension": ".py",
   "mimetype": "text/x-python",
   "name": "python",
   "nbconvert_exporter": "python",
   "pygments_lexer": "ipython2",
   "version": "2.7.6"
  }
 },
 "nbformat": 4,
 "nbformat_minor": 5
}
