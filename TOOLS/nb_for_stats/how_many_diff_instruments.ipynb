{
 "cells": [
  {
   "cell_type": "code",
   "execution_count": null,
   "id": "initial_id",
   "metadata": {
    "collapsed": true
   },
   "outputs": [],
   "source": [
    "import pandas as pd\n",
    "\n",
    "from convertors.convert_to_json import *"
   ]
  },
  {
   "cell_type": "code",
   "outputs": [],
   "source": [
    "global In_Silico_pattern\n",
    "In_Silico_pattern = re.compile(r\"in.silico|insilico|predicted|theoretical|Annotation.level.3\", flags=re.IGNORECASE)"
   ],
   "metadata": {
    "collapsed": false
   },
   "id": "f4e1964526c3c938",
   "execution_count": null
  },
  {
   "cell_type": "code",
   "outputs": [],
   "source": [
    "def in_filename(filename):\n",
    "    \"\"\"\n",
    "    :param filename: The name of the file to be checked for the presence of the string \"MSMS_Public\" and matching a specific pattern.\n",
    "    :return: Returns True if the filename does not contain \"MSMS_Public\" and matches a specific pattern defined by the In_Silico_pattern. Returns False otherwise.\n",
    "\n",
    "    \"\"\"\n",
    "    if \"MSMS_Public\" not in filename:\n",
    "        if re.search(In_Silico_pattern, filename):\n",
    "            return True\n",
    "\n",
    "    return False"
   ],
   "metadata": {
    "collapsed": false
   },
   "id": "9f4b700a6c6105ab",
   "execution_count": null
  },
  {
   "cell_type": "code",
   "outputs": [],
   "source": [
    "def normalize_predicted(metadata_dict):\n",
    "    \"\"\"\n",
    "    Normalize the predicted field in the given metadata dictionary.\n",
    "\n",
    "    :param metadata_dict: A dictionary containing metadata information.\n",
    "    :return: The updated metadata dictionary with the normalized predicted field.\n",
    "    \"\"\"\n",
    "    comment_field = metadata_dict[\"COMMENT\"]\n",
    "    predicted = metadata_dict[\"PREDICTED\"]\n",
    "    filename = metadata_dict[\"FILENAME\"]\n",
    "\n",
    "    if re.search(In_Silico_pattern, comment_field) or predicted == \"true\" or in_filename(filename):\n",
    "        metadata_dict[\"PREDICTED\"] = \"true\"\n",
    "        return metadata_dict\n",
    "    else:\n",
    "        metadata_dict[\"PREDICTED\"] = \"false\"\n",
    "        return metadata_dict"
   ],
   "metadata": {
    "collapsed": false
   },
   "id": "b230050e4ad9001c",
   "execution_count": null
  },
  {
   "cell_type": "code",
   "outputs": [],
   "source": [
    "def convert_keys(dict_list):\n",
    "    \"\"\"\n",
    "    Convert keys in metadata_dict based on the provided keys_dict and keys_list.\n",
    "\n",
    "    :param metadata_dict: A dictionary containing metadata information.\n",
    "    :return: A dictionary with converted keys based on the provided keys_dict and keys_list.\n",
    "    \"\"\"\n",
    "    output = []\n",
    "    for metadata_dict in dict_list:\n",
    "        converted = {keys_dict[key.lower()]: val for key, val in metadata_dict.items() if key.lower() in keys_dict and keys_dict[key.lower()] in keys_list}\n",
    "    \n",
    "        converted.update({key: \"\" for key in keys_list if key not in converted})\n",
    "        output.append(converted)\n",
    "\n",
    "    return output"
   ],
   "metadata": {
    "collapsed": false
   },
   "id": "5542af854b0bb09f",
   "execution_count": null
  },
  {
   "cell_type": "code",
   "outputs": [],
   "source": [
    "original_db_path = r\"C:\\Users\\Axel\\Documents\\MSP_DB\\db_publi_csv\""
   ],
   "metadata": {
    "collapsed": false
   },
   "id": "50604fd22566915f",
   "execution_count": null
  },
  {
   "cell_type": "code",
   "outputs": [],
   "source": [
    "FINAL_MSP, FINAL_XML, FINAL_CSV, FINAL_JSON, FINAL_MGF = convert_to_json(original_db_path)"
   ],
   "metadata": {
    "collapsed": false
   },
   "id": "71603c49e790c88e",
   "execution_count": null
  },
  {
   "cell_type": "code",
   "outputs": [],
   "source": [
    "FINAL_MSP = convert_keys(FINAL_MSP)"
   ],
   "metadata": {
    "collapsed": false
   },
   "id": "1791ba6ee5e25274",
   "execution_count": null
  },
  {
   "cell_type": "code",
   "outputs": [],
   "source": [
    "FINAL_XML = convert_keys(FINAL_XML)"
   ],
   "metadata": {
    "collapsed": false
   },
   "id": "ab4b6bdba3c48e05",
   "execution_count": null
  },
  {
   "cell_type": "code",
   "outputs": [],
   "source": [
    "FINAL_CSV = convert_keys(FINAL_CSV)"
   ],
   "metadata": {
    "collapsed": false
   },
   "id": "a6e2599910bd21b8",
   "execution_count": null
  },
  {
   "cell_type": "code",
   "outputs": [],
   "source": [
    "FINAL_JSON = convert_keys(FINAL_JSON)"
   ],
   "metadata": {
    "collapsed": false
   },
   "id": "e1f2e70dc3527c55",
   "execution_count": null
  },
  {
   "cell_type": "code",
   "outputs": [],
   "source": [
    "FINAL_MGF = convert_keys(FINAL_MGF)"
   ],
   "metadata": {
    "collapsed": false
   },
   "id": "310778e4b7daac1f",
   "execution_count": null
  },
  {
   "cell_type": "code",
   "outputs": [],
   "source": [
    "print(len(FINAL_MSP)+len(FINAL_XML)+len(FINAL_CSV)+len(FINAL_JSON) + len(FINAL_MGF))"
   ],
   "metadata": {
    "collapsed": false
   },
   "id": "a8070f73f4709b22",
   "execution_count": null
  },
  {
   "cell_type": "code",
   "outputs": [],
   "source": [
    "compteur =  0\n",
    "for i in range(len(FINAL_MSP)):\n",
    "    FINAL_MSP[i][\"PREDICTED\"] = \"\"\n",
    "    FINAL_MSP[i] = normalize_predicted(FINAL_MSP[i])"
   ],
   "metadata": {
    "collapsed": false
   },
   "id": "276e03701ffba02d",
   "execution_count": null
  },
  {
   "cell_type": "code",
   "outputs": [],
   "source": [
    "compteur =  0\n",
    "for i in range(len(FINAL_XML)):\n",
    "    FINAL_XML[i][\"PREDICTED\"] = \"\"\n",
    "    FINAL_XML[i] = normalize_predicted(FINAL_XML[i])"
   ],
   "metadata": {
    "collapsed": false
   },
   "id": "1b728cd70b7bb530",
   "execution_count": null
  },
  {
   "cell_type": "code",
   "outputs": [],
   "source": [
    "compteur =  0\n",
    "for i in range(len(FINAL_CSV)):\n",
    "    FINAL_CSV[i][\"PREDICTED\"] = \"\"\n",
    "    FINAL_CSV[i] = normalize_predicted(FINAL_CSV[i])"
   ],
   "metadata": {
    "collapsed": false
   },
   "id": "bc6deb8467232f2c",
   "execution_count": null
  },
  {
   "cell_type": "code",
   "outputs": [],
   "source": [
    "compteur =  0\n",
    "for i in range(len(FINAL_JSON)):\n",
    "    FINAL_JSON[i][\"PREDICTED\"] = \"\"\n",
    "    FINAL_JSON[i] = normalize_predicted(FINAL_JSON[i])"
   ],
   "metadata": {
    "collapsed": false
   },
   "id": "f12fcef0bb1ac133",
   "execution_count": null
  },
  {
   "cell_type": "code",
   "outputs": [],
   "source": [
    "compteur =  0\n",
    "for i in range(len(FINAL_MGF)):\n",
    "    FINAL_MGF[i][\"PREDICTED\"] = \"\"\n",
    "    FINAL_MGF[i] = normalize_predicted(FINAL_MGF[i])"
   ],
   "metadata": {
    "collapsed": false
   },
   "id": "6e8e1e0e4ade58d3",
   "execution_count": null
  },
  {
   "cell_type": "code",
   "outputs": [],
   "source": [
    "msp_df = pd.DataFrame(FINAL_MSP)\n",
    "del FINAL_MSP"
   ],
   "metadata": {
    "collapsed": false
   },
   "id": "38edb53f2f3740d2",
   "execution_count": null
  },
  {
   "cell_type": "code",
   "outputs": [],
   "source": [
    "xml_df = pd.DataFrame(FINAL_XML)\n",
    "del FINAL_XML"
   ],
   "metadata": {
    "collapsed": false
   },
   "id": "9382719c65acaafa",
   "execution_count": null
  },
  {
   "cell_type": "code",
   "outputs": [],
   "source": [
    "csv_df = pd.DataFrame(FINAL_CSV)\n",
    "del FINAL_CSV"
   ],
   "metadata": {
    "collapsed": false
   },
   "id": "425b01e8f142dd38",
   "execution_count": null
  },
  {
   "cell_type": "code",
   "outputs": [],
   "source": [
    "json_df = pd.DataFrame(FINAL_JSON)\n",
    "del FINAL_JSON"
   ],
   "metadata": {
    "collapsed": false
   },
   "id": "906d970ca7785d93",
   "execution_count": null
  },
  {
   "cell_type": "code",
   "outputs": [],
   "source": [
    "mgf_df = pd.DataFrame(FINAL_MGF)\n",
    "del FINAL_MGF"
   ],
   "metadata": {
    "collapsed": false
   },
   "id": "690e230c4d3a0882",
   "execution_count": null
  },
  {
   "cell_type": "code",
   "outputs": [],
   "source": [
    "DF = pd.concat([msp_df, xml_df, csv_df, json_df, mgf_df])\n",
    "del msp_df, xml_df, csv_df, json_df"
   ],
   "metadata": {
    "collapsed": false
   },
   "id": "5479e5d07ef4108",
   "execution_count": null
  },
  {
   "cell_type": "code",
   "outputs": [],
   "source": [
    "unique_precursor_types = DF['PRECURSORTYPE'].nunique()\n",
    "\n",
    "print(f\"Nombre de types de formats d'adduits différents : {unique_precursor_types}\")"
   ],
   "metadata": {
    "collapsed": false
   },
   "id": "c49f8b1cd0b7d3ec",
   "execution_count": null
  },
  {
   "cell_type": "code",
   "outputs": [],
   "source": [
    "unique_IONMODE = DF['IONMODE'].nunique()\n",
    "\n",
    "print(f\"Nombre de types de formats d'IONMODE différents : {unique_IONMODE}\")"
   ],
   "metadata": {
    "collapsed": false
   },
   "id": "a6c056f48410afeb",
   "execution_count": null
  }
 ],
 "metadata": {
  "kernelspec": {
   "display_name": "Python 3",
   "language": "python",
   "name": "python3"
  },
  "language_info": {
   "codemirror_mode": {
    "name": "ipython",
    "version": 2
   },
   "file_extension": ".py",
   "mimetype": "text/x-python",
   "name": "python",
   "nbconvert_exporter": "python",
   "pygments_lexer": "ipython2",
   "version": "2.7.6"
  }
 },
 "nbformat": 4,
 "nbformat_minor": 5
}
