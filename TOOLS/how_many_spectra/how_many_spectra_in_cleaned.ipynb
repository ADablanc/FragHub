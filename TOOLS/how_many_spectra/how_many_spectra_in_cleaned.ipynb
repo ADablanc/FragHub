{
 "cells": [
  {
   "cell_type": "code",
   "execution_count": 8,
   "id": "initial_id",
   "metadata": {
    "collapsed": true,
    "ExecuteTime": {
     "end_time": "2024-03-20T09:03:48.245443Z",
     "start_time": "2024-03-20T09:03:48.242069Z"
    }
   },
   "outputs": [],
   "source": [
    "import pandas as pd\n",
    "import os"
   ]
  },
  {
   "cell_type": "code",
   "outputs": [],
   "source": [
    "DF = pd.DataFrame()"
   ],
   "metadata": {
    "collapsed": false,
    "ExecuteTime": {
     "end_time": "2024-03-20T09:03:48.341132Z",
     "start_time": "2024-03-20T09:03:48.256134Z"
    }
   },
   "id": "68086f3e2ae196c8",
   "execution_count": 9
  },
  {
   "cell_type": "code",
   "outputs": [
    {
     "name": "stderr",
     "output_type": "stream",
     "text": [
      "C:\\Users\\Axel\\AppData\\Local\\Temp\\ipykernel_15032\\2135820453.py:5: DtypeWarning: Columns (5,7,13,19,23) have mixed types. Specify dtype option on import or set low_memory=False.\n",
      "  df = pd.read_csv(path, sep=\";\", encoding=\"UTF-8\")\n",
      "C:\\Users\\Axel\\AppData\\Local\\Temp\\ipykernel_15032\\2135820453.py:5: DtypeWarning: Columns (3,5,7,13,19,23) have mixed types. Specify dtype option on import or set low_memory=False.\n",
      "  df = pd.read_csv(path, sep=\";\", encoding=\"UTF-8\")\n"
     ]
    }
   ],
   "source": [
    "for files in os.listdir(r\"C:\\Users\\Axel\\Documents\\MSP_DB\\db_publi_csv\"):\n",
    "    if files.endswith(\".csv\"):\n",
    "        path = os.path.join(r\"C:\\Users\\Axel\\Documents\\MSP_DB\\db_publi_csv\", files)\n",
    "        \n",
    "        df = pd.read_csv(path, sep=\";\", encoding=\"UTF-8\")\n",
    "        \n",
    "        DF = pd.concat([DF, df], ignore_index=True)"
   ],
   "metadata": {
    "collapsed": false,
    "ExecuteTime": {
     "end_time": "2024-03-20T09:03:55.522258Z",
     "start_time": "2024-03-20T09:03:48.342350Z"
    }
   },
   "id": "f2ebc65b40781f42",
   "execution_count": 10
  },
  {
   "cell_type": "code",
   "outputs": [
    {
     "name": "stdout",
     "output_type": "stream",
     "text": [
      "491582\n"
     ]
    }
   ],
   "source": [
    "print(len(DF))"
   ],
   "metadata": {
    "collapsed": false,
    "ExecuteTime": {
     "end_time": "2024-03-20T09:03:55.526282Z",
     "start_time": "2024-03-20T09:03:55.523330Z"
    }
   },
   "id": "18fc60a67180698a",
   "execution_count": 11
  },
  {
   "cell_type": "code",
   "outputs": [
    {
     "name": "stdout",
     "output_type": "stream",
     "text": [
      "37185\n"
     ]
    }
   ],
   "source": [
    "print(len(DF['INCHI'].unique()))"
   ],
   "metadata": {
    "collapsed": false,
    "ExecuteTime": {
     "end_time": "2024-03-20T09:03:55.658961Z",
     "start_time": "2024-03-20T09:03:55.527365Z"
    }
   },
   "id": "90b9b194b8d35301",
   "execution_count": 12
  }
 ],
 "metadata": {
  "kernelspec": {
   "display_name": "Python 3",
   "language": "python",
   "name": "python3"
  },
  "language_info": {
   "codemirror_mode": {
    "name": "ipython",
    "version": 2
   },
   "file_extension": ".py",
   "mimetype": "text/x-python",
   "name": "python",
   "nbconvert_exporter": "python",
   "pygments_lexer": "ipython2",
   "version": "2.7.6"
  }
 },
 "nbformat": 4,
 "nbformat_minor": 5
}
