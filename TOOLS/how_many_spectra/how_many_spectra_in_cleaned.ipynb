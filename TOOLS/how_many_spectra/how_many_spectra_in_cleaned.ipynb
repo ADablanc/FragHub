{
 "cells": [
  {
   "cell_type": "code",
   "execution_count": 1,
   "id": "initial_id",
   "metadata": {
    "collapsed": true,
    "ExecuteTime": {
     "end_time": "2024-03-20T10:21:48.073977Z",
     "start_time": "2024-03-20T10:21:47.644564Z"
    }
   },
   "outputs": [],
   "source": [
    "import pandas as pd\n",
    "import os"
   ]
  },
  {
   "cell_type": "code",
   "outputs": [],
   "source": [
    "DF = pd.DataFrame()"
   ],
   "metadata": {
    "collapsed": false,
    "ExecuteTime": {
     "end_time": "2024-03-20T10:21:48.077859Z",
     "start_time": "2024-03-20T10:21:48.075043Z"
    }
   },
   "id": "68086f3e2ae196c8",
   "execution_count": 2
  },
  {
   "cell_type": "code",
   "outputs": [
    {
     "name": "stderr",
     "output_type": "stream",
     "text": [
      "C:\\Users\\Axel\\AppData\\Local\\Temp\\ipykernel_25584\\2135820453.py:5: DtypeWarning: Columns (5,7,13,19,23) have mixed types. Specify dtype option on import or set low_memory=False.\n",
      "  df = pd.read_csv(path, sep=\";\", encoding=\"UTF-8\")\n",
      "C:\\Users\\Axel\\AppData\\Local\\Temp\\ipykernel_25584\\2135820453.py:5: DtypeWarning: Columns (3,5,7,13,19,23) have mixed types. Specify dtype option on import or set low_memory=False.\n",
      "  df = pd.read_csv(path, sep=\";\", encoding=\"UTF-8\")\n"
     ]
    }
   ],
   "source": [
    "for files in os.listdir(r\"C:\\Users\\Axel\\Documents\\MSP_DB\\db_publi_csv\"):\n",
    "    if files.endswith(\".csv\"):\n",
    "        path = os.path.join(r\"C:\\Users\\Axel\\Documents\\MSP_DB\\db_publi_csv\", files)\n",
    "        \n",
    "        df = pd.read_csv(path, sep=\";\", encoding=\"UTF-8\")\n",
    "        \n",
    "        DF = pd.concat([DF, df], ignore_index=True)"
   ],
   "metadata": {
    "collapsed": false,
    "ExecuteTime": {
     "end_time": "2024-03-20T10:21:55.326219Z",
     "start_time": "2024-03-20T10:21:48.078864Z"
    }
   },
   "id": "f2ebc65b40781f42",
   "execution_count": 3
  },
  {
   "cell_type": "code",
   "outputs": [
    {
     "name": "stdout",
     "output_type": "stream",
     "text": [
      "491582\n"
     ]
    }
   ],
   "source": [
    "print(len(DF))"
   ],
   "metadata": {
    "collapsed": false,
    "ExecuteTime": {
     "end_time": "2024-03-20T10:21:55.330861Z",
     "start_time": "2024-03-20T10:21:55.327336Z"
    }
   },
   "id": "18fc60a67180698a",
   "execution_count": 4
  },
  {
   "cell_type": "code",
   "outputs": [
    {
     "name": "stdout",
     "output_type": "stream",
     "text": [
      "31074\n"
     ]
    }
   ],
   "source": [
    "# Création d'une colonne 'Short_InChIKey' pour stocker les versions courtes des InChIKeys\n",
    "DF['Short_InChIKey'] = DF['INCHIKEY'].str[:14]  # Vous pouvez ajuster la longueur selon vos besoins\n",
    "\n",
    "# Obtenir les InChIKeys courts uniques\n",
    "unique_short_inchikeys = DF['Short_InChIKey'].drop_duplicates()\n",
    "\n",
    "# Compter le nombre d'InChIKeys courts uniques\n",
    "nombre_inchikeys_courts_uniques = len(unique_short_inchikeys)\n",
    "\n",
    "print(nombre_inchikeys_courts_uniques)"
   ],
   "metadata": {
    "collapsed": false,
    "ExecuteTime": {
     "end_time": "2024-03-20T10:21:55.420092Z",
     "start_time": "2024-03-20T10:21:55.331986Z"
    }
   },
   "id": "90b9b194b8d35301",
   "execution_count": 5
  },
  {
   "cell_type": "markdown",
   "source": [
    "on reguarde pour GNPS"
   ],
   "metadata": {
    "collapsed": false
   },
   "id": "ced9d3e24387c0d0"
  },
  {
   "cell_type": "code",
   "outputs": [],
   "source": [
    "gnps_df = pd.read_csv(r\"C:\\Users\\Axel\\Documents\\PYTHON\\FragHub\\TOOLS\\Generate_csv_from_original_files\\output\\mgf_df.csv\", sep=\";\", encoding=\"UTF-8\")"
   ],
   "metadata": {
    "collapsed": false,
    "ExecuteTime": {
     "end_time": "2024-03-20T10:41:28.777730Z",
     "start_time": "2024-03-20T10:41:24.429253Z"
    }
   },
   "id": "2c3ce59526dda534",
   "execution_count": 6
  },
  {
   "cell_type": "code",
   "outputs": [
    {
     "name": "stdout",
     "output_type": "stream",
     "text": [
      "13508\n"
     ]
    }
   ],
   "source": [
    "# Création d'une colonne 'Short_InChIKey' pour stocker les versions courtes des InChIKeys\n",
    "gnps_df['Short_InChIKey'] = gnps_df['INCHIKEY'].str[:14]  # Vous pouvez ajuster la longueur selon vos besoins\n",
    "\n",
    "# Obtenir les InChIKeys courts uniques\n",
    "unique_short_inchikeys = gnps_df['Short_InChIKey'].drop_duplicates()\n",
    "\n",
    "# Compter le nombre d'InChIKeys courts uniques\n",
    "nombre_inchikeys_courts_uniques = len(unique_short_inchikeys)\n",
    "\n",
    "print(nombre_inchikeys_courts_uniques)"
   ],
   "metadata": {
    "collapsed": false,
    "ExecuteTime": {
     "end_time": "2024-03-20T10:41:28.800842Z",
     "start_time": "2024-03-20T10:41:28.778826Z"
    }
   },
   "id": "f98086773f8ca87b",
   "execution_count": 7
  },
  {
   "cell_type": "code",
   "outputs": [],
   "source": [],
   "metadata": {
    "collapsed": false
   },
   "id": "3401150f3e0a4c51"
  }
 ],
 "metadata": {
  "kernelspec": {
   "display_name": "Python 3",
   "language": "python",
   "name": "python3"
  },
  "language_info": {
   "codemirror_mode": {
    "name": "ipython",
    "version": 2
   },
   "file_extension": ".py",
   "mimetype": "text/x-python",
   "name": "python",
   "nbconvert_exporter": "python",
   "pygments_lexer": "ipython2",
   "version": "2.7.6"
  }
 },
 "nbformat": 4,
 "nbformat_minor": 5
}
