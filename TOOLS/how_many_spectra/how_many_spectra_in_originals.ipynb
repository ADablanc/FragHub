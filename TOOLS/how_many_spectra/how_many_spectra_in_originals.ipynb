{
 "cells": [
  {
   "cell_type": "code",
   "execution_count": 7,
   "id": "initial_id",
   "metadata": {
    "collapsed": true,
    "ExecuteTime": {
     "end_time": "2024-03-20T09:09:52.943622Z",
     "start_time": "2024-03-20T09:09:52.940277Z"
    }
   },
   "outputs": [],
   "source": [
    "from convertors.convert_to_json import *"
   ]
  },
  {
   "cell_type": "code",
   "outputs": [],
   "source": [
    "global In_Silico_pattern\n",
    "In_Silico_pattern = re.compile(r\"in.silico|insilico|predicted|theoretical|Annotation.level.3\", flags=re.IGNORECASE)\n",
    "\n",
    "def in_filename(filename):\n",
    "    \"\"\"\n",
    "    :param filename: The name of the file to be checked for the presence of the string \"MSMS_Public\" and matching a specific pattern.\n",
    "    :return: Returns True if the filename does not contain \"MSMS_Public\" and matches a specific pattern defined by the In_Silico_pattern. Returns False otherwise.\n",
    "\n",
    "    \"\"\"\n",
    "    if \"MSMS_Public\" not in filename:\n",
    "        if re.search(In_Silico_pattern, filename):\n",
    "            return True\n",
    "\n",
    "    return False\n",
    "\n",
    "def normalize_predicted(metadata_dict):\n",
    "    \"\"\"\n",
    "    Normalize the predicted field in the given metadata dictionary.\n",
    "\n",
    "    :param metadata_dict: A dictionary containing metadata information.\n",
    "    :return: The updated metadata dictionary with the normalized predicted field.\n",
    "    \"\"\"\n",
    "    comment_field = metadata_dict[\"COMMENT\"]\n",
    "    predicted = metadata_dict[\"PREDICTED\"]\n",
    "    filename = metadata_dict[\"FILENAME\"]\n",
    "\n",
    "    if re.search(In_Silico_pattern, comment_field) or predicted == \"true\" or in_filename(filename):\n",
    "        metadata_dict[\"PREDICTED\"] = \"true\"\n",
    "        return metadata_dict\n",
    "    else:\n",
    "        metadata_dict[\"PREDICTED\"] = \"false\"\n",
    "        return metadata_dict"
   ],
   "metadata": {
    "collapsed": false
   },
   "id": "7ad0c8153dc00ea6"
  },
  {
   "cell_type": "code",
   "outputs": [],
   "source": [
    "def convert_keys(dict_list):\n",
    "    \"\"\"\n",
    "    Convert keys in metadata_dict based on the provided keys_dict and keys_list.\n",
    "\n",
    "    :param metadata_dict: A dictionary containing metadata information.\n",
    "    :return: A dictionary with converted keys based on the provided keys_dict and keys_list.\n",
    "    \"\"\"\n",
    "    output = []\n",
    "    for metadata_dict in dict_list:\n",
    "        converted = {keys_dict[key.lower()]: val for key, val in metadata_dict.items() if key.lower() in keys_dict and keys_dict[key.lower()] in keys_list}\n",
    "    \n",
    "        converted.update({key: \"\" for key in keys_list if key not in converted})\n",
    "        output.append(converted)\n",
    "\n",
    "    return output"
   ],
   "metadata": {
    "collapsed": false,
    "ExecuteTime": {
     "end_time": "2024-03-20T09:09:52.958568Z",
     "start_time": "2024-03-20T09:09:52.949480Z"
    }
   },
   "id": "ea5c463057239771",
   "execution_count": 8
  },
  {
   "cell_type": "code",
   "outputs": [],
   "source": [
    "original_db_path = r\"C:\\Users\\Axel\\Documents\\PYTHON\\FragHub\\INPUT\""
   ],
   "metadata": {
    "collapsed": false,
    "ExecuteTime": {
     "end_time": "2024-03-20T09:09:52.972983Z",
     "start_time": "2024-03-20T09:09:52.960613Z"
    }
   },
   "id": "dc248d38da09f8e",
   "execution_count": 9
  },
  {
   "cell_type": "code",
   "outputs": [
    {
     "name": "stdout",
     "output_type": "stream",
     "text": [
      "                                         -- CONVERTING JSON TO JSON --\n"
     ]
    },
    {
     "name": "stderr",
     "output_type": "stream",
     "text": [
      "                                                          Loading file:  34%|\u001B[32m███▍      \u001B[0m| 1.12G/3.27G [00:12<00:29, 71.6MB/s]\n",
      "KeyboardInterrupt\n",
      "\n"
     ]
    }
   ],
   "source": [
    "FINAL_MSP, FINAL_XML, FINAL_CSV, FINAL_JSON, FINAL_MGF = convert_to_json(original_db_path)"
   ],
   "metadata": {
    "collapsed": false,
    "ExecuteTime": {
     "end_time": "2024-03-20T09:10:05.612267Z",
     "start_time": "2024-03-20T09:09:52.975077Z"
    }
   },
   "id": "3f3b4be656367619",
   "execution_count": 10
  },
  {
   "cell_type": "code",
   "outputs": [],
   "source": [
    "FINAL_MSP = convert_keys(FINAL_MSP)\n",
    "FINAL_XML = convert_keys(FINAL_XML)\n",
    "FINAL_CSV = convert_keys(FINAL_CSV)\n",
    "FINAL_JSON = convert_keys(FINAL_JSON)\n",
    "FINAL_MGF = convert_keys(FINAL_MGF)"
   ],
   "metadata": {
    "collapsed": false,
    "ExecuteTime": {
     "end_time": "2024-03-20T09:10:05.613284Z",
     "start_time": "2024-03-20T09:10:05.613284Z"
    }
   },
   "id": "e2eff07c4ccb99b3",
   "execution_count": null
  },
  {
   "cell_type": "code",
   "outputs": [],
   "source": [
    "print(len(FINAL_MSP)+len(FINAL_XML)+len(FINAL_CSV)+len(FINAL_JSON) + len(FINAL_MGF))"
   ],
   "metadata": {
    "collapsed": false,
    "ExecuteTime": {
     "start_time": "2024-03-20T09:10:05.613284Z"
    }
   },
   "id": "b891776802ddbac6",
   "execution_count": null
  },
  {
   "cell_type": "code",
   "outputs": [],
   "source": [
    "compteur = 0\n",
    "for i in range(len(FINAL_MSP)):\n",
    "    FINAL_MSP[i][\"PREDICTED\"] = \"\"\n",
    "    FINAL_MSP[i] = normalize_predicted(FINAL_MSP[i])\n",
    "compteur = 0\n",
    "for i in range(len(FINAL_XML)):\n",
    "    FINAL_XML[i][\"PREDICTED\"] = \"\"\n",
    "    FINAL_XML[i] = normalize_predicted(FINAL_XML[i])\n",
    "compteur = 0\n",
    "for i in range(len(FINAL_CSV)):\n",
    "    FINAL_CSV[i][\"PREDICTED\"] = \"\"\n",
    "    FINAL_CSV[i] = normalize_predicted(FINAL_CSV[i])\n",
    "compteur = 0\n",
    "for i in range(len(FINAL_JSON)):\n",
    "    FINAL_JSON[i][\"PREDICTED\"] = \"\"\n",
    "    FINAL_JSON[i] = normalize_predicted(FINAL_JSON[i])\n",
    "compteur = 0\n",
    "for i in range(len(FINAL_MGF)):\n",
    "    FINAL_MGF[i][\"PREDICTED\"] = \"\"\n",
    "    FINAL_MGF[i] = normalize_predicted(FINAL_MGF[i])"
   ],
   "metadata": {
    "collapsed": false,
    "ExecuteTime": {
     "end_time": "2024-03-20T09:10:05.614321Z",
     "start_time": "2024-03-20T09:10:05.614321Z"
    }
   },
   "id": "11c031de89ed551a",
   "execution_count": null
  },
  {
   "cell_type": "code",
   "outputs": [],
   "source": [
    "msp_df = pd.DataFrame(FINAL_MSP)\n",
    "del FINAL_MSP\n",
    "xml_df = pd.DataFrame(FINAL_XML)\n",
    "del FINAL_XML\n",
    "csv_df = pd.DataFrame(FINAL_CSV)\n",
    "del FINAL_CSV\n",
    "json_df = pd.DataFrame(FINAL_JSON)\n",
    "del FINAL_JSON\n",
    "mgf_df = pd.DataFrame(FINAL_MGF)\n",
    "del FINAL_MGF\n",
    "DF = pd.concat([msp_df, xml_df, csv_df, json_df, mgf_df])\n",
    "del msp_df, xml_df, csv_df, json_df"
   ],
   "metadata": {
    "collapsed": false
   },
   "id": "9653abd53f8ab3de"
  },
  {
   "cell_type": "code",
   "outputs": [],
   "source": [],
   "metadata": {
    "collapsed": false
   },
   "id": "e8d3a01c331a661"
  }
 ],
 "metadata": {
  "kernelspec": {
   "display_name": "Python 3",
   "language": "python",
   "name": "python3"
  },
  "language_info": {
   "codemirror_mode": {
    "name": "ipython",
    "version": 2
   },
   "file_extension": ".py",
   "mimetype": "text/x-python",
   "name": "python",
   "nbconvert_exporter": "python",
   "pygments_lexer": "ipython2",
   "version": "2.7.6"
  }
 },
 "nbformat": 4,
 "nbformat_minor": 5
}
