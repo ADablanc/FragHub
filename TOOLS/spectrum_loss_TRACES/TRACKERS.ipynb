{
 "cells": [
  {
   "cell_type": "code",
   "id": "initial_id",
   "metadata": {
    "collapsed": true,
    "ExecuteTime": {
     "end_time": "2024-04-19T08:25:27.097884Z",
     "start_time": "2024-04-19T08:25:27.094859Z"
    }
   },
   "source": [
    "import pandas as pd\n",
    "import re"
   ],
   "outputs": [],
   "execution_count": 7
  },
  {
   "metadata": {
    "ExecuteTime": {
     "end_time": "2024-04-19T08:25:27.123683Z",
     "start_time": "2024-04-19T08:25:27.099122Z"
    }
   },
   "cell_type": "code",
   "source": "pattern = re.compile('in.silico|insilico|predicted|theoretical|Annotation.level.3', re.IGNORECASE)",
   "id": "c8c8c57e842d2da1",
   "outputs": [],
   "execution_count": 8
  },
  {
   "metadata": {
    "ExecuteTime": {
     "end_time": "2024-04-19T08:25:27.137461Z",
     "start_time": "2024-04-19T08:25:27.123683Z"
    }
   },
   "cell_type": "code",
   "source": [
    "def update_predicted(row):\n",
    "    if row['PREDICTED'] == 'true':\n",
    "        return 'true'\n",
    "    elif pattern.search(row['COMMENT']):\n",
    "        return 'true'\n",
    "    else:\n",
    "        return row['PREDICTED']"
   ],
   "id": "20ee2d777d51df14",
   "outputs": [],
   "execution_count": 9
  },
  {
   "metadata": {
    "ExecuteTime": {
     "end_time": "2024-04-19T08:25:27.150529Z",
     "start_time": "2024-04-19T08:25:27.138364Z"
    }
   },
   "cell_type": "code",
   "source": [
    "def in_filename(row):\n",
    "    \"\"\"\n",
    "    This function checks if a provided filename is valid based on two criteria:\n",
    "    1. The filename does not contain the string \"MSMS_Public\"\n",
    "    2. The filename matches a specific pattern (In_Silico_pattern) defined elsewhere in the code.\n",
    "\n",
    "    If both criteria are met, it returns 'true'. Otherwise, it returns the original value of 'PREDICTED'.\n",
    "    \"\"\"\n",
    "    filename = row['FILENAME']\n",
    "    if \"MSMS_Public\" not in filename and re.search(pattern, filename):\n",
    "        return 'true'\n",
    "    else:\n",
    "        return row['PREDICTED']"
   ],
   "id": "76ec2c4f4680cca7",
   "outputs": [],
   "execution_count": 10
  },
  {
   "metadata": {
    "jupyter": {
     "is_executing": true
    },
    "ExecuteTime": {
     "start_time": "2024-04-19T08:25:27.150529Z"
    }
   },
   "cell_type": "code",
   "source": "df = pd.read_excel(r\"C:\\Users\\Axel\\Documents\\PYTHON\\FragHub\\TOOLS\\spectrum_loss_TRACES\\OUTPUT\\TRACES\\TRACKER_2.xlsx\")",
   "id": "1ba10b314319b53d",
   "outputs": [],
   "execution_count": null
  },
  {
   "metadata": {
    "jupyter": {
     "is_executing": true
    }
   },
   "cell_type": "code",
   "source": [
    "# Supposons que `df` est votre DataFrame et 'INSTRUMENTTYPE' est le nom de la colonne\n",
    "df = df[df['INSTRUMENTTYPE'].str.contains('LC')]"
   ],
   "id": "b9c97d2a34303ce4",
   "outputs": [],
   "execution_count": null
  },
  {
   "metadata": {
    "jupyter": {
     "is_executing": true
    }
   },
   "cell_type": "code",
   "source": [
    "df['PREDICTED'] = df.apply(update_predicted, axis=1)\n",
    "df['PREDICTED'] = df.apply(in_filename, axis=1)"
   ],
   "id": "467886d2f28306ba",
   "outputs": [],
   "execution_count": null
  },
  {
   "metadata": {
    "jupyter": {
     "is_executing": true
    }
   },
   "cell_type": "code",
   "source": "df = df[df['PREDICTED'] != 'true']",
   "id": "c680797ebca81680",
   "outputs": [],
   "execution_count": null
  },
  {
   "metadata": {
    "jupyter": {
     "is_executing": true
    }
   },
   "cell_type": "code",
   "source": [
    "total_no_smiles_no_inchi = (df['no_smiles_no_inchi'] == 1).sum()\n",
    "total_no_or_bad_precursormz_and_no_or_bad_addcut = (df['no_or_bad_precursormz_and_no_or_bad_addcut'] == 1).sum()\n",
    "total_no_peaks_list = (df['no_peaks_list'] == 1).sum()\n",
    "total_peaks_filters_not_valid = (df['peaks_filters_not_valid'] == 1).sum()"
   ],
   "id": "c2047c82f764b4f2",
   "outputs": [],
   "execution_count": null
  },
  {
   "metadata": {
    "jupyter": {
     "is_executing": true
    }
   },
   "cell_type": "code",
   "source": [
    "# Imprimer les résultats\n",
    "print('Total no_smiles_no_inchi:', total_no_smiles_no_inchi)\n",
    "print('Total no_or_bad_precursormz_and_no_or_bad_addcut:', total_no_or_bad_precursormz_and_no_or_bad_addcut)\n",
    "print('Total no_peaks_list:', total_no_peaks_list)\n",
    "print('Total peaks_filters_not_valid:', total_peaks_filters_not_valid)"
   ],
   "id": "1ee1968a67b7692d",
   "outputs": [],
   "execution_count": null
  }
 ],
 "metadata": {
  "kernelspec": {
   "display_name": "Python 3",
   "language": "python",
   "name": "python3"
  },
  "language_info": {
   "codemirror_mode": {
    "name": "ipython",
    "version": 2
   },
   "file_extension": ".py",
   "mimetype": "text/x-python",
   "name": "python",
   "nbconvert_exporter": "python",
   "pygments_lexer": "ipython2",
   "version": "2.7.6"
  }
 },
 "nbformat": 4,
 "nbformat_minor": 5
}
