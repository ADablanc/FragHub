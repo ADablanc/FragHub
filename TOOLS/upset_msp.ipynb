{
 "cells": [
  {
   "cell_type": "code",
   "execution_count": null,
   "outputs": [],
   "source": [
    "from upsetplot import *\n",
    "from matplotlib import pyplot\n",
    "import pandas as pd\n",
    "import os"
   ],
   "metadata": {
    "collapsed": false
   },
   "id": "168438f38cadb39d"
  },
  {
   "cell_type": "code",
   "execution_count": null,
   "outputs": [],
   "source": [
    "path= r\"C:\\Users\\Axel\\PycharmProjects\\msp_v3\\TOOLS\\Generate_csv_from_original_files\\output\""
   ],
   "metadata": {
    "collapsed": false
   },
   "id": "45d09d39a301e5b8"
  },
  {
   "cell_type": "code",
   "outputs": [],
   "source": [
    "\n",
    "concatenated_df = pd.DataFrame()"
   ],
   "metadata": {
    "collapsed": false
   },
   "id": "1e2efab59dbd1bb7",
   "execution_count": null
  },
  {
   "cell_type": "code",
   "outputs": [],
   "source": [
    "for files in os.listdir(path):\n",
    "    if files.endswith(\".csv\") and files != \"concats.csv\":\n",
    "        try:\n",
    "            df = pd.read_csv(os.path.join(path,files), sep=\";\",quotechar='\"', encoding=\"UTF-8\")\n",
    "\n",
    "            concatenated_df = pd.concat([concatenated_df, df], axis=0)\n",
    "        except:\n",
    "            continue"
   ],
   "metadata": {
    "collapsed": false
   },
   "id": "ec7a9ee6143aa277",
   "execution_count": null
  },
  {
   "cell_type": "code",
   "outputs": [],
   "source": [
    "concatenated_df = concatenated_df[['FILENAME', 'INCHIKEY']]"
   ],
   "metadata": {
    "collapsed": false
   },
   "id": "ec24fdccce4a15e7",
   "execution_count": null
  },
  {
   "cell_type": "code",
   "outputs": [],
   "source": [
    "concatenated_df = concatenated_df[concatenated_df['PREDICTED'] != 'true']"
   ],
   "metadata": {
    "collapsed": false
   },
   "id": "c0d6b39edc48f34d",
   "execution_count": null
  },
  {
   "cell_type": "code",
   "outputs": [],
   "source": [
    "# Utilisez la méthode rename() avec des expressions régulières\n",
    "concatenated_df[\"FILENAME\"] = concatenated_df[\"FILENAME\"].replace(r'.*MSMS_.*', 'RIKEN', regex=True)\n",
    "concatenated_df[\"FILENAME\"] = concatenated_df[\"FILENAME\"].replace(r'.*MoNA.*', 'MoNA', regex=True)\n",
    "concatenated_df[\"FILENAME\"] = concatenated_df[\"FILENAME\"].replace(r'.*XML_.*', 'HMDB', regex=True)\n",
    "concatenated_df[\"FILENAME\"] = concatenated_df[\"FILENAME\"].replace(r'.*MassBank.*', 'MassBank', regex=True)\n",
    "concatenated_df[\"FILENAME\"] = concatenated_df[\"FILENAME\"].replace(r'.*ALL_GNPS.*', 'GNPS', regex=True)\n",
    "concatenated_df[\"FILENAME\"] = concatenated_df[\"FILENAME\"].replace(r'.*HMDB.*', 'HMDB', regex=True)\n",
    "concatenated_df[\"FILENAME\"] = concatenated_df[\"FILENAME\"].replace(r'.*UNPD.*', 'UNPD', regex=True)"
   ],
   "metadata": {
    "collapsed": false
   },
   "id": "f3ec7c77abffc39d",
   "execution_count": null
  },
  {
   "cell_type": "code",
   "outputs": [],
   "source": [
    "\n",
    "# Créez une nouvelle colonne d'index\n",
    "nouvel_index = range(1, len(concatenated_df) + 1)"
   ],
   "metadata": {
    "collapsed": false
   },
   "id": "a407acca81eb33f5",
   "execution_count": null
  },
  {
   "cell_type": "code",
   "outputs": [],
   "source": [
    "\n",
    "# Ajoutez cette colonne d'index au DataFrame pivot_df\n",
    "concatenated_df['Index'] = nouvel_index"
   ],
   "metadata": {
    "collapsed": false
   },
   "id": "f1486b12f88b0936",
   "execution_count": null
  },
  {
   "cell_type": "code",
   "outputs": [],
   "source": [
    "\n",
    "# Réorganisez les colonnes pour mettre la nouvelle colonne d'index en première position\n",
    "df = concatenated_df[['Index'] + [col for col in concatenated_df.columns if col != 'Index']]"
   ],
   "metadata": {
    "collapsed": false
   },
   "id": "ff552634b47e20f0",
   "execution_count": null
  },
  {
   "cell_type": "code",
   "outputs": [],
   "source": [
    "# Utilisez la fonction pivot pour réorganiser les données\n",
    "pivot_df = df.pivot(index='Index', columns='FILENAME', values='INCHIKEY')"
   ],
   "metadata": {
    "collapsed": false
   },
   "id": "c2dc5ff43a2907ba",
   "execution_count": null
  },
  {
   "cell_type": "code",
   "outputs": [],
   "source": [
    "print(pivot_df)"
   ],
   "metadata": {
    "collapsed": false
   },
   "id": "7f8b54c6684ffd9b",
   "execution_count": null
  },
  {
   "cell_type": "code",
   "outputs": [],
   "source": [
    "# Remplacez les valeurs non définies par une chaîne vide\n",
    "pivot_df = pivot_df.fillna('')"
   ],
   "metadata": {
    "collapsed": false
   },
   "id": "c34fb58b336126fa",
   "execution_count": null
  },
  {
   "cell_type": "code",
   "execution_count": null,
   "outputs": [],
   "source": [
    "pivot_df = pivot_df.to_dict('list')"
   ],
   "metadata": {
    "collapsed": false
   },
   "id": "2d0e7371359b2623"
  },
  {
   "cell_type": "code",
   "execution_count": null,
   "outputs": [],
   "source": [
    "for key,val in pivot_df.items():\n",
    "    print(key)\n",
    "    pivot_df[key] = list(set(val))"
   ],
   "metadata": {
    "collapsed": false
   },
   "id": "be7aa36795a7c3f5"
  },
  {
   "cell_type": "code",
   "execution_count": null,
   "outputs": [],
   "source": [
    "print(pivot_df)"
   ],
   "metadata": {
    "collapsed": false
   },
   "id": "de879bf23f75e9e2"
  },
  {
   "cell_type": "code",
   "execution_count": null,
   "outputs": [],
   "source": [
    "upset_data = from_contents(pivot_df)"
   ],
   "metadata": {
    "collapsed": false
   },
   "id": "43ebac0e9f5525a"
  },
  {
   "cell_type": "code",
   "execution_count": null,
   "outputs": [],
   "source": [
    "ax_dict = UpSet(upset_data, subset_size='count', show_counts=False, element_size=200).plot()"
   ],
   "metadata": {
    "collapsed": false
   },
   "id": "3aa96079b59b18cf"
  },
  {
   "cell_type": "code",
   "outputs": [],
   "source": [],
   "metadata": {
    "collapsed": false
   },
   "id": "874630939496430f"
  }
 ],
 "metadata": {
  "kernelspec": {
   "display_name": "Python 3",
   "language": "python",
   "name": "python3"
  },
  "language_info": {
   "codemirror_mode": {
    "name": "ipython",
    "version": 2
   },
   "file_extension": ".py",
   "mimetype": "text/x-python",
   "name": "python",
   "nbconvert_exporter": "python",
   "pygments_lexer": "ipython2",
   "version": "2.7.6"
  }
 },
 "nbformat": 4,
 "nbformat_minor": 5
}
